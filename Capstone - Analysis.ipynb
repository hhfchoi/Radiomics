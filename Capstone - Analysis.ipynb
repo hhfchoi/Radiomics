{
 "cells": [
  {
   "cell_type": "markdown",
   "metadata": {
    "colab_type": "text",
    "id": "PtSbyHFKHRw9"
   },
   "source": [
    "## Main analysis for Capstone"
   ]
  },
  {
   "cell_type": "markdown",
   "metadata": {
    "colab_type": "text",
    "id": "xjUfOYeZHRxB"
   },
   "source": [
    "Importing all libraries first"
   ]
  },
  {
   "cell_type": "code",
   "execution_count": 1,
   "metadata": {
    "colab": {
     "base_uri": "https://localhost:8080/",
     "height": 377
    },
    "colab_type": "code",
    "id": "107pFB3nqo-X",
    "outputId": "7131c4b4-37af-43b2-ab48-6d0a0ecea573"
   },
   "outputs": [
    {
     "name": "stdout",
     "output_type": "stream",
     "text": [
      "Collecting lifelines\n",
      "\u001b[?25l  Downloading https://files.pythonhosted.org/packages/d9/e2/aac7639bf5469b3a34b684fade6abaf837a9bedc78306d0f148d3fbc515c/lifelines-0.24.2-py2.py3-none-any.whl (416kB)\n",
      "\u001b[K     |████████████████████████████████| 419kB 46.8MB/s eta 0:00:01\n",
      "\u001b[?25hRequirement already satisfied: scipy>=1.2.0 in /usr/local/lib/python3.6/dist-packages (from lifelines) (1.4.1)\n",
      "Requirement already satisfied: numpy>=1.14.0 in /usr/local/lib/python3.6/dist-packages (from lifelines) (1.18.2)\n",
      "Requirement already satisfied: autograd>=1.3 in /usr/local/lib/python3.6/dist-packages (from lifelines) (1.3)\n",
      "Requirement already satisfied: pandas>=0.23.0 in /usr/local/lib/python3.6/dist-packages (from lifelines) (0.25.3)\n",
      "Requirement already satisfied: matplotlib>=3.0 in /usr/local/lib/python3.6/dist-packages (from lifelines) (3.2.0)\n",
      "Collecting autograd-gamma>=0.3\n",
      "  Downloading https://files.pythonhosted.org/packages/0a/07/d99339c9420b58b723a9189d1373e5c3889758b2202a1a7fe4a3b7a10c5a/autograd_gamma-0.4.2-py2.py3-none-any.whl\n",
      "Requirement already satisfied: future>=0.15.2 in /usr/local/lib/python3.6/dist-packages (from autograd>=1.3->lifelines) (0.16.0)\n",
      "Requirement already satisfied: python-dateutil>=2.6.1 in /usr/local/lib/python3.6/dist-packages (from pandas>=0.23.0->lifelines) (2.8.1)\n",
      "Requirement already satisfied: pytz>=2017.2 in /usr/local/lib/python3.6/dist-packages (from pandas>=0.23.0->lifelines) (2018.9)\n",
      "Requirement already satisfied: cycler>=0.10 in /usr/local/lib/python3.6/dist-packages (from matplotlib>=3.0->lifelines) (0.10.0)\n",
      "Requirement already satisfied: kiwisolver>=1.0.1 in /usr/local/lib/python3.6/dist-packages (from matplotlib>=3.0->lifelines) (1.1.0)\n",
      "Requirement already satisfied: pyparsing!=2.0.4,!=2.1.2,!=2.1.6,>=2.0.1 in /usr/local/lib/python3.6/dist-packages (from matplotlib>=3.0->lifelines) (2.4.6)\n",
      "Requirement already satisfied: six>=1.5 in /usr/local/lib/python3.6/dist-packages (from python-dateutil>=2.6.1->pandas>=0.23.0->lifelines) (1.12.0)\n",
      "Requirement already satisfied: setuptools in /usr/local/lib/python3.6/dist-packages (from kiwisolver>=1.0.1->matplotlib>=3.0->lifelines) (46.0.0)\n",
      "Installing collected packages: autograd-gamma, lifelines\n",
      "Successfully installed autograd-gamma-0.4.2 lifelines-0.24.2\n"
     ]
    }
   ],
   "source": [
    "# For Google Colab, have to run this every time at startup\n",
    "!pip install lifelines"
   ]
  },
  {
   "cell_type": "code",
   "execution_count": 1,
   "metadata": {
    "colab": {
     "base_uri": "https://localhost:8080/",
     "height": 63
    },
    "colab_type": "code",
    "id": "zRo8GrEhHRxE",
    "outputId": "a394b0c5-3e2c-45e4-c0b8-137bd2557ef7"
   },
   "outputs": [],
   "source": [
    "import pandas as pd\n",
    "import numpy as np\n",
    "import matplotlib.pyplot as plt\n",
    "%matplotlib inline\n",
    "import seaborn as sns\n",
    "import collections\n",
    "\n",
    "import warnings\n",
    "warnings.filterwarnings(\"ignore\")\n",
    "import joblib\n",
    "\n",
    "from scipy.stats import boxcox\n",
    "from statsmodels.graphics.gofplots import qqplot\n",
    "from statsmodels.stats.weightstats import ttest_ind\n",
    "\n",
    "from sklearn.preprocessing import StandardScaler, LabelBinarizer\n",
    "from sklearn.decomposition import PCA, KernelPCA\n",
    "from sklearn.pipeline import Pipeline\n",
    "from sklearn.model_selection import train_test_split, cross_val_score, GridSearchCV\n",
    "from sklearn.linear_model import LogisticRegression\n",
    "from sklearn.tree import DecisionTreeClassifier\n",
    "from sklearn.ensemble import RandomForestClassifier\n",
    "from sklearn.svm import SVC\n",
    "from xgboost import XGBClassifier\n",
    "from sklearn.discriminant_analysis import QuadraticDiscriminantAnalysis\n",
    "from sklearn.metrics import confusion_matrix, classification_report, cohen_kappa_score\n",
    "\n",
    "from sklearn.cluster import KMeans, OPTICS\n",
    "\n",
    "from imblearn.over_sampling import SMOTE, ADASYN, SVMSMOTE\n",
    "from imblearn.pipeline import Pipeline as imPipeline\n",
    "\n",
    "#import tensorflow as tf\n",
    "\n",
    "from lifelines import KaplanMeierFitter\n",
    "from lifelines.utils import median_survival_times\n",
    "from lifelines.statistics import survival_difference_at_fixed_point_in_time_test\n",
    "\n",
    "from sklearn.mixture import GaussianMixture"
   ]
  },
  {
   "cell_type": "markdown",
   "metadata": {
    "colab_type": "text",
    "id": "46tVJDZYHRxJ"
   },
   "source": [
    "First load the source csv file into `pandas`:"
   ]
  },
  {
   "cell_type": "code",
   "execution_count": 3,
   "metadata": {
    "colab": {
     "base_uri": "https://localhost:8080/",
     "height": 122
    },
    "colab_type": "code",
    "id": "Bl4rIjarH0aW",
    "outputId": "80a0f136-f183-4e55-a98e-0a54b1f85b40"
   },
   "outputs": [
    {
     "name": "stdout",
     "output_type": "stream",
     "text": [
      "Go to this URL in a browser: https://accounts.google.com/o/oauth2/auth?client_id=947318989803-6bn6qk8qdgf4n4g3pfee6491hc0brc4i.apps.googleusercontent.com&redirect_uri=urn%3aietf%3awg%3aoauth%3a2.0%3aoob&response_type=code&scope=email%20https%3a%2f%2fwww.googleapis.com%2fauth%2fdocs.test%20https%3a%2f%2fwww.googleapis.com%2fauth%2fdrive%20https%3a%2f%2fwww.googleapis.com%2fauth%2fdrive.photos.readonly%20https%3a%2f%2fwww.googleapis.com%2fauth%2fpeopleapi.readonly\n",
      "\n",
      "Enter your authorization code:\n",
      "··········\n",
      "Mounted at /content/drive\n"
     ]
    }
   ],
   "source": [
    "from google.colab import drive\n",
    "drive.mount('/content/drive')"
   ]
  },
  {
   "cell_type": "code",
   "execution_count": 2,
   "metadata": {
    "colab": {},
    "colab_type": "code",
    "id": "3T9r-EYcHRxK"
   },
   "outputs": [],
   "source": [
    "# To load the csv file from my local computer\n",
    "df_grand = pd.read_csv('NSCLC-Radiomics-agg-padded.csv')"
   ]
  },
  {
   "cell_type": "markdown",
   "metadata": {
    "colab_type": "text",
    "id": "IGfVLvzpHRxP"
   },
   "source": [
    "Define some boolean variables based on whether the patient has died (`deadstatus.event`==1) and the registered survival time of the patient. For this study, we look at the patients at 1-year, 3-year, and 5-year marks."
   ]
  },
  {
   "cell_type": "code",
   "execution_count": 3,
   "metadata": {
    "colab": {},
    "colab_type": "code",
    "id": "IYAP8-ThHRxR"
   },
   "outputs": [],
   "source": [
    "dead = df_grand['deadstatus.event'].astype(bool)\n",
    "\n",
    "mask_1yr = (df_grand['Survival.time'] >= 365)\n",
    "mask_3yr = (df_grand['Survival.time'] >= 3*365)\n",
    "mask_5yr = (df_grand['Survival.time'] >= 5*365)"
   ]
  },
  {
   "cell_type": "code",
   "execution_count": 4,
   "metadata": {
    "colab": {},
    "colab_type": "code",
    "id": "YHe22pLVHRxX"
   },
   "outputs": [],
   "source": [
    "df_tf = df_grand.copy()"
   ]
  },
  {
   "cell_type": "markdown",
   "metadata": {
    "colab_type": "text",
    "id": "aAUiLM70HRxb"
   },
   "source": [
    "Transforming data based on EDA:"
   ]
  },
  {
   "cell_type": "code",
   "execution_count": 5,
   "metadata": {
    "colab": {},
    "colab_type": "code",
    "id": "Xt8L_r4hHRxd"
   },
   "outputs": [],
   "source": [
    "# Originally, define a small epsilon such that features can be log-transformed after zero-padding\n",
    "# All tumours have since been aggregated, so zero-padding is no longer necessary\n",
    "eps = 0\n",
    "\n",
    "for i in range(1):\n",
    "    str_i = str(i)\n",
    "    \n",
    "    # Shape\n",
    "    df_tf.drop(columns=['shape_VoxelVolume_'+str_i, \n",
    "                        'shape_Maximum2DDiameterColumn_'+str_i, \n",
    "                        'shape_Maximum2DDiameterRow_'+str_i], inplace=True)\n",
    "    \n",
    "    df_tf['log_shape_MeshVolume_'+str_i] = np.log( df_tf['shape_MeshVolume_'+str_i] + eps )\n",
    "    df_tf.drop(columns=['shape_MeshVolume_' + str_i])\n",
    "    \n",
    "    # GLDM\n",
    "    df_tf.drop(columns=['gldm_LargeDependenceEmphasis_'+str_i], \n",
    "               inplace = True)\n",
    "    \n",
    "    df_tf['log_gldm_GrayLevelVariance_' + str_i] = np.log(df_tf['gldm_GrayLevelVariance_' + str_i] + eps)\n",
    "    df_tf['log_gldm_DependenceNonUniformity_' + str_i] = np.log(df_tf['gldm_DependenceNonUniformity_' + str_i] + eps)\n",
    "    df_tf['log_gldm_GrayLevelNonUniformity_' + str_i] = np.log(df_tf['gldm_GrayLevelNonUniformity_' + str_i] + eps)\n",
    "    df_tf['bc_gldm_LargeDependenceLowGrayLevelEmphasis_' \n",
    "          + str_i] = boxcox(df_tf['gldm_LargeDependenceLowGrayLevelEmphasis_' + str_i] + eps)[0]\n",
    "    df_tf['bc_gldm_SmallDependenceLowGrayLevelEmphasis_' \n",
    "          + str_i] = boxcox(df_tf['gldm_SmallDependenceLowGrayLevelEmphasis_' + str_i] + eps)[0]\n",
    "    df_tf['bc_gldm_LowGrayLevelEmphasis_' + str_i] = boxcox(df_tf['gldm_LowGrayLevelEmphasis_' + str_i] + eps)[0]\n",
    "    \n",
    "    df_tf.drop(columns=['gldm_GrayLevelVariance_' + str_i,\n",
    "                        'gldm_DependenceNonUniformity_' + str_i,\n",
    "                        'gldm_GrayLevelNonUniformity_' + str_i,\n",
    "                        'gldm_LargeDependenceLowGrayLevelEmphasis_' + str_i,\n",
    "                        'gldm_SmallDependenceLowGrayLevelEmphasis_' + str_i,\n",
    "                        'gldm_LowGrayLevelEmphasis_' + str_i], inplace=True)\n",
    "    \n",
    "    # GLCM\n",
    "    df_tf.drop(columns=['glcm_SumAverage_' + str_i, \n",
    "                        'glcm_JointAverage_' + str_i,\n",
    "                        'glcm_SumEntropy_' + str_i,\n",
    "                        'glcm_DifferenceEntropy_' + str_i,\n",
    "                        'glcm_Id_' + str_i,\n",
    "                        'glcm_Idn_' + str_i,\n",
    "                        'glcm_ClusterTendency_' + str_i,\n",
    "                        'glcm_Contrast_' + str_i], inplace=True)\n",
    "    df_tf['bc_glcm_JointEnergy_' + str_i] = boxcox(df_tf['glcm_JointEnergy_' + str_i] + eps)[0]\n",
    "    df_tf['log_glcm_DifferenceVariance_' + str_i] = np.log(df_tf['glcm_DifferenceVariance_' + str_i] + eps)\n",
    "    df_tf['log_glcm_SumSquares_' + str_i] = np.log(df_tf['glcm_SumSquares_' + str_i] + eps)\n",
    "    df_tf['bc_glcm_ClusterProminence_' + str_i] = boxcox(df_tf['glcm_ClusterProminence_' + str_i] + eps)[0]\n",
    "    df_tf['bc_glcm_DifferenceAverage_' + str_i] = boxcox(df_tf['glcm_DifferenceAverage_' + str_i] + eps)[0]\n",
    "    \n",
    "    df_tf.drop(columns=['glcm_JointEnergy_' + str_i,\n",
    "                        'glcm_DifferenceVariance_' + str_i,\n",
    "                        'glcm_SumSquares_' + str_i,\n",
    "                        'glcm_ClusterProminence_' + str_i,\n",
    "                        'glcm_DifferenceAverage_' + str_i], inplace=True)\n",
    "    \n",
    "    # First order\n",
    "    df_tf.drop(columns=['firstorder_RobustMeanAbsoluteDeviation_' + str_i, \n",
    "                        'firstorder_MeanAbsoluteDeviation_' + str_i,\n",
    "                        'firstorder_TotalEnergy_' + str_i], inplace=True)\n",
    "    df_tf['bc_firstorder_InterquartileRange_' + str_i] = boxcox(df_tf['firstorder_InterquartileRange_' + str_i] + eps)[0]\n",
    "    df_tf['log_firstorder_Energy_' + str_i] = np.log(df_tf['firstorder_Energy_' + str_i] + eps)\n",
    "    df_tf['log_firstorder_Kurtosis_' + str_i] = np.log(df_tf['firstorder_Kurtosis_' + str_i] + eps)\n",
    "    df_tf['log_firstorder_RootMeanSquared_' + str_i] = np.log(df_tf['firstorder_RootMeanSquared_' + str_i] + eps)\n",
    "    \n",
    "    # GLRLM\n",
    "    df_tf.drop(columns=['glrlm_ShortRunLowGrayLevelEmphasis_' + str_i,\n",
    "                        'glrlm_LowGrayLevelRunEmphasis_' + str_i,\n",
    "                        'glrlm_LongRunEmphasis_' + str_i,\n",
    "                        'glrlm_RunLengthNonUniformityNormalized_' + str_i,\n",
    "                        'glrlm_ShortRunEmphasis_' + str_i], inplace=True)\n",
    "    df_tf['log_glrlm_GrayLevelVariance_' + str_i] = np.log(df_tf['glrlm_GrayLevelVariance_' + str_i] + eps)\n",
    "    df_tf['log_glrlm_RunVariance_' + str_i] = np.log(df_tf['glrlm_RunVariance_' + str_i] + eps)\n",
    "    df_tf['log_glrlm_GrayLevelNonUniformity_' + str_i] = np.log(df_tf['glrlm_GrayLevelNonUniformity_' + str_i] + eps)\n",
    "    df_tf['log_glrlm_RunLengthNonUniformity_' + str_i] = np.log(df_tf['glrlm_RunLengthNonUniformity_' + str_i] + eps)\n",
    "    df_tf['bc_glrlm_LongRunLowGrayLevelEmphasis_' + str_i] = boxcox(df_tf['glrlm_LongRunLowGrayLevelEmphasis_' \n",
    "                                                                          + str_i] + eps)[0]\n",
    "    \n",
    "    df_tf.drop(columns=['glrlm_GrayLevelVariance_' + str_i,\n",
    "                        'glrlm_RunVariance_' + str_i,\n",
    "                        'glrlm_GrayLevelNonUniformity_' + str_i,\n",
    "                        'glrlm_RunLengthNonUniformity_' + str_i,\n",
    "                        'glrlm_LongRunLowGrayLevelEmphasis_' + str_i], inplace = True)\n",
    "    \n",
    "    # GLSZM\n",
    "    df_tf.drop(columns=['glszm_LargeAreaEmphasis_' + str_i,\n",
    "                        'glszm_LargeAreaHighGrayLevelEmphasis_' + str_i,\n",
    "                        'glszm_SmallAreaEmphasis_' + str_i,\n",
    "                        'glszm_SmallAreaHighGrayLevelEmphasis_' + str_i,\n",
    "                        'glszm_SmallAreaLowGrayLevelEmphasis_' + str_i], inplace=True)\n",
    "    df_tf['log_glszm_GrayLevelVariance_' + str_i] = boxcox(df_tf['glszm_GrayLevelVariance_' + str_i] + eps)[0]\n",
    "    df_tf['bc_glszm_ZoneVariance_' + str_i] = boxcox(df_tf['glszm_ZoneVariance_' + str_i] + eps)[0]\n",
    "    df_tf['log_glszm_GrayLevelNonUniformityNormalized_' + str_i] = np.log(df_tf['glszm_GrayLevelNonUniformityNormalized_' \n",
    "                                                                                + str_i] + eps)\n",
    "    df_tf['log_glszm_SizeZoneNonUniformity_' + str_i] = np.log(df_tf['glszm_SizeZoneNonUniformity_' + str_i] + eps)\n",
    "    df_tf['log_glszm_GrayLevelNonUniformity_' + str_i] = np.log(df_tf['glszm_GrayLevelNonUniformity_' + str_i] + eps)\n",
    "    df_tf['log_glszm_ZonePercentage_' + str_i] = np.log(df_tf['glszm_ZonePercentage_' + str_i] + eps)\n",
    "    df_tf['log_glszm_LargeAreaLowGrayLevelEmphasis_' + str_i] = np.log(df_tf['glszm_LargeAreaLowGrayLevelEmphasis_' \n",
    "                                                                             + str_i] + eps)\n",
    "    df_tf['bc_glszm_LowGrayLevelZoneEmphasis_' + str_i] = boxcox(df_grand['glszm_LowGrayLevelZoneEmphasis_' + str_i] + eps)[0]\n",
    "    \n",
    "    df_tf.drop(columns=['glszm_GrayLevelVariance_' + str_i,\n",
    "                        'glszm_ZoneVariance_' + str_i,\n",
    "                        'glszm_GrayLevelNonUniformityNormalized_' + str_i,\n",
    "                        'glszm_SizeZoneNonUniformity_' + str_i,\n",
    "                        'glszm_GrayLevelNonUniformity_' + str_i,\n",
    "                        'glszm_ZonePercentage_' + str_i,\n",
    "                        'glszm_LargeAreaLowGrayLevelEmphasis_' + str_i,\n",
    "                        'glszm_LowGrayLevelZoneEmphasis_' + str_i], inplace=True)"
   ]
  },
  {
   "cell_type": "markdown",
   "metadata": {},
   "source": [
    "How many features are left? And which columns are the features?"
   ]
  },
  {
   "cell_type": "code",
   "execution_count": 6,
   "metadata": {
    "colab": {},
    "colab_type": "code",
    "id": "-z3THaW9HRxn"
   },
   "outputs": [],
   "source": [
    "# Number of features at the end\n",
    "num_feat = len(df_tf.columns[df_tf.columns.str.contains('_0')])"
   ]
  },
  {
   "cell_type": "code",
   "execution_count": 7,
   "metadata": {
    "colab": {},
    "colab_type": "code",
    "id": "EygGD0LAiAv7"
   },
   "outputs": [],
   "source": [
    "feat_mask = df_tf.columns.str.contains('_0')"
   ]
  },
  {
   "cell_type": "markdown",
   "metadata": {
    "colab_type": "text",
    "id": "MTG7M9BrHRx2"
   },
   "source": [
    "---\n",
    "### 1-year analysis:"
   ]
  },
  {
   "cell_type": "markdown",
   "metadata": {
    "colab_type": "text",
    "id": "8l0DCVHZHRx4"
   },
   "source": [
    "We look at patients satisfying one of the two following criteria:\n",
    "- The patient has passed away, and his/ her survival time is definite; OR\n",
    "- The patient has survived past the 1-year mark regardless whether the patient has passed away"
   ]
  },
  {
   "cell_type": "code",
   "execution_count": 12,
   "metadata": {
    "colab": {},
    "colab_type": "code",
    "id": "EIKdLGfhHRx5"
   },
   "outputs": [],
   "source": [
    "X1 = df_tf[mask_1yr | dead][df_tf.columns[feat_mask]]\n",
    "y1 = (df_tf[mask_1yr | dead]['Survival.time']> 365).astype(int)"
   ]
  },
  {
   "cell_type": "code",
   "execution_count": 13,
   "metadata": {
    "colab": {},
    "colab_type": "code",
    "id": "s3LqmTmTHRx9"
   },
   "outputs": [],
   "source": [
    "X1 = X1.astype(float)"
   ]
  },
  {
   "cell_type": "markdown",
   "metadata": {
    "colab_type": "text",
    "id": "yCoBXAiRHRyB"
   },
   "source": [
    "Looking at the total number of patients being studied here:"
   ]
  },
  {
   "cell_type": "code",
   "execution_count": 10,
   "metadata": {
    "colab": {
     "base_uri": "https://localhost:8080/",
     "height": 34
    },
    "colab_type": "code",
    "id": "OuZZIrakHRyC",
    "outputId": "69a72e3d-7c78-4ce8-9d42-f59a797454a6"
   },
   "outputs": [
    {
     "data": {
      "text/plain": [
       "(418,)"
      ]
     },
     "execution_count": 10,
     "metadata": {},
     "output_type": "execute_result"
    }
   ],
   "source": [
    "y1.shape"
   ]
  },
  {
   "cell_type": "markdown",
   "metadata": {
    "colab_type": "text",
    "id": "fh-nV3M3HRyK"
   },
   "source": [
    "Split the data into training set and test set:"
   ]
  },
  {
   "cell_type": "code",
   "execution_count": 14,
   "metadata": {
    "colab": {},
    "colab_type": "code",
    "id": "-KyibUusHRyL"
   },
   "outputs": [],
   "source": [
    "X1_train, X1_test, y1_train, y1_test = train_test_split(X1, y1, test_size=0.3, random_state=1)"
   ]
  },
  {
   "cell_type": "markdown",
   "metadata": {
    "colab_type": "text",
    "id": "pjqfWI6AHRyQ"
   },
   "source": [
    "Look at the class imbalance:"
   ]
  },
  {
   "cell_type": "code",
   "execution_count": null,
   "metadata": {
    "colab": {
     "base_uri": "https://localhost:8080/",
     "height": 68
    },
    "colab_type": "code",
    "id": "NKWgXGoNHRyR",
    "outputId": "2de7ec02-bade-4568-b1e2-f46d5d4b0488"
   },
   "outputs": [
    {
     "data": {
      "text/plain": [
       "1    190\n",
       "0    102\n",
       "Name: Survival.time, dtype: int64"
      ]
     },
     "execution_count": 76,
     "metadata": {
      "tags": []
     },
     "output_type": "execute_result"
    }
   ],
   "source": [
    "y1_train.value_counts()"
   ]
  },
  {
   "cell_type": "markdown",
   "metadata": {
    "colab_type": "text",
    "id": "gTGgh9s7HRyV"
   },
   "source": [
    "Hence there are 190 patients in the training set who have survived for more than 1 year, and 102 who have not."
   ]
  },
  {
   "cell_type": "markdown",
   "metadata": {
    "colab_type": "text",
    "id": "Os2rw_WJHRyX"
   },
   "source": [
    "We scale all features in the training set such that all features centred at zero and have variances of 1. The test set is also scaled, BUT with the scaling factors determined from the training set:"
   ]
  },
  {
   "cell_type": "code",
   "execution_count": 15,
   "metadata": {
    "colab": {},
    "colab_type": "code",
    "id": "5DC-JuEHHRya"
   },
   "outputs": [],
   "source": [
    "my_scaler = StandardScaler()\n",
    "X1_train = my_scaler.fit_transform(X1_train)\n",
    "X1_test = my_scaler.transform(X1_test)"
   ]
  },
  {
   "cell_type": "markdown",
   "metadata": {
    "colab_type": "text",
    "id": "v6so7C2nHRye"
   },
   "source": [
    "Then run through various models:"
   ]
  },
  {
   "cell_type": "markdown",
   "metadata": {
    "colab_type": "text",
    "id": "NGZJlLXqHRyf"
   },
   "source": [
    "#### Logistic Regression"
   ]
  },
  {
   "cell_type": "code",
   "execution_count": null,
   "metadata": {
    "colab": {
     "base_uri": "https://localhost:8080/",
     "height": 34
    },
    "colab_type": "code",
    "id": "9_wT-7KIHRyg",
    "outputId": "65de147e-19ab-4596-f42a-9bc2dbed80ba"
   },
   "outputs": [
    {
     "data": {
      "text/plain": [
       "0.7705479452054794"
      ]
     },
     "execution_count": 78,
     "metadata": {
      "tags": []
     },
     "output_type": "execute_result"
    }
   ],
   "source": [
    "my_logit = LogisticRegression()\n",
    "my_logit.fit(X1_train, y1_train)\n",
    "my_logit.score(X1_train, y1_train)"
   ]
  },
  {
   "cell_type": "markdown",
   "metadata": {
    "colab_type": "text",
    "id": "VXXtljTDHRyl"
   },
   "source": [
    "The test accuracy for the logistic regression model is:"
   ]
  },
  {
   "cell_type": "code",
   "execution_count": null,
   "metadata": {
    "colab": {
     "base_uri": "https://localhost:8080/",
     "height": 34
    },
    "colab_type": "code",
    "id": "CslQnJtkHRym",
    "outputId": "d37dd98d-3c2a-4137-d054-00d55b6a796c"
   },
   "outputs": [
    {
     "data": {
      "text/plain": [
       "0.6111111111111112"
      ]
     },
     "execution_count": 79,
     "metadata": {
      "tags": []
     },
     "output_type": "execute_result"
    }
   ],
   "source": [
    "my_logit.score(X1_test, y1_test)"
   ]
  },
  {
   "cell_type": "markdown",
   "metadata": {
    "colab_type": "text",
    "id": "cSoheK1GHRyr"
   },
   "source": [
    "To further optimize the results, run a grid search:\n",
    "- Try LASSO (i.e. `penalty='l1'`) and Ridge regression (i.e. `penalty='l2'`)\n",
    "- Try different normalization strengths (for C, the inverse of the normalization strengths, ranging from $10^{-6}$ to $10^6$)"
   ]
  },
  {
   "cell_type": "code",
   "execution_count": null,
   "metadata": {
    "colab": {
     "base_uri": "https://localhost:8080/",
     "height": 34
    },
    "colab_type": "code",
    "id": "_aWw2Q6gHRyt",
    "outputId": "5274bc77-3cb4-414f-a950-39eb441f5cd5"
   },
   "outputs": [
    {
     "data": {
      "text/plain": [
       "['logreg_1yr.pkl']"
      ]
     },
     "execution_count": 80,
     "metadata": {
      "tags": []
     },
     "output_type": "execute_result"
    }
   ],
   "source": [
    "estimators = [('model', LogisticRegression())]\n",
    "\n",
    "pipe = Pipeline(estimators)\n",
    "\n",
    "param_grid = [{'model': [LogisticRegression(solver='saga')], \n",
    "               'model__C': [10**i for i in range(-6,7)],\n",
    "               'model__penalty': ['l1', 'l2']}]\n",
    "\n",
    "grid = GridSearchCV(pipe, param_grid, cv=5)\n",
    "fittedgrid = grid.fit(X1_train, y1_train)\n",
    "\n",
    "joblib.dump(fittedgrid, 'logreg_1yr.pkl')"
   ]
  },
  {
   "cell_type": "markdown",
   "metadata": {
    "colab_type": "text",
    "id": "oJrCZnqkHRyz"
   },
   "source": [
    "The optimized hyperparameters are:"
   ]
  },
  {
   "cell_type": "code",
   "execution_count": null,
   "metadata": {
    "colab": {
     "base_uri": "https://localhost:8080/",
     "height": 187
    },
    "colab_type": "code",
    "id": "7GsoTbIVHRy0",
    "outputId": "cf91dce1-2afe-4224-83c2-737754cd8b25"
   },
   "outputs": [
    {
     "data": {
      "text/plain": [
       "Pipeline(memory=None,\n",
       "         steps=[('model',\n",
       "                 LogisticRegression(C=0.1, class_weight=None, dual=False,\n",
       "                                    fit_intercept=True, intercept_scaling=1,\n",
       "                                    l1_ratio=None, max_iter=100,\n",
       "                                    multi_class='auto', n_jobs=None,\n",
       "                                    penalty='l2', random_state=None,\n",
       "                                    solver='saga', tol=0.0001, verbose=0,\n",
       "                                    warm_start=False))],\n",
       "         verbose=False)"
      ]
     },
     "execution_count": 81,
     "metadata": {
      "tags": []
     },
     "output_type": "execute_result"
    }
   ],
   "source": [
    "fittedgrid.best_estimator_"
   ]
  },
  {
   "cell_type": "markdown",
   "metadata": {
    "colab_type": "text",
    "id": "nhFIRwyfHRy8"
   },
   "source": [
    "The score on the training set is:"
   ]
  },
  {
   "cell_type": "code",
   "execution_count": null,
   "metadata": {
    "colab": {
     "base_uri": "https://localhost:8080/",
     "height": 34
    },
    "colab_type": "code",
    "id": "Oyn1W4HjHRy9",
    "outputId": "77ce31c5-bd29-4d83-8dd1-a36c9e58aa8b"
   },
   "outputs": [
    {
     "data": {
      "text/plain": [
       "0.7328767123287672"
      ]
     },
     "execution_count": 82,
     "metadata": {
      "tags": []
     },
     "output_type": "execute_result"
    }
   ],
   "source": [
    "fittedgrid.score(X1_train, y1_train)"
   ]
  },
  {
   "cell_type": "markdown",
   "metadata": {
    "colab_type": "text",
    "id": "TvD2QaWWHRzB"
   },
   "source": [
    "While the score on the test set is:"
   ]
  },
  {
   "cell_type": "code",
   "execution_count": null,
   "metadata": {
    "colab": {
     "base_uri": "https://localhost:8080/",
     "height": 34
    },
    "colab_type": "code",
    "id": "jVMKyB5fHRzC",
    "outputId": "e8f595d4-bfbc-4d30-eac1-381556e60a9a"
   },
   "outputs": [
    {
     "data": {
      "text/plain": [
       "0.626984126984127"
      ]
     },
     "execution_count": 83,
     "metadata": {
      "tags": []
     },
     "output_type": "execute_result"
    }
   ],
   "source": [
    "fittedgrid.score(X1_test, y1_test)"
   ]
  },
  {
   "cell_type": "markdown",
   "metadata": {
    "colab_type": "text",
    "id": "n7enw4LYHRzF"
   },
   "source": [
    "Plot some graphs! Define some lists first, then write into a dataframe:"
   ]
  },
  {
   "cell_type": "code",
   "execution_count": null,
   "metadata": {
    "colab": {},
    "colab_type": "code",
    "id": "Ougw5GhBHRzG"
   },
   "outputs": [],
   "source": [
    "logit_grid_C = fittedgrid.cv_results_['param_model__C'].data\n",
    "\n",
    "logit_grid_penalty =fittedgrid.cv_results_['param_model__penalty'].data\n",
    "\n",
    "logit_grid_score = fittedgrid.cv_results_['mean_test_score']"
   ]
  },
  {
   "cell_type": "code",
   "execution_count": null,
   "metadata": {
    "colab": {
     "base_uri": "https://localhost:8080/",
     "height": 204
    },
    "colab_type": "code",
    "id": "XL03dO3pHRzM",
    "outputId": "775ed282-a3c0-4dde-c340-3624a1d0ef4d"
   },
   "outputs": [
    {
     "data": {
      "text/html": [
       "<div>\n",
       "<style scoped>\n",
       "    .dataframe tbody tr th:only-of-type {\n",
       "        vertical-align: middle;\n",
       "    }\n",
       "\n",
       "    .dataframe tbody tr th {\n",
       "        vertical-align: top;\n",
       "    }\n",
       "\n",
       "    .dataframe thead th {\n",
       "        text-align: right;\n",
       "    }\n",
       "</style>\n",
       "<table border=\"1\" class=\"dataframe\">\n",
       "  <thead>\n",
       "    <tr style=\"text-align: right;\">\n",
       "      <th></th>\n",
       "      <th>C</th>\n",
       "      <th>penalty</th>\n",
       "      <th>score</th>\n",
       "    </tr>\n",
       "  </thead>\n",
       "  <tbody>\n",
       "    <tr>\n",
       "      <th>0</th>\n",
       "      <td>1e-06</td>\n",
       "      <td>l1</td>\n",
       "      <td>0.650731</td>\n",
       "    </tr>\n",
       "    <tr>\n",
       "      <th>1</th>\n",
       "      <td>1e-06</td>\n",
       "      <td>l2</td>\n",
       "      <td>0.650731</td>\n",
       "    </tr>\n",
       "    <tr>\n",
       "      <th>2</th>\n",
       "      <td>1e-05</td>\n",
       "      <td>l1</td>\n",
       "      <td>0.650731</td>\n",
       "    </tr>\n",
       "    <tr>\n",
       "      <th>3</th>\n",
       "      <td>1e-05</td>\n",
       "      <td>l2</td>\n",
       "      <td>0.650731</td>\n",
       "    </tr>\n",
       "    <tr>\n",
       "      <th>4</th>\n",
       "      <td>0.0001</td>\n",
       "      <td>l1</td>\n",
       "      <td>0.650731</td>\n",
       "    </tr>\n",
       "  </tbody>\n",
       "</table>\n",
       "</div>"
      ],
      "text/plain": [
       "        C penalty     score\n",
       "0   1e-06      l1  0.650731\n",
       "1   1e-06      l2  0.650731\n",
       "2   1e-05      l1  0.650731\n",
       "3   1e-05      l2  0.650731\n",
       "4  0.0001      l1  0.650731"
      ]
     },
     "execution_count": 85,
     "metadata": {
      "tags": []
     },
     "output_type": "execute_result"
    }
   ],
   "source": [
    "df_logit = pd.DataFrame({'C': logit_grid_C,\n",
    "                         'penalty': logit_grid_penalty,\n",
    "                         'score': logit_grid_score})\n",
    "df_logit.head()"
   ]
  },
  {
   "cell_type": "markdown",
   "metadata": {},
   "source": [
    "This graph is for the function of validation score as a function fo the regularization parameter for both L1 and L2 regularization:"
   ]
  },
  {
   "cell_type": "code",
   "execution_count": null,
   "metadata": {
    "colab": {
     "base_uri": "https://localhost:8080/",
     "height": 408
    },
    "colab_type": "code",
    "id": "cMJSxVTpHRzQ",
    "outputId": "277ac9f7-3132-42c7-c9c9-37d934df51fd"
   },
   "outputs": [
    {
     "data": {
      "image/png": "[encoded data removed]",
      "text/plain": [
       "<Figure size 864x432 with 1 Axes>"
      ]
     },
     "metadata": {
      "tags": []
     },
     "output_type": "display_data"
    }
   ],
   "source": [
    "plt.figure(figsize=(12,6))\n",
    "plt.plot(df_logit[df_logit['penalty']=='l2']['C'], df_logit[df_logit['penalty']=='l2']['score'], 'b--', label='Ridge')\n",
    "plt.plot(df_logit[df_logit['penalty']=='l1']['C'], df_logit[df_logit['penalty']=='l1']['score'], 'r.-', label='LASSO')\n",
    "plt.xscale('log')\n",
    "plt.xlabel('Regularization parameter C')\n",
    "plt.ylabel('Validation score')\n",
    "plt.title('Logistic Regression for 1-Year Survival')\n",
    "plt.legend()\n",
    "plt.show()"
   ]
  },
  {
   "cell_type": "markdown",
   "metadata": {
    "colab_type": "text",
    "id": "K7r3ho8SHRzT"
   },
   "source": [
    "Since the accuracy score is so low, and there is a slight imbalance in the classes, let us print out the f1-score and the confusion matrix also for the test set:"
   ]
  },
  {
   "cell_type": "code",
   "execution_count": null,
   "metadata": {
    "colab": {
     "base_uri": "https://localhost:8080/",
     "height": 170
    },
    "colab_type": "code",
    "id": "x_7wnQXjHRzU",
    "outputId": "d3cd2a69-d372-4440-9be0-bc51bf5522b0"
   },
   "outputs": [
    {
     "name": "stdout",
     "output_type": "stream",
     "text": [
      "              precision    recall  f1-score   support\n",
      "\n",
      "           0       0.48      0.26      0.34        46\n",
      "           1       0.66      0.84      0.74        80\n",
      "\n",
      "    accuracy                           0.63       126\n",
      "   macro avg       0.57      0.55      0.54       126\n",
      "weighted avg       0.60      0.63      0.59       126\n",
      "\n"
     ]
    }
   ],
   "source": [
    "y_pred_logit = fittedgrid.predict(X1_test)\n",
    "print(classification_report(y1_test, y_pred_logit))"
   ]
  },
  {
   "cell_type": "markdown",
   "metadata": {
    "colab_type": "text",
    "id": "zy5GT46RHRzb"
   },
   "source": [
    "Repeat the logistic regression with principal component analysis:"
   ]
  },
  {
   "cell_type": "code",
   "execution_count": null,
   "metadata": {
    "colab": {
     "base_uri": "https://localhost:8080/",
     "height": 34
    },
    "colab_type": "code",
    "id": "hriTzYNYHRzg",
    "outputId": "62d7c53c-e055-49ff-efa2-d270b3d46396"
   },
   "outputs": [
    {
     "data": {
      "text/plain": [
       "['logreg_pca_1yr.pkl']"
      ]
     },
     "execution_count": 88,
     "metadata": {
      "tags": []
     },
     "output_type": "execute_result"
    }
   ],
   "source": [
    "estimators = [('pca', PCA()),\n",
    "              ('model', LogisticRegression())]\n",
    "\n",
    "pipe = Pipeline(estimators)\n",
    "\n",
    "param_grid = [{'pca': [PCA()],\n",
    "               'model': [LogisticRegression(solver='saga')], \n",
    "               'pca__n_components': [x for x in range(5,num_feat,5)],\n",
    "               'model__C': [10**i for i in range(-6,7)],\n",
    "               'model__penalty': ['l1', 'l2']}]\n",
    "\n",
    "grid = GridSearchCV(pipe, param_grid, cv=5)\n",
    "fittedgrid_pca = grid.fit(X1_train, y1_train)\n",
    "\n",
    "joblib.dump(fittedgrid, 'logreg_pca_1yr.pkl')"
   ]
  },
  {
   "cell_type": "code",
   "execution_count": null,
   "metadata": {
    "colab": {
     "base_uri": "https://localhost:8080/",
     "height": 255
    },
    "colab_type": "code",
    "id": "plTbYSnJHRzj",
    "outputId": "99634aae-f14d-46ec-9d3c-cbde60e299ef"
   },
   "outputs": [
    {
     "data": {
      "text/plain": [
       "Pipeline(memory=None,\n",
       "         steps=[('pca',\n",
       "                 PCA(copy=True, iterated_power='auto', n_components=45,\n",
       "                     random_state=None, svd_solver='auto', tol=0.0,\n",
       "                     whiten=False)),\n",
       "                ('model',\n",
       "                 LogisticRegression(C=0.1, class_weight=None, dual=False,\n",
       "                                    fit_intercept=True, intercept_scaling=1,\n",
       "                                    l1_ratio=None, max_iter=100,\n",
       "                                    multi_class='auto', n_jobs=None,\n",
       "                                    penalty='l2', random_state=None,\n",
       "                                    solver='saga', tol=0.0001, verbose=0,\n",
       "                                    warm_start=False))],\n",
       "         verbose=False)"
      ]
     },
     "execution_count": 26,
     "metadata": {
      "tags": []
     },
     "output_type": "execute_result"
    }
   ],
   "source": [
    "fittedgrid_pca.best_estimator_"
   ]
  },
  {
   "cell_type": "markdown",
   "metadata": {},
   "source": [
    "What is the optimal number of principal components to be included in the analysis?"
   ]
  },
  {
   "cell_type": "code",
   "execution_count": null,
   "metadata": {
    "colab": {
     "base_uri": "https://localhost:8080/",
     "height": 34
    },
    "colab_type": "code",
    "id": "fjrKodCMfFlm",
    "outputId": "885f2a8d-802e-49d6-abb0-b1424d9f12cf"
   },
   "outputs": [
    {
     "data": {
      "text/plain": [
       "45"
      ]
     },
     "execution_count": 27,
     "metadata": {
      "tags": []
     },
     "output_type": "execute_result"
    }
   ],
   "source": [
    "fittedgrid_pca.best_params_['pca__n_components']"
   ]
  },
  {
   "cell_type": "code",
   "execution_count": null,
   "metadata": {
    "colab": {
     "base_uri": "https://localhost:8080/",
     "height": 34
    },
    "colab_type": "code",
    "id": "ONZiUpl7HRzm",
    "outputId": "67f08207-7e46-4cfa-acc7-74a16575fe0f"
   },
   "outputs": [
    {
     "data": {
      "text/plain": [
       "0.7328767123287672"
      ]
     },
     "execution_count": 15,
     "metadata": {
      "tags": []
     },
     "output_type": "execute_result"
    }
   ],
   "source": [
    "fittedgrid_pca.score(X1_train, y1_train)"
   ]
  },
  {
   "cell_type": "code",
   "execution_count": null,
   "metadata": {
    "colab": {
     "base_uri": "https://localhost:8080/",
     "height": 34
    },
    "colab_type": "code",
    "id": "S7T0bMJ5HRzt",
    "outputId": "7f7227fd-a493-4fa5-db64-e303429b5aec"
   },
   "outputs": [
    {
     "data": {
      "text/plain": [
       "0.626984126984127"
      ]
     },
     "execution_count": 16,
     "metadata": {
      "tags": []
     },
     "output_type": "execute_result"
    }
   ],
   "source": [
    "fittedgrid_pca.score(X1_test, y1_test)"
   ]
  },
  {
   "cell_type": "code",
   "execution_count": null,
   "metadata": {
    "colab": {
     "base_uri": "https://localhost:8080/",
     "height": 170
    },
    "colab_type": "code",
    "id": "OQQXiqTvHRzx",
    "outputId": "63b37381-46ef-4f90-8caf-9f4904d05c0c"
   },
   "outputs": [
    {
     "name": "stdout",
     "output_type": "stream",
     "text": [
      "              precision    recall  f1-score   support\n",
      "\n",
      "           0       0.48      0.26      0.34        46\n",
      "           1       0.66      0.84      0.74        80\n",
      "\n",
      "    accuracy                           0.63       126\n",
      "   macro avg       0.57      0.55      0.54       126\n",
      "weighted avg       0.60      0.63      0.59       126\n",
      "\n"
     ]
    }
   ],
   "source": [
    "y_pred_logit_pca = fittedgrid_pca.predict(X1_test)\n",
    "print(classification_report(y1_test, y_pred_logit_pca))"
   ]
  },
  {
   "cell_type": "markdown",
   "metadata": {},
   "source": [
    "Now define some more lists for the plot of the accuracy scores as a function of the hyperparameters:"
   ]
  },
  {
   "cell_type": "code",
   "execution_count": null,
   "metadata": {
    "colab": {},
    "colab_type": "code",
    "id": "k8Yi3PZmHRz0"
   },
   "outputs": [],
   "source": [
    "logit_pca_grid_C = fittedgrid_pca.cv_results_['param_model__C'].data\n",
    "\n",
    "logit_pca_grid_penalty =fittedgrid_pca.cv_results_['param_model__penalty'].data\n",
    "\n",
    "logit_pca_grid_score = fittedgrid_pca.cv_results_['mean_test_score']\n",
    "\n",
    "logit_pca_grid_n_components = fittedgrid_pca.cv_results_['param_pca__n_components'].data"
   ]
  },
  {
   "cell_type": "code",
   "execution_count": null,
   "metadata": {
    "colab": {
     "base_uri": "https://localhost:8080/",
     "height": 204
    },
    "colab_type": "code",
    "id": "K5GSTyVjHRz2",
    "outputId": "4df1d165-ae5e-491f-9c42-0e6ce8685754"
   },
   "outputs": [
    {
     "data": {
      "text/html": [
       "<div>\n",
       "<style scoped>\n",
       "    .dataframe tbody tr th:only-of-type {\n",
       "        vertical-align: middle;\n",
       "    }\n",
       "\n",
       "    .dataframe tbody tr th {\n",
       "        vertical-align: top;\n",
       "    }\n",
       "\n",
       "    .dataframe thead th {\n",
       "        text-align: right;\n",
       "    }\n",
       "</style>\n",
       "<table border=\"1\" class=\"dataframe\">\n",
       "  <thead>\n",
       "    <tr style=\"text-align: right;\">\n",
       "      <th></th>\n",
       "      <th>C</th>\n",
       "      <th>penalty</th>\n",
       "      <th>n_components</th>\n",
       "      <th>score</th>\n",
       "    </tr>\n",
       "  </thead>\n",
       "  <tbody>\n",
       "    <tr>\n",
       "      <th>0</th>\n",
       "      <td>1e-06</td>\n",
       "      <td>l1</td>\n",
       "      <td>5</td>\n",
       "      <td>0.650731</td>\n",
       "    </tr>\n",
       "    <tr>\n",
       "      <th>1</th>\n",
       "      <td>1e-06</td>\n",
       "      <td>l1</td>\n",
       "      <td>10</td>\n",
       "      <td>0.650731</td>\n",
       "    </tr>\n",
       "    <tr>\n",
       "      <th>2</th>\n",
       "      <td>1e-06</td>\n",
       "      <td>l1</td>\n",
       "      <td>15</td>\n",
       "      <td>0.650731</td>\n",
       "    </tr>\n",
       "    <tr>\n",
       "      <th>3</th>\n",
       "      <td>1e-06</td>\n",
       "      <td>l1</td>\n",
       "      <td>20</td>\n",
       "      <td>0.650731</td>\n",
       "    </tr>\n",
       "    <tr>\n",
       "      <th>4</th>\n",
       "      <td>1e-06</td>\n",
       "      <td>l1</td>\n",
       "      <td>25</td>\n",
       "      <td>0.650731</td>\n",
       "    </tr>\n",
       "  </tbody>\n",
       "</table>\n",
       "</div>"
      ],
      "text/plain": [
       "       C penalty n_components     score\n",
       "0  1e-06      l1            5  0.650731\n",
       "1  1e-06      l1           10  0.650731\n",
       "2  1e-06      l1           15  0.650731\n",
       "3  1e-06      l1           20  0.650731\n",
       "4  1e-06      l1           25  0.650731"
      ]
     },
     "execution_count": 32,
     "metadata": {
      "tags": []
     },
     "output_type": "execute_result"
    }
   ],
   "source": [
    "df_logit_pca = pd.DataFrame({'C': logit_pca_grid_C,\n",
    "                             'penalty': logit_pca_grid_penalty,\n",
    "                             'n_components': logit_pca_grid_n_components,\n",
    "                             'score': logit_pca_grid_score})\n",
    "df_logit_pca.head()"
   ]
  },
  {
   "cell_type": "markdown",
   "metadata": {},
   "source": [
    "First, a plot of accuracy as a function of the regularization parameter for both Ridge and LASSO:"
   ]
  },
  {
   "cell_type": "code",
   "execution_count": null,
   "metadata": {
    "colab": {
     "base_uri": "https://localhost:8080/",
     "height": 408
    },
    "colab_type": "code",
    "id": "ao34tcUyHRz9",
    "outputId": "e82ebb94-2413-41c0-e9ab-9f3347b6703e"
   },
   "outputs": [
    {
     "data": {
      "image/png": "[encoded data removed]",
      "text/plain": [
       "<Figure size 864x432 with 1 Axes>"
      ]
     },
     "metadata": {
      "tags": []
     },
     "output_type": "display_data"
    }
   ],
   "source": [
    "n_PCA = fittedgrid_pca.best_params_['pca__n_components']\n",
    "\n",
    "plt.figure(figsize=(12,6))\n",
    "plt.plot(df_logit_pca[(df_logit_pca['penalty']=='l2') & \n",
    "                      (df_logit_pca['n_components']==n_PCA)]['C'], \n",
    "         df_logit_pca[(df_logit_pca['penalty']=='l2') & \n",
    "                      (df_logit_pca['n_components']==n_PCA)]['score'], 'b--', label='Ridge')\n",
    "plt.plot(df_logit_pca[(df_logit_pca['penalty']=='l1') & \n",
    "                      (df_logit_pca['n_components']==n_PCA)]['C'], \n",
    "         df_logit_pca[(df_logit_pca['penalty']=='l1') & \n",
    "                      (df_logit_pca['n_components']==n_PCA)]['score'], 'r.-', label='LASSO')\n",
    "plt.xscale('log')\n",
    "plt.xlabel('Regularization parameter C')\n",
    "plt.ylabel('Validation score')\n",
    "plt.title('Logistic Regression for 1-Year Survival')\n",
    "plt.legend()\n",
    "plt.show()"
   ]
  },
  {
   "cell_type": "markdown",
   "metadata": {},
   "source": [
    "Then accuracy score as a function of number of principal components used:"
   ]
  },
  {
   "cell_type": "code",
   "execution_count": null,
   "metadata": {
    "colab": {
     "base_uri": "https://localhost:8080/",
     "height": 404
    },
    "colab_type": "code",
    "id": "HloN2XPpHR0C",
    "outputId": "f1efd157-ed01-4ec5-b152-f13e836b2f4e"
   },
   "outputs": [
    {
     "data": {
      "image/png": "[encoded data removed]",
      "text/plain": [
       "<Figure size 864x432 with 1 Axes>"
      ]
     },
     "metadata": {
      "tags": []
     },
     "output_type": "display_data"
    }
   ],
   "source": [
    "best_C = fittedgrid_pca.best_params_['model__C']\n",
    "\n",
    "plt.figure(figsize=(12,6))\n",
    "plt.plot(df_logit_pca[(df_logit_pca['penalty']=='l2') & \n",
    "                      (df_logit_pca['C']==best_C)]['n_components'], \n",
    "         df_logit_pca[(df_logit_pca['penalty']=='l2') & \n",
    "                      (df_logit_pca['C']==best_C)]['score'], 'b--', label='Ridge')\n",
    "plt.plot(df_logit_pca[(df_logit_pca['penalty']=='l1') & \n",
    "                      (df_logit_pca['C']==best_C)]['n_components'], \n",
    "         df_logit_pca[(df_logit_pca['penalty']=='l1') & \n",
    "                      (df_logit_pca['C']==best_C)]['score'], 'r.-', label='LASSO')\n",
    "plt.xlabel('Number of principal components')\n",
    "plt.ylabel('Validation score')\n",
    "plt.title('Logistic Regression for 1-Year Survival')\n",
    "plt.legend()\n",
    "plt.show()"
   ]
  },
  {
   "cell_type": "markdown",
   "metadata": {},
   "source": [
    "It is interesting that for LASSO, using more than 5 principal components will not make a difference in the accuracy score. That may be because the regularization forces the coefficients in front of the other principal components to be zero anyway."
   ]
  },
  {
   "cell_type": "code",
   "execution_count": null,
   "metadata": {
    "colab": {
     "base_uri": "https://localhost:8080/",
     "height": 34
    },
    "colab_type": "code",
    "id": "mCYLC3SKHR0F",
    "outputId": "8d65e9fe-e2d7-4d27-ecfb-25dd413820ac"
   },
   "outputs": [
    {
     "data": {
      "text/plain": [
       "0.7328767123287672"
      ]
     },
     "execution_count": 35,
     "metadata": {
      "tags": []
     },
     "output_type": "execute_result"
    }
   ],
   "source": [
    "fittedgrid_pca.score(X1_train, y1_train)"
   ]
  },
  {
   "cell_type": "code",
   "execution_count": null,
   "metadata": {
    "colab": {
     "base_uri": "https://localhost:8080/",
     "height": 34
    },
    "colab_type": "code",
    "id": "lW0dfQlaHR0K",
    "outputId": "91d797c0-47da-440f-8b90-19a9b7ba3eab"
   },
   "outputs": [
    {
     "data": {
      "text/plain": [
       "0.626984126984127"
      ]
     },
     "execution_count": 36,
     "metadata": {
      "tags": []
     },
     "output_type": "execute_result"
    }
   ],
   "source": [
    "fittedgrid_pca.score(X1_test, y1_test)"
   ]
  },
  {
   "cell_type": "markdown",
   "metadata": {},
   "source": [
    "Let's see the confusion matrix:"
   ]
  },
  {
   "cell_type": "code",
   "execution_count": null,
   "metadata": {
    "colab": {
     "base_uri": "https://localhost:8080/",
     "height": 170
    },
    "colab_type": "code",
    "id": "N8PhUkgNHR0O",
    "outputId": "b7942d25-734b-4159-a614-0d1958158147"
   },
   "outputs": [
    {
     "name": "stdout",
     "output_type": "stream",
     "text": [
      "              precision    recall  f1-score   support\n",
      "\n",
      "           0       0.48      0.26      0.34        46\n",
      "           1       0.66      0.84      0.74        80\n",
      "\n",
      "    accuracy                           0.63       126\n",
      "   macro avg       0.57      0.55      0.54       126\n",
      "weighted avg       0.60      0.63      0.59       126\n",
      "\n"
     ]
    }
   ],
   "source": [
    "y1_pred_pca = fittedgrid_pca.predict(X1_test)\n",
    "print(classification_report(y1_test, y1_pred_pca))"
   ]
  },
  {
   "cell_type": "markdown",
   "metadata": {
    "colab_type": "text",
    "id": "DAEzQNEzHR0V"
   },
   "source": [
    "#### Decision Tree"
   ]
  },
  {
   "cell_type": "markdown",
   "metadata": {},
   "source": [
    "Run a grid search to optimize the hyperparameter for a decision tree.  The hyperparameters to be tuned are:\n",
    "- number of principal components used\n",
    "- maximum depth of the decision tree\n",
    "- minimum number of sample points on a leaf"
   ]
  },
  {
   "cell_type": "code",
   "execution_count": null,
   "metadata": {
    "colab": {
     "base_uri": "https://localhost:8080/",
     "height": 34
    },
    "colab_type": "code",
    "id": "QC0BfZxFHR0a",
    "outputId": "2f826ba6-6784-48d9-a007-5274b5b92cbb"
   },
   "outputs": [
    {
     "data": {
      "text/plain": [
       "['dt_pca_1yr.pkl']"
      ]
     },
     "execution_count": 89,
     "metadata": {
      "tags": []
     },
     "output_type": "execute_result"
    }
   ],
   "source": [
    "estimators = [('pca', PCA()),\n",
    "              ('model', DecisionTreeClassifier())]\n",
    "\n",
    "pipe = Pipeline(estimators)\n",
    "\n",
    "param_grid = [{'pca': [PCA()],\n",
    "               'model': [DecisionTreeClassifier()],\n",
    "               'model__max_depth': [i for i in range(1,11)],\n",
    "               'model__min_samples_leaf': [i for i in range(1,6)],\n",
    "               'pca__n_components': [x for x in range(5,num_feat,5)]}]\n",
    "\n",
    "grid = GridSearchCV(pipe, param_grid, cv=5)\n",
    "fittedgrid = grid.fit(X1_train, y1_train)\n",
    "\n",
    "joblib.dump(fittedgrid, 'dt_pca_1yr.pkl')"
   ]
  },
  {
   "cell_type": "code",
   "execution_count": null,
   "metadata": {
    "colab": {
     "base_uri": "https://localhost:8080/",
     "height": 289
    },
    "colab_type": "code",
    "id": "AaC1-ygtHR0e",
    "outputId": "950afc5a-e222-4834-95c9-fecf6de403d1"
   },
   "outputs": [
    {
     "data": {
      "text/plain": [
       "Pipeline(memory=None,\n",
       "         steps=[('pca',\n",
       "                 PCA(copy=True, iterated_power='auto', n_components=20,\n",
       "                     random_state=None, svd_solver='auto', tol=0.0,\n",
       "                     whiten=False)),\n",
       "                ('model',\n",
       "                 DecisionTreeClassifier(ccp_alpha=0.0, class_weight=None,\n",
       "                                        criterion='gini', max_depth=5,\n",
       "                                        max_features=None, max_leaf_nodes=None,\n",
       "                                        min_impurity_decrease=0.0,\n",
       "                                        min_impurity_split=None,\n",
       "                                        min_samples_leaf=3, min_samples_split=2,\n",
       "                                        min_weight_fraction_leaf=0.0,\n",
       "                                        presort='deprecated', random_state=None,\n",
       "                                        splitter='best'))],\n",
       "         verbose=False)"
      ]
     },
     "execution_count": 39,
     "metadata": {
      "tags": []
     },
     "output_type": "execute_result"
    }
   ],
   "source": [
    "fittedgrid.best_estimator_"
   ]
  },
  {
   "cell_type": "code",
   "execution_count": null,
   "metadata": {
    "colab": {
     "base_uri": "https://localhost:8080/",
     "height": 34
    },
    "colab_type": "code",
    "id": "jN7jhcJ7HR0k",
    "outputId": "79676fd0-02bb-41f5-b026-55cfb2734dd9"
   },
   "outputs": [
    {
     "data": {
      "text/plain": [
       "0.6573348918760958"
      ]
     },
     "execution_count": 40,
     "metadata": {
      "tags": []
     },
     "output_type": "execute_result"
    }
   ],
   "source": [
    "fittedgrid.best_score_"
   ]
  },
  {
   "cell_type": "markdown",
   "metadata": {},
   "source": [
    "Then the score on the entire training set and on the test set:"
   ]
  },
  {
   "cell_type": "code",
   "execution_count": null,
   "metadata": {
    "colab": {
     "base_uri": "https://localhost:8080/",
     "height": 34
    },
    "colab_type": "code",
    "id": "xUAqe42bHR0n",
    "outputId": "befc9e87-195f-41be-8a3e-eaf3ea6e047a"
   },
   "outputs": [
    {
     "data": {
      "text/plain": [
       "0.7705479452054794"
      ]
     },
     "execution_count": 41,
     "metadata": {
      "tags": []
     },
     "output_type": "execute_result"
    }
   ],
   "source": [
    "fittedgrid.score(X1_train, y1_train)"
   ]
  },
  {
   "cell_type": "code",
   "execution_count": null,
   "metadata": {
    "colab": {
     "base_uri": "https://localhost:8080/",
     "height": 34
    },
    "colab_type": "code",
    "id": "c7Kg1-poHR0v",
    "outputId": "99e2251a-db0d-4b9e-8b52-de7e4c21d38a"
   },
   "outputs": [
    {
     "data": {
      "text/plain": [
       "0.6984126984126984"
      ]
     },
     "execution_count": 42,
     "metadata": {
      "tags": []
     },
     "output_type": "execute_result"
    }
   ],
   "source": [
    "fittedgrid.score(X1_test, y1_test)"
   ]
  },
  {
   "cell_type": "markdown",
   "metadata": {
    "colab_type": "text",
    "id": "KqIT1d3oHR1A"
   },
   "source": [
    "#### Random Forest"
   ]
  },
  {
   "cell_type": "markdown",
   "metadata": {},
   "source": [
    "I will use grid search again to optimize the hyperparameter for my random forest model.\n",
    "The hyperparameters to be optimized are:\n",
    "- number of principal components\n",
    "- maximum depth of each tree in the random forest\n",
    "- minimum number of samples in a leaf in the random forest\n",
    "- number of estimators in a random forest"
   ]
  },
  {
   "cell_type": "code",
   "execution_count": null,
   "metadata": {
    "colab": {
     "base_uri": "https://localhost:8080/",
     "height": 232
    },
    "colab_type": "code",
    "id": "WyytLKpK9qPw",
    "outputId": "20916721-88f9-42e5-e6fe-009d094ff543"
   },
   "outputs": [],
   "source": [
    "estimators = [('pca', PCA()),\n",
    "              ('model', RandomForestClassifier(n_jobs=-1))]\n",
    "\n",
    "pipe = Pipeline(estimators)\n",
    "\n",
    "param_grid = [{'pca': [PCA()],\n",
    "               'model': [RandomForestClassifier(n_jobs=-1)],\n",
    "               'model__n_estimators': [i for i in range(10,110,10)],\n",
    "               'model__max_depth': [i for i in range(1,11)],\n",
    "               'model__min_samples_leaf': [i for i in range(1,6)],\n",
    "               'pca__n_components': [x for x in range(5,num_feat,5)]}]\n",
    "\n",
    "grid = GridSearchCV(pipe, param_grid, cv=5)\n",
    "fittedgrid = grid.fit(X1_train, y1_train)"
   ]
  },
  {
   "cell_type": "code",
   "execution_count": null,
   "metadata": {
    "colab": {
     "base_uri": "https://localhost:8080/",
     "height": 232
    },
    "colab_type": "code",
    "id": "WyytLKpK9qPw",
    "outputId": "20916721-88f9-42e5-e6fe-009d094ff543"
   },
   "outputs": [],
   "source": [
    "joblib.dump(fittedgrid, 'rf_pca_1yr.pkl')"
   ]
  },
  {
   "cell_type": "code",
   "execution_count": 9,
   "metadata": {
    "colab": {},
    "colab_type": "code",
    "id": "ym2LTlOa-Ij2"
   },
   "outputs": [
    {
     "data": {
      "text/plain": [
       "0.6986301369863014"
      ]
     },
     "execution_count": 9,
     "metadata": {},
     "output_type": "execute_result"
    }
   ],
   "source": [
    "fittedgrid.best_score_"
   ]
  },
  {
   "cell_type": "code",
   "execution_count": 10,
   "metadata": {
    "colab": {},
    "colab_type": "code",
    "id": "y1rZ5Jzm-Mo8"
   },
   "outputs": [
    {
     "data": {
      "text/plain": [
       "Pipeline(memory=None,\n",
       "         steps=[('pca',\n",
       "                 PCA(copy=True, iterated_power='auto', n_components=70,\n",
       "                     random_state=None, svd_solver='auto', tol=0.0,\n",
       "                     whiten=False)),\n",
       "                ('model',\n",
       "                 RandomForestClassifier(bootstrap=True, class_weight=None,\n",
       "                                        criterion='gini', max_depth=4,\n",
       "                                        max_features='auto',\n",
       "                                        max_leaf_nodes=None,\n",
       "                                        min_impurity_decrease=0.0,\n",
       "                                        min_impurity_split=None,\n",
       "                                        min_samples_leaf=3, min_samples_split=2,\n",
       "                                        min_weight_fraction_leaf=0.0,\n",
       "                                        n_estimators=30, n_jobs=-1,\n",
       "                                        oob_score=False, random_state=None,\n",
       "                                        verbose=0, warm_start=False))],\n",
       "         verbose=False)"
      ]
     },
     "execution_count": 10,
     "metadata": {},
     "output_type": "execute_result"
    }
   ],
   "source": [
    "fittedgrid.best_estimator_"
   ]
  },
  {
   "cell_type": "markdown",
   "metadata": {},
   "source": [
    "What is the score of the best random forest score on the entire training set?"
   ]
  },
  {
   "cell_type": "code",
   "execution_count": null,
   "metadata": {
    "colab": {
     "base_uri": "https://localhost:8080/",
     "height": 34
    },
    "colab_type": "code",
    "id": "w3BDEiFQ-O2W",
    "outputId": "0559e1f4-96f1-4ff3-b181-85927ca5c359"
   },
   "outputs": [
    {
     "data": {
      "text/plain": [
       "0.7705479452054794"
      ]
     },
     "execution_count": 20,
     "metadata": {
      "tags": []
     },
     "output_type": "execute_result"
    }
   ],
   "source": [
    "fittedgrid.score(X1_train, y1_train)"
   ]
  },
  {
   "cell_type": "markdown",
   "metadata": {},
   "source": [
    "And the accuracy score on the test set?"
   ]
  },
  {
   "cell_type": "code",
   "execution_count": null,
   "metadata": {
    "colab": {
     "base_uri": "https://localhost:8080/",
     "height": 34
    },
    "colab_type": "code",
    "id": "Sp8Jf5HG-S6J",
    "outputId": "32e33eb3-314a-4df5-f55d-51d06996c4cd"
   },
   "outputs": [
    {
     "data": {
      "text/plain": [
       "0.6349206349206349"
      ]
     },
     "execution_count": 21,
     "metadata": {
      "tags": []
     },
     "output_type": "execute_result"
    }
   ],
   "source": [
    "fittedgrid.score(X1_test, y1_test)"
   ]
  },
  {
   "cell_type": "markdown",
   "metadata": {},
   "source": [
    "And the classification report stating the precision and the recall:"
   ]
  },
  {
   "cell_type": "code",
   "execution_count": 16,
   "metadata": {},
   "outputs": [
    {
     "name": "stdout",
     "output_type": "stream",
     "text": [
      "              precision    recall  f1-score   support\n",
      "\n",
      "           0       0.50      0.09      0.15        46\n",
      "           1       0.64      0.95      0.77        80\n",
      "\n",
      "    accuracy                           0.63       126\n",
      "   macro avg       0.57      0.52      0.46       126\n",
      "weighted avg       0.59      0.63      0.54       126\n",
      "\n"
     ]
    }
   ],
   "source": [
    "print(classification_report(y1_test, fittedgrid.predict(X1_test)))"
   ]
  },
  {
   "cell_type": "markdown",
   "metadata": {
    "colab_type": "text",
    "id": "GtdLIAmFHR1T"
   },
   "source": [
    "#### XGBoost decision tree"
   ]
  },
  {
   "cell_type": "markdown",
   "metadata": {},
   "source": [
    "The hyperparameters to be optimized for the XGBoost decision tree are:\n",
    "- number of principal components\n",
    "- maximum depth of the tree\n",
    "- number of estimators in the model"
   ]
  },
  {
   "cell_type": "code",
   "execution_count": null,
   "metadata": {
    "colab": {
     "base_uri": "https://localhost:8080/",
     "height": 34
    },
    "colab_type": "code",
    "id": "Pg0GR1xyHR1U",
    "outputId": "481a65c9-8f28-46c4-cbe8-1073d7e5cba7"
   },
   "outputs": [
    {
     "data": {
      "text/plain": [
       "['xgb_pca_1yr.pkl']"
      ]
     },
     "execution_count": 46,
     "metadata": {
      "tags": []
     },
     "output_type": "execute_result"
    }
   ],
   "source": [
    "estimators = [('pca', PCA()),\n",
    "              ('model', XGBClassifier(n_jobs=-1))]\n",
    "\n",
    "pipe = Pipeline(estimators)\n",
    "\n",
    "param_grid = [{'pca': [PCA()],\n",
    "               'pca__n_components': [x for x in range(5,num_feat,5)],\n",
    "               'model': [XGBClassifier(n_jobs=-1)], \n",
    "               'model__max_depth': [i for i in range(1,11)],\n",
    "               'model__n_estimators': [i for i in range(10,160,10)]}]\n",
    "\n",
    "grid = GridSearchCV(pipe, param_grid, cv=5, n_jobs=-1)\n",
    "fittedgrid = grid.fit(X1_train, y1_train)\n",
    "\n",
    "joblib.dump(fittedgrid, 'xgb_pca_1yr.pkl')"
   ]
  },
  {
   "cell_type": "code",
   "execution_count": null,
   "metadata": {
    "colab": {
     "base_uri": "https://localhost:8080/",
     "height": 306
    },
    "colab_type": "code",
    "id": "8JBReR6FHR1X",
    "outputId": "44ede5eb-7577-4d67-c384-a591e1e2453c"
   },
   "outputs": [
    {
     "data": {
      "text/plain": [
       "Pipeline(memory=None,\n",
       "         steps=[('pca',\n",
       "                 PCA(copy=True, iterated_power='auto', n_components=75,\n",
       "                     random_state=None, svd_solver='auto', tol=0.0,\n",
       "                     whiten=False)),\n",
       "                ('model',\n",
       "                 XGBClassifier(base_score=0.5, booster='gbtree',\n",
       "                               colsample_bylevel=1, colsample_bynode=1,\n",
       "                               colsample_bytree=1, gamma=0, learning_rate=0.1,\n",
       "                               max_delta_step=0, max_depth=3,\n",
       "                               min_child_weight=1, missing=None,\n",
       "                               n_estimators=30, n_jobs=1, nthread=None,\n",
       "                               objective='binary:logistic', random_state=0,\n",
       "                               reg_alpha=0, reg_lambda=1, scale_pos_weight=1,\n",
       "                               seed=None, silent=None, subsample=1,\n",
       "                               verbosity=1))],\n",
       "         verbose=False)"
      ]
     },
     "execution_count": 47,
     "metadata": {
      "tags": []
     },
     "output_type": "execute_result"
    }
   ],
   "source": [
    "fittedgrid.best_estimator_"
   ]
  },
  {
   "cell_type": "code",
   "execution_count": null,
   "metadata": {
    "colab": {
     "base_uri": "https://localhost:8080/",
     "height": 34
    },
    "colab_type": "code",
    "id": "ibHrmhhUHR1a",
    "outputId": "0daf3f77-ffcd-48f0-ea72-1563bb0c0fb6"
   },
   "outputs": [
    {
     "data": {
      "text/plain": [
       "0.6850964348334307"
      ]
     },
     "execution_count": 48,
     "metadata": {
      "tags": []
     },
     "output_type": "execute_result"
    }
   ],
   "source": [
    "fittedgrid.best_score_"
   ]
  },
  {
   "cell_type": "markdown",
   "metadata": {},
   "source": [
    "The accuracy score on the entire training set is:"
   ]
  },
  {
   "cell_type": "code",
   "execution_count": null,
   "metadata": {
    "colab": {
     "base_uri": "https://localhost:8080/",
     "height": 34
    },
    "colab_type": "code",
    "id": "N_B9jvkXHR1g",
    "outputId": "d390dc23-cca7-41d4-aa78-4add06a4bacc"
   },
   "outputs": [
    {
     "data": {
      "text/plain": [
       "0.934931506849315"
      ]
     },
     "execution_count": 23,
     "metadata": {
      "tags": []
     },
     "output_type": "execute_result"
    }
   ],
   "source": [
    "fittedgrid.score(X1_train, y1_train)"
   ]
  },
  {
   "cell_type": "markdown",
   "metadata": {},
   "source": [
    "The accuracy score on the test set is:"
   ]
  },
  {
   "cell_type": "code",
   "execution_count": null,
   "metadata": {
    "colab": {
     "base_uri": "https://localhost:8080/",
     "height": 34
    },
    "colab_type": "code",
    "id": "RXxVCfDJHR1k",
    "outputId": "6c3c4a76-85fd-4ea1-d5f5-7660d600abc8"
   },
   "outputs": [
    {
     "data": {
      "text/plain": [
       "0.626984126984127"
      ]
     },
     "execution_count": 24,
     "metadata": {
      "tags": []
     },
     "output_type": "execute_result"
    }
   ],
   "source": [
    "fittedgrid.score(X1_test, y1_test)"
   ]
  },
  {
   "cell_type": "markdown",
   "metadata": {},
   "source": [
    "Plot the accuracy score as a function of the hyperparameters:"
   ]
  },
  {
   "cell_type": "code",
   "execution_count": null,
   "metadata": {
    "colab": {},
    "colab_type": "code",
    "id": "8oQouloQHR1o"
   },
   "outputs": [],
   "source": [
    "xgb_grid_maxdepth = fittedgrid.cv_results_['param_model__max_depth'].data\n",
    "xgb_grid_n_estimators = fittedgrid.cv_results_['param_model__n_estimators'].data\n",
    "xgb_grid_n_components = fittedgrid.cv_results_['param_pca__n_components'].data\n",
    "xgb_grid_score = fittedgrid.cv_results_['mean_test_score']"
   ]
  },
  {
   "cell_type": "code",
   "execution_count": null,
   "metadata": {
    "colab": {},
    "colab_type": "code",
    "id": "uMJ34ZkqHR1q"
   },
   "outputs": [],
   "source": [
    "df_xgb = pd.DataFrame({'max_depth': xgb_grid_maxdepth,\n",
    "                       'n_estimators': xgb_grid_n_estimators,\n",
    "                       'n_components': xgb_grid_n_components,\n",
    "                       'score': xgb_grid_score})"
   ]
  },
  {
   "cell_type": "markdown",
   "metadata": {},
   "source": [
    "First, plot the accuracy (validation score) as a function of the number of maximum depth of the estimator:"
   ]
  },
  {
   "cell_type": "code",
   "execution_count": null,
   "metadata": {
    "colab": {
     "base_uri": "https://localhost:8080/",
     "height": 295
    },
    "colab_type": "code",
    "id": "uN9ZiSgrHR1t",
    "outputId": "5cb7d004-a47a-4ef3-b48c-a41660789ef7"
   },
   "outputs": [
    {
     "data": {
      "image/png": "[encoded data removed]",
      "text/plain": [
       "<Figure size 432x288 with 1 Axes>"
      ]
     },
     "metadata": {
      "tags": []
     },
     "output_type": "display_data"
    }
   ],
   "source": [
    "xgb_n_est = fittedgrid.best_params_['model__n_estimators']\n",
    "xgb_n_comp = fittedgrid.best_params_['pca__n_components']\n",
    "\n",
    "plt.figure()\n",
    "plt.plot(df_xgb[(df_xgb['n_estimators']==xgb_n_est) &\n",
    "                (df_xgb['n_components']==xgb_n_comp)]['max_depth'], \n",
    "         df_xgb[(df_xgb['n_estimators']==xgb_n_est) &\n",
    "                (df_xgb['n_components']==xgb_n_comp)]['score'], 'b.-')\n",
    "plt.xlabel('Max depth for each tree')\n",
    "plt.ylabel('Validation score')\n",
    "plt.title('XGBoost Decision Tree for 1-Year Survival')\n",
    "plt.show()"
   ]
  },
  {
   "cell_type": "markdown",
   "metadata": {},
   "source": [
    "And then plot the validation score as a function of the number of princiapl components used in the model:"
   ]
  },
  {
   "cell_type": "code",
   "execution_count": null,
   "metadata": {
    "colab": {
     "base_uri": "https://localhost:8080/",
     "height": 295
    },
    "colab_type": "code",
    "id": "LARchUpyRKoe",
    "outputId": "66fcebe9-990b-453f-c747-06113cd097ef"
   },
   "outputs": [
    {
     "data": {
      "image/png": "[encoded data removed]",
      "text/plain": [
       "<Figure size 432x288 with 1 Axes>"
      ]
     },
     "metadata": {
      "tags": []
     },
     "output_type": "display_data"
    }
   ],
   "source": [
    "xgb_max_depth = fittedgrid.best_params_['model__max_depth']\n",
    "\n",
    "plt.figure()\n",
    "plt.plot(df_xgb[(df_xgb['n_estimators']==xgb_n_est) &\n",
    "                (df_xgb['max_depth']==xgb_max_depth)]['n_components'], \n",
    "         df_xgb[(df_xgb['n_estimators']==xgb_n_est) &\n",
    "                (df_xgb['max_depth']==xgb_max_depth)]['score'], 'b.-')\n",
    "plt.xlabel('Number of principal components')\n",
    "plt.ylabel('Validation score')\n",
    "plt.title('XGBoost Decision Tree for 1-Year Survival')\n",
    "plt.show()"
   ]
  },
  {
   "cell_type": "markdown",
   "metadata": {},
   "source": [
    "The classification report is:"
   ]
  },
  {
   "cell_type": "code",
   "execution_count": 19,
   "metadata": {},
   "outputs": [],
   "source": [
    "fittedgrid = joblib.load('Pickle files/1 year/xgb_pca_1yr.pkl')"
   ]
  },
  {
   "cell_type": "code",
   "execution_count": 20,
   "metadata": {},
   "outputs": [
    {
     "name": "stdout",
     "output_type": "stream",
     "text": [
      "              precision    recall  f1-score   support\n",
      "\n",
      "           0       0.48      0.26      0.34        46\n",
      "           1       0.66      0.84      0.74        80\n",
      "\n",
      "    accuracy                           0.63       126\n",
      "   macro avg       0.57      0.55      0.54       126\n",
      "weighted avg       0.60      0.63      0.59       126\n",
      "\n"
     ]
    }
   ],
   "source": [
    "print(classification_report(y1_test, fittedgrid.predict(X1_test)))"
   ]
  },
  {
   "cell_type": "markdown",
   "metadata": {
    "colab_type": "text",
    "id": "_LoW0GxXHR1y"
   },
   "source": [
    "#### Support Vector Machine"
   ]
  },
  {
   "cell_type": "markdown",
   "metadata": {},
   "source": [
    "The hyperparameters being optimized for the support vector machines are:\n",
    "- the number of princiapl components used\n",
    "- the regularization parameter (ranging from $10^-6$ to $10^7$)\n",
    "- the kernel for the support vector classifier"
   ]
  },
  {
   "cell_type": "code",
   "execution_count": null,
   "metadata": {
    "colab": {
     "base_uri": "https://localhost:8080/",
     "height": 34
    },
    "colab_type": "code",
    "id": "5fZvTNO-HR1z",
    "outputId": "9630072f-915c-435a-f7e6-8bb477f7e150"
   },
   "outputs": [
    {
     "data": {
      "text/plain": [
       "['svm_pca_1yr.pkl']"
      ]
     },
     "execution_count": 13,
     "metadata": {
      "tags": []
     },
     "output_type": "execute_result"
    }
   ],
   "source": [
    "estimators = [('pca', PCA()),\n",
    "              ('model', SVC())]\n",
    "\n",
    "pipe = Pipeline(estimators)\n",
    "\n",
    "param_grid = [{'pca': [PCA()],\n",
    "               'pca__n_components': [x for x in range(5,num_feat,5)],\n",
    "               'model': [SVC(decision_function_shape='ovo', max_iter=999)], \n",
    "               'model__C': [10**i for i in range(-6,7)],\n",
    "               'model__kernel': ['linear', 'poly', 'rbf', 'sigmoid']}]\n",
    "\n",
    "grid = GridSearchCV(pipe, param_grid, n_jobs=-1, cv=5)\n",
    "fittedgrid = grid.fit(X1_train, y1_train)\n",
    "\n",
    "joblib.dump(fittedgrid, 'svm_pca_1yr.pkl')"
   ]
  },
  {
   "cell_type": "code",
   "execution_count": null,
   "metadata": {
    "colab": {
     "base_uri": "https://localhost:8080/",
     "height": 170
    },
    "colab_type": "code",
    "id": "rBvWZyTNHR12",
    "outputId": "eaa653a5-32fe-450a-e836-c087951aecac"
   },
   "outputs": [
    {
     "data": {
      "text/plain": [
       "{'model': SVC(C=10, break_ties=False, cache_size=200, class_weight=None, coef0=0.0,\n",
       "     decision_function_shape='ovo', degree=3, gamma='scale', kernel='poly',\n",
       "     max_iter=999, probability=False, random_state=None, shrinking=True,\n",
       "     tol=0.001, verbose=False),\n",
       " 'model__C': 10,\n",
       " 'model__kernel': 'poly',\n",
       " 'pca': PCA(copy=True, iterated_power='auto', n_components=5, random_state=None,\n",
       "     svd_solver='auto', tol=0.0, whiten=False),\n",
       " 'pca__n_components': 5}"
      ]
     },
     "execution_count": 56,
     "metadata": {
      "tags": []
     },
     "output_type": "execute_result"
    }
   ],
   "source": [
    "fittedgrid.best_params_"
   ]
  },
  {
   "cell_type": "code",
   "execution_count": null,
   "metadata": {
    "colab": {
     "base_uri": "https://localhost:8080/",
     "height": 34
    },
    "colab_type": "code",
    "id": "n-JVjIeFHR14",
    "outputId": "5453611e-5355-47cf-cf80-96a8cbce6838"
   },
   "outputs": [
    {
     "data": {
      "text/plain": [
       "0.6952074810052601"
      ]
     },
     "execution_count": 57,
     "metadata": {
      "tags": []
     },
     "output_type": "execute_result"
    }
   ],
   "source": [
    "fittedgrid.best_score_"
   ]
  },
  {
   "cell_type": "markdown",
   "metadata": {},
   "source": [
    "The accuracy score of the SVM with the test set is:"
   ]
  },
  {
   "cell_type": "code",
   "execution_count": null,
   "metadata": {
    "colab": {
     "base_uri": "https://localhost:8080/",
     "height": 34
    },
    "colab_type": "code",
    "id": "sJA3sNhoHR1-",
    "outputId": "38a3426a-8e33-4a02-8fb1-dde2597d30a5"
   },
   "outputs": [
    {
     "data": {
      "text/plain": [
       "0.6507936507936508"
      ]
     },
     "execution_count": 58,
     "metadata": {
      "tags": []
     },
     "output_type": "execute_result"
    }
   ],
   "source": [
    "fittedgrid.score(X1_test, y1_test)"
   ]
  },
  {
   "cell_type": "markdown",
   "metadata": {},
   "source": [
    "The classification report is as follows:"
   ]
  },
  {
   "cell_type": "code",
   "execution_count": 22,
   "metadata": {},
   "outputs": [],
   "source": [
    "fittedgrid = joblib.load('Pickle files/1 year/svm_pca_1yr.pkl')"
   ]
  },
  {
   "cell_type": "code",
   "execution_count": 23,
   "metadata": {},
   "outputs": [
    {
     "name": "stdout",
     "output_type": "stream",
     "text": [
      "              precision    recall  f1-score   support\n",
      "\n",
      "           0       0.57      0.17      0.27        46\n",
      "           1       0.66      0.93      0.77        80\n",
      "\n",
      "    accuracy                           0.65       126\n",
      "   macro avg       0.62      0.55      0.52       126\n",
      "weighted avg       0.63      0.65      0.59       126\n",
      "\n"
     ]
    }
   ],
   "source": [
    "print(classification_report(y1_test, fittedgrid.predict(X1_test)))"
   ]
  },
  {
   "cell_type": "markdown",
   "metadata": {},
   "source": [
    "The confusion matrix is:"
   ]
  },
  {
   "cell_type": "code",
   "execution_count": 24,
   "metadata": {},
   "outputs": [
    {
     "name": "stdout",
     "output_type": "stream",
     "text": [
      "[[ 8 38]\n",
      " [ 6 74]]\n"
     ]
    }
   ],
   "source": [
    "print(confusion_matrix(y1_test, fittedgrid.predict(X1_test)))"
   ]
  },
  {
   "cell_type": "markdown",
   "metadata": {},
   "source": [
    "Not great"
   ]
  },
  {
   "cell_type": "markdown",
   "metadata": {
    "colab_type": "text",
    "id": "tkbTHp3jK-3u"
   },
   "source": [
    "#### Quadratic Discriminant Analysis"
   ]
  },
  {
   "cell_type": "markdown",
   "metadata": {},
   "source": [
    "There are no hyperparameters to tune for the quadratic discriminant analysis:"
   ]
  },
  {
   "cell_type": "code",
   "execution_count": null,
   "metadata": {
    "colab": {
     "base_uri": "https://localhost:8080/",
     "height": 34
    },
    "colab_type": "code",
    "id": "fdoNWcllLCMV",
    "outputId": "4771db94-dc68-49b6-d411-c4a4a00fcc6d"
   },
   "outputs": [
    {
     "data": {
      "text/plain": [
       "['qda_1yr.pkl']"
      ]
     },
     "execution_count": 45,
     "metadata": {
      "tags": []
     },
     "output_type": "execute_result"
    }
   ],
   "source": [
    "my_qda = QuadraticDiscriminantAnalysis()\n",
    "my_qda.fit(X1_train, y1_train)\n",
    "joblib.dump(my_qda, 'qda_1yr.pkl')"
   ]
  },
  {
   "cell_type": "code",
   "execution_count": null,
   "metadata": {
    "colab": {
     "base_uri": "https://localhost:8080/",
     "height": 34
    },
    "colab_type": "code",
    "id": "m1GbCZTUMEIn",
    "outputId": "30450b5a-9547-46e5-c6d5-00d28f2b5d58"
   },
   "outputs": [
    {
     "data": {
      "text/plain": [
       "1.0"
      ]
     },
     "execution_count": 38,
     "metadata": {
      "tags": []
     },
     "output_type": "execute_result"
    }
   ],
   "source": [
    "my_qda.score(X1_train, y1_train)"
   ]
  },
  {
   "cell_type": "markdown",
   "metadata": {},
   "source": [
    "That might have been how the math has to work out for the quadratic discriminant analysis?\n",
    "As for the accuracy score with the test set:"
   ]
  },
  {
   "cell_type": "code",
   "execution_count": null,
   "metadata": {
    "colab": {
     "base_uri": "https://localhost:8080/",
     "height": 34
    },
    "colab_type": "code",
    "id": "x4rgB-fCMHpw",
    "outputId": "828d2b47-18bb-4188-de30-65f4b399b3aa"
   },
   "outputs": [
    {
     "data": {
      "text/plain": [
       "0.6666666666666666"
      ]
     },
     "execution_count": 39,
     "metadata": {
      "tags": []
     },
     "output_type": "execute_result"
    }
   ],
   "source": [
    "my_qda.score(X1_test, y1_test)"
   ]
  },
  {
   "cell_type": "code",
   "execution_count": 25,
   "metadata": {},
   "outputs": [],
   "source": [
    "my_qda = joblib.load('Pickle files/1 year/qda_1yr.pkl')"
   ]
  },
  {
   "cell_type": "code",
   "execution_count": 26,
   "metadata": {},
   "outputs": [
    {
     "name": "stdout",
     "output_type": "stream",
     "text": [
      "              precision    recall  f1-score   support\n",
      "\n",
      "           0       0.83      0.11      0.19        46\n",
      "           1       0.66      0.99      0.79        80\n",
      "\n",
      "    accuracy                           0.67       126\n",
      "   macro avg       0.75      0.55      0.49       126\n",
      "weighted avg       0.72      0.67      0.57       126\n",
      "\n"
     ]
    }
   ],
   "source": [
    "print(classification_report(y1_test, my_qda.predict(X1_test)))"
   ]
  },
  {
   "cell_type": "markdown",
   "metadata": {},
   "source": [
    "Surprisingly, the recall for the quadratic discriminant is the highest. That means a patient surviving past the 1-year mark is most likely to be correctly identified with the quadratic discriminant analysis."
   ]
  },
  {
   "cell_type": "markdown",
   "metadata": {
    "colab_type": "text",
    "id": "CGse1MqjHR2G"
   },
   "source": [
    "\n",
    "#### Neural network"
   ]
  },
  {
   "cell_type": "markdown",
   "metadata": {
    "colab_type": "text",
    "id": "ViLTwdMwHR2H"
   },
   "source": [
    "For the neural network model, I will use the TensorFlow library.\n",
    "\n",
    "The input size is the number of features, and the output size is 2, the number of classes (patients surviving past the 1-year mark, and those who do not)"
   ]
  },
  {
   "cell_type": "code",
   "execution_count": null,
   "metadata": {
    "colab": {},
    "colab_type": "code",
    "id": "dHM0R7pWHR2K"
   },
   "outputs": [],
   "source": [
    "input_size = num_feat\n",
    "output_size = 2"
   ]
  },
  {
   "cell_type": "code",
   "execution_count": null,
   "metadata": {
    "colab": {},
    "colab_type": "code",
    "id": "axqS0WpnHR2M"
   },
   "outputs": [],
   "source": [
    "# Make the placeholder variables:\n",
    "input_X = tf.placeholder(tf.float32, shape=(None, input_size))\n",
    "input_y = tf.placeholder(tf.float32, shape=(None, output_size))"
   ]
  },
  {
   "cell_type": "markdown",
   "metadata": {},
   "source": [
    "I tried playing with the number of hidden layers and the activation function:\n",
    "- the hidden layers did not do much in improving the accuracy score\n",
    "- the activation function that yielded the fastest convergence was surprisingly not Relu in my case, but the exponential linear unit (elu) function"
   ]
  },
  {
   "cell_type": "code",
   "execution_count": null,
   "metadata": {
    "colab": {},
    "colab_type": "code",
    "id": "lP89dhnYHR2O"
   },
   "outputs": [],
   "source": [
    "# Size of the hidden dimension\n",
    "num_hidden_1 = 400\n",
    "num_hidden_2 = 400\n",
    "\n",
    "# Hidden Unit activations 1\n",
    "W1 = tf.Variable(tf.random_normal([input_size, num_hidden_1]))\n",
    "b1 = tf.Variable(tf.random_normal([num_hidden_1])) #bias\n",
    "hidden_output_1 = tf.nn.elu(tf.add(tf.matmul(input_X,W1), b1)) # elu for hidden layer\n",
    "\n",
    "# Hidden Unit activations 2\n",
    "W2 = tf.Variable(tf.random_normal([num_hidden_1, num_hidden_2]))\n",
    "b2 = tf.Variable(tf.random_normal([num_hidden_2])) #bias\n",
    "hidden_output_2 = tf.nn.elu(tf.add(tf.matmul(hidden_output_1,W2), b2)) # elu for hidden layer\n",
    "\n",
    "# Output Unit activations\n",
    "W3 = tf.Variable(tf.random_normal([num_hidden_2, output_size]))\n",
    "b3 = tf.Variable(tf.random_normal([output_size]))\n",
    "net_output = tf.nn.softmax(tf.add( tf.matmul(hidden_output_2, W3), b3)) # Softmax for output layer"
   ]
  },
  {
   "cell_type": "markdown",
   "metadata": {},
   "source": [
    "I need to put the output in a proper format such that the Tensorflow library can process:"
   ]
  },
  {
   "cell_type": "code",
   "execution_count": null,
   "metadata": {
    "colab": {},
    "colab_type": "code",
    "id": "yZaazeD8UA3e"
   },
   "outputs": [],
   "source": [
    "encoder = LabelBinarizer()\n",
    "\n",
    "one_hot_encoder = encoder.fit(list(y1_train))\n",
    "y1_np_train = one_hot_encoder.transform(y1_train)\n",
    "y1_np_test = one_hot_encoder.transform(y1_test)\n",
    "y1_np_train = np.hstack((y1_np_train, 1 - y1_np_train))\n",
    "y1_np_test = np.hstack((y1_np_test, 1 - y1_np_test))"
   ]
  },
  {
   "cell_type": "code",
   "execution_count": null,
   "metadata": {
    "colab": {
     "base_uri": "https://localhost:8080/",
     "height": 34
    },
    "colab_type": "code",
    "id": "28WcBdqrl2h4",
    "outputId": "d902740c-459e-4a55-97f5-58db9c14d994"
   },
   "outputs": [
    {
     "data": {
      "text/plain": [
       "(292, 2)"
      ]
     },
     "execution_count": 25,
     "metadata": {
      "tags": []
     },
     "output_type": "execute_result"
    }
   ],
   "source": [
    "y1_np_train.shape"
   ]
  },
  {
   "cell_type": "markdown",
   "metadata": {},
   "source": [
    "Setting up other parameters for the neural network:"
   ]
  },
  {
   "cell_type": "code",
   "execution_count": null,
   "metadata": {
    "colab": {},
    "colab_type": "code",
    "id": "Ji1PeXEJHR2R"
   },
   "outputs": [],
   "source": [
    "# Use cross entropy loss (we're doing classification)\n",
    "# This is where we link our network to the objective function.\n",
    "loss = tf.losses.softmax_cross_entropy(input_y, net_output)\n",
    "\n",
    "# Get accuracy measure\n",
    "# acc will store the accuracy score of the true labels and our net output\n",
    "acc, acc_op = tf.metrics.accuracy(labels=tf.argmax(input_y, 1), predictions=tf.argmax(net_output, 1))\n",
    "\n",
    "# Use gradient descent with a learning rate of 0.1\n",
    "optimizer = tf.train.GradientDescentOptimizer(0.1)\n",
    "\n",
    "# Objective is minimize the loss\n",
    "train = optimizer.minimize(loss)"
   ]
  },
  {
   "cell_type": "markdown",
   "metadata": {},
   "source": [
    "Then open a TensorFlow session:"
   ]
  },
  {
   "cell_type": "code",
   "execution_count": null,
   "metadata": {
    "colab": {},
    "colab_type": "code",
    "id": "WLpne3RwHR2I"
   },
   "outputs": [],
   "source": [
    "# Open a TensorFlow session\n",
    "sess = tf.Session()\n",
    "init = tf.group(tf.global_variables_initializer(), tf.local_variables_initializer())\n",
    "sess.run(init)"
   ]
  },
  {
   "cell_type": "markdown",
   "metadata": {},
   "source": [
    "Then run. Increasing the epochs further than 20000 did not result in a further reduction in the loss function."
   ]
  },
  {
   "cell_type": "code",
   "execution_count": null,
   "metadata": {
    "colab": {
     "base_uri": "https://localhost:8080/",
     "height": 374
    },
    "colab_type": "code",
    "id": "X3DiN4bqHR2Z",
    "outputId": "c2b79e0e-29e3-43df-cfe3-4d839426fdb8"
   },
   "outputs": [
    {
     "name": "stdout",
     "output_type": "stream",
     "text": [
      "Epoch: 0, Loss: 0.717, Accuracy: 0.596\n",
      "Epoch: 1000, Loss: 0.717, Accuracy: 0.596\n",
      "Epoch: 2000, Loss: 0.717, Accuracy: 0.596\n",
      "Epoch: 3000, Loss: 0.717, Accuracy: 0.596\n",
      "Epoch: 4000, Loss: 0.717, Accuracy: 0.596\n",
      "Epoch: 5000, Loss: 0.717, Accuracy: 0.596\n",
      "Epoch: 6000, Loss: 0.717, Accuracy: 0.596\n",
      "Epoch: 7000, Loss: 0.717, Accuracy: 0.596\n",
      "Epoch: 8000, Loss: 0.717, Accuracy: 0.596\n",
      "Epoch: 9000, Loss: 0.717, Accuracy: 0.596\n",
      "Epoch: 10000, Loss: 0.717, Accuracy: 0.596\n",
      "Epoch: 11000, Loss: 0.717, Accuracy: 0.596\n",
      "Epoch: 12000, Loss: 0.717, Accuracy: 0.596\n",
      "Epoch: 13000, Loss: 0.717, Accuracy: 0.596\n",
      "Epoch: 14000, Loss: 0.717, Accuracy: 0.596\n",
      "Epoch: 15000, Loss: 0.717, Accuracy: 0.596\n",
      "Epoch: 16000, Loss: 0.717, Accuracy: 0.596\n",
      "Epoch: 17000, Loss: 0.717, Accuracy: 0.596\n",
      "Epoch: 18000, Loss: 0.717, Accuracy: 0.596\n",
      "Epoch: 19000, Loss: 0.717, Accuracy: 0.596\n",
      "0.5958904\n"
     ]
    }
   ],
   "source": [
    "epochs = 20000\n",
    "\n",
    "# Each epoch is one pass through the data\n",
    "for epoch in range(epochs):\n",
    "    \n",
    "    # Update the network.\n",
    "    # feed_dict passes in the input for training\n",
    "    # train linkes the session to the network\n",
    "    sess.run(train, feed_dict={input_X: X1_train, input_y: y1_np_train})\n",
    "    \n",
    "    if epoch % 1000 == 0 :\n",
    "        # Get the training loss\n",
    "        training_loss = sess.run(loss, feed_dict={input_X: X1_train, input_y: y1_np_train})\n",
    "        \n",
    "        score = sess.run([acc, acc_op], feed_dict={input_X: X1_train, input_y: y1_np_train})\n",
    "        print(f'Epoch: {epoch}, Loss: {training_loss:.3f}, Accuracy: {score[1]:.3f}')\n",
    "\n",
    "# run session to calculate the accuracy score on test set\n",
    "test_acc,_ = sess.run([acc, acc_op], feed_dict={input_X: X1_test, input_y: y1_np_test})\n",
    "print(test_acc)"
   ]
  },
  {
   "cell_type": "markdown",
   "metadata": {
    "colab_type": "text",
    "id": "sM0py4I-HR2c"
   },
   "source": [
    "---"
   ]
  },
  {
   "cell_type": "markdown",
   "metadata": {
    "colab_type": "text",
    "id": "8f2HJvXnHR2d"
   },
   "source": [
    "### 3-year analysis"
   ]
  },
  {
   "cell_type": "markdown",
   "metadata": {},
   "source": [
    "I am keeping the patients who either:\n",
    "- have a registered survival time of longer than 3 years regardless the patient has passed away\n",
    "- passes away in less than 3 years' time"
   ]
  },
  {
   "cell_type": "code",
   "execution_count": 9,
   "metadata": {
    "colab": {},
    "colab_type": "code",
    "id": "_1HSPdT_HR2e"
   },
   "outputs": [],
   "source": [
    "X3 = df_tf[mask_3yr | dead][df_tf.columns[feat_mask]]\n",
    "y3 = (df_tf[mask_3yr | dead]['Survival.time'] > 3*365).astype(int)\n",
    "\n",
    "X3 = X3.astype(float)"
   ]
  },
  {
   "cell_type": "markdown",
   "metadata": {},
   "source": [
    "Split the data into a training set and a test set:"
   ]
  },
  {
   "cell_type": "code",
   "execution_count": 10,
   "metadata": {
    "colab": {},
    "colab_type": "code",
    "id": "qGU3X40QHR2o"
   },
   "outputs": [],
   "source": [
    "X3_train, X3_test, y3_train, y3_test = train_test_split(X3, y3, test_size=0.3, random_state=1)"
   ]
  },
  {
   "cell_type": "markdown",
   "metadata": {},
   "source": [
    "To see if there is class imbalance, we count how many patients who cannot survive past the 3-year mark (i.e. target=0) versus those who can (i.e. target=1)"
   ]
  },
  {
   "cell_type": "code",
   "execution_count": null,
   "metadata": {
    "colab": {
     "base_uri": "https://localhost:8080/",
     "height": 68
    },
    "colab_type": "code",
    "id": "Dac_qk1RHR2r",
    "outputId": "d8103207-b3de-450f-895b-81936326b94b"
   },
   "outputs": [
    {
     "data": {
      "text/plain": [
       "0    203\n",
       "1     89\n",
       "Name: Survival.time, dtype: int64"
      ]
     },
     "execution_count": 15,
     "metadata": {
      "tags": []
     },
     "output_type": "execute_result"
    }
   ],
   "source": [
    "y3_train.value_counts()"
   ]
  },
  {
   "cell_type": "markdown",
   "metadata": {},
   "source": [
    "The class imbalance is a bit more obvious, with a ratio of a bit over 2:1."
   ]
  },
  {
   "cell_type": "markdown",
   "metadata": {},
   "source": [
    "Scale the data:"
   ]
  },
  {
   "cell_type": "code",
   "execution_count": 11,
   "metadata": {
    "colab": {},
    "colab_type": "code",
    "id": "HScjSMOFHR2t"
   },
   "outputs": [],
   "source": [
    "my_scaler3 = StandardScaler()\n",
    "X3_train = my_scaler3.fit_transform(X3_train)\n",
    "X3_test = my_scaler3.transform(X3_test)"
   ]
  },
  {
   "cell_type": "markdown",
   "metadata": {
    "colab_type": "text",
    "id": "xlRsuOkpTNF8"
   },
   "source": [
    "#### Logistic Regression"
   ]
  },
  {
   "cell_type": "markdown",
   "metadata": {},
   "source": [
    "Optimize the hyperparameter for the logistic regression. The hyperparameters to be optimized are:\n",
    "- the number of princiapl components\n",
    "- the regularization parameter\n",
    "- L1 or L2 penalty (i.e. either LASSO or ridge regression)"
   ]
  },
  {
   "cell_type": "code",
   "execution_count": null,
   "metadata": {
    "colab": {
     "base_uri": "https://localhost:8080/",
     "height": 34
    },
    "colab_type": "code",
    "id": "ZmP66DL4HR21",
    "outputId": "4a880e60-5a00-402f-c5b0-5aa99e2ae2d8"
   },
   "outputs": [
    {
     "data": {
      "text/plain": [
       "['logreg_3yr.pkl']"
      ]
     },
     "execution_count": 74,
     "metadata": {
      "tags": []
     },
     "output_type": "execute_result"
    }
   ],
   "source": [
    "estimators = [('pca', PCA()),\n",
    "              ('model', LogisticRegression())]\n",
    "\n",
    "pipe = Pipeline(estimators)\n",
    "\n",
    "param_grid = [{'pca': [PCA()],\n",
    "               'pca__n_components': [x for x in range(5,num_feat,5)],\n",
    "               'model': [LogisticRegression(solver='saga')], \n",
    "               'model__C': [10**i for i in range(-6,7)],\n",
    "               'model__penalty': ['l1', 'l2']}]\n",
    "\n",
    "grid = GridSearchCV(pipe, param_grid, n_jobs=-1, cv=5)\n",
    "fittedgrid3 = grid.fit(X3_train, y3_train)\n",
    "\n",
    "joblib.dump(fittedgrid3, 'logreg_3yr.pkl')"
   ]
  },
  {
   "cell_type": "code",
   "execution_count": null,
   "metadata": {
    "colab": {
     "base_uri": "https://localhost:8080/",
     "height": 255
    },
    "colab_type": "code",
    "id": "J2z9nKDqHR23",
    "outputId": "520320ee-98c3-4321-98f2-cbfc5f3e411c"
   },
   "outputs": [
    {
     "data": {
      "text/plain": [
       "Pipeline(memory=None,\n",
       "         steps=[('pca',\n",
       "                 PCA(copy=True, iterated_power='auto', n_components=5,\n",
       "                     random_state=None, svd_solver='auto', tol=0.0,\n",
       "                     whiten=False)),\n",
       "                ('model',\n",
       "                 LogisticRegression(C=1e-06, class_weight=None, dual=False,\n",
       "                                    fit_intercept=True, intercept_scaling=1,\n",
       "                                    l1_ratio=None, max_iter=100,\n",
       "                                    multi_class='auto', n_jobs=None,\n",
       "                                    penalty='l1', random_state=None,\n",
       "                                    solver='saga', tol=0.0001, verbose=0,\n",
       "                                    warm_start=False))],\n",
       "         verbose=False)"
      ]
     },
     "execution_count": 75,
     "metadata": {
      "tags": []
     },
     "output_type": "execute_result"
    }
   ],
   "source": [
    "fittedgrid3.best_estimator_"
   ]
  },
  {
   "cell_type": "code",
   "execution_count": null,
   "metadata": {
    "colab": {
     "base_uri": "https://localhost:8080/",
     "height": 34
    },
    "colab_type": "code",
    "id": "B6EXctJdHR25",
    "outputId": "4e5660a3-81e3-4034-b987-8788e27f5d7a"
   },
   "outputs": [
    {
     "data": {
      "text/plain": [
       "0.6952074810052601"
      ]
     },
     "execution_count": 76,
     "metadata": {
      "tags": []
     },
     "output_type": "execute_result"
    }
   ],
   "source": [
    "fittedgrid3.best_score_"
   ]
  },
  {
   "cell_type": "markdown",
   "metadata": {},
   "source": [
    "The accuracy score with the entire training set is:"
   ]
  },
  {
   "cell_type": "code",
   "execution_count": 14,
   "metadata": {},
   "outputs": [
    {
     "data": {
      "text/plain": [
       "0.6952054794520548"
      ]
     },
     "execution_count": 14,
     "metadata": {},
     "output_type": "execute_result"
    }
   ],
   "source": [
    "fittedgrid3.score(X3_train, y3_train)"
   ]
  },
  {
   "cell_type": "markdown",
   "metadata": {},
   "source": [
    "The accuracy score with the test set is:"
   ]
  },
  {
   "cell_type": "code",
   "execution_count": null,
   "metadata": {
    "colab": {
     "base_uri": "https://localhost:8080/",
     "height": 34
    },
    "colab_type": "code",
    "id": "bLq7zAf7HR3I",
    "outputId": "d652cbc1-b38d-4dbe-a1e6-87ce9167c2c9"
   },
   "outputs": [
    {
     "data": {
      "text/plain": [
       "0.6746031746031746"
      ]
     },
     "execution_count": 30,
     "metadata": {
      "tags": []
     },
     "output_type": "execute_result"
    }
   ],
   "source": [
    "fittedgrid3.score(X3_test, y3_test)"
   ]
  },
  {
   "cell_type": "markdown",
   "metadata": {
    "colab_type": "text",
    "id": "7QBA0na8TRvG"
   },
   "source": [
    "#### Decision Tree"
   ]
  },
  {
   "cell_type": "markdown",
   "metadata": {},
   "source": [
    "The hyperparameters to be optimized for:\n",
    "- the number of principal components\n",
    "- the maximum depth of the tree\n",
    "- the minimum number of samples on a leaf"
   ]
  },
  {
   "cell_type": "code",
   "execution_count": null,
   "metadata": {
    "colab": {
     "base_uri": "https://localhost:8080/",
     "height": 34
    },
    "colab_type": "code",
    "id": "LVeiItJpHR3O",
    "outputId": "7ba64183-b94f-494a-bdbe-16d10e447f4b"
   },
   "outputs": [
    {
     "data": {
      "text/plain": [
       "['dt_3yr.pkl']"
      ]
     },
     "execution_count": 81,
     "metadata": {
      "tags": []
     },
     "output_type": "execute_result"
    }
   ],
   "source": [
    "estimators = [('pca', PCA()),\n",
    "              ('model', DecisionTreeClassifier())]\n",
    "\n",
    "pipe = Pipeline(estimators)\n",
    "\n",
    "param_grid = [{'pca': [PCA()],\n",
    "               'pca__n_components': [x for x in range(5,num_feat,5)],\n",
    "               'model': [DecisionTreeClassifier()], \n",
    "               'model__max_depth': [i for i in range(1,11)],\n",
    "               'model__min_samples_leaf': [i for i in range(1,11)]}]\n",
    "\n",
    "grid = GridSearchCV(pipe, param_grid, n_jobs=-1, cv=5)\n",
    "fittedgrid3 = grid.fit(X3_train, y3_train)\n",
    "\n",
    "joblib.dump(fittedgrid3, 'dt_3yr.pkl')"
   ]
  },
  {
   "cell_type": "code",
   "execution_count": null,
   "metadata": {
    "colab": {
     "base_uri": "https://localhost:8080/",
     "height": 289
    },
    "colab_type": "code",
    "id": "mvObKgJgHR3P",
    "outputId": "44ed5b84-8edf-4bd5-e056-f4e21fd4e58e"
   },
   "outputs": [
    {
     "data": {
      "text/plain": [
       "Pipeline(memory=None,\n",
       "         steps=[('pca',\n",
       "                 PCA(copy=True, iterated_power='auto', n_components=15,\n",
       "                     random_state=None, svd_solver='auto', tol=0.0,\n",
       "                     whiten=False)),\n",
       "                ('model',\n",
       "                 DecisionTreeClassifier(ccp_alpha=0.0, class_weight=None,\n",
       "                                        criterion='gini', max_depth=2,\n",
       "                                        max_features=None, max_leaf_nodes=None,\n",
       "                                        min_impurity_decrease=0.0,\n",
       "                                        min_impurity_split=None,\n",
       "                                        min_samples_leaf=7, min_samples_split=2,\n",
       "                                        min_weight_fraction_leaf=0.0,\n",
       "                                        presort='deprecated', random_state=None,\n",
       "                                        splitter='best'))],\n",
       "         verbose=False)"
      ]
     },
     "execution_count": 82,
     "metadata": {
      "tags": []
     },
     "output_type": "execute_result"
    }
   ],
   "source": [
    "fittedgrid3.best_estimator_"
   ]
  },
  {
   "cell_type": "code",
   "execution_count": null,
   "metadata": {
    "colab": {
     "base_uri": "https://localhost:8080/",
     "height": 34
    },
    "colab_type": "code",
    "id": "Dw4vtkZaHR3R",
    "outputId": "5a0f75a0-232c-463b-d4cd-8c4d30203893"
   },
   "outputs": [
    {
     "data": {
      "text/plain": [
       "0.6988310929281123"
      ]
     },
     "execution_count": 83,
     "metadata": {
      "tags": []
     },
     "output_type": "execute_result"
    }
   ],
   "source": [
    "fittedgrid3.best_score_"
   ]
  },
  {
   "cell_type": "markdown",
   "metadata": {},
   "source": [
    "The accuracy score for the training set is:"
   ]
  },
  {
   "cell_type": "code",
   "execution_count": 16,
   "metadata": {},
   "outputs": [
    {
     "data": {
      "text/plain": [
       "0.7328767123287672"
      ]
     },
     "execution_count": 16,
     "metadata": {},
     "output_type": "execute_result"
    }
   ],
   "source": [
    "fittedgrid3.score(X3_train, y3_train)"
   ]
  },
  {
   "cell_type": "markdown",
   "metadata": {},
   "source": [
    "The accuracy score for the test set is:"
   ]
  },
  {
   "cell_type": "code",
   "execution_count": null,
   "metadata": {
    "colab": {
     "base_uri": "https://localhost:8080/",
     "height": 34
    },
    "colab_type": "code",
    "id": "-j5IHmQSHR3U",
    "outputId": "87dbb48b-6748-4fbe-cb18-5a684d19b729"
   },
   "outputs": [
    {
     "data": {
      "text/plain": [
       "0.6746031746031746"
      ]
     },
     "execution_count": 35,
     "metadata": {
      "tags": []
     },
     "output_type": "execute_result"
    }
   ],
   "source": [
    "fittedgrid3.score(X3_test, y3_test)"
   ]
  },
  {
   "cell_type": "markdown",
   "metadata": {
    "colab_type": "text",
    "id": "f-1OwEjTTUvs"
   },
   "source": [
    "#### Random Forest"
   ]
  },
  {
   "cell_type": "markdown",
   "metadata": {},
   "source": [
    "Using grid search again to optimize the hyperparameters:"
   ]
  },
  {
   "cell_type": "code",
   "execution_count": null,
   "metadata": {
    "colab": {
     "base_uri": "https://localhost:8080/",
     "height": 34
    },
    "colab_type": "code",
    "id": "0nA4X5KqHR3h",
    "outputId": "7f52fcd3-4d7d-464f-fbb4-77e544cd8181"
   },
   "outputs": [
    {
     "data": {
      "text/plain": [
       "['rf_3yr.pkl']"
      ]
     },
     "execution_count": 52,
     "metadata": {
      "tags": []
     },
     "output_type": "execute_result"
    }
   ],
   "source": [
    "estimators = [('pca', PCA()),\n",
    "              ('model', RandomForestClassifier(n_jobs=-1))]\n",
    "\n",
    "pipe = Pipeline(estimators)\n",
    "\n",
    "param_grid = [{'pca': [PCA()],\n",
    "               'pca__n_components': [x for x in range(5,num_feat,5)],\n",
    "               'model': [RandomForestClassifier(n_jobs=-1)], \n",
    "               'model__n_estimators': [i for i in range(10,110,10)],\n",
    "               'model__max_depth': [i for i in range(1,11)],\n",
    "               'model__min_samples_leaf': [i for i in range(1,11)]}]\n",
    "\n",
    "grid = GridSearchCV(pipe, param_grid, n_jobs=-1, cv=5)\n",
    "fittedgrid3 = grid.fit(X3_train, y3_train)\n",
    "\n",
    "joblib.dump(fittedgrid3, 'rf_3yr.pkl')"
   ]
  },
  {
   "cell_type": "code",
   "execution_count": null,
   "metadata": {
    "colab": {
     "base_uri": "https://localhost:8080/",
     "height": 323
    },
    "colab_type": "code",
    "id": "437ZLMyvHR3j",
    "outputId": "546d25ba-a2cb-4f0a-c088-5b50c037ecd5"
   },
   "outputs": [
    {
     "data": {
      "text/plain": [
       "Pipeline(memory=None,\n",
       "         steps=[('pca',\n",
       "                 PCA(copy=True, iterated_power='auto', n_components=10,\n",
       "                     random_state=None, svd_solver='auto', tol=0.0,\n",
       "                     whiten=False)),\n",
       "                ('model',\n",
       "                 RandomForestClassifier(bootstrap=True, ccp_alpha=0.0,\n",
       "                                        class_weight=None, criterion='gini',\n",
       "                                        max_depth=9, max_features='auto',\n",
       "                                        max_leaf_nodes=None, max_samples=None,\n",
       "                                        min_impurity_decrease=0.0,\n",
       "                                        min_impurity_split=None,\n",
       "                                        min_samples_leaf=7, min_samples_split=2,\n",
       "                                        min_weight_fraction_leaf=0.0,\n",
       "                                        n_estimators=60, n_jobs=-1,\n",
       "                                        oob_score=False, random_state=None,\n",
       "                                        verbose=0, warm_start=False))],\n",
       "         verbose=False)"
      ]
     },
     "execution_count": 53,
     "metadata": {
      "tags": []
     },
     "output_type": "execute_result"
    }
   ],
   "source": [
    "fittedgrid3.best_estimator_"
   ]
  },
  {
   "cell_type": "code",
   "execution_count": null,
   "metadata": {
    "colab": {
     "base_uri": "https://localhost:8080/",
     "height": 34
    },
    "colab_type": "code",
    "id": "nKjcNm9xHR3q",
    "outputId": "72e4490f-9bf4-46e8-b389-ed5a1bafd280"
   },
   "outputs": [
    {
     "data": {
      "text/plain": [
       "0.7296317942723552"
      ]
     },
     "execution_count": 54,
     "metadata": {
      "tags": []
     },
     "output_type": "execute_result"
    }
   ],
   "source": [
    "fittedgrid3.best_score_"
   ]
  },
  {
   "cell_type": "markdown",
   "metadata": {},
   "source": [
    "The accuracy score over the entire training dataset is:"
   ]
  },
  {
   "cell_type": "code",
   "execution_count": 18,
   "metadata": {},
   "outputs": [
    {
     "data": {
      "text/plain": [
       "0.7842465753424658"
      ]
     },
     "execution_count": 18,
     "metadata": {},
     "output_type": "execute_result"
    }
   ],
   "source": [
    "fittedgrid3.score(X3_train, y3_train)"
   ]
  },
  {
   "cell_type": "markdown",
   "metadata": {},
   "source": [
    "The test accuracy is:"
   ]
  },
  {
   "cell_type": "code",
   "execution_count": null,
   "metadata": {
    "colab": {
     "base_uri": "https://localhost:8080/",
     "height": 34
    },
    "colab_type": "code",
    "id": "vITvBNpLHR3v",
    "outputId": "76262316-9278-4627-d2a9-1189baa38d36"
   },
   "outputs": [
    {
     "data": {
      "text/plain": [
       "0.6984126984126984"
      ]
     },
     "execution_count": 55,
     "metadata": {
      "tags": []
     },
     "output_type": "execute_result"
    }
   ],
   "source": [
    "fittedgrid3.score(X3_test, y3_test)"
   ]
  },
  {
   "cell_type": "markdown",
   "metadata": {
    "colab_type": "text",
    "id": "YknQubFZVrtX"
   },
   "source": [
    "#### XGBoost decision tree"
   ]
  },
  {
   "cell_type": "markdown",
   "metadata": {},
   "source": [
    "To optimize the hyperparameters:"
   ]
  },
  {
   "cell_type": "code",
   "execution_count": 11,
   "metadata": {
    "colab": {
     "base_uri": "https://localhost:8080/",
     "height": 34
    },
    "colab_type": "code",
    "id": "HHAjENx7HR33",
    "outputId": "93253c79-1d3c-42e7-c96d-85ecf4849d96"
   },
   "outputs": [
    {
     "name": "stderr",
     "output_type": "stream",
     "text": [
      "/opt/anaconda3/lib/python3.7/site-packages/sklearn/model_selection/_search.py:814: DeprecationWarning: The default of the `iid` parameter will change from True to False in version 0.22 and will be removed in 0.24. This will change numeric results when test-set sizes are unequal.\n",
      "  DeprecationWarning)\n"
     ]
    }
   ],
   "source": [
    "estimators = [('pca', PCA()),\n",
    "              ('model', XGBClassifier())]\n",
    "\n",
    "pipe = Pipeline(estimators)\n",
    "\n",
    "param_grid = [{'pca': [PCA()],\n",
    "               'pca__n_components': [x for x in range(5,num_feat,5)],\n",
    "               'model': [XGBClassifier()], \n",
    "               'model__max_depth': [i for i in range(1,11)],\n",
    "               'model__n_estimators': [i for i in range(10,160,10)]}]\n",
    "\n",
    "grid = GridSearchCV(pipe, param_grid, n_jobs=-1, cv=5)\n",
    "fittedgrid3 = grid.fit(X3_train, y3_train)"
   ]
  },
  {
   "cell_type": "code",
   "execution_count": 12,
   "metadata": {
    "colab": {
     "base_uri": "https://localhost:8080/",
     "height": 34
    },
    "colab_type": "code",
    "id": "HHAjENx7HR33",
    "outputId": "93253c79-1d3c-42e7-c96d-85ecf4849d96"
   },
   "outputs": [
    {
     "data": {
      "text/plain": [
       "['xgb_3yr.pkl']"
      ]
     },
     "execution_count": 12,
     "metadata": {},
     "output_type": "execute_result"
    }
   ],
   "source": [
    "joblib.dump(fittedgrid3, 'xgb_3yr.pkl')"
   ]
  },
  {
   "cell_type": "code",
   "execution_count": null,
   "metadata": {
    "colab": {
     "base_uri": "https://localhost:8080/",
     "height": 306
    },
    "colab_type": "code",
    "id": "EcF5VCkMHR36",
    "outputId": "c9e55ae7-b9a0-48e7-8e00-4db770f73ca4"
   },
   "outputs": [
    {
     "data": {
      "text/plain": [
       "Pipeline(memory=None,\n",
       "         steps=[('pca',\n",
       "                 PCA(copy=True, iterated_power='auto', n_components=10,\n",
       "                     random_state=None, svd_solver='auto', tol=0.0,\n",
       "                     whiten=False)),\n",
       "                ('model',\n",
       "                 XGBClassifier(base_score=0.5, booster='gbtree',\n",
       "                               colsample_bylevel=1, colsample_bynode=1,\n",
       "                               colsample_bytree=1, gamma=0, learning_rate=0.1,\n",
       "                               max_delta_step=0, max_depth=1,\n",
       "                               min_child_weight=1, missing=None,\n",
       "                               n_estimators=80, n_jobs=1, nthread=None,\n",
       "                               objective='binary:logistic', random_state=0,\n",
       "                               reg_alpha=0, reg_lambda=1, scale_pos_weight=1,\n",
       "                               seed=None, silent=None, subsample=1,\n",
       "                               verbosity=1))],\n",
       "         verbose=False)"
      ]
     },
     "execution_count": 49,
     "metadata": {
      "tags": []
     },
     "output_type": "execute_result"
    }
   ],
   "source": [
    "fittedgrid3.best_estimator_"
   ]
  },
  {
   "cell_type": "code",
   "execution_count": null,
   "metadata": {
    "colab": {
     "base_uri": "https://localhost:8080/",
     "height": 34
    },
    "colab_type": "code",
    "id": "Xl6gZqckHR3-",
    "outputId": "273a36d7-fe26-4bb9-b850-11520e79f3b5"
   },
   "outputs": [
    {
     "data": {
      "text/plain": [
       "0.7227936879018119"
      ]
     },
     "execution_count": 50,
     "metadata": {
      "tags": []
     },
     "output_type": "execute_result"
    }
   ],
   "source": [
    "fittedgrid3.best_score_"
   ]
  },
  {
   "cell_type": "code",
   "execution_count": 8,
   "metadata": {},
   "outputs": [],
   "source": [
    "fittedgrid3 = joblib.load('Pickle files/3 year/xgb_3yr.pkl')"
   ]
  },
  {
   "cell_type": "markdown",
   "metadata": {},
   "source": [
    "The accuracy score over the entire training set is:"
   ]
  },
  {
   "cell_type": "code",
   "execution_count": 12,
   "metadata": {},
   "outputs": [
    {
     "data": {
      "text/plain": [
       "0.7465753424657534"
      ]
     },
     "execution_count": 12,
     "metadata": {},
     "output_type": "execute_result"
    }
   ],
   "source": [
    "fittedgrid3.score(X3_train, y3_train)"
   ]
  },
  {
   "cell_type": "markdown",
   "metadata": {},
   "source": [
    "The test accuracy is:"
   ]
  },
  {
   "cell_type": "code",
   "execution_count": null,
   "metadata": {
    "colab": {
     "base_uri": "https://localhost:8080/",
     "height": 34
    },
    "colab_type": "code",
    "id": "O30kfuntHR4B",
    "outputId": "6fa32aba-611b-4a62-92bb-798b35375e87"
   },
   "outputs": [
    {
     "data": {
      "text/plain": [
       "0.6825396825396826"
      ]
     },
     "execution_count": 51,
     "metadata": {
      "tags": []
     },
     "output_type": "execute_result"
    }
   ],
   "source": [
    "fittedgrid3.score(X3_test, y3_test)"
   ]
  },
  {
   "cell_type": "markdown",
   "metadata": {},
   "source": [
    "For the precision and the recall:"
   ]
  },
  {
   "cell_type": "code",
   "execution_count": 13,
   "metadata": {},
   "outputs": [
    {
     "name": "stdout",
     "output_type": "stream",
     "text": [
      "              precision    recall  f1-score   support\n",
      "\n",
      "           0       0.69      0.95      0.80        85\n",
      "           1       0.50      0.10      0.16        41\n",
      "\n",
      "    accuracy                           0.67       126\n",
      "   macro avg       0.59      0.53      0.48       126\n",
      "weighted avg       0.63      0.67      0.59       126\n",
      "\n"
     ]
    }
   ],
   "source": [
    "print(classification_report(y3_test, fittedgrid3.predict(X3_test)))"
   ]
  },
  {
   "cell_type": "markdown",
   "metadata": {},
   "source": [
    "The recall for class 1 (i.e. patients surviving past the 3-year mark) is very low. Try SMOTE-ing the data?"
   ]
  },
  {
   "cell_type": "code",
   "execution_count": null,
   "metadata": {},
   "outputs": [],
   "source": [
    "my_smote = SMOTE()\n",
    "X3_train_smote, y3_train_smote = "
   ]
  },
  {
   "cell_type": "markdown",
   "metadata": {
    "colab_type": "text",
    "id": "T5lLwwv0TZjQ"
   },
   "source": [
    "#### Support Vector Machine"
   ]
  },
  {
   "cell_type": "markdown",
   "metadata": {},
   "source": [
    "To optimize the hyperparameters:"
   ]
  },
  {
   "cell_type": "code",
   "execution_count": null,
   "metadata": {
    "colab": {
     "base_uri": "https://localhost:8080/",
     "height": 34
    },
    "colab_type": "code",
    "id": "Vs4O9923HR4E",
    "outputId": "d6fb3b05-75f9-4628-bab9-4b8384062661"
   },
   "outputs": [],
   "source": [
    "estimators = [('pca', PCA()),\n",
    "              ('model', SVC())]\n",
    "\n",
    "pipe = Pipeline(estimators)\n",
    "\n",
    "param_grid = [{'pca': [PCA()],\n",
    "               'pca__n_components': [x for x in range(5,num_feat,5)],\n",
    "               'model': [SVC(decision_function_shape='ovo', max_iter=999)], \n",
    "               'model__C': [10**i for i in range(-6,7)],\n",
    "               'model__kernel': ['linear', 'poly', 'rbf', 'sigmoid']}]\n",
    "\n",
    "grid = GridSearchCV(pipe, param_grid, n_jobs=-1, cv=5)\n",
    "fittedgrid3 = grid.fit(X3_train, y3_train)"
   ]
  },
  {
   "cell_type": "code",
   "execution_count": 28,
   "metadata": {
    "colab": {
     "base_uri": "https://localhost:8080/",
     "height": 34
    },
    "colab_type": "code",
    "id": "Vs4O9923HR4E",
    "outputId": "d6fb3b05-75f9-4628-bab9-4b8384062661"
   },
   "outputs": [
    {
     "data": {
      "text/plain": [
       "['svm_3yr.pkl']"
      ]
     },
     "execution_count": 28,
     "metadata": {},
     "output_type": "execute_result"
    }
   ],
   "source": [
    "joblib.dump(fittedgrid3, 'svm_3yr.pkl')"
   ]
  },
  {
   "cell_type": "code",
   "execution_count": null,
   "metadata": {
    "colab": {
     "base_uri": "https://localhost:8080/",
     "height": 221
    },
    "colab_type": "code",
    "id": "Aa7TFRYvHR4G",
    "outputId": "e1540a9a-ee44-4d23-8918-f6738ff2e6be"
   },
   "outputs": [
    {
     "data": {
      "text/plain": [
       "Pipeline(memory=None,\n",
       "         steps=[('pca',\n",
       "                 PCA(copy=True, iterated_power='auto', n_components=5,\n",
       "                     random_state=None, svd_solver='auto', tol=0.0,\n",
       "                     whiten=False)),\n",
       "                ('model',\n",
       "                 SVC(C=0.1, break_ties=False, cache_size=200, class_weight=None,\n",
       "                     coef0=0.0, decision_function_shape='ovo', degree=3,\n",
       "                     gamma='scale', kernel='sigmoid', max_iter=999,\n",
       "                     probability=False, random_state=None, shrinking=True,\n",
       "                     tol=0.001, verbose=False))],\n",
       "         verbose=False)"
      ]
     },
     "execution_count": 18,
     "metadata": {
      "tags": []
     },
     "output_type": "execute_result"
    }
   ],
   "source": [
    "fittedgrid3.best_estimator_"
   ]
  },
  {
   "cell_type": "code",
   "execution_count": null,
   "metadata": {
    "colab": {
     "base_uri": "https://localhost:8080/",
     "height": 34
    },
    "colab_type": "code",
    "id": "plKuCEQtHR4K",
    "outputId": "fc5bbc05-630a-435c-c8c5-f3ff7a813a1b"
   },
   "outputs": [
    {
     "data": {
      "text/plain": [
       "0.7021040327293979"
      ]
     },
     "execution_count": 19,
     "metadata": {
      "tags": []
     },
     "output_type": "execute_result"
    }
   ],
   "source": [
    "fittedgrid3.best_score_"
   ]
  },
  {
   "cell_type": "markdown",
   "metadata": {},
   "source": [
    "The accuracy score on the training set is:"
   ]
  },
  {
   "cell_type": "code",
   "execution_count": 30,
   "metadata": {},
   "outputs": [
    {
     "data": {
      "text/plain": [
       "0.934931506849315"
      ]
     },
     "execution_count": 30,
     "metadata": {},
     "output_type": "execute_result"
    }
   ],
   "source": [
    "fittedgrid3.score(X3_train, y3_train)"
   ]
  },
  {
   "cell_type": "markdown",
   "metadata": {},
   "source": [
    "The test accuracy is:"
   ]
  },
  {
   "cell_type": "code",
   "execution_count": 31,
   "metadata": {
    "colab": {
     "base_uri": "https://localhost:8080/",
     "height": 34
    },
    "colab_type": "code",
    "id": "j4MkKCIvHR4O",
    "outputId": "fd05950d-d36f-4bb6-b7f6-6757769677ea"
   },
   "outputs": [
    {
     "data": {
      "text/plain": [
       "0.6984126984126984"
      ]
     },
     "execution_count": 31,
     "metadata": {},
     "output_type": "execute_result"
    }
   ],
   "source": [
    "fittedgrid3.score(X3_test, y3_test)"
   ]
  },
  {
   "cell_type": "markdown",
   "metadata": {},
   "source": [
    "The precision and recall are:"
   ]
  },
  {
   "cell_type": "code",
   "execution_count": 32,
   "metadata": {},
   "outputs": [
    {
     "name": "stdout",
     "output_type": "stream",
     "text": [
      "              precision    recall  f1-score   support\n",
      "\n",
      "           0       0.70      0.95      0.81        85\n",
      "           1       0.64      0.17      0.27        41\n",
      "\n",
      "    accuracy                           0.70       126\n",
      "   macro avg       0.67      0.56      0.54       126\n",
      "weighted avg       0.68      0.70      0.63       126\n",
      "\n"
     ]
    }
   ],
   "source": [
    "print(classification_report(y3_test, fittedgrid3.predict(X3_test)))"
   ]
  },
  {
   "cell_type": "markdown",
   "metadata": {},
   "source": [
    "The model has pretty low precision and recall. Try SMOTE-ing it:"
   ]
  },
  {
   "cell_type": "code",
   "execution_count": 14,
   "metadata": {},
   "outputs": [],
   "source": [
    "my_smote = SMOTE(random_state=1)\n",
    "X3_train_smote, y3_train_smote = my_smote.fit_resample(X3_train, y3_train)"
   ]
  },
  {
   "cell_type": "markdown",
   "metadata": {},
   "source": [
    "And then retrain:"
   ]
  },
  {
   "cell_type": "code",
   "execution_count": 17,
   "metadata": {},
   "outputs": [
    {
     "name": "stderr",
     "output_type": "stream",
     "text": [
      "/opt/anaconda3/lib/python3.7/site-packages/sklearn/model_selection/_search.py:814: DeprecationWarning: The default of the `iid` parameter will change from True to False in version 0.22 and will be removed in 0.24. This will change numeric results when test-set sizes are unequal.\n",
      "  DeprecationWarning)\n"
     ]
    }
   ],
   "source": [
    "estimators = [('pca', PCA()),\n",
    "              ('model', SVC())]\n",
    "\n",
    "pipe = Pipeline(estimators)\n",
    "\n",
    "param_grid = [{'pca': [PCA()],\n",
    "               'pca__n_components': [x for x in range(5,num_feat,5)],\n",
    "               'model': [SVC(decision_function_shape='ovo', max_iter=999)], \n",
    "               'model__C': [10**i for i in range(-6,7)],\n",
    "               'model__kernel': ['linear', 'poly', 'rbf', 'sigmoid']}]\n",
    "\n",
    "grid = GridSearchCV(pipe, param_grid, n_jobs=-1, cv=5)\n",
    "fittedgrid3_smote = grid.fit(X3_train_smote, y3_train_smote)"
   ]
  },
  {
   "cell_type": "code",
   "execution_count": 18,
   "metadata": {},
   "outputs": [
    {
     "data": {
      "text/plain": [
       "['svm_smote_3yr.pkl']"
      ]
     },
     "execution_count": 18,
     "metadata": {},
     "output_type": "execute_result"
    }
   ],
   "source": [
    "joblib.dump(fittedgrid3_smote, 'svm_smote_3yr.pkl')"
   ]
  },
  {
   "cell_type": "markdown",
   "metadata": {},
   "source": [
    "The accuracy score on the original training set is:"
   ]
  },
  {
   "cell_type": "code",
   "execution_count": 20,
   "metadata": {},
   "outputs": [
    {
     "data": {
      "text/plain": [
       "1.0"
      ]
     },
     "execution_count": 20,
     "metadata": {},
     "output_type": "execute_result"
    }
   ],
   "source": [
    "fittedgrid3_smote.score(X3_train, y3_train)"
   ]
  },
  {
   "cell_type": "markdown",
   "metadata": {},
   "source": [
    "And the test accuracy is:"
   ]
  },
  {
   "cell_type": "code",
   "execution_count": 21,
   "metadata": {},
   "outputs": [
    {
     "data": {
      "text/plain": [
       "0.6825396825396826"
      ]
     },
     "execution_count": 21,
     "metadata": {},
     "output_type": "execute_result"
    }
   ],
   "source": [
    "fittedgrid3_smote.score(X3_test, y3_test)"
   ]
  },
  {
   "cell_type": "markdown",
   "metadata": {},
   "source": [
    "The accuracy score has decreased by a small bit. What about the recall adn precision?"
   ]
  },
  {
   "cell_type": "code",
   "execution_count": 19,
   "metadata": {},
   "outputs": [
    {
     "name": "stdout",
     "output_type": "stream",
     "text": [
      "              precision    recall  f1-score   support\n",
      "\n",
      "           0       0.73      0.85      0.78        85\n",
      "           1       0.52      0.34      0.41        41\n",
      "\n",
      "    accuracy                           0.68       126\n",
      "   macro avg       0.62      0.59      0.60       126\n",
      "weighted avg       0.66      0.68      0.66       126\n",
      "\n"
     ]
    }
   ],
   "source": [
    "print(classification_report(y3_test, fittedgrid3_smote.predict(X3_test)))"
   ]
  },
  {
   "cell_type": "markdown",
   "metadata": {},
   "source": [
    "The precision decreases while the recall improves, resulting in a better f1-score for class 1."
   ]
  },
  {
   "cell_type": "markdown",
   "metadata": {
    "colab_type": "text",
    "id": "HcjUnzPNMea7"
   },
   "source": [
    "#### Quadratic Discriminant Analysis"
   ]
  },
  {
   "cell_type": "markdown",
   "metadata": {},
   "source": [
    "Again, as a basis of comparison (and an additional option):"
   ]
  },
  {
   "cell_type": "code",
   "execution_count": null,
   "metadata": {
    "colab": {
     "base_uri": "https://localhost:8080/",
     "height": 34
    },
    "colab_type": "code",
    "id": "byABpPwWMdtC",
    "outputId": "631ac4cc-e7bd-45c5-ada4-d9b5dac511ee"
   },
   "outputs": [
    {
     "data": {
      "text/plain": [
       "['qda_3yr.pkl']"
      ]
     },
     "execution_count": 31,
     "metadata": {
      "tags": []
     },
     "output_type": "execute_result"
    }
   ],
   "source": [
    "my_qda = QuadraticDiscriminantAnalysis()\n",
    "my_qda.fit(X3_train, y3_train)\n",
    "joblib.dump(my_qda, 'qda_3yr.pkl')"
   ]
  },
  {
   "cell_type": "markdown",
   "metadata": {},
   "source": [
    "The accuracy score on the training set is:"
   ]
  },
  {
   "cell_type": "code",
   "execution_count": null,
   "metadata": {
    "colab": {
     "base_uri": "https://localhost:8080/",
     "height": 34
    },
    "colab_type": "code",
    "id": "vfdHdJdeMzI6",
    "outputId": "97725a00-ea9a-4ada-f9e3-2a4814444313"
   },
   "outputs": [
    {
     "data": {
      "text/plain": [
       "1.0"
      ]
     },
     "execution_count": 46,
     "metadata": {
      "tags": []
     },
     "output_type": "execute_result"
    }
   ],
   "source": [
    "my_qda.score(X3_train, y3_train)"
   ]
  },
  {
   "cell_type": "markdown",
   "metadata": {},
   "source": [
    "The test accuracy score is:"
   ]
  },
  {
   "cell_type": "code",
   "execution_count": null,
   "metadata": {
    "colab": {
     "base_uri": "https://localhost:8080/",
     "height": 34
    },
    "colab_type": "code",
    "id": "rjbjaLtEM3YM",
    "outputId": "73a92a04-e082-4d92-8de7-3700fcf17473"
   },
   "outputs": [
    {
     "data": {
      "text/plain": [
       "0.6746031746031746"
      ]
     },
     "execution_count": 47,
     "metadata": {
      "tags": []
     },
     "output_type": "execute_result"
    }
   ],
   "source": [
    "my_qda.score(X3_test, y3_test)"
   ]
  },
  {
   "cell_type": "markdown",
   "metadata": {},
   "source": [
    "Let us take a closer look at the classification report:"
   ]
  },
  {
   "cell_type": "code",
   "execution_count": 21,
   "metadata": {},
   "outputs": [
    {
     "name": "stdout",
     "output_type": "stream",
     "text": [
      "              precision    recall  f1-score   support\n",
      "\n",
      "           0       0.67      1.00      0.81        85\n",
      "           1       0.00      0.00      0.00        41\n",
      "\n",
      "    accuracy                           0.67       126\n",
      "   macro avg       0.34      0.50      0.40       126\n",
      "weighted avg       0.46      0.67      0.54       126\n",
      "\n"
     ]
    }
   ],
   "source": [
    "print(classification_report(y3_test, my_qda.predict(X3_test)))"
   ]
  },
  {
   "cell_type": "markdown",
   "metadata": {},
   "source": [
    "The model fails to identify any patients who survive past the 3-year mark."
   ]
  },
  {
   "cell_type": "markdown",
   "metadata": {},
   "source": [
    "Try SMOTE-ing the data, then fit and score the model with the SMOTE-ed training set and the test set:"
   ]
  },
  {
   "cell_type": "code",
   "execution_count": 23,
   "metadata": {},
   "outputs": [
    {
     "data": {
      "text/plain": [
       "QuadraticDiscriminantAnalysis(priors=None, reg_param=0.0,\n",
       "                              store_covariance=False, tol=0.0001)"
      ]
     },
     "execution_count": 23,
     "metadata": {},
     "output_type": "execute_result"
    }
   ],
   "source": [
    "my_qda.fit(X3_train_smote, y3_train_smote)"
   ]
  },
  {
   "cell_type": "code",
   "execution_count": 24,
   "metadata": {},
   "outputs": [
    {
     "data": {
      "text/plain": [
       "0.9950738916256158"
      ]
     },
     "execution_count": 24,
     "metadata": {},
     "output_type": "execute_result"
    }
   ],
   "source": [
    "my_qda.score(X3_train_smote, y3_train_smote)"
   ]
  },
  {
   "cell_type": "code",
   "execution_count": 25,
   "metadata": {},
   "outputs": [
    {
     "data": {
      "text/plain": [
       "0.6746031746031746"
      ]
     },
     "execution_count": 25,
     "metadata": {},
     "output_type": "execute_result"
    }
   ],
   "source": [
    "my_qda.score(X3_test, y3_test)"
   ]
  },
  {
   "cell_type": "markdown",
   "metadata": {},
   "source": [
    "The test accuracy is unchanged. What about the precision and recall for the two classes?"
   ]
  },
  {
   "cell_type": "code",
   "execution_count": 26,
   "metadata": {},
   "outputs": [
    {
     "name": "stdout",
     "output_type": "stream",
     "text": [
      "              precision    recall  f1-score   support\n",
      "\n",
      "           0       0.67      1.00      0.81        85\n",
      "           1       0.00      0.00      0.00        41\n",
      "\n",
      "    accuracy                           0.67       126\n",
      "   macro avg       0.34      0.50      0.40       126\n",
      "weighted avg       0.46      0.67      0.54       126\n",
      "\n"
     ]
    }
   ],
   "source": [
    "print(classification_report(y3_test, my_qda.predict(X3_test)))"
   ]
  },
  {
   "cell_type": "markdown",
   "metadata": {},
   "source": [
    "Unfortunately, SMOTE-ing the training set does not make the model better learn to identify the patients surviving past the 3-year mark."
   ]
  },
  {
   "cell_type": "markdown",
   "metadata": {
    "colab_type": "text",
    "id": "2VncJWzTVjke"
   },
   "source": [
    "#### Neural network"
   ]
  },
  {
   "cell_type": "markdown",
   "metadata": {},
   "source": [
    "The neural network for the 3-year analysis will have the same architecture, same activation function and same number of epochs as the 1-year analysis:"
   ]
  },
  {
   "cell_type": "code",
   "execution_count": null,
   "metadata": {
    "colab": {},
    "colab_type": "code",
    "id": "H-rzX-CtR6EM"
   },
   "outputs": [],
   "source": [
    "input_size = num_feat\n",
    "output_size = 2"
   ]
  },
  {
   "cell_type": "code",
   "execution_count": null,
   "metadata": {
    "colab": {},
    "colab_type": "code",
    "id": "5riPBBq1R6ES"
   },
   "outputs": [],
   "source": [
    "# Make the placeholder variables:\n",
    "input_X = tf.placeholder(tf.float32, shape=(None, input_size))\n",
    "input_y = tf.placeholder(tf.float32, shape=(None, output_size))"
   ]
  },
  {
   "cell_type": "code",
   "execution_count": null,
   "metadata": {
    "colab": {},
    "colab_type": "code",
    "id": "yyjAuyiHR6EV"
   },
   "outputs": [],
   "source": [
    "# Size of the hidden dimension\n",
    "num_hidden_1 = 400\n",
    "num_hidden_2 = 400\n",
    "\n",
    "# Hidden Unit activations 1\n",
    "W1 = tf.Variable(tf.random_normal([input_size, num_hidden_1]))\n",
    "b1 = tf.Variable(tf.random_normal([num_hidden_1])) #bias\n",
    "hidden_output_1 = tf.nn.elu(tf.add(tf.matmul(input_X,W1), b1)) # elu for hidden layer\n",
    "\n",
    "# Hidden Unit activations 2\n",
    "W2 = tf.Variable(tf.random_normal([num_hidden_1, num_hidden_2]))\n",
    "b2 = tf.Variable(tf.random_normal([num_hidden_2])) #bias\n",
    "hidden_output_2 = tf.nn.elu(tf.add(tf.matmul(hidden_output_1,W2), b2)) # elu for hidden layer\n",
    "\n",
    "# Output Unit activations\n",
    "W3 = tf.Variable(tf.random_normal([num_hidden_2, output_size]))\n",
    "b3 = tf.Variable(tf.random_normal([output_size]))\n",
    "net_output = tf.nn.softmax(tf.add( tf.matmul(hidden_output_2, W3), b3)) # Softmax for output layer"
   ]
  },
  {
   "cell_type": "markdown",
   "metadata": {},
   "source": [
    "Transforming the format of the target series so that it can be processed with the neural network:"
   ]
  },
  {
   "cell_type": "code",
   "execution_count": null,
   "metadata": {
    "colab": {},
    "colab_type": "code",
    "id": "IHQt4thsR6EX"
   },
   "outputs": [],
   "source": [
    "encoder = LabelBinarizer()\n",
    "\n",
    "one_hot_encoder = encoder.fit(list(y3_train))\n",
    "y3_np_train = one_hot_encoder.transform(y3_train)\n",
    "y3_np_test = one_hot_encoder.transform(y3_test)\n",
    "y3_np_train = np.hstack((y3_np_train, 1 - y3_np_train))\n",
    "y3_np_test = np.hstack((y3_np_test, 1 - y3_np_test))"
   ]
  },
  {
   "cell_type": "code",
   "execution_count": null,
   "metadata": {
    "colab": {
     "base_uri": "https://localhost:8080/",
     "height": 34
    },
    "colab_type": "code",
    "id": "gIOGZZ_nR6EZ",
    "outputId": "6d720e4b-e4f9-4c18-ec23-06499c05198e"
   },
   "outputs": [
    {
     "data": {
      "text/plain": [
       "(292, 2)"
      ]
     },
     "execution_count": 68,
     "metadata": {
      "tags": []
     },
     "output_type": "execute_result"
    }
   ],
   "source": [
    "y3_np_train.shape"
   ]
  },
  {
   "cell_type": "code",
   "execution_count": null,
   "metadata": {
    "colab": {
     "base_uri": "https://localhost:8080/",
     "height": 88
    },
    "colab_type": "code",
    "id": "mOsA57TuR6Ed",
    "outputId": "597305f1-b87f-41c6-de07-0ac6c040697c"
   },
   "outputs": [
    {
     "name": "stdout",
     "output_type": "stream",
     "text": [
      "WARNING:tensorflow:From /usr/local/lib/python3.6/dist-packages/tensorflow_core/python/ops/losses/losses_impl.py:121: where (from tensorflow.python.ops.array_ops) is deprecated and will be removed in a future version.\n",
      "Instructions for updating:\n",
      "Use tf.where in 2.0, which has the same broadcast rule as np.where\n"
     ]
    }
   ],
   "source": [
    "# Use cross entropy loss (we're doing classification)\n",
    "# This is where we link our network to the objective function.\n",
    "loss = tf.losses.softmax_cross_entropy(input_y, net_output)\n",
    "\n",
    "# Get accuracy measure\n",
    "# acc will store the accuracy score of the true labels and our net output\n",
    "acc, acc_op = tf.metrics.accuracy(labels=tf.argmax(input_y, 1), predictions=tf.argmax(net_output, 1))\n",
    "\n",
    "# Use gradient descent with a learning rate of 0.1\n",
    "optimizer = tf.train.GradientDescentOptimizer(0.1)\n",
    "\n",
    "# Objective is minimize the loss\n",
    "train = optimizer.minimize(loss)"
   ]
  },
  {
   "cell_type": "code",
   "execution_count": null,
   "metadata": {
    "colab": {},
    "colab_type": "code",
    "id": "ZfkB5jbDR6Eh"
   },
   "outputs": [],
   "source": [
    "# Open a TensorFlow session\n",
    "sess = tf.Session()\n",
    "init = tf.group(tf.global_variables_initializer(), tf.local_variables_initializer())\n",
    "sess.run(init)"
   ]
  },
  {
   "cell_type": "code",
   "execution_count": null,
   "metadata": {
    "colab": {
     "base_uri": "https://localhost:8080/",
     "height": 374
    },
    "colab_type": "code",
    "id": "ea5LEWrHR6Ej",
    "outputId": "fc78666d-128f-48d1-d39a-d30b7d95d21e"
   },
   "outputs": [
    {
     "name": "stdout",
     "output_type": "stream",
     "text": [
      "Epoch: 0, Loss: 0.639, Accuracy: 0.675\n",
      "Epoch: 1000, Loss: 0.639, Accuracy: 0.675\n",
      "Epoch: 2000, Loss: 0.639, Accuracy: 0.675\n",
      "Epoch: 3000, Loss: 0.639, Accuracy: 0.675\n",
      "Epoch: 4000, Loss: 0.639, Accuracy: 0.675\n",
      "Epoch: 5000, Loss: 0.639, Accuracy: 0.675\n",
      "Epoch: 6000, Loss: 0.639, Accuracy: 0.675\n",
      "Epoch: 7000, Loss: 0.639, Accuracy: 0.675\n",
      "Epoch: 8000, Loss: 0.639, Accuracy: 0.675\n",
      "Epoch: 9000, Loss: 0.639, Accuracy: 0.675\n",
      "Epoch: 10000, Loss: 0.639, Accuracy: 0.675\n",
      "Epoch: 11000, Loss: 0.639, Accuracy: 0.675\n",
      "Epoch: 12000, Loss: 0.639, Accuracy: 0.675\n",
      "Epoch: 13000, Loss: 0.639, Accuracy: 0.675\n",
      "Epoch: 14000, Loss: 0.639, Accuracy: 0.675\n",
      "Epoch: 15000, Loss: 0.639, Accuracy: 0.675\n",
      "Epoch: 16000, Loss: 0.639, Accuracy: 0.675\n",
      "Epoch: 17000, Loss: 0.639, Accuracy: 0.675\n",
      "Epoch: 18000, Loss: 0.639, Accuracy: 0.675\n",
      "Epoch: 19000, Loss: 0.639, Accuracy: 0.675\n",
      "0.6746575\n"
     ]
    }
   ],
   "source": [
    "epochs = 20000\n",
    "\n",
    "# Each epoch is one pass through the data\n",
    "for epoch in range(epochs):\n",
    "    \n",
    "    # Update the network.\n",
    "    # feed_dict passes in the input for training\n",
    "    # train linkes the session to the network\n",
    "    sess.run(train, feed_dict={input_X: X3_train, input_y: y3_np_train})\n",
    "    \n",
    "    if epoch % 1000 == 0 :\n",
    "        # Get the training loss\n",
    "        training_loss = sess.run(loss, feed_dict={input_X: X3_train, input_y: y3_np_train})\n",
    "        \n",
    "        score = sess.run([acc, acc_op], feed_dict={input_X: X3_train, input_y: y3_np_train})\n",
    "        print(f'Epoch: {epoch}, Loss: {training_loss:.3f}, Accuracy: {score[1]:.3f}')\n",
    "\n",
    "# run session to calculate the accuracy score on test set\n",
    "test_acc,_ = sess.run([acc, acc_op], feed_dict={input_X: X3_test, input_y: y3_np_test})\n",
    "print(test_acc)"
   ]
  },
  {
   "cell_type": "markdown",
   "metadata": {
    "colab_type": "text",
    "id": "kOdKLHZBHR4Q"
   },
   "source": [
    "---"
   ]
  },
  {
   "cell_type": "markdown",
   "metadata": {
    "colab_type": "text",
    "id": "YYOwrIVwHR4T"
   },
   "source": [
    "### 5-year analysis\n",
    "For the patients surviving for 5 years:"
   ]
  },
  {
   "cell_type": "code",
   "execution_count": null,
   "metadata": {
    "colab": {},
    "colab_type": "code",
    "id": "3yabLBqrHR4U"
   },
   "outputs": [],
   "source": [
    "X5 = df_tf[mask_5yr | dead][df_tf.columns[feat_mask]]\n",
    "y5 = (df_tf[mask_5yr | dead]['Survival.time'] > 5*365).astype(int)\n",
    "\n",
    "X5 = X5.astype(float)"
   ]
  },
  {
   "cell_type": "markdown",
   "metadata": {},
   "source": [
    "The total number of rows for the 5-year analysis is:"
   ]
  },
  {
   "cell_type": "code",
   "execution_count": null,
   "metadata": {
    "colab": {
     "base_uri": "https://localhost:8080/",
     "height": 34
    },
    "colab_type": "code",
    "id": "ivfDF5ewHR4a",
    "outputId": "045d67cd-0027-404b-c930-177f7a3e806b"
   },
   "outputs": [
    {
     "data": {
      "text/plain": [
       "(406,)"
      ]
     },
     "execution_count": 22,
     "metadata": {
      "tags": []
     },
     "output_type": "execute_result"
    }
   ],
   "source": [
    "y5.shape"
   ]
  },
  {
   "cell_type": "markdown",
   "metadata": {},
   "source": [
    "Then split it into the training and test sets:"
   ]
  },
  {
   "cell_type": "code",
   "execution_count": null,
   "metadata": {
    "colab": {},
    "colab_type": "code",
    "id": "bY7nIrScHR4d"
   },
   "outputs": [],
   "source": [
    "X5_train, X5_test, y5_train, y5_test = train_test_split(X5, y5, test_size=0.3, random_state=1)"
   ]
  },
  {
   "cell_type": "markdown",
   "metadata": {},
   "source": [
    "To see the class imbalance in the training set:"
   ]
  },
  {
   "cell_type": "code",
   "execution_count": null,
   "metadata": {
    "colab": {
     "base_uri": "https://localhost:8080/",
     "height": 68
    },
    "colab_type": "code",
    "id": "WioAayAXHR4e",
    "outputId": "53b1e3ab-e3de-473e-c556-c6e1198e6435"
   },
   "outputs": [
    {
     "data": {
      "text/plain": [
       "0    233\n",
       "1     51\n",
       "Name: Survival.time, dtype: int64"
      ]
     },
     "execution_count": 24,
     "metadata": {
      "tags": []
     },
     "output_type": "execute_result"
    }
   ],
   "source": [
    "y5_train.value_counts()"
   ]
  },
  {
   "cell_type": "markdown",
   "metadata": {},
   "source": [
    "So we are seeing a more serious class imbalance now. I should keep this in mind when evaluating the accuracy of the models.\n",
    "\n",
    "Then scale the data:"
   ]
  },
  {
   "cell_type": "code",
   "execution_count": null,
   "metadata": {
    "colab": {},
    "colab_type": "code",
    "id": "XhMLpOBnHR4j"
   },
   "outputs": [],
   "source": [
    "my_scaler5 = StandardScaler()\n",
    "X5_train = my_scaler5.fit_transform(X5_train)\n",
    "X5_test = my_scaler5.transform(X5_test)"
   ]
  },
  {
   "cell_type": "markdown",
   "metadata": {
    "colab_type": "text",
    "id": "zGpKiH5HVJQQ"
   },
   "source": [
    "#### Logistic Regression"
   ]
  },
  {
   "cell_type": "markdown",
   "metadata": {},
   "source": [
    "Optimizing the hyperparameters:"
   ]
  },
  {
   "cell_type": "code",
   "execution_count": null,
   "metadata": {
    "colab": {
     "base_uri": "https://localhost:8080/",
     "height": 34
    },
    "colab_type": "code",
    "id": "OHu_qW8oHR4t",
    "outputId": "c20a2e6b-7789-4345-efb7-e666bd55c2f7"
   },
   "outputs": [],
   "source": [
    "estimators = [('pca', PCA()),\n",
    "              ('model', LogisticRegression())]\n",
    "\n",
    "pipe = Pipeline(estimators)\n",
    "\n",
    "param_grid = [{'pca': [PCA()],\n",
    "               'pca__n_components': [x for x in range(5,num_feat,5)],\n",
    "               'model': [LogisticRegression(solver='saga')], \n",
    "               'model__C': [10**i for i in range(-6,7)]}]\n",
    "\n",
    "grid = GridSearchCV(pipe, param_grid, n_jobs=-1, cv=5)\n",
    "fittedgrid5 = grid.fit(X5_train, y5_train)"
   ]
  },
  {
   "cell_type": "code",
   "execution_count": null,
   "metadata": {
    "colab": {
     "base_uri": "https://localhost:8080/",
     "height": 34
    },
    "colab_type": "code",
    "id": "OHu_qW8oHR4t",
    "outputId": "c20a2e6b-7789-4345-efb7-e666bd55c2f7"
   },
   "outputs": [
    {
     "data": {
      "text/plain": [
       "['logreg_5yr.pkl']"
      ]
     },
     "execution_count": 28,
     "metadata": {
      "tags": []
     },
     "output_type": "execute_result"
    }
   ],
   "source": [
    "joblib.dump(fittedgrid5, 'logreg_5yr.pkl')"
   ]
  },
  {
   "cell_type": "code",
   "execution_count": null,
   "metadata": {
    "colab": {
     "base_uri": "https://localhost:8080/",
     "height": 255
    },
    "colab_type": "code",
    "id": "mnS1pUFoHR4u",
    "outputId": "8a88bf8b-1228-48eb-c7bb-117b908448f8"
   },
   "outputs": [
    {
     "data": {
      "text/plain": [
       "Pipeline(memory=None,\n",
       "         steps=[('pca',\n",
       "                 PCA(copy=True, iterated_power='auto', n_components=5,\n",
       "                     random_state=None, svd_solver='auto', tol=0.0,\n",
       "                     whiten=False)),\n",
       "                ('model',\n",
       "                 LogisticRegression(C=1e-06, class_weight=None, dual=False,\n",
       "                                    fit_intercept=True, intercept_scaling=1,\n",
       "                                    l1_ratio=None, max_iter=100,\n",
       "                                    multi_class='auto', n_jobs=None,\n",
       "                                    penalty='l2', random_state=None,\n",
       "                                    solver='saga', tol=0.0001, verbose=0,\n",
       "                                    warm_start=False))],\n",
       "         verbose=False)"
      ]
     },
     "execution_count": 29,
     "metadata": {
      "tags": []
     },
     "output_type": "execute_result"
    }
   ],
   "source": [
    "fittedgrid5.best_estimator_"
   ]
  },
  {
   "cell_type": "code",
   "execution_count": null,
   "metadata": {
    "colab": {
     "base_uri": "https://localhost:8080/",
     "height": 34
    },
    "colab_type": "code",
    "id": "jYOkUxlzHR4w",
    "outputId": "5c090a82-18a7-40fd-a98f-2851c4454d3e"
   },
   "outputs": [
    {
     "data": {
      "text/plain": [
       "0.8204260651629072"
      ]
     },
     "execution_count": 30,
     "metadata": {
      "tags": []
     },
     "output_type": "execute_result"
    }
   ],
   "source": [
    "fittedgrid5.best_score_"
   ]
  },
  {
   "cell_type": "markdown",
   "metadata": {},
   "source": [
    "The test accuracy is:"
   ]
  },
  {
   "cell_type": "code",
   "execution_count": null,
   "metadata": {
    "colab": {
     "base_uri": "https://localhost:8080/",
     "height": 34
    },
    "colab_type": "code",
    "id": "9SyXRGCdHR4y",
    "outputId": "aed59139-eb6f-4b6d-fec4-d68211caa3f4"
   },
   "outputs": [
    {
     "data": {
      "text/plain": [
       "0.819672131147541"
      ]
     },
     "execution_count": 31,
     "metadata": {
      "tags": []
     },
     "output_type": "execute_result"
    }
   ],
   "source": [
    "fittedgrid5.score(X5_test, y5_test)"
   ]
  },
  {
   "cell_type": "markdown",
   "metadata": {
    "colab_type": "text",
    "id": "Mz9LO5s7HR41"
   },
   "source": [
    "High accuracy score due to imbalanced dataset. Try oversampling the data using different schemes."
   ]
  },
  {
   "cell_type": "code",
   "execution_count": null,
   "metadata": {
    "colab": {
     "base_uri": "https://localhost:8080/",
     "height": 34
    },
    "colab_type": "code",
    "id": "wnKiyahVHR49",
    "outputId": "e2d419b0-54e7-42e4-e97f-47e90350cd3e"
   },
   "outputs": [
    {
     "data": {
      "text/plain": [
       "['logreg_svmsmote_5yr.pkl']"
      ]
     },
     "execution_count": 32,
     "metadata": {
      "tags": []
     },
     "output_type": "execute_result"
    }
   ],
   "source": [
    "estimators = [('oversample', SMOTE()),\n",
    "              ('pca', PCA()),\n",
    "              ('model', LogisticRegression())]\n",
    "\n",
    "pipe = imPipeline(estimators)\n",
    "\n",
    "param_grid = [{'oversample': [SMOTE(), ADASYN(), SVMSMOTE()],\n",
    "               'pca': [PCA()],\n",
    "               'pca__n_components': [x for x in range(5,num_feat,5)],\n",
    "               'model': [LogisticRegression(solver='saga')], \n",
    "               'model__C': [10**i for i in range(-6,7)],\n",
    "               'model__penalty': ['l1', 'l2']}]\n",
    "\n",
    "grid = GridSearchCV(pipe, param_grid, n_jobs=-1, cv=5)\n",
    "fittedgrid5 = grid.fit(X5_train, y5_train)\n",
    "\n",
    "joblib.dump(fittedgrid5, 'logreg_svmsmote_5yr.pkl')"
   ]
  },
  {
   "cell_type": "code",
   "execution_count": null,
   "metadata": {
    "colab": {
     "base_uri": "https://localhost:8080/",
     "height": 34
    },
    "colab_type": "code",
    "id": "IpCEwbX5HR4_",
    "outputId": "6de279f3-b597-4322-a48e-3cfed5929e0b"
   },
   "outputs": [
    {
     "data": {
      "text/plain": [
       "0.8204260651629072"
      ]
     },
     "execution_count": 33,
     "metadata": {
      "tags": []
     },
     "output_type": "execute_result"
    }
   ],
   "source": [
    "fittedgrid5.best_score_"
   ]
  },
  {
   "cell_type": "code",
   "execution_count": null,
   "metadata": {
    "colab": {
     "base_uri": "https://localhost:8080/",
     "height": 323
    },
    "colab_type": "code",
    "id": "4UlGpV_1HR5A",
    "outputId": "44020405-123b-422d-b185-260c683ee7bd"
   },
   "outputs": [
    {
     "data": {
      "text/plain": [
       "Pipeline(memory=None,\n",
       "         steps=[('oversample',\n",
       "                 SVMSMOTE(k_neighbors=5, m_neighbors=10, n_jobs=1, out_step=0.5,\n",
       "                          random_state=None, sampling_strategy='auto',\n",
       "                          svm_estimator=None)),\n",
       "                ('pca',\n",
       "                 PCA(copy=True, iterated_power='auto', n_components=15,\n",
       "                     random_state=None, svd_solver='auto', tol=0.0,\n",
       "                     whiten=False)),\n",
       "                ('model',\n",
       "                 LogisticRegression(C=1e-06, class_weight=None, dual=False,\n",
       "                                    fit_intercept=True, intercept_scaling=1,\n",
       "                                    l1_ratio=None, max_iter=100,\n",
       "                                    multi_class='auto', n_jobs=None,\n",
       "                                    penalty='l1', random_state=None,\n",
       "                                    solver='saga', tol=0.0001, verbose=0,\n",
       "                                    warm_start=False))],\n",
       "         verbose=False)"
      ]
     },
     "execution_count": 34,
     "metadata": {
      "tags": []
     },
     "output_type": "execute_result"
    }
   ],
   "source": [
    "fittedgrid5.best_estimator_"
   ]
  },
  {
   "cell_type": "code",
   "execution_count": null,
   "metadata": {
    "colab": {
     "base_uri": "https://localhost:8080/",
     "height": 34
    },
    "colab_type": "code",
    "id": "x2sjqbPFHR5C",
    "outputId": "4372a720-faa7-4ffe-eb73-830fac589037"
   },
   "outputs": [
    {
     "data": {
      "text/plain": [
       "0.819672131147541"
      ]
     },
     "execution_count": 35,
     "metadata": {
      "tags": []
     },
     "output_type": "execute_result"
    }
   ],
   "source": [
    "fittedgrid5.score(X5_test, y5_test)"
   ]
  },
  {
   "cell_type": "markdown",
   "metadata": {},
   "source": [
    "Now take a look at the confusion matrix:"
   ]
  },
  {
   "cell_type": "code",
   "execution_count": null,
   "metadata": {
    "colab": {
     "base_uri": "https://localhost:8080/",
     "height": 170
    },
    "colab_type": "code",
    "id": "UmvjLmh3HR5F",
    "outputId": "0a7d11b4-914c-4fb5-823d-5318b627cb31"
   },
   "outputs": [
    {
     "name": "stdout",
     "output_type": "stream",
     "text": [
      "              precision    recall  f1-score   support\n",
      "\n",
      "           0       0.82      1.00      0.90       100\n",
      "           1       0.00      0.00      0.00        22\n",
      "\n",
      "    accuracy                           0.82       122\n",
      "   macro avg       0.41      0.50      0.45       122\n",
      "weighted avg       0.67      0.82      0.74       122\n",
      "\n"
     ]
    }
   ],
   "source": [
    "y5_pred = fittedgrid5.predict(X5_test)\n",
    "print(classification_report(y5_test, y5_pred))"
   ]
  },
  {
   "cell_type": "markdown",
   "metadata": {},
   "source": [
    "And the Cohen $\\kappa$ score:"
   ]
  },
  {
   "cell_type": "code",
   "execution_count": null,
   "metadata": {
    "colab": {
     "base_uri": "https://localhost:8080/",
     "height": 34
    },
    "colab_type": "code",
    "id": "hoxIGRuZHR5P",
    "outputId": "f06bb625-3062-46dd-ab5d-d40948fda9f9"
   },
   "outputs": [
    {
     "name": "stdout",
     "output_type": "stream",
     "text": [
      "Kappa score: 0.00000\n"
     ]
    }
   ],
   "source": [
    "print('Kappa score: %.5f' % cohen_kappa_score(y5_test, y5_pred))"
   ]
  },
  {
   "cell_type": "markdown",
   "metadata": {
    "colab_type": "text",
    "id": "YXtIigsQbI4Y"
   },
   "source": [
    "So unfortunately, oversampling did not help the recall and precision of the minor class (i.e. the patients who survive past the 5-year mark). Nevertheless, I will use SVMSMOTE from this point on for the other models in my 5-year survival analysis."
   ]
  },
  {
   "cell_type": "markdown",
   "metadata": {
    "colab_type": "text",
    "id": "7PQsRoxJVOXA"
   },
   "source": [
    "#### Decision Tree"
   ]
  },
  {
   "cell_type": "markdown",
   "metadata": {},
   "source": [
    "To optimize the hyperparameters:"
   ]
  },
  {
   "cell_type": "code",
   "execution_count": null,
   "metadata": {
    "colab": {
     "base_uri": "https://localhost:8080/",
     "height": 34
    },
    "colab_type": "code",
    "id": "-pNVyxVwWmnm",
    "outputId": "2a05f09c-76ef-40e7-92c5-9b795ddd0702"
   },
   "outputs": [],
   "source": [
    "estimators = [('oversample', SVMSMOTE()),\n",
    "              ('pca', PCA()),\n",
    "              ('model', DecisionTreeClassifier())]\n",
    "\n",
    "pipe = imPipeline(estimators)\n",
    "\n",
    "param_grid = [{'oversample': [SVMSMOTE()],\n",
    "               'pca': [PCA()],\n",
    "               'pca__n_components': [x for x in range(5,num_feat,5)],\n",
    "               'model': [DecisionTreeClassifier()], \n",
    "               'model__max_depth': [i for i in range(1,11)],\n",
    "               'model__min_samples_leaf': [i for i in range(1,11)]}]\n",
    "\n",
    "grid = GridSearchCV(pipe, param_grid, n_jobs=-1, cv=5)\n",
    "fittedgrid5 = grid.fit(X5_train, y5_train)"
   ]
  },
  {
   "cell_type": "code",
   "execution_count": null,
   "metadata": {
    "colab": {
     "base_uri": "https://localhost:8080/",
     "height": 34
    },
    "colab_type": "code",
    "id": "-pNVyxVwWmnm",
    "outputId": "2a05f09c-76ef-40e7-92c5-9b795ddd0702"
   },
   "outputs": [
    {
     "data": {
      "text/plain": [
       "['dt_svmsmote_5yr.pkl']"
      ]
     },
     "execution_count": 38,
     "metadata": {
      "tags": []
     },
     "output_type": "execute_result"
    }
   ],
   "source": [
    "joblib.dump(fittedgrid5, 'dt_svmsmote_5yr.pkl')"
   ]
  },
  {
   "cell_type": "code",
   "execution_count": null,
   "metadata": {
    "colab": {
     "base_uri": "https://localhost:8080/",
     "height": 357
    },
    "colab_type": "code",
    "id": "8_dHheNC3iKZ",
    "outputId": "c9deedcd-a387-4242-ae2e-87265f3c180b"
   },
   "outputs": [
    {
     "data": {
      "text/plain": [
       "Pipeline(memory=None,\n",
       "         steps=[('oversample',\n",
       "                 SVMSMOTE(k_neighbors=5, m_neighbors=10, n_jobs=1, out_step=0.5,\n",
       "                          random_state=None, sampling_strategy='auto',\n",
       "                          svm_estimator=None)),\n",
       "                ('pca',\n",
       "                 PCA(copy=True, iterated_power='auto', n_components=65,\n",
       "                     random_state=None, svd_solver='auto', tol=0.0,\n",
       "                     whiten=False)),\n",
       "                ('model',\n",
       "                 DecisionTreeClassifier(ccp_alpha=0.0, class_weight=None,\n",
       "                                        criterion='gini', max_depth=10,\n",
       "                                        max_features=None, max_leaf_nodes=None,\n",
       "                                        min_impurity_decrease=0.0,\n",
       "                                        min_impurity_split=None,\n",
       "                                        min_samples_leaf=9, min_samples_split=2,\n",
       "                                        min_weight_fraction_leaf=0.0,\n",
       "                                        presort='deprecated', random_state=None,\n",
       "                                        splitter='best'))],\n",
       "         verbose=False)"
      ]
     },
     "execution_count": 39,
     "metadata": {
      "tags": []
     },
     "output_type": "execute_result"
    }
   ],
   "source": [
    "fittedgrid5.best_estimator_"
   ]
  },
  {
   "cell_type": "code",
   "execution_count": null,
   "metadata": {
    "colab": {
     "base_uri": "https://localhost:8080/",
     "height": 34
    },
    "colab_type": "code",
    "id": "QAtsiHYV3T2r",
    "outputId": "20c794c7-7d80-4805-eae7-1532c2966a51"
   },
   "outputs": [
    {
     "data": {
      "text/plain": [
       "0.7748120300751881"
      ]
     },
     "execution_count": 40,
     "metadata": {
      "tags": []
     },
     "output_type": "execute_result"
    }
   ],
   "source": [
    "fittedgrid5.best_score_"
   ]
  },
  {
   "cell_type": "markdown",
   "metadata": {},
   "source": [
    "The accuracy score for the entire training set is:"
   ]
  },
  {
   "cell_type": "code",
   "execution_count": null,
   "metadata": {
    "colab": {
     "base_uri": "https://localhost:8080/",
     "height": 34
    },
    "colab_type": "code",
    "id": "g8a2W8TM3XPM",
    "outputId": "9bea1c78-f42e-48b3-a3e9-c628c5a1880c"
   },
   "outputs": [
    {
     "data": {
      "text/plain": [
       "0.8697183098591549"
      ]
     },
     "execution_count": 41,
     "metadata": {
      "tags": []
     },
     "output_type": "execute_result"
    }
   ],
   "source": [
    "fittedgrid5.score(X5_train, y5_train)"
   ]
  },
  {
   "cell_type": "markdown",
   "metadata": {},
   "source": [
    "And the test accuracy is:"
   ]
  },
  {
   "cell_type": "code",
   "execution_count": null,
   "metadata": {
    "colab": {
     "base_uri": "https://localhost:8080/",
     "height": 34
    },
    "colab_type": "code",
    "id": "lgomlNn93ajq",
    "outputId": "576c7084-d21f-477a-d7dd-bb60ad25be20"
   },
   "outputs": [
    {
     "data": {
      "text/plain": [
       "0.7131147540983607"
      ]
     },
     "execution_count": 42,
     "metadata": {
      "tags": []
     },
     "output_type": "execute_result"
    }
   ],
   "source": [
    "fittedgrid5.score(X5_test, y5_test)"
   ]
  },
  {
   "cell_type": "markdown",
   "metadata": {
    "colab_type": "text",
    "id": "_M0Ni_39VRz8"
   },
   "source": [
    "#### Random Forest"
   ]
  },
  {
   "cell_type": "markdown",
   "metadata": {},
   "source": [
    "To optimize the hyperparameters:"
   ]
  },
  {
   "cell_type": "code",
   "execution_count": null,
   "metadata": {
    "colab": {},
    "colab_type": "code",
    "id": "G48f2JgIW_bc"
   },
   "outputs": [],
   "source": [
    "estimators = [('oversample', SVMSMOTE()),\n",
    "              ('pca', PCA()),\n",
    "              ('model', RandomForestClassifier())]\n",
    "\n",
    "pipe = imPipeline(estimators)\n",
    "\n",
    "param_grid = [{'oversample': [SVMSMOTE()],\n",
    "               'pca': [PCA()],\n",
    "               'pca__n_components': [x for x in range(5,num_feat,5)],\n",
    "               'model': [RandomForestClassifier()], \n",
    "               'model__max_depth': [i for i in range(1,11)],\n",
    "               'model__min_samples_leaf': [i for i in range(1,11)]}]\n",
    "\n",
    "grid = GridSearchCV(pipe, param_grid, n_jobs=-1, cv=5)\n",
    "fittedgrid5 = grid.fit(X5_train, y5_train)"
   ]
  },
  {
   "cell_type": "code",
   "execution_count": null,
   "metadata": {
    "colab": {},
    "colab_type": "code",
    "id": "G48f2JgIW_bc"
   },
   "outputs": [],
   "source": [
    "joblib.dump(fittedgrid5, 'rf_svmsmote_5yr.pkl')"
   ]
  },
  {
   "cell_type": "code",
   "execution_count": null,
   "metadata": {
    "colab": {
     "base_uri": "https://localhost:8080/",
     "height": 391
    },
    "colab_type": "code",
    "id": "42fwK_1d3dQl",
    "outputId": "b2175f24-6f38-4938-ad35-abad55f95ea0"
   },
   "outputs": [
    {
     "data": {
      "text/plain": [
       "Pipeline(memory=None,\n",
       "         steps=[('oversample',\n",
       "                 SVMSMOTE(k_neighbors=5, m_neighbors=10, n_jobs=1, out_step=0.5,\n",
       "                          random_state=None, sampling_strategy='auto',\n",
       "                          svm_estimator=None)),\n",
       "                ('pca',\n",
       "                 PCA(copy=True, iterated_power='auto', n_components=85,\n",
       "                     random_state=None, svd_solver='auto', tol=0.0,\n",
       "                     whiten=False)),\n",
       "                ('model',\n",
       "                 RandomForestClassifier(bootstrap=True, ccp_alpha=None,\n",
       "                                        class_weight=None, criterion='gini',\n",
       "                                        max_depth=4, max_features='auto',\n",
       "                                        max_leaf_nodes=None, max_samples=None,\n",
       "                                        min_impurity_decrease=0.0,\n",
       "                                        min_impurity_split=None,\n",
       "                                        min_samples_leaf=6, min_samples_split=2,\n",
       "                                        min_weight_fraction_leaf=0.0,\n",
       "                                        n_estimators=10, n_jobs=None,\n",
       "                                        oob_score=False, random_state=None,\n",
       "                                        verbose=0, warm_start=False))],\n",
       "         verbose=False)"
      ]
     },
     "execution_count": 47,
     "metadata": {
      "tags": []
     },
     "output_type": "execute_result"
    }
   ],
   "source": [
    "fittedgrid5.best_estimator_"
   ]
  },
  {
   "cell_type": "code",
   "execution_count": null,
   "metadata": {
    "colab": {},
    "colab_type": "code",
    "id": "im3OE5543gGE"
   },
   "outputs": [],
   "source": [
    "fittedgrid5.best_score_"
   ]
  },
  {
   "cell_type": "markdown",
   "metadata": {},
   "source": [
    "The accuracy score for the entire training set is:"
   ]
  },
  {
   "cell_type": "code",
   "execution_count": null,
   "metadata": {
    "colab": {},
    "colab_type": "code",
    "id": "3G4wfFQv3kuf"
   },
   "outputs": [],
   "source": [
    "fittedgrid5.score(X5_train, y5_train)"
   ]
  },
  {
   "cell_type": "markdown",
   "metadata": {},
   "source": [
    "For the test accuracy:"
   ]
  },
  {
   "cell_type": "code",
   "execution_count": null,
   "metadata": {
    "colab": {
     "base_uri": "https://localhost:8080/",
     "height": 34
    },
    "colab_type": "code",
    "id": "3poLKU783oFk",
    "outputId": "5f204526-5bd9-4804-c5b0-8bc50b2135ab"
   },
   "outputs": [
    {
     "data": {
      "text/plain": [
       "0.7459016393442623"
      ]
     },
     "execution_count": 48,
     "metadata": {
      "tags": []
     },
     "output_type": "execute_result"
    }
   ],
   "source": [
    "fittedgrid5.score(X5_test, y5_test)"
   ]
  },
  {
   "cell_type": "markdown",
   "metadata": {
    "colab_type": "text",
    "id": "kw8236vZVUE7"
   },
   "source": [
    "#### XGBoost decision tree"
   ]
  },
  {
   "cell_type": "markdown",
   "metadata": {},
   "source": [
    "To optimize the hyperparameters:"
   ]
  },
  {
   "cell_type": "code",
   "execution_count": null,
   "metadata": {
    "colab": {},
    "colab_type": "code",
    "id": "148F5OMeYqtq"
   },
   "outputs": [],
   "source": [
    "estimators = [('oversample', SVMSMOTE()),\n",
    "              ('pca', PCA()),\n",
    "              ('model', XGBClassifier())]\n",
    "\n",
    "pipe = imPipeline(estimators)\n",
    "\n",
    "param_grid = [{'oversample': [SVMSMOTE()],\n",
    "               'pca': [PCA()],\n",
    "               'pca__n_components': [x for x in range(5,num_feat,5)],\n",
    "               'model': [XGBClassifier()], \n",
    "               'model__max_depth': [i for i in range(1,11)],\n",
    "               'model__min_samples_leaf': [i for i in range(1,11)]}]\n",
    "\n",
    "grid = GridSearchCV(pipe, param_grid, n_jobs=-1, cv=5)\n",
    "fittedgrid5 = grid.fit(X5_train, y5_train)"
   ]
  },
  {
   "cell_type": "code",
   "execution_count": null,
   "metadata": {
    "colab": {},
    "colab_type": "code",
    "id": "148F5OMeYqtq"
   },
   "outputs": [],
   "source": [
    "joblib.dump(fittedgrid5, 'xgb_svmsmote_5yr.pkl')"
   ]
  },
  {
   "cell_type": "code",
   "execution_count": null,
   "metadata": {
    "colab": {
     "base_uri": "https://localhost:8080/",
     "height": 374
    },
    "colab_type": "code",
    "id": "J-j04ABk38Of",
    "outputId": "1133cdb8-d236-4a0b-bd4d-14d5b032b16c"
   },
   "outputs": [
    {
     "data": {
      "text/plain": [
       "Pipeline(memory=None,\n",
       "         steps=[('oversample',\n",
       "                 SVMSMOTE(k_neighbors=5, m_neighbors=10, n_jobs=1, out_step=0.5,\n",
       "                          random_state=None, sampling_strategy='auto',\n",
       "                          svm_estimator=None)),\n",
       "                ('pca',\n",
       "                 PCA(copy=True, iterated_power='auto', n_components=30,\n",
       "                     random_state=None, svd_solver='auto', tol=0.0,\n",
       "                     whiten=False)),\n",
       "                ('model',\n",
       "                 XGBClassifier(base_score=0.5, booster='gbtree',\n",
       "                               colsample_bylevel=1, colsample_bynode=1,\n",
       "                               colsample_bytree=1, gamma=0, learning_rate=0.1,\n",
       "                               max_delta_step=0, max_depth=7,\n",
       "                               min_child_weight=1, min_samples_leaf=2,\n",
       "                               missing=nan, n_estimators=100, n_jobs=1,\n",
       "                               nthread=None, objective='binary:logistic',\n",
       "                               random_state=0, reg_alpha=0, reg_lambda=1,\n",
       "                               scale_pos_weight=1, seed=None, silent=None,\n",
       "                               subsample=1, verbosity=1))],\n",
       "         verbose=False)"
      ]
     },
     "execution_count": 14,
     "metadata": {
      "tags": []
     },
     "output_type": "execute_result"
    }
   ],
   "source": [
    "fittedgrid5.best_estimator_"
   ]
  },
  {
   "cell_type": "code",
   "execution_count": null,
   "metadata": {
    "colab": {},
    "colab_type": "code",
    "id": "4HcS2eWR377G"
   },
   "outputs": [],
   "source": [
    "fittedgrid5.best_score_"
   ]
  },
  {
   "cell_type": "markdown",
   "metadata": {},
   "source": [
    "What is the accuracy score with the entire training set:"
   ]
  },
  {
   "cell_type": "code",
   "execution_count": null,
   "metadata": {
    "colab": {
     "base_uri": "https://localhost:8080/",
     "height": 34
    },
    "colab_type": "code",
    "id": "dhIUp7Kt37tL",
    "outputId": "0736ac51-e1ff-4d87-cb99-cfd0c9080988"
   },
   "outputs": [
    {
     "data": {
      "text/plain": [
       "1.0"
      ]
     },
     "execution_count": 15,
     "metadata": {
      "tags": []
     },
     "output_type": "execute_result"
    }
   ],
   "source": [
    "fittedgrid5.score(X5_train, y5_train)"
   ]
  },
  {
   "cell_type": "markdown",
   "metadata": {},
   "source": [
    "And what is the test accuracy?"
   ]
  },
  {
   "cell_type": "code",
   "execution_count": null,
   "metadata": {
    "colab": {
     "base_uri": "https://localhost:8080/",
     "height": 34
    },
    "colab_type": "code",
    "id": "8zUfrlSy37a7",
    "outputId": "7456601f-31f9-4297-bade-313269268af4"
   },
   "outputs": [
    {
     "data": {
      "text/plain": [
       "0.7459016393442623"
      ]
     },
     "execution_count": 16,
     "metadata": {
      "tags": []
     },
     "output_type": "execute_result"
    }
   ],
   "source": [
    "fittedgrid5.score(X5_test, y5_test)"
   ]
  },
  {
   "cell_type": "markdown",
   "metadata": {
    "colab_type": "text",
    "id": "m8x2QNCAVXOb"
   },
   "source": [
    "#### Support Vector Machine"
   ]
  },
  {
   "cell_type": "markdown",
   "metadata": {},
   "source": [
    "To optimize the hyperparameters:"
   ]
  },
  {
   "cell_type": "code",
   "execution_count": null,
   "metadata": {
    "colab": {
     "base_uri": "https://localhost:8080/",
     "height": 34
    },
    "colab_type": "code",
    "id": "CkVfge4fYrdB",
    "outputId": "392c9f75-813e-4d02-cb23-dad378186320"
   },
   "outputs": [],
   "source": [
    "estimators = [('oversample', SVMSMOTE()),\n",
    "              ('pca', PCA()),\n",
    "              ('model', SVC())]\n",
    "\n",
    "pipe = imPipeline(estimators)\n",
    "\n",
    "param_grid = [{'oversample': [SVMSMOTE()],\n",
    "               'pca': [PCA()],\n",
    "               'pca__n_components': [x for x in range(5,num_feat,5)],\n",
    "               'model': [SVC(decision_function_shape='ovo', max_iter=999)], \n",
    "               'model__C': [10**i for i in range(-6,7)],\n",
    "               'model__kernel': ['linear', 'poly', 'rbf', 'sigmoid']}]\n",
    "\n",
    "grid = GridSearchCV(pipe, param_grid, n_jobs=-1, cv=5)\n",
    "fittedgrid5 = grid.fit(X5_train, y5_train)"
   ]
  },
  {
   "cell_type": "code",
   "execution_count": null,
   "metadata": {
    "colab": {
     "base_uri": "https://localhost:8080/",
     "height": 34
    },
    "colab_type": "code",
    "id": "CkVfge4fYrdB",
    "outputId": "392c9f75-813e-4d02-cb23-dad378186320"
   },
   "outputs": [
    {
     "data": {
      "text/plain": [
       "['svm_svmsmote_5yr.pkl']"
      ]
     },
     "execution_count": 43,
     "metadata": {
      "tags": []
     },
     "output_type": "execute_result"
    }
   ],
   "source": [
    "joblib.dump(fittedgrid5, 'svm_svmsmote_5yr.pkl')"
   ]
  },
  {
   "cell_type": "code",
   "execution_count": null,
   "metadata": {
    "colab": {
     "base_uri": "https://localhost:8080/",
     "height": 289
    },
    "colab_type": "code",
    "id": "g5OtKqqcJpbb",
    "outputId": "63ac8a32-96bb-452e-f1bc-57bae59f8306"
   },
   "outputs": [
    {
     "data": {
      "text/plain": [
       "Pipeline(memory=None,\n",
       "         steps=[('oversample',\n",
       "                 SVMSMOTE(k_neighbors=5, m_neighbors=10, n_jobs=1, out_step=0.5,\n",
       "                          random_state=None, sampling_strategy='auto',\n",
       "                          svm_estimator=None)),\n",
       "                ('pca',\n",
       "                 PCA(copy=True, iterated_power='auto', n_components=65,\n",
       "                     random_state=None, svd_solver='auto', tol=0.0,\n",
       "                     whiten=False)),\n",
       "                ('model',\n",
       "                 SVC(C=1, break_ties=False, cache_size=200, class_weight=None,\n",
       "                     coef0=0.0, decision_function_shape='ovo', degree=3,\n",
       "                     gamma='scale', kernel='rbf', max_iter=999,\n",
       "                     probability=False, random_state=None, shrinking=True,\n",
       "                     tol=0.001, verbose=False))],\n",
       "         verbose=False)"
      ]
     },
     "execution_count": 44,
     "metadata": {
      "tags": []
     },
     "output_type": "execute_result"
    }
   ],
   "source": [
    "fittedgrid5.best_estimator_"
   ]
  },
  {
   "cell_type": "code",
   "execution_count": null,
   "metadata": {
    "colab": {
     "base_uri": "https://localhost:8080/",
     "height": 34
    },
    "colab_type": "code",
    "id": "9zYyu0SVJpQi",
    "outputId": "38795a4e-bcb0-41de-ce7f-701cf217195b"
   },
   "outputs": [
    {
     "data": {
      "text/plain": [
       "0.7993734335839597"
      ]
     },
     "execution_count": 45,
     "metadata": {
      "tags": []
     },
     "output_type": "execute_result"
    }
   ],
   "source": [
    "fittedgrid5.best_score_"
   ]
  },
  {
   "cell_type": "markdown",
   "metadata": {},
   "source": [
    "The accuracy score for the entire training set is:"
   ]
  },
  {
   "cell_type": "code",
   "execution_count": null,
   "metadata": {
    "colab": {
     "base_uri": "https://localhost:8080/",
     "height": 34
    },
    "colab_type": "code",
    "id": "-5dpsr4KJpGn",
    "outputId": "5f02a3f4-7f7d-4447-bfe5-579d392d66ce"
   },
   "outputs": [
    {
     "data": {
      "text/plain": [
       "0.8802816901408451"
      ]
     },
     "execution_count": 46,
     "metadata": {
      "tags": []
     },
     "output_type": "execute_result"
    }
   ],
   "source": [
    "fittedgrid5.score(X5_train, y5_train)"
   ]
  },
  {
   "cell_type": "markdown",
   "metadata": {},
   "source": [
    "The test accuracy score is:"
   ]
  },
  {
   "cell_type": "code",
   "execution_count": null,
   "metadata": {
    "colab": {
     "base_uri": "https://localhost:8080/",
     "height": 34
    },
    "colab_type": "code",
    "id": "b9ikB4jBJorc",
    "outputId": "529623eb-341f-4e6e-d0d4-d45da70ae8dd"
   },
   "outputs": [
    {
     "data": {
      "text/plain": [
       "0.7868852459016393"
      ]
     },
     "execution_count": 47,
     "metadata": {
      "tags": []
     },
     "output_type": "execute_result"
    }
   ],
   "source": [
    "fittedgrid5.score(X5_test, y5_test)"
   ]
  },
  {
   "cell_type": "code",
   "execution_count": null,
   "metadata": {
    "colab": {
     "base_uri": "https://localhost:8080/",
     "height": 170
    },
    "colab_type": "code",
    "id": "RxtvkrC7PvzD",
    "outputId": "2c87878b-80bf-4715-8c40-9bfa9896621a"
   },
   "outputs": [
    {
     "name": "stdout",
     "output_type": "stream",
     "text": [
      "              precision    recall  f1-score   support\n",
      "\n",
      "           0       0.82      0.88      0.85       100\n",
      "           1       0.20      0.14      0.16        22\n",
      "\n",
      "    accuracy                           0.75       122\n",
      "   macro avg       0.51      0.51      0.51       122\n",
      "weighted avg       0.71      0.75      0.73       122\n",
      "\n"
     ]
    }
   ],
   "source": [
    "print(classification_report(y5_test, fittedgrid5.predict(X5_test)))"
   ]
  },
  {
   "cell_type": "markdown",
   "metadata": {
    "colab_type": "text",
    "id": "_mSFhcBRNEy4"
   },
   "source": [
    "#### Quadratic Discriminant Analysis"
   ]
  },
  {
   "cell_type": "markdown",
   "metadata": {},
   "source": [
    "Again, I use the quadratic discriminant analysis as another basis model to compare the more complex models with:"
   ]
  },
  {
   "cell_type": "code",
   "execution_count": null,
   "metadata": {
    "colab": {
     "base_uri": "https://localhost:8080/",
     "height": 34
    },
    "colab_type": "code",
    "id": "IfcO4oKzNEP3",
    "outputId": "c264cc96-9657-4342-a959-cb6cbd159343"
   },
   "outputs": [
    {
     "data": {
      "text/plain": [
       "['qda_5yr.pkl']"
      ]
     },
     "execution_count": 51,
     "metadata": {
      "tags": []
     },
     "output_type": "execute_result"
    }
   ],
   "source": [
    "my_qda = QuadraticDiscriminantAnalysis()\n",
    "my_qda.fit(X5_train, y5_train)\n",
    "joblib.dump(my_qda, 'qda_5yr.pkl')"
   ]
  },
  {
   "cell_type": "code",
   "execution_count": null,
   "metadata": {
    "colab": {
     "base_uri": "https://localhost:8080/",
     "height": 34
    },
    "colab_type": "code",
    "id": "uyOO8WHENRtS",
    "outputId": "3f7cb9cc-778e-4788-84c5-b67a6def9360"
   },
   "outputs": [
    {
     "data": {
      "text/plain": [
       "0.8450704225352113"
      ]
     },
     "execution_count": 52,
     "metadata": {
      "tags": []
     },
     "output_type": "execute_result"
    }
   ],
   "source": [
    "my_qda.score(X5_train, y5_train)"
   ]
  },
  {
   "cell_type": "code",
   "execution_count": null,
   "metadata": {
    "colab": {
     "base_uri": "https://localhost:8080/",
     "height": 34
    },
    "colab_type": "code",
    "id": "vKejnMa3NWAc",
    "outputId": "29f22857-b106-4ef7-b2c3-18e77a963783"
   },
   "outputs": [
    {
     "data": {
      "text/plain": [
       "0.819672131147541"
      ]
     },
     "execution_count": 53,
     "metadata": {
      "tags": []
     },
     "output_type": "execute_result"
    }
   ],
   "source": [
    "my_qda.score(X5_test, y5_test)"
   ]
  },
  {
   "cell_type": "code",
   "execution_count": null,
   "metadata": {
    "colab": {
     "base_uri": "https://localhost:8080/",
     "height": 170
    },
    "colab_type": "code",
    "id": "O6p05l8HNb28",
    "outputId": "6bb963ab-f384-4908-f1b9-354604aa7486"
   },
   "outputs": [
    {
     "name": "stdout",
     "output_type": "stream",
     "text": [
      "              precision    recall  f1-score   support\n",
      "\n",
      "           0       0.82      1.00      0.90       100\n",
      "           1       0.00      0.00      0.00        22\n",
      "\n",
      "    accuracy                           0.82       122\n",
      "   macro avg       0.41      0.50      0.45       122\n",
      "weighted avg       0.67      0.82      0.74       122\n",
      "\n"
     ]
    }
   ],
   "source": [
    "print(classification_report(y5_test, my_qda.predict(X5_test)))"
   ]
  },
  {
   "cell_type": "markdown",
   "metadata": {
    "colab_type": "text",
    "id": "d4TAciPtOSpv"
   },
   "source": [
    "Try SMOTE-ing it:"
   ]
  },
  {
   "cell_type": "code",
   "execution_count": null,
   "metadata": {
    "colab": {},
    "colab_type": "code",
    "id": "wDp-5hwlOKON"
   },
   "outputs": [],
   "source": [
    "sm = SVMSMOTE(random_state=314)\n",
    "X5_train_res, y5_train_res = sm.fit_resample(X5_train, y5_train)"
   ]
  },
  {
   "cell_type": "code",
   "execution_count": null,
   "metadata": {
    "colab": {
     "base_uri": "https://localhost:8080/",
     "height": 51
    },
    "colab_type": "code",
    "id": "YkWswyt0R5x2",
    "outputId": "a054e456-8a13-4807-b13d-8446f2a453fb"
   },
   "outputs": [
    {
     "data": {
      "text/plain": [
       "QuadraticDiscriminantAnalysis(priors=None, reg_param=0.0,\n",
       "                              store_covariance=False, tol=0.0001)"
      ]
     },
     "execution_count": 41,
     "metadata": {
      "tags": []
     },
     "output_type": "execute_result"
    }
   ],
   "source": [
    "my_qda.fit(X5_train_res, y5_train_res)"
   ]
  },
  {
   "cell_type": "code",
   "execution_count": null,
   "metadata": {
    "colab": {
     "base_uri": "https://localhost:8080/",
     "height": 34
    },
    "colab_type": "code",
    "id": "TvjCqthmxlhM",
    "outputId": "80174d08-39d3-4139-e3b3-bad2b9f93343"
   },
   "outputs": [
    {
     "data": {
      "text/plain": [
       "['qda_5yr.pkl']"
      ]
     },
     "execution_count": 42,
     "metadata": {
      "tags": []
     },
     "output_type": "execute_result"
    }
   ],
   "source": [
    "joblib.dump(my_qda, 'qda_5yr.pkl')"
   ]
  },
  {
   "cell_type": "code",
   "execution_count": null,
   "metadata": {
    "colab": {
     "base_uri": "https://localhost:8080/",
     "height": 170
    },
    "colab_type": "code",
    "id": "2tuh2EZRR_rN",
    "outputId": "23e5c6be-890f-42eb-926c-c35190fab897"
   },
   "outputs": [
    {
     "name": "stdout",
     "output_type": "stream",
     "text": [
      "              precision    recall  f1-score   support\n",
      "\n",
      "           0       0.82      1.00      0.90       100\n",
      "           1       0.00      0.00      0.00        22\n",
      "\n",
      "    accuracy                           0.82       122\n",
      "   macro avg       0.41      0.50      0.45       122\n",
      "weighted avg       0.67      0.82      0.74       122\n",
      "\n"
     ]
    }
   ],
   "source": [
    "print(classification_report(y5_test, my_qda.predict(X5_test)))"
   ]
  },
  {
   "cell_type": "code",
   "execution_count": null,
   "metadata": {
    "colab": {
     "base_uri": "https://localhost:8080/",
     "height": 34
    },
    "colab_type": "code",
    "id": "FB5HEat4x4H4",
    "outputId": "9286ff62-6f3d-49b8-f39a-8c78328f4340"
   },
   "outputs": [
    {
     "data": {
      "text/plain": [
       "0.819672131147541"
      ]
     },
     "execution_count": 44,
     "metadata": {
      "tags": []
     },
     "output_type": "execute_result"
    }
   ],
   "source": [
    "my_qda.score(X5_test, y5_test)"
   ]
  },
  {
   "cell_type": "markdown",
   "metadata": {
    "colab_type": "text",
    "id": "LUYKso4QSRpR"
   },
   "source": [
    "No improvement on test data"
   ]
  },
  {
   "cell_type": "markdown",
   "metadata": {
    "colab_type": "text",
    "id": "qMGT1kSkVb-Y"
   },
   "source": [
    "#### Neural network"
   ]
  },
  {
   "cell_type": "markdown",
   "metadata": {},
   "source": [
    "Same architecture, activation function and number of epochs as the previous neural networks:"
   ]
  },
  {
   "cell_type": "code",
   "execution_count": null,
   "metadata": {
    "colab": {},
    "colab_type": "code",
    "id": "f6h1KXduO1Vu"
   },
   "outputs": [],
   "source": [
    "input_size = num_feat\n",
    "output_size = 2"
   ]
  },
  {
   "cell_type": "code",
   "execution_count": null,
   "metadata": {
    "colab": {},
    "colab_type": "code",
    "id": "otn-m-oxO1V1"
   },
   "outputs": [],
   "source": [
    "# Make the placeholder variables:\n",
    "input_X = tf.placeholder(tf.float32, shape=(None, input_size))\n",
    "input_y = tf.placeholder(tf.float32, shape=(None, output_size))"
   ]
  },
  {
   "cell_type": "code",
   "execution_count": null,
   "metadata": {
    "colab": {},
    "colab_type": "code",
    "id": "G9yTnnP-O1V5"
   },
   "outputs": [],
   "source": [
    "# Size of the hidden dimension\n",
    "num_hidden_1 = 400\n",
    "num_hidden_2 = 400\n",
    "\n",
    "# Hidden Unit activations 1\n",
    "W1 = tf.Variable(tf.random_normal([input_size, num_hidden_1]))\n",
    "b1 = tf.Variable(tf.random_normal([num_hidden_1])) #bias\n",
    "hidden_output_1 = tf.nn.elu(tf.add(tf.matmul(input_X,W1), b1)) # Relu for hidden layer\n",
    "\n",
    "# Hidden Unit activations 2\n",
    "W2 = tf.Variable(tf.random_normal([num_hidden_1, num_hidden_2]))\n",
    "b2 = tf.Variable(tf.random_normal([num_hidden_2])) #bias\n",
    "hidden_output_2 = tf.nn.elu(tf.add(tf.matmul(hidden_output_1,W2), b2)) # Relu for hidden layer\n",
    "\n",
    "# Output Unit activations\n",
    "W3 = tf.Variable(tf.random_normal([num_hidden_2, output_size]))\n",
    "b3 = tf.Variable(tf.random_normal([output_size]))\n",
    "net_output = tf.nn.softmax(tf.add( tf.matmul(hidden_output_2, W3), b3)) # Softmax for output layer"
   ]
  },
  {
   "cell_type": "code",
   "execution_count": null,
   "metadata": {
    "colab": {},
    "colab_type": "code",
    "id": "jfkxABu9O1V7"
   },
   "outputs": [],
   "source": [
    "encoder = LabelBinarizer()\n",
    "\n",
    "one_hot_encoder = encoder.fit(list(y5_train))\n",
    "y5_np_train = one_hot_encoder.transform(y5_train)\n",
    "y5_np_test = one_hot_encoder.transform(y5_test)\n",
    "y5_np_train = np.hstack((y5_np_train, 1 - y5_np_train))\n",
    "y5_np_test = np.hstack((y5_np_test, 1 - y5_np_test))"
   ]
  },
  {
   "cell_type": "code",
   "execution_count": null,
   "metadata": {
    "colab": {
     "base_uri": "https://localhost:8080/",
     "height": 34
    },
    "colab_type": "code",
    "id": "aOKSiZepO1V-",
    "outputId": "70a1b1ab-3d5f-4897-cc3a-bd29173cad9b"
   },
   "outputs": [
    {
     "data": {
      "text/plain": [
       "(284, 2)"
      ]
     },
     "execution_count": 20,
     "metadata": {
      "tags": []
     },
     "output_type": "execute_result"
    }
   ],
   "source": [
    "y5_np_train.shape"
   ]
  },
  {
   "cell_type": "code",
   "execution_count": null,
   "metadata": {
    "colab": {
     "base_uri": "https://localhost:8080/",
     "height": 88
    },
    "colab_type": "code",
    "id": "fOewQfLSO1WB",
    "outputId": "913c128a-ed24-4d4c-b75c-be5536c3a7d9"
   },
   "outputs": [
    {
     "name": "stdout",
     "output_type": "stream",
     "text": [
      "WARNING:tensorflow:From /usr/local/lib/python3.6/dist-packages/tensorflow_core/python/ops/losses/losses_impl.py:121: where (from tensorflow.python.ops.array_ops) is deprecated and will be removed in a future version.\n",
      "Instructions for updating:\n",
      "Use tf.where in 2.0, which has the same broadcast rule as np.where\n"
     ]
    }
   ],
   "source": [
    "# Use cross entropy loss (we're doing classification)\n",
    "# This is where we link our network to the objective function.\n",
    "loss = tf.losses.softmax_cross_entropy(input_y, net_output)\n",
    "\n",
    "# Get accuracy measure\n",
    "# acc will store the accuracy score of the true labels and our net output\n",
    "acc, acc_op = tf.metrics.accuracy(labels=tf.argmax(input_y, 1), predictions=tf.argmax(net_output, 1))\n",
    "\n",
    "# Use gradient descent with a learning rate of 0.1\n",
    "optimizer = tf.train.GradientDescentOptimizer(0.1)\n",
    "\n",
    "# Objective is minimize the loss\n",
    "train = optimizer.minimize(loss)"
   ]
  },
  {
   "cell_type": "code",
   "execution_count": null,
   "metadata": {
    "colab": {},
    "colab_type": "code",
    "id": "ao_nuev7O1WE"
   },
   "outputs": [],
   "source": [
    "# Open a TensorFlow session\n",
    "sess = tf.Session()\n",
    "init = tf.group(tf.global_variables_initializer(), tf.local_variables_initializer())\n",
    "sess.run(init)"
   ]
  },
  {
   "cell_type": "code",
   "execution_count": null,
   "metadata": {
    "colab": {
     "base_uri": "https://localhost:8080/",
     "height": 374
    },
    "colab_type": "code",
    "id": "LGQet-91O1WG",
    "outputId": "023aa043-2012-4479-ee84-1339ca81f712"
   },
   "outputs": [
    {
     "name": "stdout",
     "output_type": "stream",
     "text": [
      "Epoch: 0, Loss: 0.683, Accuracy: 0.630\n",
      "Epoch: 1000, Loss: 0.683, Accuracy: 0.630\n",
      "Epoch: 2000, Loss: 0.683, Accuracy: 0.630\n",
      "Epoch: 3000, Loss: 0.683, Accuracy: 0.630\n",
      "Epoch: 4000, Loss: 0.683, Accuracy: 0.630\n",
      "Epoch: 5000, Loss: 0.683, Accuracy: 0.630\n",
      "Epoch: 6000, Loss: 0.683, Accuracy: 0.630\n",
      "Epoch: 7000, Loss: 0.683, Accuracy: 0.630\n",
      "Epoch: 8000, Loss: 0.683, Accuracy: 0.630\n",
      "Epoch: 9000, Loss: 0.683, Accuracy: 0.630\n",
      "Epoch: 10000, Loss: 0.683, Accuracy: 0.630\n",
      "Epoch: 11000, Loss: 0.683, Accuracy: 0.630\n",
      "Epoch: 12000, Loss: 0.683, Accuracy: 0.630\n",
      "Epoch: 13000, Loss: 0.683, Accuracy: 0.630\n",
      "Epoch: 14000, Loss: 0.683, Accuracy: 0.630\n",
      "Epoch: 15000, Loss: 0.683, Accuracy: 0.630\n",
      "Epoch: 16000, Loss: 0.683, Accuracy: 0.630\n",
      "Epoch: 17000, Loss: 0.683, Accuracy: 0.630\n",
      "Epoch: 18000, Loss: 0.683, Accuracy: 0.630\n",
      "Epoch: 19000, Loss: 0.683, Accuracy: 0.630\n",
      "0.6302817\n"
     ]
    }
   ],
   "source": [
    "epochs = 20000\n",
    "\n",
    "# Each epoch is one pass through the data\n",
    "for epoch in range(epochs):\n",
    "    \n",
    "    # Update the network.\n",
    "    # feed_dict passes in the input for training\n",
    "    # train linkes the session to the network\n",
    "    sess.run(train, feed_dict={input_X: X5_train, input_y: y5_np_train})\n",
    "    \n",
    "    if epoch % 1000 == 0 :\n",
    "        # Get the training loss\n",
    "        training_loss = sess.run(loss, feed_dict={input_X: X5_train, input_y: y5_np_train})\n",
    "        \n",
    "        score = sess.run([acc, acc_op], feed_dict={input_X: X5_train, input_y: y5_np_train})\n",
    "        print(f'Epoch: {epoch}, Loss: {training_loss:.3f}, Accuracy: {score[1]:.3f}')\n",
    "\n",
    "# run session to calculate the accuracy score on test set\n",
    "test_acc,_ = sess.run([acc, acc_op], feed_dict={input_X: X5_test, input_y: y5_np_test})\n",
    "print(test_acc)"
   ]
  },
  {
   "cell_type": "markdown",
   "metadata": {
    "colab_type": "text",
    "id": "BUQywc8Smg5h"
   },
   "source": [
    "### Clustering: K-means and OPTICS"
   ]
  },
  {
   "cell_type": "code",
   "execution_count": null,
   "metadata": {
    "colab": {},
    "colab_type": "code",
    "id": "XZONEYL5mkkx"
   },
   "outputs": [],
   "source": [
    "X = df_tf[df_tf.columns[feat_mask]]\n",
    "y = df_tf[['deadstatus.event', 'Survival.time']]\n",
    "\n",
    "# Train-test split\n",
    "# Perform K-means cluster on the train set, use clusters for model prediction on median survival time\n",
    "\n",
    "X_train, X_test, y_train, y_test = train_test_split(X, y, test_size=0.3, random_state=42)\n",
    "\n",
    "my_scaler_cl = StandardScaler()\n",
    "X_tr_scaled = my_scaler_cl.fit_transform(X_train)\n",
    "X_tst_scaled = my_scaler_cl.transform(X_test)"
   ]
  },
  {
   "cell_type": "markdown",
   "metadata": {
    "colab_type": "text",
    "id": "eRWJDz4F0E1s"
   },
   "source": [
    "#### K-means"
   ]
  },
  {
   "cell_type": "markdown",
   "metadata": {
    "colab_type": "text",
    "id": "6yyAcN0vxf3T"
   },
   "source": [
    "##### Optimizing number of clusters"
   ]
  },
  {
   "cell_type": "markdown",
   "metadata": {
    "colab_type": "text",
    "id": "871PITSlwZ3f"
   },
   "source": [
    "Plot the inertias corresponding to a range of numbers of clusters and determine the \"elbow\":"
   ]
  },
  {
   "cell_type": "code",
   "execution_count": null,
   "metadata": {
    "colab": {},
    "colab_type": "code",
    "id": "M28DHnFzVa7W"
   },
   "outputs": [],
   "source": [
    "nsclc_inertias = []\n",
    "\n",
    "for i in range(2,8):\n",
    "  my_kmeans = KMeans(n_clusters=i)\n",
    "  my_kmeans.fit(X_tr_scaled)\n",
    "\n",
    "  nsclc_inertias.append(my_kmeans.inertia_)"
   ]
  },
  {
   "cell_type": "code",
   "execution_count": null,
   "metadata": {
    "colab": {
     "base_uri": "https://localhost:8080/",
     "height": 265
    },
    "colab_type": "code",
    "id": "6O5EODQbW0Q1",
    "outputId": "88f92976-971c-4b77-b5c6-0a940e94b8f5"
   },
   "outputs": [
    {
     "data": {
      "image/png": "[encoded data removed]",
      "text/plain": [
       "<Figure size 432x288 with 1 Axes>"
      ]
     },
     "metadata": {
      "tags": []
     },
     "output_type": "display_data"
    }
   ],
   "source": [
    "plt.figure()\n",
    "plt.plot(np.arange(2,8), nsclc_inertias)\n",
    "plt.grid()\n",
    "plt.show()"
   ]
  },
  {
   "cell_type": "markdown",
   "metadata": {
    "colab_type": "text",
    "id": "KvE0Eo2Gj0Pq"
   },
   "source": [
    "The elbow point seems to be around n=4. Explore the clusters:"
   ]
  },
  {
   "cell_type": "code",
   "execution_count": 11,
   "metadata": {
    "colab": {
     "base_uri": "https://localhost:8080/",
     "height": 34
    },
    "colab_type": "code",
    "id": "BXjS4Ncfj9gM",
    "outputId": "1af08f00-aea0-41de-a795-6d1d09aeee2a"
   },
   "outputs": [
    {
     "data": {
      "text/plain": [
       "Counter({0: 78, 1: 106, 2: 73, 3: 37})"
      ]
     },
     "execution_count": 11,
     "metadata": {
      "tags": []
     },
     "output_type": "execute_result"
    }
   ],
   "source": [
    "n_cl_optimize = 4\n",
    "my_kmeans = KMeans(n_clusters=n_cl_optimize, random_state=42)\n",
    "my_kmeans.fit(X_tr_scaled)\n",
    "\n",
    "collections.Counter(my_kmeans.labels_)"
   ]
  },
  {
   "cell_type": "markdown",
   "metadata": {
    "colab_type": "text",
    "id": "6vbdiVL4k5JN"
   },
   "source": [
    "The number of points in each cluster seems reasonable. Proceed with the analysis:"
   ]
  },
  {
   "cell_type": "code",
   "execution_count": null,
   "metadata": {
    "colab": {},
    "colab_type": "code",
    "id": "SUBfLTn7XVsr"
   },
   "outputs": [],
   "source": [
    "joblib.dump(my_kmeans, 'kmeans_4_test.pkl')\n",
    "\n",
    "X_long = X_train.copy()\n",
    "X_long['Cluster'] = my_kmeans.predict(X_tr_scaled)\n",
    "\n",
    "X_long['Survival.time'] = y_train['Survival.time']\n",
    "X_long['Deadstatus.event'] = y_train['deadstatus.event']"
   ]
  },
  {
   "cell_type": "markdown",
   "metadata": {
    "colab_type": "text",
    "id": "7-eroIDCgcmc"
   },
   "source": [
    "Make some Kaplan-Meier plots"
   ]
  },
  {
   "cell_type": "code",
   "execution_count": 13,
   "metadata": {
    "colab": {
     "base_uri": "https://localhost:8080/",
     "height": 442
    },
    "colab_type": "code",
    "id": "P_KmDWYkgcEt",
    "outputId": "fcd57691-f36f-400d-9e95-e56a21003be0"
   },
   "outputs": [
    {
     "data": {
      "image/png": "[encoded data removed]",
      "text/plain": [
       "<Figure size 720x504 with 1 Axes>"
      ]
     },
     "metadata": {
      "tags": []
     },
     "output_type": "display_data"
    }
   ],
   "source": [
    "kmf = KaplanMeierFitter()\n",
    "\n",
    "plt.figure(figsize=(10,7))\n",
    "\n",
    "for i in range(n_cl_optimize):\n",
    "  kmf.fit(X_long[X_long['Cluster']==i]['Survival.time'], \n",
    "          X_long[X_long['Cluster']==i]['Deadstatus.event'], \n",
    "          label='Cluster '+str(i))\n",
    "\n",
    "  if (i==0):\n",
    "    ax1 = kmf.plot()\n",
    "  else:\n",
    "    kmf.plot(ax=ax1)"
   ]
  },
  {
   "cell_type": "markdown",
   "metadata": {
    "colab_type": "text",
    "id": "yK1qw-gFloFB"
   },
   "source": [
    "Cluster 1 and Cluster 0 seem to have survival curves very close to each other throughout the timeline. I will re-cluster the data into 3:"
   ]
  },
  {
   "cell_type": "code",
   "execution_count": 14,
   "metadata": {
    "colab": {
     "base_uri": "https://localhost:8080/",
     "height": 461
    },
    "colab_type": "code",
    "id": "t-gujxvflyLO",
    "outputId": "72ca028c-7b13-4d6f-bd78-63527988c271"
   },
   "outputs": [
    {
     "data": {
      "image/png": "[encoded data removed]",
      "text/plain": [
       "<Figure size 720x504 with 1 Axes>"
      ]
     },
     "metadata": {
      "tags": []
     },
     "output_type": "display_data"
    }
   ],
   "source": [
    "n_cl_optimize = 3\n",
    "my_kmeans = KMeans(n_clusters=n_cl_optimize, random_state=42)\n",
    "my_kmeans.fit(X_tr_scaled)\n",
    "\n",
    "collections.Counter(my_kmeans.labels_)\n",
    "\n",
    "joblib.dump(my_kmeans, 'kmeans_3.pkl')\n",
    "\n",
    "X_long = X_train.copy()\n",
    "X_long['Cluster'] = my_kmeans.predict(X_tr_scaled)\n",
    "\n",
    "X_long['Survival.time'] = y_train['Survival.time']\n",
    "X_long['Deadstatus.event'] = y_train['deadstatus.event']\n",
    "\n",
    "plt.figure(figsize=(10,7))\n",
    "\n",
    "median_list = []\n",
    "ci_list = []\n",
    "\n",
    "for i in range(n_cl_optimize):\n",
    "  kmf.fit(X_long[X_long['Cluster']==i]['Survival.time'], \n",
    "          X_long[X_long['Cluster']==i]['Deadstatus.event'], \n",
    "          label='Cluster '+str(i))\n",
    "\n",
    "  if (i==0):\n",
    "    ax1 = kmf.plot()\n",
    "    ax1.set_title('Kaplan-Meier plot for the clusters', fontsize=12)\n",
    "    ax1.set_ylabel('Survival (%)', fontsize=12)\n",
    "    ax1.set_xlabel('Timeline (days)', fontsize=12)\n",
    "  else:\n",
    "    kmf.plot(ax=ax1)\n",
    "    ax1.set_xlabel('Timeline (days)', fontsize=12)\n",
    "\n",
    "  median_list.append(kmf.median_survival_time_)\n",
    "  ci_list.append(median_survival_times(kmf.confidence_interval_))"
   ]
  },
  {
   "cell_type": "markdown",
   "metadata": {
    "colab_type": "text",
    "id": "Gh1z1nCpnMeU"
   },
   "source": [
    "Clusters 0 and 1 seem to have some separation in their KM curves. We will explore the distributions according to all three clusters."
   ]
  },
  {
   "cell_type": "markdown",
   "metadata": {
    "colab_type": "text",
    "id": "rLcY8rCTRgVC"
   },
   "source": [
    "Number of data points per cluster:"
   ]
  },
  {
   "cell_type": "code",
   "execution_count": null,
   "metadata": {
    "colab": {
     "base_uri": "https://localhost:8080/",
     "height": 85
    },
    "colab_type": "code",
    "id": "tUmg29uMRjaq",
    "outputId": "6b8b03d7-1366-4f02-8e83-071974438999"
   },
   "outputs": [
    {
     "data": {
      "text/plain": [
       "2    138\n",
       "1    108\n",
       "0     48\n",
       "Name: Cluster, dtype: int64"
      ]
     },
     "execution_count": 31,
     "metadata": {
      "tags": []
     },
     "output_type": "execute_result"
    }
   ],
   "source": [
    "X_long['Cluster'].value_counts()"
   ]
  },
  {
   "cell_type": "markdown",
   "metadata": {
    "colab_type": "text",
    "id": "pIahbqFuxoM5"
   },
   "source": [
    "##### Statistical significance of differences in survival at different points on timeline"
   ]
  },
  {
   "cell_type": "code",
   "execution_count": null,
   "metadata": {
    "colab": {
     "base_uri": "https://localhost:8080/",
     "height": 204
    },
    "colab_type": "code",
    "id": "bOIdc_fEy7iF",
    "outputId": "5241695f-aaa1-4458-d2a6-7f82c6084ac8"
   },
   "outputs": [
    {
     "data": {
      "text/html": [
       "<div>\n",
       "<style scoped>\n",
       "    .dataframe tbody tr th:only-of-type {\n",
       "        vertical-align: middle;\n",
       "    }\n",
       "\n",
       "    .dataframe tbody tr th {\n",
       "        vertical-align: top;\n",
       "    }\n",
       "\n",
       "    .dataframe thead th {\n",
       "        text-align: right;\n",
       "    }\n",
       "</style>\n",
       "<table border=\"1\" class=\"dataframe\">\n",
       "  <tbody>\n",
       "    <tr>\n",
       "      <th>null_distribution</th>\n",
       "      <td>chi squared</td>\n",
       "    </tr>\n",
       "    <tr>\n",
       "      <th>degrees_of_freedom</th>\n",
       "      <td>1</td>\n",
       "    </tr>\n",
       "    <tr>\n",
       "      <th>point_in_time</th>\n",
       "      <td>365</td>\n",
       "    </tr>\n",
       "    <tr>\n",
       "      <th>test_name</th>\n",
       "      <td>survival_difference_at_fixed_point_in_time_test</td>\n",
       "    </tr>\n",
       "  </tbody>\n",
       "</table>\n",
       "</div><table border=\"1\" class=\"dataframe\">\n",
       "  <thead>\n",
       "    <tr style=\"text-align: right;\">\n",
       "      <th></th>\n",
       "      <th>test_statistic</th>\n",
       "      <th>p</th>\n",
       "    </tr>\n",
       "  </thead>\n",
       "  <tbody>\n",
       "    <tr>\n",
       "      <th>0</th>\n",
       "      <td>9.49</td>\n",
       "      <td>&lt;0.005</td>\n",
       "    </tr>\n",
       "  </tbody>\n",
       "</table>"
      ],
      "text/plain": [
       "<IPython.core.display.HTML object>"
      ]
     },
     "metadata": {
      "tags": []
     },
     "output_type": "display_data"
    }
   ],
   "source": [
    "T1 = X_long[X_long['Cluster']==0]['Survival.time']\n",
    "T2 = X_long[X_long['Cluster']==1]['Survival.time']\n",
    "\n",
    "E1 = X_long[X_long['Cluster']==0]['Deadstatus.event']\n",
    "E2 = X_long[X_long['Cluster']==1]['Deadstatus.event']\n",
    "\n",
    "results_1yr = survival_difference_at_fixed_point_in_time_test(365, T1, T2, event_observed_A=E1, event_observed_B=E2)\n",
    "results_1yr.print_summary()"
   ]
  },
  {
   "cell_type": "markdown",
   "metadata": {
    "colab_type": "text",
    "id": "yTlKE4m12xMN"
   },
   "source": [
    "So there is a statistically significant difference in the survival rates between two clusters at 1 year."
   ]
  },
  {
   "cell_type": "code",
   "execution_count": null,
   "metadata": {
    "colab": {
     "base_uri": "https://localhost:8080/",
     "height": 204
    },
    "colab_type": "code",
    "id": "C_PwGfFP2KTZ",
    "outputId": "c439e8eb-0136-47f5-d282-901f7dd3d728"
   },
   "outputs": [
    {
     "data": {
      "text/html": [
       "<div>\n",
       "<style scoped>\n",
       "    .dataframe tbody tr th:only-of-type {\n",
       "        vertical-align: middle;\n",
       "    }\n",
       "\n",
       "    .dataframe tbody tr th {\n",
       "        vertical-align: top;\n",
       "    }\n",
       "\n",
       "    .dataframe thead th {\n",
       "        text-align: right;\n",
       "    }\n",
       "</style>\n",
       "<table border=\"1\" class=\"dataframe\">\n",
       "  <tbody>\n",
       "    <tr>\n",
       "      <th>null_distribution</th>\n",
       "      <td>chi squared</td>\n",
       "    </tr>\n",
       "    <tr>\n",
       "      <th>degrees_of_freedom</th>\n",
       "      <td>1</td>\n",
       "    </tr>\n",
       "    <tr>\n",
       "      <th>point_in_time</th>\n",
       "      <td>1095</td>\n",
       "    </tr>\n",
       "    <tr>\n",
       "      <th>test_name</th>\n",
       "      <td>survival_difference_at_fixed_point_in_time_test</td>\n",
       "    </tr>\n",
       "  </tbody>\n",
       "</table>\n",
       "</div><table border=\"1\" class=\"dataframe\">\n",
       "  <thead>\n",
       "    <tr style=\"text-align: right;\">\n",
       "      <th></th>\n",
       "      <th>test_statistic</th>\n",
       "      <th>p</th>\n",
       "    </tr>\n",
       "  </thead>\n",
       "  <tbody>\n",
       "    <tr>\n",
       "      <th>0</th>\n",
       "      <td>8.19</td>\n",
       "      <td>&lt;0.005</td>\n",
       "    </tr>\n",
       "  </tbody>\n",
       "</table>"
      ],
      "text/plain": [
       "<IPython.core.display.HTML object>"
      ]
     },
     "metadata": {
      "tags": []
     },
     "output_type": "display_data"
    }
   ],
   "source": [
    "results_3yr = survival_difference_at_fixed_point_in_time_test(3*365, T1, T2, event_observed_A=E1, event_observed_B=E2)\n",
    "results_3yr.print_summary()"
   ]
  },
  {
   "cell_type": "markdown",
   "metadata": {
    "colab_type": "text",
    "id": "PLed96v028hY"
   },
   "source": [
    "A statistically significant difference persists in the survival rates between the same two clusters at 3 years."
   ]
  },
  {
   "cell_type": "code",
   "execution_count": null,
   "metadata": {
    "colab": {
     "base_uri": "https://localhost:8080/",
     "height": 204
    },
    "colab_type": "code",
    "id": "qzanGoK-2Q2G",
    "outputId": "0beef621-d09f-4428-8b90-a03c22cdf871"
   },
   "outputs": [
    {
     "data": {
      "text/html": [
       "<div>\n",
       "<style scoped>\n",
       "    .dataframe tbody tr th:only-of-type {\n",
       "        vertical-align: middle;\n",
       "    }\n",
       "\n",
       "    .dataframe tbody tr th {\n",
       "        vertical-align: top;\n",
       "    }\n",
       "\n",
       "    .dataframe thead th {\n",
       "        text-align: right;\n",
       "    }\n",
       "</style>\n",
       "<table border=\"1\" class=\"dataframe\">\n",
       "  <tbody>\n",
       "    <tr>\n",
       "      <th>null_distribution</th>\n",
       "      <td>chi squared</td>\n",
       "    </tr>\n",
       "    <tr>\n",
       "      <th>degrees_of_freedom</th>\n",
       "      <td>1</td>\n",
       "    </tr>\n",
       "    <tr>\n",
       "      <th>point_in_time</th>\n",
       "      <td>1825</td>\n",
       "    </tr>\n",
       "    <tr>\n",
       "      <th>test_name</th>\n",
       "      <td>survival_difference_at_fixed_point_in_time_test</td>\n",
       "    </tr>\n",
       "  </tbody>\n",
       "</table>\n",
       "</div><table border=\"1\" class=\"dataframe\">\n",
       "  <thead>\n",
       "    <tr style=\"text-align: right;\">\n",
       "      <th></th>\n",
       "      <th>test_statistic</th>\n",
       "      <th>p</th>\n",
       "    </tr>\n",
       "  </thead>\n",
       "  <tbody>\n",
       "    <tr>\n",
       "      <th>0</th>\n",
       "      <td>1.42</td>\n",
       "      <td>0.23</td>\n",
       "    </tr>\n",
       "  </tbody>\n",
       "</table>"
      ],
      "text/plain": [
       "<IPython.core.display.HTML object>"
      ]
     },
     "metadata": {
      "tags": []
     },
     "output_type": "display_data"
    }
   ],
   "source": [
    "results_5yr = survival_difference_at_fixed_point_in_time_test(5*365, T1, T2, event_observed_A=E1, event_observed_B=E2)\n",
    "results_5yr.print_summary()"
   ]
  },
  {
   "cell_type": "markdown",
   "metadata": {
    "colab_type": "text",
    "id": "c8GG8err3c1q"
   },
   "source": [
    "No statistically significant difference in the survival rates between the same two clusters at the 5-year mark."
   ]
  },
  {
   "cell_type": "markdown",
   "metadata": {
    "colab_type": "text",
    "id": "0A5BzY5exy6E"
   },
   "source": [
    "##### Characteristics of the different clusters"
   ]
  },
  {
   "cell_type": "markdown",
   "metadata": {
    "colab_type": "text",
    "id": "7w7pjrUR4IJd"
   },
   "source": [
    "What are the characteristics between the two clusters?"
   ]
  },
  {
   "cell_type": "code",
   "execution_count": null,
   "metadata": {
    "colab": {},
    "colab_type": "code",
    "id": "1S986ehm3uFE"
   },
   "outputs": [],
   "source": [
    "data_1 = X_tr_scaled[X_long['Cluster']==0]\n",
    "data_2 = X_tr_scaled[X_long['Cluster']==1]\n",
    "\n",
    "ttest_results = ttest_ind(data_1, data_2, usevar='unequal')"
   ]
  },
  {
   "cell_type": "code",
   "execution_count": null,
   "metadata": {
    "colab": {
     "base_uri": "https://localhost:8080/",
     "height": 34
    },
    "colab_type": "code",
    "id": "Lkqk1gVl57gB",
    "outputId": "b35d7b2e-df1d-43d7-f3b9-da9a565e067e"
   },
   "outputs": [
    {
     "data": {
      "text/plain": [
       "['kmeans_diff.pkl']"
      ]
     },
     "execution_count": 21,
     "metadata": {
      "tags": []
     },
     "output_type": "execute_result"
    }
   ],
   "source": [
    "joblib.dump(ttest_results, 'kmeans_diff.pkl')"
   ]
  },
  {
   "cell_type": "markdown",
   "metadata": {
    "colab_type": "text",
    "id": "HGdW9wOHFnr8"
   },
   "source": [
    "Storing the cluster data separately:"
   ]
  },
  {
   "cell_type": "code",
   "execution_count": null,
   "metadata": {
    "colab": {},
    "colab_type": "code",
    "id": "KmfkfNBRFaWF"
   },
   "outputs": [],
   "source": [
    "df_data_1 = pd.DataFrame(data_1, columns=X.columns)\n",
    "df_data_2 = pd.DataFrame(data_2, columns=X.columns)"
   ]
  },
  {
   "cell_type": "code",
   "execution_count": null,
   "metadata": {
    "colab": {
     "base_uri": "https://localhost:8080/",
     "height": 34
    },
    "colab_type": "code",
    "id": "OLSVl_DRFtEL",
    "outputId": "2b0f5b5b-e339-4fce-dfcd-1146e98d4d9f"
   },
   "outputs": [
    {
     "data": {
      "text/plain": [
       "['df_cl2.pkl']"
      ]
     },
     "execution_count": 23,
     "metadata": {
      "tags": []
     },
     "output_type": "execute_result"
    }
   ],
   "source": [
    "joblib.dump(df_data_1, 'df_cl1.pkl')\n",
    "joblib.dump(df_data_2, 'df_cl2.pkl')"
   ]
  },
  {
   "cell_type": "markdown",
   "metadata": {
    "colab_type": "text",
    "id": "015-Ig2jFLKH"
   },
   "source": [
    "Storing the p-values in a dataframe with indices indicating the variables tested:"
   ]
  },
  {
   "cell_type": "code",
   "execution_count": 17,
   "metadata": {
    "colab": {
     "base_uri": "https://localhost:8080/",
     "height": 419
    },
    "colab_type": "code",
    "id": "gotENLqvDblb",
    "outputId": "b9790f87-7229-497b-b054-cf448a567901"
   },
   "outputs": [
    {
     "data": {
      "text/html": [
       "<div>\n",
       "<style scoped>\n",
       "    .dataframe tbody tr th:only-of-type {\n",
       "        vertical-align: middle;\n",
       "    }\n",
       "\n",
       "    .dataframe tbody tr th {\n",
       "        vertical-align: top;\n",
       "    }\n",
       "\n",
       "    .dataframe thead th {\n",
       "        text-align: right;\n",
       "    }\n",
       "</style>\n",
       "<table border=\"1\" class=\"dataframe\">\n",
       "  <thead>\n",
       "    <tr style=\"text-align: right;\">\n",
       "      <th></th>\n",
       "      <th>0</th>\n",
       "    </tr>\n",
       "  </thead>\n",
       "  <tbody>\n",
       "    <tr>\n",
       "      <th>shape_Maximum3DDiameter_0</th>\n",
       "      <td>2.153122e-23</td>\n",
       "    </tr>\n",
       "    <tr>\n",
       "      <th>shape_MeshVolume_0</th>\n",
       "      <td>5.469580e-21</td>\n",
       "    </tr>\n",
       "    <tr>\n",
       "      <th>shape_MajorAxisLength_0</th>\n",
       "      <td>2.806385e-10</td>\n",
       "    </tr>\n",
       "    <tr>\n",
       "      <th>shape_Sphericity_0</th>\n",
       "      <td>2.740442e-11</td>\n",
       "    </tr>\n",
       "    <tr>\n",
       "      <th>shape_LeastAxisLength_0</th>\n",
       "      <td>6.837539e-40</td>\n",
       "    </tr>\n",
       "    <tr>\n",
       "      <th>...</th>\n",
       "      <td>...</td>\n",
       "    </tr>\n",
       "    <tr>\n",
       "      <th>log_glszm_SizeZoneNonUniformity_0</th>\n",
       "      <td>1.280538e-14</td>\n",
       "    </tr>\n",
       "    <tr>\n",
       "      <th>log_glszm_GrayLevelNonUniformity_0</th>\n",
       "      <td>1.289177e-27</td>\n",
       "    </tr>\n",
       "    <tr>\n",
       "      <th>log_glszm_ZonePercentage_0</th>\n",
       "      <td>5.169343e-59</td>\n",
       "    </tr>\n",
       "    <tr>\n",
       "      <th>log_glszm_LargeAreaLowGrayLevelEmphasis_0</th>\n",
       "      <td>4.611523e-47</td>\n",
       "    </tr>\n",
       "    <tr>\n",
       "      <th>bc_glszm_LowGrayLevelZoneEmphasis_0</th>\n",
       "      <td>2.088818e-29</td>\n",
       "    </tr>\n",
       "  </tbody>\n",
       "</table>\n",
       "<p>87 rows × 1 columns</p>\n",
       "</div>"
      ],
      "text/plain": [
       "                                                      0\n",
       "shape_Maximum3DDiameter_0                  2.153122e-23\n",
       "shape_MeshVolume_0                         5.469580e-21\n",
       "shape_MajorAxisLength_0                    2.806385e-10\n",
       "shape_Sphericity_0                         2.740442e-11\n",
       "shape_LeastAxisLength_0                    6.837539e-40\n",
       "...                                                 ...\n",
       "log_glszm_SizeZoneNonUniformity_0          1.280538e-14\n",
       "log_glszm_GrayLevelNonUniformity_0         1.289177e-27\n",
       "log_glszm_ZonePercentage_0                 5.169343e-59\n",
       "log_glszm_LargeAreaLowGrayLevelEmphasis_0  4.611523e-47\n",
       "bc_glszm_LowGrayLevelZoneEmphasis_0        2.088818e-29\n",
       "\n",
       "[87 rows x 1 columns]"
      ]
     },
     "execution_count": 17,
     "metadata": {
      "tags": []
     },
     "output_type": "execute_result"
    }
   ],
   "source": [
    "df_pval = pd.DataFrame(ttest_results[1], index=X.columns)\n",
    "df_pval"
   ]
  },
  {
   "cell_type": "code",
   "execution_count": null,
   "metadata": {
    "colab": {
     "base_uri": "https://localhost:8080/",
     "height": 34
    },
    "colab_type": "code",
    "id": "TFrIKvoKE4gx",
    "outputId": "155071a2-c051-4610-9c15-0707ee24b3ea"
   },
   "outputs": [
    {
     "data": {
      "text/plain": [
       "['pvalues_variables.pkl']"
      ]
     },
     "execution_count": 25,
     "metadata": {
      "tags": []
     },
     "output_type": "execute_result"
    }
   ],
   "source": [
    "joblib.dump(df_pval, 'pvalues_variables.pkl')"
   ]
  },
  {
   "cell_type": "markdown",
   "metadata": {
    "colab_type": "text",
    "id": "A7iAl4KBoYTg"
   },
   "source": [
    "Apply Holm-Bonferroni Correction to the thresholds:"
   ]
  },
  {
   "cell_type": "code",
   "execution_count": null,
   "metadata": {
    "colab": {},
    "colab_type": "code",
    "id": "sHZU4df1lHAn"
   },
   "outputs": [],
   "source": [
    "# No adding 1 in the denominator because of zero-indexing\n",
    "df_pval['alpha'] = 0.05/(df_pval.shape[0] - np.array(ttest_results[1].argsort()))"
   ]
  },
  {
   "cell_type": "code",
   "execution_count": null,
   "metadata": {
    "colab": {},
    "colab_type": "code",
    "id": "MKmROt_sob3D"
   },
   "outputs": [],
   "source": [
    "df_pval.columns = ['p values', 'alpha']"
   ]
  },
  {
   "cell_type": "markdown",
   "metadata": {
    "colab_type": "text",
    "id": "N8_M7aA9pX_v"
   },
   "source": [
    "Compare the p-values with the respective thresholds:"
   ]
  },
  {
   "cell_type": "code",
   "execution_count": null,
   "metadata": {
    "colab": {},
    "colab_type": "code",
    "id": "mN63-uDXonkz"
   },
   "outputs": [],
   "source": [
    "df_pval_sig = df_pval[df_pval['p values'] < df_pval['alpha']]"
   ]
  },
  {
   "cell_type": "code",
   "execution_count": null,
   "metadata": {
    "colab": {
     "base_uri": "https://localhost:8080/",
     "height": 34
    },
    "colab_type": "code",
    "id": "6yyl4KxKYTn8",
    "outputId": "dbb288c9-c2f9-4e21-9642-6c1dd508fc12"
   },
   "outputs": [
    {
     "data": {
      "text/plain": [
       "(78, 2)"
      ]
     },
     "execution_count": 39,
     "metadata": {
      "tags": []
     },
     "output_type": "execute_result"
    }
   ],
   "source": [
    "df_pval_sig.shape"
   ]
  },
  {
   "cell_type": "markdown",
   "metadata": {
    "colab_type": "text",
    "id": "0P5OfQc0pnza"
   },
   "source": [
    "All features that have statistically significant differences:"
   ]
  },
  {
   "cell_type": "code",
   "execution_count": null,
   "metadata": {
    "colab": {
     "base_uri": "https://localhost:8080/",
     "height": 765
    },
    "colab_type": "code",
    "id": "KVNpnADopTDA",
    "outputId": "e73a84ca-7205-4722-9284-5566cf467dda"
   },
   "outputs": [
    {
     "data": {
      "text/plain": [
       "Index(['shape_Maximum3DDiameter_0', 'shape_MeshVolume_0',\n",
       "       'shape_MajorAxisLength_0', 'shape_Sphericity_0',\n",
       "       'shape_LeastAxisLength_0', 'shape_SurfaceVolumeRatio_0',\n",
       "       'shape_Maximum2DDiameterSlice_0', 'shape_SurfaceArea_0',\n",
       "       'shape_MinorAxisLength_0', 'gldm_HighGrayLevelEmphasis_0',\n",
       "       'gldm_DependenceEntropy_0', 'gldm_SmallDependenceEmphasis_0',\n",
       "       'gldm_SmallDependenceHighGrayLevelEmphasis_0',\n",
       "       'gldm_DependenceNonUniformityNormalized_0', 'gldm_DependenceVariance_0',\n",
       "       'gldm_LargeDependenceHighGrayLevelEmphasis_0', 'glcm_JointEntropy_0',\n",
       "       'glcm_ClusterShade_0', 'glcm_MaximumProbability_0', 'glcm_Idmn_0',\n",
       "       'glcm_InverseVariance_0', 'glcm_Idm_0', 'glcm_Autocorrelation_0',\n",
       "       'glcm_Imc2_0', 'glcm_Imc1_0', 'firstorder_InterquartileRange_0',\n",
       "       'firstorder_Skewness_0', 'firstorder_Uniformity_0',\n",
       "       'firstorder_Median_0', 'firstorder_Maximum_0',\n",
       "       'firstorder_RootMeanSquared_0', 'firstorder_Entropy_0',\n",
       "       'firstorder_Range_0', 'firstorder_Variance_0',\n",
       "       'firstorder_10Percentile_0', 'firstorder_Kurtosis_0',\n",
       "       'firstorder_Mean_0', 'glrlm_GrayLevelNonUniformityNormalized_0',\n",
       "       'glrlm_ShortRunHighGrayLevelEmphasis_0',\n",
       "       'glrlm_LongRunHighGrayLevelEmphasis_0', 'glrlm_RunPercentage_0',\n",
       "       'glrlm_RunEntropy_0', 'glrlm_HighGrayLevelRunEmphasis_0',\n",
       "       'glszm_SizeZoneNonUniformityNormalized_0',\n",
       "       'glszm_HighGrayLevelZoneEmphasis_0', 'ngtdm_Coarseness_0',\n",
       "       'ngtdm_Complexity_0', 'ngtdm_Strength_0', 'ngtdm_Contrast_0',\n",
       "       'ngtdm_Busyness_0', 'log_shape_MeshVolume_0',\n",
       "       'log_gldm_GrayLevelVariance_0', 'log_gldm_DependenceNonUniformity_0',\n",
       "       'log_gldm_GrayLevelNonUniformity_0',\n",
       "       'bc_gldm_LargeDependenceLowGrayLevelEmphasis_0',\n",
       "       'bc_gldm_SmallDependenceLowGrayLevelEmphasis_0',\n",
       "       'bc_gldm_LowGrayLevelEmphasis_0', 'bc_glcm_JointEnergy_0',\n",
       "       'log_glcm_DifferenceVariance_0', 'log_glcm_SumSquares_0',\n",
       "       'bc_glcm_ClusterProminence_0', 'bc_glcm_DifferenceAverage_0',\n",
       "       'bc_firstorder_InterquartileRange_0', 'log_firstorder_Kurtosis_0',\n",
       "       'log_firstorder_RootMeanSquared_0', 'log_glrlm_GrayLevelVariance_0',\n",
       "       'log_glrlm_RunVariance_0', 'log_glrlm_GrayLevelNonUniformity_0',\n",
       "       'log_glrlm_RunLengthNonUniformity_0',\n",
       "       'bc_glrlm_LongRunLowGrayLevelEmphasis_0',\n",
       "       'log_glszm_GrayLevelVariance_0', 'bc_glszm_ZoneVariance_0',\n",
       "       'log_glszm_GrayLevelNonUniformityNormalized_0',\n",
       "       'log_glszm_SizeZoneNonUniformity_0',\n",
       "       'log_glszm_GrayLevelNonUniformity_0', 'log_glszm_ZonePercentage_0',\n",
       "       'log_glszm_LargeAreaLowGrayLevelEmphasis_0',\n",
       "       'bc_glszm_LowGrayLevelZoneEmphasis_0'],\n",
       "      dtype='object')"
      ]
     },
     "execution_count": 28,
     "metadata": {
      "tags": []
     },
     "output_type": "execute_result"
    }
   ],
   "source": [
    "df_pval_sig.index"
   ]
  },
  {
   "cell_type": "markdown",
   "metadata": {
    "colab_type": "text",
    "id": "06NqU3PwqKZ7"
   },
   "source": [
    "Maybe just focus on the top 5:"
   ]
  },
  {
   "cell_type": "code",
   "execution_count": 21,
   "metadata": {
    "colab": {
     "base_uri": "https://localhost:8080/",
     "height": 85
    },
    "colab_type": "code",
    "id": "kQVBGxjOqOQg",
    "outputId": "6bbb73d0-63c3-4d1a-b537-407cadb43cb3"
   },
   "outputs": [
    {
     "data": {
      "text/plain": [
       "Index(['glrlm_GrayLevelNonUniformityNormalized_0',\n",
       "       'bc_firstorder_InterquartileRange_0', 'log_glszm_ZonePercentage_0',\n",
       "       'log_firstorder_Kurtosis_0', 'bc_glszm_ZoneVariance_0'],\n",
       "      dtype='object')"
      ]
     },
     "execution_count": 21,
     "metadata": {
      "tags": []
     },
     "output_type": "execute_result"
    }
   ],
   "source": [
    "p_ranks = ttest_results[1].argsort()\n",
    "X.columns[p_ranks[0:5]]"
   ]
  },
  {
   "cell_type": "markdown",
   "metadata": {
    "colab_type": "text",
    "id": "meDglXmHs8c7"
   },
   "source": [
    "I will plot the histograms for the five features above. Cluster 0 has the highest 1-year survival, and will be denoted as \"Higher survival\". Similarly for the other clusters."
   ]
  },
  {
   "cell_type": "code",
   "execution_count": 22,
   "metadata": {
    "colab": {
     "base_uri": "https://localhost:8080/",
     "height": 280
    },
    "colab_type": "code",
    "id": "ho9aUTqfsqrN",
    "outputId": "a28cd852-6ced-4dc9-f28b-5b4638b27bc1"
   },
   "outputs": [
    {
     "data": {
      "image/png": "[encoded data removed]",
      "text/plain": [
       "<Figure size 432x288 with 1 Axes>"
      ]
     },
     "metadata": {
      "tags": []
     },
     "output_type": "display_data"
    }
   ],
   "source": [
    "sns.distplot(X_long[X_long['Cluster']==0]['glrlm_GrayLevelNonUniformityNormalized_0'], label='Cluster 0 (Higher survival)')\n",
    "sns.distplot(X_long[X_long['Cluster']==1]['glrlm_GrayLevelNonUniformityNormalized_0'], label='Cluster 1 (Lower survival)')\n",
    "sns.distplot(X_long[X_long['Cluster']==2]['glrlm_GrayLevelNonUniformityNormalized_0'], label='Cluster 2 (Medium survival)')\n",
    "plt.legend()\n",
    "plt.show()"
   ]
  },
  {
   "cell_type": "code",
   "execution_count": 23,
   "metadata": {
    "colab": {
     "base_uri": "https://localhost:8080/",
     "height": 280
    },
    "colab_type": "code",
    "id": "_ZF0oKRHq5Ec",
    "outputId": "c3e72c0d-5335-4324-bbfe-50e15be33678"
   },
   "outputs": [
    {
     "data": {
      "image/png": "[encoded data removed]",
      "text/plain": [
       "<Figure size 432x288 with 1 Axes>"
      ]
     },
     "metadata": {
      "tags": []
     },
     "output_type": "display_data"
    }
   ],
   "source": [
    "sns.distplot(X_long[X_long['Cluster']==0]['bc_firstorder_InterquartileRange_0'], label='Cluster 0 (Higher survival)')\n",
    "sns.distplot(X_long[X_long['Cluster']==1]['bc_firstorder_InterquartileRange_0'], label='Cluster 1 (Lower survival)')\n",
    "sns.distplot(X_long[X_long['Cluster']==2]['bc_firstorder_InterquartileRange_0'], label='Cluster 2 (Medium survival)')\n",
    "plt.legend()\n",
    "plt.show()"
   ]
  },
  {
   "cell_type": "code",
   "execution_count": 24,
   "metadata": {
    "colab": {
     "base_uri": "https://localhost:8080/",
     "height": 280
    },
    "colab_type": "code",
    "id": "0DdilV_xtNXt",
    "outputId": "b7e61e9f-15f9-4e87-fedb-ccda90a5041d"
   },
   "outputs": [
    {
     "data": {
      "image/png": "[encoded data removed]",
      "text/plain": [
       "<Figure size 432x288 with 1 Axes>"
      ]
     },
     "metadata": {
      "tags": []
     },
     "output_type": "display_data"
    }
   ],
   "source": [
    "sns.distplot(X_long[X_long['Cluster']==0]['log_glszm_ZonePercentage_0'], label='Cluster 0 (Higher survival)')\n",
    "sns.distplot(X_long[X_long['Cluster']==1]['log_glszm_ZonePercentage_0'], label='Cluster 1 (Lower survival)')\n",
    "sns.distplot(X_long[X_long['Cluster']==2]['log_glszm_ZonePercentage_0'], label='Cluster 2 (Medium survival)')\n",
    "plt.legend()\n",
    "plt.show()"
   ]
  },
  {
   "cell_type": "code",
   "execution_count": 25,
   "metadata": {
    "colab": {
     "base_uri": "https://localhost:8080/",
     "height": 281
    },
    "colab_type": "code",
    "id": "ccmdNg5utNAF",
    "outputId": "96fd2ad7-2876-4760-dc76-ef9c0c89e7f3"
   },
   "outputs": [
    {
     "data": {
      "image/png": "[encoded data removed]",
      "text/plain": [
       "<Figure size 432x288 with 1 Axes>"
      ]
     },
     "metadata": {
      "tags": []
     },
     "output_type": "display_data"
    }
   ],
   "source": [
    "sns.distplot(X_long[X_long['Cluster']==0]['log_firstorder_Kurtosis_0'], label='Cluster 0 (Higher survival)')\n",
    "sns.distplot(X_long[X_long['Cluster']==1]['log_firstorder_Kurtosis_0'], label='Cluster 1 (Lower survival)')\n",
    "sns.distplot(X_long[X_long['Cluster']==2]['log_firstorder_Kurtosis_0'], label='Cluster 2 (Medium survival)')\n",
    "plt.legend()\n",
    "plt.show()"
   ]
  },
  {
   "cell_type": "code",
   "execution_count": 26,
   "metadata": {
    "colab": {
     "base_uri": "https://localhost:8080/",
     "height": 280
    },
    "colab_type": "code",
    "id": "KcYqjiw4tpZp",
    "outputId": "5c0f1742-305a-432f-ec4f-dea24d9f0fc9"
   },
   "outputs": [
    {
     "data": {
      "image/png": "[encoded data removed]",
      "text/plain": [
       "<Figure size 432x288 with 1 Axes>"
      ]
     },
     "metadata": {
      "tags": []
     },
     "output_type": "display_data"
    }
   ],
   "source": [
    "sns.distplot(X_long[X_long['Cluster']==0]['bc_glszm_ZoneVariance_0'], label='Cluster 0 (Higher survival)')\n",
    "sns.distplot(X_long[X_long['Cluster']==1]['bc_glszm_ZoneVariance_0'], label='Cluster 1 (Lower survival)')\n",
    "sns.distplot(X_long[X_long['Cluster']==2]['bc_glszm_ZoneVariance_0'], label='Cluster 2 (Medium survival)')\n",
    "plt.legend()\n",
    "plt.show()"
   ]
  },
  {
   "cell_type": "markdown",
   "metadata": {
    "colab_type": "text",
    "id": "EamtBYiMx_AW"
   },
   "source": [
    "##### Median survival times for each cluster"
   ]
  },
  {
   "cell_type": "code",
   "execution_count": 27,
   "metadata": {
    "colab": {
     "base_uri": "https://localhost:8080/",
     "height": 272
    },
    "colab_type": "code",
    "id": "A2aTCygMydTB",
    "outputId": "f888f910-5084-41f7-e924-a14383408d92"
   },
   "outputs": [
    {
     "name": "stdout",
     "output_type": "stream",
     "text": [
      "Median survival time for Cluster 0: 1000.0\n",
      "Confidence interval on median survival for Cluster 0: \n",
      "     Cluster 0_lower_0.95  Cluster 0_upper_0.95\n",
      "0.5                 687.0                1391.0\n",
      "\n",
      "Median survival time for Cluster 1: 423.0\n",
      "Confidence interval on median survival for Cluster 1: \n",
      "     Cluster 1_lower_0.95  Cluster 1_upper_0.95\n",
      "0.5                 311.0                 597.0\n",
      "\n",
      "Median survival time for Cluster 2: 524.0\n",
      "Confidence interval on median survival for Cluster 2: \n",
      "     Cluster 2_lower_0.95  Cluster 2_upper_0.95\n",
      "0.5                 456.0                 685.0\n",
      "\n"
     ]
    }
   ],
   "source": [
    "for index, param in enumerate(median_list):\n",
    "  print(f'Median survival time for Cluster {index}: {param}')\n",
    "  print(f'Confidence interval on median survival for Cluster {index}: \\n{ci_list[index]}\\n')"
   ]
  },
  {
   "cell_type": "markdown",
   "metadata": {
    "colab_type": "text",
    "id": "bLKotY3kAwTv"
   },
   "source": [
    "##### Check with test data\n",
    "I will:\n",
    "1. identify the cluster each data point in the test set belongs to;\n",
    "2. fit a Kaplan-Meier curve through the test data points grouped by their cluster; and\n",
    "3. compute the median survival time according to the Kaplan-Meier estimate for the three curves from the test data set\n",
    "4. compare the test median survival times with the training median survival times"
   ]
  },
  {
   "cell_type": "markdown",
   "metadata": {
    "colab_type": "text",
    "id": "cXWMAawwSpuH"
   },
   "source": [
    "Define another dataframe containing cluster information for each entry in the test dataset, and append the survival time and event status (i.e. whether the patient has passed away):"
   ]
  },
  {
   "cell_type": "code",
   "execution_count": null,
   "metadata": {
    "colab": {},
    "colab_type": "code",
    "id": "Q3Ax5Rx_SH4N"
   },
   "outputs": [],
   "source": [
    "X_test_long = X_test.copy()\n",
    "X_test_long['Cluster'] = my_kmeans.predict(X_tst_scaled)\n",
    "\n",
    "X_test_long['Survival.time'] = y_test['Survival.time']\n",
    "X_test_long['Deadstatus.event'] = y_test['deadstatus.event']"
   ]
  },
  {
   "cell_type": "markdown",
   "metadata": {
    "colab_type": "text",
    "id": "RSn-5HwJS2D7"
   },
   "source": [
    "Now fit K-M survival curves through the test points grouped by clusters, and compute the respective median survival time and the confidence interval:"
   ]
  },
  {
   "cell_type": "code",
   "execution_count": null,
   "metadata": {
    "colab": {},
    "colab_type": "code",
    "id": "fUhtbYxCSbfh"
   },
   "outputs": [],
   "source": [
    "median_test_list = []\n",
    "ci_test_list = []\n",
    "\n",
    "for i in range(n_cl_optimize):\n",
    "  kmf.fit(X_test_long[X_test_long['Cluster']==i]['Survival.time'], \n",
    "          X_test_long[X_test_long['Cluster']==i]['Deadstatus.event'], \n",
    "          label='Cluster '+str(i))\n",
    "\n",
    "  median_test_list.append(kmf.median_survival_time_)\n",
    "  ci_test_list.append(median_survival_times(kmf.confidence_interval_))"
   ]
  },
  {
   "cell_type": "markdown",
   "metadata": {
    "colab_type": "text",
    "id": "sm5JBuBtTqYL"
   },
   "source": [
    "What are the median survival times for the three clusters in the test data set?"
   ]
  },
  {
   "cell_type": "code",
   "execution_count": 30,
   "metadata": {
    "colab": {
     "base_uri": "https://localhost:8080/",
     "height": 272
    },
    "colab_type": "code",
    "id": "PVCMrcS2Tupa",
    "outputId": "dccd036d-8fc5-4d8d-9b26-b9838eb4ad39"
   },
   "outputs": [
    {
     "name": "stdout",
     "output_type": "stream",
     "text": [
      "Median survival time for Cluster 0: 673.0\n",
      "Confidence interval on median survival for Cluster 0: \n",
      "     Cluster 0_lower_0.95  Cluster 0_upper_0.95\n",
      "0.5                 426.0                1235.0\n",
      "\n",
      "Median survival time for Cluster 1: 439.0\n",
      "Confidence interval on median survival for Cluster 1: \n",
      "     Cluster 1_lower_0.95  Cluster 1_upper_0.95\n",
      "0.5                 195.0                 859.0\n",
      "\n",
      "Median survival time for Cluster 2: 465.0\n",
      "Confidence interval on median survival for Cluster 2: \n",
      "     Cluster 2_lower_0.95  Cluster 2_upper_0.95\n",
      "0.5                 346.0                 715.0\n",
      "\n"
     ]
    }
   ],
   "source": [
    "for index, param in enumerate(median_test_list):\n",
    "  print(f'Median survival time for Cluster {index}: {param}')\n",
    "  print(f'Confidence interval on median survival for Cluster {index}: \\n{ci_test_list[index]}\\n')"
   ]
  },
  {
   "cell_type": "markdown",
   "metadata": {
    "colab_type": "text",
    "id": "_ZAkICYrT4iY"
   },
   "source": [
    "The medians are no longer statistically significantly different. This is somewhat expected, as there are less data points in the test data points, and the statistical power will be less. However, there are two encouraging signs:\n",
    "\n",
    "1. The medians for the three clusters follow the same pattern as for the training set, i.e. the median survival for Cluster 0 is highest, followed by Cluster 2, then Cluster 1;\n",
    "\n",
    "2. The median survival time estimates all lie within the confidence intervals as given in the training dataset."
   ]
  },
  {
   "cell_type": "markdown",
   "metadata": {
    "colab_type": "text",
    "id": "kvPeZFf8C7tS"
   },
   "source": [
    "#### OPTICS"
   ]
  },
  {
   "cell_type": "markdown",
   "metadata": {
    "colab_type": "text",
    "id": "w0arBK7Mya80"
   },
   "source": [
    "Try clustering with OPTICS:"
   ]
  },
  {
   "cell_type": "code",
   "execution_count": null,
   "metadata": {
    "colab": {
     "base_uri": "https://localhost:8080/",
     "height": 34
    },
    "colab_type": "code",
    "id": "vi9ZrEJf53Lh",
    "outputId": "c7cb2031-25fa-42de-d995-369d107b322e"
   },
   "outputs": [
    {
     "data": {
      "text/plain": [
       "['optics.pkl']"
      ]
     },
     "execution_count": 70,
     "metadata": {
      "tags": []
     },
     "output_type": "execute_result"
    }
   ],
   "source": [
    "my_optics = OPTICS(min_samples=10, n_jobs=-1)\n",
    "my_optics.fit(X_scaled)\n",
    "joblib.dump(my_optics, 'optics.pkl')"
   ]
  },
  {
   "cell_type": "code",
   "execution_count": null,
   "metadata": {
    "colab": {
     "base_uri": "https://localhost:8080/",
     "height": 68
    },
    "colab_type": "code",
    "id": "bEnZjNZo6svo",
    "outputId": "14bb5e2e-5fd4-4e63-c467-23fdd71c4809"
   },
   "outputs": [
    {
     "data": {
      "text/plain": [
       "-1    408\n",
       " 0     12\n",
       "Name: OPTICS, dtype: int64"
      ]
     },
     "execution_count": 72,
     "metadata": {
      "tags": []
     },
     "output_type": "execute_result"
    }
   ],
   "source": [
    "X_long['OPTICS'].value_counts()"
   ]
  },
  {
   "cell_type": "markdown",
   "metadata": {
    "colab_type": "text",
    "id": "0OuhLwiw7R2L"
   },
   "source": [
    "OPTICS does not work as well"
   ]
  },
  {
   "cell_type": "markdown",
   "metadata": {
    "colab_type": "text",
    "id": "Ba3dStNe5rxB"
   },
   "source": [
    "### Combining K-Means with Decision Tree"
   ]
  },
  {
   "cell_type": "markdown",
   "metadata": {
    "colab_type": "text",
    "id": "LZ_qJB7kuaHW"
   },
   "source": [
    "#### 1-year analysis"
   ]
  },
  {
   "cell_type": "markdown",
   "metadata": {
    "colab_type": "text",
    "id": "MSXR0knka1UJ"
   },
   "source": [
    "I will try to repeat the analysis with the cluster from K-Means as an additional feature. I will choose one model to compare. Other models will only be run when a marked improvement is seen."
   ]
  },
  {
   "cell_type": "code",
   "execution_count": 31,
   "metadata": {
    "colab": {
     "base_uri": "https://localhost:8080/",
     "height": 253
    },
    "colab_type": "code",
    "id": "Im3yOfDP5rS5",
    "outputId": "e918be17-6761-4fb0-a621-06ad62061897"
   },
   "outputs": [
    {
     "data": {
      "text/html": [
       "<div>\n",
       "<style scoped>\n",
       "    .dataframe tbody tr th:only-of-type {\n",
       "        vertical-align: middle;\n",
       "    }\n",
       "\n",
       "    .dataframe tbody tr th {\n",
       "        vertical-align: top;\n",
       "    }\n",
       "\n",
       "    .dataframe thead th {\n",
       "        text-align: right;\n",
       "    }\n",
       "</style>\n",
       "<table border=\"1\" class=\"dataframe\">\n",
       "  <thead>\n",
       "    <tr style=\"text-align: right;\">\n",
       "      <th></th>\n",
       "      <th>shape_Maximum3DDiameter_0</th>\n",
       "      <th>shape_MeshVolume_0</th>\n",
       "      <th>shape_MajorAxisLength_0</th>\n",
       "      <th>shape_Sphericity_0</th>\n",
       "      <th>shape_LeastAxisLength_0</th>\n",
       "      <th>shape_Elongation_0</th>\n",
       "      <th>shape_SurfaceVolumeRatio_0</th>\n",
       "      <th>shape_Maximum2DDiameterSlice_0</th>\n",
       "      <th>shape_Flatness_0</th>\n",
       "      <th>shape_SurfaceArea_0</th>\n",
       "      <th>shape_MinorAxisLength_0</th>\n",
       "      <th>gldm_HighGrayLevelEmphasis_0</th>\n",
       "      <th>gldm_DependenceEntropy_0</th>\n",
       "      <th>gldm_SmallDependenceEmphasis_0</th>\n",
       "      <th>gldm_SmallDependenceHighGrayLevelEmphasis_0</th>\n",
       "      <th>gldm_DependenceNonUniformityNormalized_0</th>\n",
       "      <th>gldm_DependenceVariance_0</th>\n",
       "      <th>gldm_LargeDependenceHighGrayLevelEmphasis_0</th>\n",
       "      <th>glcm_JointEntropy_0</th>\n",
       "      <th>glcm_ClusterShade_0</th>\n",
       "      <th>glcm_MaximumProbability_0</th>\n",
       "      <th>glcm_Idmn_0</th>\n",
       "      <th>glcm_InverseVariance_0</th>\n",
       "      <th>glcm_Idm_0</th>\n",
       "      <th>glcm_Correlation_0</th>\n",
       "      <th>glcm_Autocorrelation_0</th>\n",
       "      <th>glcm_MCC_0</th>\n",
       "      <th>glcm_Imc2_0</th>\n",
       "      <th>glcm_Imc1_0</th>\n",
       "      <th>firstorder_InterquartileRange_0</th>\n",
       "      <th>firstorder_Skewness_0</th>\n",
       "      <th>firstorder_Uniformity_0</th>\n",
       "      <th>firstorder_Median_0</th>\n",
       "      <th>firstorder_Energy_0</th>\n",
       "      <th>firstorder_Maximum_0</th>\n",
       "      <th>firstorder_RootMeanSquared_0</th>\n",
       "      <th>firstorder_90Percentile_0</th>\n",
       "      <th>firstorder_Minimum_0</th>\n",
       "      <th>firstorder_Entropy_0</th>\n",
       "      <th>firstorder_Range_0</th>\n",
       "      <th>...</th>\n",
       "      <th>glszm_SizeZoneNonUniformityNormalized_0</th>\n",
       "      <th>glszm_HighGrayLevelZoneEmphasis_0</th>\n",
       "      <th>glszm_ZoneEntropy_0</th>\n",
       "      <th>ngtdm_Coarseness_0</th>\n",
       "      <th>ngtdm_Complexity_0</th>\n",
       "      <th>ngtdm_Strength_0</th>\n",
       "      <th>ngtdm_Contrast_0</th>\n",
       "      <th>ngtdm_Busyness_0</th>\n",
       "      <th>log_shape_MeshVolume_0</th>\n",
       "      <th>log_gldm_GrayLevelVariance_0</th>\n",
       "      <th>log_gldm_DependenceNonUniformity_0</th>\n",
       "      <th>log_gldm_GrayLevelNonUniformity_0</th>\n",
       "      <th>bc_gldm_LargeDependenceLowGrayLevelEmphasis_0</th>\n",
       "      <th>bc_gldm_SmallDependenceLowGrayLevelEmphasis_0</th>\n",
       "      <th>bc_gldm_LowGrayLevelEmphasis_0</th>\n",
       "      <th>bc_glcm_JointEnergy_0</th>\n",
       "      <th>log_glcm_DifferenceVariance_0</th>\n",
       "      <th>log_glcm_SumSquares_0</th>\n",
       "      <th>bc_glcm_ClusterProminence_0</th>\n",
       "      <th>bc_glcm_DifferenceAverage_0</th>\n",
       "      <th>bc_firstorder_InterquartileRange_0</th>\n",
       "      <th>log_firstorder_Energy_0</th>\n",
       "      <th>log_firstorder_Kurtosis_0</th>\n",
       "      <th>log_firstorder_RootMeanSquared_0</th>\n",
       "      <th>log_glrlm_GrayLevelVariance_0</th>\n",
       "      <th>log_glrlm_RunVariance_0</th>\n",
       "      <th>log_glrlm_GrayLevelNonUniformity_0</th>\n",
       "      <th>log_glrlm_RunLengthNonUniformity_0</th>\n",
       "      <th>bc_glrlm_LongRunLowGrayLevelEmphasis_0</th>\n",
       "      <th>log_glszm_GrayLevelVariance_0</th>\n",
       "      <th>bc_glszm_ZoneVariance_0</th>\n",
       "      <th>log_glszm_GrayLevelNonUniformityNormalized_0</th>\n",
       "      <th>log_glszm_SizeZoneNonUniformity_0</th>\n",
       "      <th>log_glszm_GrayLevelNonUniformity_0</th>\n",
       "      <th>log_glszm_ZonePercentage_0</th>\n",
       "      <th>log_glszm_LargeAreaLowGrayLevelEmphasis_0</th>\n",
       "      <th>bc_glszm_LowGrayLevelZoneEmphasis_0</th>\n",
       "      <th>Cluster</th>\n",
       "      <th>Survival.time</th>\n",
       "      <th>Deadstatus.event</th>\n",
       "    </tr>\n",
       "  </thead>\n",
       "  <tbody>\n",
       "    <tr>\n",
       "      <th>29</th>\n",
       "      <td>79.548648</td>\n",
       "      <td>46771.324419</td>\n",
       "      <td>66.243478</td>\n",
       "      <td>0.539864</td>\n",
       "      <td>33.029213</td>\n",
       "      <td>0.650248</td>\n",
       "      <td>0.248622</td>\n",
       "      <td>77.994957</td>\n",
       "      <td>0.498603</td>\n",
       "      <td>11628.387988</td>\n",
       "      <td>43.074694</td>\n",
       "      <td>1551.934085</td>\n",
       "      <td>7.051011</td>\n",
       "      <td>0.231761</td>\n",
       "      <td>258.071915</td>\n",
       "      <td>0.086874</td>\n",
       "      <td>24.730186</td>\n",
       "      <td>115081.320378</td>\n",
       "      <td>7.066659</td>\n",
       "      <td>-7372.047627</td>\n",
       "      <td>0.130207</td>\n",
       "      <td>0.986825</td>\n",
       "      <td>0.346197</td>\n",
       "      <td>0.421743</td>\n",
       "      <td>0.645068</td>\n",
       "      <td>1559.588437</td>\n",
       "      <td>0.689367</td>\n",
       "      <td>0.768594</td>\n",
       "      <td>-0.134396</td>\n",
       "      <td>129.0</td>\n",
       "      <td>-2.181319</td>\n",
       "      <td>0.129396</td>\n",
       "      <td>16.0</td>\n",
       "      <td>811412743.0</td>\n",
       "      <td>350.0</td>\n",
       "      <td>222.331229</td>\n",
       "      <td>56.0</td>\n",
       "      <td>-1024.0</td>\n",
       "      <td>3.928863</td>\n",
       "      <td>1374.0</td>\n",
       "      <td>...</td>\n",
       "      <td>0.502828</td>\n",
       "      <td>1081.317144</td>\n",
       "      <td>6.678812</td>\n",
       "      <td>0.000381</td>\n",
       "      <td>3368.707050</td>\n",
       "      <td>1.121584</td>\n",
       "      <td>0.125225</td>\n",
       "      <td>0.769183</td>\n",
       "      <td>10.753026</td>\n",
       "      <td>4.248907</td>\n",
       "      <td>7.262650</td>\n",
       "      <td>7.661074</td>\n",
       "      <td>-3.624385</td>\n",
       "      <td>-13.488270</td>\n",
       "      <td>-73.740736</td>\n",
       "      <td>-2.288238</td>\n",
       "      <td>3.452830</td>\n",
       "      <td>4.190825</td>\n",
       "      <td>35.225478</td>\n",
       "      <td>1.206894</td>\n",
       "      <td>2.162960</td>\n",
       "      <td>20.514287</td>\n",
       "      <td>2.012449</td>\n",
       "      <td>5.404168</td>\n",
       "      <td>4.374259</td>\n",
       "      <td>-0.720980</td>\n",
       "      <td>7.142699</td>\n",
       "      <td>9.143600</td>\n",
       "      <td>-52.299402</td>\n",
       "      <td>7.643202</td>\n",
       "      <td>14.885640</td>\n",
       "      <td>-3.436099</td>\n",
       "      <td>7.635615</td>\n",
       "      <td>4.887024</td>\n",
       "      <td>-1.382828</td>\n",
       "      <td>1.341403</td>\n",
       "      <td>-20.869037</td>\n",
       "      <td>2</td>\n",
       "      <td>999</td>\n",
       "      <td>1</td>\n",
       "    </tr>\n",
       "    <tr>\n",
       "      <th>140</th>\n",
       "      <td>149.873782</td>\n",
       "      <td>133095.145226</td>\n",
       "      <td>121.111204</td>\n",
       "      <td>0.408072</td>\n",
       "      <td>62.047949</td>\n",
       "      <td>0.679267</td>\n",
       "      <td>0.232110</td>\n",
       "      <td>116.718626</td>\n",
       "      <td>0.512322</td>\n",
       "      <td>30892.691814</td>\n",
       "      <td>82.266860</td>\n",
       "      <td>1126.320300</td>\n",
       "      <td>6.647593</td>\n",
       "      <td>0.125893</td>\n",
       "      <td>116.713579</td>\n",
       "      <td>0.063733</td>\n",
       "      <td>22.064525</td>\n",
       "      <td>94122.868812</td>\n",
       "      <td>5.448654</td>\n",
       "      <td>-390.214441</td>\n",
       "      <td>0.132906</td>\n",
       "      <td>0.998108</td>\n",
       "      <td>0.448000</td>\n",
       "      <td>0.530234</td>\n",
       "      <td>0.557400</td>\n",
       "      <td>1141.613373</td>\n",
       "      <td>0.593359</td>\n",
       "      <td>0.640641</td>\n",
       "      <td>-0.110144</td>\n",
       "      <td>50.0</td>\n",
       "      <td>-2.701132</td>\n",
       "      <td>0.179565</td>\n",
       "      <td>44.0</td>\n",
       "      <td>372284270.0</td>\n",
       "      <td>703.0</td>\n",
       "      <td>89.186783</td>\n",
       "      <td>80.0</td>\n",
       "      <td>-791.0</td>\n",
       "      <td>3.115362</td>\n",
       "      <td>1494.0</td>\n",
       "      <td>...</td>\n",
       "      <td>0.428461</td>\n",
       "      <td>890.619602</td>\n",
       "      <td>6.423494</td>\n",
       "      <td>0.000164</td>\n",
       "      <td>1700.774921</td>\n",
       "      <td>0.613861</td>\n",
       "      <td>0.009383</td>\n",
       "      <td>1.870508</td>\n",
       "      <td>11.798820</td>\n",
       "      <td>2.490167</td>\n",
       "      <td>8.000658</td>\n",
       "      <td>9.036484</td>\n",
       "      <td>-5.068585</td>\n",
       "      <td>-17.015531</td>\n",
       "      <td>-163.213247</td>\n",
       "      <td>-2.093221</td>\n",
       "      <td>1.558237</td>\n",
       "      <td>2.146834</td>\n",
       "      <td>19.157975</td>\n",
       "      <td>0.427987</td>\n",
       "      <td>1.993837</td>\n",
       "      <td>19.735168</td>\n",
       "      <td>2.708671</td>\n",
       "      <td>4.490733</td>\n",
       "      <td>2.707217</td>\n",
       "      <td>-0.498173</td>\n",
       "      <td>8.555053</td>\n",
       "      <td>10.006156</td>\n",
       "      <td>-104.054795</td>\n",
       "      <td>5.499626</td>\n",
       "      <td>19.968827</td>\n",
       "      <td>-2.904079</td>\n",
       "      <td>7.839886</td>\n",
       "      <td>5.783363</td>\n",
       "      <td>-2.066260</td>\n",
       "      <td>3.472288</td>\n",
       "      <td>-25.944037</td>\n",
       "      <td>1</td>\n",
       "      <td>4118</td>\n",
       "      <td>0</td>\n",
       "    </tr>\n",
       "    <tr>\n",
       "      <th>392</th>\n",
       "      <td>91.831399</td>\n",
       "      <td>11547.446251</td>\n",
       "      <td>115.045143</td>\n",
       "      <td>0.529093</td>\n",
       "      <td>20.092948</td>\n",
       "      <td>0.186026</td>\n",
       "      <td>0.404381</td>\n",
       "      <td>38.135985</td>\n",
       "      <td>0.174653</td>\n",
       "      <td>4669.562137</td>\n",
       "      <td>21.401331</td>\n",
       "      <td>571.319258</td>\n",
       "      <td>6.951992</td>\n",
       "      <td>0.176861</td>\n",
       "      <td>88.039948</td>\n",
       "      <td>0.098751</td>\n",
       "      <td>10.339175</td>\n",
       "      <td>21798.668538</td>\n",
       "      <td>6.738448</td>\n",
       "      <td>-265.896979</td>\n",
       "      <td>0.048921</td>\n",
       "      <td>0.994172</td>\n",
       "      <td>0.368768</td>\n",
       "      <td>0.400983</td>\n",
       "      <td>0.521140</td>\n",
       "      <td>579.850906</td>\n",
       "      <td>0.664808</td>\n",
       "      <td>0.725544</td>\n",
       "      <td>-0.146517</td>\n",
       "      <td>82.0</td>\n",
       "      <td>-1.215309</td>\n",
       "      <td>0.101880</td>\n",
       "      <td>-7.0</td>\n",
       "      <td>42658250.0</td>\n",
       "      <td>466.0</td>\n",
       "      <td>102.039550</td>\n",
       "      <td>73.0</td>\n",
       "      <td>-587.0</td>\n",
       "      <td>3.788172</td>\n",
       "      <td>1053.0</td>\n",
       "      <td>...</td>\n",
       "      <td>0.376547</td>\n",
       "      <td>487.979275</td>\n",
       "      <td>6.491527</td>\n",
       "      <td>0.002278</td>\n",
       "      <td>1119.452924</td>\n",
       "      <td>1.938691</td>\n",
       "      <td>0.031962</td>\n",
       "      <td>0.304069</td>\n",
       "      <td>9.354220</td>\n",
       "      <td>2.762237</td>\n",
       "      <td>6.002855</td>\n",
       "      <td>6.034049</td>\n",
       "      <td>-5.136154</td>\n",
       "      <td>-12.945576</td>\n",
       "      <td>-82.537982</td>\n",
       "      <td>-2.554275</td>\n",
       "      <td>1.707354</td>\n",
       "      <td>2.500779</td>\n",
       "      <td>17.982256</td>\n",
       "      <td>0.777076</td>\n",
       "      <td>2.089951</td>\n",
       "      <td>17.568731</td>\n",
       "      <td>1.889011</td>\n",
       "      <td>4.625360</td>\n",
       "      <td>2.870877</td>\n",
       "      <td>-1.133839</td>\n",
       "      <td>5.774894</td>\n",
       "      <td>7.874388</td>\n",
       "      <td>-65.146592</td>\n",
       "      <td>5.361833</td>\n",
       "      <td>10.205696</td>\n",
       "      <td>-2.982769</td>\n",
       "      <td>5.672272</td>\n",
       "      <td>3.666215</td>\n",
       "      <td>-1.669026</td>\n",
       "      <td>0.479024</td>\n",
       "      <td>-16.826588</td>\n",
       "      <td>2</td>\n",
       "      <td>249</td>\n",
       "      <td>1</td>\n",
       "    </tr>\n",
       "    <tr>\n",
       "      <th>118</th>\n",
       "      <td>100.280902</td>\n",
       "      <td>37163.138390</td>\n",
       "      <td>93.354204</td>\n",
       "      <td>0.506567</td>\n",
       "      <td>30.138021</td>\n",
       "      <td>0.441699</td>\n",
       "      <td>0.286073</td>\n",
       "      <td>56.581664</td>\n",
       "      <td>0.322835</td>\n",
       "      <td>10631.369119</td>\n",
       "      <td>41.234429</td>\n",
       "      <td>1755.151893</td>\n",
       "      <td>6.907368</td>\n",
       "      <td>0.159665</td>\n",
       "      <td>225.531066</td>\n",
       "      <td>0.076074</td>\n",
       "      <td>16.806682</td>\n",
       "      <td>106553.990746</td>\n",
       "      <td>6.179260</td>\n",
       "      <td>-2715.741367</td>\n",
       "      <td>0.088980</td>\n",
       "      <td>0.994552</td>\n",
       "      <td>0.419636</td>\n",
       "      <td>0.472900</td>\n",
       "      <td>0.575389</td>\n",
       "      <td>1778.193157</td>\n",
       "      <td>0.626361</td>\n",
       "      <td>0.691925</td>\n",
       "      <td>-0.118495</td>\n",
       "      <td>60.0</td>\n",
       "      <td>-3.689031</td>\n",
       "      <td>0.139894</td>\n",
       "      <td>32.0</td>\n",
       "      <td>268511044.0</td>\n",
       "      <td>360.0</td>\n",
       "      <td>143.304632</td>\n",
       "      <td>87.0</td>\n",
       "      <td>-1011.0</td>\n",
       "      <td>3.501440</td>\n",
       "      <td>1371.0</td>\n",
       "      <td>...</td>\n",
       "      <td>0.485622</td>\n",
       "      <td>1365.160886</td>\n",
       "      <td>6.663162</td>\n",
       "      <td>0.000599</td>\n",
       "      <td>2505.404743</td>\n",
       "      <td>2.480190</td>\n",
       "      <td>0.034241</td>\n",
       "      <td>0.416315</td>\n",
       "      <td>10.523073</td>\n",
       "      <td>3.495361</td>\n",
       "      <td>6.902405</td>\n",
       "      <td>7.511590</td>\n",
       "      <td>-7.628709</td>\n",
       "      <td>-15.180797</td>\n",
       "      <td>-150.022495</td>\n",
       "      <td>-2.321533</td>\n",
       "      <td>2.628522</td>\n",
       "      <td>3.162637</td>\n",
       "      <td>29.679089</td>\n",
       "      <td>0.758820</td>\n",
       "      <td>2.031458</td>\n",
       "      <td>19.408403</td>\n",
       "      <td>2.953004</td>\n",
       "      <td>4.964973</td>\n",
       "      <td>3.681468</td>\n",
       "      <td>-0.847674</td>\n",
       "      <td>7.140706</td>\n",
       "      <td>8.872138</td>\n",
       "      <td>-117.434812</td>\n",
       "      <td>7.741431</td>\n",
       "      <td>14.339585</td>\n",
       "      <td>-3.246500</td>\n",
       "      <td>6.915873</td>\n",
       "      <td>4.391698</td>\n",
       "      <td>-1.840259</td>\n",
       "      <td>1.081519</td>\n",
       "      <td>-21.392490</td>\n",
       "      <td>2</td>\n",
       "      <td>476</td>\n",
       "      <td>1</td>\n",
       "    </tr>\n",
       "    <tr>\n",
       "      <th>114</th>\n",
       "      <td>140.842292</td>\n",
       "      <td>37882.631055</td>\n",
       "      <td>122.304539</td>\n",
       "      <td>0.536539</td>\n",
       "      <td>31.476681</td>\n",
       "      <td>0.410931</td>\n",
       "      <td>0.268371</td>\n",
       "      <td>55.414076</td>\n",
       "      <td>0.257363</td>\n",
       "      <td>10166.605154</td>\n",
       "      <td>50.258695</td>\n",
       "      <td>1314.168213</td>\n",
       "      <td>6.139435</td>\n",
       "      <td>0.079804</td>\n",
       "      <td>92.073680</td>\n",
       "      <td>0.057772</td>\n",
       "      <td>22.688745</td>\n",
       "      <td>138177.666118</td>\n",
       "      <td>4.208374</td>\n",
       "      <td>-263.358441</td>\n",
       "      <td>0.189924</td>\n",
       "      <td>0.998494</td>\n",
       "      <td>0.488903</td>\n",
       "      <td>0.617274</td>\n",
       "      <td>0.536817</td>\n",
       "      <td>1322.711891</td>\n",
       "      <td>0.663104</td>\n",
       "      <td>0.550854</td>\n",
       "      <td>-0.096270</td>\n",
       "      <td>32.0</td>\n",
       "      <td>-5.944943</td>\n",
       "      <td>0.271297</td>\n",
       "      <td>51.0</td>\n",
       "      <td>71688249.0</td>\n",
       "      <td>289.0</td>\n",
       "      <td>73.241251</td>\n",
       "      <td>79.0</td>\n",
       "      <td>-840.0</td>\n",
       "      <td>2.353608</td>\n",
       "      <td>1129.0</td>\n",
       "      <td>...</td>\n",
       "      <td>0.433083</td>\n",
       "      <td>1108.391039</td>\n",
       "      <td>5.877434</td>\n",
       "      <td>0.000509</td>\n",
       "      <td>935.377309</td>\n",
       "      <td>2.748755</td>\n",
       "      <td>0.004952</td>\n",
       "      <td>0.675343</td>\n",
       "      <td>10.542248</td>\n",
       "      <td>1.780217</td>\n",
       "      <td>6.649071</td>\n",
       "      <td>8.195780</td>\n",
       "      <td>-4.637512</td>\n",
       "      <td>-17.504259</td>\n",
       "      <td>-176.512226</td>\n",
       "      <td>-1.793676</td>\n",
       "      <td>0.854047</td>\n",
       "      <td>1.367322</td>\n",
       "      <td>18.102962</td>\n",
       "      <td>0.010631</td>\n",
       "      <td>1.889485</td>\n",
       "      <td>18.087837</td>\n",
       "      <td>3.973346</td>\n",
       "      <td>4.293759</td>\n",
       "      <td>2.089072</td>\n",
       "      <td>-0.154296</td>\n",
       "      <td>7.682089</td>\n",
       "      <td>8.567897</td>\n",
       "      <td>-97.854813</td>\n",
       "      <td>5.582972</td>\n",
       "      <td>20.193383</td>\n",
       "      <td>-2.348856</td>\n",
       "      <td>6.052765</td>\n",
       "      <td>4.540735</td>\n",
       "      <td>-2.610728</td>\n",
       "      <td>3.434433</td>\n",
       "      <td>-22.389927</td>\n",
       "      <td>1</td>\n",
       "      <td>280</td>\n",
       "      <td>1</td>\n",
       "    </tr>\n",
       "  </tbody>\n",
       "</table>\n",
       "<p>5 rows × 90 columns</p>\n",
       "</div>"
      ],
      "text/plain": [
       "     shape_Maximum3DDiameter_0  ...  Deadstatus.event\n",
       "29                   79.548648  ...                 1\n",
       "140                 149.873782  ...                 0\n",
       "392                  91.831399  ...                 1\n",
       "118                 100.280902  ...                 1\n",
       "114                 140.842292  ...                 1\n",
       "\n",
       "[5 rows x 90 columns]"
      ]
     },
     "execution_count": 31,
     "metadata": {
      "tags": []
     },
     "output_type": "execute_result"
    }
   ],
   "source": [
    "mask_1yrlong = (X_long['Deadstatus.event'] == 1) | (X_long['Survival.time'] > 365)\n",
    "X_long.head()"
   ]
  },
  {
   "cell_type": "code",
   "execution_count": 32,
   "metadata": {
    "colab": {
     "base_uri": "https://localhost:8080/",
     "height": 34
    },
    "colab_type": "code",
    "id": "FHxd0_m_r8Nn",
    "outputId": "afaa93db-9b19-4b71-e1ee-16006aef0117"
   },
   "outputs": [
    {
     "data": {
      "text/plain": [
       "(292, 90)"
      ]
     },
     "execution_count": 32,
     "metadata": {
      "tags": []
     },
     "output_type": "execute_result"
    }
   ],
   "source": [
    "X_long_1yr = X_long[mask_1yrlong]\n",
    "X_long_1yr.shape"
   ]
  },
  {
   "cell_type": "code",
   "execution_count": null,
   "metadata": {
    "colab": {},
    "colab_type": "code",
    "id": "2UFIwWkfskl_"
   },
   "outputs": [],
   "source": [
    "X_dumcl_1yr = pd.get_dummies(X_long_1yr, columns=['Cluster'], drop_first=True)"
   ]
  },
  {
   "cell_type": "code",
   "execution_count": null,
   "metadata": {
    "colab": {},
    "colab_type": "code",
    "id": "oquTx3e_t3ZT"
   },
   "outputs": [],
   "source": [
    "Xcl_train = X_dumcl_1yr.drop(columns=['Survival.time', 'Deadstatus.event'])\n",
    "ycl_train = (X_dumcl_1yr['Survival.time'] > 365).astype(int)"
   ]
  },
  {
   "cell_type": "code",
   "execution_count": null,
   "metadata": {
    "colab": {},
    "colab_type": "code",
    "id": "A38BPFo6uQ9T"
   },
   "outputs": [],
   "source": [
    "estimators = [('scale', StandardScaler()),\n",
    "              ('PCA', PCA()),\n",
    "              ('model', DecisionTreeClassifier())]\n",
    "\n",
    "pipe = Pipeline(estimators)\n",
    "\n",
    "param_grid = [{'PCA': [PCA()],\n",
    "               'PCA__n_components': [x for x in range(5,num_feat,5)],\n",
    "               'model': [DecisionTreeClassifier()],\n",
    "               'model__max_depth': [i for i in range(1,11)],\n",
    "               'model__min_samples_leaf': [i for i in range(1,6)]}]\n",
    "\n",
    "grid = GridSearchCV(pipe, param_grid, cv=5)\n",
    "fittedgrid_cl = grid.fit(Xcl_train, ycl_train)"
   ]
  },
  {
   "cell_type": "code",
   "execution_count": 48,
   "metadata": {
    "colab": {
     "base_uri": "https://localhost:8080/",
     "height": 34
    },
    "colab_type": "code",
    "id": "vkOuGgHEwB-a",
    "outputId": "d45708d2-bb02-4390-8fc5-703ed151c97d"
   },
   "outputs": [
    {
     "data": {
      "text/plain": [
       "['dt_cluster_1yr.pkl']"
      ]
     },
     "execution_count": 48,
     "metadata": {
      "tags": []
     },
     "output_type": "execute_result"
    }
   ],
   "source": [
    "joblib.dump(fittedgrid_cl, 'dt_cluster_1yr.pkl')"
   ]
  },
  {
   "cell_type": "code",
   "execution_count": 49,
   "metadata": {
    "colab": {
     "base_uri": "https://localhost:8080/",
     "height": 34
    },
    "colab_type": "code",
    "id": "Tss77YfxugWq",
    "outputId": "f24a70d7-96e2-441f-8edb-943ca1b0bc73"
   },
   "outputs": [
    {
     "data": {
      "text/plain": [
       "0.7157534246575342"
      ]
     },
     "execution_count": 49,
     "metadata": {
      "tags": []
     },
     "output_type": "execute_result"
    }
   ],
   "source": [
    "fittedgrid_cl.score(Xcl_train, ycl_train)"
   ]
  },
  {
   "cell_type": "code",
   "execution_count": 50,
   "metadata": {
    "colab": {
     "base_uri": "https://localhost:8080/",
     "height": 253
    },
    "colab_type": "code",
    "id": "sswXTrJJusZ7",
    "outputId": "502a4dab-a98e-44fd-8002-d7212138df95"
   },
   "outputs": [
    {
     "data": {
      "text/html": [
       "<div>\n",
       "<style scoped>\n",
       "    .dataframe tbody tr th:only-of-type {\n",
       "        vertical-align: middle;\n",
       "    }\n",
       "\n",
       "    .dataframe tbody tr th {\n",
       "        vertical-align: top;\n",
       "    }\n",
       "\n",
       "    .dataframe thead th {\n",
       "        text-align: right;\n",
       "    }\n",
       "</style>\n",
       "<table border=\"1\" class=\"dataframe\">\n",
       "  <thead>\n",
       "    <tr style=\"text-align: right;\">\n",
       "      <th></th>\n",
       "      <th>shape_Maximum3DDiameter_0</th>\n",
       "      <th>shape_MeshVolume_0</th>\n",
       "      <th>shape_MajorAxisLength_0</th>\n",
       "      <th>shape_Sphericity_0</th>\n",
       "      <th>shape_LeastAxisLength_0</th>\n",
       "      <th>shape_Elongation_0</th>\n",
       "      <th>shape_SurfaceVolumeRatio_0</th>\n",
       "      <th>shape_Maximum2DDiameterSlice_0</th>\n",
       "      <th>shape_Flatness_0</th>\n",
       "      <th>shape_SurfaceArea_0</th>\n",
       "      <th>shape_MinorAxisLength_0</th>\n",
       "      <th>gldm_HighGrayLevelEmphasis_0</th>\n",
       "      <th>gldm_DependenceEntropy_0</th>\n",
       "      <th>gldm_SmallDependenceEmphasis_0</th>\n",
       "      <th>gldm_SmallDependenceHighGrayLevelEmphasis_0</th>\n",
       "      <th>gldm_DependenceNonUniformityNormalized_0</th>\n",
       "      <th>gldm_DependenceVariance_0</th>\n",
       "      <th>gldm_LargeDependenceHighGrayLevelEmphasis_0</th>\n",
       "      <th>glcm_JointEntropy_0</th>\n",
       "      <th>glcm_ClusterShade_0</th>\n",
       "      <th>glcm_MaximumProbability_0</th>\n",
       "      <th>glcm_Idmn_0</th>\n",
       "      <th>glcm_InverseVariance_0</th>\n",
       "      <th>glcm_Idm_0</th>\n",
       "      <th>glcm_Correlation_0</th>\n",
       "      <th>glcm_Autocorrelation_0</th>\n",
       "      <th>glcm_MCC_0</th>\n",
       "      <th>glcm_Imc2_0</th>\n",
       "      <th>glcm_Imc1_0</th>\n",
       "      <th>firstorder_InterquartileRange_0</th>\n",
       "      <th>firstorder_Skewness_0</th>\n",
       "      <th>firstorder_Uniformity_0</th>\n",
       "      <th>firstorder_Median_0</th>\n",
       "      <th>firstorder_Energy_0</th>\n",
       "      <th>firstorder_Maximum_0</th>\n",
       "      <th>firstorder_RootMeanSquared_0</th>\n",
       "      <th>firstorder_90Percentile_0</th>\n",
       "      <th>firstorder_Minimum_0</th>\n",
       "      <th>firstorder_Entropy_0</th>\n",
       "      <th>firstorder_Range_0</th>\n",
       "      <th>...</th>\n",
       "      <th>glszm_SizeZoneNonUniformityNormalized_0</th>\n",
       "      <th>glszm_HighGrayLevelZoneEmphasis_0</th>\n",
       "      <th>glszm_ZoneEntropy_0</th>\n",
       "      <th>ngtdm_Coarseness_0</th>\n",
       "      <th>ngtdm_Complexity_0</th>\n",
       "      <th>ngtdm_Strength_0</th>\n",
       "      <th>ngtdm_Contrast_0</th>\n",
       "      <th>ngtdm_Busyness_0</th>\n",
       "      <th>log_shape_MeshVolume_0</th>\n",
       "      <th>log_gldm_GrayLevelVariance_0</th>\n",
       "      <th>log_gldm_DependenceNonUniformity_0</th>\n",
       "      <th>log_gldm_GrayLevelNonUniformity_0</th>\n",
       "      <th>bc_gldm_LargeDependenceLowGrayLevelEmphasis_0</th>\n",
       "      <th>bc_gldm_SmallDependenceLowGrayLevelEmphasis_0</th>\n",
       "      <th>bc_gldm_LowGrayLevelEmphasis_0</th>\n",
       "      <th>bc_glcm_JointEnergy_0</th>\n",
       "      <th>log_glcm_DifferenceVariance_0</th>\n",
       "      <th>log_glcm_SumSquares_0</th>\n",
       "      <th>bc_glcm_ClusterProminence_0</th>\n",
       "      <th>bc_glcm_DifferenceAverage_0</th>\n",
       "      <th>bc_firstorder_InterquartileRange_0</th>\n",
       "      <th>log_firstorder_Energy_0</th>\n",
       "      <th>log_firstorder_Kurtosis_0</th>\n",
       "      <th>log_firstorder_RootMeanSquared_0</th>\n",
       "      <th>log_glrlm_GrayLevelVariance_0</th>\n",
       "      <th>log_glrlm_RunVariance_0</th>\n",
       "      <th>log_glrlm_GrayLevelNonUniformity_0</th>\n",
       "      <th>log_glrlm_RunLengthNonUniformity_0</th>\n",
       "      <th>bc_glrlm_LongRunLowGrayLevelEmphasis_0</th>\n",
       "      <th>log_glszm_GrayLevelVariance_0</th>\n",
       "      <th>bc_glszm_ZoneVariance_0</th>\n",
       "      <th>log_glszm_GrayLevelNonUniformityNormalized_0</th>\n",
       "      <th>log_glszm_SizeZoneNonUniformity_0</th>\n",
       "      <th>log_glszm_GrayLevelNonUniformity_0</th>\n",
       "      <th>log_glszm_ZonePercentage_0</th>\n",
       "      <th>log_glszm_LargeAreaLowGrayLevelEmphasis_0</th>\n",
       "      <th>bc_glszm_LowGrayLevelZoneEmphasis_0</th>\n",
       "      <th>Cluster</th>\n",
       "      <th>Survival.time</th>\n",
       "      <th>Deadstatus.event</th>\n",
       "    </tr>\n",
       "  </thead>\n",
       "  <tbody>\n",
       "    <tr>\n",
       "      <th>145</th>\n",
       "      <td>163.450051</td>\n",
       "      <td>134594.321251</td>\n",
       "      <td>158.863703</td>\n",
       "      <td>0.539559</td>\n",
       "      <td>43.716117</td>\n",
       "      <td>0.387515</td>\n",
       "      <td>0.174892</td>\n",
       "      <td>81.588276</td>\n",
       "      <td>0.275180</td>\n",
       "      <td>23539.430388</td>\n",
       "      <td>61.562019</td>\n",
       "      <td>1639.993089</td>\n",
       "      <td>6.817623</td>\n",
       "      <td>0.171431</td>\n",
       "      <td>212.497975</td>\n",
       "      <td>0.079052</td>\n",
       "      <td>15.637072</td>\n",
       "      <td>96309.467958</td>\n",
       "      <td>6.456124</td>\n",
       "      <td>-3800.871364</td>\n",
       "      <td>0.081953</td>\n",
       "      <td>0.995280</td>\n",
       "      <td>0.408254</td>\n",
       "      <td>0.444673</td>\n",
       "      <td>0.634537</td>\n",
       "      <td>1659.963784</td>\n",
       "      <td>0.682937</td>\n",
       "      <td>0.698747</td>\n",
       "      <td>-0.110203</td>\n",
       "      <td>66.00</td>\n",
       "      <td>-2.956787</td>\n",
       "      <td>0.142184</td>\n",
       "      <td>14.0</td>\n",
       "      <td>1.308082e+09</td>\n",
       "      <td>679.0</td>\n",
       "      <td>166.521656</td>\n",
       "      <td>58.0</td>\n",
       "      <td>-1022.0</td>\n",
       "      <td>3.584753</td>\n",
       "      <td>1701.0</td>\n",
       "      <td>...</td>\n",
       "      <td>0.475234</td>\n",
       "      <td>1180.568497</td>\n",
       "      <td>6.767951</td>\n",
       "      <td>0.000152</td>\n",
       "      <td>3012.740488</td>\n",
       "      <td>0.591359</td>\n",
       "      <td>0.048964</td>\n",
       "      <td>1.675800</td>\n",
       "      <td>11.810021</td>\n",
       "      <td>3.738969</td>\n",
       "      <td>8.223930</td>\n",
       "      <td>8.810944</td>\n",
       "      <td>-6.699069</td>\n",
       "      <td>-13.893562</td>\n",
       "      <td>-114.475586</td>\n",
       "      <td>-2.316529</td>\n",
       "      <td>2.843590</td>\n",
       "      <td>3.534794</td>\n",
       "      <td>31.068941</td>\n",
       "      <td>0.890389</td>\n",
       "      <td>2.050075</td>\n",
       "      <td>20.991828</td>\n",
       "      <td>2.542719</td>\n",
       "      <td>5.115125</td>\n",
       "      <td>3.898488</td>\n",
       "      <td>-0.947990</td>\n",
       "      <td>8.419228</td>\n",
       "      <td>10.173980</td>\n",
       "      <td>-89.407084</td>\n",
       "      <td>7.655951</td>\n",
       "      <td>18.184908</td>\n",
       "      <td>-3.329839</td>\n",
       "      <td>8.278255</td>\n",
       "      <td>5.692363</td>\n",
       "      <td>-1.739375</td>\n",
       "      <td>2.494284</td>\n",
       "      <td>-19.380999</td>\n",
       "      <td>2</td>\n",
       "      <td>71</td>\n",
       "      <td>1</td>\n",
       "    </tr>\n",
       "    <tr>\n",
       "      <th>334</th>\n",
       "      <td>97.875165</td>\n",
       "      <td>40194.869041</td>\n",
       "      <td>81.826372</td>\n",
       "      <td>0.385875</td>\n",
       "      <td>29.688139</td>\n",
       "      <td>0.745330</td>\n",
       "      <td>0.365859</td>\n",
       "      <td>84.307382</td>\n",
       "      <td>0.362819</td>\n",
       "      <td>14705.649928</td>\n",
       "      <td>60.987659</td>\n",
       "      <td>1688.297130</td>\n",
       "      <td>6.785438</td>\n",
       "      <td>0.183945</td>\n",
       "      <td>239.712220</td>\n",
       "      <td>0.076476</td>\n",
       "      <td>18.472881</td>\n",
       "      <td>109190.437311</td>\n",
       "      <td>6.157343</td>\n",
       "      <td>-2764.937824</td>\n",
       "      <td>0.106531</td>\n",
       "      <td>0.991992</td>\n",
       "      <td>0.412086</td>\n",
       "      <td>0.479048</td>\n",
       "      <td>0.587804</td>\n",
       "      <td>1707.239434</td>\n",
       "      <td>0.616989</td>\n",
       "      <td>0.695929</td>\n",
       "      <td>-0.114296</td>\n",
       "      <td>62.00</td>\n",
       "      <td>-3.233198</td>\n",
       "      <td>0.150706</td>\n",
       "      <td>22.0</td>\n",
       "      <td>2.667291e+08</td>\n",
       "      <td>196.0</td>\n",
       "      <td>136.798716</td>\n",
       "      <td>65.0</td>\n",
       "      <td>-1020.0</td>\n",
       "      <td>3.439406</td>\n",
       "      <td>1216.0</td>\n",
       "      <td>...</td>\n",
       "      <td>0.523078</td>\n",
       "      <td>1266.775352</td>\n",
       "      <td>6.235589</td>\n",
       "      <td>0.000490</td>\n",
       "      <td>2222.688203</td>\n",
       "      <td>1.959175</td>\n",
       "      <td>0.041932</td>\n",
       "      <td>0.599987</td>\n",
       "      <td>10.601495</td>\n",
       "      <td>3.383214</td>\n",
       "      <td>6.993945</td>\n",
       "      <td>7.672301</td>\n",
       "      <td>-6.668600</td>\n",
       "      <td>-15.657554</td>\n",
       "      <td>-132.131223</td>\n",
       "      <td>-2.251363</td>\n",
       "      <td>2.749171</td>\n",
       "      <td>3.273568</td>\n",
       "      <td>29.583652</td>\n",
       "      <td>0.829196</td>\n",
       "      <td>2.037942</td>\n",
       "      <td>19.401744</td>\n",
       "      <td>2.767680</td>\n",
       "      <td>4.918511</td>\n",
       "      <td>3.553554</td>\n",
       "      <td>-0.824731</td>\n",
       "      <td>7.270103</td>\n",
       "      <td>8.952239</td>\n",
       "      <td>-100.127714</td>\n",
       "      <td>6.560380</td>\n",
       "      <td>14.208110</td>\n",
       "      <td>-3.066377</td>\n",
       "      <td>7.253723</td>\n",
       "      <td>4.835371</td>\n",
       "      <td>-1.662975</td>\n",
       "      <td>1.048778</td>\n",
       "      <td>-24.174173</td>\n",
       "      <td>2</td>\n",
       "      <td>3208</td>\n",
       "      <td>0</td>\n",
       "    </tr>\n",
       "    <tr>\n",
       "      <th>175</th>\n",
       "      <td>33.137314</td>\n",
       "      <td>1695.394516</td>\n",
       "      <td>27.959505</td>\n",
       "      <td>0.624267</td>\n",
       "      <td>8.071039</td>\n",
       "      <td>0.462708</td>\n",
       "      <td>0.649666</td>\n",
       "      <td>20.692988</td>\n",
       "      <td>0.288669</td>\n",
       "      <td>1101.439754</td>\n",
       "      <td>12.937098</td>\n",
       "      <td>857.290164</td>\n",
       "      <td>6.524652</td>\n",
       "      <td>0.518261</td>\n",
       "      <td>332.423946</td>\n",
       "      <td>0.272137</td>\n",
       "      <td>5.900124</td>\n",
       "      <td>17131.791803</td>\n",
       "      <td>7.986922</td>\n",
       "      <td>-4183.528750</td>\n",
       "      <td>0.043261</td>\n",
       "      <td>0.945743</td>\n",
       "      <td>0.195544</td>\n",
       "      <td>0.204538</td>\n",
       "      <td>0.363264</td>\n",
       "      <td>933.936629</td>\n",
       "      <td>0.595300</td>\n",
       "      <td>0.947676</td>\n",
       "      <td>-0.254882</td>\n",
       "      <td>430.25</td>\n",
       "      <td>-0.782544</td>\n",
       "      <td>0.045257</td>\n",
       "      <td>-128.5</td>\n",
       "      <td>6.987985e+07</td>\n",
       "      <td>145.0</td>\n",
       "      <td>338.462885</td>\n",
       "      <td>68.0</td>\n",
       "      <td>-870.0</td>\n",
       "      <td>4.908640</td>\n",
       "      <td>1015.0</td>\n",
       "      <td>...</td>\n",
       "      <td>0.605227</td>\n",
       "      <td>644.528409</td>\n",
       "      <td>5.988623</td>\n",
       "      <td>0.008429</td>\n",
       "      <td>3571.564993</td>\n",
       "      <td>7.475651</td>\n",
       "      <td>0.741762</td>\n",
       "      <td>0.089079</td>\n",
       "      <td>7.435671</td>\n",
       "      <td>4.745283</td>\n",
       "      <td>5.112008</td>\n",
       "      <td>3.318053</td>\n",
       "      <td>-7.820282</td>\n",
       "      <td>-7.189896</td>\n",
       "      <td>-31.708549</td>\n",
       "      <td>-2.856683</td>\n",
       "      <td>3.890283</td>\n",
       "      <td>4.510347</td>\n",
       "      <td>31.997239</td>\n",
       "      <td>1.770909</td>\n",
       "      <td>2.304080</td>\n",
       "      <td>18.062288</td>\n",
       "      <td>0.908341</td>\n",
       "      <td>5.824414</td>\n",
       "      <td>4.745519</td>\n",
       "      <td>-2.429101</td>\n",
       "      <td>3.132554</td>\n",
       "      <td>6.231336</td>\n",
       "      <td>-31.722651</td>\n",
       "      <td>7.756244</td>\n",
       "      <td>3.638045</td>\n",
       "      <td>-3.503099</td>\n",
       "      <td>5.361479</td>\n",
       "      <td>2.360532</td>\n",
       "      <td>-0.549828</td>\n",
       "      <td>-3.196496</td>\n",
       "      <td>-10.318390</td>\n",
       "      <td>0</td>\n",
       "      <td>635</td>\n",
       "      <td>1</td>\n",
       "    </tr>\n",
       "    <tr>\n",
       "      <th>369</th>\n",
       "      <td>200.280848</td>\n",
       "      <td>16498.446465</td>\n",
       "      <td>214.146024</td>\n",
       "      <td>0.286279</td>\n",
       "      <td>30.950661</td>\n",
       "      <td>0.657381</td>\n",
       "      <td>0.663560</td>\n",
       "      <td>158.145847</td>\n",
       "      <td>0.144531</td>\n",
       "      <td>10947.703802</td>\n",
       "      <td>140.775579</td>\n",
       "      <td>1450.453057</td>\n",
       "      <td>7.010902</td>\n",
       "      <td>0.228176</td>\n",
       "      <td>212.605347</td>\n",
       "      <td>0.082562</td>\n",
       "      <td>27.616522</td>\n",
       "      <td>120833.988306</td>\n",
       "      <td>6.250093</td>\n",
       "      <td>-7912.019984</td>\n",
       "      <td>0.163396</td>\n",
       "      <td>0.991727</td>\n",
       "      <td>0.367928</td>\n",
       "      <td>0.509815</td>\n",
       "      <td>0.795493</td>\n",
       "      <td>1487.285947</td>\n",
       "      <td>0.850249</td>\n",
       "      <td>0.894136</td>\n",
       "      <td>-0.237516</td>\n",
       "      <td>119.00</td>\n",
       "      <td>-1.953941</td>\n",
       "      <td>0.145894</td>\n",
       "      <td>14.0</td>\n",
       "      <td>3.404470e+08</td>\n",
       "      <td>344.0</td>\n",
       "      <td>238.482440</td>\n",
       "      <td>51.0</td>\n",
       "      <td>-989.0</td>\n",
       "      <td>3.774342</td>\n",
       "      <td>1333.0</td>\n",
       "      <td>...</td>\n",
       "      <td>0.503712</td>\n",
       "      <td>921.789509</td>\n",
       "      <td>6.679233</td>\n",
       "      <td>0.001620</td>\n",
       "      <td>2268.319333</td>\n",
       "      <td>3.886946</td>\n",
       "      <td>0.111600</td>\n",
       "      <td>0.193096</td>\n",
       "      <td>9.711022</td>\n",
       "      <td>4.368248</td>\n",
       "      <td>6.202976</td>\n",
       "      <td>6.772304</td>\n",
       "      <td>-6.123577</td>\n",
       "      <td>-11.462570</td>\n",
       "      <td>-92.305867</td>\n",
       "      <td>-2.097289</td>\n",
       "      <td>2.936623</td>\n",
       "      <td>4.184026</td>\n",
       "      <td>35.335877</td>\n",
       "      <td>0.915872</td>\n",
       "      <td>2.150894</td>\n",
       "      <td>19.645770</td>\n",
       "      <td>1.780224</td>\n",
       "      <td>5.474296</td>\n",
       "      <td>4.509812</td>\n",
       "      <td>-0.607489</td>\n",
       "      <td>6.263159</td>\n",
       "      <td>8.100449</td>\n",
       "      <td>-74.213011</td>\n",
       "      <td>7.932546</td>\n",
       "      <td>10.217976</td>\n",
       "      <td>-3.506956</td>\n",
       "      <td>6.631461</td>\n",
       "      <td>3.810256</td>\n",
       "      <td>-1.379966</td>\n",
       "      <td>-0.576761</td>\n",
       "      <td>-15.936415</td>\n",
       "      <td>2</td>\n",
       "      <td>715</td>\n",
       "      <td>1</td>\n",
       "    </tr>\n",
       "    <tr>\n",
       "      <th>416</th>\n",
       "      <td>143.901397</td>\n",
       "      <td>178103.685379</td>\n",
       "      <td>111.734223</td>\n",
       "      <td>0.410911</td>\n",
       "      <td>67.729340</td>\n",
       "      <td>0.667520</td>\n",
       "      <td>0.209176</td>\n",
       "      <td>127.675977</td>\n",
       "      <td>0.606165</td>\n",
       "      <td>37255.045017</td>\n",
       "      <td>74.584858</td>\n",
       "      <td>1688.859396</td>\n",
       "      <td>6.925141</td>\n",
       "      <td>0.119562</td>\n",
       "      <td>151.175322</td>\n",
       "      <td>0.053825</td>\n",
       "      <td>31.735008</td>\n",
       "      <td>199040.368440</td>\n",
       "      <td>5.520811</td>\n",
       "      <td>-1585.581791</td>\n",
       "      <td>0.137656</td>\n",
       "      <td>0.995586</td>\n",
       "      <td>0.418081</td>\n",
       "      <td>0.563452</td>\n",
       "      <td>0.596586</td>\n",
       "      <td>1707.923009</td>\n",
       "      <td>0.624796</td>\n",
       "      <td>0.697880</td>\n",
       "      <td>-0.139685</td>\n",
       "      <td>47.00</td>\n",
       "      <td>-3.530292</td>\n",
       "      <td>0.187207</td>\n",
       "      <td>16.0</td>\n",
       "      <td>8.848630e+08</td>\n",
       "      <td>279.0</td>\n",
       "      <td>118.964701</td>\n",
       "      <td>51.0</td>\n",
       "      <td>-1010.0</td>\n",
       "      <td>3.146104</td>\n",
       "      <td>1289.0</td>\n",
       "      <td>...</td>\n",
       "      <td>0.453557</td>\n",
       "      <td>1212.180181</td>\n",
       "      <td>6.609473</td>\n",
       "      <td>0.000120</td>\n",
       "      <td>1959.804638</td>\n",
       "      <td>0.574035</td>\n",
       "      <td>0.021322</td>\n",
       "      <td>2.186622</td>\n",
       "      <td>12.090121</td>\n",
       "      <td>3.101810</td>\n",
       "      <td>8.121278</td>\n",
       "      <td>9.367750</td>\n",
       "      <td>-5.238139</td>\n",
       "      <td>-17.928088</td>\n",
       "      <td>-190.737082</td>\n",
       "      <td>-2.025772</td>\n",
       "      <td>2.310003</td>\n",
       "      <td>2.856799</td>\n",
       "      <td>26.085618</td>\n",
       "      <td>0.555870</td>\n",
       "      <td>1.980442</td>\n",
       "      <td>20.600943</td>\n",
       "      <td>2.893118</td>\n",
       "      <td>4.778827</td>\n",
       "      <td>3.383706</td>\n",
       "      <td>-0.011933</td>\n",
       "      <td>8.757726</td>\n",
       "      <td>10.153379</td>\n",
       "      <td>-107.968447</td>\n",
       "      <td>6.623163</td>\n",
       "      <td>21.640693</td>\n",
       "      <td>-3.136476</td>\n",
       "      <td>8.160935</td>\n",
       "      <td>5.815094</td>\n",
       "      <td>-2.091720</td>\n",
       "      <td>3.572813</td>\n",
       "      <td>-27.286744</td>\n",
       "      <td>1</td>\n",
       "      <td>2772</td>\n",
       "      <td>0</td>\n",
       "    </tr>\n",
       "  </tbody>\n",
       "</table>\n",
       "<p>5 rows × 90 columns</p>\n",
       "</div>"
      ],
      "text/plain": [
       "     shape_Maximum3DDiameter_0  ...  Deadstatus.event\n",
       "145                 163.450051  ...                 1\n",
       "334                  97.875165  ...                 0\n",
       "175                  33.137314  ...                 1\n",
       "369                 200.280848  ...                 1\n",
       "416                 143.901397  ...                 0\n",
       "\n",
       "[5 rows x 90 columns]"
      ]
     },
     "execution_count": 50,
     "metadata": {
      "tags": []
     },
     "output_type": "execute_result"
    }
   ],
   "source": [
    "X_test_long_1yr = X_test_long[(X_test_long['Deadstatus.event'] == 1) | \n",
    "                              (X_test_long['Survival.time'] > 365)]\n",
    "X_test_long_1yr.head()"
   ]
  },
  {
   "cell_type": "code",
   "execution_count": null,
   "metadata": {
    "colab": {},
    "colab_type": "code",
    "id": "AcRIwXNHbx1V"
   },
   "outputs": [],
   "source": [
    "X_test_dumcl_1yr = pd.get_dummies(X_test_long_1yr, columns=['Cluster'], drop_first=True)"
   ]
  },
  {
   "cell_type": "code",
   "execution_count": null,
   "metadata": {
    "colab": {},
    "colab_type": "code",
    "id": "sQqUM7whcpQp"
   },
   "outputs": [],
   "source": [
    "Xcl_test = X_test_dumcl_1yr.drop(columns=['Survival.time', 'Deadstatus.event'])\n",
    "ycl_test = (X_test_dumcl_1yr['Survival.time'] > 365)"
   ]
  },
  {
   "cell_type": "code",
   "execution_count": 53,
   "metadata": {
    "colab": {
     "base_uri": "https://localhost:8080/",
     "height": 34
    },
    "colab_type": "code",
    "id": "6-bxNQ66cyDI",
    "outputId": "a6cb3904-56eb-4a4f-bb5f-e878488b1f18"
   },
   "outputs": [
    {
     "data": {
      "text/plain": [
       "0.626984126984127"
      ]
     },
     "execution_count": 53,
     "metadata": {
      "tags": []
     },
     "output_type": "execute_result"
    }
   ],
   "source": [
    "fittedgrid_cl.score(Xcl_test, ycl_test)"
   ]
  },
  {
   "cell_type": "markdown",
   "metadata": {
    "colab_type": "text",
    "id": "2Wh_TlERc4Ag"
   },
   "source": [
    "The test accuracy for the 1-year classification model is 62.70% - no improvement is seen."
   ]
  },
  {
   "cell_type": "markdown",
   "metadata": {
    "colab_type": "text",
    "id": "ik9CYydQuwse"
   },
   "source": [
    "Perhaps it is because the median survival times for all the clusters are all above 1 year, so the cluster can only be marginally useful, if at all."
   ]
  },
  {
   "cell_type": "markdown",
   "metadata": {
    "colab_type": "text",
    "id": "B6rxBa5Cu_S8"
   },
   "source": [
    "To verify this claim, I will also repeat it for a model for 3-year survival."
   ]
  },
  {
   "cell_type": "markdown",
   "metadata": {
    "colab_type": "text",
    "id": "FlGNFT2nvJa6"
   },
   "source": [
    "#### 3-year analysis"
   ]
  },
  {
   "cell_type": "code",
   "execution_count": null,
   "metadata": {
    "colab": {},
    "colab_type": "code",
    "id": "IrKc1rp4c1PA"
   },
   "outputs": [],
   "source": [
    "X_long_3yr = X_long[(X_long['Survival.time']>3*365)|\n",
    "                    (X_long['Deadstatus.event']==1)]\n",
    "X_dumcl_3yr = pd.get_dummies(X_long_3yr, columns=['Cluster'], drop_first=True)"
   ]
  },
  {
   "cell_type": "code",
   "execution_count": null,
   "metadata": {
    "colab": {},
    "colab_type": "code",
    "id": "XoD1eLglvhtB"
   },
   "outputs": [],
   "source": [
    "Xcl_3y_train = X_dumcl_3yr.drop(columns=['Survival.time', 'Deadstatus.event'])\n",
    "ycl_3y_train = (X_dumcl_3yr['Survival.time'] > 3*365).astype(int)"
   ]
  },
  {
   "cell_type": "code",
   "execution_count": null,
   "metadata": {
    "colab": {},
    "colab_type": "code",
    "id": "98rUHRvDvwSd"
   },
   "outputs": [],
   "source": [
    "estimators = [('scale', StandardScaler()),\n",
    "              ('PCA', PCA()),\n",
    "              ('model', DecisionTreeClassifier())]\n",
    "\n",
    "pipe = Pipeline(estimators)\n",
    "\n",
    "param_grid = [{'PCA': [PCA()],\n",
    "               'PCA__n_components': [x for x in range(5,num_feat,5)],\n",
    "               'model': [DecisionTreeClassifier()],\n",
    "               'model__max_depth': [i for i in range(1,11)],\n",
    "               'model__min_samples_leaf': [i for i in range(1,6)]}]\n",
    "\n",
    "grid = GridSearchCV(pipe, param_grid, cv=5)\n",
    "fittedgrid_cl = grid.fit(Xcl_3y_train, ycl_3y_train)"
   ]
  },
  {
   "cell_type": "code",
   "execution_count": 57,
   "metadata": {
    "colab": {
     "base_uri": "https://localhost:8080/",
     "height": 34
    },
    "colab_type": "code",
    "id": "Rgc_QkHBwVDW",
    "outputId": "fc7a3631-6f85-4696-c29a-6a46baa092ff"
   },
   "outputs": [
    {
     "data": {
      "text/plain": [
       "['dt_cluster_3yr.pkl']"
      ]
     },
     "execution_count": 57,
     "metadata": {
      "tags": []
     },
     "output_type": "execute_result"
    }
   ],
   "source": [
    "joblib.dump(fittedgrid_cl, 'dt_cluster_3yr.pkl')"
   ]
  },
  {
   "cell_type": "code",
   "execution_count": 58,
   "metadata": {
    "colab": {
     "base_uri": "https://localhost:8080/",
     "height": 34
    },
    "colab_type": "code",
    "id": "bYRfqd7iwZPP",
    "outputId": "6050eb2a-e95b-4e15-cb08-6a22034f205e"
   },
   "outputs": [
    {
     "data": {
      "text/plain": [
       "0.8321917808219178"
      ]
     },
     "execution_count": 58,
     "metadata": {
      "tags": []
     },
     "output_type": "execute_result"
    }
   ],
   "source": [
    "fittedgrid_cl.score(Xcl_3y_train, ycl_3y_train)"
   ]
  },
  {
   "cell_type": "markdown",
   "metadata": {
    "colab_type": "text",
    "id": "srTVaZpUwOPN"
   },
   "source": [
    "Now score it with the test data:"
   ]
  },
  {
   "cell_type": "code",
   "execution_count": null,
   "metadata": {
    "colab": {},
    "colab_type": "code",
    "id": "Em8BlRzAvzSy"
   },
   "outputs": [],
   "source": [
    "X_test_long_3yr = X_test_long[(X_test_long['Deadstatus.event'] == 1) | \n",
    "                              (X_test_long['Survival.time'] > 3*365)]"
   ]
  },
  {
   "cell_type": "code",
   "execution_count": null,
   "metadata": {
    "colab": {},
    "colab_type": "code",
    "id": "VbqcWTNvwmjF"
   },
   "outputs": [],
   "source": [
    "X_test_dumcl_3yr = pd.get_dummies(X_test_long_3yr, columns=['Cluster'], drop_first=True)"
   ]
  },
  {
   "cell_type": "code",
   "execution_count": null,
   "metadata": {
    "colab": {},
    "colab_type": "code",
    "id": "xvweE20YwqPY"
   },
   "outputs": [],
   "source": [
    "Xcl_3y_test = X_test_dumcl_3yr.drop(columns=['Survival.time', 'Deadstatus.event'])\n",
    "ycl_3y_test = (X_test_dumcl_3yr['Survival.time'] > 3*365).astype(int)"
   ]
  },
  {
   "cell_type": "code",
   "execution_count": 62,
   "metadata": {
    "colab": {
     "base_uri": "https://localhost:8080/",
     "height": 34
    },
    "colab_type": "code",
    "id": "xCrUaj_ew1iJ",
    "outputId": "e8603a26-7d7d-4ec4-f196-2d888cbd738f"
   },
   "outputs": [
    {
     "data": {
      "text/plain": [
       "0.6190476190476191"
      ]
     },
     "execution_count": 62,
     "metadata": {
      "tags": []
     },
     "output_type": "execute_result"
    }
   ],
   "source": [
    "fittedgrid_cl.score(Xcl_3y_test, ycl_3y_test)"
   ]
  },
  {
   "cell_type": "markdown",
   "metadata": {
    "colab_type": "text",
    "id": "uEUBUIGtw8pa"
   },
   "source": [
    "The accuracy score is 61.90%. We will stop here."
   ]
  },
  {
   "cell_type": "code",
   "execution_count": null,
   "metadata": {
    "colab": {},
    "colab_type": "code",
    "id": "vPZ6Kvtuw5f9"
   },
   "outputs": [],
   "source": []
  }
 ],
 "metadata": {
  "accelerator": "GPU",
  "colab": {
   "collapsed_sections": [],
   "name": "Capstone - Analysis.ipynb",
   "provenance": [],
   "toc_visible": true
  },
  "kernelspec": {
   "display_name": "Python 3",
   "language": "python",
   "name": "python3"
  },
  "language_info": {
   "codemirror_mode": {
    "name": "ipython",
    "version": 3
   },
   "file_extension": ".py",
   "mimetype": "text/x-python",
   "name": "python",
   "nbconvert_exporter": "python",
   "pygments_lexer": "ipython3",
   "version": "3.7.4"
  }
 },
 "nbformat": 4,
 "nbformat_minor": 4
}
