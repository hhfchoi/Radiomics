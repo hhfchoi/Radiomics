{
  "nbformat": 4,
  "nbformat_minor": 0,
  "metadata": {
    "kernelspec": {
      "name": "python3",
      "display_name": "Python 3"
    },
    "language_info": {
      "codemirror_mode": {
        "name": "ipython",
        "version": 3
      },
      "file_extension": ".py",
      "mimetype": "text/x-python",
      "name": "python",
      "nbconvert_exporter": "python",
      "pygments_lexer": "ipython3",
      "version": "3.7.4"
    },
    "colab": {
      "name": "Capstone - Analysis.ipynb",
      "provenance": [],
      "collapsed_sections": [],
      "toc_visible": true
    },
    "accelerator": "GPU"
  },
  "cells": [
    {
      "cell_type": "markdown",
      "metadata": {
        "id": "PtSbyHFKHRw9",
        "colab_type": "text"
      },
      "source": [
        "## Main analysis for Capstone"
      ]
    },
    {
      "cell_type": "markdown",
      "metadata": {
        "id": "xjUfOYeZHRxB",
        "colab_type": "text"
      },
      "source": [
        "Importing all libraries first"
      ]
    },
    {
      "cell_type": "code",
      "metadata": {
        "id": "107pFB3nqo-X",
        "colab_type": "code",
        "outputId": "a19bc033-546a-4d16-d30e-a4f5cde637e7",
        "colab": {
          "base_uri": "https://localhost:8080/",
          "height": 377
        }
      },
      "source": [
        "# For Google Colab, have to run this every time at startup\n",
        "!pip install lifelines"
      ],
      "execution_count": 1,
      "outputs": [
        {
          "output_type": "stream",
          "text": [
            "Collecting lifelines\n",
            "\u001b[?25l  Downloading https://files.pythonhosted.org/packages/d9/e2/aac7639bf5469b3a34b684fade6abaf837a9bedc78306d0f148d3fbc515c/lifelines-0.24.2-py2.py3-none-any.whl (416kB)\n",
            "\r\u001b[K     |▉                               | 10kB 28.0MB/s eta 0:00:01\r\u001b[K     |█▋                              | 20kB 3.1MB/s eta 0:00:01\r\u001b[K     |██▍                             | 30kB 4.5MB/s eta 0:00:01\r\u001b[K     |███▏                            | 40kB 2.9MB/s eta 0:00:01\r\u001b[K     |████                            | 51kB 3.6MB/s eta 0:00:01\r\u001b[K     |████▊                           | 61kB 4.3MB/s eta 0:00:01\r\u001b[K     |█████▌                          | 71kB 4.9MB/s eta 0:00:01\r\u001b[K     |██████▎                         | 81kB 5.6MB/s eta 0:00:01\r\u001b[K     |███████                         | 92kB 6.2MB/s eta 0:00:01\r\u001b[K     |███████▉                        | 102kB 4.8MB/s eta 0:00:01\r\u001b[K     |████████▋                       | 112kB 4.8MB/s eta 0:00:01\r\u001b[K     |█████████▍                      | 122kB 4.8MB/s eta 0:00:01\r\u001b[K     |██████████▎                     | 133kB 4.8MB/s eta 0:00:01\r\u001b[K     |███████████                     | 143kB 4.8MB/s eta 0:00:01\r\u001b[K     |███████████▉                    | 153kB 4.8MB/s eta 0:00:01\r\u001b[K     |████████████▋                   | 163kB 4.8MB/s eta 0:00:01\r\u001b[K     |█████████████▍                  | 174kB 4.8MB/s eta 0:00:01\r\u001b[K     |██████████████▏                 | 184kB 4.8MB/s eta 0:00:01\r\u001b[K     |███████████████                 | 194kB 4.8MB/s eta 0:00:01\r\u001b[K     |███████████████▊                | 204kB 4.8MB/s eta 0:00:01\r\u001b[K     |████████████████▌               | 215kB 4.8MB/s eta 0:00:01\r\u001b[K     |█████████████████▎              | 225kB 4.8MB/s eta 0:00:01\r\u001b[K     |██████████████████              | 235kB 4.8MB/s eta 0:00:01\r\u001b[K     |██████████████████▉             | 245kB 4.8MB/s eta 0:00:01\r\u001b[K     |███████████████████▊            | 256kB 4.8MB/s eta 0:00:01\r\u001b[K     |████████████████████▌           | 266kB 4.8MB/s eta 0:00:01\r\u001b[K     |█████████████████████▎          | 276kB 4.8MB/s eta 0:00:01\r\u001b[K     |██████████████████████          | 286kB 4.8MB/s eta 0:00:01\r\u001b[K     |██████████████████████▉         | 296kB 4.8MB/s eta 0:00:01\r\u001b[K     |███████████████████████▋        | 307kB 4.8MB/s eta 0:00:01\r\u001b[K     |████████████████████████▍       | 317kB 4.8MB/s eta 0:00:01\r\u001b[K     |█████████████████████████▏      | 327kB 4.8MB/s eta 0:00:01\r\u001b[K     |██████████████████████████      | 337kB 4.8MB/s eta 0:00:01\r\u001b[K     |██████████████████████████▊     | 348kB 4.8MB/s eta 0:00:01\r\u001b[K     |███████████████████████████▌    | 358kB 4.8MB/s eta 0:00:01\r\u001b[K     |████████████████████████████▎   | 368kB 4.8MB/s eta 0:00:01\r\u001b[K     |█████████████████████████████▏  | 378kB 4.8MB/s eta 0:00:01\r\u001b[K     |██████████████████████████████  | 389kB 4.8MB/s eta 0:00:01\r\u001b[K     |██████████████████████████████▊ | 399kB 4.8MB/s eta 0:00:01\r\u001b[K     |███████████████████████████████▌| 409kB 4.8MB/s eta 0:00:01\r\u001b[K     |████████████████████████████████| 419kB 4.8MB/s \n",
            "\u001b[?25hRequirement already satisfied: numpy>=1.14.0 in /usr/local/lib/python3.6/dist-packages (from lifelines) (1.18.2)\n",
            "Collecting autograd-gamma>=0.3\n",
            "  Downloading https://files.pythonhosted.org/packages/0a/07/d99339c9420b58b723a9189d1373e5c3889758b2202a1a7fe4a3b7a10c5a/autograd_gamma-0.4.2-py2.py3-none-any.whl\n",
            "Requirement already satisfied: pandas>=0.23.0 in /usr/local/lib/python3.6/dist-packages (from lifelines) (0.25.3)\n",
            "Requirement already satisfied: autograd>=1.3 in /usr/local/lib/python3.6/dist-packages (from lifelines) (1.3)\n",
            "Requirement already satisfied: scipy>=1.2.0 in /usr/local/lib/python3.6/dist-packages (from lifelines) (1.4.1)\n",
            "Requirement already satisfied: matplotlib>=3.0 in /usr/local/lib/python3.6/dist-packages (from lifelines) (3.2.0)\n",
            "Requirement already satisfied: pytz>=2017.2 in /usr/local/lib/python3.6/dist-packages (from pandas>=0.23.0->lifelines) (2018.9)\n",
            "Requirement already satisfied: python-dateutil>=2.6.1 in /usr/local/lib/python3.6/dist-packages (from pandas>=0.23.0->lifelines) (2.8.1)\n",
            "Requirement already satisfied: future>=0.15.2 in /usr/local/lib/python3.6/dist-packages (from autograd>=1.3->lifelines) (0.16.0)\n",
            "Requirement already satisfied: kiwisolver>=1.0.1 in /usr/local/lib/python3.6/dist-packages (from matplotlib>=3.0->lifelines) (1.1.0)\n",
            "Requirement already satisfied: pyparsing!=2.0.4,!=2.1.2,!=2.1.6,>=2.0.1 in /usr/local/lib/python3.6/dist-packages (from matplotlib>=3.0->lifelines) (2.4.6)\n",
            "Requirement already satisfied: cycler>=0.10 in /usr/local/lib/python3.6/dist-packages (from matplotlib>=3.0->lifelines) (0.10.0)\n",
            "Requirement already satisfied: six>=1.5 in /usr/local/lib/python3.6/dist-packages (from python-dateutil>=2.6.1->pandas>=0.23.0->lifelines) (1.12.0)\n",
            "Requirement already satisfied: setuptools in /usr/local/lib/python3.6/dist-packages (from kiwisolver>=1.0.1->matplotlib>=3.0->lifelines) (46.0.0)\n",
            "Installing collected packages: autograd-gamma, lifelines\n",
            "Successfully installed autograd-gamma-0.4.2 lifelines-0.24.2\n"
          ],
          "name": "stdout"
        }
      ]
    },
    {
      "cell_type": "code",
      "metadata": {
        "id": "zRo8GrEhHRxE",
        "colab_type": "code",
        "colab": {}
      },
      "source": [
        "import pandas as pd\n",
        "import numpy as np\n",
        "import matplotlib.pyplot as plt\n",
        "%matplotlib inline\n",
        "import seaborn as sns\n",
        "import collections\n",
        "\n",
        "import warnings\n",
        "warnings.filterwarnings(\"ignore\")\n",
        "import joblib\n",
        "\n",
        "from scipy.stats import boxcox\n",
        "from statsmodels.graphics.gofplots import qqplot\n",
        "from statsmodels.stats.weightstats import ttest_ind\n",
        "\n",
        "from sklearn.preprocessing import StandardScaler, LabelBinarizer\n",
        "from sklearn.decomposition import PCA, KernelPCA\n",
        "from sklearn.pipeline import Pipeline\n",
        "from sklearn.model_selection import train_test_split, cross_val_score, GridSearchCV\n",
        "from sklearn.linear_model import LogisticRegression\n",
        "from sklearn.tree import DecisionTreeClassifier\n",
        "from sklearn.ensemble import RandomForestClassifier\n",
        "from sklearn.svm import SVC\n",
        "from xgboost import XGBClassifier\n",
        "from sklearn.discriminant_analysis import QuadraticDiscriminantAnalysis\n",
        "from sklearn.metrics import confusion_matrix, classification_report, cohen_kappa_score\n",
        "\n",
        "from sklearn.cluster import KMeans, OPTICS\n",
        "\n",
        "from imblearn.over_sampling import SMOTE, ADASYN, SVMSMOTE\n",
        "from imblearn.pipeline import Pipeline as imPipeline\n",
        "\n",
        "import tensorflow as tf\n",
        "\n",
        "from lifelines import KaplanMeierFitter\n",
        "from lifelines.utils import median_survival_times\n",
        "from lifelines.statistics import survival_difference_at_fixed_point_in_time_test\n",
        "\n",
        "from sklearn.mixture import GaussianMixture"
      ],
      "execution_count": 0,
      "outputs": []
    },
    {
      "cell_type": "markdown",
      "metadata": {
        "id": "46tVJDZYHRxJ",
        "colab_type": "text"
      },
      "source": [
        "First load the source csv file into `pandas`:"
      ]
    },
    {
      "cell_type": "code",
      "metadata": {
        "id": "Bl4rIjarH0aW",
        "colab_type": "code",
        "outputId": "05a54c30-edb8-48a9-8ebf-0160814187f3",
        "colab": {
          "base_uri": "https://localhost:8080/",
          "height": 122
        }
      },
      "source": [
        "from google.colab import drive\n",
        "drive.mount('/content/drive')"
      ],
      "execution_count": 3,
      "outputs": [
        {
          "output_type": "stream",
          "text": [
            "Go to this URL in a browser: https://accounts.google.com/o/oauth2/auth?client_id=947318989803-6bn6qk8qdgf4n4g3pfee6491hc0brc4i.apps.googleusercontent.com&redirect_uri=urn%3aietf%3awg%3aoauth%3a2.0%3aoob&response_type=code&scope=email%20https%3a%2f%2fwww.googleapis.com%2fauth%2fdocs.test%20https%3a%2f%2fwww.googleapis.com%2fauth%2fdrive%20https%3a%2f%2fwww.googleapis.com%2fauth%2fdrive.photos.readonly%20https%3a%2f%2fwww.googleapis.com%2fauth%2fpeopleapi.readonly\n",
            "\n",
            "Enter your authorization code:\n",
            "··········\n",
            "Mounted at /content/drive\n"
          ],
          "name": "stdout"
        }
      ]
    },
    {
      "cell_type": "code",
      "metadata": {
        "id": "3T9r-EYcHRxK",
        "colab_type": "code",
        "colab": {}
      },
      "source": [
        "df_grand = pd.read_csv('/content/drive/My Drive/Colab Notebooks/NSCLC-Radiomics-agg-padded.csv')"
      ],
      "execution_count": 0,
      "outputs": []
    },
    {
      "cell_type": "markdown",
      "metadata": {
        "id": "IGfVLvzpHRxP",
        "colab_type": "text"
      },
      "source": [
        "Define some boolean variables based on whether the patient has died (`deadstatus.event`==1) and the registered survival time of the patient. For this study, we look at the patients at 1-year, 3-year, and 5-year marks."
      ]
    },
    {
      "cell_type": "code",
      "metadata": {
        "id": "IYAP8-ThHRxR",
        "colab_type": "code",
        "colab": {}
      },
      "source": [
        "dead = df_grand['deadstatus.event'].astype(bool)\n",
        "\n",
        "mask_1yr = (df_grand['Survival.time'] >= 365)\n",
        "mask_3yr = (df_grand['Survival.time'] >= 3*365)\n",
        "mask_5yr = (df_grand['Survival.time'] >= 5*365)"
      ],
      "execution_count": 0,
      "outputs": []
    },
    {
      "cell_type": "code",
      "metadata": {
        "id": "YHe22pLVHRxX",
        "colab_type": "code",
        "colab": {}
      },
      "source": [
        "df_tf = df_grand.copy()"
      ],
      "execution_count": 0,
      "outputs": []
    },
    {
      "cell_type": "markdown",
      "metadata": {
        "id": "aAUiLM70HRxb",
        "colab_type": "text"
      },
      "source": [
        "Transforming data based on EDA:"
      ]
    },
    {
      "cell_type": "code",
      "metadata": {
        "id": "Xt8L_r4hHRxd",
        "colab_type": "code",
        "colab": {}
      },
      "source": [
        "# Originally, define a small epsilon such that features can be log-transformed after zero-padding\n",
        "# All tumours have since been aggregated, so zero-padding is no longer necessary\n",
        "eps = 0\n",
        "\n",
        "for i in range(1):\n",
        "    str_i = str(i)\n",
        "    \n",
        "    # Shape\n",
        "    df_tf.drop(columns=['shape_VoxelVolume_'+str_i, \n",
        "                        'shape_Maximum2DDiameterColumn_'+str_i, \n",
        "                        'shape_Maximum2DDiameterRow_'+str_i], inplace=True)\n",
        "    \n",
        "    df_tf['log_shape_MeshVolume_'+str_i] = np.log( df_tf['shape_MeshVolume_'+str_i] + eps )\n",
        "    df_tf.drop(columns=['shape_MeshVolume_' + str_i])\n",
        "    \n",
        "    # GLDM\n",
        "    df_tf.drop(columns=['gldm_LargeDependenceEmphasis_'+str_i], \n",
        "               inplace = True)\n",
        "    \n",
        "    df_tf['log_gldm_GrayLevelVariance_' + str_i] = np.log(df_tf['gldm_GrayLevelVariance_' + str_i] + eps)\n",
        "    df_tf['log_gldm_DependenceNonUniformity_' + str_i] = np.log(df_tf['gldm_DependenceNonUniformity_' + str_i] + eps)\n",
        "    df_tf['log_gldm_GrayLevelNonUniformity_' + str_i] = np.log(df_tf['gldm_GrayLevelNonUniformity_' + str_i] + eps)\n",
        "    df_tf['bc_gldm_LargeDependenceLowGrayLevelEmphasis_' \n",
        "          + str_i] = boxcox(df_tf['gldm_LargeDependenceLowGrayLevelEmphasis_' + str_i] + eps)[0]\n",
        "    df_tf['bc_gldm_SmallDependenceLowGrayLevelEmphasis_' \n",
        "          + str_i] = boxcox(df_tf['gldm_SmallDependenceLowGrayLevelEmphasis_' + str_i] + eps)[0]\n",
        "    df_tf['bc_gldm_LowGrayLevelEmphasis_' + str_i] = boxcox(df_tf['gldm_LowGrayLevelEmphasis_' + str_i] + eps)[0]\n",
        "    \n",
        "    df_tf.drop(columns=['gldm_GrayLevelVariance_' + str_i,\n",
        "                        'gldm_DependenceNonUniformity_' + str_i,\n",
        "                        'gldm_GrayLevelNonUniformity_' + str_i,\n",
        "                        'gldm_LargeDependenceLowGrayLevelEmphasis_' + str_i,\n",
        "                        'gldm_SmallDependenceLowGrayLevelEmphasis_' + str_i,\n",
        "                        'gldm_LowGrayLevelEmphasis_' + str_i], inplace=True)\n",
        "    \n",
        "    # GLCM\n",
        "    df_tf.drop(columns=['glcm_SumAverage_' + str_i, \n",
        "                        'glcm_JointAverage_' + str_i,\n",
        "                        'glcm_SumEntropy_' + str_i,\n",
        "                        'glcm_DifferenceEntropy_' + str_i,\n",
        "                        'glcm_Id_' + str_i,\n",
        "                        'glcm_Idn_' + str_i,\n",
        "                        'glcm_ClusterTendency_' + str_i,\n",
        "                        'glcm_Contrast_' + str_i], inplace=True)\n",
        "    df_tf['bc_glcm_JointEnergy_' + str_i] = boxcox(df_tf['glcm_JointEnergy_' + str_i] + eps)[0]\n",
        "    df_tf['log_glcm_DifferenceVariance_' + str_i] = np.log(df_tf['glcm_DifferenceVariance_' + str_i] + eps)\n",
        "    df_tf['log_glcm_SumSquares_' + str_i] = np.log(df_tf['glcm_SumSquares_' + str_i] + eps)\n",
        "    df_tf['bc_glcm_ClusterProminence_' + str_i] = boxcox(df_tf['glcm_ClusterProminence_' + str_i] + eps)[0]\n",
        "    df_tf['bc_glcm_DifferenceAverage_' + str_i] = boxcox(df_tf['glcm_DifferenceAverage_' + str_i] + eps)[0]\n",
        "    \n",
        "    df_tf.drop(columns=['glcm_JointEnergy_' + str_i,\n",
        "                        'glcm_DifferenceVariance_' + str_i,\n",
        "                        'glcm_SumSquares_' + str_i,\n",
        "                        'glcm_ClusterProminence_' + str_i,\n",
        "                        'glcm_DifferenceAverage_' + str_i], inplace=True)\n",
        "    \n",
        "    # First order\n",
        "    df_tf.drop(columns=['firstorder_RobustMeanAbsoluteDeviation_' + str_i, \n",
        "                        'firstorder_MeanAbsoluteDeviation_' + str_i,\n",
        "                        'firstorder_TotalEnergy_' + str_i], inplace=True)\n",
        "    df_tf['bc_firstorder_InterquartileRange_' + str_i] = boxcox(df_tf['firstorder_InterquartileRange_' + str_i] + eps)[0]\n",
        "    df_tf['log_firstorder_Energy_' + str_i] = np.log(df_tf['firstorder_Energy_' + str_i] + eps)\n",
        "    df_tf['log_firstorder_Kurtosis_' + str_i] = np.log(df_tf['firstorder_Kurtosis_' + str_i] + eps)\n",
        "    df_tf['log_firstorder_RootMeanSquared_' + str_i] = np.log(df_tf['firstorder_RootMeanSquared_' + str_i] + eps)\n",
        "    \n",
        "    # GLRLM\n",
        "    df_tf.drop(columns=['glrlm_ShortRunLowGrayLevelEmphasis_' + str_i,\n",
        "                        'glrlm_LowGrayLevelRunEmphasis_' + str_i,\n",
        "                        'glrlm_LongRunEmphasis_' + str_i,\n",
        "                        'glrlm_RunLengthNonUniformityNormalized_' + str_i,\n",
        "                        'glrlm_ShortRunEmphasis_' + str_i], inplace=True)\n",
        "    df_tf['log_glrlm_GrayLevelVariance_' + str_i] = np.log(df_tf['glrlm_GrayLevelVariance_' + str_i] + eps)\n",
        "    df_tf['log_glrlm_RunVariance_' + str_i] = np.log(df_tf['glrlm_RunVariance_' + str_i] + eps)\n",
        "    df_tf['log_glrlm_GrayLevelNonUniformity_' + str_i] = np.log(df_tf['glrlm_GrayLevelNonUniformity_' + str_i] + eps)\n",
        "    df_tf['log_glrlm_RunLengthNonUniformity_' + str_i] = np.log(df_tf['glrlm_RunLengthNonUniformity_' + str_i] + eps)\n",
        "    df_tf['bc_glrlm_LongRunLowGrayLevelEmphasis_' + str_i] = boxcox(df_tf['glrlm_LongRunLowGrayLevelEmphasis_' \n",
        "                                                                          + str_i] + eps)[0]\n",
        "    \n",
        "    df_tf.drop(columns=['glrlm_GrayLevelVariance_' + str_i,\n",
        "                        'glrlm_RunVariance_' + str_i,\n",
        "                        'glrlm_GrayLevelNonUniformity_' + str_i,\n",
        "                        'glrlm_RunLengthNonUniformity_' + str_i,\n",
        "                        'glrlm_LongRunLowGrayLevelEmphasis_' + str_i], inplace = True)\n",
        "    \n",
        "    # GLSZM\n",
        "    df_tf.drop(columns=['glszm_LargeAreaEmphasis_' + str_i,\n",
        "                        'glszm_LargeAreaHighGrayLevelEmphasis_' + str_i,\n",
        "                        'glszm_SmallAreaEmphasis_' + str_i,\n",
        "                        'glszm_SmallAreaHighGrayLevelEmphasis_' + str_i,\n",
        "                        'glszm_SmallAreaLowGrayLevelEmphasis_' + str_i], inplace=True)\n",
        "    df_tf['log_glszm_GrayLevelVariance_' + str_i] = boxcox(df_tf['glszm_GrayLevelVariance_' + str_i] + eps)[0]\n",
        "    df_tf['bc_glszm_ZoneVariance_' + str_i] = boxcox(df_tf['glszm_ZoneVariance_' + str_i] + eps)[0]\n",
        "    df_tf['log_glszm_GrayLevelNonUniformityNormalized_' + str_i] = np.log(df_tf['glszm_GrayLevelNonUniformityNormalized_' \n",
        "                                                                                + str_i] + eps)\n",
        "    df_tf['log_glszm_SizeZoneNonUniformity_' + str_i] = np.log(df_tf['glszm_SizeZoneNonUniformity_' + str_i] + eps)\n",
        "    df_tf['log_glszm_GrayLevelNonUniformity_' + str_i] = np.log(df_tf['glszm_GrayLevelNonUniformity_' + str_i] + eps)\n",
        "    df_tf['log_glszm_ZonePercentage_' + str_i] = np.log(df_tf['glszm_ZonePercentage_' + str_i] + eps)\n",
        "    df_tf['log_glszm_LargeAreaLowGrayLevelEmphasis_' + str_i] = np.log(df_tf['glszm_LargeAreaLowGrayLevelEmphasis_' \n",
        "                                                                             + str_i] + eps)\n",
        "    df_tf['bc_glszm_LowGrayLevelZoneEmphasis_' + str_i] = boxcox(df_grand['glszm_LowGrayLevelZoneEmphasis_' + str_i] + eps)[0]\n",
        "    \n",
        "    df_tf.drop(columns=['glszm_GrayLevelVariance_' + str_i,\n",
        "                        'glszm_ZoneVariance_' + str_i,\n",
        "                        'glszm_GrayLevelNonUniformityNormalized_' + str_i,\n",
        "                        'glszm_SizeZoneNonUniformity_' + str_i,\n",
        "                        'glszm_GrayLevelNonUniformity_' + str_i,\n",
        "                        'glszm_ZonePercentage_' + str_i,\n",
        "                        'glszm_LargeAreaLowGrayLevelEmphasis_' + str_i,\n",
        "                        'glszm_LowGrayLevelZoneEmphasis_' + str_i], inplace=True)"
      ],
      "execution_count": 0,
      "outputs": []
    },
    {
      "cell_type": "code",
      "metadata": {
        "id": "-z3THaW9HRxn",
        "colab_type": "code",
        "colab": {}
      },
      "source": [
        "# Number of features at the end\n",
        "num_feat = len(df_tf.columns[df_tf.columns.str.contains('_0')])"
      ],
      "execution_count": 0,
      "outputs": []
    },
    {
      "cell_type": "code",
      "metadata": {
        "id": "EygGD0LAiAv7",
        "colab_type": "code",
        "colab": {}
      },
      "source": [
        "feat_mask = df_tf.columns.str.contains('_0')"
      ],
      "execution_count": 0,
      "outputs": []
    },
    {
      "cell_type": "markdown",
      "metadata": {
        "id": "MTG7M9BrHRx2",
        "colab_type": "text"
      },
      "source": [
        "---\n",
        "### 1-year analysis:"
      ]
    },
    {
      "cell_type": "markdown",
      "metadata": {
        "id": "8l0DCVHZHRx4",
        "colab_type": "text"
      },
      "source": [
        "We look at patients satisfying one of the two following criteria:\n",
        "- The patient has passed away, and his/ her survival time is definite; OR\n",
        "- The patient has survived past the 1-year mark regardless whether the patient has passed away"
      ]
    },
    {
      "cell_type": "code",
      "metadata": {
        "id": "EIKdLGfhHRx5",
        "colab_type": "code",
        "colab": {}
      },
      "source": [
        "X1 = df_tf[mask_1yr | dead][df_tf.columns[feat_mask]]\n",
        "y1 = (df_tf[mask_1yr | dead]['Survival.time']> 365).astype(int)"
      ],
      "execution_count": 0,
      "outputs": []
    },
    {
      "cell_type": "code",
      "metadata": {
        "id": "s3LqmTmTHRx9",
        "colab_type": "code",
        "colab": {}
      },
      "source": [
        "X1 = X1.astype(float)"
      ],
      "execution_count": 0,
      "outputs": []
    },
    {
      "cell_type": "markdown",
      "metadata": {
        "id": "yCoBXAiRHRyB",
        "colab_type": "text"
      },
      "source": [
        "Looking at the total number of patients being studied here:"
      ]
    },
    {
      "cell_type": "code",
      "metadata": {
        "id": "OuZZIrakHRyC",
        "colab_type": "code",
        "outputId": "69a72e3d-7c78-4ce8-9d42-f59a797454a6",
        "colab": {
          "base_uri": "https://localhost:8080/",
          "height": 34
        }
      },
      "source": [
        "y1.shape"
      ],
      "execution_count": 0,
      "outputs": [
        {
          "output_type": "execute_result",
          "data": {
            "text/plain": [
              "(418,)"
            ]
          },
          "metadata": {
            "tags": []
          },
          "execution_count": 74
        }
      ]
    },
    {
      "cell_type": "markdown",
      "metadata": {
        "id": "fh-nV3M3HRyK",
        "colab_type": "text"
      },
      "source": [
        "Split the data into training set and test set:"
      ]
    },
    {
      "cell_type": "code",
      "metadata": {
        "id": "-KyibUusHRyL",
        "colab_type": "code",
        "colab": {}
      },
      "source": [
        "X1_train, X1_test, y1_train, y1_test = train_test_split(X1, y1, test_size=0.3, random_state=1)"
      ],
      "execution_count": 0,
      "outputs": []
    },
    {
      "cell_type": "markdown",
      "metadata": {
        "id": "pjqfWI6AHRyQ",
        "colab_type": "text"
      },
      "source": [
        "Look at the class imbalance:"
      ]
    },
    {
      "cell_type": "code",
      "metadata": {
        "id": "NKWgXGoNHRyR",
        "colab_type": "code",
        "outputId": "2de7ec02-bade-4568-b1e2-f46d5d4b0488",
        "colab": {
          "base_uri": "https://localhost:8080/",
          "height": 68
        }
      },
      "source": [
        "y1_train.value_counts()"
      ],
      "execution_count": 0,
      "outputs": [
        {
          "output_type": "execute_result",
          "data": {
            "text/plain": [
              "1    190\n",
              "0    102\n",
              "Name: Survival.time, dtype: int64"
            ]
          },
          "metadata": {
            "tags": []
          },
          "execution_count": 76
        }
      ]
    },
    {
      "cell_type": "markdown",
      "metadata": {
        "id": "gTGgh9s7HRyV",
        "colab_type": "text"
      },
      "source": [
        "Hence there are 190 patients in the training set who have survived for more than 1 year, and 102 who have not."
      ]
    },
    {
      "cell_type": "markdown",
      "metadata": {
        "id": "Os2rw_WJHRyX",
        "colab_type": "text"
      },
      "source": [
        "We scale all features in the training set such that all features centred at zero and have variances of 1. The test set is also scaled, BUT with the scaling factors determined from the training set:"
      ]
    },
    {
      "cell_type": "code",
      "metadata": {
        "id": "5DC-JuEHHRya",
        "colab_type": "code",
        "colab": {}
      },
      "source": [
        "my_scaler = StandardScaler()\n",
        "X1_train = my_scaler.fit_transform(X1_train)\n",
        "X1_test = my_scaler.transform(X1_test)"
      ],
      "execution_count": 0,
      "outputs": []
    },
    {
      "cell_type": "markdown",
      "metadata": {
        "id": "v6so7C2nHRye",
        "colab_type": "text"
      },
      "source": [
        "Then run through various models:"
      ]
    },
    {
      "cell_type": "markdown",
      "metadata": {
        "id": "NGZJlLXqHRyf",
        "colab_type": "text"
      },
      "source": [
        "#### Logistic Regression"
      ]
    },
    {
      "cell_type": "code",
      "metadata": {
        "id": "9_wT-7KIHRyg",
        "colab_type": "code",
        "outputId": "65de147e-19ab-4596-f42a-9bc2dbed80ba",
        "colab": {
          "base_uri": "https://localhost:8080/",
          "height": 34
        }
      },
      "source": [
        "my_logit = LogisticRegression()\n",
        "my_logit.fit(X1_train, y1_train)\n",
        "my_logit.score(X1_train, y1_train)"
      ],
      "execution_count": 0,
      "outputs": [
        {
          "output_type": "execute_result",
          "data": {
            "text/plain": [
              "0.7705479452054794"
            ]
          },
          "metadata": {
            "tags": []
          },
          "execution_count": 78
        }
      ]
    },
    {
      "cell_type": "markdown",
      "metadata": {
        "id": "VXXtljTDHRyl",
        "colab_type": "text"
      },
      "source": [
        "The test accuracy for the logistic regression model is:"
      ]
    },
    {
      "cell_type": "code",
      "metadata": {
        "id": "CslQnJtkHRym",
        "colab_type": "code",
        "outputId": "d37dd98d-3c2a-4137-d054-00d55b6a796c",
        "colab": {
          "base_uri": "https://localhost:8080/",
          "height": 34
        }
      },
      "source": [
        "my_logit.score(X1_test, y1_test)"
      ],
      "execution_count": 0,
      "outputs": [
        {
          "output_type": "execute_result",
          "data": {
            "text/plain": [
              "0.6111111111111112"
            ]
          },
          "metadata": {
            "tags": []
          },
          "execution_count": 79
        }
      ]
    },
    {
      "cell_type": "markdown",
      "metadata": {
        "id": "cSoheK1GHRyr",
        "colab_type": "text"
      },
      "source": [
        "To further optimize the results, run a grid search:\n",
        "- Try LASSO (i.e. `penalty='l1'`) and Ridge regression (i.e. `penalty='l2'`)\n",
        "- Try different normalization strengths (for C, the inverse of the normalization strengths, ranging from $10^{-6}$ to $10^6$)"
      ]
    },
    {
      "cell_type": "code",
      "metadata": {
        "id": "_aWw2Q6gHRyt",
        "colab_type": "code",
        "outputId": "5274bc77-3cb4-414f-a950-39eb441f5cd5",
        "colab": {
          "base_uri": "https://localhost:8080/",
          "height": 34
        }
      },
      "source": [
        "estimators = [('model', LogisticRegression())]\n",
        "\n",
        "pipe = Pipeline(estimators)\n",
        "\n",
        "param_grid = [{'model': [LogisticRegression(solver='saga')], \n",
        "               'model__C': [10**i for i in range(-6,7)],\n",
        "               'model__penalty': ['l1', 'l2']}]\n",
        "\n",
        "grid = GridSearchCV(pipe, param_grid, cv=5)\n",
        "fittedgrid = grid.fit(X1_train, y1_train)\n",
        "\n",
        "joblib.dump(fittedgrid, 'logreg_1yr.pkl')"
      ],
      "execution_count": 0,
      "outputs": [
        {
          "output_type": "execute_result",
          "data": {
            "text/plain": [
              "['logreg_1yr.pkl']"
            ]
          },
          "metadata": {
            "tags": []
          },
          "execution_count": 80
        }
      ]
    },
    {
      "cell_type": "markdown",
      "metadata": {
        "id": "oJrCZnqkHRyz",
        "colab_type": "text"
      },
      "source": [
        "The optimized hyperparameters are:"
      ]
    },
    {
      "cell_type": "code",
      "metadata": {
        "id": "7GsoTbIVHRy0",
        "colab_type": "code",
        "outputId": "cf91dce1-2afe-4224-83c2-737754cd8b25",
        "colab": {
          "base_uri": "https://localhost:8080/",
          "height": 187
        }
      },
      "source": [
        "fittedgrid.best_estimator_"
      ],
      "execution_count": 0,
      "outputs": [
        {
          "output_type": "execute_result",
          "data": {
            "text/plain": [
              "Pipeline(memory=None,\n",
              "         steps=[('model',\n",
              "                 LogisticRegression(C=0.1, class_weight=None, dual=False,\n",
              "                                    fit_intercept=True, intercept_scaling=1,\n",
              "                                    l1_ratio=None, max_iter=100,\n",
              "                                    multi_class='auto', n_jobs=None,\n",
              "                                    penalty='l2', random_state=None,\n",
              "                                    solver='saga', tol=0.0001, verbose=0,\n",
              "                                    warm_start=False))],\n",
              "         verbose=False)"
            ]
          },
          "metadata": {
            "tags": []
          },
          "execution_count": 81
        }
      ]
    },
    {
      "cell_type": "markdown",
      "metadata": {
        "id": "nhFIRwyfHRy8",
        "colab_type": "text"
      },
      "source": [
        "The score on the training set is:"
      ]
    },
    {
      "cell_type": "code",
      "metadata": {
        "id": "Oyn1W4HjHRy9",
        "colab_type": "code",
        "outputId": "77ce31c5-bd29-4d83-8dd1-a36c9e58aa8b",
        "colab": {
          "base_uri": "https://localhost:8080/",
          "height": 34
        }
      },
      "source": [
        "fittedgrid.score(X1_train, y1_train)"
      ],
      "execution_count": 0,
      "outputs": [
        {
          "output_type": "execute_result",
          "data": {
            "text/plain": [
              "0.7328767123287672"
            ]
          },
          "metadata": {
            "tags": []
          },
          "execution_count": 82
        }
      ]
    },
    {
      "cell_type": "markdown",
      "metadata": {
        "id": "TvD2QaWWHRzB",
        "colab_type": "text"
      },
      "source": [
        "While the score on the test set is:"
      ]
    },
    {
      "cell_type": "code",
      "metadata": {
        "id": "jVMKyB5fHRzC",
        "colab_type": "code",
        "outputId": "e8f595d4-bfbc-4d30-eac1-381556e60a9a",
        "colab": {
          "base_uri": "https://localhost:8080/",
          "height": 34
        }
      },
      "source": [
        "fittedgrid.score(X1_test, y1_test)"
      ],
      "execution_count": 0,
      "outputs": [
        {
          "output_type": "execute_result",
          "data": {
            "text/plain": [
              "0.626984126984127"
            ]
          },
          "metadata": {
            "tags": []
          },
          "execution_count": 83
        }
      ]
    },
    {
      "cell_type": "markdown",
      "metadata": {
        "id": "n7enw4LYHRzF",
        "colab_type": "text"
      },
      "source": [
        "Plot some graphs! Define some lists first, then write into a dataframe:"
      ]
    },
    {
      "cell_type": "code",
      "metadata": {
        "id": "Ougw5GhBHRzG",
        "colab_type": "code",
        "colab": {}
      },
      "source": [
        "logit_grid_C = fittedgrid.cv_results_['param_model__C'].data\n",
        "\n",
        "logit_grid_penalty =fittedgrid.cv_results_['param_model__penalty'].data\n",
        "\n",
        "logit_grid_score = fittedgrid.cv_results_['mean_test_score']"
      ],
      "execution_count": 0,
      "outputs": []
    },
    {
      "cell_type": "code",
      "metadata": {
        "id": "XL03dO3pHRzM",
        "colab_type": "code",
        "outputId": "775ed282-a3c0-4dde-c340-3624a1d0ef4d",
        "colab": {
          "base_uri": "https://localhost:8080/",
          "height": 204
        }
      },
      "source": [
        "df_logit = pd.DataFrame({'C': logit_grid_C,\n",
        "                         'penalty': logit_grid_penalty,\n",
        "                         'score': logit_grid_score})\n",
        "df_logit.head()"
      ],
      "execution_count": 0,
      "outputs": [
        {
          "output_type": "execute_result",
          "data": {
            "text/html": [
              "<div>\n",
              "<style scoped>\n",
              "    .dataframe tbody tr th:only-of-type {\n",
              "        vertical-align: middle;\n",
              "    }\n",
              "\n",
              "    .dataframe tbody tr th {\n",
              "        vertical-align: top;\n",
              "    }\n",
              "\n",
              "    .dataframe thead th {\n",
              "        text-align: right;\n",
              "    }\n",
              "</style>\n",
              "<table border=\"1\" class=\"dataframe\">\n",
              "  <thead>\n",
              "    <tr style=\"text-align: right;\">\n",
              "      <th></th>\n",
              "      <th>C</th>\n",
              "      <th>penalty</th>\n",
              "      <th>score</th>\n",
              "    </tr>\n",
              "  </thead>\n",
              "  <tbody>\n",
              "    <tr>\n",
              "      <th>0</th>\n",
              "      <td>1e-06</td>\n",
              "      <td>l1</td>\n",
              "      <td>0.650731</td>\n",
              "    </tr>\n",
              "    <tr>\n",
              "      <th>1</th>\n",
              "      <td>1e-06</td>\n",
              "      <td>l2</td>\n",
              "      <td>0.650731</td>\n",
              "    </tr>\n",
              "    <tr>\n",
              "      <th>2</th>\n",
              "      <td>1e-05</td>\n",
              "      <td>l1</td>\n",
              "      <td>0.650731</td>\n",
              "    </tr>\n",
              "    <tr>\n",
              "      <th>3</th>\n",
              "      <td>1e-05</td>\n",
              "      <td>l2</td>\n",
              "      <td>0.650731</td>\n",
              "    </tr>\n",
              "    <tr>\n",
              "      <th>4</th>\n",
              "      <td>0.0001</td>\n",
              "      <td>l1</td>\n",
              "      <td>0.650731</td>\n",
              "    </tr>\n",
              "  </tbody>\n",
              "</table>\n",
              "</div>"
            ],
            "text/plain": [
              "        C penalty     score\n",
              "0   1e-06      l1  0.650731\n",
              "1   1e-06      l2  0.650731\n",
              "2   1e-05      l1  0.650731\n",
              "3   1e-05      l2  0.650731\n",
              "4  0.0001      l1  0.650731"
            ]
          },
          "metadata": {
            "tags": []
          },
          "execution_count": 85
        }
      ]
    },
    {
      "cell_type": "code",
      "metadata": {
        "id": "cMJSxVTpHRzQ",
        "colab_type": "code",
        "outputId": "277ac9f7-3132-42c7-c9c9-37d934df51fd",
        "colab": {
          "base_uri": "https://localhost:8080/",
          "height": 408
        }
      },
      "source": [
        "plt.figure(figsize=(12,6))\n",
        "plt.plot(df_logit[df_logit['penalty']=='l2']['C'], df_logit[df_logit['penalty']=='l2']['score'], 'b--', label='Ridge')\n",
        "plt.plot(df_logit[df_logit['penalty']=='l1']['C'], df_logit[df_logit['penalty']=='l1']['score'], 'r.-', label='LASSO')\n",
        "plt.xscale('log')\n",
        "plt.xlabel('Regularization parameter C')\n",
        "plt.ylabel('Validation score')\n",
        "plt.title('Logistic Regression for 1-Year Survival')\n",
        "plt.legend()\n",
        "plt.show()"
      ],
      "execution_count": 0,
      "outputs": [
        {
          "output_type": "display_data",
          "data": {
            "image/png": "[encoded data removed]",
            "text/plain": [
              "<Figure size 864x432 with 1 Axes>"
            ]
          },
          "metadata": {
            "tags": []
          }
        }
      ]
    },
    {
      "cell_type": "markdown",
      "metadata": {
        "id": "K7r3ho8SHRzT",
        "colab_type": "text"
      },
      "source": [
        "Since the accuracy score is so low, and there is a slight imbalance in the classes, let us print out the f1-score and the confusion matrix also for the test set:"
      ]
    },
    {
      "cell_type": "code",
      "metadata": {
        "id": "x_7wnQXjHRzU",
        "colab_type": "code",
        "outputId": "d3cd2a69-d372-4440-9be0-bc51bf5522b0",
        "colab": {
          "base_uri": "https://localhost:8080/",
          "height": 170
        }
      },
      "source": [
        "y_pred_logit = fittedgrid.predict(X1_test)\n",
        "print(classification_report(y1_test, y_pred_logit))"
      ],
      "execution_count": 0,
      "outputs": [
        {
          "output_type": "stream",
          "text": [
            "              precision    recall  f1-score   support\n",
            "\n",
            "           0       0.48      0.26      0.34        46\n",
            "           1       0.66      0.84      0.74        80\n",
            "\n",
            "    accuracy                           0.63       126\n",
            "   macro avg       0.57      0.55      0.54       126\n",
            "weighted avg       0.60      0.63      0.59       126\n",
            "\n"
          ],
          "name": "stdout"
        }
      ]
    },
    {
      "cell_type": "markdown",
      "metadata": {
        "id": "zy5GT46RHRzb",
        "colab_type": "text"
      },
      "source": [
        "Repeat the logistic regression with principal component analysis:"
      ]
    },
    {
      "cell_type": "code",
      "metadata": {
        "id": "hriTzYNYHRzg",
        "colab_type": "code",
        "outputId": "62d7c53c-e055-49ff-efa2-d270b3d46396",
        "colab": {
          "base_uri": "https://localhost:8080/",
          "height": 34
        }
      },
      "source": [
        "estimators = [('pca', PCA()),\n",
        "              ('model', LogisticRegression())]\n",
        "\n",
        "pipe = Pipeline(estimators)\n",
        "\n",
        "param_grid = [{'pca': [PCA()],\n",
        "               'model': [LogisticRegression(solver='saga')], \n",
        "               'pca__n_components': [x for x in range(5,num_feat,5)],\n",
        "               'model__C': [10**i for i in range(-6,7)],\n",
        "               'model__penalty': ['l1', 'l2']}]\n",
        "\n",
        "grid = GridSearchCV(pipe, param_grid, cv=5)\n",
        "fittedgrid_pca = grid.fit(X1_train, y1_train)\n",
        "\n",
        "joblib.dump(fittedgrid, 'logreg_pca_1yr.pkl')"
      ],
      "execution_count": 0,
      "outputs": [
        {
          "output_type": "execute_result",
          "data": {
            "text/plain": [
              "['logreg_pca_1yr.pkl']"
            ]
          },
          "metadata": {
            "tags": []
          },
          "execution_count": 88
        }
      ]
    },
    {
      "cell_type": "code",
      "metadata": {
        "id": "plTbYSnJHRzj",
        "colab_type": "code",
        "outputId": "99634aae-f14d-46ec-9d3c-cbde60e299ef",
        "colab": {
          "base_uri": "https://localhost:8080/",
          "height": 255
        }
      },
      "source": [
        "fittedgrid_pca.best_estimator_"
      ],
      "execution_count": 0,
      "outputs": [
        {
          "output_type": "execute_result",
          "data": {
            "text/plain": [
              "Pipeline(memory=None,\n",
              "         steps=[('pca',\n",
              "                 PCA(copy=True, iterated_power='auto', n_components=45,\n",
              "                     random_state=None, svd_solver='auto', tol=0.0,\n",
              "                     whiten=False)),\n",
              "                ('model',\n",
              "                 LogisticRegression(C=0.1, class_weight=None, dual=False,\n",
              "                                    fit_intercept=True, intercept_scaling=1,\n",
              "                                    l1_ratio=None, max_iter=100,\n",
              "                                    multi_class='auto', n_jobs=None,\n",
              "                                    penalty='l2', random_state=None,\n",
              "                                    solver='saga', tol=0.0001, verbose=0,\n",
              "                                    warm_start=False))],\n",
              "         verbose=False)"
            ]
          },
          "metadata": {
            "tags": []
          },
          "execution_count": 26
        }
      ]
    },
    {
      "cell_type": "code",
      "metadata": {
        "id": "fjrKodCMfFlm",
        "colab_type": "code",
        "outputId": "885f2a8d-802e-49d6-abb0-b1424d9f12cf",
        "colab": {
          "base_uri": "https://localhost:8080/",
          "height": 34
        }
      },
      "source": [
        "fittedgrid_pca.best_params_['pca__n_components']"
      ],
      "execution_count": 0,
      "outputs": [
        {
          "output_type": "execute_result",
          "data": {
            "text/plain": [
              "45"
            ]
          },
          "metadata": {
            "tags": []
          },
          "execution_count": 27
        }
      ]
    },
    {
      "cell_type": "code",
      "metadata": {
        "id": "ONZiUpl7HRzm",
        "colab_type": "code",
        "outputId": "f418428b-7fbf-40ab-9aa9-123349713a99",
        "colab": {
          "base_uri": "https://localhost:8080/",
          "height": 34
        }
      },
      "source": [
        "fittedgrid_pca.score(X1_train, y1_train)"
      ],
      "execution_count": 0,
      "outputs": [
        {
          "output_type": "execute_result",
          "data": {
            "text/plain": [
              "0.7328767123287672"
            ]
          },
          "metadata": {
            "tags": []
          },
          "execution_count": 28
        }
      ]
    },
    {
      "cell_type": "code",
      "metadata": {
        "id": "S7T0bMJ5HRzt",
        "colab_type": "code",
        "outputId": "991d66f6-2ebf-4bfa-88e5-91661283ab24",
        "colab": {
          "base_uri": "https://localhost:8080/",
          "height": 34
        }
      },
      "source": [
        "fittedgrid_pca.score(X1_test, y1_test)"
      ],
      "execution_count": 0,
      "outputs": [
        {
          "output_type": "execute_result",
          "data": {
            "text/plain": [
              "0.626984126984127"
            ]
          },
          "metadata": {
            "tags": []
          },
          "execution_count": 29
        }
      ]
    },
    {
      "cell_type": "code",
      "metadata": {
        "id": "OQQXiqTvHRzx",
        "colab_type": "code",
        "outputId": "63b37381-46ef-4f90-8caf-9f4904d05c0c",
        "colab": {
          "base_uri": "https://localhost:8080/",
          "height": 170
        }
      },
      "source": [
        "y_pred_logit_pca = fittedgrid_pca.predict(X1_test)\n",
        "print(classification_report(y1_test, y_pred_logit_pca))"
      ],
      "execution_count": 0,
      "outputs": [
        {
          "output_type": "stream",
          "text": [
            "              precision    recall  f1-score   support\n",
            "\n",
            "           0       0.48      0.26      0.34        46\n",
            "           1       0.66      0.84      0.74        80\n",
            "\n",
            "    accuracy                           0.63       126\n",
            "   macro avg       0.57      0.55      0.54       126\n",
            "weighted avg       0.60      0.63      0.59       126\n",
            "\n"
          ],
          "name": "stdout"
        }
      ]
    },
    {
      "cell_type": "code",
      "metadata": {
        "id": "k8Yi3PZmHRz0",
        "colab_type": "code",
        "colab": {}
      },
      "source": [
        "logit_pca_grid_C = fittedgrid_pca.cv_results_['param_model__C'].data\n",
        "\n",
        "logit_pca_grid_penalty =fittedgrid_pca.cv_results_['param_model__penalty'].data\n",
        "\n",
        "logit_pca_grid_score = fittedgrid_pca.cv_results_['mean_test_score']\n",
        "\n",
        "logit_pca_grid_n_components = fittedgrid_pca.cv_results_['param_pca__n_components'].data"
      ],
      "execution_count": 0,
      "outputs": []
    },
    {
      "cell_type": "code",
      "metadata": {
        "id": "K5GSTyVjHRz2",
        "colab_type": "code",
        "outputId": "4df1d165-ae5e-491f-9c42-0e6ce8685754",
        "colab": {
          "base_uri": "https://localhost:8080/",
          "height": 204
        }
      },
      "source": [
        "df_logit_pca = pd.DataFrame({'C': logit_pca_grid_C,\n",
        "                             'penalty': logit_pca_grid_penalty,\n",
        "                             'n_components': logit_pca_grid_n_components,\n",
        "                             'score': logit_pca_grid_score})\n",
        "df_logit_pca.head()"
      ],
      "execution_count": 0,
      "outputs": [
        {
          "output_type": "execute_result",
          "data": {
            "text/html": [
              "<div>\n",
              "<style scoped>\n",
              "    .dataframe tbody tr th:only-of-type {\n",
              "        vertical-align: middle;\n",
              "    }\n",
              "\n",
              "    .dataframe tbody tr th {\n",
              "        vertical-align: top;\n",
              "    }\n",
              "\n",
              "    .dataframe thead th {\n",
              "        text-align: right;\n",
              "    }\n",
              "</style>\n",
              "<table border=\"1\" class=\"dataframe\">\n",
              "  <thead>\n",
              "    <tr style=\"text-align: right;\">\n",
              "      <th></th>\n",
              "      <th>C</th>\n",
              "      <th>penalty</th>\n",
              "      <th>n_components</th>\n",
              "      <th>score</th>\n",
              "    </tr>\n",
              "  </thead>\n",
              "  <tbody>\n",
              "    <tr>\n",
              "      <th>0</th>\n",
              "      <td>1e-06</td>\n",
              "      <td>l1</td>\n",
              "      <td>5</td>\n",
              "      <td>0.650731</td>\n",
              "    </tr>\n",
              "    <tr>\n",
              "      <th>1</th>\n",
              "      <td>1e-06</td>\n",
              "      <td>l1</td>\n",
              "      <td>10</td>\n",
              "      <td>0.650731</td>\n",
              "    </tr>\n",
              "    <tr>\n",
              "      <th>2</th>\n",
              "      <td>1e-06</td>\n",
              "      <td>l1</td>\n",
              "      <td>15</td>\n",
              "      <td>0.650731</td>\n",
              "    </tr>\n",
              "    <tr>\n",
              "      <th>3</th>\n",
              "      <td>1e-06</td>\n",
              "      <td>l1</td>\n",
              "      <td>20</td>\n",
              "      <td>0.650731</td>\n",
              "    </tr>\n",
              "    <tr>\n",
              "      <th>4</th>\n",
              "      <td>1e-06</td>\n",
              "      <td>l1</td>\n",
              "      <td>25</td>\n",
              "      <td>0.650731</td>\n",
              "    </tr>\n",
              "  </tbody>\n",
              "</table>\n",
              "</div>"
            ],
            "text/plain": [
              "       C penalty n_components     score\n",
              "0  1e-06      l1            5  0.650731\n",
              "1  1e-06      l1           10  0.650731\n",
              "2  1e-06      l1           15  0.650731\n",
              "3  1e-06      l1           20  0.650731\n",
              "4  1e-06      l1           25  0.650731"
            ]
          },
          "metadata": {
            "tags": []
          },
          "execution_count": 32
        }
      ]
    },
    {
      "cell_type": "code",
      "metadata": {
        "id": "ao34tcUyHRz9",
        "colab_type": "code",
        "outputId": "e82ebb94-2413-41c0-e9ab-9f3347b6703e",
        "colab": {
          "base_uri": "https://localhost:8080/",
          "height": 408
        }
      },
      "source": [
        "n_PCA = fittedgrid_pca.best_params_['pca__n_components']\n",
        "\n",
        "plt.figure(figsize=(12,6))\n",
        "plt.plot(df_logit_pca[(df_logit_pca['penalty']=='l2') & \n",
        "                      (df_logit_pca['n_components']==n_PCA)]['C'], \n",
        "         df_logit_pca[(df_logit_pca['penalty']=='l2') & \n",
        "                      (df_logit_pca['n_components']==n_PCA)]['score'], 'b--', label='Ridge')\n",
        "plt.plot(df_logit_pca[(df_logit_pca['penalty']=='l1') & \n",
        "                      (df_logit_pca['n_components']==n_PCA)]['C'], \n",
        "         df_logit_pca[(df_logit_pca['penalty']=='l1') & \n",
        "                      (df_logit_pca['n_components']==n_PCA)]['score'], 'r.-', label='LASSO')\n",
        "plt.xscale('log')\n",
        "plt.xlabel('Regularization parameter C')\n",
        "plt.ylabel('Validation score')\n",
        "plt.title('Logistic Regression for 1-Year Survival')\n",
        "plt.legend()\n",
        "plt.show()"
      ],
      "execution_count": 0,
      "outputs": [
        {
          "output_type": "display_data",
          "data": {
            "image/png": "[encoded data removed]",
            "text/plain": [
              "<Figure size 864x432 with 1 Axes>"
            ]
          },
          "metadata": {
            "tags": []
          }
        }
      ]
    },
    {
      "cell_type": "code",
      "metadata": {
        "id": "HloN2XPpHR0C",
        "colab_type": "code",
        "outputId": "f1efd157-ed01-4ec5-b152-f13e836b2f4e",
        "colab": {
          "base_uri": "https://localhost:8080/",
          "height": 404
        }
      },
      "source": [
        "best_C = fittedgrid_pca.best_params_['model__C']\n",
        "\n",
        "plt.figure(figsize=(12,6))\n",
        "plt.plot(df_logit_pca[(df_logit_pca['penalty']=='l2') & \n",
        "                      (df_logit_pca['C']==best_C)]['n_components'], \n",
        "         df_logit_pca[(df_logit_pca['penalty']=='l2') & \n",
        "                      (df_logit_pca['C']==best_C)]['score'], 'b--', label='Ridge')\n",
        "plt.plot(df_logit_pca[(df_logit_pca['penalty']=='l1') & \n",
        "                      (df_logit_pca['C']==best_C)]['n_components'], \n",
        "         df_logit_pca[(df_logit_pca['penalty']=='l1') & \n",
        "                      (df_logit_pca['C']==best_C)]['score'], 'r.-', label='LASSO')\n",
        "plt.xlabel('Number of principal components')\n",
        "plt.ylabel('Validation score')\n",
        "plt.title('Logistic Regression for 1-Year Survival')\n",
        "plt.legend()\n",
        "plt.show()"
      ],
      "execution_count": 0,
      "outputs": [
        {
          "output_type": "display_data",
          "data": {
            "image/png": "[encoded data removed]",
            "text/plain": [
              "<Figure size 864x432 with 1 Axes>"
            ]
          },
          "metadata": {
            "tags": []
          }
        }
      ]
    },
    {
      "cell_type": "code",
      "metadata": {
        "id": "mCYLC3SKHR0F",
        "colab_type": "code",
        "outputId": "8d65e9fe-e2d7-4d27-ecfb-25dd413820ac",
        "colab": {
          "base_uri": "https://localhost:8080/",
          "height": 34
        }
      },
      "source": [
        "fittedgrid_pca.score(X1_train, y1_train)"
      ],
      "execution_count": 0,
      "outputs": [
        {
          "output_type": "execute_result",
          "data": {
            "text/plain": [
              "0.7328767123287672"
            ]
          },
          "metadata": {
            "tags": []
          },
          "execution_count": 35
        }
      ]
    },
    {
      "cell_type": "code",
      "metadata": {
        "id": "lW0dfQlaHR0K",
        "colab_type": "code",
        "outputId": "91d797c0-47da-440f-8b90-19a9b7ba3eab",
        "colab": {
          "base_uri": "https://localhost:8080/",
          "height": 34
        }
      },
      "source": [
        "fittedgrid_pca.score(X1_test, y1_test)"
      ],
      "execution_count": 0,
      "outputs": [
        {
          "output_type": "execute_result",
          "data": {
            "text/plain": [
              "0.626984126984127"
            ]
          },
          "metadata": {
            "tags": []
          },
          "execution_count": 36
        }
      ]
    },
    {
      "cell_type": "code",
      "metadata": {
        "id": "N8PhUkgNHR0O",
        "colab_type": "code",
        "outputId": "b7942d25-734b-4159-a614-0d1958158147",
        "colab": {
          "base_uri": "https://localhost:8080/",
          "height": 170
        }
      },
      "source": [
        "y1_pred_pca = fittedgrid_pca.predict(X1_test)\n",
        "print(classification_report(y1_test, y1_pred_pca))"
      ],
      "execution_count": 0,
      "outputs": [
        {
          "output_type": "stream",
          "text": [
            "              precision    recall  f1-score   support\n",
            "\n",
            "           0       0.48      0.26      0.34        46\n",
            "           1       0.66      0.84      0.74        80\n",
            "\n",
            "    accuracy                           0.63       126\n",
            "   macro avg       0.57      0.55      0.54       126\n",
            "weighted avg       0.60      0.63      0.59       126\n",
            "\n"
          ],
          "name": "stdout"
        }
      ]
    },
    {
      "cell_type": "markdown",
      "metadata": {
        "id": "DAEzQNEzHR0V",
        "colab_type": "text"
      },
      "source": [
        "#### Decision Tree"
      ]
    },
    {
      "cell_type": "code",
      "metadata": {
        "id": "QC0BfZxFHR0a",
        "colab_type": "code",
        "outputId": "2f826ba6-6784-48d9-a007-5274b5b92cbb",
        "colab": {
          "base_uri": "https://localhost:8080/",
          "height": 34
        }
      },
      "source": [
        "estimators = [('pca', PCA()),\n",
        "              ('model', DecisionTreeClassifier())]\n",
        "\n",
        "pipe = Pipeline(estimators)\n",
        "\n",
        "param_grid = [{'pca': [PCA()],\n",
        "               'model': [DecisionTreeClassifier()],\n",
        "               'model__max_depth': [i for i in range(1,11)],\n",
        "               'model__min_samples_leaf': [i for i in range(1,6)],\n",
        "               'pca__n_components': [x for x in range(5,num_feat,5)]}]\n",
        "\n",
        "grid = GridSearchCV(pipe, param_grid, cv=5)\n",
        "fittedgrid = grid.fit(X1_train, y1_train)\n",
        "\n",
        "joblib.dump(fittedgrid, 'dt_pca_1yr.pkl')"
      ],
      "execution_count": 0,
      "outputs": [
        {
          "output_type": "execute_result",
          "data": {
            "text/plain": [
              "['dt_pca_1yr.pkl']"
            ]
          },
          "metadata": {
            "tags": []
          },
          "execution_count": 89
        }
      ]
    },
    {
      "cell_type": "code",
      "metadata": {
        "id": "AaC1-ygtHR0e",
        "colab_type": "code",
        "outputId": "950afc5a-e222-4834-95c9-fecf6de403d1",
        "colab": {
          "base_uri": "https://localhost:8080/",
          "height": 289
        }
      },
      "source": [
        "fittedgrid.best_estimator_"
      ],
      "execution_count": 0,
      "outputs": [
        {
          "output_type": "execute_result",
          "data": {
            "text/plain": [
              "Pipeline(memory=None,\n",
              "         steps=[('pca',\n",
              "                 PCA(copy=True, iterated_power='auto', n_components=20,\n",
              "                     random_state=None, svd_solver='auto', tol=0.0,\n",
              "                     whiten=False)),\n",
              "                ('model',\n",
              "                 DecisionTreeClassifier(ccp_alpha=0.0, class_weight=None,\n",
              "                                        criterion='gini', max_depth=5,\n",
              "                                        max_features=None, max_leaf_nodes=None,\n",
              "                                        min_impurity_decrease=0.0,\n",
              "                                        min_impurity_split=None,\n",
              "                                        min_samples_leaf=3, min_samples_split=2,\n",
              "                                        min_weight_fraction_leaf=0.0,\n",
              "                                        presort='deprecated', random_state=None,\n",
              "                                        splitter='best'))],\n",
              "         verbose=False)"
            ]
          },
          "metadata": {
            "tags": []
          },
          "execution_count": 39
        }
      ]
    },
    {
      "cell_type": "code",
      "metadata": {
        "id": "jN7jhcJ7HR0k",
        "colab_type": "code",
        "outputId": "79676fd0-02bb-41f5-b026-55cfb2734dd9",
        "colab": {
          "base_uri": "https://localhost:8080/",
          "height": 34
        }
      },
      "source": [
        "fittedgrid.best_score_"
      ],
      "execution_count": 0,
      "outputs": [
        {
          "output_type": "execute_result",
          "data": {
            "text/plain": [
              "0.6573348918760958"
            ]
          },
          "metadata": {
            "tags": []
          },
          "execution_count": 40
        }
      ]
    },
    {
      "cell_type": "code",
      "metadata": {
        "id": "xUAqe42bHR0n",
        "colab_type": "code",
        "outputId": "befc9e87-195f-41be-8a3e-eaf3ea6e047a",
        "colab": {
          "base_uri": "https://localhost:8080/",
          "height": 34
        }
      },
      "source": [
        "fittedgrid.score(X1_train, y1_train)"
      ],
      "execution_count": 0,
      "outputs": [
        {
          "output_type": "execute_result",
          "data": {
            "text/plain": [
              "0.7705479452054794"
            ]
          },
          "metadata": {
            "tags": []
          },
          "execution_count": 41
        }
      ]
    },
    {
      "cell_type": "code",
      "metadata": {
        "id": "c7Kg1-poHR0v",
        "colab_type": "code",
        "outputId": "99e2251a-db0d-4b9e-8b52-de7e4c21d38a",
        "colab": {
          "base_uri": "https://localhost:8080/",
          "height": 34
        }
      },
      "source": [
        "fittedgrid.score(X1_test, y1_test)"
      ],
      "execution_count": 0,
      "outputs": [
        {
          "output_type": "execute_result",
          "data": {
            "text/plain": [
              "0.6984126984126984"
            ]
          },
          "metadata": {
            "tags": []
          },
          "execution_count": 42
        }
      ]
    },
    {
      "cell_type": "markdown",
      "metadata": {
        "id": "KqIT1d3oHR1A",
        "colab_type": "text"
      },
      "source": [
        "#### Random Forest"
      ]
    },
    {
      "cell_type": "code",
      "metadata": {
        "id": "XaN3Ke80HR1B",
        "colab_type": "code",
        "outputId": "a4306533-960b-42cb-9cb7-96895a351e19",
        "colab": {
          "base_uri": "https://localhost:8080/",
          "height": 34
        }
      },
      "source": [
        "my_rf = RandomForestClassifier(n_estimators=50, max_depth=5, random_state=32)\n",
        "my_rf.fit(X1_train, y1_train)\n",
        "my_rf.score(X1_train, y1_train)"
      ],
      "execution_count": 0,
      "outputs": [
        {
          "output_type": "execute_result",
          "data": {
            "text/plain": [
              "0.886986301369863"
            ]
          },
          "metadata": {
            "tags": []
          },
          "execution_count": 43
        }
      ]
    },
    {
      "cell_type": "code",
      "metadata": {
        "id": "2H3H47tQHR1H",
        "colab_type": "code",
        "outputId": "96a9857b-dfa9-42f6-ebbb-4e38c06c10fb",
        "colab": {
          "base_uri": "https://localhost:8080/",
          "height": 34
        }
      },
      "source": [
        "my_rf.score(X1_test, y1_test)"
      ],
      "execution_count": 0,
      "outputs": [
        {
          "output_type": "execute_result",
          "data": {
            "text/plain": [
              "0.6349206349206349"
            ]
          },
          "metadata": {
            "tags": []
          },
          "execution_count": 44
        }
      ]
    },
    {
      "cell_type": "code",
      "metadata": {
        "id": "LKGGZUrWHR1L",
        "colab_type": "code",
        "outputId": "22a68389-4a80-419b-8fa7-ced15ab33690",
        "colab": {
          "base_uri": "https://localhost:8080/",
          "height": 170
        }
      },
      "source": [
        "y_pred_rf = my_rf.predict(X1_test)\n",
        "print(classification_report(y1_test, y_pred_rf))"
      ],
      "execution_count": 0,
      "outputs": [
        {
          "output_type": "stream",
          "text": [
            "              precision    recall  f1-score   support\n",
            "\n",
            "           0       0.50      0.28      0.36        46\n",
            "           1       0.67      0.84      0.74        80\n",
            "\n",
            "    accuracy                           0.63       126\n",
            "   macro avg       0.58      0.56      0.55       126\n",
            "weighted avg       0.61      0.63      0.60       126\n",
            "\n"
          ],
          "name": "stdout"
        }
      ]
    },
    {
      "cell_type": "code",
      "metadata": {
        "id": "WyytLKpK9qPw",
        "colab_type": "code",
        "outputId": "20916721-88f9-42e5-e6fe-009d094ff543",
        "colab": {
          "base_uri": "https://localhost:8080/",
          "height": 232
        }
      },
      "source": [
        "estimators = [('pca', PCA()),\n",
        "              ('model', RandomForestClassifier(n_jobs=-1))]\n",
        "\n",
        "pipe = Pipeline(estimators)\n",
        "\n",
        "param_grid = [{'pca': [PCA()],\n",
        "               'model': [RandomForestClassifier(n_jobs=-1)],\n",
        "               'model__n_estimators': [i for i in range(10,110,10)],\n",
        "               'model__max_depth': [i for i in range(1,11)],\n",
        "               'model__min_samples_leaf': [i for i in range(1,6)],\n",
        "               'pca__n_components': [x for x in range(5,num_feat,5)]}]\n",
        "\n",
        "grid = GridSearchCV(pipe, param_grid, cv=5)\n",
        "fittedgrid = grid.fit(X1_train, y1_train)\n",
        "\n",
        "joblib.dump(fittedgrid, 'rf_pca_1yr.pkl')"
      ],
      "execution_count": 0,
      "outputs": [
        {
          "output_type": "error",
          "ename": "NameError",
          "evalue": "ignored",
          "traceback": [
            "\u001b[0;31m---------------------------------------------------------------------------\u001b[0m",
            "\u001b[0;31mNameError\u001b[0m                                 Traceback (most recent call last)",
            "\u001b[0;32m<ipython-input-56-9e2348a899a2>\u001b[0m in \u001b[0;36m<module>\u001b[0;34m()\u001b[0m\n\u001b[1;32m     12\u001b[0m \u001b[0;34m\u001b[0m\u001b[0m\n\u001b[1;32m     13\u001b[0m \u001b[0mgrid\u001b[0m \u001b[0;34m=\u001b[0m \u001b[0mGridSearchCV\u001b[0m\u001b[0;34m(\u001b[0m\u001b[0mpipe\u001b[0m\u001b[0;34m,\u001b[0m \u001b[0mparam_grid\u001b[0m\u001b[0;34m,\u001b[0m \u001b[0mcv\u001b[0m\u001b[0;34m=\u001b[0m\u001b[0;36m5\u001b[0m\u001b[0;34m)\u001b[0m\u001b[0;34m\u001b[0m\u001b[0;34m\u001b[0m\u001b[0m\n\u001b[0;32m---> 14\u001b[0;31m \u001b[0mfittedgrid\u001b[0m \u001b[0;34m=\u001b[0m \u001b[0mgrid\u001b[0m\u001b[0;34m.\u001b[0m\u001b[0mfit\u001b[0m\u001b[0;34m(\u001b[0m\u001b[0mX1_train\u001b[0m\u001b[0;34m,\u001b[0m \u001b[0my1_train\u001b[0m\u001b[0;34m)\u001b[0m\u001b[0;34m\u001b[0m\u001b[0;34m\u001b[0m\u001b[0m\n\u001b[0m\u001b[1;32m     15\u001b[0m \u001b[0;34m\u001b[0m\u001b[0m\n\u001b[1;32m     16\u001b[0m \u001b[0mjoblib\u001b[0m\u001b[0;34m.\u001b[0m\u001b[0mdump\u001b[0m\u001b[0;34m(\u001b[0m\u001b[0mfittedgrid\u001b[0m\u001b[0;34m,\u001b[0m \u001b[0;34m'rf_pca_1yr.pkl'\u001b[0m\u001b[0;34m)\u001b[0m\u001b[0;34m\u001b[0m\u001b[0;34m\u001b[0m\u001b[0m\n",
            "\u001b[0;31mNameError\u001b[0m: name 'X1_train' is not defined"
          ]
        }
      ]
    },
    {
      "cell_type": "code",
      "metadata": {
        "id": "ym2LTlOa-Ij2",
        "colab_type": "code",
        "colab": {}
      },
      "source": [
        "fittedgrid.best_score_"
      ],
      "execution_count": 0,
      "outputs": []
    },
    {
      "cell_type": "code",
      "metadata": {
        "id": "y1rZ5Jzm-Mo8",
        "colab_type": "code",
        "colab": {}
      },
      "source": [
        "fittedgrid.best_estimator_"
      ],
      "execution_count": 0,
      "outputs": []
    },
    {
      "cell_type": "code",
      "metadata": {
        "id": "w3BDEiFQ-O2W",
        "colab_type": "code",
        "colab": {}
      },
      "source": [
        "fittedgrid.score(X1_train, y1_train)"
      ],
      "execution_count": 0,
      "outputs": []
    },
    {
      "cell_type": "code",
      "metadata": {
        "id": "Sp8Jf5HG-S6J",
        "colab_type": "code",
        "colab": {}
      },
      "source": [
        "fittedgrid.score(X1_test, y1_test)"
      ],
      "execution_count": 0,
      "outputs": []
    },
    {
      "cell_type": "markdown",
      "metadata": {
        "id": "GtdLIAmFHR1T",
        "colab_type": "text"
      },
      "source": [
        "#### XGBoost decision tree"
      ]
    },
    {
      "cell_type": "code",
      "metadata": {
        "id": "Pg0GR1xyHR1U",
        "colab_type": "code",
        "outputId": "481a65c9-8f28-46c4-cbe8-1073d7e5cba7",
        "colab": {
          "base_uri": "https://localhost:8080/",
          "height": 34
        }
      },
      "source": [
        "estimators = [('pca', PCA()),\n",
        "              ('model', XGBClassifier(n_jobs=-1))]\n",
        "\n",
        "pipe = Pipeline(estimators)\n",
        "\n",
        "param_grid = [{'pca': [PCA()],\n",
        "               'pca__n_components': [x for x in range(5,num_feat,5)],\n",
        "               'model': [XGBClassifier(n_jobs=-1)], \n",
        "               'model__max_depth': [i for i in range(1,11)],\n",
        "               'model__n_estimators': [i for i in range(10,160,10)]}]\n",
        "\n",
        "grid = GridSearchCV(pipe, param_grid, cv=5, n_jobs=-1)\n",
        "fittedgrid = grid.fit(X1_train, y1_train)\n",
        "\n",
        "joblib.dump(fittedgrid, 'xgb_pca_1yr.pkl')"
      ],
      "execution_count": 0,
      "outputs": [
        {
          "output_type": "execute_result",
          "data": {
            "text/plain": [
              "['xgb_pca_1yr.pkl']"
            ]
          },
          "metadata": {
            "tags": []
          },
          "execution_count": 46
        }
      ]
    },
    {
      "cell_type": "code",
      "metadata": {
        "id": "8JBReR6FHR1X",
        "colab_type": "code",
        "outputId": "44ede5eb-7577-4d67-c384-a591e1e2453c",
        "colab": {
          "base_uri": "https://localhost:8080/",
          "height": 306
        }
      },
      "source": [
        "fittedgrid.best_estimator_"
      ],
      "execution_count": 0,
      "outputs": [
        {
          "output_type": "execute_result",
          "data": {
            "text/plain": [
              "Pipeline(memory=None,\n",
              "         steps=[('pca',\n",
              "                 PCA(copy=True, iterated_power='auto', n_components=75,\n",
              "                     random_state=None, svd_solver='auto', tol=0.0,\n",
              "                     whiten=False)),\n",
              "                ('model',\n",
              "                 XGBClassifier(base_score=0.5, booster='gbtree',\n",
              "                               colsample_bylevel=1, colsample_bynode=1,\n",
              "                               colsample_bytree=1, gamma=0, learning_rate=0.1,\n",
              "                               max_delta_step=0, max_depth=3,\n",
              "                               min_child_weight=1, missing=None,\n",
              "                               n_estimators=30, n_jobs=1, nthread=None,\n",
              "                               objective='binary:logistic', random_state=0,\n",
              "                               reg_alpha=0, reg_lambda=1, scale_pos_weight=1,\n",
              "                               seed=None, silent=None, subsample=1,\n",
              "                               verbosity=1))],\n",
              "         verbose=False)"
            ]
          },
          "metadata": {
            "tags": []
          },
          "execution_count": 47
        }
      ]
    },
    {
      "cell_type": "code",
      "metadata": {
        "id": "ibHrmhhUHR1a",
        "colab_type": "code",
        "outputId": "0daf3f77-ffcd-48f0-ea72-1563bb0c0fb6",
        "colab": {
          "base_uri": "https://localhost:8080/",
          "height": 34
        }
      },
      "source": [
        "fittedgrid.best_score_"
      ],
      "execution_count": 0,
      "outputs": [
        {
          "output_type": "execute_result",
          "data": {
            "text/plain": [
              "0.6850964348334307"
            ]
          },
          "metadata": {
            "tags": []
          },
          "execution_count": 48
        }
      ]
    },
    {
      "cell_type": "code",
      "metadata": {
        "id": "N_B9jvkXHR1g",
        "colab_type": "code",
        "outputId": "2c808063-c8d5-4967-fba8-dae3d94c81cc",
        "colab": {
          "base_uri": "https://localhost:8080/",
          "height": 34
        }
      },
      "source": [
        "fittedgrid.score(X1_train, y1_train)"
      ],
      "execution_count": 0,
      "outputs": [
        {
          "output_type": "execute_result",
          "data": {
            "text/plain": [
              "0.934931506849315"
            ]
          },
          "metadata": {
            "tags": []
          },
          "execution_count": 49
        }
      ]
    },
    {
      "cell_type": "code",
      "metadata": {
        "id": "RXxVCfDJHR1k",
        "colab_type": "code",
        "outputId": "96a8e29f-7832-4bca-c826-8bbec9faef26",
        "colab": {
          "base_uri": "https://localhost:8080/",
          "height": 34
        }
      },
      "source": [
        "fittedgrid.score(X1_test, y1_test)"
      ],
      "execution_count": 0,
      "outputs": [
        {
          "output_type": "execute_result",
          "data": {
            "text/plain": [
              "0.626984126984127"
            ]
          },
          "metadata": {
            "tags": []
          },
          "execution_count": 50
        }
      ]
    },
    {
      "cell_type": "code",
      "metadata": {
        "id": "8oQouloQHR1o",
        "colab_type": "code",
        "colab": {}
      },
      "source": [
        "xgb_grid_maxdepth = fittedgrid.cv_results_['param_model__max_depth'].data\n",
        "xgb_grid_n_estimators = fittedgrid.cv_results_['param_model__n_estimators'].data\n",
        "xgb_grid_n_components = fittedgrid.cv_results_['param_pca__n_components'].data\n",
        "xgb_grid_score = fittedgrid.cv_results_['mean_test_score']"
      ],
      "execution_count": 0,
      "outputs": []
    },
    {
      "cell_type": "code",
      "metadata": {
        "id": "uMJ34ZkqHR1q",
        "colab_type": "code",
        "colab": {}
      },
      "source": [
        "df_xgb = pd.DataFrame({'max_depth': xgb_grid_maxdepth,\n",
        "                       'n_estimators': xgb_grid_n_estimators,\n",
        "                       'n_components': xgb_grid_n_components,\n",
        "                       'score': xgb_grid_score})"
      ],
      "execution_count": 0,
      "outputs": []
    },
    {
      "cell_type": "code",
      "metadata": {
        "id": "uN9ZiSgrHR1t",
        "colab_type": "code",
        "outputId": "5cb7d004-a47a-4ef3-b48c-a41660789ef7",
        "colab": {
          "base_uri": "https://localhost:8080/",
          "height": 295
        }
      },
      "source": [
        "xgb_n_est = fittedgrid.best_params_['model__n_estimators']\n",
        "xgb_n_comp = fittedgrid.best_params_['pca__n_components']\n",
        "\n",
        "plt.figure()\n",
        "plt.plot(df_xgb[(df_xgb['n_estimators']==xgb_n_est) &\n",
        "                (df_xgb['n_components']==xgb_n_comp)]['max_depth'], \n",
        "         df_xgb[(df_xgb['n_estimators']==xgb_n_est) &\n",
        "                (df_xgb['n_components']==xgb_n_comp)]['score'], 'b.-')\n",
        "plt.xlabel('Max depth for each tree')\n",
        "plt.ylabel('Validation score')\n",
        "plt.title('XGBoost Decision Tree for 1-Year Survival')\n",
        "plt.show()"
      ],
      "execution_count": 0,
      "outputs": [
        {
          "output_type": "display_data",
          "data": {
            "image/png": "[encoded data removed]",
            "text/plain": [
              "<Figure size 432x288 with 1 Axes>"
            ]
          },
          "metadata": {
            "tags": []
          }
        }
      ]
    },
    {
      "cell_type": "code",
      "metadata": {
        "id": "LARchUpyRKoe",
        "colab_type": "code",
        "outputId": "66fcebe9-990b-453f-c747-06113cd097ef",
        "colab": {
          "base_uri": "https://localhost:8080/",
          "height": 295
        }
      },
      "source": [
        "xgb_max_depth = fittedgrid.best_params_['model__max_depth']\n",
        "\n",
        "plt.figure()\n",
        "plt.plot(df_xgb[(df_xgb['n_estimators']==xgb_n_est) &\n",
        "                (df_xgb['max_depth']==xgb_max_depth)]['n_components'], \n",
        "         df_xgb[(df_xgb['n_estimators']==xgb_n_est) &\n",
        "                (df_xgb['max_depth']==xgb_max_depth)]['score'], 'b.-')\n",
        "plt.xlabel('Number of principal components')\n",
        "plt.ylabel('Validation score')\n",
        "plt.title('XGBoost Decision Tree for 1-Year Survival')\n",
        "plt.show()"
      ],
      "execution_count": 0,
      "outputs": [
        {
          "output_type": "display_data",
          "data": {
            "image/png": "[encoded data removed]",
            "text/plain": [
              "<Figure size 432x288 with 1 Axes>"
            ]
          },
          "metadata": {
            "tags": []
          }
        }
      ]
    },
    {
      "cell_type": "markdown",
      "metadata": {
        "id": "_LoW0GxXHR1y",
        "colab_type": "text"
      },
      "source": [
        "#### Support Vector Machine"
      ]
    },
    {
      "cell_type": "code",
      "metadata": {
        "id": "5fZvTNO-HR1z",
        "colab_type": "code",
        "outputId": "9630072f-915c-435a-f7e6-8bb477f7e150",
        "colab": {
          "base_uri": "https://localhost:8080/",
          "height": 34
        }
      },
      "source": [
        "estimators = [('pca', PCA()),\n",
        "              ('model', SVC())]\n",
        "\n",
        "pipe = Pipeline(estimators)\n",
        "\n",
        "param_grid = [{'pca': [PCA()],\n",
        "               'pca__n_components': [x for x in range(5,num_feat,5)],\n",
        "               'model': [SVC(decision_function_shape='ovo', max_iter=999)], \n",
        "               'model__C': [10**i for i in range(-6,7)],\n",
        "               'model__kernel': ['linear', 'poly', 'rbf', 'sigmoid']}]\n",
        "\n",
        "grid = GridSearchCV(pipe, param_grid, n_jobs=-1, cv=5)\n",
        "fittedgrid = grid.fit(X1_train, y1_train)\n",
        "\n",
        "joblib.dump(fittedgrid, 'svm_pca_1yr.pkl')"
      ],
      "execution_count": 0,
      "outputs": [
        {
          "output_type": "execute_result",
          "data": {
            "text/plain": [
              "['svm_pca_1yr.pkl']"
            ]
          },
          "metadata": {
            "tags": []
          },
          "execution_count": 13
        }
      ]
    },
    {
      "cell_type": "code",
      "metadata": {
        "id": "rBvWZyTNHR12",
        "colab_type": "code",
        "outputId": "eaa653a5-32fe-450a-e836-c087951aecac",
        "colab": {
          "base_uri": "https://localhost:8080/",
          "height": 170
        }
      },
      "source": [
        "fittedgrid.best_params_"
      ],
      "execution_count": 0,
      "outputs": [
        {
          "output_type": "execute_result",
          "data": {
            "text/plain": [
              "{'model': SVC(C=10, break_ties=False, cache_size=200, class_weight=None, coef0=0.0,\n",
              "     decision_function_shape='ovo', degree=3, gamma='scale', kernel='poly',\n",
              "     max_iter=999, probability=False, random_state=None, shrinking=True,\n",
              "     tol=0.001, verbose=False),\n",
              " 'model__C': 10,\n",
              " 'model__kernel': 'poly',\n",
              " 'pca': PCA(copy=True, iterated_power='auto', n_components=5, random_state=None,\n",
              "     svd_solver='auto', tol=0.0, whiten=False),\n",
              " 'pca__n_components': 5}"
            ]
          },
          "metadata": {
            "tags": []
          },
          "execution_count": 56
        }
      ]
    },
    {
      "cell_type": "code",
      "metadata": {
        "id": "n-JVjIeFHR14",
        "colab_type": "code",
        "outputId": "5453611e-5355-47cf-cf80-96a8cbce6838",
        "colab": {
          "base_uri": "https://localhost:8080/",
          "height": 34
        }
      },
      "source": [
        "fittedgrid.best_score_"
      ],
      "execution_count": 0,
      "outputs": [
        {
          "output_type": "execute_result",
          "data": {
            "text/plain": [
              "0.6952074810052601"
            ]
          },
          "metadata": {
            "tags": []
          },
          "execution_count": 57
        }
      ]
    },
    {
      "cell_type": "code",
      "metadata": {
        "id": "sJA3sNhoHR1-",
        "colab_type": "code",
        "outputId": "38a3426a-8e33-4a02-8fb1-dde2597d30a5",
        "colab": {
          "base_uri": "https://localhost:8080/",
          "height": 34
        }
      },
      "source": [
        "fittedgrid.score(X1_test, y1_test)"
      ],
      "execution_count": 0,
      "outputs": [
        {
          "output_type": "execute_result",
          "data": {
            "text/plain": [
              "0.6507936507936508"
            ]
          },
          "metadata": {
            "tags": []
          },
          "execution_count": 58
        }
      ]
    },
    {
      "cell_type": "markdown",
      "metadata": {
        "id": "tkbTHp3jK-3u",
        "colab_type": "text"
      },
      "source": [
        "#### Quadratic Discriminant Analysis"
      ]
    },
    {
      "cell_type": "code",
      "metadata": {
        "id": "fdoNWcllLCMV",
        "colab_type": "code",
        "outputId": "d61fd697-acd9-4a27-c7af-af729e27c69e",
        "colab": {
          "base_uri": "https://localhost:8080/",
          "height": 34
        }
      },
      "source": [
        "my_qda = QuadraticDiscriminantAnalysis()\n",
        "my_qda.fit(X1_train, y1_train)\n",
        "joblib.dump(my_qda, 'qda_1yr.pkl')"
      ],
      "execution_count": 0,
      "outputs": [
        {
          "output_type": "execute_result",
          "data": {
            "text/plain": [
              "['qda_1yr.pkl']"
            ]
          },
          "metadata": {
            "tags": []
          },
          "execution_count": 40
        }
      ]
    },
    {
      "cell_type": "code",
      "metadata": {
        "id": "m1GbCZTUMEIn",
        "colab_type": "code",
        "outputId": "30450b5a-9547-46e5-c6d5-00d28f2b5d58",
        "colab": {
          "base_uri": "https://localhost:8080/",
          "height": 34
        }
      },
      "source": [
        "my_qda.score(X1_train, y1_train)"
      ],
      "execution_count": 0,
      "outputs": [
        {
          "output_type": "execute_result",
          "data": {
            "text/plain": [
              "1.0"
            ]
          },
          "metadata": {
            "tags": []
          },
          "execution_count": 38
        }
      ]
    },
    {
      "cell_type": "code",
      "metadata": {
        "id": "x4rgB-fCMHpw",
        "colab_type": "code",
        "outputId": "828d2b47-18bb-4188-de30-65f4b399b3aa",
        "colab": {
          "base_uri": "https://localhost:8080/",
          "height": 34
        }
      },
      "source": [
        "my_qda.score(X1_test, y1_test)"
      ],
      "execution_count": 0,
      "outputs": [
        {
          "output_type": "execute_result",
          "data": {
            "text/plain": [
              "0.6666666666666666"
            ]
          },
          "metadata": {
            "tags": []
          },
          "execution_count": 39
        }
      ]
    },
    {
      "cell_type": "markdown",
      "metadata": {
        "id": "CGse1MqjHR2G",
        "colab_type": "text"
      },
      "source": [
        "\n",
        "#### Neural network"
      ]
    },
    {
      "cell_type": "markdown",
      "metadata": {
        "id": "ViLTwdMwHR2H",
        "colab_type": "text"
      },
      "source": [
        "For the neural network model, I will use the TensorFlow library:"
      ]
    },
    {
      "cell_type": "code",
      "metadata": {
        "id": "dHM0R7pWHR2K",
        "colab_type": "code",
        "colab": {}
      },
      "source": [
        "input_size = num_feat\n",
        "output_size = 2"
      ],
      "execution_count": 0,
      "outputs": []
    },
    {
      "cell_type": "code",
      "metadata": {
        "id": "axqS0WpnHR2M",
        "colab_type": "code",
        "colab": {}
      },
      "source": [
        "# Make the placeholder variables:\n",
        "input_X = tf.placeholder(tf.float32, shape=(None, input_size))\n",
        "input_y = tf.placeholder(tf.float32, shape=(None, output_size))"
      ],
      "execution_count": 0,
      "outputs": []
    },
    {
      "cell_type": "code",
      "metadata": {
        "id": "lP89dhnYHR2O",
        "colab_type": "code",
        "colab": {}
      },
      "source": [
        "# Size of the hidden dimension\n",
        "num_hidden_1 = 400\n",
        "num_hidden_2 = 400\n",
        "\n",
        "# Hidden Unit activations 1\n",
        "W1 = tf.Variable(tf.random_normal([input_size, num_hidden_1]))\n",
        "b1 = tf.Variable(tf.random_normal([num_hidden_1])) #bias\n",
        "hidden_output_1 = tf.nn.elu(tf.add(tf.matmul(input_X,W1), b1)) # Relu for hidden layer\n",
        "\n",
        "# Hidden Unit activations 2\n",
        "W2 = tf.Variable(tf.random_normal([num_hidden_1, num_hidden_2]))\n",
        "b2 = tf.Variable(tf.random_normal([num_hidden_2])) #bias\n",
        "hidden_output_2 = tf.nn.elu(tf.add(tf.matmul(hidden_output_1,W2), b2)) # Relu for hidden layer\n",
        "\n",
        "# Output Unit activations\n",
        "W3 = tf.Variable(tf.random_normal([num_hidden_2, output_size]))\n",
        "b3 = tf.Variable(tf.random_normal([output_size]))\n",
        "net_output = tf.nn.softmax(tf.add( tf.matmul(hidden_output_2, W3), b3)) # Softmax for output layer"
      ],
      "execution_count": 0,
      "outputs": []
    },
    {
      "cell_type": "code",
      "metadata": {
        "id": "yZaazeD8UA3e",
        "colab_type": "code",
        "colab": {}
      },
      "source": [
        "encoder = LabelBinarizer()\n",
        "\n",
        "one_hot_encoder = encoder.fit(list(y1_train))\n",
        "y1_np_train = one_hot_encoder.transform(y1_train)\n",
        "y1_np_test = one_hot_encoder.transform(y1_test)\n",
        "y1_np_train = np.hstack((y1_np_train, 1 - y1_np_train))\n",
        "y1_np_test = np.hstack((y1_np_test, 1 - y1_np_test))"
      ],
      "execution_count": 0,
      "outputs": []
    },
    {
      "cell_type": "code",
      "metadata": {
        "id": "28WcBdqrl2h4",
        "colab_type": "code",
        "outputId": "d902740c-459e-4a55-97f5-58db9c14d994",
        "colab": {
          "base_uri": "https://localhost:8080/",
          "height": 34
        }
      },
      "source": [
        "y1_np_train.shape"
      ],
      "execution_count": 0,
      "outputs": [
        {
          "output_type": "execute_result",
          "data": {
            "text/plain": [
              "(292, 2)"
            ]
          },
          "metadata": {
            "tags": []
          },
          "execution_count": 25
        }
      ]
    },
    {
      "cell_type": "code",
      "metadata": {
        "id": "Ji1PeXEJHR2R",
        "colab_type": "code",
        "colab": {}
      },
      "source": [
        "# Use cross entropy loss (we're doing classification)\n",
        "# This is where we link our network to the objective function.\n",
        "loss = tf.losses.softmax_cross_entropy(input_y, net_output)\n",
        "\n",
        "# Get accuracy measure\n",
        "# acc will store the accuracy score of the true labels and our net output\n",
        "acc, acc_op = tf.metrics.accuracy(labels=tf.argmax(input_y, 1), predictions=tf.argmax(net_output, 1))\n",
        "\n",
        "# Use gradient descent with a learning rate of 0.1\n",
        "optimizer = tf.train.GradientDescentOptimizer(0.1)\n",
        "\n",
        "# Objective is minimize the loss\n",
        "train = optimizer.minimize(loss)"
      ],
      "execution_count": 0,
      "outputs": []
    },
    {
      "cell_type": "code",
      "metadata": {
        "id": "WLpne3RwHR2I",
        "colab_type": "code",
        "colab": {}
      },
      "source": [
        "# Open a TensorFlow session\n",
        "sess = tf.Session()\n",
        "init = tf.group(tf.global_variables_initializer(), tf.local_variables_initializer())\n",
        "sess.run(init)"
      ],
      "execution_count": 0,
      "outputs": []
    },
    {
      "cell_type": "code",
      "metadata": {
        "id": "X3DiN4bqHR2Z",
        "colab_type": "code",
        "outputId": "c2b79e0e-29e3-43df-cfe3-4d839426fdb8",
        "colab": {
          "base_uri": "https://localhost:8080/",
          "height": 374
        }
      },
      "source": [
        "epochs = 20000\n",
        "\n",
        "# Each epoch is one pass through the data\n",
        "for epoch in range(epochs):\n",
        "    \n",
        "    # Update the network.\n",
        "    # feed_dict passes in the input for training\n",
        "    # train linkes the session to the network\n",
        "    sess.run(train, feed_dict={input_X: X1_train, input_y: y1_np_train})\n",
        "    \n",
        "    if epoch % 1000 == 0 :\n",
        "        # Get the training loss\n",
        "        training_loss = sess.run(loss, feed_dict={input_X: X1_train, input_y: y1_np_train})\n",
        "        \n",
        "        score = sess.run([acc, acc_op], feed_dict={input_X: X1_train, input_y: y1_np_train})\n",
        "        print(f'Epoch: {epoch}, Loss: {training_loss:.3f}, Accuracy: {score[1]:.3f}')\n",
        "\n",
        "# run session to calculate the accuracy score on test set\n",
        "test_acc,_ = sess.run([acc, acc_op], feed_dict={input_X: X1_test, input_y: y1_np_test})\n",
        "print(test_acc)"
      ],
      "execution_count": 0,
      "outputs": [
        {
          "output_type": "stream",
          "text": [
            "Epoch: 0, Loss: 0.717, Accuracy: 0.596\n",
            "Epoch: 1000, Loss: 0.717, Accuracy: 0.596\n",
            "Epoch: 2000, Loss: 0.717, Accuracy: 0.596\n",
            "Epoch: 3000, Loss: 0.717, Accuracy: 0.596\n",
            "Epoch: 4000, Loss: 0.717, Accuracy: 0.596\n",
            "Epoch: 5000, Loss: 0.717, Accuracy: 0.596\n",
            "Epoch: 6000, Loss: 0.717, Accuracy: 0.596\n",
            "Epoch: 7000, Loss: 0.717, Accuracy: 0.596\n",
            "Epoch: 8000, Loss: 0.717, Accuracy: 0.596\n",
            "Epoch: 9000, Loss: 0.717, Accuracy: 0.596\n",
            "Epoch: 10000, Loss: 0.717, Accuracy: 0.596\n",
            "Epoch: 11000, Loss: 0.717, Accuracy: 0.596\n",
            "Epoch: 12000, Loss: 0.717, Accuracy: 0.596\n",
            "Epoch: 13000, Loss: 0.717, Accuracy: 0.596\n",
            "Epoch: 14000, Loss: 0.717, Accuracy: 0.596\n",
            "Epoch: 15000, Loss: 0.717, Accuracy: 0.596\n",
            "Epoch: 16000, Loss: 0.717, Accuracy: 0.596\n",
            "Epoch: 17000, Loss: 0.717, Accuracy: 0.596\n",
            "Epoch: 18000, Loss: 0.717, Accuracy: 0.596\n",
            "Epoch: 19000, Loss: 0.717, Accuracy: 0.596\n",
            "0.5958904\n"
          ],
          "name": "stdout"
        }
      ]
    },
    {
      "cell_type": "markdown",
      "metadata": {
        "id": "sM0py4I-HR2c",
        "colab_type": "text"
      },
      "source": [
        "---"
      ]
    },
    {
      "cell_type": "markdown",
      "metadata": {
        "id": "8f2HJvXnHR2d",
        "colab_type": "text"
      },
      "source": [
        "### 3-year analysis\n",
        "For the patients surviving for more than 3 years"
      ]
    },
    {
      "cell_type": "code",
      "metadata": {
        "id": "_1HSPdT_HR2e",
        "colab_type": "code",
        "colab": {}
      },
      "source": [
        "X3 = df_tf[mask_3yr | dead][df_tf.columns[feat_mask]]\n",
        "y3 = (df_tf[mask_3yr | dead]['Survival.time'] > 3*365).astype(int)\n",
        "\n",
        "X3 = X3.astype(float)"
      ],
      "execution_count": 0,
      "outputs": []
    },
    {
      "cell_type": "code",
      "metadata": {
        "id": "sFsenefMHR2j",
        "colab_type": "code",
        "outputId": "670b7850-6592-4853-f01e-d17b2241149a",
        "colab": {
          "base_uri": "https://localhost:8080/",
          "height": 34
        }
      },
      "source": [
        "y3.shape"
      ],
      "execution_count": 0,
      "outputs": [
        {
          "output_type": "execute_result",
          "data": {
            "text/plain": [
              "(418,)"
            ]
          },
          "metadata": {
            "tags": []
          },
          "execution_count": 13
        }
      ]
    },
    {
      "cell_type": "code",
      "metadata": {
        "id": "qGU3X40QHR2o",
        "colab_type": "code",
        "colab": {}
      },
      "source": [
        "X3_train, X3_test, y3_train, y3_test = train_test_split(X3, y3, test_size=0.3, random_state=1)"
      ],
      "execution_count": 0,
      "outputs": []
    },
    {
      "cell_type": "code",
      "metadata": {
        "id": "Dac_qk1RHR2r",
        "colab_type": "code",
        "outputId": "d8103207-b3de-450f-895b-81936326b94b",
        "colab": {
          "base_uri": "https://localhost:8080/",
          "height": 68
        }
      },
      "source": [
        "y3_train.value_counts()"
      ],
      "execution_count": 0,
      "outputs": [
        {
          "output_type": "execute_result",
          "data": {
            "text/plain": [
              "0    203\n",
              "1     89\n",
              "Name: Survival.time, dtype: int64"
            ]
          },
          "metadata": {
            "tags": []
          },
          "execution_count": 15
        }
      ]
    },
    {
      "cell_type": "code",
      "metadata": {
        "id": "HScjSMOFHR2t",
        "colab_type": "code",
        "colab": {}
      },
      "source": [
        "my_scaler3 = StandardScaler()\n",
        "X3_train = my_scaler3.fit_transform(X3_train)\n",
        "X3_test = my_scaler3.transform(X3_test)"
      ],
      "execution_count": 0,
      "outputs": []
    },
    {
      "cell_type": "markdown",
      "metadata": {
        "id": "xlRsuOkpTNF8",
        "colab_type": "text"
      },
      "source": [
        "#### Logistic Regression"
      ]
    },
    {
      "cell_type": "code",
      "metadata": {
        "id": "VixmG3v8HR2w",
        "colab_type": "code",
        "outputId": "3b0b6beb-0bc9-4f79-bd72-5e6b10dc08ca",
        "colab": {
          "base_uri": "https://localhost:8080/",
          "height": 34
        }
      },
      "source": [
        "my_logit3 = LogisticRegression()\n",
        "my_logit3.fit(X3_train, y3_train)\n",
        "my_logit3.score(X3_train, y3_train)"
      ],
      "execution_count": 0,
      "outputs": [
        {
          "output_type": "execute_result",
          "data": {
            "text/plain": [
              "0.7568493150684932"
            ]
          },
          "metadata": {
            "tags": []
          },
          "execution_count": 73
        }
      ]
    },
    {
      "cell_type": "code",
      "metadata": {
        "id": "ZmP66DL4HR21",
        "colab_type": "code",
        "outputId": "4a880e60-5a00-402f-c5b0-5aa99e2ae2d8",
        "colab": {
          "base_uri": "https://localhost:8080/",
          "height": 34
        }
      },
      "source": [
        "estimators = [('pca', PCA()),\n",
        "              ('model', LogisticRegression())]\n",
        "\n",
        "pipe = Pipeline(estimators)\n",
        "\n",
        "param_grid = [{'pca': [PCA()],\n",
        "               'pca__n_components': [x for x in range(5,num_feat,5)],\n",
        "               'model': [LogisticRegression(solver='saga')], \n",
        "               'model__C': [10**i for i in range(-6,7)],\n",
        "               'model__penalty': ['l1', 'l2']}]\n",
        "\n",
        "grid = GridSearchCV(pipe, param_grid, n_jobs=-1, cv=5)\n",
        "fittedgrid3 = grid.fit(X3_train, y3_train)\n",
        "\n",
        "joblib.dump(fittedgrid3, 'logreg_3yr.pkl')"
      ],
      "execution_count": 0,
      "outputs": [
        {
          "output_type": "execute_result",
          "data": {
            "text/plain": [
              "['logreg_3yr.pkl']"
            ]
          },
          "metadata": {
            "tags": []
          },
          "execution_count": 74
        }
      ]
    },
    {
      "cell_type": "code",
      "metadata": {
        "id": "J2z9nKDqHR23",
        "colab_type": "code",
        "outputId": "520320ee-98c3-4321-98f2-cbfc5f3e411c",
        "colab": {
          "base_uri": "https://localhost:8080/",
          "height": 255
        }
      },
      "source": [
        "fittedgrid3.best_estimator_"
      ],
      "execution_count": 0,
      "outputs": [
        {
          "output_type": "execute_result",
          "data": {
            "text/plain": [
              "Pipeline(memory=None,\n",
              "         steps=[('pca',\n",
              "                 PCA(copy=True, iterated_power='auto', n_components=5,\n",
              "                     random_state=None, svd_solver='auto', tol=0.0,\n",
              "                     whiten=False)),\n",
              "                ('model',\n",
              "                 LogisticRegression(C=1e-06, class_weight=None, dual=False,\n",
              "                                    fit_intercept=True, intercept_scaling=1,\n",
              "                                    l1_ratio=None, max_iter=100,\n",
              "                                    multi_class='auto', n_jobs=None,\n",
              "                                    penalty='l1', random_state=None,\n",
              "                                    solver='saga', tol=0.0001, verbose=0,\n",
              "                                    warm_start=False))],\n",
              "         verbose=False)"
            ]
          },
          "metadata": {
            "tags": []
          },
          "execution_count": 75
        }
      ]
    },
    {
      "cell_type": "code",
      "metadata": {
        "id": "B6EXctJdHR25",
        "colab_type": "code",
        "outputId": "4e5660a3-81e3-4034-b987-8788e27f5d7a",
        "colab": {
          "base_uri": "https://localhost:8080/",
          "height": 34
        }
      },
      "source": [
        "fittedgrid3.best_score_"
      ],
      "execution_count": 0,
      "outputs": [
        {
          "output_type": "execute_result",
          "data": {
            "text/plain": [
              "0.6952074810052601"
            ]
          },
          "metadata": {
            "tags": []
          },
          "execution_count": 76
        }
      ]
    },
    {
      "cell_type": "code",
      "metadata": {
        "id": "LsGiJVi7HR3C",
        "colab_type": "code",
        "outputId": "94cb7272-250c-4aa2-f091-458b1cba814c",
        "colab": {
          "base_uri": "https://localhost:8080/",
          "height": 34
        }
      },
      "source": [
        "my_logit3.score(X3_test, y3_test)"
      ],
      "execution_count": 0,
      "outputs": [
        {
          "output_type": "execute_result",
          "data": {
            "text/plain": [
              "0.7142857142857143"
            ]
          },
          "metadata": {
            "tags": []
          },
          "execution_count": 77
        }
      ]
    },
    {
      "cell_type": "code",
      "metadata": {
        "id": "bLq7zAf7HR3I",
        "colab_type": "code",
        "outputId": "3d663958-9edd-4044-e6b9-23b96f77ae41",
        "colab": {
          "base_uri": "https://localhost:8080/",
          "height": 34
        }
      },
      "source": [
        "fittedgrid3.score(X3_test, y3_test)"
      ],
      "execution_count": 0,
      "outputs": [
        {
          "output_type": "execute_result",
          "data": {
            "text/plain": [
              "0.6746031746031746"
            ]
          },
          "metadata": {
            "tags": []
          },
          "execution_count": 78
        }
      ]
    },
    {
      "cell_type": "markdown",
      "metadata": {
        "id": "7QBA0na8TRvG",
        "colab_type": "text"
      },
      "source": [
        "#### Decision Tree"
      ]
    },
    {
      "cell_type": "code",
      "metadata": {
        "id": "Y8OJYPfcHR3K",
        "colab_type": "code",
        "outputId": "cdce540f-b932-4c1c-95a7-bec8ece66a5a",
        "colab": {
          "base_uri": "https://localhost:8080/",
          "height": 34
        }
      },
      "source": [
        "my_dt3 = DecisionTreeClassifier(max_depth=5)\n",
        "my_dt3.fit(X3_train, y3_train)\n",
        "my_dt3.score(X3_train, y3_train)"
      ],
      "execution_count": 0,
      "outputs": [
        {
          "output_type": "execute_result",
          "data": {
            "text/plain": [
              "0.839041095890411"
            ]
          },
          "metadata": {
            "tags": []
          },
          "execution_count": 79
        }
      ]
    },
    {
      "cell_type": "code",
      "metadata": {
        "id": "UcmYvvhsHR3M",
        "colab_type": "code",
        "outputId": "a9e8e4ad-dbd6-40b4-a670-e4a0263232c3",
        "colab": {
          "base_uri": "https://localhost:8080/",
          "height": 34
        }
      },
      "source": [
        "my_dt3.score(X3_test, y3_test)"
      ],
      "execution_count": 0,
      "outputs": [
        {
          "output_type": "execute_result",
          "data": {
            "text/plain": [
              "0.6666666666666666"
            ]
          },
          "metadata": {
            "tags": []
          },
          "execution_count": 80
        }
      ]
    },
    {
      "cell_type": "code",
      "metadata": {
        "id": "LVeiItJpHR3O",
        "colab_type": "code",
        "outputId": "7ba64183-b94f-494a-bdbe-16d10e447f4b",
        "colab": {
          "base_uri": "https://localhost:8080/",
          "height": 34
        }
      },
      "source": [
        "estimators = [('pca', PCA()),\n",
        "              ('model', DecisionTreeClassifier())]\n",
        "\n",
        "pipe = Pipeline(estimators)\n",
        "\n",
        "param_grid = [{'pca': [PCA()],\n",
        "               'pca__n_components': [x for x in range(5,num_feat,5)],\n",
        "               'model': [DecisionTreeClassifier()], \n",
        "               'model__max_depth': [i for i in range(1,11)],\n",
        "               'model__min_samples_leaf': [i for i in range(1,11)]}]\n",
        "\n",
        "grid = GridSearchCV(pipe, param_grid, n_jobs=-1, cv=5)\n",
        "fittedgrid3 = grid.fit(X3_train, y3_train)\n",
        "\n",
        "joblib.dump(fittedgrid3, 'dt_3yr.pkl')"
      ],
      "execution_count": 0,
      "outputs": [
        {
          "output_type": "execute_result",
          "data": {
            "text/plain": [
              "['dt_3yr.pkl']"
            ]
          },
          "metadata": {
            "tags": []
          },
          "execution_count": 81
        }
      ]
    },
    {
      "cell_type": "code",
      "metadata": {
        "id": "mvObKgJgHR3P",
        "colab_type": "code",
        "outputId": "44ed5b84-8edf-4bd5-e056-f4e21fd4e58e",
        "colab": {
          "base_uri": "https://localhost:8080/",
          "height": 289
        }
      },
      "source": [
        "fittedgrid3.best_estimator_"
      ],
      "execution_count": 0,
      "outputs": [
        {
          "output_type": "execute_result",
          "data": {
            "text/plain": [
              "Pipeline(memory=None,\n",
              "         steps=[('pca',\n",
              "                 PCA(copy=True, iterated_power='auto', n_components=15,\n",
              "                     random_state=None, svd_solver='auto', tol=0.0,\n",
              "                     whiten=False)),\n",
              "                ('model',\n",
              "                 DecisionTreeClassifier(ccp_alpha=0.0, class_weight=None,\n",
              "                                        criterion='gini', max_depth=2,\n",
              "                                        max_features=None, max_leaf_nodes=None,\n",
              "                                        min_impurity_decrease=0.0,\n",
              "                                        min_impurity_split=None,\n",
              "                                        min_samples_leaf=7, min_samples_split=2,\n",
              "                                        min_weight_fraction_leaf=0.0,\n",
              "                                        presort='deprecated', random_state=None,\n",
              "                                        splitter='best'))],\n",
              "         verbose=False)"
            ]
          },
          "metadata": {
            "tags": []
          },
          "execution_count": 82
        }
      ]
    },
    {
      "cell_type": "code",
      "metadata": {
        "id": "Dw4vtkZaHR3R",
        "colab_type": "code",
        "outputId": "5a0f75a0-232c-463b-d4cd-8c4d30203893",
        "colab": {
          "base_uri": "https://localhost:8080/",
          "height": 34
        }
      },
      "source": [
        "fittedgrid3.best_score_"
      ],
      "execution_count": 0,
      "outputs": [
        {
          "output_type": "execute_result",
          "data": {
            "text/plain": [
              "0.6988310929281123"
            ]
          },
          "metadata": {
            "tags": []
          },
          "execution_count": 83
        }
      ]
    },
    {
      "cell_type": "code",
      "metadata": {
        "id": "-j5IHmQSHR3U",
        "colab_type": "code",
        "outputId": "d4fc52fa-e8d8-47a3-c012-7e5470942580",
        "colab": {
          "base_uri": "https://localhost:8080/",
          "height": 34
        }
      },
      "source": [
        "fittedgrid3.score(X3_test, y3_test)"
      ],
      "execution_count": 0,
      "outputs": [
        {
          "output_type": "execute_result",
          "data": {
            "text/plain": [
              "0.6746031746031746"
            ]
          },
          "metadata": {
            "tags": []
          },
          "execution_count": 84
        }
      ]
    },
    {
      "cell_type": "markdown",
      "metadata": {
        "id": "f-1OwEjTTUvs",
        "colab_type": "text"
      },
      "source": [
        "#### Random Forest"
      ]
    },
    {
      "cell_type": "code",
      "metadata": {
        "id": "XBIZ4MJ6HR3W",
        "colab_type": "code",
        "outputId": "2d60b8f7-794d-4d5a-c677-c459304fa5cd",
        "colab": {
          "base_uri": "https://localhost:8080/",
          "height": 34
        }
      },
      "source": [
        "my_rf3 = RandomForestClassifier(n_estimators=50, max_depth=5, random_state=32)\n",
        "my_rf3.fit(X3_train, y3_train)\n",
        "my_rf3.score(X3_train, y3_train)"
      ],
      "execution_count": 0,
      "outputs": [
        {
          "output_type": "execute_result",
          "data": {
            "text/plain": [
              "0.9143835616438356"
            ]
          },
          "metadata": {
            "tags": []
          },
          "execution_count": 26
        }
      ]
    },
    {
      "cell_type": "code",
      "metadata": {
        "id": "UT2cifIgHR3Z",
        "colab_type": "code",
        "outputId": "7696e10f-a5b4-4094-a45f-e10718c92e2e",
        "colab": {
          "base_uri": "https://localhost:8080/",
          "height": 34
        }
      },
      "source": [
        "my_rf3.score(X3_test, y3_test)"
      ],
      "execution_count": 0,
      "outputs": [
        {
          "output_type": "execute_result",
          "data": {
            "text/plain": [
              "0.6904761904761905"
            ]
          },
          "metadata": {
            "tags": []
          },
          "execution_count": 27
        }
      ]
    },
    {
      "cell_type": "code",
      "metadata": {
        "id": "3Hz_YgYEHR3e",
        "colab_type": "code",
        "outputId": "788621c7-1be5-423e-8505-2a09c9e5c5db",
        "colab": {
          "base_uri": "https://localhost:8080/",
          "height": 170
        }
      },
      "source": [
        "y3_pred_rf = my_rf3.predict(X3_test)\n",
        "print(classification_report(y3_test, y3_pred_rf))"
      ],
      "execution_count": 0,
      "outputs": [
        {
          "output_type": "stream",
          "text": [
            "              precision    recall  f1-score   support\n",
            "\n",
            "           0       0.70      0.95      0.81        85\n",
            "           1       0.60      0.15      0.24        41\n",
            "\n",
            "    accuracy                           0.69       126\n",
            "   macro avg       0.65      0.55      0.52       126\n",
            "weighted avg       0.67      0.69      0.62       126\n",
            "\n"
          ],
          "name": "stdout"
        }
      ]
    },
    {
      "cell_type": "code",
      "metadata": {
        "id": "0nA4X5KqHR3h",
        "colab_type": "code",
        "outputId": "7f52fcd3-4d7d-464f-fbb4-77e544cd8181",
        "colab": {
          "base_uri": "https://localhost:8080/",
          "height": 34
        }
      },
      "source": [
        "estimators = [('pca', PCA()),\n",
        "              ('model', RandomForestClassifier(n_jobs=-1))]\n",
        "\n",
        "pipe = Pipeline(estimators)\n",
        "\n",
        "param_grid = [{'pca': [PCA()],\n",
        "               'pca__n_components': [x for x in range(5,num_feat,5)],\n",
        "               'model': [RandomForestClassifier(n_jobs=-1)], \n",
        "               'model__n_estimators': [i for i in range(10,110,10)],\n",
        "               'model__max_depth': [i for i in range(1,11)],\n",
        "               'model__min_samples_leaf': [i for i in range(1,11)]}]\n",
        "\n",
        "grid = GridSearchCV(pipe, param_grid, n_jobs=-1, cv=5)\n",
        "fittedgrid3 = grid.fit(X3_train, y3_train)\n",
        "\n",
        "joblib.dump(fittedgrid3, 'rf_3yr.pkl')"
      ],
      "execution_count": 0,
      "outputs": [
        {
          "output_type": "execute_result",
          "data": {
            "text/plain": [
              "['rf_3yr.pkl']"
            ]
          },
          "metadata": {
            "tags": []
          },
          "execution_count": 52
        }
      ]
    },
    {
      "cell_type": "code",
      "metadata": {
        "id": "437ZLMyvHR3j",
        "colab_type": "code",
        "outputId": "546d25ba-a2cb-4f0a-c088-5b50c037ecd5",
        "colab": {
          "base_uri": "https://localhost:8080/",
          "height": 323
        }
      },
      "source": [
        "fittedgrid3.best_estimator_"
      ],
      "execution_count": 0,
      "outputs": [
        {
          "output_type": "execute_result",
          "data": {
            "text/plain": [
              "Pipeline(memory=None,\n",
              "         steps=[('pca',\n",
              "                 PCA(copy=True, iterated_power='auto', n_components=10,\n",
              "                     random_state=None, svd_solver='auto', tol=0.0,\n",
              "                     whiten=False)),\n",
              "                ('model',\n",
              "                 RandomForestClassifier(bootstrap=True, ccp_alpha=0.0,\n",
              "                                        class_weight=None, criterion='gini',\n",
              "                                        max_depth=9, max_features='auto',\n",
              "                                        max_leaf_nodes=None, max_samples=None,\n",
              "                                        min_impurity_decrease=0.0,\n",
              "                                        min_impurity_split=None,\n",
              "                                        min_samples_leaf=7, min_samples_split=2,\n",
              "                                        min_weight_fraction_leaf=0.0,\n",
              "                                        n_estimators=60, n_jobs=-1,\n",
              "                                        oob_score=False, random_state=None,\n",
              "                                        verbose=0, warm_start=False))],\n",
              "         verbose=False)"
            ]
          },
          "metadata": {
            "tags": []
          },
          "execution_count": 53
        }
      ]
    },
    {
      "cell_type": "code",
      "metadata": {
        "id": "nKjcNm9xHR3q",
        "colab_type": "code",
        "outputId": "72e4490f-9bf4-46e8-b389-ed5a1bafd280",
        "colab": {
          "base_uri": "https://localhost:8080/",
          "height": 34
        }
      },
      "source": [
        "fittedgrid3.best_score_"
      ],
      "execution_count": 0,
      "outputs": [
        {
          "output_type": "execute_result",
          "data": {
            "text/plain": [
              "0.7296317942723552"
            ]
          },
          "metadata": {
            "tags": []
          },
          "execution_count": 54
        }
      ]
    },
    {
      "cell_type": "code",
      "metadata": {
        "id": "vITvBNpLHR3v",
        "colab_type": "code",
        "outputId": "76262316-9278-4627-d2a9-1189baa38d36",
        "colab": {
          "base_uri": "https://localhost:8080/",
          "height": 34
        }
      },
      "source": [
        "fittedgrid3.score(X3_test, y3_test)"
      ],
      "execution_count": 0,
      "outputs": [
        {
          "output_type": "execute_result",
          "data": {
            "text/plain": [
              "0.6984126984126984"
            ]
          },
          "metadata": {
            "tags": []
          },
          "execution_count": 55
        }
      ]
    },
    {
      "cell_type": "markdown",
      "metadata": {
        "id": "YknQubFZVrtX",
        "colab_type": "text"
      },
      "source": [
        "#### XGBoost decision tree"
      ]
    },
    {
      "cell_type": "code",
      "metadata": {
        "id": "HHAjENx7HR33",
        "colab_type": "code",
        "outputId": "93253c79-1d3c-42e7-c96d-85ecf4849d96",
        "colab": {
          "base_uri": "https://localhost:8080/",
          "height": 34
        }
      },
      "source": [
        "estimators = [('pca', PCA()),\n",
        "              ('model', XGBClassifier())]\n",
        "\n",
        "pipe = Pipeline(estimators)\n",
        "\n",
        "param_grid = [{'pca': [PCA()],\n",
        "               'pca__n_components': [x for x in range(5,num_feat,5)],\n",
        "               'model': [XGBClassifier()], \n",
        "               'model__max_depth': [i for i in range(1,11)],\n",
        "               'model__n_estimators': [i for i in range(10,160,10)]}]\n",
        "\n",
        "grid = GridSearchCV(pipe, param_grid, n_jobs=-1, cv=5)\n",
        "fittedgrid3 = grid.fit(X3_train, y3_train)\n",
        "\n",
        "joblib.dump(fittedgrid3, 'xgb_3yr.pkl')"
      ],
      "execution_count": 0,
      "outputs": [
        {
          "output_type": "execute_result",
          "data": {
            "text/plain": [
              "['xgb_3yr.pkl']"
            ]
          },
          "metadata": {
            "tags": []
          },
          "execution_count": 48
        }
      ]
    },
    {
      "cell_type": "code",
      "metadata": {
        "id": "EcF5VCkMHR36",
        "colab_type": "code",
        "outputId": "c9e55ae7-b9a0-48e7-8e00-4db770f73ca4",
        "colab": {
          "base_uri": "https://localhost:8080/",
          "height": 306
        }
      },
      "source": [
        "fittedgrid3.best_estimator_"
      ],
      "execution_count": 0,
      "outputs": [
        {
          "output_type": "execute_result",
          "data": {
            "text/plain": [
              "Pipeline(memory=None,\n",
              "         steps=[('pca',\n",
              "                 PCA(copy=True, iterated_power='auto', n_components=10,\n",
              "                     random_state=None, svd_solver='auto', tol=0.0,\n",
              "                     whiten=False)),\n",
              "                ('model',\n",
              "                 XGBClassifier(base_score=0.5, booster='gbtree',\n",
              "                               colsample_bylevel=1, colsample_bynode=1,\n",
              "                               colsample_bytree=1, gamma=0, learning_rate=0.1,\n",
              "                               max_delta_step=0, max_depth=1,\n",
              "                               min_child_weight=1, missing=None,\n",
              "                               n_estimators=80, n_jobs=1, nthread=None,\n",
              "                               objective='binary:logistic', random_state=0,\n",
              "                               reg_alpha=0, reg_lambda=1, scale_pos_weight=1,\n",
              "                               seed=None, silent=None, subsample=1,\n",
              "                               verbosity=1))],\n",
              "         verbose=False)"
            ]
          },
          "metadata": {
            "tags": []
          },
          "execution_count": 49
        }
      ]
    },
    {
      "cell_type": "code",
      "metadata": {
        "id": "Xl6gZqckHR3-",
        "colab_type": "code",
        "outputId": "273a36d7-fe26-4bb9-b850-11520e79f3b5",
        "colab": {
          "base_uri": "https://localhost:8080/",
          "height": 34
        }
      },
      "source": [
        "fittedgrid3.best_score_"
      ],
      "execution_count": 0,
      "outputs": [
        {
          "output_type": "execute_result",
          "data": {
            "text/plain": [
              "0.7227936879018119"
            ]
          },
          "metadata": {
            "tags": []
          },
          "execution_count": 50
        }
      ]
    },
    {
      "cell_type": "code",
      "metadata": {
        "id": "O30kfuntHR4B",
        "colab_type": "code",
        "outputId": "6fa32aba-611b-4a62-92bb-798b35375e87",
        "colab": {
          "base_uri": "https://localhost:8080/",
          "height": 34
        }
      },
      "source": [
        "fittedgrid3.score(X3_test, y3_test)"
      ],
      "execution_count": 0,
      "outputs": [
        {
          "output_type": "execute_result",
          "data": {
            "text/plain": [
              "0.6825396825396826"
            ]
          },
          "metadata": {
            "tags": []
          },
          "execution_count": 51
        }
      ]
    },
    {
      "cell_type": "markdown",
      "metadata": {
        "id": "T5lLwwv0TZjQ",
        "colab_type": "text"
      },
      "source": [
        "#### Support Vector Machine"
      ]
    },
    {
      "cell_type": "code",
      "metadata": {
        "id": "Vs4O9923HR4E",
        "colab_type": "code",
        "outputId": "d6fb3b05-75f9-4628-bab9-4b8384062661",
        "colab": {
          "base_uri": "https://localhost:8080/",
          "height": 34
        }
      },
      "source": [
        "estimators = [('pca', PCA()),\n",
        "              ('model', SVC())]\n",
        "\n",
        "pipe = Pipeline(estimators)\n",
        "\n",
        "param_grid = [{'pca': [PCA()],\n",
        "               'pca__n_components': [x for x in range(5,num_feat,5)],\n",
        "               'model': [SVC(decision_function_shape='ovo', max_iter=999)], \n",
        "               'model__C': [10**i for i in range(-6,7)],\n",
        "               'model__kernel': ['linear', 'poly', 'rbf', 'sigmoid']}]\n",
        "\n",
        "grid = GridSearchCV(pipe, param_grid, n_jobs=-1, cv=5)\n",
        "fittedgrid3 = grid.fit(X3_train, y3_train)\n",
        "\n",
        "joblib.dump(fittedgrid3, 'svm_3yr.pkl')"
      ],
      "execution_count": 0,
      "outputs": [
        {
          "output_type": "execute_result",
          "data": {
            "text/plain": [
              "['svm_3yr.pkl']"
            ]
          },
          "metadata": {
            "tags": []
          },
          "execution_count": 17
        }
      ]
    },
    {
      "cell_type": "code",
      "metadata": {
        "id": "Aa7TFRYvHR4G",
        "colab_type": "code",
        "outputId": "e1540a9a-ee44-4d23-8918-f6738ff2e6be",
        "colab": {
          "base_uri": "https://localhost:8080/",
          "height": 221
        }
      },
      "source": [
        "fittedgrid3.best_estimator_"
      ],
      "execution_count": 0,
      "outputs": [
        {
          "output_type": "execute_result",
          "data": {
            "text/plain": [
              "Pipeline(memory=None,\n",
              "         steps=[('pca',\n",
              "                 PCA(copy=True, iterated_power='auto', n_components=5,\n",
              "                     random_state=None, svd_solver='auto', tol=0.0,\n",
              "                     whiten=False)),\n",
              "                ('model',\n",
              "                 SVC(C=0.1, break_ties=False, cache_size=200, class_weight=None,\n",
              "                     coef0=0.0, decision_function_shape='ovo', degree=3,\n",
              "                     gamma='scale', kernel='sigmoid', max_iter=999,\n",
              "                     probability=False, random_state=None, shrinking=True,\n",
              "                     tol=0.001, verbose=False))],\n",
              "         verbose=False)"
            ]
          },
          "metadata": {
            "tags": []
          },
          "execution_count": 18
        }
      ]
    },
    {
      "cell_type": "code",
      "metadata": {
        "id": "plKuCEQtHR4K",
        "colab_type": "code",
        "outputId": "fc5bbc05-630a-435c-c8c5-f3ff7a813a1b",
        "colab": {
          "base_uri": "https://localhost:8080/",
          "height": 34
        }
      },
      "source": [
        "fittedgrid3.best_score_"
      ],
      "execution_count": 0,
      "outputs": [
        {
          "output_type": "execute_result",
          "data": {
            "text/plain": [
              "0.7021040327293979"
            ]
          },
          "metadata": {
            "tags": []
          },
          "execution_count": 19
        }
      ]
    },
    {
      "cell_type": "code",
      "metadata": {
        "id": "j4MkKCIvHR4O",
        "colab_type": "code",
        "outputId": "2cc9fead-3900-4fdd-9dc3-5d34b3767d34",
        "colab": {
          "base_uri": "https://localhost:8080/",
          "height": 34
        }
      },
      "source": [
        "fittedgrid3.score(X3_test, y3_test)"
      ],
      "execution_count": 0,
      "outputs": [
        {
          "output_type": "execute_result",
          "data": {
            "text/plain": [
              "0.6746031746031746"
            ]
          },
          "metadata": {
            "tags": []
          },
          "execution_count": 20
        }
      ]
    },
    {
      "cell_type": "markdown",
      "metadata": {
        "id": "HcjUnzPNMea7",
        "colab_type": "text"
      },
      "source": [
        "#### Quadratic Discriminant Analysis"
      ]
    },
    {
      "cell_type": "code",
      "metadata": {
        "id": "byABpPwWMdtC",
        "colab_type": "code",
        "outputId": "adf2c2cc-f7af-406c-e973-acae1857479b",
        "colab": {
          "base_uri": "https://localhost:8080/",
          "height": 34
        }
      },
      "source": [
        "my_qda = QuadraticDiscriminantAnalysis()\n",
        "my_qda.fit(X3_train, y3_train)\n",
        "joblib.dump(my_qda, 'qda_3yr.pkl')"
      ],
      "execution_count": 0,
      "outputs": [
        {
          "output_type": "execute_result",
          "data": {
            "text/plain": [
              "['qda_3yr.pkl']"
            ]
          },
          "metadata": {
            "tags": []
          },
          "execution_count": 45
        }
      ]
    },
    {
      "cell_type": "code",
      "metadata": {
        "id": "vfdHdJdeMzI6",
        "colab_type": "code",
        "outputId": "97725a00-ea9a-4ada-f9e3-2a4814444313",
        "colab": {
          "base_uri": "https://localhost:8080/",
          "height": 34
        }
      },
      "source": [
        "my_qda.score(X3_train, y3_train)"
      ],
      "execution_count": 0,
      "outputs": [
        {
          "output_type": "execute_result",
          "data": {
            "text/plain": [
              "1.0"
            ]
          },
          "metadata": {
            "tags": []
          },
          "execution_count": 46
        }
      ]
    },
    {
      "cell_type": "code",
      "metadata": {
        "id": "rjbjaLtEM3YM",
        "colab_type": "code",
        "outputId": "73a92a04-e082-4d92-8de7-3700fcf17473",
        "colab": {
          "base_uri": "https://localhost:8080/",
          "height": 34
        }
      },
      "source": [
        "my_qda.score(X3_test, y3_test)"
      ],
      "execution_count": 0,
      "outputs": [
        {
          "output_type": "execute_result",
          "data": {
            "text/plain": [
              "0.6746031746031746"
            ]
          },
          "metadata": {
            "tags": []
          },
          "execution_count": 47
        }
      ]
    },
    {
      "cell_type": "markdown",
      "metadata": {
        "id": "2VncJWzTVjke",
        "colab_type": "text"
      },
      "source": [
        "#### Neural network"
      ]
    },
    {
      "cell_type": "code",
      "metadata": {
        "colab_type": "code",
        "id": "H-rzX-CtR6EM",
        "colab": {}
      },
      "source": [
        "input_size = num_feat\n",
        "output_size = 2"
      ],
      "execution_count": 0,
      "outputs": []
    },
    {
      "cell_type": "code",
      "metadata": {
        "colab_type": "code",
        "id": "5riPBBq1R6ES",
        "colab": {}
      },
      "source": [
        "# Make the placeholder variables:\n",
        "input_X = tf.placeholder(tf.float32, shape=(None, input_size))\n",
        "input_y = tf.placeholder(tf.float32, shape=(None, output_size))"
      ],
      "execution_count": 0,
      "outputs": []
    },
    {
      "cell_type": "code",
      "metadata": {
        "colab_type": "code",
        "id": "yyjAuyiHR6EV",
        "colab": {}
      },
      "source": [
        "# Size of the hidden dimension\n",
        "num_hidden_1 = 400\n",
        "num_hidden_2 = 400\n",
        "\n",
        "# Hidden Unit activations 1\n",
        "W1 = tf.Variable(tf.random_normal([input_size, num_hidden_1]))\n",
        "b1 = tf.Variable(tf.random_normal([num_hidden_1])) #bias\n",
        "hidden_output_1 = tf.nn.elu(tf.add(tf.matmul(input_X,W1), b1)) # Relu for hidden layer\n",
        "\n",
        "# Hidden Unit activations 2\n",
        "W2 = tf.Variable(tf.random_normal([num_hidden_1, num_hidden_2]))\n",
        "b2 = tf.Variable(tf.random_normal([num_hidden_2])) #bias\n",
        "hidden_output_2 = tf.nn.elu(tf.add(tf.matmul(hidden_output_1,W2), b2)) # Relu for hidden layer\n",
        "\n",
        "# Output Unit activations\n",
        "W3 = tf.Variable(tf.random_normal([num_hidden_2, output_size]))\n",
        "b3 = tf.Variable(tf.random_normal([output_size]))\n",
        "net_output = tf.nn.softmax(tf.add( tf.matmul(hidden_output_2, W3), b3)) # Softmax for output layer"
      ],
      "execution_count": 0,
      "outputs": []
    },
    {
      "cell_type": "code",
      "metadata": {
        "colab_type": "code",
        "id": "IHQt4thsR6EX",
        "colab": {}
      },
      "source": [
        "encoder = LabelBinarizer()\n",
        "\n",
        "one_hot_encoder = encoder.fit(list(y3_train))\n",
        "y3_np_train = one_hot_encoder.transform(y3_train)\n",
        "y3_np_test = one_hot_encoder.transform(y3_test)\n",
        "y3_np_train = np.hstack((y3_np_train, 1 - y3_np_train))\n",
        "y3_np_test = np.hstack((y3_np_test, 1 - y3_np_test))"
      ],
      "execution_count": 0,
      "outputs": []
    },
    {
      "cell_type": "code",
      "metadata": {
        "colab_type": "code",
        "outputId": "6d720e4b-e4f9-4c18-ec23-06499c05198e",
        "id": "gIOGZZ_nR6EZ",
        "colab": {
          "base_uri": "https://localhost:8080/",
          "height": 34
        }
      },
      "source": [
        "y3_np_train.shape"
      ],
      "execution_count": 0,
      "outputs": [
        {
          "output_type": "execute_result",
          "data": {
            "text/plain": [
              "(292, 2)"
            ]
          },
          "metadata": {
            "tags": []
          },
          "execution_count": 68
        }
      ]
    },
    {
      "cell_type": "code",
      "metadata": {
        "colab_type": "code",
        "id": "mOsA57TuR6Ed",
        "outputId": "597305f1-b87f-41c6-de07-0ac6c040697c",
        "colab": {
          "base_uri": "https://localhost:8080/",
          "height": 88
        }
      },
      "source": [
        "# Use cross entropy loss (we're doing classification)\n",
        "# This is where we link our network to the objective function.\n",
        "loss = tf.losses.softmax_cross_entropy(input_y, net_output)\n",
        "\n",
        "# Get accuracy measure\n",
        "# acc will store the accuracy score of the true labels and our net output\n",
        "acc, acc_op = tf.metrics.accuracy(labels=tf.argmax(input_y, 1), predictions=tf.argmax(net_output, 1))\n",
        "\n",
        "# Use gradient descent with a learning rate of 0.1\n",
        "optimizer = tf.train.GradientDescentOptimizer(0.1)\n",
        "\n",
        "# Objective is minimize the loss\n",
        "train = optimizer.minimize(loss)"
      ],
      "execution_count": 0,
      "outputs": [
        {
          "output_type": "stream",
          "text": [
            "WARNING:tensorflow:From /usr/local/lib/python3.6/dist-packages/tensorflow_core/python/ops/losses/losses_impl.py:121: where (from tensorflow.python.ops.array_ops) is deprecated and will be removed in a future version.\n",
            "Instructions for updating:\n",
            "Use tf.where in 2.0, which has the same broadcast rule as np.where\n"
          ],
          "name": "stdout"
        }
      ]
    },
    {
      "cell_type": "code",
      "metadata": {
        "colab_type": "code",
        "id": "ZfkB5jbDR6Eh",
        "colab": {}
      },
      "source": [
        "# Open a TensorFlow session\n",
        "sess = tf.Session()\n",
        "init = tf.group(tf.global_variables_initializer(), tf.local_variables_initializer())\n",
        "sess.run(init)"
      ],
      "execution_count": 0,
      "outputs": []
    },
    {
      "cell_type": "code",
      "metadata": {
        "colab_type": "code",
        "outputId": "fc78666d-128f-48d1-d39a-d30b7d95d21e",
        "id": "ea5LEWrHR6Ej",
        "colab": {
          "base_uri": "https://localhost:8080/",
          "height": 374
        }
      },
      "source": [
        "epochs = 20000\n",
        "\n",
        "# Each epoch is one pass through the data\n",
        "for epoch in range(epochs):\n",
        "    \n",
        "    # Update the network.\n",
        "    # feed_dict passes in the input for training\n",
        "    # train linkes the session to the network\n",
        "    sess.run(train, feed_dict={input_X: X3_train, input_y: y3_np_train})\n",
        "    \n",
        "    if epoch % 1000 == 0 :\n",
        "        # Get the training loss\n",
        "        training_loss = sess.run(loss, feed_dict={input_X: X3_train, input_y: y3_np_train})\n",
        "        \n",
        "        score = sess.run([acc, acc_op], feed_dict={input_X: X3_train, input_y: y3_np_train})\n",
        "        print(f'Epoch: {epoch}, Loss: {training_loss:.3f}, Accuracy: {score[1]:.3f}')\n",
        "\n",
        "# run session to calculate the accuracy score on test set\n",
        "test_acc,_ = sess.run([acc, acc_op], feed_dict={input_X: X3_test, input_y: y3_np_test})\n",
        "print(test_acc)"
      ],
      "execution_count": 0,
      "outputs": [
        {
          "output_type": "stream",
          "text": [
            "Epoch: 0, Loss: 0.639, Accuracy: 0.675\n",
            "Epoch: 1000, Loss: 0.639, Accuracy: 0.675\n",
            "Epoch: 2000, Loss: 0.639, Accuracy: 0.675\n",
            "Epoch: 3000, Loss: 0.639, Accuracy: 0.675\n",
            "Epoch: 4000, Loss: 0.639, Accuracy: 0.675\n",
            "Epoch: 5000, Loss: 0.639, Accuracy: 0.675\n",
            "Epoch: 6000, Loss: 0.639, Accuracy: 0.675\n",
            "Epoch: 7000, Loss: 0.639, Accuracy: 0.675\n",
            "Epoch: 8000, Loss: 0.639, Accuracy: 0.675\n",
            "Epoch: 9000, Loss: 0.639, Accuracy: 0.675\n",
            "Epoch: 10000, Loss: 0.639, Accuracy: 0.675\n",
            "Epoch: 11000, Loss: 0.639, Accuracy: 0.675\n",
            "Epoch: 12000, Loss: 0.639, Accuracy: 0.675\n",
            "Epoch: 13000, Loss: 0.639, Accuracy: 0.675\n",
            "Epoch: 14000, Loss: 0.639, Accuracy: 0.675\n",
            "Epoch: 15000, Loss: 0.639, Accuracy: 0.675\n",
            "Epoch: 16000, Loss: 0.639, Accuracy: 0.675\n",
            "Epoch: 17000, Loss: 0.639, Accuracy: 0.675\n",
            "Epoch: 18000, Loss: 0.639, Accuracy: 0.675\n",
            "Epoch: 19000, Loss: 0.639, Accuracy: 0.675\n",
            "0.6746575\n"
          ],
          "name": "stdout"
        }
      ]
    },
    {
      "cell_type": "markdown",
      "metadata": {
        "id": "kOdKLHZBHR4Q",
        "colab_type": "text"
      },
      "source": [
        "---"
      ]
    },
    {
      "cell_type": "markdown",
      "metadata": {
        "id": "YYOwrIVwHR4T",
        "colab_type": "text"
      },
      "source": [
        "### 5-year analysis\n",
        "For the patients surviving for 5 years:"
      ]
    },
    {
      "cell_type": "code",
      "metadata": {
        "id": "3yabLBqrHR4U",
        "colab_type": "code",
        "colab": {}
      },
      "source": [
        "X5 = df_tf[mask_5yr | dead][df_tf.columns[feat_mask]]\n",
        "y5 = (df_tf[mask_5yr | dead]['Survival.time'] > 5*365).astype(int)\n",
        "\n",
        "X5 = X5.astype(float)"
      ],
      "execution_count": 0,
      "outputs": []
    },
    {
      "cell_type": "code",
      "metadata": {
        "id": "ivfDF5ewHR4a",
        "colab_type": "code",
        "outputId": "045d67cd-0027-404b-c930-177f7a3e806b",
        "colab": {
          "base_uri": "https://localhost:8080/",
          "height": 34
        }
      },
      "source": [
        "y5.shape"
      ],
      "execution_count": 0,
      "outputs": [
        {
          "output_type": "execute_result",
          "data": {
            "text/plain": [
              "(406,)"
            ]
          },
          "metadata": {
            "tags": []
          },
          "execution_count": 22
        }
      ]
    },
    {
      "cell_type": "code",
      "metadata": {
        "id": "bY7nIrScHR4d",
        "colab_type": "code",
        "colab": {}
      },
      "source": [
        "X5_train, X5_test, y5_train, y5_test = train_test_split(X5, y5, test_size=0.3, random_state=1)"
      ],
      "execution_count": 0,
      "outputs": []
    },
    {
      "cell_type": "code",
      "metadata": {
        "id": "WioAayAXHR4e",
        "colab_type": "code",
        "outputId": "53b1e3ab-e3de-473e-c556-c6e1198e6435",
        "colab": {
          "base_uri": "https://localhost:8080/",
          "height": 68
        }
      },
      "source": [
        "y5_train.value_counts()"
      ],
      "execution_count": 0,
      "outputs": [
        {
          "output_type": "execute_result",
          "data": {
            "text/plain": [
              "0    233\n",
              "1     51\n",
              "Name: Survival.time, dtype: int64"
            ]
          },
          "metadata": {
            "tags": []
          },
          "execution_count": 24
        }
      ]
    },
    {
      "cell_type": "code",
      "metadata": {
        "id": "XhMLpOBnHR4j",
        "colab_type": "code",
        "colab": {}
      },
      "source": [
        "my_scaler5 = StandardScaler()\n",
        "X5_train = my_scaler5.fit_transform(X5_train)\n",
        "X5_test = my_scaler5.transform(X5_test)"
      ],
      "execution_count": 0,
      "outputs": []
    },
    {
      "cell_type": "markdown",
      "metadata": {
        "id": "zGpKiH5HVJQQ",
        "colab_type": "text"
      },
      "source": [
        "#### Logistic Regression"
      ]
    },
    {
      "cell_type": "code",
      "metadata": {
        "id": "SCDvDSrGHR4l",
        "colab_type": "code",
        "outputId": "9c04bb5b-c35b-4e64-f79f-a533bc6d9b5d",
        "colab": {
          "base_uri": "https://localhost:8080/",
          "height": 34
        }
      },
      "source": [
        "my_logit5 = LogisticRegression()\n",
        "my_logit5.fit(X5_train, y5_train)\n",
        "my_logit5.score(X5_train, y5_train)"
      ],
      "execution_count": 0,
      "outputs": [
        {
          "output_type": "execute_result",
          "data": {
            "text/plain": [
              "0.852112676056338"
            ]
          },
          "metadata": {
            "tags": []
          },
          "execution_count": 26
        }
      ]
    },
    {
      "cell_type": "code",
      "metadata": {
        "id": "nw75Co91HR4r",
        "colab_type": "code",
        "outputId": "9e7dc8ff-8ffb-49c6-e3d1-5b678fcc9f23",
        "colab": {
          "base_uri": "https://localhost:8080/",
          "height": 34
        }
      },
      "source": [
        "my_logit5.score(X5_test, y5_test)"
      ],
      "execution_count": 0,
      "outputs": [
        {
          "output_type": "execute_result",
          "data": {
            "text/plain": [
              "0.7868852459016393"
            ]
          },
          "metadata": {
            "tags": []
          },
          "execution_count": 27
        }
      ]
    },
    {
      "cell_type": "code",
      "metadata": {
        "id": "OHu_qW8oHR4t",
        "colab_type": "code",
        "outputId": "c20a2e6b-7789-4345-efb7-e666bd55c2f7",
        "colab": {
          "base_uri": "https://localhost:8080/",
          "height": 34
        }
      },
      "source": [
        "estimators = [('pca', PCA()),\n",
        "              ('model', LogisticRegression())]\n",
        "\n",
        "pipe = Pipeline(estimators)\n",
        "\n",
        "param_grid = [{'pca': [PCA()],\n",
        "               'pca__n_components': [x for x in range(5,num_feat,5)],\n",
        "               'model': [LogisticRegression(solver='saga')], \n",
        "               'model__C': [10**i for i in range(-6,7)]}]\n",
        "\n",
        "grid = GridSearchCV(pipe, param_grid, n_jobs=-1, cv=5)\n",
        "fittedgrid5 = grid.fit(X5_train, y5_train)\n",
        "\n",
        "joblib.dump(fittedgrid5, 'logreg_5yr.pkl')"
      ],
      "execution_count": 0,
      "outputs": [
        {
          "output_type": "execute_result",
          "data": {
            "text/plain": [
              "['logreg_5yr.pkl']"
            ]
          },
          "metadata": {
            "tags": []
          },
          "execution_count": 28
        }
      ]
    },
    {
      "cell_type": "code",
      "metadata": {
        "id": "mnS1pUFoHR4u",
        "colab_type": "code",
        "outputId": "8a88bf8b-1228-48eb-c7bb-117b908448f8",
        "colab": {
          "base_uri": "https://localhost:8080/",
          "height": 255
        }
      },
      "source": [
        "fittedgrid5.best_estimator_"
      ],
      "execution_count": 0,
      "outputs": [
        {
          "output_type": "execute_result",
          "data": {
            "text/plain": [
              "Pipeline(memory=None,\n",
              "         steps=[('pca',\n",
              "                 PCA(copy=True, iterated_power='auto', n_components=5,\n",
              "                     random_state=None, svd_solver='auto', tol=0.0,\n",
              "                     whiten=False)),\n",
              "                ('model',\n",
              "                 LogisticRegression(C=1e-06, class_weight=None, dual=False,\n",
              "                                    fit_intercept=True, intercept_scaling=1,\n",
              "                                    l1_ratio=None, max_iter=100,\n",
              "                                    multi_class='auto', n_jobs=None,\n",
              "                                    penalty='l2', random_state=None,\n",
              "                                    solver='saga', tol=0.0001, verbose=0,\n",
              "                                    warm_start=False))],\n",
              "         verbose=False)"
            ]
          },
          "metadata": {
            "tags": []
          },
          "execution_count": 29
        }
      ]
    },
    {
      "cell_type": "code",
      "metadata": {
        "id": "jYOkUxlzHR4w",
        "colab_type": "code",
        "outputId": "5c090a82-18a7-40fd-a98f-2851c4454d3e",
        "colab": {
          "base_uri": "https://localhost:8080/",
          "height": 34
        }
      },
      "source": [
        "fittedgrid5.best_score_"
      ],
      "execution_count": 0,
      "outputs": [
        {
          "output_type": "execute_result",
          "data": {
            "text/plain": [
              "0.8204260651629072"
            ]
          },
          "metadata": {
            "tags": []
          },
          "execution_count": 30
        }
      ]
    },
    {
      "cell_type": "code",
      "metadata": {
        "id": "9SyXRGCdHR4y",
        "colab_type": "code",
        "outputId": "aed59139-eb6f-4b6d-fec4-d68211caa3f4",
        "colab": {
          "base_uri": "https://localhost:8080/",
          "height": 34
        }
      },
      "source": [
        "fittedgrid5.score(X5_test, y5_test)"
      ],
      "execution_count": 0,
      "outputs": [
        {
          "output_type": "execute_result",
          "data": {
            "text/plain": [
              "0.819672131147541"
            ]
          },
          "metadata": {
            "tags": []
          },
          "execution_count": 31
        }
      ]
    },
    {
      "cell_type": "markdown",
      "metadata": {
        "id": "Mz9LO5s7HR41",
        "colab_type": "text"
      },
      "source": [
        "High accuracy score due to imbalanced dataset. Try oversampling the data using different schemes."
      ]
    },
    {
      "cell_type": "code",
      "metadata": {
        "id": "wnKiyahVHR49",
        "colab_type": "code",
        "outputId": "e2d419b0-54e7-42e4-e97f-47e90350cd3e",
        "colab": {
          "base_uri": "https://localhost:8080/",
          "height": 34
        }
      },
      "source": [
        "estimators = [('oversample', SMOTE()),\n",
        "              ('pca', PCA()),\n",
        "              ('model', LogisticRegression())]\n",
        "\n",
        "pipe = imPipeline(estimators)\n",
        "\n",
        "param_grid = [{'oversample': [SMOTE(), ADASYN(), SVMSMOTE()],\n",
        "               'pca': [PCA()],\n",
        "               'pca__n_components': [x for x in range(5,num_feat,5)],\n",
        "               'model': [LogisticRegression(solver='saga')], \n",
        "               'model__C': [10**i for i in range(-6,7)],\n",
        "               'model__penalty': ['l1', 'l2']}]\n",
        "\n",
        "grid = GridSearchCV(pipe, param_grid, n_jobs=-1, cv=5)\n",
        "fittedgrid5 = grid.fit(X5_train, y5_train)\n",
        "\n",
        "joblib.dump(fittedgrid5, 'logreg_svmsmote_5yr.pkl')"
      ],
      "execution_count": 0,
      "outputs": [
        {
          "output_type": "execute_result",
          "data": {
            "text/plain": [
              "['logreg_svmsmote_5yr.pkl']"
            ]
          },
          "metadata": {
            "tags": []
          },
          "execution_count": 32
        }
      ]
    },
    {
      "cell_type": "code",
      "metadata": {
        "id": "IpCEwbX5HR4_",
        "colab_type": "code",
        "outputId": "6de279f3-b597-4322-a48e-3cfed5929e0b",
        "colab": {
          "base_uri": "https://localhost:8080/",
          "height": 34
        }
      },
      "source": [
        "fittedgrid5.best_score_"
      ],
      "execution_count": 0,
      "outputs": [
        {
          "output_type": "execute_result",
          "data": {
            "text/plain": [
              "0.8204260651629072"
            ]
          },
          "metadata": {
            "tags": []
          },
          "execution_count": 33
        }
      ]
    },
    {
      "cell_type": "code",
      "metadata": {
        "id": "4UlGpV_1HR5A",
        "colab_type": "code",
        "outputId": "44020405-123b-422d-b185-260c683ee7bd",
        "colab": {
          "base_uri": "https://localhost:8080/",
          "height": 323
        }
      },
      "source": [
        "fittedgrid5.best_estimator_"
      ],
      "execution_count": 0,
      "outputs": [
        {
          "output_type": "execute_result",
          "data": {
            "text/plain": [
              "Pipeline(memory=None,\n",
              "         steps=[('oversample',\n",
              "                 SVMSMOTE(k_neighbors=5, m_neighbors=10, n_jobs=1, out_step=0.5,\n",
              "                          random_state=None, sampling_strategy='auto',\n",
              "                          svm_estimator=None)),\n",
              "                ('pca',\n",
              "                 PCA(copy=True, iterated_power='auto', n_components=15,\n",
              "                     random_state=None, svd_solver='auto', tol=0.0,\n",
              "                     whiten=False)),\n",
              "                ('model',\n",
              "                 LogisticRegression(C=1e-06, class_weight=None, dual=False,\n",
              "                                    fit_intercept=True, intercept_scaling=1,\n",
              "                                    l1_ratio=None, max_iter=100,\n",
              "                                    multi_class='auto', n_jobs=None,\n",
              "                                    penalty='l1', random_state=None,\n",
              "                                    solver='saga', tol=0.0001, verbose=0,\n",
              "                                    warm_start=False))],\n",
              "         verbose=False)"
            ]
          },
          "metadata": {
            "tags": []
          },
          "execution_count": 34
        }
      ]
    },
    {
      "cell_type": "code",
      "metadata": {
        "id": "x2sjqbPFHR5C",
        "colab_type": "code",
        "outputId": "4372a720-faa7-4ffe-eb73-830fac589037",
        "colab": {
          "base_uri": "https://localhost:8080/",
          "height": 34
        }
      },
      "source": [
        "fittedgrid5.score(X5_test, y5_test)"
      ],
      "execution_count": 0,
      "outputs": [
        {
          "output_type": "execute_result",
          "data": {
            "text/plain": [
              "0.819672131147541"
            ]
          },
          "metadata": {
            "tags": []
          },
          "execution_count": 35
        }
      ]
    },
    {
      "cell_type": "code",
      "metadata": {
        "id": "UmvjLmh3HR5F",
        "colab_type": "code",
        "outputId": "0a7d11b4-914c-4fb5-823d-5318b627cb31",
        "colab": {
          "base_uri": "https://localhost:8080/",
          "height": 170
        }
      },
      "source": [
        "y5_pred = fittedgrid5.predict(X5_test)\n",
        "print(classification_report(y5_test, y5_pred))"
      ],
      "execution_count": 0,
      "outputs": [
        {
          "output_type": "stream",
          "text": [
            "              precision    recall  f1-score   support\n",
            "\n",
            "           0       0.82      1.00      0.90       100\n",
            "           1       0.00      0.00      0.00        22\n",
            "\n",
            "    accuracy                           0.82       122\n",
            "   macro avg       0.41      0.50      0.45       122\n",
            "weighted avg       0.67      0.82      0.74       122\n",
            "\n"
          ],
          "name": "stdout"
        }
      ]
    },
    {
      "cell_type": "code",
      "metadata": {
        "id": "hoxIGRuZHR5P",
        "colab_type": "code",
        "outputId": "f06bb625-3062-46dd-ab5d-d40948fda9f9",
        "colab": {
          "base_uri": "https://localhost:8080/",
          "height": 34
        }
      },
      "source": [
        "print('Kappa score: %.5f' % cohen_kappa_score(y5_test, y5_pred))"
      ],
      "execution_count": 0,
      "outputs": [
        {
          "output_type": "stream",
          "text": [
            "Kappa score: 0.00000\n"
          ],
          "name": "stdout"
        }
      ]
    },
    {
      "cell_type": "markdown",
      "metadata": {
        "id": "YXtIigsQbI4Y",
        "colab_type": "text"
      },
      "source": [
        "I will use SVMSMOTE from this point on for the other models in my 5-year survival analysis."
      ]
    },
    {
      "cell_type": "markdown",
      "metadata": {
        "id": "7PQsRoxJVOXA",
        "colab_type": "text"
      },
      "source": [
        "#### Decision Tree"
      ]
    },
    {
      "cell_type": "code",
      "metadata": {
        "id": "-pNVyxVwWmnm",
        "colab_type": "code",
        "outputId": "2a05f09c-76ef-40e7-92c5-9b795ddd0702",
        "colab": {
          "base_uri": "https://localhost:8080/",
          "height": 34
        }
      },
      "source": [
        "estimators = [('oversample', SVMSMOTE()),\n",
        "              ('pca', PCA()),\n",
        "              ('model', DecisionTreeClassifier())]\n",
        "\n",
        "pipe = imPipeline(estimators)\n",
        "\n",
        "param_grid = [{'oversample': [SVMSMOTE()],\n",
        "               'pca': [PCA()],\n",
        "               'pca__n_components': [x for x in range(5,num_feat,5)],\n",
        "               'model': [DecisionTreeClassifier()], \n",
        "               'model__max_depth': [i for i in range(1,11)],\n",
        "               'model__min_samples_leaf': [i for i in range(1,11)]}]\n",
        "\n",
        "grid = GridSearchCV(pipe, param_grid, n_jobs=-1, cv=5)\n",
        "fittedgrid5 = grid.fit(X5_train, y5_train)\n",
        "\n",
        "joblib.dump(fittedgrid5, 'dt_svmsmote_5yr.pkl')"
      ],
      "execution_count": 0,
      "outputs": [
        {
          "output_type": "execute_result",
          "data": {
            "text/plain": [
              "['dt_svmsmote_5yr.pkl']"
            ]
          },
          "metadata": {
            "tags": []
          },
          "execution_count": 38
        }
      ]
    },
    {
      "cell_type": "code",
      "metadata": {
        "id": "8_dHheNC3iKZ",
        "colab_type": "code",
        "outputId": "c9deedcd-a387-4242-ae2e-87265f3c180b",
        "colab": {
          "base_uri": "https://localhost:8080/",
          "height": 357
        }
      },
      "source": [
        "fittedgrid5.best_estimator_"
      ],
      "execution_count": 0,
      "outputs": [
        {
          "output_type": "execute_result",
          "data": {
            "text/plain": [
              "Pipeline(memory=None,\n",
              "         steps=[('oversample',\n",
              "                 SVMSMOTE(k_neighbors=5, m_neighbors=10, n_jobs=1, out_step=0.5,\n",
              "                          random_state=None, sampling_strategy='auto',\n",
              "                          svm_estimator=None)),\n",
              "                ('pca',\n",
              "                 PCA(copy=True, iterated_power='auto', n_components=65,\n",
              "                     random_state=None, svd_solver='auto', tol=0.0,\n",
              "                     whiten=False)),\n",
              "                ('model',\n",
              "                 DecisionTreeClassifier(ccp_alpha=0.0, class_weight=None,\n",
              "                                        criterion='gini', max_depth=10,\n",
              "                                        max_features=None, max_leaf_nodes=None,\n",
              "                                        min_impurity_decrease=0.0,\n",
              "                                        min_impurity_split=None,\n",
              "                                        min_samples_leaf=9, min_samples_split=2,\n",
              "                                        min_weight_fraction_leaf=0.0,\n",
              "                                        presort='deprecated', random_state=None,\n",
              "                                        splitter='best'))],\n",
              "         verbose=False)"
            ]
          },
          "metadata": {
            "tags": []
          },
          "execution_count": 39
        }
      ]
    },
    {
      "cell_type": "code",
      "metadata": {
        "id": "QAtsiHYV3T2r",
        "colab_type": "code",
        "outputId": "20c794c7-7d80-4805-eae7-1532c2966a51",
        "colab": {
          "base_uri": "https://localhost:8080/",
          "height": 34
        }
      },
      "source": [
        "fittedgrid5.best_score_"
      ],
      "execution_count": 0,
      "outputs": [
        {
          "output_type": "execute_result",
          "data": {
            "text/plain": [
              "0.7748120300751881"
            ]
          },
          "metadata": {
            "tags": []
          },
          "execution_count": 40
        }
      ]
    },
    {
      "cell_type": "code",
      "metadata": {
        "id": "g8a2W8TM3XPM",
        "colab_type": "code",
        "outputId": "9bea1c78-f42e-48b3-a3e9-c628c5a1880c",
        "colab": {
          "base_uri": "https://localhost:8080/",
          "height": 34
        }
      },
      "source": [
        "fittedgrid5.score(X5_train, y5_train)"
      ],
      "execution_count": 0,
      "outputs": [
        {
          "output_type": "execute_result",
          "data": {
            "text/plain": [
              "0.8697183098591549"
            ]
          },
          "metadata": {
            "tags": []
          },
          "execution_count": 41
        }
      ]
    },
    {
      "cell_type": "code",
      "metadata": {
        "id": "lgomlNn93ajq",
        "colab_type": "code",
        "outputId": "576c7084-d21f-477a-d7dd-bb60ad25be20",
        "colab": {
          "base_uri": "https://localhost:8080/",
          "height": 34
        }
      },
      "source": [
        "fittedgrid5.score(X5_test, y5_test)"
      ],
      "execution_count": 0,
      "outputs": [
        {
          "output_type": "execute_result",
          "data": {
            "text/plain": [
              "0.7131147540983607"
            ]
          },
          "metadata": {
            "tags": []
          },
          "execution_count": 42
        }
      ]
    },
    {
      "cell_type": "markdown",
      "metadata": {
        "id": "_M0Ni_39VRz8",
        "colab_type": "text"
      },
      "source": [
        "#### Random Forest"
      ]
    },
    {
      "cell_type": "code",
      "metadata": {
        "id": "G48f2JgIW_bc",
        "colab_type": "code",
        "colab": {}
      },
      "source": [
        "estimators = [('oversample', SVMSMOTE()),\n",
        "              ('pca', PCA()),\n",
        "              ('model', RandomForestClassifier())]\n",
        "\n",
        "pipe = imPipeline(estimators)\n",
        "\n",
        "param_grid = [{'oversample': [SVMSMOTE()],\n",
        "               'pca': [PCA()],\n",
        "               'pca__n_components': [x for x in range(5,num_feat,5)],\n",
        "               'model': [RandomForestClassifier()], \n",
        "               'model__max_depth': [i for i in range(1,11)],\n",
        "               'model__min_samples_leaf': [i for i in range(1,11)]}]\n",
        "\n",
        "grid = GridSearchCV(pipe, param_grid, n_jobs=-1, cv=5)\n",
        "fittedgrid5 = grid.fit(X5_train, y5_train)\n",
        "\n",
        "joblib.dump(fittedgrid5, 'rf_svmsmote_5yr.pkl')"
      ],
      "execution_count": 0,
      "outputs": []
    },
    {
      "cell_type": "code",
      "metadata": {
        "id": "42fwK_1d3dQl",
        "colab_type": "code",
        "colab": {}
      },
      "source": [
        "fittedgrid5.best_estimator_"
      ],
      "execution_count": 0,
      "outputs": []
    },
    {
      "cell_type": "code",
      "metadata": {
        "id": "im3OE5543gGE",
        "colab_type": "code",
        "colab": {}
      },
      "source": [
        "fittedgrid5.best_score_"
      ],
      "execution_count": 0,
      "outputs": []
    },
    {
      "cell_type": "code",
      "metadata": {
        "id": "3G4wfFQv3kuf",
        "colab_type": "code",
        "colab": {}
      },
      "source": [
        "fittedgrid5.score(X5_train, y5_train)"
      ],
      "execution_count": 0,
      "outputs": []
    },
    {
      "cell_type": "code",
      "metadata": {
        "id": "3poLKU783oFk",
        "colab_type": "code",
        "colab": {}
      },
      "source": [
        "fittedgrid5.score(X5_test, y5_test)"
      ],
      "execution_count": 0,
      "outputs": []
    },
    {
      "cell_type": "markdown",
      "metadata": {
        "id": "kw8236vZVUE7",
        "colab_type": "text"
      },
      "source": [
        "#### XGBoost decision tree"
      ]
    },
    {
      "cell_type": "code",
      "metadata": {
        "id": "148F5OMeYqtq",
        "colab_type": "code",
        "colab": {}
      },
      "source": [
        "estimators = [('oversample', SVMSMOTE()),\n",
        "              ('pca', PCA()),\n",
        "              ('model', XGBClassifier())]\n",
        "\n",
        "pipe = imPipeline(estimators)\n",
        "\n",
        "param_grid = [{'oversample': [SVMSMOTE()],\n",
        "               'pca': [PCA()],\n",
        "               'pca__n_components': [x for x in range(5,num_feat,5)],\n",
        "               'model': [XGBClassifier()], \n",
        "               'model__max_depth': [i for i in range(1,11)],\n",
        "               'model__min_samples_leaf': [i for i in range(1,11)]}]\n",
        "\n",
        "grid = GridSearchCV(pipe, param_grid, n_jobs=-1, cv=5)\n",
        "fittedgrid5 = grid.fit(X5_train, y5_train)\n",
        "\n",
        "joblib.dump(fittedgrid5, 'xgb_svmsmote_5yr.pkl')"
      ],
      "execution_count": 0,
      "outputs": []
    },
    {
      "cell_type": "code",
      "metadata": {
        "id": "J-j04ABk38Of",
        "colab_type": "code",
        "colab": {}
      },
      "source": [
        "fittedgrid5.best_estimator_"
      ],
      "execution_count": 0,
      "outputs": []
    },
    {
      "cell_type": "code",
      "metadata": {
        "id": "4HcS2eWR377G",
        "colab_type": "code",
        "colab": {}
      },
      "source": [
        "fittedgrid5.best_score_"
      ],
      "execution_count": 0,
      "outputs": []
    },
    {
      "cell_type": "code",
      "metadata": {
        "id": "dhIUp7Kt37tL",
        "colab_type": "code",
        "colab": {}
      },
      "source": [
        "fittedgrid5.score(X5_train, y5_train)"
      ],
      "execution_count": 0,
      "outputs": []
    },
    {
      "cell_type": "code",
      "metadata": {
        "id": "8zUfrlSy37a7",
        "colab_type": "code",
        "colab": {}
      },
      "source": [
        "fittedgrid5.score(X5_test, y5_test)"
      ],
      "execution_count": 0,
      "outputs": []
    },
    {
      "cell_type": "markdown",
      "metadata": {
        "id": "m8x2QNCAVXOb",
        "colab_type": "text"
      },
      "source": [
        "#### Support Vector Machine"
      ]
    },
    {
      "cell_type": "code",
      "metadata": {
        "id": "CkVfge4fYrdB",
        "colab_type": "code",
        "outputId": "392c9f75-813e-4d02-cb23-dad378186320",
        "colab": {
          "base_uri": "https://localhost:8080/",
          "height": 34
        }
      },
      "source": [
        "estimators = [('oversample', SVMSMOTE()),\n",
        "              ('pca', PCA()),\n",
        "              ('model', SVC())]\n",
        "\n",
        "pipe = imPipeline(estimators)\n",
        "\n",
        "param_grid = [{'oversample': [SVMSMOTE()],\n",
        "               'pca': [PCA()],\n",
        "               'pca__n_components': [x for x in range(5,num_feat,5)],\n",
        "               'model': [SVC(decision_function_shape='ovo', max_iter=999)], \n",
        "               'model__C': [10**i for i in range(-6,7)],\n",
        "               'model__kernel': ['linear', 'poly', 'rbf', 'sigmoid']}]\n",
        "\n",
        "grid = GridSearchCV(pipe, param_grid, n_jobs=-1, cv=5)\n",
        "fittedgrid5 = grid.fit(X5_train, y5_train)\n",
        "\n",
        "joblib.dump(fittedgrid5, 'svm_svmsmote_5yr.pkl')"
      ],
      "execution_count": 0,
      "outputs": [
        {
          "output_type": "execute_result",
          "data": {
            "text/plain": [
              "['svm_svmsmote_5yr.pkl']"
            ]
          },
          "metadata": {
            "tags": []
          },
          "execution_count": 43
        }
      ]
    },
    {
      "cell_type": "code",
      "metadata": {
        "id": "g5OtKqqcJpbb",
        "colab_type": "code",
        "outputId": "63ac8a32-96bb-452e-f1bc-57bae59f8306",
        "colab": {
          "base_uri": "https://localhost:8080/",
          "height": 289
        }
      },
      "source": [
        "fittedgrid5.best_estimator_"
      ],
      "execution_count": 0,
      "outputs": [
        {
          "output_type": "execute_result",
          "data": {
            "text/plain": [
              "Pipeline(memory=None,\n",
              "         steps=[('oversample',\n",
              "                 SVMSMOTE(k_neighbors=5, m_neighbors=10, n_jobs=1, out_step=0.5,\n",
              "                          random_state=None, sampling_strategy='auto',\n",
              "                          svm_estimator=None)),\n",
              "                ('pca',\n",
              "                 PCA(copy=True, iterated_power='auto', n_components=65,\n",
              "                     random_state=None, svd_solver='auto', tol=0.0,\n",
              "                     whiten=False)),\n",
              "                ('model',\n",
              "                 SVC(C=1, break_ties=False, cache_size=200, class_weight=None,\n",
              "                     coef0=0.0, decision_function_shape='ovo', degree=3,\n",
              "                     gamma='scale', kernel='rbf', max_iter=999,\n",
              "                     probability=False, random_state=None, shrinking=True,\n",
              "                     tol=0.001, verbose=False))],\n",
              "         verbose=False)"
            ]
          },
          "metadata": {
            "tags": []
          },
          "execution_count": 44
        }
      ]
    },
    {
      "cell_type": "code",
      "metadata": {
        "id": "9zYyu0SVJpQi",
        "colab_type": "code",
        "outputId": "38795a4e-bcb0-41de-ce7f-701cf217195b",
        "colab": {
          "base_uri": "https://localhost:8080/",
          "height": 34
        }
      },
      "source": [
        "fittedgrid5.best_score_"
      ],
      "execution_count": 0,
      "outputs": [
        {
          "output_type": "execute_result",
          "data": {
            "text/plain": [
              "0.7993734335839597"
            ]
          },
          "metadata": {
            "tags": []
          },
          "execution_count": 45
        }
      ]
    },
    {
      "cell_type": "code",
      "metadata": {
        "id": "-5dpsr4KJpGn",
        "colab_type": "code",
        "outputId": "5f02a3f4-7f7d-4447-bfe5-579d392d66ce",
        "colab": {
          "base_uri": "https://localhost:8080/",
          "height": 34
        }
      },
      "source": [
        "fittedgrid5.score(X5_train, y5_train)"
      ],
      "execution_count": 0,
      "outputs": [
        {
          "output_type": "execute_result",
          "data": {
            "text/plain": [
              "0.8802816901408451"
            ]
          },
          "metadata": {
            "tags": []
          },
          "execution_count": 46
        }
      ]
    },
    {
      "cell_type": "code",
      "metadata": {
        "id": "b9ikB4jBJorc",
        "colab_type": "code",
        "outputId": "529623eb-341f-4e6e-d0d4-d45da70ae8dd",
        "colab": {
          "base_uri": "https://localhost:8080/",
          "height": 34
        }
      },
      "source": [
        "fittedgrid5.score(X5_test, y5_test)"
      ],
      "execution_count": 0,
      "outputs": [
        {
          "output_type": "execute_result",
          "data": {
            "text/plain": [
              "0.7868852459016393"
            ]
          },
          "metadata": {
            "tags": []
          },
          "execution_count": 47
        }
      ]
    },
    {
      "cell_type": "markdown",
      "metadata": {
        "id": "_mSFhcBRNEy4",
        "colab_type": "text"
      },
      "source": [
        "#### Quadratic Discriminant Analysis"
      ]
    },
    {
      "cell_type": "code",
      "metadata": {
        "id": "IfcO4oKzNEP3",
        "colab_type": "code",
        "outputId": "c264cc96-9657-4342-a959-cb6cbd159343",
        "colab": {
          "base_uri": "https://localhost:8080/",
          "height": 34
        }
      },
      "source": [
        "my_qda = QuadraticDiscriminantAnalysis()\n",
        "my_qda.fit(X5_train, y5_train)\n",
        "joblib.dump(my_qda, 'qda_5yr.pkl')"
      ],
      "execution_count": 0,
      "outputs": [
        {
          "output_type": "execute_result",
          "data": {
            "text/plain": [
              "['qda_5yr.pkl']"
            ]
          },
          "metadata": {
            "tags": []
          },
          "execution_count": 51
        }
      ]
    },
    {
      "cell_type": "code",
      "metadata": {
        "id": "uyOO8WHENRtS",
        "colab_type": "code",
        "outputId": "3f7cb9cc-778e-4788-84c5-b67a6def9360",
        "colab": {
          "base_uri": "https://localhost:8080/",
          "height": 34
        }
      },
      "source": [
        "my_qda.score(X5_train, y5_train)"
      ],
      "execution_count": 0,
      "outputs": [
        {
          "output_type": "execute_result",
          "data": {
            "text/plain": [
              "0.8450704225352113"
            ]
          },
          "metadata": {
            "tags": []
          },
          "execution_count": 52
        }
      ]
    },
    {
      "cell_type": "code",
      "metadata": {
        "id": "vKejnMa3NWAc",
        "colab_type": "code",
        "outputId": "29f22857-b106-4ef7-b2c3-18e77a963783",
        "colab": {
          "base_uri": "https://localhost:8080/",
          "height": 34
        }
      },
      "source": [
        "my_qda.score(X5_test, y5_test)"
      ],
      "execution_count": 0,
      "outputs": [
        {
          "output_type": "execute_result",
          "data": {
            "text/plain": [
              "0.819672131147541"
            ]
          },
          "metadata": {
            "tags": []
          },
          "execution_count": 53
        }
      ]
    },
    {
      "cell_type": "code",
      "metadata": {
        "id": "O6p05l8HNb28",
        "colab_type": "code",
        "outputId": "6bb963ab-f384-4908-f1b9-354604aa7486",
        "colab": {
          "base_uri": "https://localhost:8080/",
          "height": 170
        }
      },
      "source": [
        "print(classification_report(y5_test, my_qda.predict(X5_test)))"
      ],
      "execution_count": 0,
      "outputs": [
        {
          "output_type": "stream",
          "text": [
            "              precision    recall  f1-score   support\n",
            "\n",
            "           0       0.82      1.00      0.90       100\n",
            "           1       0.00      0.00      0.00        22\n",
            "\n",
            "    accuracy                           0.82       122\n",
            "   macro avg       0.41      0.50      0.45       122\n",
            "weighted avg       0.67      0.82      0.74       122\n",
            "\n"
          ],
          "name": "stdout"
        }
      ]
    },
    {
      "cell_type": "markdown",
      "metadata": {
        "id": "d4TAciPtOSpv",
        "colab_type": "text"
      },
      "source": [
        "Try SMOTE-ing it:"
      ]
    },
    {
      "cell_type": "code",
      "metadata": {
        "id": "wDp-5hwlOKON",
        "colab_type": "code",
        "colab": {}
      },
      "source": [
        "sm = SVMSMOTE(random_state=314)\n",
        "X5_train_res, y5_train_res = sm.fit_resample(X5_train, y5_train)"
      ],
      "execution_count": 0,
      "outputs": []
    },
    {
      "cell_type": "code",
      "metadata": {
        "id": "YkWswyt0R5x2",
        "colab_type": "code",
        "outputId": "4dba1efc-cbbc-4604-fb1b-dd94d8d9c086",
        "colab": {
          "base_uri": "https://localhost:8080/",
          "height": 51
        }
      },
      "source": [
        "my_qda.fit(X5_train_res, y5_train_res)"
      ],
      "execution_count": 0,
      "outputs": [
        {
          "output_type": "execute_result",
          "data": {
            "text/plain": [
              "QuadraticDiscriminantAnalysis(priors=None, reg_param=0.0,\n",
              "                              store_covariance=False, tol=0.0001)"
            ]
          },
          "metadata": {
            "tags": []
          },
          "execution_count": 56
        }
      ]
    },
    {
      "cell_type": "code",
      "metadata": {
        "id": "2tuh2EZRR_rN",
        "colab_type": "code",
        "outputId": "c10bb38f-9491-4929-808f-3380583b1851",
        "colab": {
          "base_uri": "https://localhost:8080/",
          "height": 170
        }
      },
      "source": [
        "print(classification_report(y5_test, my_qda.predict(X5_test)))"
      ],
      "execution_count": 0,
      "outputs": [
        {
          "output_type": "stream",
          "text": [
            "              precision    recall  f1-score   support\n",
            "\n",
            "           0       0.82      1.00      0.90       100\n",
            "           1       0.00      0.00      0.00        22\n",
            "\n",
            "    accuracy                           0.82       122\n",
            "   macro avg       0.41      0.50      0.45       122\n",
            "weighted avg       0.67      0.82      0.74       122\n",
            "\n"
          ],
          "name": "stdout"
        }
      ]
    },
    {
      "cell_type": "markdown",
      "metadata": {
        "id": "LUYKso4QSRpR",
        "colab_type": "text"
      },
      "source": [
        "No improvement on test data"
      ]
    },
    {
      "cell_type": "markdown",
      "metadata": {
        "id": "qMGT1kSkVb-Y",
        "colab_type": "text"
      },
      "source": [
        "#### Neural network"
      ]
    },
    {
      "cell_type": "code",
      "metadata": {
        "colab_type": "code",
        "id": "f6h1KXduO1Vu",
        "colab": {}
      },
      "source": [
        "input_size = num_feat\n",
        "output_size = 2"
      ],
      "execution_count": 0,
      "outputs": []
    },
    {
      "cell_type": "code",
      "metadata": {
        "colab_type": "code",
        "id": "otn-m-oxO1V1",
        "colab": {}
      },
      "source": [
        "# Make the placeholder variables:\n",
        "input_X = tf.placeholder(tf.float32, shape=(None, input_size))\n",
        "input_y = tf.placeholder(tf.float32, shape=(None, output_size))"
      ],
      "execution_count": 0,
      "outputs": []
    },
    {
      "cell_type": "code",
      "metadata": {
        "colab_type": "code",
        "id": "G9yTnnP-O1V5",
        "colab": {}
      },
      "source": [
        "# Size of the hidden dimension\n",
        "num_hidden_1 = 400\n",
        "num_hidden_2 = 400\n",
        "\n",
        "# Hidden Unit activations 1\n",
        "W1 = tf.Variable(tf.random_normal([input_size, num_hidden_1]))\n",
        "b1 = tf.Variable(tf.random_normal([num_hidden_1])) #bias\n",
        "hidden_output_1 = tf.nn.elu(tf.add(tf.matmul(input_X,W1), b1)) # Relu for hidden layer\n",
        "\n",
        "# Hidden Unit activations 2\n",
        "W2 = tf.Variable(tf.random_normal([num_hidden_1, num_hidden_2]))\n",
        "b2 = tf.Variable(tf.random_normal([num_hidden_2])) #bias\n",
        "hidden_output_2 = tf.nn.elu(tf.add(tf.matmul(hidden_output_1,W2), b2)) # Relu for hidden layer\n",
        "\n",
        "# Output Unit activations\n",
        "W3 = tf.Variable(tf.random_normal([num_hidden_2, output_size]))\n",
        "b3 = tf.Variable(tf.random_normal([output_size]))\n",
        "net_output = tf.nn.softmax(tf.add( tf.matmul(hidden_output_2, W3), b3)) # Softmax for output layer"
      ],
      "execution_count": 0,
      "outputs": []
    },
    {
      "cell_type": "code",
      "metadata": {
        "colab_type": "code",
        "id": "jfkxABu9O1V7",
        "colab": {}
      },
      "source": [
        "encoder = LabelBinarizer()\n",
        "\n",
        "one_hot_encoder = encoder.fit(list(y5_train))\n",
        "y5_np_train = one_hot_encoder.transform(y5_train)\n",
        "y5_np_test = one_hot_encoder.transform(y5_test)\n",
        "y5_np_train = np.hstack((y5_np_train, 1 - y5_np_train))\n",
        "y5_np_test = np.hstack((y5_np_test, 1 - y5_np_test))"
      ],
      "execution_count": 0,
      "outputs": []
    },
    {
      "cell_type": "code",
      "metadata": {
        "colab_type": "code",
        "outputId": "70a1b1ab-3d5f-4897-cc3a-bd29173cad9b",
        "id": "aOKSiZepO1V-",
        "colab": {
          "base_uri": "https://localhost:8080/",
          "height": 34
        }
      },
      "source": [
        "y5_np_train.shape"
      ],
      "execution_count": 0,
      "outputs": [
        {
          "output_type": "execute_result",
          "data": {
            "text/plain": [
              "(284, 2)"
            ]
          },
          "metadata": {
            "tags": []
          },
          "execution_count": 20
        }
      ]
    },
    {
      "cell_type": "code",
      "metadata": {
        "colab_type": "code",
        "outputId": "913c128a-ed24-4d4c-b75c-be5536c3a7d9",
        "id": "fOewQfLSO1WB",
        "colab": {
          "base_uri": "https://localhost:8080/",
          "height": 88
        }
      },
      "source": [
        "# Use cross entropy loss (we're doing classification)\n",
        "# This is where we link our network to the objective function.\n",
        "loss = tf.losses.softmax_cross_entropy(input_y, net_output)\n",
        "\n",
        "# Get accuracy measure\n",
        "# acc will store the accuracy score of the true labels and our net output\n",
        "acc, acc_op = tf.metrics.accuracy(labels=tf.argmax(input_y, 1), predictions=tf.argmax(net_output, 1))\n",
        "\n",
        "# Use gradient descent with a learning rate of 0.1\n",
        "optimizer = tf.train.GradientDescentOptimizer(0.1)\n",
        "\n",
        "# Objective is minimize the loss\n",
        "train = optimizer.minimize(loss)"
      ],
      "execution_count": 0,
      "outputs": [
        {
          "output_type": "stream",
          "text": [
            "WARNING:tensorflow:From /usr/local/lib/python3.6/dist-packages/tensorflow_core/python/ops/losses/losses_impl.py:121: where (from tensorflow.python.ops.array_ops) is deprecated and will be removed in a future version.\n",
            "Instructions for updating:\n",
            "Use tf.where in 2.0, which has the same broadcast rule as np.where\n"
          ],
          "name": "stdout"
        }
      ]
    },
    {
      "cell_type": "code",
      "metadata": {
        "colab_type": "code",
        "id": "ao_nuev7O1WE",
        "colab": {}
      },
      "source": [
        "# Open a TensorFlow session\n",
        "sess = tf.Session()\n",
        "init = tf.group(tf.global_variables_initializer(), tf.local_variables_initializer())\n",
        "sess.run(init)"
      ],
      "execution_count": 0,
      "outputs": []
    },
    {
      "cell_type": "code",
      "metadata": {
        "colab_type": "code",
        "outputId": "023aa043-2012-4479-ee84-1339ca81f712",
        "id": "LGQet-91O1WG",
        "colab": {
          "base_uri": "https://localhost:8080/",
          "height": 374
        }
      },
      "source": [
        "epochs = 20000\n",
        "\n",
        "# Each epoch is one pass through the data\n",
        "for epoch in range(epochs):\n",
        "    \n",
        "    # Update the network.\n",
        "    # feed_dict passes in the input for training\n",
        "    # train linkes the session to the network\n",
        "    sess.run(train, feed_dict={input_X: X5_train, input_y: y5_np_train})\n",
        "    \n",
        "    if epoch % 1000 == 0 :\n",
        "        # Get the training loss\n",
        "        training_loss = sess.run(loss, feed_dict={input_X: X5_train, input_y: y5_np_train})\n",
        "        \n",
        "        score = sess.run([acc, acc_op], feed_dict={input_X: X5_train, input_y: y5_np_train})\n",
        "        print(f'Epoch: {epoch}, Loss: {training_loss:.3f}, Accuracy: {score[1]:.3f}')\n",
        "\n",
        "# run session to calculate the accuracy score on test set\n",
        "test_acc,_ = sess.run([acc, acc_op], feed_dict={input_X: X5_test, input_y: y5_np_test})\n",
        "print(test_acc)"
      ],
      "execution_count": 0,
      "outputs": [
        {
          "output_type": "stream",
          "text": [
            "Epoch: 0, Loss: 0.683, Accuracy: 0.630\n",
            "Epoch: 1000, Loss: 0.683, Accuracy: 0.630\n",
            "Epoch: 2000, Loss: 0.683, Accuracy: 0.630\n",
            "Epoch: 3000, Loss: 0.683, Accuracy: 0.630\n",
            "Epoch: 4000, Loss: 0.683, Accuracy: 0.630\n",
            "Epoch: 5000, Loss: 0.683, Accuracy: 0.630\n",
            "Epoch: 6000, Loss: 0.683, Accuracy: 0.630\n",
            "Epoch: 7000, Loss: 0.683, Accuracy: 0.630\n",
            "Epoch: 8000, Loss: 0.683, Accuracy: 0.630\n",
            "Epoch: 9000, Loss: 0.683, Accuracy: 0.630\n",
            "Epoch: 10000, Loss: 0.683, Accuracy: 0.630\n",
            "Epoch: 11000, Loss: 0.683, Accuracy: 0.630\n",
            "Epoch: 12000, Loss: 0.683, Accuracy: 0.630\n",
            "Epoch: 13000, Loss: 0.683, Accuracy: 0.630\n",
            "Epoch: 14000, Loss: 0.683, Accuracy: 0.630\n",
            "Epoch: 15000, Loss: 0.683, Accuracy: 0.630\n",
            "Epoch: 16000, Loss: 0.683, Accuracy: 0.630\n",
            "Epoch: 17000, Loss: 0.683, Accuracy: 0.630\n",
            "Epoch: 18000, Loss: 0.683, Accuracy: 0.630\n",
            "Epoch: 19000, Loss: 0.683, Accuracy: 0.630\n",
            "0.6302817\n"
          ],
          "name": "stdout"
        }
      ]
    },
    {
      "cell_type": "markdown",
      "metadata": {
        "id": "BUQywc8Smg5h",
        "colab_type": "text"
      },
      "source": [
        "### Clustering: K-means and OPTICS"
      ]
    },
    {
      "cell_type": "code",
      "metadata": {
        "id": "XZONEYL5mkkx",
        "colab_type": "code",
        "colab": {}
      },
      "source": [
        "X = df_tf[df_tf.columns[feat_mask]]\n",
        "y = df_tf[['deadstatus.event', 'Survival.time']]\n",
        "\n",
        "# Train-test split\n",
        "# Perform K-means cluster on the train set, use clusters for model prediction on median survival time\n",
        "\n",
        "X_train, X_test, y_train, y_test = train_test_split(X, y, test_size=0.3, random_state=42)\n",
        "\n",
        "my_scaler_cl = StandardScaler()\n",
        "X_tr_scaled = my_scaler_cl.fit_transform(X_train)\n",
        "X_tst_scaled = my_scaler_cl.transform(X_test)"
      ],
      "execution_count": 0,
      "outputs": []
    },
    {
      "cell_type": "markdown",
      "metadata": {
        "id": "eRWJDz4F0E1s",
        "colab_type": "text"
      },
      "source": [
        "#### K-means"
      ]
    },
    {
      "cell_type": "markdown",
      "metadata": {
        "id": "6yyAcN0vxf3T",
        "colab_type": "text"
      },
      "source": [
        "##### Optimizing number of clusters"
      ]
    },
    {
      "cell_type": "markdown",
      "metadata": {
        "id": "871PITSlwZ3f",
        "colab_type": "text"
      },
      "source": [
        "Plot the inertias corresponding to a range of numbers of clusters and determine the \"elbow\":"
      ]
    },
    {
      "cell_type": "code",
      "metadata": {
        "id": "M28DHnFzVa7W",
        "colab_type": "code",
        "colab": {}
      },
      "source": [
        "nsclc_inertias = []\n",
        "\n",
        "for i in range(2,8):\n",
        "  my_kmeans = KMeans(n_clusters=i)\n",
        "  my_kmeans.fit(X_tr_scaled)\n",
        "\n",
        "  nsclc_inertias.append(my_kmeans.inertia_)"
      ],
      "execution_count": 0,
      "outputs": []
    },
    {
      "cell_type": "code",
      "metadata": {
        "id": "6O5EODQbW0Q1",
        "colab_type": "code",
        "outputId": "eff13a87-87b5-4fe9-973e-e49e6230fcfd",
        "colab": {
          "base_uri": "https://localhost:8080/",
          "height": 265
        }
      },
      "source": [
        "plt.figure()\n",
        "plt.plot(np.arange(2,8), nsclc_inertias)\n",
        "plt.grid()\n",
        "plt.show()"
      ],
      "execution_count": 12,
      "outputs": [
        {
          "output_type": "display_data",
          "data": {
            "image/png": "[encoded data removed]",
            "text/plain": [
              "<Figure size 432x288 with 1 Axes>"
            ]
          },
          "metadata": {
            "tags": []
          }
        }
      ]
    },
    {
      "cell_type": "markdown",
      "metadata": {
        "id": "KvE0Eo2Gj0Pq",
        "colab_type": "text"
      },
      "source": [
        "The elbow point seems to be around n=4. Explore the clusters:"
      ]
    },
    {
      "cell_type": "code",
      "metadata": {
        "id": "BXjS4Ncfj9gM",
        "colab_type": "code",
        "colab": {
          "base_uri": "https://localhost:8080/",
          "height": 34
        },
        "outputId": "4c90ca1c-064f-405e-9471-a79057bcdf81"
      },
      "source": [
        "n_cl_optimize = 4\n",
        "my_kmeans = KMeans(n_clusters=n_cl_optimize, random_state=42)\n",
        "my_kmeans.fit(X_tr_scaled)\n",
        "\n",
        "collections.Counter(my_kmeans.labels_)"
      ],
      "execution_count": 13,
      "outputs": [
        {
          "output_type": "execute_result",
          "data": {
            "text/plain": [
              "Counter({0: 78, 1: 106, 2: 73, 3: 37})"
            ]
          },
          "metadata": {
            "tags": []
          },
          "execution_count": 13
        }
      ]
    },
    {
      "cell_type": "markdown",
      "metadata": {
        "id": "6vbdiVL4k5JN",
        "colab_type": "text"
      },
      "source": [
        "The number of points in each cluster seems reasonable. Proceed with the analysis:"
      ]
    },
    {
      "cell_type": "code",
      "metadata": {
        "id": "SUBfLTn7XVsr",
        "colab_type": "code",
        "colab": {}
      },
      "source": [
        "joblib.dump(my_kmeans, 'kmeans_4_test.pkl')\n",
        "\n",
        "X_long = X_train.copy()\n",
        "X_long['Cluster'] = my_kmeans.predict(X_tr_scaled)\n",
        "\n",
        "#X_long['age'] = df_tf['age']\n",
        "#X_long['Clinical.T.Stage'] = df_tf['clinical.T.Stage']\n",
        "#X_long['Clinical.N.Stage'] = df_tf['Clinical.N.Stage']\n",
        "#X_long['Clinical.M.Stage'] = df_tf['Clinical.M.Stage']\n",
        "#X_long['Histology'] = df_tf['Histology']\n",
        "X_long['Survival.time'] = y_train['Survival.time']\n",
        "X_long['Deadstatus.event'] = y_train['deadstatus.event']"
      ],
      "execution_count": 0,
      "outputs": []
    },
    {
      "cell_type": "markdown",
      "metadata": {
        "id": "7-eroIDCgcmc",
        "colab_type": "text"
      },
      "source": [
        "Make some Kaplan-Meier plots"
      ]
    },
    {
      "cell_type": "code",
      "metadata": {
        "id": "P_KmDWYkgcEt",
        "colab_type": "code",
        "outputId": "ae850260-bafc-41a7-d004-887e66f5670a",
        "colab": {
          "base_uri": "https://localhost:8080/",
          "height": 442
        }
      },
      "source": [
        "kmf = KaplanMeierFitter()\n",
        "\n",
        "plt.figure(figsize=(10,7))\n",
        "\n",
        "for i in range(n_cl_optimize):\n",
        "  kmf.fit(X_long[X_long['Cluster']==i]['Survival.time'], \n",
        "          X_long[X_long['Cluster']==i]['Deadstatus.event'], \n",
        "          label='Cluster '+str(i))\n",
        "\n",
        "  if (i==0):\n",
        "    ax1 = kmf.plot()\n",
        "  else:\n",
        "    kmf.plot(ax=ax1)"
      ],
      "execution_count": 15,
      "outputs": [
        {
          "output_type": "display_data",
          "data": {
            "image/png": "[encoded data removed]",
            "text/plain": [
              "<Figure size 720x504 with 1 Axes>"
            ]
          },
          "metadata": {
            "tags": []
          }
        }
      ]
    },
    {
      "cell_type": "markdown",
      "metadata": {
        "id": "yK1qw-gFloFB",
        "colab_type": "text"
      },
      "source": [
        "Cluster 1 and Cluster 0 seem to have survival curves very close to each other throughout the timeline. I will re-cluster the data into 3:"
      ]
    },
    {
      "cell_type": "code",
      "metadata": {
        "id": "t-gujxvflyLO",
        "colab_type": "code",
        "colab": {
          "base_uri": "https://localhost:8080/",
          "height": 442
        },
        "outputId": "417779d0-8a80-4d69-865e-f988a28458a8"
      },
      "source": [
        "n_cl_optimize = 3\n",
        "my_kmeans = KMeans(n_clusters=n_cl_optimize, random_state=42)\n",
        "my_kmeans.fit(X_tr_scaled)\n",
        "\n",
        "collections.Counter(my_kmeans.labels_)\n",
        "\n",
        "joblib.dump(my_kmeans, 'kmeans_3.pkl')\n",
        "\n",
        "X_long = X_train.copy()\n",
        "X_long['Cluster'] = my_kmeans.predict(X_tr_scaled)\n",
        "\n",
        "X_long['Survival.time'] = y_train['Survival.time']\n",
        "X_long['Deadstatus.event'] = y_train['deadstatus.event']\n",
        "\n",
        "plt.figure(figsize=(10,7))\n",
        "\n",
        "median_list = []\n",
        "ci_list = []\n",
        "\n",
        "for i in range(n_cl_optimize):\n",
        "  kmf.fit(X_long[X_long['Cluster']==i]['Survival.time'], \n",
        "          X_long[X_long['Cluster']==i]['Deadstatus.event'], \n",
        "          label='Cluster '+str(i))\n",
        "\n",
        "  if (i==0):\n",
        "    ax1 = kmf.plot()\n",
        "  else:\n",
        "    kmf.plot(ax=ax1)\n",
        "\n",
        "  median_list.append(kmf.median_survival_time_)\n",
        "  ci_list.append(median_survival_times(kmf.confidence_interval_))"
      ],
      "execution_count": 37,
      "outputs": [
        {
          "output_type": "display_data",
          "data": {
            "image/png": "[encoded data removed]",
            "text/plain": [
              "<Figure size 720x504 with 1 Axes>"
            ]
          },
          "metadata": {
            "tags": []
          }
        }
      ]
    },
    {
      "cell_type": "markdown",
      "metadata": {
        "id": "Gh1z1nCpnMeU",
        "colab_type": "text"
      },
      "source": [
        "Clusters 0 and 1 seem to have some separation in their KM curves. We will explore the distributions according to all three clusters."
      ]
    },
    {
      "cell_type": "markdown",
      "metadata": {
        "id": "pIahbqFuxoM5",
        "colab_type": "text"
      },
      "source": [
        "##### Statistical significance of differences in survival at different points on timeline"
      ]
    },
    {
      "cell_type": "code",
      "metadata": {
        "id": "bOIdc_fEy7iF",
        "colab_type": "code",
        "outputId": "f1f4243f-62ad-4c14-fc89-9f017ac342c8",
        "colab": {
          "base_uri": "https://localhost:8080/",
          "height": 204
        }
      },
      "source": [
        "T1 = X_long[X_long['Cluster']==0]['Survival.time']\n",
        "T2 = X_long[X_long['Cluster']==1]['Survival.time']\n",
        "\n",
        "E1 = X_long[X_long['Cluster']==0]['Deadstatus.event']\n",
        "E2 = X_long[X_long['Cluster']==1]['Deadstatus.event']\n",
        "\n",
        "results_1yr = survival_difference_at_fixed_point_in_time_test(365, T1, T2, event_observed_A=E1, event_observed_B=E2)\n",
        "results_1yr.print_summary()"
      ],
      "execution_count": 17,
      "outputs": [
        {
          "output_type": "display_data",
          "data": {
            "text/html": [
              "<div>\n",
              "<style scoped>\n",
              "    .dataframe tbody tr th:only-of-type {\n",
              "        vertical-align: middle;\n",
              "    }\n",
              "\n",
              "    .dataframe tbody tr th {\n",
              "        vertical-align: top;\n",
              "    }\n",
              "\n",
              "    .dataframe thead th {\n",
              "        text-align: right;\n",
              "    }\n",
              "</style>\n",
              "<table border=\"1\" class=\"dataframe\">\n",
              "  <tbody>\n",
              "    <tr>\n",
              "      <th>null_distribution</th>\n",
              "      <td>chi squared</td>\n",
              "    </tr>\n",
              "    <tr>\n",
              "      <th>degrees_of_freedom</th>\n",
              "      <td>1</td>\n",
              "    </tr>\n",
              "    <tr>\n",
              "      <th>point_in_time</th>\n",
              "      <td>365</td>\n",
              "    </tr>\n",
              "    <tr>\n",
              "      <th>test_name</th>\n",
              "      <td>survival_difference_at_fixed_point_in_time_test</td>\n",
              "    </tr>\n",
              "  </tbody>\n",
              "</table>\n",
              "</div><table border=\"1\" class=\"dataframe\">\n",
              "  <thead>\n",
              "    <tr style=\"text-align: right;\">\n",
              "      <th></th>\n",
              "      <th>test_statistic</th>\n",
              "      <th>p</th>\n",
              "    </tr>\n",
              "  </thead>\n",
              "  <tbody>\n",
              "    <tr>\n",
              "      <th>0</th>\n",
              "      <td>9.49</td>\n",
              "      <td>&lt;0.005</td>\n",
              "    </tr>\n",
              "  </tbody>\n",
              "</table>"
            ],
            "text/plain": [
              "<IPython.core.display.HTML object>"
            ]
          },
          "metadata": {
            "tags": []
          }
        }
      ]
    },
    {
      "cell_type": "markdown",
      "metadata": {
        "id": "yTlKE4m12xMN",
        "colab_type": "text"
      },
      "source": [
        "So there is a statistically significant difference in the survival rates between two clusters at 1 year."
      ]
    },
    {
      "cell_type": "code",
      "metadata": {
        "id": "C_PwGfFP2KTZ",
        "colab_type": "code",
        "outputId": "10c6b039-5021-460c-eb0a-c030120bc9d3",
        "colab": {
          "base_uri": "https://localhost:8080/",
          "height": 204
        }
      },
      "source": [
        "results_3yr = survival_difference_at_fixed_point_in_time_test(3*365, T1, T2, event_observed_A=E1, event_observed_B=E2)\n",
        "results_3yr.print_summary()"
      ],
      "execution_count": 18,
      "outputs": [
        {
          "output_type": "display_data",
          "data": {
            "text/html": [
              "<div>\n",
              "<style scoped>\n",
              "    .dataframe tbody tr th:only-of-type {\n",
              "        vertical-align: middle;\n",
              "    }\n",
              "\n",
              "    .dataframe tbody tr th {\n",
              "        vertical-align: top;\n",
              "    }\n",
              "\n",
              "    .dataframe thead th {\n",
              "        text-align: right;\n",
              "    }\n",
              "</style>\n",
              "<table border=\"1\" class=\"dataframe\">\n",
              "  <tbody>\n",
              "    <tr>\n",
              "      <th>null_distribution</th>\n",
              "      <td>chi squared</td>\n",
              "    </tr>\n",
              "    <tr>\n",
              "      <th>degrees_of_freedom</th>\n",
              "      <td>1</td>\n",
              "    </tr>\n",
              "    <tr>\n",
              "      <th>point_in_time</th>\n",
              "      <td>1095</td>\n",
              "    </tr>\n",
              "    <tr>\n",
              "      <th>test_name</th>\n",
              "      <td>survival_difference_at_fixed_point_in_time_test</td>\n",
              "    </tr>\n",
              "  </tbody>\n",
              "</table>\n",
              "</div><table border=\"1\" class=\"dataframe\">\n",
              "  <thead>\n",
              "    <tr style=\"text-align: right;\">\n",
              "      <th></th>\n",
              "      <th>test_statistic</th>\n",
              "      <th>p</th>\n",
              "    </tr>\n",
              "  </thead>\n",
              "  <tbody>\n",
              "    <tr>\n",
              "      <th>0</th>\n",
              "      <td>8.19</td>\n",
              "      <td>&lt;0.005</td>\n",
              "    </tr>\n",
              "  </tbody>\n",
              "</table>"
            ],
            "text/plain": [
              "<IPython.core.display.HTML object>"
            ]
          },
          "metadata": {
            "tags": []
          }
        }
      ]
    },
    {
      "cell_type": "markdown",
      "metadata": {
        "id": "PLed96v028hY",
        "colab_type": "text"
      },
      "source": [
        "A statistically significant difference persists in the survival rates between the same two clusters at 3 years."
      ]
    },
    {
      "cell_type": "code",
      "metadata": {
        "id": "qzanGoK-2Q2G",
        "colab_type": "code",
        "outputId": "d1b37278-68e0-42af-ef47-8c33f5eebe71",
        "colab": {
          "base_uri": "https://localhost:8080/",
          "height": 204
        }
      },
      "source": [
        "results_5yr = survival_difference_at_fixed_point_in_time_test(5*365, T1, T2, event_observed_A=E1, event_observed_B=E2)\n",
        "results_5yr.print_summary()"
      ],
      "execution_count": 19,
      "outputs": [
        {
          "output_type": "display_data",
          "data": {
            "text/html": [
              "<div>\n",
              "<style scoped>\n",
              "    .dataframe tbody tr th:only-of-type {\n",
              "        vertical-align: middle;\n",
              "    }\n",
              "\n",
              "    .dataframe tbody tr th {\n",
              "        vertical-align: top;\n",
              "    }\n",
              "\n",
              "    .dataframe thead th {\n",
              "        text-align: right;\n",
              "    }\n",
              "</style>\n",
              "<table border=\"1\" class=\"dataframe\">\n",
              "  <tbody>\n",
              "    <tr>\n",
              "      <th>null_distribution</th>\n",
              "      <td>chi squared</td>\n",
              "    </tr>\n",
              "    <tr>\n",
              "      <th>degrees_of_freedom</th>\n",
              "      <td>1</td>\n",
              "    </tr>\n",
              "    <tr>\n",
              "      <th>point_in_time</th>\n",
              "      <td>1825</td>\n",
              "    </tr>\n",
              "    <tr>\n",
              "      <th>test_name</th>\n",
              "      <td>survival_difference_at_fixed_point_in_time_test</td>\n",
              "    </tr>\n",
              "  </tbody>\n",
              "</table>\n",
              "</div><table border=\"1\" class=\"dataframe\">\n",
              "  <thead>\n",
              "    <tr style=\"text-align: right;\">\n",
              "      <th></th>\n",
              "      <th>test_statistic</th>\n",
              "      <th>p</th>\n",
              "    </tr>\n",
              "  </thead>\n",
              "  <tbody>\n",
              "    <tr>\n",
              "      <th>0</th>\n",
              "      <td>1.42</td>\n",
              "      <td>0.23</td>\n",
              "    </tr>\n",
              "  </tbody>\n",
              "</table>"
            ],
            "text/plain": [
              "<IPython.core.display.HTML object>"
            ]
          },
          "metadata": {
            "tags": []
          }
        }
      ]
    },
    {
      "cell_type": "markdown",
      "metadata": {
        "id": "c8GG8err3c1q",
        "colab_type": "text"
      },
      "source": [
        "No statistically significant difference in the survival rates between the same two clusters at the 5-year mark."
      ]
    },
    {
      "cell_type": "markdown",
      "metadata": {
        "id": "0A5BzY5exy6E",
        "colab_type": "text"
      },
      "source": [
        "##### Characteristics of the different clusters"
      ]
    },
    {
      "cell_type": "markdown",
      "metadata": {
        "id": "7w7pjrUR4IJd",
        "colab_type": "text"
      },
      "source": [
        "What are the characteristics between the two clusters?"
      ]
    },
    {
      "cell_type": "code",
      "metadata": {
        "id": "1S986ehm3uFE",
        "colab_type": "code",
        "colab": {}
      },
      "source": [
        "data_1 = X_tr_scaled[X_long['Cluster']==0]\n",
        "data_2 = X_tr_scaled[X_long['Cluster']==1]\n",
        "\n",
        "ttest_results = ttest_ind(data_1, data_2, usevar='unequal')"
      ],
      "execution_count": 0,
      "outputs": []
    },
    {
      "cell_type": "code",
      "metadata": {
        "id": "Lkqk1gVl57gB",
        "colab_type": "code",
        "outputId": "b35d7b2e-df1d-43d7-f3b9-da9a565e067e",
        "colab": {
          "base_uri": "https://localhost:8080/",
          "height": 34
        }
      },
      "source": [
        "joblib.dump(ttest_results, 'kmeans_diff.pkl')"
      ],
      "execution_count": 21,
      "outputs": [
        {
          "output_type": "execute_result",
          "data": {
            "text/plain": [
              "['kmeans_diff.pkl']"
            ]
          },
          "metadata": {
            "tags": []
          },
          "execution_count": 21
        }
      ]
    },
    {
      "cell_type": "markdown",
      "metadata": {
        "id": "HGdW9wOHFnr8",
        "colab_type": "text"
      },
      "source": [
        "Storing the cluster data separately:"
      ]
    },
    {
      "cell_type": "code",
      "metadata": {
        "id": "KmfkfNBRFaWF",
        "colab_type": "code",
        "colab": {}
      },
      "source": [
        "df_data_1 = pd.DataFrame(data_1, columns=X.columns)\n",
        "df_data_2 = pd.DataFrame(data_2, columns=X.columns)"
      ],
      "execution_count": 0,
      "outputs": []
    },
    {
      "cell_type": "code",
      "metadata": {
        "id": "OLSVl_DRFtEL",
        "colab_type": "code",
        "outputId": "2b0f5b5b-e339-4fce-dfcd-1146e98d4d9f",
        "colab": {
          "base_uri": "https://localhost:8080/",
          "height": 34
        }
      },
      "source": [
        "joblib.dump(df_data_1, 'df_cl1.pkl')\n",
        "joblib.dump(df_data_2, 'df_cl2.pkl')"
      ],
      "execution_count": 23,
      "outputs": [
        {
          "output_type": "execute_result",
          "data": {
            "text/plain": [
              "['df_cl2.pkl']"
            ]
          },
          "metadata": {
            "tags": []
          },
          "execution_count": 23
        }
      ]
    },
    {
      "cell_type": "markdown",
      "metadata": {
        "id": "015-Ig2jFLKH",
        "colab_type": "text"
      },
      "source": [
        "Storing the p-values in a dataframe with indices indicating the variables tested:"
      ]
    },
    {
      "cell_type": "code",
      "metadata": {
        "id": "gotENLqvDblb",
        "colab_type": "code",
        "outputId": "1441a3f6-8bb6-4ec4-a445-eeb1869f2a4c",
        "colab": {
          "base_uri": "https://localhost:8080/",
          "height": 419
        }
      },
      "source": [
        "df_pval = pd.DataFrame(ttest_results[1], index=X.columns)\n",
        "df_pval"
      ],
      "execution_count": 22,
      "outputs": [
        {
          "output_type": "execute_result",
          "data": {
            "text/html": [
              "<div>\n",
              "<style scoped>\n",
              "    .dataframe tbody tr th:only-of-type {\n",
              "        vertical-align: middle;\n",
              "    }\n",
              "\n",
              "    .dataframe tbody tr th {\n",
              "        vertical-align: top;\n",
              "    }\n",
              "\n",
              "    .dataframe thead th {\n",
              "        text-align: right;\n",
              "    }\n",
              "</style>\n",
              "<table border=\"1\" class=\"dataframe\">\n",
              "  <thead>\n",
              "    <tr style=\"text-align: right;\">\n",
              "      <th></th>\n",
              "      <th>0</th>\n",
              "    </tr>\n",
              "  </thead>\n",
              "  <tbody>\n",
              "    <tr>\n",
              "      <th>shape_Maximum3DDiameter_0</th>\n",
              "      <td>2.153122e-23</td>\n",
              "    </tr>\n",
              "    <tr>\n",
              "      <th>shape_MeshVolume_0</th>\n",
              "      <td>5.469580e-21</td>\n",
              "    </tr>\n",
              "    <tr>\n",
              "      <th>shape_MajorAxisLength_0</th>\n",
              "      <td>2.806385e-10</td>\n",
              "    </tr>\n",
              "    <tr>\n",
              "      <th>shape_Sphericity_0</th>\n",
              "      <td>2.740442e-11</td>\n",
              "    </tr>\n",
              "    <tr>\n",
              "      <th>shape_LeastAxisLength_0</th>\n",
              "      <td>6.837539e-40</td>\n",
              "    </tr>\n",
              "    <tr>\n",
              "      <th>...</th>\n",
              "      <td>...</td>\n",
              "    </tr>\n",
              "    <tr>\n",
              "      <th>log_glszm_SizeZoneNonUniformity_0</th>\n",
              "      <td>1.280538e-14</td>\n",
              "    </tr>\n",
              "    <tr>\n",
              "      <th>log_glszm_GrayLevelNonUniformity_0</th>\n",
              "      <td>1.289177e-27</td>\n",
              "    </tr>\n",
              "    <tr>\n",
              "      <th>log_glszm_ZonePercentage_0</th>\n",
              "      <td>5.169343e-59</td>\n",
              "    </tr>\n",
              "    <tr>\n",
              "      <th>log_glszm_LargeAreaLowGrayLevelEmphasis_0</th>\n",
              "      <td>4.611523e-47</td>\n",
              "    </tr>\n",
              "    <tr>\n",
              "      <th>bc_glszm_LowGrayLevelZoneEmphasis_0</th>\n",
              "      <td>2.088818e-29</td>\n",
              "    </tr>\n",
              "  </tbody>\n",
              "</table>\n",
              "<p>87 rows × 1 columns</p>\n",
              "</div>"
            ],
            "text/plain": [
              "                                                      0\n",
              "shape_Maximum3DDiameter_0                  2.153122e-23\n",
              "shape_MeshVolume_0                         5.469580e-21\n",
              "shape_MajorAxisLength_0                    2.806385e-10\n",
              "shape_Sphericity_0                         2.740442e-11\n",
              "shape_LeastAxisLength_0                    6.837539e-40\n",
              "...                                                 ...\n",
              "log_glszm_SizeZoneNonUniformity_0          1.280538e-14\n",
              "log_glszm_GrayLevelNonUniformity_0         1.289177e-27\n",
              "log_glszm_ZonePercentage_0                 5.169343e-59\n",
              "log_glszm_LargeAreaLowGrayLevelEmphasis_0  4.611523e-47\n",
              "bc_glszm_LowGrayLevelZoneEmphasis_0        2.088818e-29\n",
              "\n",
              "[87 rows x 1 columns]"
            ]
          },
          "metadata": {
            "tags": []
          },
          "execution_count": 22
        }
      ]
    },
    {
      "cell_type": "code",
      "metadata": {
        "id": "TFrIKvoKE4gx",
        "colab_type": "code",
        "outputId": "155071a2-c051-4610-9c15-0707ee24b3ea",
        "colab": {
          "base_uri": "https://localhost:8080/",
          "height": 34
        }
      },
      "source": [
        "joblib.dump(df_pval, 'pvalues_variables.pkl')"
      ],
      "execution_count": 25,
      "outputs": [
        {
          "output_type": "execute_result",
          "data": {
            "text/plain": [
              "['pvalues_variables.pkl']"
            ]
          },
          "metadata": {
            "tags": []
          },
          "execution_count": 25
        }
      ]
    },
    {
      "cell_type": "markdown",
      "metadata": {
        "id": "A7iAl4KBoYTg",
        "colab_type": "text"
      },
      "source": [
        "Apply Holm-Bonferroni Correction to the thresholds:"
      ]
    },
    {
      "cell_type": "code",
      "metadata": {
        "id": "sHZU4df1lHAn",
        "colab_type": "code",
        "colab": {}
      },
      "source": [
        "# No adding 1 in the denominator because of zero-indexing\n",
        "df_pval['alpha'] = 0.05/(df_pval.shape[0] - np.array(ttest_results[1].argsort()))"
      ],
      "execution_count": 0,
      "outputs": []
    },
    {
      "cell_type": "code",
      "metadata": {
        "id": "MKmROt_sob3D",
        "colab_type": "code",
        "colab": {}
      },
      "source": [
        "df_pval.columns = ['p values', 'alpha']"
      ],
      "execution_count": 0,
      "outputs": []
    },
    {
      "cell_type": "markdown",
      "metadata": {
        "id": "N8_M7aA9pX_v",
        "colab_type": "text"
      },
      "source": [
        "Compare the p-values with the respective thresholds:"
      ]
    },
    {
      "cell_type": "code",
      "metadata": {
        "id": "mN63-uDXonkz",
        "colab_type": "code",
        "colab": {}
      },
      "source": [
        "df_pval_sig = df_pval[df_pval['p values'] < df_pval['alpha']]"
      ],
      "execution_count": 0,
      "outputs": []
    },
    {
      "cell_type": "markdown",
      "metadata": {
        "id": "0P5OfQc0pnza",
        "colab_type": "text"
      },
      "source": [
        "All features that have statistically significant differences:"
      ]
    },
    {
      "cell_type": "code",
      "metadata": {
        "id": "KVNpnADopTDA",
        "colab_type": "code",
        "colab": {
          "base_uri": "https://localhost:8080/",
          "height": 765
        },
        "outputId": "0eb0e3e4-4748-46a7-c89d-6ff5ef433120"
      },
      "source": [
        "df_pval_sig.index"
      ],
      "execution_count": 26,
      "outputs": [
        {
          "output_type": "execute_result",
          "data": {
            "text/plain": [
              "Index(['shape_Maximum3DDiameter_0', 'shape_MeshVolume_0',\n",
              "       'shape_MajorAxisLength_0', 'shape_Sphericity_0',\n",
              "       'shape_LeastAxisLength_0', 'shape_SurfaceVolumeRatio_0',\n",
              "       'shape_Maximum2DDiameterSlice_0', 'shape_SurfaceArea_0',\n",
              "       'shape_MinorAxisLength_0', 'gldm_HighGrayLevelEmphasis_0',\n",
              "       'gldm_DependenceEntropy_0', 'gldm_SmallDependenceEmphasis_0',\n",
              "       'gldm_SmallDependenceHighGrayLevelEmphasis_0',\n",
              "       'gldm_DependenceNonUniformityNormalized_0', 'gldm_DependenceVariance_0',\n",
              "       'gldm_LargeDependenceHighGrayLevelEmphasis_0', 'glcm_JointEntropy_0',\n",
              "       'glcm_ClusterShade_0', 'glcm_MaximumProbability_0', 'glcm_Idmn_0',\n",
              "       'glcm_InverseVariance_0', 'glcm_Idm_0', 'glcm_Autocorrelation_0',\n",
              "       'glcm_Imc2_0', 'glcm_Imc1_0', 'firstorder_InterquartileRange_0',\n",
              "       'firstorder_Skewness_0', 'firstorder_Uniformity_0',\n",
              "       'firstorder_Median_0', 'firstorder_Maximum_0',\n",
              "       'firstorder_RootMeanSquared_0', 'firstorder_Entropy_0',\n",
              "       'firstorder_Range_0', 'firstorder_Variance_0',\n",
              "       'firstorder_10Percentile_0', 'firstorder_Kurtosis_0',\n",
              "       'firstorder_Mean_0', 'glrlm_GrayLevelNonUniformityNormalized_0',\n",
              "       'glrlm_ShortRunHighGrayLevelEmphasis_0',\n",
              "       'glrlm_LongRunHighGrayLevelEmphasis_0', 'glrlm_RunPercentage_0',\n",
              "       'glrlm_RunEntropy_0', 'glrlm_HighGrayLevelRunEmphasis_0',\n",
              "       'glszm_SizeZoneNonUniformityNormalized_0',\n",
              "       'glszm_HighGrayLevelZoneEmphasis_0', 'ngtdm_Coarseness_0',\n",
              "       'ngtdm_Complexity_0', 'ngtdm_Strength_0', 'ngtdm_Contrast_0',\n",
              "       'ngtdm_Busyness_0', 'log_shape_MeshVolume_0',\n",
              "       'log_gldm_GrayLevelVariance_0', 'log_gldm_DependenceNonUniformity_0',\n",
              "       'log_gldm_GrayLevelNonUniformity_0',\n",
              "       'bc_gldm_LargeDependenceLowGrayLevelEmphasis_0',\n",
              "       'bc_gldm_SmallDependenceLowGrayLevelEmphasis_0',\n",
              "       'bc_gldm_LowGrayLevelEmphasis_0', 'bc_glcm_JointEnergy_0',\n",
              "       'log_glcm_DifferenceVariance_0', 'log_glcm_SumSquares_0',\n",
              "       'bc_glcm_ClusterProminence_0', 'bc_glcm_DifferenceAverage_0',\n",
              "       'bc_firstorder_InterquartileRange_0', 'log_firstorder_Kurtosis_0',\n",
              "       'log_firstorder_RootMeanSquared_0', 'log_glrlm_GrayLevelVariance_0',\n",
              "       'log_glrlm_RunVariance_0', 'log_glrlm_GrayLevelNonUniformity_0',\n",
              "       'log_glrlm_RunLengthNonUniformity_0',\n",
              "       'bc_glrlm_LongRunLowGrayLevelEmphasis_0',\n",
              "       'log_glszm_GrayLevelVariance_0', 'bc_glszm_ZoneVariance_0',\n",
              "       'log_glszm_GrayLevelNonUniformityNormalized_0',\n",
              "       'log_glszm_SizeZoneNonUniformity_0',\n",
              "       'log_glszm_GrayLevelNonUniformity_0', 'log_glszm_ZonePercentage_0',\n",
              "       'log_glszm_LargeAreaLowGrayLevelEmphasis_0',\n",
              "       'bc_glszm_LowGrayLevelZoneEmphasis_0'],\n",
              "      dtype='object')"
            ]
          },
          "metadata": {
            "tags": []
          },
          "execution_count": 26
        }
      ]
    },
    {
      "cell_type": "markdown",
      "metadata": {
        "id": "06NqU3PwqKZ7",
        "colab_type": "text"
      },
      "source": [
        "Maybe just focus on the top 5:"
      ]
    },
    {
      "cell_type": "code",
      "metadata": {
        "id": "kQVBGxjOqOQg",
        "colab_type": "code",
        "colab": {
          "base_uri": "https://localhost:8080/",
          "height": 85
        },
        "outputId": "4bf7741a-f77d-443a-f031-061cb307a0cf"
      },
      "source": [
        "p_ranks = ttest_results[1].argsort()\n",
        "X.columns[p_ranks[0:5]]"
      ],
      "execution_count": 27,
      "outputs": [
        {
          "output_type": "execute_result",
          "data": {
            "text/plain": [
              "Index(['glrlm_GrayLevelNonUniformityNormalized_0',\n",
              "       'bc_firstorder_InterquartileRange_0', 'log_glszm_ZonePercentage_0',\n",
              "       'log_firstorder_Kurtosis_0', 'bc_glszm_ZoneVariance_0'],\n",
              "      dtype='object')"
            ]
          },
          "metadata": {
            "tags": []
          },
          "execution_count": 27
        }
      ]
    },
    {
      "cell_type": "markdown",
      "metadata": {
        "id": "meDglXmHs8c7",
        "colab_type": "text"
      },
      "source": [
        "I will plot the histograms for the five features above. Cluster 0 has the highest 1-year survival, and will be denoted as \"Higher survival\". Similarly for the other clusters."
      ]
    },
    {
      "cell_type": "code",
      "metadata": {
        "id": "ho9aUTqfsqrN",
        "colab_type": "code",
        "colab": {
          "base_uri": "https://localhost:8080/",
          "height": 280
        },
        "outputId": "0d468861-d64c-42e7-9a06-a816b8fc8ded"
      },
      "source": [
        "sns.distplot(X_long[X_long['Cluster']==1]['glrlm_GrayLevelNonUniformityNormalized_0'], label='Cluster 1 (Lower survival)')\n",
        "sns.distplot(X_long[X_long['Cluster']==2]['glrlm_GrayLevelNonUniformityNormalized_0'], label='Cluster 2 (Medium survival)')\n",
        "sns.distplot(X_long[X_long['Cluster']==0]['glrlm_GrayLevelNonUniformityNormalized_0'], label='Cluster 0 (Higher survival)')\n",
        "plt.legend()\n",
        "plt.show()"
      ],
      "execution_count": 32,
      "outputs": [
        {
          "output_type": "display_data",
          "data": {
            "image/png": "[encoded data removed]",
            "text/plain": [
              "<Figure size 432x288 with 1 Axes>"
            ]
          },
          "metadata": {
            "tags": []
          }
        }
      ]
    },
    {
      "cell_type": "code",
      "metadata": {
        "id": "_ZF0oKRHq5Ec",
        "colab_type": "code",
        "colab": {
          "base_uri": "https://localhost:8080/",
          "height": 280
        },
        "outputId": "88a02416-e2c4-4fbb-b032-ae8eb9ec24be"
      },
      "source": [
        "sns.distplot(X_long[X_long['Cluster']==1]['bc_firstorder_InterquartileRange_0'], label='Cluster 1 (Lower survival)')\n",
        "sns.distplot(X_long[X_long['Cluster']==2]['bc_firstorder_InterquartileRange_0'], label='Cluster 2 (Medium survival)')\n",
        "sns.distplot(X_long[X_long['Cluster']==0]['bc_firstorder_InterquartileRange_0'], label='Cluster 0 (Higher survival)')\n",
        "plt.legend()\n",
        "plt.show()"
      ],
      "execution_count": 31,
      "outputs": [
        {
          "output_type": "display_data",
          "data": {
            "image/png": "[encoded data removed]",
            "text/plain": [
              "<Figure size 432x288 with 1 Axes>"
            ]
          },
          "metadata": {
            "tags": []
          }
        }
      ]
    },
    {
      "cell_type": "code",
      "metadata": {
        "colab_type": "code",
        "outputId": "13fd52bb-3ac3-464f-99ae-3511dde9d4e2",
        "id": "0DdilV_xtNXt",
        "colab": {
          "base_uri": "https://localhost:8080/",
          "height": 280
        }
      },
      "source": [
        "sns.distplot(X_long[X_long['Cluster']==1]['log_glszm_ZonePercentage_0'], label='Cluster 1 (Lower survival)')\n",
        "sns.distplot(X_long[X_long['Cluster']==2]['log_glszm_ZonePercentage_0'], label='Cluster 2 (Medium survival)')\n",
        "sns.distplot(X_long[X_long['Cluster']==0]['log_glszm_ZonePercentage_0'], label='Cluster 0 (Higher survival)')\n",
        "plt.legend()\n",
        "plt.show()"
      ],
      "execution_count": 35,
      "outputs": [
        {
          "output_type": "display_data",
          "data": {
            "image/png": "[encoded data removed]",
            "text/plain": [
              "<Figure size 432x288 with 1 Axes>"
            ]
          },
          "metadata": {
            "tags": []
          }
        }
      ]
    },
    {
      "cell_type": "code",
      "metadata": {
        "id": "ccmdNg5utNAF",
        "colab_type": "code",
        "colab": {
          "base_uri": "https://localhost:8080/",
          "height": 281
        },
        "outputId": "c5e4ef82-81fe-4026-d13c-747cd58a1ee9"
      },
      "source": [
        "sns.distplot(X_long[X_long['Cluster']==1]['log_firstorder_Kurtosis_0'], label='Cluster 1 (Lower survival)')\n",
        "sns.distplot(X_long[X_long['Cluster']==2]['log_firstorder_Kurtosis_0'], label='Cluster 2 (Medium survival)')\n",
        "sns.distplot(X_long[X_long['Cluster']==0]['log_firstorder_Kurtosis_0'], label='Cluster 0 (Higher survival)')\n",
        "plt.legend()\n",
        "plt.show()"
      ],
      "execution_count": 34,
      "outputs": [
        {
          "output_type": "display_data",
          "data": {
            "image/png": "[encoded data removed]",
            "text/plain": [
              "<Figure size 432x288 with 1 Axes>"
            ]
          },
          "metadata": {
            "tags": []
          }
        }
      ]
    },
    {
      "cell_type": "code",
      "metadata": {
        "id": "KcYqjiw4tpZp",
        "colab_type": "code",
        "colab": {
          "base_uri": "https://localhost:8080/",
          "height": 280
        },
        "outputId": "03165759-fd39-4c6d-b14b-c14e6bedbf3b"
      },
      "source": [
        "sns.distplot(X_long[X_long['Cluster']==1]['bc_glszm_ZoneVariance_0'], label='Cluster 1 (Lower survival)')\n",
        "sns.distplot(X_long[X_long['Cluster']==2]['bc_glszm_ZoneVariance_0'], label='Cluster 2 (Medium survival)')\n",
        "sns.distplot(X_long[X_long['Cluster']==0]['bc_glszm_ZoneVariance_0'], label='Cluster 0 (Higher survival)')\n",
        "plt.legend()\n",
        "plt.show()"
      ],
      "execution_count": 33,
      "outputs": [
        {
          "output_type": "display_data",
          "data": {
            "image/png": "[encoded data removed]",
            "text/plain": [
              "<Figure size 432x288 with 1 Axes>"
            ]
          },
          "metadata": {
            "tags": []
          }
        }
      ]
    },
    {
      "cell_type": "markdown",
      "metadata": {
        "id": "EamtBYiMx_AW",
        "colab_type": "text"
      },
      "source": [
        "##### Median survival times for each cluster"
      ]
    },
    {
      "cell_type": "code",
      "metadata": {
        "id": "A2aTCygMydTB",
        "colab_type": "code",
        "colab": {
          "base_uri": "https://localhost:8080/",
          "height": 272
        },
        "outputId": "14579acf-d87f-4160-c087-a2e48f8d3b69"
      },
      "source": [
        "for index, param in enumerate(median_list):\n",
        "  print(f'Median survival time for Cluster {index}: {param}')\n",
        "  print(f'Confidence interval on median survival for Cluster {index}: \\n{ci_list[index]}\\n')"
      ],
      "execution_count": 41,
      "outputs": [
        {
          "output_type": "stream",
          "text": [
            "Median survival time for Cluster 0: 1000.0\n",
            "Confidence interval on median survival for Cluster 0: \n",
            "     Cluster 0_lower_0.95  Cluster 0_upper_0.95\n",
            "0.5                 687.0                1391.0\n",
            "\n",
            "Median survival time for Cluster 1: 423.0\n",
            "Confidence interval on median survival for Cluster 1: \n",
            "     Cluster 1_lower_0.95  Cluster 1_upper_0.95\n",
            "0.5                 311.0                 597.0\n",
            "\n",
            "Median survival time for Cluster 2: 524.0\n",
            "Confidence interval on median survival for Cluster 2: \n",
            "     Cluster 2_lower_0.95  Cluster 2_upper_0.95\n",
            "0.5                 456.0                 685.0\n",
            "\n"
          ],
          "name": "stdout"
        }
      ]
    },
    {
      "cell_type": "markdown",
      "metadata": {
        "id": "kvPeZFf8C7tS",
        "colab_type": "text"
      },
      "source": [
        "#### OPTICS"
      ]
    },
    {
      "cell_type": "code",
      "metadata": {
        "id": "vi9ZrEJf53Lh",
        "colab_type": "code",
        "outputId": "c7cb2031-25fa-42de-d995-369d107b322e",
        "colab": {
          "base_uri": "https://localhost:8080/",
          "height": 34
        }
      },
      "source": [
        "my_optics = OPTICS(min_samples=10, n_jobs=-1)\n",
        "my_optics.fit(X_scaled)\n",
        "joblib.dump(my_optics, 'optics.pkl')"
      ],
      "execution_count": 0,
      "outputs": [
        {
          "output_type": "execute_result",
          "data": {
            "text/plain": [
              "['optics.pkl']"
            ]
          },
          "metadata": {
            "tags": []
          },
          "execution_count": 70
        }
      ]
    },
    {
      "cell_type": "code",
      "metadata": {
        "id": "sih2E8iT6ZJO",
        "colab_type": "code",
        "colab": {}
      },
      "source": [
        "X_long['OPTICS'] = my_optics.labels_"
      ],
      "execution_count": 0,
      "outputs": []
    },
    {
      "cell_type": "code",
      "metadata": {
        "id": "bEnZjNZo6svo",
        "colab_type": "code",
        "outputId": "14bb5e2e-5fd4-4e63-c467-23fdd71c4809",
        "colab": {
          "base_uri": "https://localhost:8080/",
          "height": 68
        }
      },
      "source": [
        "X_long['OPTICS'].value_counts()"
      ],
      "execution_count": 0,
      "outputs": [
        {
          "output_type": "execute_result",
          "data": {
            "text/plain": [
              "-1    408\n",
              " 0     12\n",
              "Name: OPTICS, dtype: int64"
            ]
          },
          "metadata": {
            "tags": []
          },
          "execution_count": 72
        }
      ]
    },
    {
      "cell_type": "markdown",
      "metadata": {
        "id": "0OuhLwiw7R2L",
        "colab_type": "text"
      },
      "source": [
        "OPTICS does not work as well"
      ]
    },
    {
      "cell_type": "markdown",
      "metadata": {
        "id": "Ssr_zi6HftQu",
        "colab_type": "text"
      },
      "source": [
        "---\n",
        "## Superceded codes"
      ]
    },
    {
      "cell_type": "markdown",
      "metadata": {
        "id": "AzK0eoCTu-QA",
        "colab_type": "text"
      },
      "source": [
        "Try to obtain the median survival time for each cluster:"
      ]
    },
    {
      "cell_type": "code",
      "metadata": {
        "id": "eSyPKdsnv-Tv",
        "colab_type": "code",
        "outputId": "7a091ec9-a7fb-477c-fb8b-3f1f6b124882",
        "colab": {
          "base_uri": "https://localhost:8080/",
          "height": 446
        }
      },
      "source": [
        "X_long_wocl = X_long.drop(columns='Cluster')\n",
        "\n",
        "cph = CoxPHFitter()\n",
        "cph.fit(X_long, duration_col='Survival.time', event_col='Deadstatus.event')\n",
        "\n",
        "cph.print_summary()"
      ],
      "execution_count": 0,
      "outputs": [
        {
          "output_type": "error",
          "ename": "ConvergenceError",
          "evalue": "ignored",
          "traceback": [
            "\u001b[0;31m---------------------------------------------------------------------------\u001b[0m",
            "\u001b[0;31mLinAlgError\u001b[0m                               Traceback (most recent call last)",
            "\u001b[0;32m/usr/local/lib/python3.6/dist-packages/lifelines/fitters/coxph_fitter.py\u001b[0m in \u001b[0;36m_newton_rhapson_for_efron_model\u001b[0;34m(self, X, T, E, weights, initial_point, step_size, precision, show_progress, max_steps)\u001b[0m\n\u001b[1;32m    620\u001b[0m             \u001b[0;32mtry\u001b[0m\u001b[0;34m:\u001b[0m\u001b[0;34m\u001b[0m\u001b[0;34m\u001b[0m\u001b[0m\n\u001b[0;32m--> 621\u001b[0;31m                 \u001b[0minv_h_dot_g_T\u001b[0m \u001b[0;34m=\u001b[0m \u001b[0mspsolve\u001b[0m\u001b[0;34m(\u001b[0m\u001b[0;34m-\u001b[0m\u001b[0mh\u001b[0m\u001b[0;34m,\u001b[0m \u001b[0mg\u001b[0m\u001b[0;34m,\u001b[0m \u001b[0massume_a\u001b[0m\u001b[0;34m=\u001b[0m\u001b[0;34m\"pos\"\u001b[0m\u001b[0;34m,\u001b[0m \u001b[0mcheck_finite\u001b[0m\u001b[0;34m=\u001b[0m\u001b[0;32mFalse\u001b[0m\u001b[0;34m)\u001b[0m\u001b[0;34m\u001b[0m\u001b[0;34m\u001b[0m\u001b[0m\n\u001b[0m\u001b[1;32m    622\u001b[0m             \u001b[0;32mexcept\u001b[0m \u001b[0;34m(\u001b[0m\u001b[0mValueError\u001b[0m\u001b[0;34m,\u001b[0m \u001b[0mLinAlgError\u001b[0m\u001b[0;34m)\u001b[0m \u001b[0;32mas\u001b[0m \u001b[0me\u001b[0m\u001b[0;34m:\u001b[0m\u001b[0;34m\u001b[0m\u001b[0;34m\u001b[0m\u001b[0m\n",
            "\u001b[0;32m/usr/local/lib/python3.6/dist-packages/scipy/linalg/basic.py\u001b[0m in \u001b[0;36msolve\u001b[0;34m(a, b, sym_pos, lower, overwrite_a, overwrite_b, debug, check_finite, assume_a, transposed)\u001b[0m\n\u001b[1;32m    249\u001b[0m                            overwrite_b=overwrite_b)\n\u001b[0;32m--> 250\u001b[0;31m         \u001b[0m_solve_check\u001b[0m\u001b[0;34m(\u001b[0m\u001b[0mn\u001b[0m\u001b[0;34m,\u001b[0m \u001b[0minfo\u001b[0m\u001b[0;34m)\u001b[0m\u001b[0;34m\u001b[0m\u001b[0;34m\u001b[0m\u001b[0m\n\u001b[0m\u001b[1;32m    251\u001b[0m         \u001b[0mrcond\u001b[0m\u001b[0;34m,\u001b[0m \u001b[0minfo\u001b[0m \u001b[0;34m=\u001b[0m \u001b[0mpocon\u001b[0m\u001b[0;34m(\u001b[0m\u001b[0mlu\u001b[0m\u001b[0;34m,\u001b[0m \u001b[0manorm\u001b[0m\u001b[0;34m)\u001b[0m\u001b[0;34m\u001b[0m\u001b[0;34m\u001b[0m\u001b[0m\n",
            "\u001b[0;32m/usr/local/lib/python3.6/dist-packages/scipy/linalg/basic.py\u001b[0m in \u001b[0;36m_solve_check\u001b[0;34m(n, info, lamch, rcond)\u001b[0m\n\u001b[1;32m     30\u001b[0m     \u001b[0;32melif\u001b[0m \u001b[0;36m0\u001b[0m \u001b[0;34m<\u001b[0m \u001b[0minfo\u001b[0m\u001b[0;34m:\u001b[0m\u001b[0;34m\u001b[0m\u001b[0;34m\u001b[0m\u001b[0m\n\u001b[0;32m---> 31\u001b[0;31m         \u001b[0;32mraise\u001b[0m \u001b[0mLinAlgError\u001b[0m\u001b[0;34m(\u001b[0m\u001b[0;34m'Matrix is singular.'\u001b[0m\u001b[0;34m)\u001b[0m\u001b[0;34m\u001b[0m\u001b[0;34m\u001b[0m\u001b[0m\n\u001b[0m\u001b[1;32m     32\u001b[0m \u001b[0;34m\u001b[0m\u001b[0m\n",
            "\u001b[0;31mLinAlgError\u001b[0m: Matrix is singular.",
            "\nDuring handling of the above exception, another exception occurred:\n",
            "\u001b[0;31mConvergenceError\u001b[0m                          Traceback (most recent call last)",
            "\u001b[0;32m<ipython-input-14-1f0d827fb449>\u001b[0m in \u001b[0;36m<module>\u001b[0;34m()\u001b[0m\n\u001b[1;32m      2\u001b[0m \u001b[0;34m\u001b[0m\u001b[0m\n\u001b[1;32m      3\u001b[0m \u001b[0mcph\u001b[0m \u001b[0;34m=\u001b[0m \u001b[0mCoxPHFitter\u001b[0m\u001b[0;34m(\u001b[0m\u001b[0;34m)\u001b[0m\u001b[0;34m\u001b[0m\u001b[0;34m\u001b[0m\u001b[0m\n\u001b[0;32m----> 4\u001b[0;31m \u001b[0mcph\u001b[0m\u001b[0;34m.\u001b[0m\u001b[0mfit\u001b[0m\u001b[0;34m(\u001b[0m\u001b[0mX_long\u001b[0m\u001b[0;34m,\u001b[0m \u001b[0mduration_col\u001b[0m\u001b[0;34m=\u001b[0m\u001b[0;34m'Survival.time'\u001b[0m\u001b[0;34m,\u001b[0m \u001b[0mevent_col\u001b[0m\u001b[0;34m=\u001b[0m\u001b[0;34m'Deadstatus.event'\u001b[0m\u001b[0;34m)\u001b[0m\u001b[0;34m\u001b[0m\u001b[0;34m\u001b[0m\u001b[0m\n\u001b[0m\u001b[1;32m      5\u001b[0m \u001b[0;34m\u001b[0m\u001b[0m\n\u001b[1;32m      6\u001b[0m \u001b[0mcph\u001b[0m\u001b[0;34m.\u001b[0m\u001b[0mprint_summary\u001b[0m\u001b[0;34m(\u001b[0m\u001b[0;34m)\u001b[0m\u001b[0;34m\u001b[0m\u001b[0;34m\u001b[0m\u001b[0m\n",
            "\u001b[0;32m/usr/local/lib/python3.6/dist-packages/lifelines/utils/__init__.py\u001b[0m in \u001b[0;36mf\u001b[0;34m(self, *args, **kwargs)\u001b[0m\n\u001b[1;32m     48\u001b[0m         \u001b[0;32mdef\u001b[0m \u001b[0mf\u001b[0m\u001b[0;34m(\u001b[0m\u001b[0mself\u001b[0m\u001b[0;34m,\u001b[0m \u001b[0;34m*\u001b[0m\u001b[0margs\u001b[0m\u001b[0;34m,\u001b[0m \u001b[0;34m**\u001b[0m\u001b[0mkwargs\u001b[0m\u001b[0;34m)\u001b[0m\u001b[0;34m:\u001b[0m\u001b[0;34m\u001b[0m\u001b[0;34m\u001b[0m\u001b[0m\n\u001b[1;32m     49\u001b[0m             \u001b[0mself\u001b[0m\u001b[0;34m.\u001b[0m\u001b[0m_censoring_type\u001b[0m \u001b[0;34m=\u001b[0m \u001b[0mcls\u001b[0m\u001b[0;34m.\u001b[0m\u001b[0mRIGHT\u001b[0m\u001b[0;34m\u001b[0m\u001b[0;34m\u001b[0m\u001b[0m\n\u001b[0;32m---> 50\u001b[0;31m             \u001b[0;32mreturn\u001b[0m \u001b[0mfunction\u001b[0m\u001b[0;34m(\u001b[0m\u001b[0mself\u001b[0m\u001b[0;34m,\u001b[0m \u001b[0;34m*\u001b[0m\u001b[0margs\u001b[0m\u001b[0;34m,\u001b[0m \u001b[0;34m**\u001b[0m\u001b[0mkwargs\u001b[0m\u001b[0;34m)\u001b[0m\u001b[0;34m\u001b[0m\u001b[0;34m\u001b[0m\u001b[0m\n\u001b[0m\u001b[1;32m     51\u001b[0m \u001b[0;34m\u001b[0m\u001b[0m\n\u001b[1;32m     52\u001b[0m         \u001b[0;32mreturn\u001b[0m \u001b[0mf\u001b[0m\u001b[0;34m\u001b[0m\u001b[0;34m\u001b[0m\u001b[0m\n",
            "\u001b[0;32m/usr/local/lib/python3.6/dist-packages/lifelines/fitters/coxph_fitter.py\u001b[0m in \u001b[0;36mfit\u001b[0;34m(self, df, duration_col, event_col, show_progress, initial_point, strata, step_size, weights_col, cluster_col, robust, batch_mode)\u001b[0m\n\u001b[1;32m    376\u001b[0m \u001b[0;34m\u001b[0m\u001b[0m\n\u001b[1;32m    377\u001b[0m         params_, ll_, variance_matrix_, baseline_hazard_, baseline_cumulative_hazard_ = self._fit_model(\n\u001b[0;32m--> 378\u001b[0;31m             \u001b[0mX_norm\u001b[0m\u001b[0;34m,\u001b[0m \u001b[0mT\u001b[0m\u001b[0;34m,\u001b[0m \u001b[0mE\u001b[0m\u001b[0;34m,\u001b[0m \u001b[0mweights\u001b[0m\u001b[0;34m=\u001b[0m\u001b[0mweights\u001b[0m\u001b[0;34m,\u001b[0m \u001b[0minitial_point\u001b[0m\u001b[0;34m=\u001b[0m\u001b[0minitial_point\u001b[0m\u001b[0;34m,\u001b[0m \u001b[0mshow_progress\u001b[0m\u001b[0;34m=\u001b[0m\u001b[0mshow_progress\u001b[0m\u001b[0;34m,\u001b[0m \u001b[0mstep_size\u001b[0m\u001b[0;34m=\u001b[0m\u001b[0mstep_size\u001b[0m\u001b[0;34m\u001b[0m\u001b[0;34m\u001b[0m\u001b[0m\n\u001b[0m\u001b[1;32m    379\u001b[0m         )\n\u001b[1;32m    380\u001b[0m \u001b[0;34m\u001b[0m\u001b[0m\n",
            "\u001b[0;32m/usr/local/lib/python3.6/dist-packages/lifelines/fitters/coxph_fitter.py\u001b[0m in \u001b[0;36m_fit_model\u001b[0;34m(self, *args, **kwargs)\u001b[0m\n\u001b[1;32m    473\u001b[0m     \u001b[0;32mdef\u001b[0m \u001b[0m_fit_model\u001b[0m\u001b[0;34m(\u001b[0m\u001b[0mself\u001b[0m\u001b[0;34m,\u001b[0m \u001b[0;34m*\u001b[0m\u001b[0margs\u001b[0m\u001b[0;34m,\u001b[0m \u001b[0;34m**\u001b[0m\u001b[0mkwargs\u001b[0m\u001b[0;34m)\u001b[0m\u001b[0;34m:\u001b[0m\u001b[0;34m\u001b[0m\u001b[0;34m\u001b[0m\u001b[0m\n\u001b[1;32m    474\u001b[0m         \u001b[0;32mif\u001b[0m \u001b[0mself\u001b[0m\u001b[0;34m.\u001b[0m\u001b[0mbaseline_estimation_method\u001b[0m \u001b[0;34m==\u001b[0m \u001b[0;34m\"breslow\"\u001b[0m\u001b[0;34m:\u001b[0m\u001b[0;34m\u001b[0m\u001b[0;34m\u001b[0m\u001b[0m\n\u001b[0;32m--> 475\u001b[0;31m             \u001b[0;32mreturn\u001b[0m \u001b[0mself\u001b[0m\u001b[0;34m.\u001b[0m\u001b[0m_fit_model_breslow\u001b[0m\u001b[0;34m(\u001b[0m\u001b[0;34m*\u001b[0m\u001b[0margs\u001b[0m\u001b[0;34m,\u001b[0m \u001b[0;34m**\u001b[0m\u001b[0mkwargs\u001b[0m\u001b[0;34m)\u001b[0m\u001b[0;34m\u001b[0m\u001b[0;34m\u001b[0m\u001b[0m\n\u001b[0m\u001b[1;32m    476\u001b[0m         \u001b[0;32melif\u001b[0m \u001b[0mself\u001b[0m\u001b[0;34m.\u001b[0m\u001b[0mbaseline_estimation_method\u001b[0m \u001b[0;34m==\u001b[0m \u001b[0;34m\"spline\"\u001b[0m\u001b[0;34m:\u001b[0m\u001b[0;34m\u001b[0m\u001b[0;34m\u001b[0m\u001b[0m\n\u001b[1;32m    477\u001b[0m             \u001b[0;32mreturn\u001b[0m \u001b[0mself\u001b[0m\u001b[0;34m.\u001b[0m\u001b[0m_fit_model_spline\u001b[0m\u001b[0;34m(\u001b[0m\u001b[0;34m*\u001b[0m\u001b[0margs\u001b[0m\u001b[0;34m,\u001b[0m \u001b[0;34m**\u001b[0m\u001b[0mkwargs\u001b[0m\u001b[0;34m)\u001b[0m\u001b[0;34m\u001b[0m\u001b[0;34m\u001b[0m\u001b[0m\n",
            "\u001b[0;32m/usr/local/lib/python3.6/dist-packages/lifelines/fitters/coxph_fitter.py\u001b[0m in \u001b[0;36m_fit_model_breslow\u001b[0;34m(self, X, T, E, weights, initial_point, step_size, show_progress)\u001b[0m\n\u001b[1;32m    490\u001b[0m     ):\n\u001b[1;32m    491\u001b[0m         beta_, ll_, hessian_ = self._newton_rhapson_for_efron_model(\n\u001b[0;32m--> 492\u001b[0;31m             \u001b[0mX\u001b[0m\u001b[0;34m,\u001b[0m \u001b[0mT\u001b[0m\u001b[0;34m,\u001b[0m \u001b[0mE\u001b[0m\u001b[0;34m,\u001b[0m \u001b[0mweights\u001b[0m\u001b[0;34m,\u001b[0m \u001b[0minitial_point\u001b[0m\u001b[0;34m=\u001b[0m\u001b[0minitial_point\u001b[0m\u001b[0;34m,\u001b[0m \u001b[0mstep_size\u001b[0m\u001b[0;34m=\u001b[0m\u001b[0mstep_size\u001b[0m\u001b[0;34m,\u001b[0m \u001b[0mshow_progress\u001b[0m\u001b[0;34m=\u001b[0m\u001b[0mshow_progress\u001b[0m\u001b[0;34m\u001b[0m\u001b[0;34m\u001b[0m\u001b[0m\n\u001b[0m\u001b[1;32m    493\u001b[0m         )\n\u001b[1;32m    494\u001b[0m \u001b[0;34m\u001b[0m\u001b[0m\n",
            "\u001b[0;32m/usr/local/lib/python3.6/dist-packages/lifelines/fitters/coxph_fitter.py\u001b[0m in \u001b[0;36m_newton_rhapson_for_efron_model\u001b[0;34m(self, X, T, E, weights, initial_point, step_size, precision, show_progress, max_steps)\u001b[0m\n\u001b[1;32m    634\u001b[0m                             \u001b[0mCONVERGENCE_DOCS\u001b[0m\u001b[0;34m\u001b[0m\u001b[0;34m\u001b[0m\u001b[0m\n\u001b[1;32m    635\u001b[0m                         ),\n\u001b[0;32m--> 636\u001b[0;31m                         \u001b[0me\u001b[0m\u001b[0;34m,\u001b[0m\u001b[0;34m\u001b[0m\u001b[0;34m\u001b[0m\u001b[0m\n\u001b[0m\u001b[1;32m    637\u001b[0m                     )\n\u001b[1;32m    638\u001b[0m                 \u001b[0;32melse\u001b[0m\u001b[0;34m:\u001b[0m\u001b[0;34m\u001b[0m\u001b[0;34m\u001b[0m\u001b[0m\n",
            "\u001b[0;31mConvergenceError\u001b[0m: Convergence halted due to matrix inversion problems. Suspicion is high collinearity. Please see the following tips in the lifelines documentation: https://lifelines.readthedocs.io/en/latest/Examples.html#problems-with-convergence-in-the-cox-proportional-hazard-modelMatrix is singular."
          ]
        }
      ]
    },
    {
      "cell_type": "markdown",
      "metadata": {
        "id": "mL1e_N79ThOI",
        "colab_type": "text"
      },
      "source": [
        "Two of the clusters seem to differ in the survival rate at the 1-year mark. We can dig a bit deeper here.\n",
        "\n",
        "How many points for each cluster?"
      ]
    },
    {
      "cell_type": "code",
      "metadata": {
        "id": "BTHFJORLTo4J",
        "colab_type": "code",
        "outputId": "1a650c5b-acc8-4f75-d9ca-30515c9d7d27",
        "colab": {
          "base_uri": "https://localhost:8080/",
          "height": 85
        }
      },
      "source": [
        "X_long['Cluster'].value_counts()"
      ],
      "execution_count": 0,
      "outputs": [
        {
          "output_type": "execute_result",
          "data": {
            "text/plain": [
              "0    193\n",
              "2    153\n",
              "1     74\n",
              "Name: Cluster, dtype: int64"
            ]
          },
          "metadata": {
            "tags": []
          },
          "execution_count": 14
        }
      ]
    }
  ]
}