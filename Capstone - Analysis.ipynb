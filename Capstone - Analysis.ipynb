{
 "cells": [
  {
   "cell_type": "markdown",
   "metadata": {
    "colab_type": "text",
    "id": "PtSbyHFKHRw9"
   },
   "source": [
    "## Main analysis for Capstone"
   ]
  },
  {
   "cell_type": "markdown",
   "metadata": {
    "colab_type": "text",
    "id": "xjUfOYeZHRxB"
   },
   "source": [
    "Importing all libraries first"
   ]
  },
  {
   "cell_type": "code",
   "execution_count": 1,
   "metadata": {
    "colab": {
     "base_uri": "https://localhost:8080/",
     "height": 377
    },
    "colab_type": "code",
    "id": "107pFB3nqo-X",
    "outputId": "725d6d49-0cf6-4e61-9b72-2416ee815567"
   },
   "outputs": [
    {
     "name": "stdout",
     "output_type": "stream",
     "text": [
      "Collecting lifelines\n",
      "\u001b[?25l  Downloading https://files.pythonhosted.org/packages/a6/a1/bd833eef4115bd766adff8cbd3de5a81f88eec5f710086930e030c28d39e/lifelines-0.24.1-py2.py3-none-any.whl (416kB)\n",
      "\u001b[K     |████████████████████████████████| 419kB 34.2MB/s eta 0:00:01\n",
      "\u001b[?25hRequirement already satisfied: scipy>=1.2.0 in /usr/local/lib/python3.6/dist-packages (from lifelines) (1.4.1)\n",
      "Requirement already satisfied: matplotlib>=3.0 in /usr/local/lib/python3.6/dist-packages (from lifelines) (3.1.3)\n",
      "Requirement already satisfied: pandas>=0.23.0 in /usr/local/lib/python3.6/dist-packages (from lifelines) (0.25.3)\n",
      "Collecting autograd-gamma>=0.3\n",
      "  Downloading https://files.pythonhosted.org/packages/0a/07/d99339c9420b58b723a9189d1373e5c3889758b2202a1a7fe4a3b7a10c5a/autograd_gamma-0.4.2-py2.py3-none-any.whl\n",
      "Requirement already satisfied: autograd>=1.3 in /usr/local/lib/python3.6/dist-packages (from lifelines) (1.3)\n",
      "Requirement already satisfied: numpy>=1.14.0 in /usr/local/lib/python3.6/dist-packages (from lifelines) (1.17.5)\n",
      "Requirement already satisfied: pyparsing!=2.0.4,!=2.1.2,!=2.1.6,>=2.0.1 in /usr/local/lib/python3.6/dist-packages (from matplotlib>=3.0->lifelines) (2.4.6)\n",
      "Requirement already satisfied: cycler>=0.10 in /usr/local/lib/python3.6/dist-packages (from matplotlib>=3.0->lifelines) (0.10.0)\n",
      "Requirement already satisfied: kiwisolver>=1.0.1 in /usr/local/lib/python3.6/dist-packages (from matplotlib>=3.0->lifelines) (1.1.0)\n",
      "Requirement already satisfied: python-dateutil>=2.1 in /usr/local/lib/python3.6/dist-packages (from matplotlib>=3.0->lifelines) (2.6.1)\n",
      "Requirement already satisfied: pytz>=2017.2 in /usr/local/lib/python3.6/dist-packages (from pandas>=0.23.0->lifelines) (2018.9)\n",
      "Requirement already satisfied: future>=0.15.2 in /usr/local/lib/python3.6/dist-packages (from autograd>=1.3->lifelines) (0.16.0)\n",
      "Requirement already satisfied: six in /usr/local/lib/python3.6/dist-packages (from cycler>=0.10->matplotlib>=3.0->lifelines) (1.12.0)\n",
      "Requirement already satisfied: setuptools in /usr/local/lib/python3.6/dist-packages (from kiwisolver>=1.0.1->matplotlib>=3.0->lifelines) (45.2.0)\n",
      "Installing collected packages: autograd-gamma, lifelines\n",
      "Successfully installed autograd-gamma-0.4.2 lifelines-0.24.1\n"
     ]
    }
   ],
   "source": [
    "!pip install lifelines"
   ]
  },
  {
   "cell_type": "code",
   "execution_count": 1,
   "metadata": {
    "colab": {},
    "colab_type": "code",
    "id": "zRo8GrEhHRxE"
   },
   "outputs": [],
   "source": [
    "import pandas as pd\n",
    "import numpy as np\n",
    "import matplotlib.pyplot as plt\n",
    "%matplotlib inline\n",
    "import seaborn as sns\n",
    "\n",
    "import warnings\n",
    "warnings.filterwarnings(\"ignore\")\n",
    "import joblib\n",
    "\n",
    "from scipy.stats import boxcox\n",
    "from statsmodels.graphics.gofplots import qqplot\n",
    "from statsmodels.stats.weightstats import ttest_ind\n",
    "\n",
    "from sklearn.preprocessing import StandardScaler, LabelBinarizer\n",
    "from sklearn.decomposition import PCA, KernelPCA\n",
    "from sklearn.pipeline import Pipeline\n",
    "from sklearn.model_selection import train_test_split, cross_val_score, GridSearchCV\n",
    "from sklearn.linear_model import LogisticRegression\n",
    "from sklearn.tree import DecisionTreeClassifier\n",
    "from sklearn.ensemble import RandomForestClassifier\n",
    "from sklearn.svm import SVC\n",
    "from xgboost import XGBClassifier\n",
    "from sklearn.metrics import confusion_matrix, classification_report, cohen_kappa_score\n",
    "\n",
    "from sklearn.cluster import KMeans, OPTICS\n",
    "\n",
    "from imblearn.over_sampling import SMOTE, ADASYN, SVMSMOTE\n",
    "from imblearn.pipeline import Pipeline as imPipeline\n",
    "\n",
    "#import tensorflow as tf\n",
    "\n",
    "from lifelines import KaplanMeierFitter\n",
    "from lifelines.statistics import survival_difference_at_fixed_point_in_time_test\n",
    "\n",
    "from sklearn.mixture import GaussianMixture"
   ]
  },
  {
   "cell_type": "markdown",
   "metadata": {
    "colab_type": "text",
    "id": "46tVJDZYHRxJ"
   },
   "source": [
    "First load the source csv file into `pandas`:"
   ]
  },
  {
   "cell_type": "code",
   "execution_count": 3,
   "metadata": {
    "colab": {
     "base_uri": "https://localhost:8080/",
     "height": 122
    },
    "colab_type": "code",
    "id": "Bl4rIjarH0aW",
    "outputId": "3d141300-ac2f-4c6a-c76e-95674a3e6e7a"
   },
   "outputs": [
    {
     "name": "stdout",
     "output_type": "stream",
     "text": [
      "Go to this URL in a browser: https://accounts.google.com/o/oauth2/auth?client_id=947318989803-6bn6qk8qdgf4n4g3pfee6491hc0brc4i.apps.googleusercontent.com&redirect_uri=urn%3aietf%3awg%3aoauth%3a2.0%3aoob&response_type=code&scope=email%20https%3a%2f%2fwww.googleapis.com%2fauth%2fdocs.test%20https%3a%2f%2fwww.googleapis.com%2fauth%2fdrive%20https%3a%2f%2fwww.googleapis.com%2fauth%2fdrive.photos.readonly%20https%3a%2f%2fwww.googleapis.com%2fauth%2fpeopleapi.readonly\n",
      "\n",
      "Enter your authorization code:\n",
      "··········\n",
      "Mounted at /content/drive\n"
     ]
    }
   ],
   "source": [
    "# Only for running in Google Colab\n",
    "from google.colab import drive\n",
    "drive.mount('/content/drive')"
   ]
  },
  {
   "cell_type": "code",
   "execution_count": 2,
   "metadata": {
    "colab": {},
    "colab_type": "code",
    "id": "3T9r-EYcHRxK"
   },
   "outputs": [],
   "source": [
    "df_grand = pd.read_csv('NSCLC-Radiomics-agg-padded.csv')"
   ]
  },
  {
   "cell_type": "markdown",
   "metadata": {
    "colab_type": "text",
    "id": "IGfVLvzpHRxP"
   },
   "source": [
    "Define some boolean variables based on whether the patient has died (`deadstatus.event`==1) and the registered survival time of the patient. For this study, we look at the patients at 1-year, 3-year, and 5-year marks."
   ]
  },
  {
   "cell_type": "code",
   "execution_count": 3,
   "metadata": {
    "colab": {},
    "colab_type": "code",
    "id": "IYAP8-ThHRxR"
   },
   "outputs": [],
   "source": [
    "dead = df_grand['deadstatus.event'].astype(bool)\n",
    "\n",
    "mask_1yr = (df_grand['Survival.time'] >= 365)\n",
    "mask_3yr = (df_grand['Survival.time'] >= 3*365)\n",
    "mask_5yr = (df_grand['Survival.time'] >= 5*365)"
   ]
  },
  {
   "cell_type": "code",
   "execution_count": 4,
   "metadata": {
    "colab": {},
    "colab_type": "code",
    "id": "YHe22pLVHRxX"
   },
   "outputs": [],
   "source": [
    "df_tf = df_grand.copy()"
   ]
  },
  {
   "cell_type": "markdown",
   "metadata": {
    "colab_type": "text",
    "id": "aAUiLM70HRxb"
   },
   "source": [
    "Transforming data based on EDA:"
   ]
  },
  {
   "cell_type": "code",
   "execution_count": 5,
   "metadata": {
    "colab": {},
    "colab_type": "code",
    "id": "Xt8L_r4hHRxd"
   },
   "outputs": [],
   "source": [
    "# Originally, define a small epsilon such that features can be log-transformed after zero-padding\n",
    "# All tumours have since been aggregated, so zero-padding is no longer necessary\n",
    "eps = 0\n",
    "\n",
    "for i in range(1):\n",
    "    str_i = str(i)\n",
    "    \n",
    "    # Shape\n",
    "    df_tf.drop(columns=['shape_VoxelVolume_'+str_i, \n",
    "                        'shape_Maximum2DDiameterColumn_'+str_i, \n",
    "                        'shape_Maximum2DDiameterRow_'+str_i], inplace=True)\n",
    "    \n",
    "    df_tf['log_shape_MeshVolume_'+str_i] = np.log( df_tf['shape_MeshVolume_'+str_i] + eps )\n",
    "    df_tf.drop(columns=['shape_MeshVolume_' + str_i])\n",
    "    \n",
    "    # GLDM\n",
    "    df_tf.drop(columns=['gldm_LargeDependenceEmphasis_'+str_i], \n",
    "               inplace = True)\n",
    "    \n",
    "    df_tf['log_gldm_GrayLevelVariance_' + str_i] = np.log(df_tf['gldm_GrayLevelVariance_' + str_i] + eps)\n",
    "    df_tf['log_gldm_DependenceNonUniformity_' + str_i] = np.log(df_tf['gldm_DependenceNonUniformity_' + str_i] + eps)\n",
    "    df_tf['log_gldm_GrayLevelNonUniformity_' + str_i] = np.log(df_tf['gldm_GrayLevelNonUniformity_' + str_i] + eps)\n",
    "    df_tf['bc_gldm_LargeDependenceLowGrayLevelEmphasis_' \n",
    "          + str_i] = boxcox(df_tf['gldm_LargeDependenceLowGrayLevelEmphasis_' + str_i] + eps)[0]\n",
    "    df_tf['bc_gldm_SmallDependenceLowGrayLevelEmphasis_' \n",
    "          + str_i] = boxcox(df_tf['gldm_SmallDependenceLowGrayLevelEmphasis_' + str_i] + eps)[0]\n",
    "    df_tf['bc_gldm_LowGrayLevelEmphasis_' + str_i] = boxcox(df_tf['gldm_LowGrayLevelEmphasis_' + str_i] + eps)[0]\n",
    "    \n",
    "    df_tf.drop(columns=['gldm_GrayLevelVariance_' + str_i,\n",
    "                        'gldm_DependenceNonUniformity_' + str_i,\n",
    "                        'gldm_GrayLevelNonUniformity_' + str_i,\n",
    "                        'gldm_LargeDependenceLowGrayLevelEmphasis_' + str_i,\n",
    "                        'gldm_SmallDependenceLowGrayLevelEmphasis_' + str_i,\n",
    "                        'gldm_LowGrayLevelEmphasis_' + str_i], inplace=True)\n",
    "    \n",
    "    # GLCM\n",
    "    df_tf.drop(columns=['glcm_SumAverage_' + str_i, \n",
    "                        'glcm_JointAverage_' + str_i,\n",
    "                        'glcm_SumEntropy_' + str_i,\n",
    "                        'glcm_DifferenceEntropy_' + str_i,\n",
    "                        'glcm_Id_' + str_i,\n",
    "                        'glcm_Idn_' + str_i,\n",
    "                        'glcm_ClusterTendency_' + str_i,\n",
    "                        'glcm_Contrast_' + str_i], inplace=True)\n",
    "    df_tf['bc_glcm_JointEnergy_' + str_i] = boxcox(df_tf['glcm_JointEnergy_' + str_i] + eps)[0]\n",
    "    df_tf['log_glcm_DifferenceVariance_' + str_i] = np.log(df_tf['glcm_DifferenceVariance_' + str_i] + eps)\n",
    "    df_tf['log_glcm_SumSquares_' + str_i] = np.log(df_tf['glcm_SumSquares_' + str_i] + eps)\n",
    "    df_tf['bc_glcm_ClusterProminence_' + str_i] = boxcox(df_tf['glcm_ClusterProminence_' + str_i] + eps)[0]\n",
    "    df_tf['bc_glcm_DifferenceAverage_' + str_i] = boxcox(df_tf['glcm_DifferenceAverage_' + str_i] + eps)[0]\n",
    "    \n",
    "    df_tf.drop(columns=['glcm_JointEnergy_' + str_i,\n",
    "                        'glcm_DifferenceVariance_' + str_i,\n",
    "                        'glcm_SumSquares_' + str_i,\n",
    "                        'glcm_ClusterProminence_' + str_i,\n",
    "                        'glcm_DifferenceAverage_' + str_i], inplace=True)\n",
    "    \n",
    "    # First order\n",
    "    df_tf.drop(columns=['firstorder_RobustMeanAbsoluteDeviation_' + str_i, \n",
    "                        'firstorder_MeanAbsoluteDeviation_' + str_i,\n",
    "                        'firstorder_TotalEnergy_' + str_i], inplace=True)\n",
    "    df_tf['bc_firstorder_InterquartileRange_' + str_i] = boxcox(df_tf['firstorder_InterquartileRange_' + str_i] + eps)[0]\n",
    "    df_tf['log_firstorder_Energy_' + str_i] = np.log(df_tf['firstorder_Energy_' + str_i] + eps)\n",
    "    df_tf['log_firstorder_Kurtosis_' + str_i] = np.log(df_tf['firstorder_Kurtosis_' + str_i] + eps)\n",
    "    df_tf['log_firstorder_RootMeanSquared_' + str_i] = np.log(df_tf['firstorder_RootMeanSquared_' + str_i] + eps)\n",
    "    \n",
    "    # GLRLM\n",
    "    df_tf.drop(columns=['glrlm_ShortRunLowGrayLevelEmphasis_' + str_i,\n",
    "                        'glrlm_LowGrayLevelRunEmphasis_' + str_i,\n",
    "                        'glrlm_LongRunEmphasis_' + str_i,\n",
    "                        'glrlm_RunLengthNonUniformityNormalized_' + str_i,\n",
    "                        'glrlm_ShortRunEmphasis_' + str_i], inplace=True)\n",
    "    df_tf['log_glrlm_GrayLevelVariance_' + str_i] = np.log(df_tf['glrlm_GrayLevelVariance_' + str_i] + eps)\n",
    "    df_tf['log_glrlm_RunVariance_' + str_i] = np.log(df_tf['glrlm_RunVariance_' + str_i] + eps)\n",
    "    df_tf['log_glrlm_GrayLevelNonUniformity_' + str_i] = np.log(df_tf['glrlm_GrayLevelNonUniformity_' + str_i] + eps)\n",
    "    df_tf['log_glrlm_RunLengthNonUniformity_' + str_i] = np.log(df_tf['glrlm_RunLengthNonUniformity_' + str_i] + eps)\n",
    "    df_tf['bc_glrlm_LongRunLowGrayLevelEmphasis_' + str_i] = boxcox(df_tf['glrlm_LongRunLowGrayLevelEmphasis_' \n",
    "                                                                          + str_i] + eps)[0]\n",
    "    \n",
    "    df_tf.drop(columns=['glrlm_GrayLevelVariance_' + str_i,\n",
    "                        'glrlm_RunVariance_' + str_i,\n",
    "                        'glrlm_GrayLevelNonUniformity_' + str_i,\n",
    "                        'glrlm_RunLengthNonUniformity_' + str_i,\n",
    "                        'glrlm_LongRunLowGrayLevelEmphasis_' + str_i], inplace = True)\n",
    "    \n",
    "    # GLSZM\n",
    "    df_tf.drop(columns=['glszm_LargeAreaEmphasis_' + str_i,\n",
    "                        'glszm_LargeAreaHighGrayLevelEmphasis_' + str_i,\n",
    "                        'glszm_SmallAreaEmphasis_' + str_i,\n",
    "                        'glszm_SmallAreaHighGrayLevelEmphasis_' + str_i,\n",
    "                        'glszm_SmallAreaLowGrayLevelEmphasis_' + str_i], inplace=True)\n",
    "    df_tf['log_glszm_GrayLevelVariance_' + str_i] = boxcox(df_tf['glszm_GrayLevelVariance_' + str_i] + eps)[0]\n",
    "    df_tf['bc_glszm_ZoneVariance_' + str_i] = boxcox(df_tf['glszm_ZoneVariance_' + str_i] + eps)[0]\n",
    "    df_tf['log_glszm_GrayLevelNonUniformityNormalized_' + str_i] = np.log(df_tf['glszm_GrayLevelNonUniformityNormalized_' \n",
    "                                                                                + str_i] + eps)\n",
    "    df_tf['log_glszm_SizeZoneNonUniformity_' + str_i] = np.log(df_tf['glszm_SizeZoneNonUniformity_' + str_i] + eps)\n",
    "    df_tf['log_glszm_GrayLevelNonUniformity_' + str_i] = np.log(df_tf['glszm_GrayLevelNonUniformity_' + str_i] + eps)\n",
    "    df_tf['log_glszm_ZonePercentage_' + str_i] = np.log(df_tf['glszm_ZonePercentage_' + str_i] + eps)\n",
    "    df_tf['log_glszm_LargeAreaLowGrayLevelEmphasis_' + str_i] = np.log(df_tf['glszm_LargeAreaLowGrayLevelEmphasis_' \n",
    "                                                                             + str_i] + eps)\n",
    "    df_tf['bc_glszm_LowGrayLevelZoneEmphasis_' + str_i] = boxcox(df_grand['glszm_LowGrayLevelZoneEmphasis_' + str_i] + eps)[0]\n",
    "    \n",
    "    df_tf.drop(columns=['glszm_GrayLevelVariance_' + str_i,\n",
    "                        'glszm_ZoneVariance_' + str_i,\n",
    "                        'glszm_GrayLevelNonUniformityNormalized_' + str_i,\n",
    "                        'glszm_SizeZoneNonUniformity_' + str_i,\n",
    "                        'glszm_GrayLevelNonUniformity_' + str_i,\n",
    "                        'glszm_ZonePercentage_' + str_i,\n",
    "                        'glszm_LargeAreaLowGrayLevelEmphasis_' + str_i,\n",
    "                        'glszm_LowGrayLevelZoneEmphasis_' + str_i], inplace=True)"
   ]
  },
  {
   "cell_type": "code",
   "execution_count": 6,
   "metadata": {
    "colab": {},
    "colab_type": "code",
    "id": "-z3THaW9HRxn"
   },
   "outputs": [],
   "source": [
    "# Number of features at the end\n",
    "num_feat = len(df_tf.columns[df_tf.columns.str.contains('_0')])"
   ]
  },
  {
   "cell_type": "markdown",
   "metadata": {
    "colab_type": "text",
    "id": "MTG7M9BrHRx2"
   },
   "source": [
    "---\n",
    "### 1-year analysis:"
   ]
  },
  {
   "cell_type": "markdown",
   "metadata": {
    "colab_type": "text",
    "id": "8l0DCVHZHRx4"
   },
   "source": [
    "We look at patients satisfying one of the two following criteria:\n",
    "- The patient has passed away, and his/ her survival time is definite; OR\n",
    "- The patient has survived past the 1-year mark regardless whether the patient has passed away"
   ]
  },
  {
   "cell_type": "code",
   "execution_count": 7,
   "metadata": {
    "colab": {},
    "colab_type": "code",
    "id": "EIKdLGfhHRx5"
   },
   "outputs": [],
   "source": [
    "feat_mask = df_tf.columns.str.contains('_0')\n",
    "X1 = df_tf[mask_1yr | dead][df_tf.columns[feat_mask]]\n",
    "y1 = (df_tf[mask_1yr | dead]['Survival.time']> 365).astype(int)"
   ]
  },
  {
   "cell_type": "code",
   "execution_count": 8,
   "metadata": {
    "colab": {},
    "colab_type": "code",
    "id": "s3LqmTmTHRx9"
   },
   "outputs": [],
   "source": [
    "X1 = X1.astype(float)"
   ]
  },
  {
   "cell_type": "markdown",
   "metadata": {
    "colab_type": "text",
    "id": "yCoBXAiRHRyB"
   },
   "source": [
    "Looking at the total number of patients being studied here:"
   ]
  },
  {
   "cell_type": "code",
   "execution_count": null,
   "metadata": {
    "colab": {
     "base_uri": "https://localhost:8080/",
     "height": 34
    },
    "colab_type": "code",
    "id": "OuZZIrakHRyC",
    "outputId": "69a72e3d-7c78-4ce8-9d42-f59a797454a6"
   },
   "outputs": [],
   "source": [
    "y1.shape"
   ]
  },
  {
   "cell_type": "markdown",
   "metadata": {
    "colab_type": "text",
    "id": "fh-nV3M3HRyK"
   },
   "source": [
    "Split the data into training set and test set:"
   ]
  },
  {
   "cell_type": "code",
   "execution_count": 9,
   "metadata": {
    "colab": {},
    "colab_type": "code",
    "id": "-KyibUusHRyL"
   },
   "outputs": [],
   "source": [
    "X1_train, X1_test, y1_train, y1_test = train_test_split(X1, y1, test_size=0.3, random_state=1)"
   ]
  },
  {
   "cell_type": "markdown",
   "metadata": {
    "colab_type": "text",
    "id": "pjqfWI6AHRyQ"
   },
   "source": [
    "Look at the class imbalance:"
   ]
  },
  {
   "cell_type": "code",
   "execution_count": null,
   "metadata": {
    "colab": {
     "base_uri": "https://localhost:8080/",
     "height": 68
    },
    "colab_type": "code",
    "id": "NKWgXGoNHRyR",
    "outputId": "2de7ec02-bade-4568-b1e2-f46d5d4b0488"
   },
   "outputs": [],
   "source": [
    "y1_train.value_counts()"
   ]
  },
  {
   "cell_type": "markdown",
   "metadata": {
    "colab_type": "text",
    "id": "gTGgh9s7HRyV"
   },
   "source": [
    "Hence there are 190 patients in the training set who have survived for more than 1 year, and 102 who have not."
   ]
  },
  {
   "cell_type": "markdown",
   "metadata": {
    "colab_type": "text",
    "id": "Os2rw_WJHRyX"
   },
   "source": [
    "We scale all features in the training set such that all features centred at zero and have variances of 1. The test set is also scaled, BUT with the scaling factors determined from the training set:"
   ]
  },
  {
   "cell_type": "code",
   "execution_count": 10,
   "metadata": {
    "colab": {},
    "colab_type": "code",
    "id": "5DC-JuEHHRya"
   },
   "outputs": [],
   "source": [
    "my_scaler = StandardScaler()\n",
    "X1_train = my_scaler.fit_transform(X1_train)\n",
    "X1_test = my_scaler.transform(X1_test)"
   ]
  },
  {
   "cell_type": "markdown",
   "metadata": {
    "colab_type": "text",
    "id": "v6so7C2nHRye"
   },
   "source": [
    "Then run through various models:"
   ]
  },
  {
   "cell_type": "markdown",
   "metadata": {
    "colab_type": "text",
    "id": "NGZJlLXqHRyf"
   },
   "source": [
    "#### Logistic Regression"
   ]
  },
  {
   "cell_type": "code",
   "execution_count": 78,
   "metadata": {
    "colab": {
     "base_uri": "https://localhost:8080/",
     "height": 34
    },
    "colab_type": "code",
    "id": "9_wT-7KIHRyg",
    "outputId": "65de147e-19ab-4596-f42a-9bc2dbed80ba"
   },
   "outputs": [
    {
     "data": {
      "text/plain": [
       "0.7705479452054794"
      ]
     },
     "execution_count": 78,
     "metadata": {
      "tags": []
     },
     "output_type": "execute_result"
    }
   ],
   "source": [
    "my_logit = LogisticRegression()\n",
    "my_logit.fit(X1_train, y1_train)\n",
    "my_logit.score(X1_train, y1_train)"
   ]
  },
  {
   "cell_type": "markdown",
   "metadata": {
    "colab_type": "text",
    "id": "VXXtljTDHRyl"
   },
   "source": [
    "The test accuracy for the logistic regression model is:"
   ]
  },
  {
   "cell_type": "code",
   "execution_count": 79,
   "metadata": {
    "colab": {
     "base_uri": "https://localhost:8080/",
     "height": 34
    },
    "colab_type": "code",
    "id": "CslQnJtkHRym",
    "outputId": "d37dd98d-3c2a-4137-d054-00d55b6a796c"
   },
   "outputs": [
    {
     "data": {
      "text/plain": [
       "0.6111111111111112"
      ]
     },
     "execution_count": 79,
     "metadata": {
      "tags": []
     },
     "output_type": "execute_result"
    }
   ],
   "source": [
    "my_logit.score(X1_test, y1_test)"
   ]
  },
  {
   "cell_type": "markdown",
   "metadata": {
    "colab_type": "text",
    "id": "cSoheK1GHRyr"
   },
   "source": [
    "To further optimize the results, run a grid search:\n",
    "- Try LASSO (i.e. `penalty='l1'`) and Ridge regression (i.e. `penalty='l2'`)\n",
    "- Try different normalization strengths (for C, the inverse of the normalization strengths, ranging from $10^{-6}$ to $10^6$)"
   ]
  },
  {
   "cell_type": "code",
   "execution_count": 80,
   "metadata": {
    "colab": {
     "base_uri": "https://localhost:8080/",
     "height": 34
    },
    "colab_type": "code",
    "id": "_aWw2Q6gHRyt",
    "outputId": "5274bc77-3cb4-414f-a950-39eb441f5cd5"
   },
   "outputs": [
    {
     "data": {
      "text/plain": [
       "['logreg_1yr.pkl']"
      ]
     },
     "execution_count": 80,
     "metadata": {
      "tags": []
     },
     "output_type": "execute_result"
    }
   ],
   "source": [
    "estimators = [('model', LogisticRegression())]\n",
    "\n",
    "pipe = Pipeline(estimators)\n",
    "\n",
    "param_grid = [{'model': [LogisticRegression(solver='saga')], \n",
    "               'model__C': [10**i for i in range(-6,7)],\n",
    "               'model__penalty': ['l1', 'l2']}]\n",
    "\n",
    "grid = GridSearchCV(pipe, param_grid, cv=5)\n",
    "fittedgrid = grid.fit(X1_train, y1_train)\n",
    "\n",
    "joblib.dump(fittedgrid, 'logreg_1yr.pkl')"
   ]
  },
  {
   "cell_type": "markdown",
   "metadata": {
    "colab_type": "text",
    "id": "oJrCZnqkHRyz"
   },
   "source": [
    "The optimized hyperparameters are:"
   ]
  },
  {
   "cell_type": "code",
   "execution_count": 81,
   "metadata": {
    "colab": {
     "base_uri": "https://localhost:8080/",
     "height": 187
    },
    "colab_type": "code",
    "id": "7GsoTbIVHRy0",
    "outputId": "cf91dce1-2afe-4224-83c2-737754cd8b25"
   },
   "outputs": [
    {
     "data": {
      "text/plain": [
       "Pipeline(memory=None,\n",
       "         steps=[('model',\n",
       "                 LogisticRegression(C=0.1, class_weight=None, dual=False,\n",
       "                                    fit_intercept=True, intercept_scaling=1,\n",
       "                                    l1_ratio=None, max_iter=100,\n",
       "                                    multi_class='auto', n_jobs=None,\n",
       "                                    penalty='l2', random_state=None,\n",
       "                                    solver='saga', tol=0.0001, verbose=0,\n",
       "                                    warm_start=False))],\n",
       "         verbose=False)"
      ]
     },
     "execution_count": 81,
     "metadata": {
      "tags": []
     },
     "output_type": "execute_result"
    }
   ],
   "source": [
    "fittedgrid.best_estimator_"
   ]
  },
  {
   "cell_type": "markdown",
   "metadata": {
    "colab_type": "text",
    "id": "nhFIRwyfHRy8"
   },
   "source": [
    "The score on the training set is:"
   ]
  },
  {
   "cell_type": "code",
   "execution_count": 82,
   "metadata": {
    "colab": {
     "base_uri": "https://localhost:8080/",
     "height": 34
    },
    "colab_type": "code",
    "id": "Oyn1W4HjHRy9",
    "outputId": "77ce31c5-bd29-4d83-8dd1-a36c9e58aa8b"
   },
   "outputs": [
    {
     "data": {
      "text/plain": [
       "0.7328767123287672"
      ]
     },
     "execution_count": 82,
     "metadata": {
      "tags": []
     },
     "output_type": "execute_result"
    }
   ],
   "source": [
    "fittedgrid.score(X1_train, y1_train)"
   ]
  },
  {
   "cell_type": "markdown",
   "metadata": {
    "colab_type": "text",
    "id": "TvD2QaWWHRzB"
   },
   "source": [
    "While the score on the test set is:"
   ]
  },
  {
   "cell_type": "code",
   "execution_count": 83,
   "metadata": {
    "colab": {
     "base_uri": "https://localhost:8080/",
     "height": 34
    },
    "colab_type": "code",
    "id": "jVMKyB5fHRzC",
    "outputId": "e8f595d4-bfbc-4d30-eac1-381556e60a9a"
   },
   "outputs": [
    {
     "data": {
      "text/plain": [
       "0.626984126984127"
      ]
     },
     "execution_count": 83,
     "metadata": {
      "tags": []
     },
     "output_type": "execute_result"
    }
   ],
   "source": [
    "fittedgrid.score(X1_test, y1_test)"
   ]
  },
  {
   "cell_type": "markdown",
   "metadata": {
    "colab_type": "text",
    "id": "n7enw4LYHRzF"
   },
   "source": [
    "Plot some graphs! Define some lists first, then write into a dataframe:"
   ]
  },
  {
   "cell_type": "code",
   "execution_count": null,
   "metadata": {
    "colab": {},
    "colab_type": "code",
    "id": "Ougw5GhBHRzG"
   },
   "outputs": [],
   "source": [
    "logit_grid_C = fittedgrid.cv_results_['param_model__C'].data\n",
    "\n",
    "logit_grid_penalty =fittedgrid.cv_results_['param_model__penalty'].data\n",
    "\n",
    "logit_grid_score = fittedgrid.cv_results_['mean_test_score']"
   ]
  },
  {
   "cell_type": "code",
   "execution_count": 85,
   "metadata": {
    "colab": {
     "base_uri": "https://localhost:8080/",
     "height": 204
    },
    "colab_type": "code",
    "id": "XL03dO3pHRzM",
    "outputId": "775ed282-a3c0-4dde-c340-3624a1d0ef4d"
   },
   "outputs": [
    {
     "data": {
      "text/html": [
       "<div>\n",
       "<style scoped>\n",
       "    .dataframe tbody tr th:only-of-type {\n",
       "        vertical-align: middle;\n",
       "    }\n",
       "\n",
       "    .dataframe tbody tr th {\n",
       "        vertical-align: top;\n",
       "    }\n",
       "\n",
       "    .dataframe thead th {\n",
       "        text-align: right;\n",
       "    }\n",
       "</style>\n",
       "<table border=\"1\" class=\"dataframe\">\n",
       "  <thead>\n",
       "    <tr style=\"text-align: right;\">\n",
       "      <th></th>\n",
       "      <th>C</th>\n",
       "      <th>penalty</th>\n",
       "      <th>score</th>\n",
       "    </tr>\n",
       "  </thead>\n",
       "  <tbody>\n",
       "    <tr>\n",
       "      <th>0</th>\n",
       "      <td>1e-06</td>\n",
       "      <td>l1</td>\n",
       "      <td>0.650731</td>\n",
       "    </tr>\n",
       "    <tr>\n",
       "      <th>1</th>\n",
       "      <td>1e-06</td>\n",
       "      <td>l2</td>\n",
       "      <td>0.650731</td>\n",
       "    </tr>\n",
       "    <tr>\n",
       "      <th>2</th>\n",
       "      <td>1e-05</td>\n",
       "      <td>l1</td>\n",
       "      <td>0.650731</td>\n",
       "    </tr>\n",
       "    <tr>\n",
       "      <th>3</th>\n",
       "      <td>1e-05</td>\n",
       "      <td>l2</td>\n",
       "      <td>0.650731</td>\n",
       "    </tr>\n",
       "    <tr>\n",
       "      <th>4</th>\n",
       "      <td>0.0001</td>\n",
       "      <td>l1</td>\n",
       "      <td>0.650731</td>\n",
       "    </tr>\n",
       "  </tbody>\n",
       "</table>\n",
       "</div>"
      ],
      "text/plain": [
       "        C penalty     score\n",
       "0   1e-06      l1  0.650731\n",
       "1   1e-06      l2  0.650731\n",
       "2   1e-05      l1  0.650731\n",
       "3   1e-05      l2  0.650731\n",
       "4  0.0001      l1  0.650731"
      ]
     },
     "execution_count": 85,
     "metadata": {
      "tags": []
     },
     "output_type": "execute_result"
    }
   ],
   "source": [
    "df_logit = pd.DataFrame({'C': logit_grid_C,\n",
    "                         'penalty': logit_grid_penalty,\n",
    "                         'score': logit_grid_score})\n",
    "df_logit.head()"
   ]
  },
  {
   "cell_type": "code",
   "execution_count": 86,
   "metadata": {
    "colab": {
     "base_uri": "https://localhost:8080/",
     "height": 408
    },
    "colab_type": "code",
    "id": "cMJSxVTpHRzQ",
    "outputId": "277ac9f7-3132-42c7-c9c9-37d934df51fd"
   },
   "outputs": [
    {
     "data": {
      "image/png": "[encoded data removed]",
      "text/plain": [
       "<Figure size 864x432 with 1 Axes>"
      ]
     },
     "metadata": {
      "tags": []
     },
     "output_type": "display_data"
    }
   ],
   "source": [
    "plt.figure(figsize=(12,6))\n",
    "plt.plot(df_logit[df_logit['penalty']=='l2']['C'], df_logit[df_logit['penalty']=='l2']['score'], 'b--', label='Ridge')\n",
    "plt.plot(df_logit[df_logit['penalty']=='l1']['C'], df_logit[df_logit['penalty']=='l1']['score'], 'r.-', label='LASSO')\n",
    "plt.xscale('log')\n",
    "plt.xlabel('Regularization parameter C')\n",
    "plt.ylabel('Validation score')\n",
    "plt.title('Logistic Regression for 1-Year Survival')\n",
    "plt.legend()\n",
    "plt.show()"
   ]
  },
  {
   "cell_type": "markdown",
   "metadata": {
    "colab_type": "text",
    "id": "K7r3ho8SHRzT"
   },
   "source": [
    "Since the accuracy score is so low, and there is a slight imbalance in the classes, let us print out the f1-score and the confusion matrix also for the test set:"
   ]
  },
  {
   "cell_type": "code",
   "execution_count": 87,
   "metadata": {
    "colab": {
     "base_uri": "https://localhost:8080/",
     "height": 170
    },
    "colab_type": "code",
    "id": "x_7wnQXjHRzU",
    "outputId": "d3cd2a69-d372-4440-9be0-bc51bf5522b0"
   },
   "outputs": [
    {
     "name": "stdout",
     "output_type": "stream",
     "text": [
      "              precision    recall  f1-score   support\n",
      "\n",
      "           0       0.48      0.26      0.34        46\n",
      "           1       0.66      0.84      0.74        80\n",
      "\n",
      "    accuracy                           0.63       126\n",
      "   macro avg       0.57      0.55      0.54       126\n",
      "weighted avg       0.60      0.63      0.59       126\n",
      "\n"
     ]
    }
   ],
   "source": [
    "y_pred_logit = fittedgrid.predict(X1_test)\n",
    "print(classification_report(y1_test, y_pred_logit))"
   ]
  },
  {
   "cell_type": "markdown",
   "metadata": {
    "colab_type": "text",
    "id": "zy5GT46RHRzb"
   },
   "source": [
    "Repeat the logistic regression with principal component analysis:"
   ]
  },
  {
   "cell_type": "code",
   "execution_count": 88,
   "metadata": {
    "colab": {
     "base_uri": "https://localhost:8080/",
     "height": 34
    },
    "colab_type": "code",
    "id": "hriTzYNYHRzg",
    "outputId": "62d7c53c-e055-49ff-efa2-d270b3d46396"
   },
   "outputs": [
    {
     "data": {
      "text/plain": [
       "['logreg_pca_1yr.pkl']"
      ]
     },
     "execution_count": 88,
     "metadata": {
      "tags": []
     },
     "output_type": "execute_result"
    }
   ],
   "source": [
    "estimators = [('pca', PCA()),\n",
    "              ('model', LogisticRegression())]\n",
    "\n",
    "pipe = Pipeline(estimators)\n",
    "\n",
    "param_grid = [{'pca': [PCA()],\n",
    "               'model': [LogisticRegression(solver='saga')], \n",
    "               'pca__n_components': [x for x in range(5,num_feat,5)],\n",
    "               'model__C': [10**i for i in range(-6,7)],\n",
    "               'model__penalty': ['l1', 'l2']}]\n",
    "\n",
    "grid = GridSearchCV(pipe, param_grid, cv=5)\n",
    "fittedgrid_pca = grid.fit(X1_train, y1_train)\n",
    "\n",
    "joblib.dump(fittedgrid, 'logreg_pca_1yr.pkl')"
   ]
  },
  {
   "cell_type": "code",
   "execution_count": 26,
   "metadata": {
    "colab": {
     "base_uri": "https://localhost:8080/",
     "height": 255
    },
    "colab_type": "code",
    "id": "plTbYSnJHRzj",
    "outputId": "99634aae-f14d-46ec-9d3c-cbde60e299ef"
   },
   "outputs": [
    {
     "data": {
      "text/plain": [
       "Pipeline(memory=None,\n",
       "         steps=[('pca',\n",
       "                 PCA(copy=True, iterated_power='auto', n_components=45,\n",
       "                     random_state=None, svd_solver='auto', tol=0.0,\n",
       "                     whiten=False)),\n",
       "                ('model',\n",
       "                 LogisticRegression(C=0.1, class_weight=None, dual=False,\n",
       "                                    fit_intercept=True, intercept_scaling=1,\n",
       "                                    l1_ratio=None, max_iter=100,\n",
       "                                    multi_class='auto', n_jobs=None,\n",
       "                                    penalty='l2', random_state=None,\n",
       "                                    solver='saga', tol=0.0001, verbose=0,\n",
       "                                    warm_start=False))],\n",
       "         verbose=False)"
      ]
     },
     "execution_count": 26,
     "metadata": {
      "tags": []
     },
     "output_type": "execute_result"
    }
   ],
   "source": [
    "fittedgrid_pca.best_estimator_"
   ]
  },
  {
   "cell_type": "code",
   "execution_count": 27,
   "metadata": {
    "colab": {
     "base_uri": "https://localhost:8080/",
     "height": 34
    },
    "colab_type": "code",
    "id": "fjrKodCMfFlm",
    "outputId": "885f2a8d-802e-49d6-abb0-b1424d9f12cf"
   },
   "outputs": [
    {
     "data": {
      "text/plain": [
       "45"
      ]
     },
     "execution_count": 27,
     "metadata": {
      "tags": []
     },
     "output_type": "execute_result"
    }
   ],
   "source": [
    "fittedgrid_pca.best_params_['pca__n_components']"
   ]
  },
  {
   "cell_type": "code",
   "execution_count": 28,
   "metadata": {
    "colab": {
     "base_uri": "https://localhost:8080/",
     "height": 34
    },
    "colab_type": "code",
    "id": "ONZiUpl7HRzm",
    "outputId": "f418428b-7fbf-40ab-9aa9-123349713a99"
   },
   "outputs": [
    {
     "data": {
      "text/plain": [
       "0.7328767123287672"
      ]
     },
     "execution_count": 28,
     "metadata": {
      "tags": []
     },
     "output_type": "execute_result"
    }
   ],
   "source": [
    "fittedgrid_pca.score(X1_train, y1_train)"
   ]
  },
  {
   "cell_type": "code",
   "execution_count": 29,
   "metadata": {
    "colab": {
     "base_uri": "https://localhost:8080/",
     "height": 34
    },
    "colab_type": "code",
    "id": "S7T0bMJ5HRzt",
    "outputId": "991d66f6-2ebf-4bfa-88e5-91661283ab24"
   },
   "outputs": [
    {
     "data": {
      "text/plain": [
       "0.626984126984127"
      ]
     },
     "execution_count": 29,
     "metadata": {
      "tags": []
     },
     "output_type": "execute_result"
    }
   ],
   "source": [
    "fittedgrid_pca.score(X1_test, y1_test)"
   ]
  },
  {
   "cell_type": "code",
   "execution_count": 30,
   "metadata": {
    "colab": {
     "base_uri": "https://localhost:8080/",
     "height": 170
    },
    "colab_type": "code",
    "id": "OQQXiqTvHRzx",
    "outputId": "63b37381-46ef-4f90-8caf-9f4904d05c0c"
   },
   "outputs": [
    {
     "name": "stdout",
     "output_type": "stream",
     "text": [
      "              precision    recall  f1-score   support\n",
      "\n",
      "           0       0.48      0.26      0.34        46\n",
      "           1       0.66      0.84      0.74        80\n",
      "\n",
      "    accuracy                           0.63       126\n",
      "   macro avg       0.57      0.55      0.54       126\n",
      "weighted avg       0.60      0.63      0.59       126\n",
      "\n"
     ]
    }
   ],
   "source": [
    "y_pred_logit_pca = fittedgrid_pca.predict(X1_test)\n",
    "print(classification_report(y1_test, y_pred_logit_pca))"
   ]
  },
  {
   "cell_type": "code",
   "execution_count": null,
   "metadata": {
    "colab": {},
    "colab_type": "code",
    "id": "k8Yi3PZmHRz0"
   },
   "outputs": [],
   "source": [
    "logit_pca_grid_C = fittedgrid_pca.cv_results_['param_model__C'].data\n",
    "\n",
    "logit_pca_grid_penalty =fittedgrid_pca.cv_results_['param_model__penalty'].data\n",
    "\n",
    "logit_pca_grid_score = fittedgrid_pca.cv_results_['mean_test_score']\n",
    "\n",
    "logit_pca_grid_n_components = fittedgrid_pca.cv_results_['param_pca__n_components'].data"
   ]
  },
  {
   "cell_type": "code",
   "execution_count": 32,
   "metadata": {
    "colab": {
     "base_uri": "https://localhost:8080/",
     "height": 204
    },
    "colab_type": "code",
    "id": "K5GSTyVjHRz2",
    "outputId": "4df1d165-ae5e-491f-9c42-0e6ce8685754"
   },
   "outputs": [
    {
     "data": {
      "text/html": [
       "<div>\n",
       "<style scoped>\n",
       "    .dataframe tbody tr th:only-of-type {\n",
       "        vertical-align: middle;\n",
       "    }\n",
       "\n",
       "    .dataframe tbody tr th {\n",
       "        vertical-align: top;\n",
       "    }\n",
       "\n",
       "    .dataframe thead th {\n",
       "        text-align: right;\n",
       "    }\n",
       "</style>\n",
       "<table border=\"1\" class=\"dataframe\">\n",
       "  <thead>\n",
       "    <tr style=\"text-align: right;\">\n",
       "      <th></th>\n",
       "      <th>C</th>\n",
       "      <th>penalty</th>\n",
       "      <th>n_components</th>\n",
       "      <th>score</th>\n",
       "    </tr>\n",
       "  </thead>\n",
       "  <tbody>\n",
       "    <tr>\n",
       "      <th>0</th>\n",
       "      <td>1e-06</td>\n",
       "      <td>l1</td>\n",
       "      <td>5</td>\n",
       "      <td>0.650731</td>\n",
       "    </tr>\n",
       "    <tr>\n",
       "      <th>1</th>\n",
       "      <td>1e-06</td>\n",
       "      <td>l1</td>\n",
       "      <td>10</td>\n",
       "      <td>0.650731</td>\n",
       "    </tr>\n",
       "    <tr>\n",
       "      <th>2</th>\n",
       "      <td>1e-06</td>\n",
       "      <td>l1</td>\n",
       "      <td>15</td>\n",
       "      <td>0.650731</td>\n",
       "    </tr>\n",
       "    <tr>\n",
       "      <th>3</th>\n",
       "      <td>1e-06</td>\n",
       "      <td>l1</td>\n",
       "      <td>20</td>\n",
       "      <td>0.650731</td>\n",
       "    </tr>\n",
       "    <tr>\n",
       "      <th>4</th>\n",
       "      <td>1e-06</td>\n",
       "      <td>l1</td>\n",
       "      <td>25</td>\n",
       "      <td>0.650731</td>\n",
       "    </tr>\n",
       "  </tbody>\n",
       "</table>\n",
       "</div>"
      ],
      "text/plain": [
       "       C penalty n_components     score\n",
       "0  1e-06      l1            5  0.650731\n",
       "1  1e-06      l1           10  0.650731\n",
       "2  1e-06      l1           15  0.650731\n",
       "3  1e-06      l1           20  0.650731\n",
       "4  1e-06      l1           25  0.650731"
      ]
     },
     "execution_count": 32,
     "metadata": {
      "tags": []
     },
     "output_type": "execute_result"
    }
   ],
   "source": [
    "df_logit_pca = pd.DataFrame({'C': logit_pca_grid_C,\n",
    "                             'penalty': logit_pca_grid_penalty,\n",
    "                             'n_components': logit_pca_grid_n_components,\n",
    "                             'score': logit_pca_grid_score})\n",
    "df_logit_pca.head()"
   ]
  },
  {
   "cell_type": "code",
   "execution_count": 33,
   "metadata": {
    "colab": {
     "base_uri": "https://localhost:8080/",
     "height": 408
    },
    "colab_type": "code",
    "id": "ao34tcUyHRz9",
    "outputId": "e82ebb94-2413-41c0-e9ab-9f3347b6703e"
   },
   "outputs": [
    {
     "data": {
      "image/png": "[encoded data removed]",
      "text/plain": [
       "<Figure size 864x432 with 1 Axes>"
      ]
     },
     "metadata": {
      "tags": []
     },
     "output_type": "display_data"
    }
   ],
   "source": [
    "n_PCA = fittedgrid_pca.best_params_['pca__n_components']\n",
    "\n",
    "plt.figure(figsize=(12,6))\n",
    "plt.plot(df_logit_pca[(df_logit_pca['penalty']=='l2') & \n",
    "                      (df_logit_pca['n_components']==n_PCA)]['C'], \n",
    "         df_logit_pca[(df_logit_pca['penalty']=='l2') & \n",
    "                      (df_logit_pca['n_components']==n_PCA)]['score'], 'b--', label='Ridge')\n",
    "plt.plot(df_logit_pca[(df_logit_pca['penalty']=='l1') & \n",
    "                      (df_logit_pca['n_components']==n_PCA)]['C'], \n",
    "         df_logit_pca[(df_logit_pca['penalty']=='l1') & \n",
    "                      (df_logit_pca['n_components']==n_PCA)]['score'], 'r.-', label='LASSO')\n",
    "plt.xscale('log')\n",
    "plt.xlabel('Regularization parameter C')\n",
    "plt.ylabel('Validation score')\n",
    "plt.title('Logistic Regression for 1-Year Survival')\n",
    "plt.legend()\n",
    "plt.show()"
   ]
  },
  {
   "cell_type": "code",
   "execution_count": 34,
   "metadata": {
    "colab": {
     "base_uri": "https://localhost:8080/",
     "height": 404
    },
    "colab_type": "code",
    "id": "HloN2XPpHR0C",
    "outputId": "f1efd157-ed01-4ec5-b152-f13e836b2f4e"
   },
   "outputs": [
    {
     "data": {
      "image/png": "[encoded data removed]",
      "text/plain": [
       "<Figure size 864x432 with 1 Axes>"
      ]
     },
     "metadata": {
      "tags": []
     },
     "output_type": "display_data"
    }
   ],
   "source": [
    "best_C = fittedgrid_pca.best_params_['model__C']\n",
    "\n",
    "plt.figure(figsize=(12,6))\n",
    "plt.plot(df_logit_pca[(df_logit_pca['penalty']=='l2') & \n",
    "                      (df_logit_pca['C']==best_C)]['n_components'], \n",
    "         df_logit_pca[(df_logit_pca['penalty']=='l2') & \n",
    "                      (df_logit_pca['C']==best_C)]['score'], 'b--', label='Ridge')\n",
    "plt.plot(df_logit_pca[(df_logit_pca['penalty']=='l1') & \n",
    "                      (df_logit_pca['C']==best_C)]['n_components'], \n",
    "         df_logit_pca[(df_logit_pca['penalty']=='l1') & \n",
    "                      (df_logit_pca['C']==best_C)]['score'], 'r.-', label='LASSO')\n",
    "plt.xlabel('Number of principal components')\n",
    "plt.ylabel('Validation score')\n",
    "plt.title('Logistic Regression for 1-Year Survival')\n",
    "plt.legend()\n",
    "plt.show()"
   ]
  },
  {
   "cell_type": "code",
   "execution_count": 35,
   "metadata": {
    "colab": {
     "base_uri": "https://localhost:8080/",
     "height": 34
    },
    "colab_type": "code",
    "id": "mCYLC3SKHR0F",
    "outputId": "8d65e9fe-e2d7-4d27-ecfb-25dd413820ac"
   },
   "outputs": [
    {
     "data": {
      "text/plain": [
       "0.7328767123287672"
      ]
     },
     "execution_count": 35,
     "metadata": {
      "tags": []
     },
     "output_type": "execute_result"
    }
   ],
   "source": [
    "fittedgrid_pca.score(X1_train, y1_train)"
   ]
  },
  {
   "cell_type": "code",
   "execution_count": 36,
   "metadata": {
    "colab": {
     "base_uri": "https://localhost:8080/",
     "height": 34
    },
    "colab_type": "code",
    "id": "lW0dfQlaHR0K",
    "outputId": "91d797c0-47da-440f-8b90-19a9b7ba3eab"
   },
   "outputs": [
    {
     "data": {
      "text/plain": [
       "0.626984126984127"
      ]
     },
     "execution_count": 36,
     "metadata": {
      "tags": []
     },
     "output_type": "execute_result"
    }
   ],
   "source": [
    "fittedgrid_pca.score(X1_test, y1_test)"
   ]
  },
  {
   "cell_type": "code",
   "execution_count": 37,
   "metadata": {
    "colab": {
     "base_uri": "https://localhost:8080/",
     "height": 170
    },
    "colab_type": "code",
    "id": "N8PhUkgNHR0O",
    "outputId": "b7942d25-734b-4159-a614-0d1958158147"
   },
   "outputs": [
    {
     "name": "stdout",
     "output_type": "stream",
     "text": [
      "              precision    recall  f1-score   support\n",
      "\n",
      "           0       0.48      0.26      0.34        46\n",
      "           1       0.66      0.84      0.74        80\n",
      "\n",
      "    accuracy                           0.63       126\n",
      "   macro avg       0.57      0.55      0.54       126\n",
      "weighted avg       0.60      0.63      0.59       126\n",
      "\n"
     ]
    }
   ],
   "source": [
    "y1_pred_pca = fittedgrid_pca.predict(X1_test)\n",
    "print(classification_report(y1_test, y1_pred_pca))"
   ]
  },
  {
   "cell_type": "markdown",
   "metadata": {
    "colab_type": "text",
    "id": "DAEzQNEzHR0V"
   },
   "source": [
    "#### Decision Tree"
   ]
  },
  {
   "cell_type": "code",
   "execution_count": 89,
   "metadata": {
    "colab": {
     "base_uri": "https://localhost:8080/",
     "height": 34
    },
    "colab_type": "code",
    "id": "QC0BfZxFHR0a",
    "outputId": "2f826ba6-6784-48d9-a007-5274b5b92cbb"
   },
   "outputs": [
    {
     "data": {
      "text/plain": [
       "['dt_pca_1yr.pkl']"
      ]
     },
     "execution_count": 89,
     "metadata": {
      "tags": []
     },
     "output_type": "execute_result"
    }
   ],
   "source": [
    "estimators = [('pca', PCA()),\n",
    "              ('model', DecisionTreeClassifier())]\n",
    "\n",
    "pipe = Pipeline(estimators)\n",
    "\n",
    "param_grid = [{'pca': [PCA()],\n",
    "               'model': [DecisionTreeClassifier()],\n",
    "               'model__max_depth': [i for i in range(1,11)],\n",
    "               'model__min_samples_leaf': [i for i in range(1,6)],\n",
    "               'pca__n_components': [x for x in range(5,num_feat,5)]}]\n",
    "\n",
    "grid = GridSearchCV(pipe, param_grid, cv=5)\n",
    "fittedgrid = grid.fit(X1_train, y1_train)\n",
    "\n",
    "joblib.dump(fittedgrid, 'dt_pca_1yr.pkl')"
   ]
  },
  {
   "cell_type": "code",
   "execution_count": 39,
   "metadata": {
    "colab": {
     "base_uri": "https://localhost:8080/",
     "height": 289
    },
    "colab_type": "code",
    "id": "AaC1-ygtHR0e",
    "outputId": "950afc5a-e222-4834-95c9-fecf6de403d1"
   },
   "outputs": [
    {
     "data": {
      "text/plain": [
       "Pipeline(memory=None,\n",
       "         steps=[('pca',\n",
       "                 PCA(copy=True, iterated_power='auto', n_components=20,\n",
       "                     random_state=None, svd_solver='auto', tol=0.0,\n",
       "                     whiten=False)),\n",
       "                ('model',\n",
       "                 DecisionTreeClassifier(ccp_alpha=0.0, class_weight=None,\n",
       "                                        criterion='gini', max_depth=5,\n",
       "                                        max_features=None, max_leaf_nodes=None,\n",
       "                                        min_impurity_decrease=0.0,\n",
       "                                        min_impurity_split=None,\n",
       "                                        min_samples_leaf=3, min_samples_split=2,\n",
       "                                        min_weight_fraction_leaf=0.0,\n",
       "                                        presort='deprecated', random_state=None,\n",
       "                                        splitter='best'))],\n",
       "         verbose=False)"
      ]
     },
     "execution_count": 39,
     "metadata": {
      "tags": []
     },
     "output_type": "execute_result"
    }
   ],
   "source": [
    "fittedgrid.best_estimator_"
   ]
  },
  {
   "cell_type": "code",
   "execution_count": 40,
   "metadata": {
    "colab": {
     "base_uri": "https://localhost:8080/",
     "height": 34
    },
    "colab_type": "code",
    "id": "jN7jhcJ7HR0k",
    "outputId": "79676fd0-02bb-41f5-b026-55cfb2734dd9"
   },
   "outputs": [
    {
     "data": {
      "text/plain": [
       "0.6573348918760958"
      ]
     },
     "execution_count": 40,
     "metadata": {
      "tags": []
     },
     "output_type": "execute_result"
    }
   ],
   "source": [
    "fittedgrid.best_score_"
   ]
  },
  {
   "cell_type": "code",
   "execution_count": 41,
   "metadata": {
    "colab": {
     "base_uri": "https://localhost:8080/",
     "height": 34
    },
    "colab_type": "code",
    "id": "xUAqe42bHR0n",
    "outputId": "befc9e87-195f-41be-8a3e-eaf3ea6e047a"
   },
   "outputs": [
    {
     "data": {
      "text/plain": [
       "0.7705479452054794"
      ]
     },
     "execution_count": 41,
     "metadata": {
      "tags": []
     },
     "output_type": "execute_result"
    }
   ],
   "source": [
    "fittedgrid.score(X1_train, y1_train)"
   ]
  },
  {
   "cell_type": "code",
   "execution_count": 42,
   "metadata": {
    "colab": {
     "base_uri": "https://localhost:8080/",
     "height": 34
    },
    "colab_type": "code",
    "id": "c7Kg1-poHR0v",
    "outputId": "99e2251a-db0d-4b9e-8b52-de7e4c21d38a"
   },
   "outputs": [
    {
     "data": {
      "text/plain": [
       "0.6984126984126984"
      ]
     },
     "execution_count": 42,
     "metadata": {
      "tags": []
     },
     "output_type": "execute_result"
    }
   ],
   "source": [
    "fittedgrid.score(X1_test, y1_test)"
   ]
  },
  {
   "cell_type": "markdown",
   "metadata": {
    "colab_type": "text",
    "id": "KqIT1d3oHR1A"
   },
   "source": [
    "#### Random Forest"
   ]
  },
  {
   "cell_type": "code",
   "execution_count": 43,
   "metadata": {
    "colab": {
     "base_uri": "https://localhost:8080/",
     "height": 34
    },
    "colab_type": "code",
    "id": "XaN3Ke80HR1B",
    "outputId": "a4306533-960b-42cb-9cb7-96895a351e19"
   },
   "outputs": [
    {
     "data": {
      "text/plain": [
       "0.886986301369863"
      ]
     },
     "execution_count": 43,
     "metadata": {
      "tags": []
     },
     "output_type": "execute_result"
    }
   ],
   "source": [
    "my_rf = RandomForestClassifier(n_estimators=50, max_depth=5, random_state=32)\n",
    "my_rf.fit(X1_train, y1_train)\n",
    "my_rf.score(X1_train, y1_train)"
   ]
  },
  {
   "cell_type": "code",
   "execution_count": 44,
   "metadata": {
    "colab": {
     "base_uri": "https://localhost:8080/",
     "height": 34
    },
    "colab_type": "code",
    "id": "2H3H47tQHR1H",
    "outputId": "96a9857b-dfa9-42f6-ebbb-4e38c06c10fb"
   },
   "outputs": [
    {
     "data": {
      "text/plain": [
       "0.6349206349206349"
      ]
     },
     "execution_count": 44,
     "metadata": {
      "tags": []
     },
     "output_type": "execute_result"
    }
   ],
   "source": [
    "my_rf.score(X1_test, y1_test)"
   ]
  },
  {
   "cell_type": "code",
   "execution_count": 45,
   "metadata": {
    "colab": {
     "base_uri": "https://localhost:8080/",
     "height": 170
    },
    "colab_type": "code",
    "id": "LKGGZUrWHR1L",
    "outputId": "22a68389-4a80-419b-8fa7-ced15ab33690"
   },
   "outputs": [
    {
     "name": "stdout",
     "output_type": "stream",
     "text": [
      "              precision    recall  f1-score   support\n",
      "\n",
      "           0       0.50      0.28      0.36        46\n",
      "           1       0.67      0.84      0.74        80\n",
      "\n",
      "    accuracy                           0.63       126\n",
      "   macro avg       0.58      0.56      0.55       126\n",
      "weighted avg       0.61      0.63      0.60       126\n",
      "\n"
     ]
    }
   ],
   "source": [
    "y_pred_rf = my_rf.predict(X1_test)\n",
    "print(classification_report(y1_test, y_pred_rf))"
   ]
  },
  {
   "cell_type": "code",
   "execution_count": null,
   "metadata": {
    "colab": {},
    "colab_type": "code",
    "id": "WyytLKpK9qPw"
   },
   "outputs": [],
   "source": [
    "estimators = [('pca', PCA()),\n",
    "              ('model', RandomForestClassifier(n_jobs=-1))]\n",
    "\n",
    "pipe = Pipeline(estimators)\n",
    "\n",
    "param_grid = [{'pca': [PCA()],\n",
    "               'model': [RandomForestClassifier(n_jobs=-1)],\n",
    "               'model__n_estimators': [i for i in range(10,110,10)],\n",
    "               'model__max_depth': [i for i in range(1,11)],\n",
    "               'model__min_samples_leaf': [i for i in range(1,6)],\n",
    "               'pca__n_components': [x for x in range(5,num_feat,5)]}]\n",
    "\n",
    "grid = GridSearchCV(pipe, param_grid, cv=5)\n",
    "fittedgrid = grid.fit(X1_train, y1_train)\n",
    "\n",
    "joblib.dump(fittedgrid, 'rf_pca_1yr.pkl')"
   ]
  },
  {
   "cell_type": "code",
   "execution_count": null,
   "metadata": {
    "colab": {},
    "colab_type": "code",
    "id": "ym2LTlOa-Ij2"
   },
   "outputs": [],
   "source": [
    "fittedgrid.best_score_"
   ]
  },
  {
   "cell_type": "code",
   "execution_count": null,
   "metadata": {
    "colab": {},
    "colab_type": "code",
    "id": "y1rZ5Jzm-Mo8"
   },
   "outputs": [],
   "source": [
    "fittedgrid.best_estimator_"
   ]
  },
  {
   "cell_type": "code",
   "execution_count": null,
   "metadata": {
    "colab": {},
    "colab_type": "code",
    "id": "w3BDEiFQ-O2W"
   },
   "outputs": [],
   "source": [
    "fittedgrid.score(X1_train, y1_train)"
   ]
  },
  {
   "cell_type": "code",
   "execution_count": null,
   "metadata": {
    "colab": {},
    "colab_type": "code",
    "id": "Sp8Jf5HG-S6J"
   },
   "outputs": [],
   "source": [
    "fittedgrid.score(X1_test, y1_test)"
   ]
  },
  {
   "cell_type": "markdown",
   "metadata": {
    "colab_type": "text",
    "id": "GtdLIAmFHR1T"
   },
   "source": [
    "#### XGBoost decision tree"
   ]
  },
  {
   "cell_type": "code",
   "execution_count": 11,
   "metadata": {
    "colab": {
     "base_uri": "https://localhost:8080/",
     "height": 34
    },
    "colab_type": "code",
    "id": "Pg0GR1xyHR1U",
    "outputId": "481a65c9-8f28-46c4-cbe8-1073d7e5cba7"
   },
   "outputs": [
    {
     "name": "stderr",
     "output_type": "stream",
     "text": [
      "/opt/anaconda3/lib/python3.7/site-packages/sklearn/model_selection/_search.py:814: DeprecationWarning: The default of the `iid` parameter will change from True to False in version 0.22 and will be removed in 0.24. This will change numeric results when test-set sizes are unequal.\n",
      "  DeprecationWarning)\n"
     ]
    },
    {
     "data": {
      "text/plain": [
       "['xgb_pca_1yr.pkl']"
      ]
     },
     "execution_count": 11,
     "metadata": {},
     "output_type": "execute_result"
    }
   ],
   "source": [
    "estimators = [('pca', PCA()),\n",
    "              ('model', XGBClassifier(n_jobs=-1))]\n",
    "\n",
    "pipe = Pipeline(estimators)\n",
    "\n",
    "param_grid = [{'pca': [PCA()],\n",
    "               'pca__n_components': [x for x in range(5,num_feat,5)],\n",
    "               'model': [XGBClassifier(n_jobs=-1)], \n",
    "               'model__max_depth': [i for i in range(1,11)],\n",
    "               'model__n_estimators': [i for i in range(10,160,10)]}]\n",
    "\n",
    "grid = GridSearchCV(pipe, param_grid, cv=5, n_jobs=-1)\n",
    "fittedgrid = grid.fit(X1_train, y1_train)\n",
    "\n",
    "joblib.dump(fittedgrid, 'xgb_pca_1yr.pkl')"
   ]
  },
  {
   "cell_type": "code",
   "execution_count": 47,
   "metadata": {
    "colab": {
     "base_uri": "https://localhost:8080/",
     "height": 306
    },
    "colab_type": "code",
    "id": "8JBReR6FHR1X",
    "outputId": "44ede5eb-7577-4d67-c384-a591e1e2453c"
   },
   "outputs": [
    {
     "data": {
      "text/plain": [
       "Pipeline(memory=None,\n",
       "         steps=[('pca',\n",
       "                 PCA(copy=True, iterated_power='auto', n_components=75,\n",
       "                     random_state=None, svd_solver='auto', tol=0.0,\n",
       "                     whiten=False)),\n",
       "                ('model',\n",
       "                 XGBClassifier(base_score=0.5, booster='gbtree',\n",
       "                               colsample_bylevel=1, colsample_bynode=1,\n",
       "                               colsample_bytree=1, gamma=0, learning_rate=0.1,\n",
       "                               max_delta_step=0, max_depth=3,\n",
       "                               min_child_weight=1, missing=None,\n",
       "                               n_estimators=30, n_jobs=1, nthread=None,\n",
       "                               objective='binary:logistic', random_state=0,\n",
       "                               reg_alpha=0, reg_lambda=1, scale_pos_weight=1,\n",
       "                               seed=None, silent=None, subsample=1,\n",
       "                               verbosity=1))],\n",
       "         verbose=False)"
      ]
     },
     "execution_count": 47,
     "metadata": {
      "tags": []
     },
     "output_type": "execute_result"
    }
   ],
   "source": [
    "fittedgrid.best_estimator_"
   ]
  },
  {
   "cell_type": "code",
   "execution_count": 48,
   "metadata": {
    "colab": {
     "base_uri": "https://localhost:8080/",
     "height": 34
    },
    "colab_type": "code",
    "id": "ibHrmhhUHR1a",
    "outputId": "0daf3f77-ffcd-48f0-ea72-1563bb0c0fb6"
   },
   "outputs": [
    {
     "data": {
      "text/plain": [
       "0.6850964348334307"
      ]
     },
     "execution_count": 48,
     "metadata": {
      "tags": []
     },
     "output_type": "execute_result"
    }
   ],
   "source": [
    "fittedgrid.best_score_"
   ]
  },
  {
   "cell_type": "code",
   "execution_count": 49,
   "metadata": {
    "colab": {
     "base_uri": "https://localhost:8080/",
     "height": 34
    },
    "colab_type": "code",
    "id": "N_B9jvkXHR1g",
    "outputId": "2c808063-c8d5-4967-fba8-dae3d94c81cc"
   },
   "outputs": [
    {
     "data": {
      "text/plain": [
       "0.934931506849315"
      ]
     },
     "execution_count": 49,
     "metadata": {
      "tags": []
     },
     "output_type": "execute_result"
    }
   ],
   "source": [
    "fittedgrid.score(X1_train, y1_train)"
   ]
  },
  {
   "cell_type": "code",
   "execution_count": 50,
   "metadata": {
    "colab": {
     "base_uri": "https://localhost:8080/",
     "height": 34
    },
    "colab_type": "code",
    "id": "RXxVCfDJHR1k",
    "outputId": "96a8e29f-7832-4bca-c826-8bbec9faef26"
   },
   "outputs": [
    {
     "data": {
      "text/plain": [
       "0.626984126984127"
      ]
     },
     "execution_count": 50,
     "metadata": {
      "tags": []
     },
     "output_type": "execute_result"
    }
   ],
   "source": [
    "fittedgrid.score(X1_test, y1_test)"
   ]
  },
  {
   "cell_type": "code",
   "execution_count": null,
   "metadata": {
    "colab": {},
    "colab_type": "code",
    "id": "8oQouloQHR1o"
   },
   "outputs": [],
   "source": [
    "xgb_grid_maxdepth = fittedgrid.cv_results_['param_model__max_depth'].data\n",
    "xgb_grid_n_estimators = fittedgrid.cv_results_['param_model__n_estimators'].data\n",
    "xgb_grid_n_components = fittedgrid.cv_results_['param_pca__n_components'].data\n",
    "xgb_grid_score = fittedgrid.cv_results_['mean_test_score']"
   ]
  },
  {
   "cell_type": "code",
   "execution_count": null,
   "metadata": {
    "colab": {},
    "colab_type": "code",
    "id": "uMJ34ZkqHR1q"
   },
   "outputs": [],
   "source": [
    "df_xgb = pd.DataFrame({'max_depth': xgb_grid_maxdepth,\n",
    "                       'n_estimators': xgb_grid_n_estimators,\n",
    "                       'n_components': xgb_grid_n_components,\n",
    "                       'score': xgb_grid_score})"
   ]
  },
  {
   "cell_type": "code",
   "execution_count": 53,
   "metadata": {
    "colab": {
     "base_uri": "https://localhost:8080/",
     "height": 295
    },
    "colab_type": "code",
    "id": "uN9ZiSgrHR1t",
    "outputId": "5cb7d004-a47a-4ef3-b48c-a41660789ef7"
   },
   "outputs": [
    {
     "data": {
      "image/png": "[encoded data removed]",
      "text/plain": [
       "<Figure size 432x288 with 1 Axes>"
      ]
     },
     "metadata": {
      "tags": []
     },
     "output_type": "display_data"
    }
   ],
   "source": [
    "xgb_n_est = fittedgrid.best_params_['model__n_estimators']\n",
    "xgb_n_comp = fittedgrid.best_params_['pca__n_components']\n",
    "\n",
    "plt.figure()\n",
    "plt.plot(df_xgb[(df_xgb['n_estimators']==xgb_n_est) &\n",
    "                (df_xgb['n_components']==xgb_n_comp)]['max_depth'], \n",
    "         df_xgb[(df_xgb['n_estimators']==xgb_n_est) &\n",
    "                (df_xgb['n_components']==xgb_n_comp)]['score'], 'b.-')\n",
    "plt.xlabel('Max depth for each tree')\n",
    "plt.ylabel('Validation score')\n",
    "plt.title('XGBoost Decision Tree for 1-Year Survival')\n",
    "plt.show()"
   ]
  },
  {
   "cell_type": "code",
   "execution_count": 54,
   "metadata": {
    "colab": {
     "base_uri": "https://localhost:8080/",
     "height": 295
    },
    "colab_type": "code",
    "id": "LARchUpyRKoe",
    "outputId": "66fcebe9-990b-453f-c747-06113cd097ef"
   },
   "outputs": [
    {
     "data": {
      "image/png": "[encoded data removed]",
      "text/plain": [
       "<Figure size 432x288 with 1 Axes>"
      ]
     },
     "metadata": {
      "tags": []
     },
     "output_type": "display_data"
    }
   ],
   "source": [
    "xgb_max_depth = fittedgrid.best_params_['model__max_depth']\n",
    "\n",
    "plt.figure()\n",
    "plt.plot(df_xgb[(df_xgb['n_estimators']==xgb_n_est) &\n",
    "                (df_xgb['max_depth']==xgb_max_depth)]['n_components'], \n",
    "         df_xgb[(df_xgb['n_estimators']==xgb_n_est) &\n",
    "                (df_xgb['max_depth']==xgb_max_depth)]['score'], 'b.-')\n",
    "plt.xlabel('Number of principal components')\n",
    "plt.ylabel('Validation score')\n",
    "plt.title('XGBoost Decision Tree for 1-Year Survival')\n",
    "plt.show()"
   ]
  },
  {
   "cell_type": "markdown",
   "metadata": {
    "colab_type": "text",
    "id": "_LoW0GxXHR1y"
   },
   "source": [
    "#### Support Vector Machine"
   ]
  },
  {
   "cell_type": "code",
   "execution_count": 12,
   "metadata": {
    "colab": {
     "base_uri": "https://localhost:8080/",
     "height": 34
    },
    "colab_type": "code",
    "id": "5fZvTNO-HR1z",
    "outputId": "42a0d95b-0202-484f-ffed-253617600de7"
   },
   "outputs": [
    {
     "name": "stderr",
     "output_type": "stream",
     "text": [
      "/opt/anaconda3/lib/python3.7/site-packages/sklearn/model_selection/_search.py:814: DeprecationWarning: The default of the `iid` parameter will change from True to False in version 0.22 and will be removed in 0.24. This will change numeric results when test-set sizes are unequal.\n",
      "  DeprecationWarning)\n"
     ]
    },
    {
     "data": {
      "text/plain": [
       "['svm_pca_1yr.pkl']"
      ]
     },
     "execution_count": 12,
     "metadata": {},
     "output_type": "execute_result"
    }
   ],
   "source": [
    "estimators = [('pca', PCA()),\n",
    "              ('model', SVC())]\n",
    "\n",
    "pipe = Pipeline(estimators)\n",
    "\n",
    "param_grid = [{'pca': [PCA()],\n",
    "               'pca__n_components': [x for x in range(5,num_feat,5)],\n",
    "               'model': [SVC(decision_function_shape='ovo', max_iter=999)], \n",
    "               'model__C': [10**i for i in range(-6,7)],\n",
    "               'model__kernel': ['linear', 'poly', 'rbf', 'sigmoid']}]\n",
    "\n",
    "grid = GridSearchCV(pipe, param_grid, n_jobs=-1, cv=5)\n",
    "fittedgrid = grid.fit(X1_train, y1_train)\n",
    "\n",
    "joblib.dump(fittedgrid, 'svm_pca_1yr.pkl')"
   ]
  },
  {
   "cell_type": "code",
   "execution_count": 56,
   "metadata": {
    "colab": {
     "base_uri": "https://localhost:8080/",
     "height": 170
    },
    "colab_type": "code",
    "id": "rBvWZyTNHR12",
    "outputId": "eaa653a5-32fe-450a-e836-c087951aecac"
   },
   "outputs": [
    {
     "data": {
      "text/plain": [
       "{'model': SVC(C=10, break_ties=False, cache_size=200, class_weight=None, coef0=0.0,\n",
       "     decision_function_shape='ovo', degree=3, gamma='scale', kernel='poly',\n",
       "     max_iter=999, probability=False, random_state=None, shrinking=True,\n",
       "     tol=0.001, verbose=False),\n",
       " 'model__C': 10,\n",
       " 'model__kernel': 'poly',\n",
       " 'pca': PCA(copy=True, iterated_power='auto', n_components=5, random_state=None,\n",
       "     svd_solver='auto', tol=0.0, whiten=False),\n",
       " 'pca__n_components': 5}"
      ]
     },
     "execution_count": 56,
     "metadata": {
      "tags": []
     },
     "output_type": "execute_result"
    }
   ],
   "source": [
    "fittedgrid.best_params_"
   ]
  },
  {
   "cell_type": "code",
   "execution_count": 57,
   "metadata": {
    "colab": {
     "base_uri": "https://localhost:8080/",
     "height": 34
    },
    "colab_type": "code",
    "id": "n-JVjIeFHR14",
    "outputId": "5453611e-5355-47cf-cf80-96a8cbce6838"
   },
   "outputs": [
    {
     "data": {
      "text/plain": [
       "0.6952074810052601"
      ]
     },
     "execution_count": 57,
     "metadata": {
      "tags": []
     },
     "output_type": "execute_result"
    }
   ],
   "source": [
    "fittedgrid.best_score_"
   ]
  },
  {
   "cell_type": "code",
   "execution_count": 58,
   "metadata": {
    "colab": {
     "base_uri": "https://localhost:8080/",
     "height": 34
    },
    "colab_type": "code",
    "id": "sJA3sNhoHR1-",
    "outputId": "38a3426a-8e33-4a02-8fb1-dde2597d30a5"
   },
   "outputs": [
    {
     "data": {
      "text/plain": [
       "0.6507936507936508"
      ]
     },
     "execution_count": 58,
     "metadata": {
      "tags": []
     },
     "output_type": "execute_result"
    }
   ],
   "source": [
    "fittedgrid.score(X1_test, y1_test)"
   ]
  },
  {
   "cell_type": "markdown",
   "metadata": {
    "colab_type": "text",
    "id": "CGse1MqjHR2G"
   },
   "source": [
    "\n",
    "#### Neural network"
   ]
  },
  {
   "cell_type": "markdown",
   "metadata": {
    "colab_type": "text",
    "id": "ViLTwdMwHR2H"
   },
   "source": [
    "For the neural network model, I will use the TensorFlow library:"
   ]
  },
  {
   "cell_type": "code",
   "execution_count": null,
   "metadata": {
    "colab": {},
    "colab_type": "code",
    "id": "dHM0R7pWHR2K"
   },
   "outputs": [],
   "source": [
    "input_size = num_feat\n",
    "output_size = 2"
   ]
  },
  {
   "cell_type": "code",
   "execution_count": null,
   "metadata": {
    "colab": {},
    "colab_type": "code",
    "id": "axqS0WpnHR2M"
   },
   "outputs": [],
   "source": [
    "# Make the placeholder variables:\n",
    "input_X = tf.placeholder(tf.float32, shape=(None, input_size))\n",
    "input_y = tf.placeholder(tf.float32, shape=(None, output_size))"
   ]
  },
  {
   "cell_type": "code",
   "execution_count": null,
   "metadata": {
    "colab": {},
    "colab_type": "code",
    "id": "lP89dhnYHR2O"
   },
   "outputs": [],
   "source": [
    "# Size of the hidden dimension\n",
    "num_hidden_1 = 400\n",
    "num_hidden_2 = 400\n",
    "\n",
    "# Hidden Unit activations 1\n",
    "W1 = tf.Variable(tf.random_normal([input_size, num_hidden_1]))\n",
    "b1 = tf.Variable(tf.random_normal([num_hidden_1])) #bias\n",
    "hidden_output_1 = tf.nn.elu(tf.add(tf.matmul(input_X,W1), b1)) # Relu for hidden layer\n",
    "\n",
    "# Hidden Unit activations 2\n",
    "W2 = tf.Variable(tf.random_normal([num_hidden_1, num_hidden_2]))\n",
    "b2 = tf.Variable(tf.random_normal([num_hidden_2])) #bias\n",
    "hidden_output_2 = tf.nn.elu(tf.add(tf.matmul(hidden_output_1,W2), b2)) # Relu for hidden layer\n",
    "\n",
    "# Output Unit activations\n",
    "W3 = tf.Variable(tf.random_normal([num_hidden_2, output_size]))\n",
    "b3 = tf.Variable(tf.random_normal([output_size]))\n",
    "net_output = tf.nn.softmax(tf.add( tf.matmul(hidden_output_2, W3), b3)) # Softmax for output layer"
   ]
  },
  {
   "cell_type": "code",
   "execution_count": null,
   "metadata": {
    "colab": {},
    "colab_type": "code",
    "id": "yZaazeD8UA3e"
   },
   "outputs": [],
   "source": [
    "encoder = LabelBinarizer()\n",
    "\n",
    "one_hot_encoder = encoder.fit(list(y1_train))\n",
    "y1_np_train = one_hot_encoder.transform(y1_train)\n",
    "y1_np_test = one_hot_encoder.transform(y1_test)\n",
    "y1_np_train = np.hstack((y1_np_train, 1 - y1_np_train))\n",
    "y1_np_test = np.hstack((y1_np_test, 1 - y1_np_test))"
   ]
  },
  {
   "cell_type": "code",
   "execution_count": 25,
   "metadata": {
    "colab": {
     "base_uri": "https://localhost:8080/",
     "height": 34
    },
    "colab_type": "code",
    "id": "28WcBdqrl2h4",
    "outputId": "d902740c-459e-4a55-97f5-58db9c14d994"
   },
   "outputs": [
    {
     "data": {
      "text/plain": [
       "(292, 2)"
      ]
     },
     "execution_count": 25,
     "metadata": {
      "tags": []
     },
     "output_type": "execute_result"
    }
   ],
   "source": [
    "y1_np_train.shape"
   ]
  },
  {
   "cell_type": "code",
   "execution_count": null,
   "metadata": {
    "colab": {},
    "colab_type": "code",
    "id": "Ji1PeXEJHR2R"
   },
   "outputs": [],
   "source": [
    "# Use cross entropy loss (we're doing classification)\n",
    "# This is where we link our network to the objective function.\n",
    "loss = tf.losses.softmax_cross_entropy(input_y, net_output)\n",
    "\n",
    "# Get accuracy measure\n",
    "# acc will store the accuracy score of the true labels and our net output\n",
    "acc, acc_op = tf.metrics.accuracy(labels=tf.argmax(input_y, 1), predictions=tf.argmax(net_output, 1))\n",
    "\n",
    "# Use gradient descent with a learning rate of 0.1\n",
    "optimizer = tf.train.GradientDescentOptimizer(0.1)\n",
    "\n",
    "# Objective is minimize the loss\n",
    "train = optimizer.minimize(loss)"
   ]
  },
  {
   "cell_type": "code",
   "execution_count": null,
   "metadata": {
    "colab": {},
    "colab_type": "code",
    "id": "WLpne3RwHR2I"
   },
   "outputs": [],
   "source": [
    "# Open a TensorFlow session\n",
    "sess = tf.Session()\n",
    "init = tf.group(tf.global_variables_initializer(), tf.local_variables_initializer())\n",
    "sess.run(init)"
   ]
  },
  {
   "cell_type": "code",
   "execution_count": 32,
   "metadata": {
    "colab": {
     "base_uri": "https://localhost:8080/",
     "height": 374
    },
    "colab_type": "code",
    "id": "X3DiN4bqHR2Z",
    "outputId": "c2b79e0e-29e3-43df-cfe3-4d839426fdb8"
   },
   "outputs": [
    {
     "name": "stdout",
     "output_type": "stream",
     "text": [
      "Epoch: 0, Loss: 0.717, Accuracy: 0.596\n",
      "Epoch: 1000, Loss: 0.717, Accuracy: 0.596\n",
      "Epoch: 2000, Loss: 0.717, Accuracy: 0.596\n",
      "Epoch: 3000, Loss: 0.717, Accuracy: 0.596\n",
      "Epoch: 4000, Loss: 0.717, Accuracy: 0.596\n",
      "Epoch: 5000, Loss: 0.717, Accuracy: 0.596\n",
      "Epoch: 6000, Loss: 0.717, Accuracy: 0.596\n",
      "Epoch: 7000, Loss: 0.717, Accuracy: 0.596\n",
      "Epoch: 8000, Loss: 0.717, Accuracy: 0.596\n",
      "Epoch: 9000, Loss: 0.717, Accuracy: 0.596\n",
      "Epoch: 10000, Loss: 0.717, Accuracy: 0.596\n",
      "Epoch: 11000, Loss: 0.717, Accuracy: 0.596\n",
      "Epoch: 12000, Loss: 0.717, Accuracy: 0.596\n",
      "Epoch: 13000, Loss: 0.717, Accuracy: 0.596\n",
      "Epoch: 14000, Loss: 0.717, Accuracy: 0.596\n",
      "Epoch: 15000, Loss: 0.717, Accuracy: 0.596\n",
      "Epoch: 16000, Loss: 0.717, Accuracy: 0.596\n",
      "Epoch: 17000, Loss: 0.717, Accuracy: 0.596\n",
      "Epoch: 18000, Loss: 0.717, Accuracy: 0.596\n",
      "Epoch: 19000, Loss: 0.717, Accuracy: 0.596\n",
      "0.5958904\n"
     ]
    }
   ],
   "source": [
    "epochs = 20000\n",
    "\n",
    "# Each epoch is one pass through the data\n",
    "for epoch in range(epochs):\n",
    "    \n",
    "    # Update the network.\n",
    "    # feed_dict passes in the input for training\n",
    "    # train linkes the session to the network\n",
    "    sess.run(train, feed_dict={input_X: X1_train, input_y: y1_np_train})\n",
    "    \n",
    "    if epoch % 1000 == 0 :\n",
    "        # Get the training loss\n",
    "        training_loss = sess.run(loss, feed_dict={input_X: X1_train, input_y: y1_np_train})\n",
    "        \n",
    "        score = sess.run([acc, acc_op], feed_dict={input_X: X1_train, input_y: y1_np_train})\n",
    "        print(f'Epoch: {epoch}, Loss: {training_loss:.3f}, Accuracy: {score[1]:.3f}')\n",
    "\n",
    "# run session to calculate the accuracy score on test set\n",
    "test_acc,_ = sess.run([acc, acc_op], feed_dict={input_X: X1_test, input_y: y1_np_test})\n",
    "print(test_acc)"
   ]
  },
  {
   "cell_type": "markdown",
   "metadata": {
    "colab_type": "text",
    "id": "sM0py4I-HR2c"
   },
   "source": [
    "---"
   ]
  },
  {
   "cell_type": "markdown",
   "metadata": {
    "colab_type": "text",
    "id": "8f2HJvXnHR2d"
   },
   "source": [
    "### 3-year analysis\n",
    "For the patients surviving for more than 3 years"
   ]
  },
  {
   "cell_type": "code",
   "execution_count": 13,
   "metadata": {
    "colab": {},
    "colab_type": "code",
    "id": "_1HSPdT_HR2e"
   },
   "outputs": [],
   "source": [
    "X3 = df_tf[mask_3yr | dead][df_tf.columns[feat_mask]]\n",
    "y3 = (df_tf[mask_3yr | dead]['Survival.time'] > 3*365).astype(int)\n",
    "\n",
    "X3 = X3.astype(float)"
   ]
  },
  {
   "cell_type": "code",
   "execution_count": 60,
   "metadata": {
    "colab": {
     "base_uri": "https://localhost:8080/",
     "height": 34
    },
    "colab_type": "code",
    "id": "sFsenefMHR2j",
    "outputId": "88c67819-a934-41af-fdaf-8b1b092c9510"
   },
   "outputs": [
    {
     "data": {
      "text/plain": [
       "(418,)"
      ]
     },
     "execution_count": 60,
     "metadata": {
      "tags": []
     },
     "output_type": "execute_result"
    }
   ],
   "source": [
    "y3.shape"
   ]
  },
  {
   "cell_type": "code",
   "execution_count": 14,
   "metadata": {
    "colab": {},
    "colab_type": "code",
    "id": "qGU3X40QHR2o"
   },
   "outputs": [],
   "source": [
    "X3_train, X3_test, y3_train, y3_test = train_test_split(X3, y3, test_size=0.3, random_state=1)"
   ]
  },
  {
   "cell_type": "code",
   "execution_count": 62,
   "metadata": {
    "colab": {
     "base_uri": "https://localhost:8080/",
     "height": 68
    },
    "colab_type": "code",
    "id": "Dac_qk1RHR2r",
    "outputId": "e64306e2-e7b0-4e34-90ca-fc9c1328f366"
   },
   "outputs": [
    {
     "data": {
      "text/plain": [
       "0    203\n",
       "1     89\n",
       "Name: Survival.time, dtype: int64"
      ]
     },
     "execution_count": 62,
     "metadata": {
      "tags": []
     },
     "output_type": "execute_result"
    }
   ],
   "source": [
    "y3_train.value_counts()"
   ]
  },
  {
   "cell_type": "code",
   "execution_count": 15,
   "metadata": {
    "colab": {},
    "colab_type": "code",
    "id": "HScjSMOFHR2t"
   },
   "outputs": [],
   "source": [
    "my_scaler3 = StandardScaler()\n",
    "X3_train = my_scaler3.fit_transform(X3_train)\n",
    "X3_test = my_scaler3.transform(X3_test)"
   ]
  },
  {
   "cell_type": "markdown",
   "metadata": {
    "colab_type": "text",
    "id": "xlRsuOkpTNF8"
   },
   "source": [
    "#### Logistic Regression"
   ]
  },
  {
   "cell_type": "code",
   "execution_count": 73,
   "metadata": {
    "colab": {
     "base_uri": "https://localhost:8080/",
     "height": 34
    },
    "colab_type": "code",
    "id": "VixmG3v8HR2w",
    "outputId": "3b0b6beb-0bc9-4f79-bd72-5e6b10dc08ca"
   },
   "outputs": [
    {
     "data": {
      "text/plain": [
       "0.7568493150684932"
      ]
     },
     "execution_count": 73,
     "metadata": {
      "tags": []
     },
     "output_type": "execute_result"
    }
   ],
   "source": [
    "my_logit3 = LogisticRegression()\n",
    "my_logit3.fit(X3_train, y3_train)\n",
    "my_logit3.score(X3_train, y3_train)"
   ]
  },
  {
   "cell_type": "code",
   "execution_count": 16,
   "metadata": {
    "colab": {
     "base_uri": "https://localhost:8080/",
     "height": 34
    },
    "colab_type": "code",
    "id": "ZmP66DL4HR21",
    "outputId": "4a880e60-5a00-402f-c5b0-5aa99e2ae2d8"
   },
   "outputs": [
    {
     "name": "stderr",
     "output_type": "stream",
     "text": [
      "/opt/anaconda3/lib/python3.7/site-packages/sklearn/model_selection/_search.py:814: DeprecationWarning: The default of the `iid` parameter will change from True to False in version 0.22 and will be removed in 0.24. This will change numeric results when test-set sizes are unequal.\n",
      "  DeprecationWarning)\n"
     ]
    },
    {
     "data": {
      "text/plain": [
       "['logreg_3yr.pkl']"
      ]
     },
     "execution_count": 16,
     "metadata": {},
     "output_type": "execute_result"
    }
   ],
   "source": [
    "estimators = [('pca', PCA()),\n",
    "              ('model', LogisticRegression())]\n",
    "\n",
    "pipe = Pipeline(estimators)\n",
    "\n",
    "param_grid = [{'pca': [PCA()],\n",
    "               'pca__n_components': [x for x in range(5,num_feat,5)],\n",
    "               'model': [LogisticRegression(solver='saga')], \n",
    "               'model__C': [10**i for i in range(-6,7)],\n",
    "               'model__penalty': ['l1', 'l2']}]\n",
    "\n",
    "grid = GridSearchCV(pipe, param_grid, n_jobs=-1, cv=5)\n",
    "fittedgrid3 = grid.fit(X3_train, y3_train)\n",
    "\n",
    "joblib.dump(fittedgrid3, 'logreg_3yr.pkl')"
   ]
  },
  {
   "cell_type": "code",
   "execution_count": 75,
   "metadata": {
    "colab": {
     "base_uri": "https://localhost:8080/",
     "height": 255
    },
    "colab_type": "code",
    "id": "J2z9nKDqHR23",
    "outputId": "520320ee-98c3-4321-98f2-cbfc5f3e411c"
   },
   "outputs": [
    {
     "data": {
      "text/plain": [
       "Pipeline(memory=None,\n",
       "         steps=[('pca',\n",
       "                 PCA(copy=True, iterated_power='auto', n_components=5,\n",
       "                     random_state=None, svd_solver='auto', tol=0.0,\n",
       "                     whiten=False)),\n",
       "                ('model',\n",
       "                 LogisticRegression(C=1e-06, class_weight=None, dual=False,\n",
       "                                    fit_intercept=True, intercept_scaling=1,\n",
       "                                    l1_ratio=None, max_iter=100,\n",
       "                                    multi_class='auto', n_jobs=None,\n",
       "                                    penalty='l1', random_state=None,\n",
       "                                    solver='saga', tol=0.0001, verbose=0,\n",
       "                                    warm_start=False))],\n",
       "         verbose=False)"
      ]
     },
     "execution_count": 75,
     "metadata": {
      "tags": []
     },
     "output_type": "execute_result"
    }
   ],
   "source": [
    "fittedgrid3.best_estimator_"
   ]
  },
  {
   "cell_type": "code",
   "execution_count": 76,
   "metadata": {
    "colab": {
     "base_uri": "https://localhost:8080/",
     "height": 34
    },
    "colab_type": "code",
    "id": "B6EXctJdHR25",
    "outputId": "4e5660a3-81e3-4034-b987-8788e27f5d7a"
   },
   "outputs": [
    {
     "data": {
      "text/plain": [
       "0.6952074810052601"
      ]
     },
     "execution_count": 76,
     "metadata": {
      "tags": []
     },
     "output_type": "execute_result"
    }
   ],
   "source": [
    "fittedgrid3.best_score_"
   ]
  },
  {
   "cell_type": "code",
   "execution_count": 77,
   "metadata": {
    "colab": {
     "base_uri": "https://localhost:8080/",
     "height": 34
    },
    "colab_type": "code",
    "id": "LsGiJVi7HR3C",
    "outputId": "94cb7272-250c-4aa2-f091-458b1cba814c"
   },
   "outputs": [
    {
     "data": {
      "text/plain": [
       "0.7142857142857143"
      ]
     },
     "execution_count": 77,
     "metadata": {
      "tags": []
     },
     "output_type": "execute_result"
    }
   ],
   "source": [
    "my_logit3.score(X3_test, y3_test)"
   ]
  },
  {
   "cell_type": "code",
   "execution_count": 78,
   "metadata": {
    "colab": {
     "base_uri": "https://localhost:8080/",
     "height": 34
    },
    "colab_type": "code",
    "id": "bLq7zAf7HR3I",
    "outputId": "3d663958-9edd-4044-e6b9-23b96f77ae41"
   },
   "outputs": [
    {
     "data": {
      "text/plain": [
       "0.6746031746031746"
      ]
     },
     "execution_count": 78,
     "metadata": {
      "tags": []
     },
     "output_type": "execute_result"
    }
   ],
   "source": [
    "fittedgrid3.score(X3_test, y3_test)"
   ]
  },
  {
   "cell_type": "markdown",
   "metadata": {
    "colab_type": "text",
    "id": "7QBA0na8TRvG"
   },
   "source": [
    "#### Decision Tree"
   ]
  },
  {
   "cell_type": "code",
   "execution_count": 79,
   "metadata": {
    "colab": {
     "base_uri": "https://localhost:8080/",
     "height": 34
    },
    "colab_type": "code",
    "id": "Y8OJYPfcHR3K",
    "outputId": "cdce540f-b932-4c1c-95a7-bec8ece66a5a"
   },
   "outputs": [
    {
     "data": {
      "text/plain": [
       "0.839041095890411"
      ]
     },
     "execution_count": 79,
     "metadata": {
      "tags": []
     },
     "output_type": "execute_result"
    }
   ],
   "source": [
    "my_dt3 = DecisionTreeClassifier(max_depth=5)\n",
    "my_dt3.fit(X3_train, y3_train)\n",
    "my_dt3.score(X3_train, y3_train)"
   ]
  },
  {
   "cell_type": "code",
   "execution_count": 80,
   "metadata": {
    "colab": {
     "base_uri": "https://localhost:8080/",
     "height": 34
    },
    "colab_type": "code",
    "id": "UcmYvvhsHR3M",
    "outputId": "a9e8e4ad-dbd6-40b4-a670-e4a0263232c3"
   },
   "outputs": [
    {
     "data": {
      "text/plain": [
       "0.6666666666666666"
      ]
     },
     "execution_count": 80,
     "metadata": {
      "tags": []
     },
     "output_type": "execute_result"
    }
   ],
   "source": [
    "my_dt3.score(X3_test, y3_test)"
   ]
  },
  {
   "cell_type": "code",
   "execution_count": 17,
   "metadata": {
    "colab": {
     "base_uri": "https://localhost:8080/",
     "height": 34
    },
    "colab_type": "code",
    "id": "LVeiItJpHR3O",
    "outputId": "7ba64183-b94f-494a-bdbe-16d10e447f4b"
   },
   "outputs": [
    {
     "name": "stderr",
     "output_type": "stream",
     "text": [
      "/opt/anaconda3/lib/python3.7/site-packages/sklearn/model_selection/_search.py:814: DeprecationWarning: The default of the `iid` parameter will change from True to False in version 0.22 and will be removed in 0.24. This will change numeric results when test-set sizes are unequal.\n",
      "  DeprecationWarning)\n"
     ]
    },
    {
     "data": {
      "text/plain": [
       "['dt_3yr.pkl']"
      ]
     },
     "execution_count": 17,
     "metadata": {},
     "output_type": "execute_result"
    }
   ],
   "source": [
    "estimators = [('pca', PCA()),\n",
    "              ('model', DecisionTreeClassifier())]\n",
    "\n",
    "pipe = Pipeline(estimators)\n",
    "\n",
    "param_grid = [{'pca': [PCA()],\n",
    "               'pca__n_components': [x for x in range(5,num_feat,5)],\n",
    "               'model': [DecisionTreeClassifier()], \n",
    "               'model__max_depth': [i for i in range(1,11)],\n",
    "               'model__min_samples_leaf': [i for i in range(1,11)]}]\n",
    "\n",
    "grid = GridSearchCV(pipe, param_grid, n_jobs=-1, cv=5)\n",
    "fittedgrid3 = grid.fit(X3_train, y3_train)\n",
    "\n",
    "joblib.dump(fittedgrid3, 'dt_3yr.pkl')"
   ]
  },
  {
   "cell_type": "code",
   "execution_count": 82,
   "metadata": {
    "colab": {
     "base_uri": "https://localhost:8080/",
     "height": 289
    },
    "colab_type": "code",
    "id": "mvObKgJgHR3P",
    "outputId": "44ed5b84-8edf-4bd5-e056-f4e21fd4e58e"
   },
   "outputs": [
    {
     "data": {
      "text/plain": [
       "Pipeline(memory=None,\n",
       "         steps=[('pca',\n",
       "                 PCA(copy=True, iterated_power='auto', n_components=15,\n",
       "                     random_state=None, svd_solver='auto', tol=0.0,\n",
       "                     whiten=False)),\n",
       "                ('model',\n",
       "                 DecisionTreeClassifier(ccp_alpha=0.0, class_weight=None,\n",
       "                                        criterion='gini', max_depth=2,\n",
       "                                        max_features=None, max_leaf_nodes=None,\n",
       "                                        min_impurity_decrease=0.0,\n",
       "                                        min_impurity_split=None,\n",
       "                                        min_samples_leaf=7, min_samples_split=2,\n",
       "                                        min_weight_fraction_leaf=0.0,\n",
       "                                        presort='deprecated', random_state=None,\n",
       "                                        splitter='best'))],\n",
       "         verbose=False)"
      ]
     },
     "execution_count": 82,
     "metadata": {
      "tags": []
     },
     "output_type": "execute_result"
    }
   ],
   "source": [
    "fittedgrid3.best_estimator_"
   ]
  },
  {
   "cell_type": "code",
   "execution_count": 83,
   "metadata": {
    "colab": {
     "base_uri": "https://localhost:8080/",
     "height": 34
    },
    "colab_type": "code",
    "id": "Dw4vtkZaHR3R",
    "outputId": "5a0f75a0-232c-463b-d4cd-8c4d30203893"
   },
   "outputs": [
    {
     "data": {
      "text/plain": [
       "0.6988310929281123"
      ]
     },
     "execution_count": 83,
     "metadata": {
      "tags": []
     },
     "output_type": "execute_result"
    }
   ],
   "source": [
    "fittedgrid3.best_score_"
   ]
  },
  {
   "cell_type": "code",
   "execution_count": 84,
   "metadata": {
    "colab": {
     "base_uri": "https://localhost:8080/",
     "height": 34
    },
    "colab_type": "code",
    "id": "-j5IHmQSHR3U",
    "outputId": "d4fc52fa-e8d8-47a3-c012-7e5470942580"
   },
   "outputs": [
    {
     "data": {
      "text/plain": [
       "0.6746031746031746"
      ]
     },
     "execution_count": 84,
     "metadata": {
      "tags": []
     },
     "output_type": "execute_result"
    }
   ],
   "source": [
    "fittedgrid3.score(X3_test, y3_test)"
   ]
  },
  {
   "cell_type": "markdown",
   "metadata": {
    "colab_type": "text",
    "id": "f-1OwEjTTUvs"
   },
   "source": [
    "#### Random Forest"
   ]
  },
  {
   "cell_type": "code",
   "execution_count": null,
   "metadata": {
    "colab": {
     "base_uri": "https://localhost:8080/",
     "height": 34
    },
    "colab_type": "code",
    "id": "XBIZ4MJ6HR3W",
    "outputId": "2d60b8f7-794d-4d5a-c677-c459304fa5cd"
   },
   "outputs": [
    {
     "data": {
      "text/plain": [
       "0.9143835616438356"
      ]
     },
     "execution_count": 26,
     "metadata": {
      "tags": []
     },
     "output_type": "execute_result"
    }
   ],
   "source": [
    "my_rf3 = RandomForestClassifier(n_estimators=50, max_depth=5, random_state=32)\n",
    "my_rf3.fit(X3_train, y3_train)\n",
    "my_rf3.score(X3_train, y3_train)"
   ]
  },
  {
   "cell_type": "code",
   "execution_count": null,
   "metadata": {
    "colab": {
     "base_uri": "https://localhost:8080/",
     "height": 34
    },
    "colab_type": "code",
    "id": "UT2cifIgHR3Z",
    "outputId": "7696e10f-a5b4-4094-a45f-e10718c92e2e"
   },
   "outputs": [
    {
     "data": {
      "text/plain": [
       "0.6904761904761905"
      ]
     },
     "execution_count": 27,
     "metadata": {
      "tags": []
     },
     "output_type": "execute_result"
    }
   ],
   "source": [
    "my_rf3.score(X3_test, y3_test)"
   ]
  },
  {
   "cell_type": "code",
   "execution_count": null,
   "metadata": {
    "colab": {
     "base_uri": "https://localhost:8080/",
     "height": 170
    },
    "colab_type": "code",
    "id": "3Hz_YgYEHR3e",
    "outputId": "788621c7-1be5-423e-8505-2a09c9e5c5db"
   },
   "outputs": [
    {
     "name": "stdout",
     "output_type": "stream",
     "text": [
      "              precision    recall  f1-score   support\n",
      "\n",
      "           0       0.70      0.95      0.81        85\n",
      "           1       0.60      0.15      0.24        41\n",
      "\n",
      "    accuracy                           0.69       126\n",
      "   macro avg       0.65      0.55      0.52       126\n",
      "weighted avg       0.67      0.69      0.62       126\n",
      "\n"
     ]
    }
   ],
   "source": [
    "y3_pred_rf = my_rf3.predict(X3_test)\n",
    "print(classification_report(y3_test, y3_pred_rf))"
   ]
  },
  {
   "cell_type": "code",
   "execution_count": null,
   "metadata": {
    "colab": {},
    "colab_type": "code",
    "id": "0nA4X5KqHR3h"
   },
   "outputs": [],
   "source": [
    "estimators = [('pca', PCA()),\n",
    "              ('model', RandomForestClassifier(n_jobs=-1))]\n",
    "\n",
    "pipe = Pipeline(estimators)\n",
    "\n",
    "param_grid = [{'pca': [PCA()],\n",
    "               'pca__n_components': [x for x in range(5,num_feat,5)],\n",
    "               'model': [RandomForestClassifier(n_jobs=-1)], \n",
    "               'model__n_estimators': [i for i in range(10,110,10)],\n",
    "               'model__max_depth': [i for i in range(1,11)],\n",
    "               'model__min_samples_leaf': [i for i in range(1,11)]}]\n",
    "\n",
    "grid = GridSearchCV(pipe, param_grid, n_jobs=-1, cv=5)\n",
    "fittedgrid3 = grid.fit(X3_train, y3_train)\n",
    "\n",
    "joblib.dump(fittedgrid3, 'rf_3yr.pkl')"
   ]
  },
  {
   "cell_type": "code",
   "execution_count": 16,
   "metadata": {
    "colab": {
     "base_uri": "https://localhost:8080/",
     "height": 323
    },
    "colab_type": "code",
    "id": "437ZLMyvHR3j",
    "outputId": "52f95c42-362d-4094-a321-504de3ca7715"
   },
   "outputs": [
    {
     "data": {
      "text/plain": [
       "Pipeline(memory=None,\n",
       "         steps=[('pca',\n",
       "                 PCA(copy=True, iterated_power='auto', n_components=10,\n",
       "                     random_state=None, svd_solver='auto', tol=0.0,\n",
       "                     whiten=False)),\n",
       "                ('model',\n",
       "                 RandomForestClassifier(bootstrap=True, ccp_alpha=0.0,\n",
       "                                        class_weight=None, criterion='gini',\n",
       "                                        max_depth=7, max_features='auto',\n",
       "                                        max_leaf_nodes=None, max_samples=None,\n",
       "                                        min_impurity_decrease=0.0,\n",
       "                                        min_impurity_split=None,\n",
       "                                        min_samples_leaf=1, min_samples_split=2,\n",
       "                                        min_weight_fraction_leaf=0.0,\n",
       "                                        n_estimators=30, n_jobs=None,\n",
       "                                        oob_score=False, random_state=None,\n",
       "                                        verbose=0, warm_start=False))],\n",
       "         verbose=False)"
      ]
     },
     "execution_count": 16,
     "metadata": {
      "tags": []
     },
     "output_type": "execute_result"
    }
   ],
   "source": [
    "fittedgrid3.best_estimator_"
   ]
  },
  {
   "cell_type": "code",
   "execution_count": 17,
   "metadata": {
    "colab": {
     "base_uri": "https://localhost:8080/",
     "height": 34
    },
    "colab_type": "code",
    "id": "nKjcNm9xHR3q",
    "outputId": "f421d2de-d852-4beb-9093-3ccdadee82e6"
   },
   "outputs": [
    {
     "data": {
      "text/plain": [
       "0.7296317942723554"
      ]
     },
     "execution_count": 17,
     "metadata": {
      "tags": []
     },
     "output_type": "execute_result"
    }
   ],
   "source": [
    "fittedgrid3.best_score_"
   ]
  },
  {
   "cell_type": "code",
   "execution_count": 18,
   "metadata": {
    "colab": {
     "base_uri": "https://localhost:8080/",
     "height": 34
    },
    "colab_type": "code",
    "id": "vITvBNpLHR3v",
    "outputId": "0db60ff8-7c55-41a7-e9ab-8a6023769427"
   },
   "outputs": [
    {
     "data": {
      "text/plain": [
       "0.6825396825396826"
      ]
     },
     "execution_count": 18,
     "metadata": {
      "tags": []
     },
     "output_type": "execute_result"
    }
   ],
   "source": [
    "fittedgrid3.score(X3_test, y3_test)"
   ]
  },
  {
   "cell_type": "markdown",
   "metadata": {
    "colab_type": "text",
    "id": "YknQubFZVrtX"
   },
   "source": [
    "#### XGBoost decision tree"
   ]
  },
  {
   "cell_type": "code",
   "execution_count": null,
   "metadata": {
    "colab": {},
    "colab_type": "code",
    "id": "HHAjENx7HR33"
   },
   "outputs": [],
   "source": [
    "estimators = [('pca', PCA()),\n",
    "              ('model', XGBClassifier())]\n",
    "\n",
    "pipe = Pipeline(estimators)\n",
    "\n",
    "param_grid = [{'pca': [PCA()],\n",
    "               'pca__n_components': [x for x in range(5,num_feat,5)],\n",
    "               'model': [XGBClassifier()], \n",
    "               'model__max_depth': [i for i in range(1,11)],\n",
    "               'model__n_estimators': [i for i in range(10,160,10)]}]\n",
    "\n",
    "grid = GridSearchCV(pipe, param_grid, n_jobs=-1, cv=5)\n",
    "fittedgrid3 = grid.fit(X3_train, y3_train)\n",
    "\n",
    "joblib.dump(fittedgrid3, 'xgb_3yr.pkl')"
   ]
  },
  {
   "cell_type": "code",
   "execution_count": 20,
   "metadata": {
    "colab": {
     "base_uri": "https://localhost:8080/",
     "height": 306
    },
    "colab_type": "code",
    "id": "EcF5VCkMHR36",
    "outputId": "4bbe0ab0-ac74-447d-fb18-5765b58ed293"
   },
   "outputs": [
    {
     "data": {
      "text/plain": [
       "Pipeline(memory=None,\n",
       "         steps=[('pca',\n",
       "                 PCA(copy=True, iterated_power='auto', n_components=10,\n",
       "                     random_state=None, svd_solver='auto', tol=0.0,\n",
       "                     whiten=False)),\n",
       "                ('model',\n",
       "                 XGBClassifier(base_score=0.5, booster='gbtree',\n",
       "                               colsample_bylevel=1, colsample_bynode=1,\n",
       "                               colsample_bytree=1, gamma=0, learning_rate=0.1,\n",
       "                               max_delta_step=0, max_depth=1,\n",
       "                               min_child_weight=1, missing=None,\n",
       "                               n_estimators=80, n_jobs=1, nthread=None,\n",
       "                               objective='binary:logistic', random_state=0,\n",
       "                               reg_alpha=0, reg_lambda=1, scale_pos_weight=1,\n",
       "                               seed=None, silent=None, subsample=1,\n",
       "                               verbosity=1))],\n",
       "         verbose=False)"
      ]
     },
     "execution_count": 20,
     "metadata": {
      "tags": []
     },
     "output_type": "execute_result"
    }
   ],
   "source": [
    "fittedgrid3.best_estimator_"
   ]
  },
  {
   "cell_type": "code",
   "execution_count": 21,
   "metadata": {
    "colab": {
     "base_uri": "https://localhost:8080/",
     "height": 34
    },
    "colab_type": "code",
    "id": "Xl6gZqckHR3-",
    "outputId": "b5cc1082-e7bd-43f8-d4ff-6473d468dba0"
   },
   "outputs": [
    {
     "data": {
      "text/plain": [
       "0.7227936879018119"
      ]
     },
     "execution_count": 21,
     "metadata": {
      "tags": []
     },
     "output_type": "execute_result"
    }
   ],
   "source": [
    "fittedgrid3.best_score_"
   ]
  },
  {
   "cell_type": "code",
   "execution_count": 22,
   "metadata": {
    "colab": {
     "base_uri": "https://localhost:8080/",
     "height": 34
    },
    "colab_type": "code",
    "id": "O30kfuntHR4B",
    "outputId": "835938b8-489b-4c84-cd41-02ab87b47f11"
   },
   "outputs": [
    {
     "data": {
      "text/plain": [
       "0.6825396825396826"
      ]
     },
     "execution_count": 22,
     "metadata": {
      "tags": []
     },
     "output_type": "execute_result"
    }
   ],
   "source": [
    "fittedgrid3.score(X3_test, y3_test)"
   ]
  },
  {
   "cell_type": "markdown",
   "metadata": {
    "colab_type": "text",
    "id": "T5lLwwv0TZjQ"
   },
   "source": [
    "#### Support Vector Machine"
   ]
  },
  {
   "cell_type": "code",
   "execution_count": null,
   "metadata": {
    "colab": {},
    "colab_type": "code",
    "id": "Vs4O9923HR4E"
   },
   "outputs": [],
   "source": [
    "estimators = [('pca', PCA()),\n",
    "              ('model', SVC())]\n",
    "\n",
    "pipe = Pipeline(estimators)\n",
    "\n",
    "param_grid = [{'pca': [PCA()],\n",
    "               'pca__n_components': [x for x in range(5,num_feat,5)],\n",
    "               'model': [SVC(decision_function_shape='ovo', max_iter=999)], \n",
    "               'model__C': [10**i for i in range(-6,7)],\n",
    "               'model__kernel': ['linear', 'poly', 'rbf', 'sigmoid']}]\n",
    "\n",
    "grid = GridSearchCV(pipe, param_grid, n_jobs=-1, cv=5)\n",
    "fittedgrid3 = grid.fit(X3_train, y3_train)\n",
    "\n",
    "joblib.dump(fittedgrid3, 'svm_3yr.pkl')"
   ]
  },
  {
   "cell_type": "code",
   "execution_count": 25,
   "metadata": {
    "colab": {
     "base_uri": "https://localhost:8080/",
     "height": 221
    },
    "colab_type": "code",
    "id": "Aa7TFRYvHR4G",
    "outputId": "6f7b064a-1e96-4118-850b-1cfa752bdcbc"
   },
   "outputs": [
    {
     "data": {
      "text/plain": [
       "Pipeline(memory=None,\n",
       "         steps=[('pca',\n",
       "                 PCA(copy=True, iterated_power='auto', n_components=5,\n",
       "                     random_state=None, svd_solver='auto', tol=0.0,\n",
       "                     whiten=False)),\n",
       "                ('model',\n",
       "                 SVC(C=0.1, break_ties=False, cache_size=200, class_weight=None,\n",
       "                     coef0=0.0, decision_function_shape='ovo', degree=3,\n",
       "                     gamma='scale', kernel='sigmoid', max_iter=999,\n",
       "                     probability=False, random_state=None, shrinking=True,\n",
       "                     tol=0.001, verbose=False))],\n",
       "         verbose=False)"
      ]
     },
     "execution_count": 25,
     "metadata": {
      "tags": []
     },
     "output_type": "execute_result"
    }
   ],
   "source": [
    "fittedgrid3.best_estimator_"
   ]
  },
  {
   "cell_type": "code",
   "execution_count": 26,
   "metadata": {
    "colab": {
     "base_uri": "https://localhost:8080/",
     "height": 34
    },
    "colab_type": "code",
    "id": "plKuCEQtHR4K",
    "outputId": "845b710d-4635-4b17-f201-819253939e17"
   },
   "outputs": [
    {
     "data": {
      "text/plain": [
       "0.7021040327293979"
      ]
     },
     "execution_count": 26,
     "metadata": {
      "tags": []
     },
     "output_type": "execute_result"
    }
   ],
   "source": [
    "fittedgrid3.best_score_"
   ]
  },
  {
   "cell_type": "code",
   "execution_count": 27,
   "metadata": {
    "colab": {
     "base_uri": "https://localhost:8080/",
     "height": 34
    },
    "colab_type": "code",
    "id": "j4MkKCIvHR4O",
    "outputId": "710cff19-2dde-4c49-f694-84db4827acd1"
   },
   "outputs": [
    {
     "data": {
      "text/plain": [
       "0.6746031746031746"
      ]
     },
     "execution_count": 27,
     "metadata": {
      "tags": []
     },
     "output_type": "execute_result"
    }
   ],
   "source": [
    "fittedgrid3.score(X3_test, y3_test)"
   ]
  },
  {
   "cell_type": "markdown",
   "metadata": {
    "colab_type": "text",
    "id": "2VncJWzTVjke"
   },
   "source": [
    "#### Neural network"
   ]
  },
  {
   "cell_type": "code",
   "execution_count": null,
   "metadata": {
    "colab": {},
    "colab_type": "code",
    "id": "H-rzX-CtR6EM"
   },
   "outputs": [],
   "source": [
    "input_size = num_feat\n",
    "output_size = 2"
   ]
  },
  {
   "cell_type": "code",
   "execution_count": null,
   "metadata": {
    "colab": {},
    "colab_type": "code",
    "id": "5riPBBq1R6ES"
   },
   "outputs": [],
   "source": [
    "# Make the placeholder variables:\n",
    "input_X = tf.placeholder(tf.float32, shape=(None, input_size))\n",
    "input_y = tf.placeholder(tf.float32, shape=(None, output_size))"
   ]
  },
  {
   "cell_type": "code",
   "execution_count": null,
   "metadata": {
    "colab": {},
    "colab_type": "code",
    "id": "yyjAuyiHR6EV"
   },
   "outputs": [],
   "source": [
    "# Size of the hidden dimension\n",
    "num_hidden_1 = 400\n",
    "num_hidden_2 = 400\n",
    "\n",
    "# Hidden Unit activations 1\n",
    "W1 = tf.Variable(tf.random_normal([input_size, num_hidden_1]))\n",
    "b1 = tf.Variable(tf.random_normal([num_hidden_1])) #bias\n",
    "hidden_output_1 = tf.nn.elu(tf.add(tf.matmul(input_X,W1), b1)) # Relu for hidden layer\n",
    "\n",
    "# Hidden Unit activations 2\n",
    "W2 = tf.Variable(tf.random_normal([num_hidden_1, num_hidden_2]))\n",
    "b2 = tf.Variable(tf.random_normal([num_hidden_2])) #bias\n",
    "hidden_output_2 = tf.nn.elu(tf.add(tf.matmul(hidden_output_1,W2), b2)) # Relu for hidden layer\n",
    "\n",
    "# Output Unit activations\n",
    "W3 = tf.Variable(tf.random_normal([num_hidden_2, output_size]))\n",
    "b3 = tf.Variable(tf.random_normal([output_size]))\n",
    "net_output = tf.nn.softmax(tf.add( tf.matmul(hidden_output_2, W3), b3)) # Softmax for output layer"
   ]
  },
  {
   "cell_type": "code",
   "execution_count": null,
   "metadata": {
    "colab": {},
    "colab_type": "code",
    "id": "IHQt4thsR6EX"
   },
   "outputs": [],
   "source": [
    "encoder = LabelBinarizer()\n",
    "\n",
    "one_hot_encoder = encoder.fit(list(y3_train))\n",
    "y3_np_train = one_hot_encoder.transform(y3_train)\n",
    "y3_np_test = one_hot_encoder.transform(y3_test)\n",
    "y3_np_train = np.hstack((y3_np_train, 1 - y3_np_train))\n",
    "y3_np_test = np.hstack((y3_np_test, 1 - y3_np_test))"
   ]
  },
  {
   "cell_type": "code",
   "execution_count": 68,
   "metadata": {
    "colab": {
     "base_uri": "https://localhost:8080/",
     "height": 34
    },
    "colab_type": "code",
    "id": "gIOGZZ_nR6EZ",
    "outputId": "6d720e4b-e4f9-4c18-ec23-06499c05198e"
   },
   "outputs": [
    {
     "data": {
      "text/plain": [
       "(292, 2)"
      ]
     },
     "execution_count": 68,
     "metadata": {
      "tags": []
     },
     "output_type": "execute_result"
    }
   ],
   "source": [
    "y3_np_train.shape"
   ]
  },
  {
   "cell_type": "code",
   "execution_count": 69,
   "metadata": {
    "colab": {
     "base_uri": "https://localhost:8080/",
     "height": 88
    },
    "colab_type": "code",
    "id": "mOsA57TuR6Ed",
    "outputId": "597305f1-b87f-41c6-de07-0ac6c040697c"
   },
   "outputs": [
    {
     "name": "stdout",
     "output_type": "stream",
     "text": [
      "WARNING:tensorflow:From /usr/local/lib/python3.6/dist-packages/tensorflow_core/python/ops/losses/losses_impl.py:121: where (from tensorflow.python.ops.array_ops) is deprecated and will be removed in a future version.\n",
      "Instructions for updating:\n",
      "Use tf.where in 2.0, which has the same broadcast rule as np.where\n"
     ]
    }
   ],
   "source": [
    "# Use cross entropy loss (we're doing classification)\n",
    "# This is where we link our network to the objective function.\n",
    "loss = tf.losses.softmax_cross_entropy(input_y, net_output)\n",
    "\n",
    "# Get accuracy measure\n",
    "# acc will store the accuracy score of the true labels and our net output\n",
    "acc, acc_op = tf.metrics.accuracy(labels=tf.argmax(input_y, 1), predictions=tf.argmax(net_output, 1))\n",
    "\n",
    "# Use gradient descent with a learning rate of 0.1\n",
    "optimizer = tf.train.GradientDescentOptimizer(0.1)\n",
    "\n",
    "# Objective is minimize the loss\n",
    "train = optimizer.minimize(loss)"
   ]
  },
  {
   "cell_type": "code",
   "execution_count": null,
   "metadata": {
    "colab": {},
    "colab_type": "code",
    "id": "ZfkB5jbDR6Eh"
   },
   "outputs": [],
   "source": [
    "# Open a TensorFlow session\n",
    "sess = tf.Session()\n",
    "init = tf.group(tf.global_variables_initializer(), tf.local_variables_initializer())\n",
    "sess.run(init)"
   ]
  },
  {
   "cell_type": "code",
   "execution_count": 71,
   "metadata": {
    "colab": {
     "base_uri": "https://localhost:8080/",
     "height": 374
    },
    "colab_type": "code",
    "id": "ea5LEWrHR6Ej",
    "outputId": "fc78666d-128f-48d1-d39a-d30b7d95d21e"
   },
   "outputs": [
    {
     "name": "stdout",
     "output_type": "stream",
     "text": [
      "Epoch: 0, Loss: 0.639, Accuracy: 0.675\n",
      "Epoch: 1000, Loss: 0.639, Accuracy: 0.675\n",
      "Epoch: 2000, Loss: 0.639, Accuracy: 0.675\n",
      "Epoch: 3000, Loss: 0.639, Accuracy: 0.675\n",
      "Epoch: 4000, Loss: 0.639, Accuracy: 0.675\n",
      "Epoch: 5000, Loss: 0.639, Accuracy: 0.675\n",
      "Epoch: 6000, Loss: 0.639, Accuracy: 0.675\n",
      "Epoch: 7000, Loss: 0.639, Accuracy: 0.675\n",
      "Epoch: 8000, Loss: 0.639, Accuracy: 0.675\n",
      "Epoch: 9000, Loss: 0.639, Accuracy: 0.675\n",
      "Epoch: 10000, Loss: 0.639, Accuracy: 0.675\n",
      "Epoch: 11000, Loss: 0.639, Accuracy: 0.675\n",
      "Epoch: 12000, Loss: 0.639, Accuracy: 0.675\n",
      "Epoch: 13000, Loss: 0.639, Accuracy: 0.675\n",
      "Epoch: 14000, Loss: 0.639, Accuracy: 0.675\n",
      "Epoch: 15000, Loss: 0.639, Accuracy: 0.675\n",
      "Epoch: 16000, Loss: 0.639, Accuracy: 0.675\n",
      "Epoch: 17000, Loss: 0.639, Accuracy: 0.675\n",
      "Epoch: 18000, Loss: 0.639, Accuracy: 0.675\n",
      "Epoch: 19000, Loss: 0.639, Accuracy: 0.675\n",
      "0.6746575\n"
     ]
    }
   ],
   "source": [
    "epochs = 20000\n",
    "\n",
    "# Each epoch is one pass through the data\n",
    "for epoch in range(epochs):\n",
    "    \n",
    "    # Update the network.\n",
    "    # feed_dict passes in the input for training\n",
    "    # train linkes the session to the network\n",
    "    sess.run(train, feed_dict={input_X: X3_train, input_y: y3_np_train})\n",
    "    \n",
    "    if epoch % 1000 == 0 :\n",
    "        # Get the training loss\n",
    "        training_loss = sess.run(loss, feed_dict={input_X: X3_train, input_y: y3_np_train})\n",
    "        \n",
    "        score = sess.run([acc, acc_op], feed_dict={input_X: X3_train, input_y: y3_np_train})\n",
    "        print(f'Epoch: {epoch}, Loss: {training_loss:.3f}, Accuracy: {score[1]:.3f}')\n",
    "\n",
    "# run session to calculate the accuracy score on test set\n",
    "test_acc,_ = sess.run([acc, acc_op], feed_dict={input_X: X3_test, input_y: y3_np_test})\n",
    "print(test_acc)"
   ]
  },
  {
   "cell_type": "markdown",
   "metadata": {
    "colab_type": "text",
    "id": "kOdKLHZBHR4Q"
   },
   "source": [
    "---"
   ]
  },
  {
   "cell_type": "markdown",
   "metadata": {
    "colab_type": "text",
    "id": "YYOwrIVwHR4T"
   },
   "source": [
    "### 5-year analysis\n",
    "For the patients surviving for 5 years:"
   ]
  },
  {
   "cell_type": "code",
   "execution_count": null,
   "metadata": {
    "colab": {},
    "colab_type": "code",
    "id": "3yabLBqrHR4U"
   },
   "outputs": [],
   "source": [
    "X5 = df_tf[mask_5yr | dead][df_tf.columns[feat_mask]]\n",
    "y5 = (df_tf[mask_5yr | dead]['Survival.time'] > 5*365).astype(int)\n",
    "\n",
    "X5 = X5.astype(float)"
   ]
  },
  {
   "cell_type": "code",
   "execution_count": 86,
   "metadata": {
    "colab": {
     "base_uri": "https://localhost:8080/",
     "height": 34
    },
    "colab_type": "code",
    "id": "ivfDF5ewHR4a",
    "outputId": "17cf9173-1a09-43b1-c8a6-08fc0cb6b3ba"
   },
   "outputs": [
    {
     "data": {
      "text/plain": [
       "(406,)"
      ]
     },
     "execution_count": 86,
     "metadata": {
      "tags": []
     },
     "output_type": "execute_result"
    }
   ],
   "source": [
    "y5.shape"
   ]
  },
  {
   "cell_type": "code",
   "execution_count": null,
   "metadata": {
    "colab": {},
    "colab_type": "code",
    "id": "bY7nIrScHR4d"
   },
   "outputs": [],
   "source": [
    "X5_train, X5_test, y5_train, y5_test = train_test_split(X5, y5, test_size=0.3, random_state=1)"
   ]
  },
  {
   "cell_type": "code",
   "execution_count": 88,
   "metadata": {
    "colab": {
     "base_uri": "https://localhost:8080/",
     "height": 68
    },
    "colab_type": "code",
    "id": "WioAayAXHR4e",
    "outputId": "38135cdb-9226-42b4-a91f-b51b6ea89a7c"
   },
   "outputs": [
    {
     "data": {
      "text/plain": [
       "0    233\n",
       "1     51\n",
       "Name: Survival.time, dtype: int64"
      ]
     },
     "execution_count": 88,
     "metadata": {
      "tags": []
     },
     "output_type": "execute_result"
    }
   ],
   "source": [
    "y5_train.value_counts()"
   ]
  },
  {
   "cell_type": "code",
   "execution_count": null,
   "metadata": {
    "colab": {},
    "colab_type": "code",
    "id": "XhMLpOBnHR4j"
   },
   "outputs": [],
   "source": [
    "my_scaler5 = StandardScaler()\n",
    "X5_train = my_scaler5.fit_transform(X5_train)\n",
    "X5_test = my_scaler5.transform(X5_test)"
   ]
  },
  {
   "cell_type": "markdown",
   "metadata": {
    "colab_type": "text",
    "id": "zGpKiH5HVJQQ"
   },
   "source": [
    "#### Logistic Regression"
   ]
  },
  {
   "cell_type": "code",
   "execution_count": 90,
   "metadata": {
    "colab": {
     "base_uri": "https://localhost:8080/",
     "height": 34
    },
    "colab_type": "code",
    "id": "SCDvDSrGHR4l",
    "outputId": "a434a3e4-7c40-4aba-94e9-d352a26a7810"
   },
   "outputs": [
    {
     "data": {
      "text/plain": [
       "0.852112676056338"
      ]
     },
     "execution_count": 90,
     "metadata": {
      "tags": []
     },
     "output_type": "execute_result"
    }
   ],
   "source": [
    "my_logit5 = LogisticRegression()\n",
    "my_logit5.fit(X5_train, y5_train)\n",
    "my_logit5.score(X5_train, y5_train)"
   ]
  },
  {
   "cell_type": "code",
   "execution_count": 91,
   "metadata": {
    "colab": {
     "base_uri": "https://localhost:8080/",
     "height": 34
    },
    "colab_type": "code",
    "id": "nw75Co91HR4r",
    "outputId": "bae94ef1-f692-4350-c219-fd2d5e7943d2"
   },
   "outputs": [
    {
     "data": {
      "text/plain": [
       "0.7868852459016393"
      ]
     },
     "execution_count": 91,
     "metadata": {
      "tags": []
     },
     "output_type": "execute_result"
    }
   ],
   "source": [
    "my_logit5.score(X5_test, y5_test)"
   ]
  },
  {
   "cell_type": "code",
   "execution_count": 92,
   "metadata": {
    "colab": {
     "base_uri": "https://localhost:8080/",
     "height": 34
    },
    "colab_type": "code",
    "id": "OHu_qW8oHR4t",
    "outputId": "2e7ba48d-87d0-492a-927a-fe2eab76db8b"
   },
   "outputs": [
    {
     "data": {
      "text/plain": [
       "['logreg_5yr.pkl']"
      ]
     },
     "execution_count": 92,
     "metadata": {
      "tags": []
     },
     "output_type": "execute_result"
    }
   ],
   "source": [
    "estimators = [('pca', PCA()),\n",
    "              ('model', LogisticRegression())]\n",
    "\n",
    "pipe = Pipeline(estimators)\n",
    "\n",
    "param_grid = [{'pca': [PCA()],\n",
    "               'pca__n_components': [x for x in range(5,num_feat,5)],\n",
    "               'model': [LogisticRegression(solver='saga')], \n",
    "               'model__C': [10**i for i in range(-6,7)]}]\n",
    "\n",
    "grid = GridSearchCV(pipe, param_grid, n_jobs=-1, cv=5)\n",
    "fittedgrid5 = grid.fit(X5_train, y5_train)\n",
    "\n",
    "joblib.dump(fittedgrid5, 'logreg_5yr.pkl')"
   ]
  },
  {
   "cell_type": "code",
   "execution_count": 93,
   "metadata": {
    "colab": {
     "base_uri": "https://localhost:8080/",
     "height": 255
    },
    "colab_type": "code",
    "id": "mnS1pUFoHR4u",
    "outputId": "3a3550ea-c4d8-4283-86e0-b6793436161c"
   },
   "outputs": [
    {
     "data": {
      "text/plain": [
       "Pipeline(memory=None,\n",
       "         steps=[('pca',\n",
       "                 PCA(copy=True, iterated_power='auto', n_components=5,\n",
       "                     random_state=None, svd_solver='auto', tol=0.0,\n",
       "                     whiten=False)),\n",
       "                ('model',\n",
       "                 LogisticRegression(C=1e-06, class_weight=None, dual=False,\n",
       "                                    fit_intercept=True, intercept_scaling=1,\n",
       "                                    l1_ratio=None, max_iter=100,\n",
       "                                    multi_class='auto', n_jobs=None,\n",
       "                                    penalty='l2', random_state=None,\n",
       "                                    solver='saga', tol=0.0001, verbose=0,\n",
       "                                    warm_start=False))],\n",
       "         verbose=False)"
      ]
     },
     "execution_count": 93,
     "metadata": {
      "tags": []
     },
     "output_type": "execute_result"
    }
   ],
   "source": [
    "fittedgrid5.best_estimator_"
   ]
  },
  {
   "cell_type": "code",
   "execution_count": 94,
   "metadata": {
    "colab": {
     "base_uri": "https://localhost:8080/",
     "height": 34
    },
    "colab_type": "code",
    "id": "jYOkUxlzHR4w",
    "outputId": "d89aabbf-6424-453e-ad44-1f0f0e8c020b"
   },
   "outputs": [
    {
     "data": {
      "text/plain": [
       "0.8204260651629072"
      ]
     },
     "execution_count": 94,
     "metadata": {
      "tags": []
     },
     "output_type": "execute_result"
    }
   ],
   "source": [
    "fittedgrid5.best_score_"
   ]
  },
  {
   "cell_type": "code",
   "execution_count": 95,
   "metadata": {
    "colab": {
     "base_uri": "https://localhost:8080/",
     "height": 34
    },
    "colab_type": "code",
    "id": "9SyXRGCdHR4y",
    "outputId": "46ad9cab-023e-4156-970a-47ceaf3a2829"
   },
   "outputs": [
    {
     "data": {
      "text/plain": [
       "0.819672131147541"
      ]
     },
     "execution_count": 95,
     "metadata": {
      "tags": []
     },
     "output_type": "execute_result"
    }
   ],
   "source": [
    "fittedgrid5.score(X5_test, y5_test)"
   ]
  },
  {
   "cell_type": "markdown",
   "metadata": {
    "colab_type": "text",
    "id": "Mz9LO5s7HR41"
   },
   "source": [
    "High accuracy score due to imbalanced dataset. Try oversampling the data using different schemes."
   ]
  },
  {
   "cell_type": "code",
   "execution_count": 96,
   "metadata": {
    "colab": {
     "base_uri": "https://localhost:8080/",
     "height": 34
    },
    "colab_type": "code",
    "id": "wnKiyahVHR49",
    "outputId": "e8982f90-4394-4e2d-9c10-57f936b110d6"
   },
   "outputs": [
    {
     "data": {
      "text/plain": [
       "['logreg_svmsmote_5yr.pkl']"
      ]
     },
     "execution_count": 96,
     "metadata": {
      "tags": []
     },
     "output_type": "execute_result"
    }
   ],
   "source": [
    "estimators = [('oversample', SMOTE()),\n",
    "              ('pca', PCA()),\n",
    "              ('model', LogisticRegression())]\n",
    "\n",
    "pipe = imPipeline(estimators)\n",
    "\n",
    "param_grid = [{'oversample': [SMOTE(), ADASYN(), SVMSMOTE()],\n",
    "               'pca': [PCA()],\n",
    "               'pca__n_components': [x for x in range(5,num_feat,5)],\n",
    "               'model': [LogisticRegression(solver='saga')], \n",
    "               'model__C': [10**i for i in range(-6,7)],\n",
    "               'model__penalty': ['l1', 'l2']}]\n",
    "\n",
    "grid = GridSearchCV(pipe, param_grid, n_jobs=-1, cv=5)\n",
    "fittedgrid5 = grid.fit(X5_train, y5_train)\n",
    "\n",
    "joblib.dump(fittedgrid5, 'logreg_svmsmote_5yr.pkl')"
   ]
  },
  {
   "cell_type": "code",
   "execution_count": 97,
   "metadata": {
    "colab": {
     "base_uri": "https://localhost:8080/",
     "height": 34
    },
    "colab_type": "code",
    "id": "IpCEwbX5HR4_",
    "outputId": "4b2e5c89-a7e0-41e0-b361-c963b3ac2463"
   },
   "outputs": [
    {
     "data": {
      "text/plain": [
       "0.8204260651629072"
      ]
     },
     "execution_count": 97,
     "metadata": {
      "tags": []
     },
     "output_type": "execute_result"
    }
   ],
   "source": [
    "fittedgrid5.best_score_"
   ]
  },
  {
   "cell_type": "code",
   "execution_count": 98,
   "metadata": {
    "colab": {
     "base_uri": "https://localhost:8080/",
     "height": 340
    },
    "colab_type": "code",
    "id": "4UlGpV_1HR5A",
    "outputId": "af54e56e-95bc-4bbb-b8ea-27479d327bc1"
   },
   "outputs": [
    {
     "data": {
      "text/plain": [
       "Pipeline(memory=None,\n",
       "         steps=[('oversample',\n",
       "                 SMOTE(k_neighbors=5, kind='deprecated',\n",
       "                       m_neighbors='deprecated', n_jobs=1,\n",
       "                       out_step='deprecated', random_state=None, ratio=None,\n",
       "                       sampling_strategy='auto', svm_estimator='deprecated')),\n",
       "                ('pca',\n",
       "                 PCA(copy=True, iterated_power='auto', n_components=15,\n",
       "                     random_state=None, svd_solver='auto', tol=0.0,\n",
       "                     whiten=False)),\n",
       "                ('model',\n",
       "                 LogisticRegression(C=1e-06, class_weight=None, dual=False,\n",
       "                                    fit_intercept=True, intercept_scaling=1,\n",
       "                                    l1_ratio=None, max_iter=100,\n",
       "                                    multi_class='auto', n_jobs=None,\n",
       "                                    penalty='l1', random_state=None,\n",
       "                                    solver='saga', tol=0.0001, verbose=0,\n",
       "                                    warm_start=False))],\n",
       "         verbose=False)"
      ]
     },
     "execution_count": 98,
     "metadata": {
      "tags": []
     },
     "output_type": "execute_result"
    }
   ],
   "source": [
    "fittedgrid5.best_estimator_"
   ]
  },
  {
   "cell_type": "code",
   "execution_count": 99,
   "metadata": {
    "colab": {
     "base_uri": "https://localhost:8080/",
     "height": 34
    },
    "colab_type": "code",
    "id": "x2sjqbPFHR5C",
    "outputId": "35b1d5f8-f3ea-4fe5-e045-fe081dff0ffd"
   },
   "outputs": [
    {
     "data": {
      "text/plain": [
       "0.819672131147541"
      ]
     },
     "execution_count": 99,
     "metadata": {
      "tags": []
     },
     "output_type": "execute_result"
    }
   ],
   "source": [
    "fittedgrid5.score(X5_test, y5_test)"
   ]
  },
  {
   "cell_type": "code",
   "execution_count": 100,
   "metadata": {
    "colab": {
     "base_uri": "https://localhost:8080/",
     "height": 170
    },
    "colab_type": "code",
    "id": "UmvjLmh3HR5F",
    "outputId": "f4c2ad31-0ab2-4b69-ab58-a2f5bc5bb0a5"
   },
   "outputs": [
    {
     "name": "stdout",
     "output_type": "stream",
     "text": [
      "              precision    recall  f1-score   support\n",
      "\n",
      "           0       0.82      1.00      0.90       100\n",
      "           1       0.00      0.00      0.00        22\n",
      "\n",
      "    accuracy                           0.82       122\n",
      "   macro avg       0.41      0.50      0.45       122\n",
      "weighted avg       0.67      0.82      0.74       122\n",
      "\n"
     ]
    }
   ],
   "source": [
    "y5_pred = fittedgrid5.predict(X5_test)\n",
    "print(classification_report(y5_test, y5_pred))"
   ]
  },
  {
   "cell_type": "code",
   "execution_count": 101,
   "metadata": {
    "colab": {
     "base_uri": "https://localhost:8080/",
     "height": 34
    },
    "colab_type": "code",
    "id": "hoxIGRuZHR5P",
    "outputId": "f06bb625-3062-46dd-ab5d-d40948fda9f9"
   },
   "outputs": [
    {
     "name": "stdout",
     "output_type": "stream",
     "text": [
      "Kappa score: 0.00000\n"
     ]
    }
   ],
   "source": [
    "print('Kappa score: %.5f' % cohen_kappa_score(y5_test, y5_pred))"
   ]
  },
  {
   "cell_type": "markdown",
   "metadata": {
    "colab_type": "text",
    "id": "YXtIigsQbI4Y"
   },
   "source": [
    "I will use SVMSMOTE from this point on for the other models in my 5-year survival analysis."
   ]
  },
  {
   "cell_type": "markdown",
   "metadata": {
    "colab_type": "text",
    "id": "7PQsRoxJVOXA"
   },
   "source": [
    "#### Decision Tree"
   ]
  },
  {
   "cell_type": "code",
   "execution_count": 102,
   "metadata": {
    "colab": {
     "base_uri": "https://localhost:8080/",
     "height": 34
    },
    "colab_type": "code",
    "id": "-pNVyxVwWmnm",
    "outputId": "27569ea1-89e1-4a65-a7ca-6c5e4a813d4c"
   },
   "outputs": [
    {
     "data": {
      "text/plain": [
       "['dt_svmsmote_5yr.pkl']"
      ]
     },
     "execution_count": 102,
     "metadata": {
      "tags": []
     },
     "output_type": "execute_result"
    }
   ],
   "source": [
    "estimators = [('oversample', SVMSMOTE()),\n",
    "              ('pca', PCA()),\n",
    "              ('model', DecisionTreeClassifier())]\n",
    "\n",
    "pipe = imPipeline(estimators)\n",
    "\n",
    "param_grid = [{'oversample': [SVMSMOTE()],\n",
    "               'pca': [PCA()],\n",
    "               'pca__n_components': [x for x in range(5,num_feat,5)],\n",
    "               'model': [DecisionTreeClassifier()], \n",
    "               'model__max_depth': [i for i in range(1,11)],\n",
    "               'model__min_samples_leaf': [i for i in range(1,11)]}]\n",
    "\n",
    "grid = GridSearchCV(pipe, param_grid, n_jobs=-1, cv=5)\n",
    "fittedgrid5 = grid.fit(X5_train, y5_train)\n",
    "\n",
    "joblib.dump(fittedgrid5, 'dt_svmsmote_5yr.pkl')"
   ]
  },
  {
   "cell_type": "code",
   "execution_count": 103,
   "metadata": {
    "colab": {
     "base_uri": "https://localhost:8080/",
     "height": 374
    },
    "colab_type": "code",
    "id": "8_dHheNC3iKZ",
    "outputId": "195d96fc-bd40-445e-d7f8-ca33400a9510"
   },
   "outputs": [
    {
     "data": {
      "text/plain": [
       "Pipeline(memory=None,\n",
       "         steps=[('oversample',\n",
       "                 SVMSMOTE(k_neighbors=5, m_neighbors=10, n_jobs=1, out_step=0.5,\n",
       "                          random_state=None, sampling_strategy='auto',\n",
       "                          svm_estimator=None)),\n",
       "                ('pca',\n",
       "                 PCA(copy=True, iterated_power='auto', n_components=85,\n",
       "                     random_state=None, svd_solver='auto', tol=0.0,\n",
       "                     whiten=False)),\n",
       "                ('model',\n",
       "                 DecisionTreeClassifier(ccp_alpha=0.0, class_weight=None,\n",
       "                                        criterion='gini', max_depth=6,\n",
       "                                        max_features=None, max_leaf_nodes=None,\n",
       "                                        min_impurity_decrease=0.0,\n",
       "                                        min_impurity_split=None,\n",
       "                                        min_samples_leaf=10,\n",
       "                                        min_samples_split=2,\n",
       "                                        min_weight_fraction_leaf=0.0,\n",
       "                                        presort='deprecated', random_state=None,\n",
       "                                        splitter='best'))],\n",
       "         verbose=False)"
      ]
     },
     "execution_count": 103,
     "metadata": {
      "tags": []
     },
     "output_type": "execute_result"
    }
   ],
   "source": [
    "fittedgrid5.best_estimator_"
   ]
  },
  {
   "cell_type": "code",
   "execution_count": 104,
   "metadata": {
    "colab": {
     "base_uri": "https://localhost:8080/",
     "height": 34
    },
    "colab_type": "code",
    "id": "QAtsiHYV3T2r",
    "outputId": "feb2e765-5554-4174-83ab-91a57a01dc2c"
   },
   "outputs": [
    {
     "data": {
      "text/plain": [
       "0.7780701754385966"
      ]
     },
     "execution_count": 104,
     "metadata": {
      "tags": []
     },
     "output_type": "execute_result"
    }
   ],
   "source": [
    "fittedgrid5.best_score_"
   ]
  },
  {
   "cell_type": "code",
   "execution_count": 105,
   "metadata": {
    "colab": {
     "base_uri": "https://localhost:8080/",
     "height": 34
    },
    "colab_type": "code",
    "id": "g8a2W8TM3XPM",
    "outputId": "8447a06d-bed1-4cb1-a167-89fff727d87b"
   },
   "outputs": [
    {
     "data": {
      "text/plain": [
       "0.8626760563380281"
      ]
     },
     "execution_count": 105,
     "metadata": {
      "tags": []
     },
     "output_type": "execute_result"
    }
   ],
   "source": [
    "fittedgrid5.score(X5_train, y5_train)"
   ]
  },
  {
   "cell_type": "code",
   "execution_count": 106,
   "metadata": {
    "colab": {
     "base_uri": "https://localhost:8080/",
     "height": 34
    },
    "colab_type": "code",
    "id": "lgomlNn93ajq",
    "outputId": "a8e85de2-14c7-4402-9b12-a0717f0d6f89"
   },
   "outputs": [
    {
     "data": {
      "text/plain": [
       "0.6639344262295082"
      ]
     },
     "execution_count": 106,
     "metadata": {
      "tags": []
     },
     "output_type": "execute_result"
    }
   ],
   "source": [
    "fittedgrid5.score(X5_test, y5_test)"
   ]
  },
  {
   "cell_type": "markdown",
   "metadata": {
    "colab_type": "text",
    "id": "_M0Ni_39VRz8"
   },
   "source": [
    "#### Random Forest"
   ]
  },
  {
   "cell_type": "code",
   "execution_count": null,
   "metadata": {
    "colab": {},
    "colab_type": "code",
    "id": "G48f2JgIW_bc"
   },
   "outputs": [],
   "source": [
    "estimators = [('oversample', SVMSMOTE()),\n",
    "              ('pca', PCA()),\n",
    "              ('model', RandomForestClassifier())]\n",
    "\n",
    "pipe = imPipeline(estimators)\n",
    "\n",
    "param_grid = [{'oversample': [SVMSMOTE()],\n",
    "               'pca': [PCA()],\n",
    "               'pca__n_components': [x for x in range(5,num_feat,5)],\n",
    "               'model': [RandomForestClassifier()], \n",
    "               'model__max_depth': [i for i in range(1,11)],\n",
    "               'model__min_samples_leaf': [i for i in range(1,11)]}]\n",
    "\n",
    "grid = GridSearchCV(pipe, param_grid, n_jobs=-1, cv=5)\n",
    "fittedgrid5 = grid.fit(X5_train, y5_train)\n",
    "\n",
    "joblib.dump(fittedgrid5, 'rf_svmsmote_5yr.pkl')"
   ]
  },
  {
   "cell_type": "code",
   "execution_count": null,
   "metadata": {
    "colab": {},
    "colab_type": "code",
    "id": "42fwK_1d3dQl"
   },
   "outputs": [],
   "source": [
    "fittedgrid5.best_estimator_"
   ]
  },
  {
   "cell_type": "code",
   "execution_count": null,
   "metadata": {
    "colab": {},
    "colab_type": "code",
    "id": "im3OE5543gGE"
   },
   "outputs": [],
   "source": [
    "fittedgrid5.best_score_"
   ]
  },
  {
   "cell_type": "code",
   "execution_count": null,
   "metadata": {
    "colab": {},
    "colab_type": "code",
    "id": "3G4wfFQv3kuf"
   },
   "outputs": [],
   "source": [
    "fittedgrid5.score(X5_train, y5_train)"
   ]
  },
  {
   "cell_type": "code",
   "execution_count": null,
   "metadata": {
    "colab": {},
    "colab_type": "code",
    "id": "3poLKU783oFk"
   },
   "outputs": [],
   "source": [
    "fittedgrid5.score(X5_test, y5_test)"
   ]
  },
  {
   "cell_type": "markdown",
   "metadata": {
    "colab_type": "text",
    "id": "kw8236vZVUE7"
   },
   "source": [
    "#### XGBoost decision tree"
   ]
  },
  {
   "cell_type": "code",
   "execution_count": null,
   "metadata": {
    "colab": {},
    "colab_type": "code",
    "id": "148F5OMeYqtq"
   },
   "outputs": [],
   "source": [
    "estimators = [('oversample', SVMSMOTE()),\n",
    "              ('pca', PCA()),\n",
    "              ('model', XGBClassifier())]\n",
    "\n",
    "pipe = imPipeline(estimators)\n",
    "\n",
    "param_grid = [{'oversample': [SVMSMOTE()],\n",
    "               'pca': [PCA()],\n",
    "               'pca__n_components': [x for x in range(5,num_feat,5)],\n",
    "               'model': [XGBClassifier()], \n",
    "               'model__max_depth': [i for i in range(1,11)],\n",
    "               'model__min_samples_leaf': [i for i in range(1,11)]}]\n",
    "\n",
    "grid = GridSearchCV(pipe, param_grid, n_jobs=-1, cv=5)\n",
    "fittedgrid5 = grid.fit(X5_train, y5_train)\n",
    "\n",
    "joblib.dump(fittedgrid5, 'xgb_svmsmote_5yr.pkl')"
   ]
  },
  {
   "cell_type": "code",
   "execution_count": null,
   "metadata": {
    "colab": {},
    "colab_type": "code",
    "id": "J-j04ABk38Of"
   },
   "outputs": [],
   "source": [
    "fittedgrid5.best_estimator_"
   ]
  },
  {
   "cell_type": "code",
   "execution_count": null,
   "metadata": {
    "colab": {},
    "colab_type": "code",
    "id": "4HcS2eWR377G"
   },
   "outputs": [],
   "source": [
    "fittedgrid5.best_score_"
   ]
  },
  {
   "cell_type": "code",
   "execution_count": null,
   "metadata": {
    "colab": {},
    "colab_type": "code",
    "id": "dhIUp7Kt37tL"
   },
   "outputs": [],
   "source": [
    "fittedgrid5.score(X5_train, y5_train)"
   ]
  },
  {
   "cell_type": "code",
   "execution_count": null,
   "metadata": {
    "colab": {},
    "colab_type": "code",
    "id": "8zUfrlSy37a7"
   },
   "outputs": [],
   "source": [
    "fittedgrid5.score(X5_test, y5_test)"
   ]
  },
  {
   "cell_type": "markdown",
   "metadata": {
    "colab_type": "text",
    "id": "m8x2QNCAVXOb"
   },
   "source": [
    "#### Support Vector Machine"
   ]
  },
  {
   "cell_type": "code",
   "execution_count": null,
   "metadata": {
    "colab": {},
    "colab_type": "code",
    "id": "CkVfge4fYrdB"
   },
   "outputs": [],
   "source": [
    "estimators = [('oversample', SVMSMOTE()),\n",
    "              ('pca', PCA()),\n",
    "              ('model', SVC())]\n",
    "\n",
    "pipe = imPipeline(estimators)\n",
    "\n",
    "param_grid = [{'oversample': [SVMSMOTE()],\n",
    "               'pca': [PCA()],\n",
    "               'pca__n_components': [x for x in range(5,num_feat,5)],\n",
    "               'model': [SVC(decision_function_shape='ovo', max_iter=999)], \n",
    "               'model__C': [10**i for i in range(-6,7)],\n",
    "               'model__kernel': ['linear', 'poly', 'rbf', 'sigmoid']}]\n",
    "\n",
    "grid = GridSearchCV(pipe, param_grid, n_jobs=-1, cv=5)\n",
    "fittedgrid5 = grid.fit(X5_train, y5_train)\n",
    "\n",
    "joblib.dump(fittedgrid5, 'svm_svmsmote_5yr.pkl')"
   ]
  },
  {
   "cell_type": "code",
   "execution_count": null,
   "metadata": {
    "colab": {},
    "colab_type": "code",
    "id": "g5OtKqqcJpbb"
   },
   "outputs": [],
   "source": [
    "fittedgrid5.best_estimator_"
   ]
  },
  {
   "cell_type": "code",
   "execution_count": null,
   "metadata": {
    "colab": {},
    "colab_type": "code",
    "id": "9zYyu0SVJpQi"
   },
   "outputs": [],
   "source": [
    "fittedgrid5.best_score_"
   ]
  },
  {
   "cell_type": "code",
   "execution_count": null,
   "metadata": {
    "colab": {},
    "colab_type": "code",
    "id": "-5dpsr4KJpGn"
   },
   "outputs": [],
   "source": [
    "fittedgrid5.score(X5_train, y5_train)"
   ]
  },
  {
   "cell_type": "code",
   "execution_count": null,
   "metadata": {
    "colab": {},
    "colab_type": "code",
    "id": "b9ikB4jBJorc"
   },
   "outputs": [],
   "source": [
    "fittedgrid5.score(X5_test, y5_test)"
   ]
  },
  {
   "cell_type": "markdown",
   "metadata": {
    "colab_type": "text",
    "id": "qMGT1kSkVb-Y"
   },
   "source": [
    "#### Neural network"
   ]
  },
  {
   "cell_type": "code",
   "execution_count": null,
   "metadata": {
    "colab": {},
    "colab_type": "code",
    "id": "f6h1KXduO1Vu"
   },
   "outputs": [],
   "source": [
    "input_size = num_feat\n",
    "output_size = 2"
   ]
  },
  {
   "cell_type": "code",
   "execution_count": null,
   "metadata": {
    "colab": {},
    "colab_type": "code",
    "id": "otn-m-oxO1V1"
   },
   "outputs": [],
   "source": [
    "# Make the placeholder variables:\n",
    "input_X = tf.placeholder(tf.float32, shape=(None, input_size))\n",
    "input_y = tf.placeholder(tf.float32, shape=(None, output_size))"
   ]
  },
  {
   "cell_type": "code",
   "execution_count": null,
   "metadata": {
    "colab": {},
    "colab_type": "code",
    "id": "G9yTnnP-O1V5"
   },
   "outputs": [],
   "source": [
    "# Size of the hidden dimension\n",
    "num_hidden_1 = 400\n",
    "num_hidden_2 = 400\n",
    "\n",
    "# Hidden Unit activations 1\n",
    "W1 = tf.Variable(tf.random_normal([input_size, num_hidden_1]))\n",
    "b1 = tf.Variable(tf.random_normal([num_hidden_1])) #bias\n",
    "hidden_output_1 = tf.nn.elu(tf.add(tf.matmul(input_X,W1), b1)) # Relu for hidden layer\n",
    "\n",
    "# Hidden Unit activations 2\n",
    "W2 = tf.Variable(tf.random_normal([num_hidden_1, num_hidden_2]))\n",
    "b2 = tf.Variable(tf.random_normal([num_hidden_2])) #bias\n",
    "hidden_output_2 = tf.nn.elu(tf.add(tf.matmul(hidden_output_1,W2), b2)) # Relu for hidden layer\n",
    "\n",
    "# Output Unit activations\n",
    "W3 = tf.Variable(tf.random_normal([num_hidden_2, output_size]))\n",
    "b3 = tf.Variable(tf.random_normal([output_size]))\n",
    "net_output = tf.nn.softmax(tf.add( tf.matmul(hidden_output_2, W3), b3)) # Softmax for output layer"
   ]
  },
  {
   "cell_type": "code",
   "execution_count": null,
   "metadata": {
    "colab": {},
    "colab_type": "code",
    "id": "jfkxABu9O1V7"
   },
   "outputs": [],
   "source": [
    "encoder = LabelBinarizer()\n",
    "\n",
    "one_hot_encoder = encoder.fit(list(y5_train))\n",
    "y5_np_train = one_hot_encoder.transform(y5_train)\n",
    "y5_np_test = one_hot_encoder.transform(y5_test)\n",
    "y5_np_train = np.hstack((y5_np_train, 1 - y5_np_train))\n",
    "y5_np_test = np.hstack((y5_np_test, 1 - y5_np_test))"
   ]
  },
  {
   "cell_type": "code",
   "execution_count": null,
   "metadata": {
    "colab": {
     "base_uri": "https://localhost:8080/",
     "height": 34
    },
    "colab_type": "code",
    "id": "aOKSiZepO1V-",
    "outputId": "6d720e4b-e4f9-4c18-ec23-06499c05198e"
   },
   "outputs": [
    {
     "data": {
      "text/plain": [
       "(292, 2)"
      ]
     },
     "execution_count": 68,
     "metadata": {
      "tags": []
     },
     "output_type": "execute_result"
    }
   ],
   "source": [
    "y5_np_train.shape"
   ]
  },
  {
   "cell_type": "code",
   "execution_count": null,
   "metadata": {
    "colab": {
     "base_uri": "https://localhost:8080/",
     "height": 88
    },
    "colab_type": "code",
    "id": "fOewQfLSO1WB",
    "outputId": "597305f1-b87f-41c6-de07-0ac6c040697c"
   },
   "outputs": [
    {
     "name": "stdout",
     "output_type": "stream",
     "text": [
      "WARNING:tensorflow:From /usr/local/lib/python3.6/dist-packages/tensorflow_core/python/ops/losses/losses_impl.py:121: where (from tensorflow.python.ops.array_ops) is deprecated and will be removed in a future version.\n",
      "Instructions for updating:\n",
      "Use tf.where in 2.0, which has the same broadcast rule as np.where\n"
     ]
    }
   ],
   "source": [
    "# Use cross entropy loss (we're doing classification)\n",
    "# This is where we link our network to the objective function.\n",
    "loss = tf.losses.softmax_cross_entropy(input_y, net_output)\n",
    "\n",
    "# Get accuracy measure\n",
    "# acc will store the accuracy score of the true labels and our net output\n",
    "acc, acc_op = tf.metrics.accuracy(labels=tf.argmax(input_y, 1), predictions=tf.argmax(net_output, 1))\n",
    "\n",
    "# Use gradient descent with a learning rate of 0.1\n",
    "optimizer = tf.train.GradientDescentOptimizer(0.1)\n",
    "\n",
    "# Objective is minimize the loss\n",
    "train = optimizer.minimize(loss)"
   ]
  },
  {
   "cell_type": "code",
   "execution_count": null,
   "metadata": {
    "colab": {},
    "colab_type": "code",
    "id": "ao_nuev7O1WE"
   },
   "outputs": [],
   "source": [
    "# Open a TensorFlow session\n",
    "sess = tf.Session()\n",
    "init = tf.group(tf.global_variables_initializer(), tf.local_variables_initializer())\n",
    "sess.run(init)"
   ]
  },
  {
   "cell_type": "code",
   "execution_count": null,
   "metadata": {
    "colab": {},
    "colab_type": "code",
    "id": "LGQet-91O1WG"
   },
   "outputs": [],
   "source": [
    "epochs = 20000\n",
    "\n",
    "# Each epoch is one pass through the data\n",
    "for epoch in range(epochs):\n",
    "    \n",
    "    # Update the network.\n",
    "    # feed_dict passes in the input for training\n",
    "    # train linkes the session to the network\n",
    "    sess.run(train, feed_dict={input_X: X5_train, input_y: y5_np_train})\n",
    "    \n",
    "    if epoch % 1000 == 0 :\n",
    "        # Get the training loss\n",
    "        training_loss = sess.run(loss, feed_dict={input_X: X5_train, input_y: y5_np_train})\n",
    "        \n",
    "        score = sess.run([acc, acc_op], feed_dict={input_X: X5_train, input_y: y5_np_train})\n",
    "        print(f'Epoch: {epoch}, Loss: {training_loss:.3f}, Accuracy: {score[1]:.3f}')\n",
    "\n",
    "# run session to calculate the accuracy score on test set\n",
    "test_acc,_ = sess.run([acc, acc_op], feed_dict={input_X: X5_test, input_y: y5_np_test})\n",
    "print(test_acc)"
   ]
  },
  {
   "cell_type": "markdown",
   "metadata": {
    "colab_type": "text",
    "id": "BUQywc8Smg5h"
   },
   "source": [
    "### Clustering: K-means and OPTICS"
   ]
  },
  {
   "cell_type": "code",
   "execution_count": null,
   "metadata": {
    "colab": {},
    "colab_type": "code",
    "id": "XZONEYL5mkkx"
   },
   "outputs": [],
   "source": [
    "X = df_tf[df_tf.columns[feat_mask]]\n",
    "\n",
    "my_scaler_cl = StandardScaler()\n",
    "X_scaled = my_scaler_cl.fit_transform(X)"
   ]
  },
  {
   "cell_type": "markdown",
   "metadata": {
    "colab_type": "text",
    "id": "uxG0pr8oVMn-"
   },
   "source": [
    "Workflow\n",
    "- Cluster the data (k-means)\n",
    "- Plot KM curves\n",
    "- Histological/ staging differences?"
   ]
  },
  {
   "cell_type": "markdown",
   "metadata": {
    "colab_type": "text",
    "id": "eRWJDz4F0E1s"
   },
   "source": [
    "#### K-means"
   ]
  },
  {
   "cell_type": "code",
   "execution_count": null,
   "metadata": {
    "colab": {},
    "colab_type": "code",
    "id": "M28DHnFzVa7W"
   },
   "outputs": [],
   "source": [
    "nsclc_inertias = []\n",
    "\n",
    "for i in range(2,8):\n",
    "  my_kmeans = KMeans(n_clusters=i)\n",
    "  my_kmeans.fit(X_scaled)\n",
    "\n",
    "  nsclc_inertias.append(my_kmeans.inertia_)"
   ]
  },
  {
   "cell_type": "code",
   "execution_count": 55,
   "metadata": {
    "colab": {
     "base_uri": "https://localhost:8080/",
     "height": 265
    },
    "colab_type": "code",
    "id": "6O5EODQbW0Q1",
    "outputId": "901b1ed4-2595-4bc3-c646-c7b7e6a8e9f8"
   },
   "outputs": [
    {
     "data": {
      "image/png": "[encoded data removed]",
      "text/plain": [
       "<Figure size 432x288 with 1 Axes>"
      ]
     },
     "metadata": {
      "tags": []
     },
     "output_type": "display_data"
    }
   ],
   "source": [
    "plt.figure()\n",
    "plt.plot(np.arange(2,8), nsclc_inertias)\n",
    "plt.grid()\n",
    "plt.show()"
   ]
  },
  {
   "cell_type": "code",
   "execution_count": null,
   "metadata": {
    "colab": {},
    "colab_type": "code",
    "id": "SUBfLTn7XVsr"
   },
   "outputs": [],
   "source": [
    "n_cl_opt = 3\n",
    "\n",
    "my_kmeans = KMeans(n_clusters=n_cl_opt)\n",
    "my_kmeans.fit(X_scaled)\n",
    "joblib.dump(my_kmeans, 'kmeans_4.pkl')\n",
    "\n",
    "X_long = X.copy()\n",
    "X_long['Cluster'] = my_kmeans.predict(X_scaled)\n",
    "\n",
    "X_long['age'] = df_tf['age']\n",
    "X_long['Clinical.T.Stage'] = df_tf['clinical.T.Stage']\n",
    "X_long['Clinical.N.Stage'] = df_tf['Clinical.N.Stage']\n",
    "X_long['Clinical.M.Stage'] = df_tf['Clinical.M.Stage']\n",
    "X_long['Histology'] = df_tf['Histology']\n",
    "X_long['Survival.time'] = df_tf['Survival.time']\n",
    "X_long['Deadstatus.event'] = df_tf['deadstatus.event']"
   ]
  },
  {
   "cell_type": "markdown",
   "metadata": {
    "colab_type": "text",
    "id": "7-eroIDCgcmc"
   },
   "source": [
    "Make some Kaplan-Meier plots"
   ]
  },
  {
   "cell_type": "code",
   "execution_count": 59,
   "metadata": {
    "colab": {
     "base_uri": "https://localhost:8080/",
     "height": 442
    },
    "colab_type": "code",
    "id": "P_KmDWYkgcEt",
    "outputId": "cf1d3e05-242f-4533-c8b3-77e295c42ad8"
   },
   "outputs": [
    {
     "data": {
      "image/png": "[encoded data removed]",
      "text/plain": [
       "<Figure size 720x504 with 1 Axes>"
      ]
     },
     "metadata": {
      "tags": []
     },
     "output_type": "display_data"
    }
   ],
   "source": [
    "kmf = KaplanMeierFitter()\n",
    "\n",
    "plt.figure(figsize=(10,7))\n",
    "\n",
    "for i in range(n_cl_opt):\n",
    "  kmf.fit(X_long[X_long['Cluster']==i]['Survival.time'], \n",
    "          X_long[X_long['Cluster']==i]['Deadstatus.event'], \n",
    "          label='Cluster '+str(i))\n",
    "\n",
    "  if (i==0):\n",
    "    ax1 = kmf.plot()\n",
    "  else:\n",
    "    kmf.plot(ax=ax1)"
   ]
  },
  {
   "cell_type": "markdown",
   "metadata": {
    "colab_type": "text",
    "id": "mL1e_N79ThOI"
   },
   "source": [
    "Two of the clusters seem to differ in the survival rate at the 1-year mark. We can dig a bit deeper here.\n",
    "\n",
    "How many points for each cluster?"
   ]
  },
  {
   "cell_type": "code",
   "execution_count": 60,
   "metadata": {
    "colab": {
     "base_uri": "https://localhost:8080/",
     "height": 85
    },
    "colab_type": "code",
    "id": "BTHFJORLTo4J",
    "outputId": "ada7f528-9461-4987-e63a-4841d69e2fcb"
   },
   "outputs": [
    {
     "data": {
      "text/plain": [
       "1    195\n",
       "0    151\n",
       "2     74\n",
       "Name: Cluster, dtype: int64"
      ]
     },
     "execution_count": 60,
     "metadata": {
      "tags": []
     },
     "output_type": "execute_result"
    }
   ],
   "source": [
    "X_long['Cluster'].value_counts()"
   ]
  },
  {
   "cell_type": "code",
   "execution_count": 62,
   "metadata": {
    "colab": {
     "base_uri": "https://localhost:8080/",
     "height": 204
    },
    "colab_type": "code",
    "id": "bOIdc_fEy7iF",
    "outputId": "4ffcf1c0-de90-431b-fa13-6e0fc8cccc8f"
   },
   "outputs": [
    {
     "data": {
      "text/html": [
       "<div>\n",
       "<style scoped>\n",
       "    .dataframe tbody tr th:only-of-type {\n",
       "        vertical-align: middle;\n",
       "    }\n",
       "\n",
       "    .dataframe tbody tr th {\n",
       "        vertical-align: top;\n",
       "    }\n",
       "\n",
       "    .dataframe thead th {\n",
       "        text-align: right;\n",
       "    }\n",
       "</style>\n",
       "<table border=\"1\" class=\"dataframe\">\n",
       "  <tbody>\n",
       "    <tr>\n",
       "      <th>null_distribution</th>\n",
       "      <td>chi squared</td>\n",
       "    </tr>\n",
       "    <tr>\n",
       "      <th>degrees_of_freedom</th>\n",
       "      <td>1</td>\n",
       "    </tr>\n",
       "    <tr>\n",
       "      <th>point_in_time</th>\n",
       "      <td>365</td>\n",
       "    </tr>\n",
       "    <tr>\n",
       "      <th>test_name</th>\n",
       "      <td>survival_difference_at_fixed_point_in_time_test</td>\n",
       "    </tr>\n",
       "  </tbody>\n",
       "</table>\n",
       "</div><table border=\"1\" class=\"dataframe\">\n",
       "  <thead>\n",
       "    <tr style=\"text-align: right;\">\n",
       "      <th></th>\n",
       "      <th>test_statistic</th>\n",
       "      <th>p</th>\n",
       "    </tr>\n",
       "  </thead>\n",
       "  <tbody>\n",
       "    <tr>\n",
       "      <th>0</th>\n",
       "      <td>12.27</td>\n",
       "      <td>&lt;0.005</td>\n",
       "    </tr>\n",
       "  </tbody>\n",
       "</table>"
      ],
      "text/plain": [
       "<IPython.core.display.HTML object>"
      ]
     },
     "metadata": {
      "tags": []
     },
     "output_type": "display_data"
    }
   ],
   "source": [
    "T1 = X_long[X_long['Cluster']==0]['Survival.time']\n",
    "T2 = X_long[X_long['Cluster']==2]['Survival.time']\n",
    "\n",
    "E1 = X_long[X_long['Cluster']==0]['Deadstatus.event']\n",
    "E2 = X_long[X_long['Cluster']==2]['Deadstatus.event']\n",
    "\n",
    "results_1yr = survival_difference_at_fixed_point_in_time_test(365, T1, T2, event_observed_A=E1, event_observed_B=E2)\n",
    "results_1yr.print_summary()"
   ]
  },
  {
   "cell_type": "markdown",
   "metadata": {
    "colab_type": "text",
    "id": "yTlKE4m12xMN"
   },
   "source": [
    "So there is a statistically significant difference in the survival rates between Cluster 0 and Cluster 2 at 1 year."
   ]
  },
  {
   "cell_type": "code",
   "execution_count": 63,
   "metadata": {
    "colab": {
     "base_uri": "https://localhost:8080/",
     "height": 204
    },
    "colab_type": "code",
    "id": "C_PwGfFP2KTZ",
    "outputId": "fd263f4f-4e89-4a4a-b68d-a634a4285916"
   },
   "outputs": [
    {
     "data": {
      "text/html": [
       "<div>\n",
       "<style scoped>\n",
       "    .dataframe tbody tr th:only-of-type {\n",
       "        vertical-align: middle;\n",
       "    }\n",
       "\n",
       "    .dataframe tbody tr th {\n",
       "        vertical-align: top;\n",
       "    }\n",
       "\n",
       "    .dataframe thead th {\n",
       "        text-align: right;\n",
       "    }\n",
       "</style>\n",
       "<table border=\"1\" class=\"dataframe\">\n",
       "  <tbody>\n",
       "    <tr>\n",
       "      <th>null_distribution</th>\n",
       "      <td>chi squared</td>\n",
       "    </tr>\n",
       "    <tr>\n",
       "      <th>degrees_of_freedom</th>\n",
       "      <td>1</td>\n",
       "    </tr>\n",
       "    <tr>\n",
       "      <th>point_in_time</th>\n",
       "      <td>1095</td>\n",
       "    </tr>\n",
       "    <tr>\n",
       "      <th>test_name</th>\n",
       "      <td>survival_difference_at_fixed_point_in_time_test</td>\n",
       "    </tr>\n",
       "  </tbody>\n",
       "</table>\n",
       "</div><table border=\"1\" class=\"dataframe\">\n",
       "  <thead>\n",
       "    <tr style=\"text-align: right;\">\n",
       "      <th></th>\n",
       "      <th>test_statistic</th>\n",
       "      <th>p</th>\n",
       "    </tr>\n",
       "  </thead>\n",
       "  <tbody>\n",
       "    <tr>\n",
       "      <th>0</th>\n",
       "      <td>7.78</td>\n",
       "      <td>0.01</td>\n",
       "    </tr>\n",
       "  </tbody>\n",
       "</table>"
      ],
      "text/plain": [
       "<IPython.core.display.HTML object>"
      ]
     },
     "metadata": {
      "tags": []
     },
     "output_type": "display_data"
    }
   ],
   "source": [
    "results_3yr = survival_difference_at_fixed_point_in_time_test(3*365, T1, T2, event_observed_A=E1, event_observed_B=E2)\n",
    "results_3yr.print_summary()"
   ]
  },
  {
   "cell_type": "markdown",
   "metadata": {
    "colab_type": "text",
    "id": "PLed96v028hY"
   },
   "source": [
    "A statistically significant difference persists in the survival rates between the same two clusters at 3 years; however, the p-value is bigger."
   ]
  },
  {
   "cell_type": "code",
   "execution_count": 65,
   "metadata": {
    "colab": {
     "base_uri": "https://localhost:8080/",
     "height": 204
    },
    "colab_type": "code",
    "id": "qzanGoK-2Q2G",
    "outputId": "86596f88-6287-47b9-a7a9-bc5a1ab35c74"
   },
   "outputs": [
    {
     "data": {
      "text/html": [
       "<div>\n",
       "<style scoped>\n",
       "    .dataframe tbody tr th:only-of-type {\n",
       "        vertical-align: middle;\n",
       "    }\n",
       "\n",
       "    .dataframe tbody tr th {\n",
       "        vertical-align: top;\n",
       "    }\n",
       "\n",
       "    .dataframe thead th {\n",
       "        text-align: right;\n",
       "    }\n",
       "</style>\n",
       "<table border=\"1\" class=\"dataframe\">\n",
       "  <tbody>\n",
       "    <tr>\n",
       "      <th>null_distribution</th>\n",
       "      <td>chi squared</td>\n",
       "    </tr>\n",
       "    <tr>\n",
       "      <th>degrees_of_freedom</th>\n",
       "      <td>1</td>\n",
       "    </tr>\n",
       "    <tr>\n",
       "      <th>point_in_time</th>\n",
       "      <td>1825</td>\n",
       "    </tr>\n",
       "    <tr>\n",
       "      <th>test_name</th>\n",
       "      <td>survival_difference_at_fixed_point_in_time_test</td>\n",
       "    </tr>\n",
       "  </tbody>\n",
       "</table>\n",
       "</div><table border=\"1\" class=\"dataframe\">\n",
       "  <thead>\n",
       "    <tr style=\"text-align: right;\">\n",
       "      <th></th>\n",
       "      <th>test_statistic</th>\n",
       "      <th>p</th>\n",
       "    </tr>\n",
       "  </thead>\n",
       "  <tbody>\n",
       "    <tr>\n",
       "      <th>0</th>\n",
       "      <td>0.41</td>\n",
       "      <td>0.52</td>\n",
       "    </tr>\n",
       "  </tbody>\n",
       "</table>"
      ],
      "text/plain": [
       "<IPython.core.display.HTML object>"
      ]
     },
     "metadata": {
      "tags": []
     },
     "output_type": "display_data"
    }
   ],
   "source": [
    "results_5yr = survival_difference_at_fixed_point_in_time_test(5*365, T1, T2, event_observed_A=E1, event_observed_B=E2)\n",
    "results_5yr.print_summary()"
   ]
  },
  {
   "cell_type": "markdown",
   "metadata": {
    "colab_type": "text",
    "id": "c8GG8err3c1q"
   },
   "source": [
    "No statistically significant difference in the survival rates between the same two clusters at the 5-year mark."
   ]
  },
  {
   "cell_type": "markdown",
   "metadata": {
    "colab_type": "text",
    "id": "7w7pjrUR4IJd"
   },
   "source": [
    "What are the characteristics between the two clusters?"
   ]
  },
  {
   "cell_type": "code",
   "execution_count": null,
   "metadata": {
    "colab": {},
    "colab_type": "code",
    "id": "1S986ehm3uFE"
   },
   "outputs": [],
   "source": [
    "data_0 = X_scaled[X_long['Cluster']==0]\n",
    "data_2 = X_scaled[X_long['Cluster']==2]\n",
    "\n",
    "ttest_results = stats.ttest_ind(data_0, data_2, usevar='unequal')"
   ]
  },
  {
   "cell_type": "markdown",
   "metadata": {
    "colab_type": "text",
    "id": "kvPeZFf8C7tS"
   },
   "source": [
    "#### OPTICS"
   ]
  },
  {
   "cell_type": "code",
   "execution_count": 70,
   "metadata": {
    "colab": {
     "base_uri": "https://localhost:8080/",
     "height": 34
    },
    "colab_type": "code",
    "id": "vi9ZrEJf53Lh",
    "outputId": "c7cb2031-25fa-42de-d995-369d107b322e"
   },
   "outputs": [
    {
     "data": {
      "text/plain": [
       "['optics.pkl']"
      ]
     },
     "execution_count": 70,
     "metadata": {
      "tags": []
     },
     "output_type": "execute_result"
    }
   ],
   "source": [
    "my_optics = OPTICS(min_samples=10, n_jobs=-1)\n",
    "my_optics.fit(X_scaled)\n",
    "joblib.dump(my_optics, 'optics.pkl')"
   ]
  },
  {
   "cell_type": "code",
   "execution_count": null,
   "metadata": {
    "colab": {},
    "colab_type": "code",
    "id": "sih2E8iT6ZJO"
   },
   "outputs": [],
   "source": [
    "X_long['OPTICS'] = my_optics.labels_"
   ]
  },
  {
   "cell_type": "code",
   "execution_count": 72,
   "metadata": {
    "colab": {
     "base_uri": "https://localhost:8080/",
     "height": 68
    },
    "colab_type": "code",
    "id": "bEnZjNZo6svo",
    "outputId": "14bb5e2e-5fd4-4e63-c467-23fdd71c4809"
   },
   "outputs": [
    {
     "data": {
      "text/plain": [
       "-1    408\n",
       " 0     12\n",
       "Name: OPTICS, dtype: int64"
      ]
     },
     "execution_count": 72,
     "metadata": {
      "tags": []
     },
     "output_type": "execute_result"
    }
   ],
   "source": [
    "X_long['OPTICS'].value_counts()"
   ]
  },
  {
   "cell_type": "markdown",
   "metadata": {
    "colab_type": "text",
    "id": "0OuhLwiw7R2L"
   },
   "source": [
    "OPTICS does not work as well"
   ]
  },
  {
   "cell_type": "markdown",
   "metadata": {
    "colab_type": "text",
    "id": "Czyr6_vjHR5X"
   },
   "source": [
    "---"
   ]
  },
  {
   "cell_type": "markdown",
   "metadata": {
    "colab_type": "text",
    "id": "ld_C3mhvHR5Y"
   },
   "source": [
    "## Miscellaneous and superceded codes:"
   ]
  },
  {
   "cell_type": "code",
   "execution_count": null,
   "metadata": {
    "colab": {},
    "colab_type": "code",
    "id": "tNtpti4jHR5c"
   },
   "outputs": [],
   "source": [
    "my_pca = PCA(n_components=40)\n",
    "my_pca.fit(X1_train)\n",
    "X1_pca_train = my_pca.transform(X1_train)\n",
    "X1_pca_test = my_pca.transform(X1_test)"
   ]
  },
  {
   "cell_type": "code",
   "execution_count": null,
   "metadata": {
    "colab": {},
    "colab_type": "code",
    "id": "1tZhTFgaHR5e",
    "outputId": "5b180e72-6f1e-4dc0-f02a-097ce6bf970a"
   },
   "outputs": [
    {
     "data": {
      "image/png": "[encoded data removed]",
      "text/plain": [
       "<Figure size 432x288 with 1 Axes>"
      ]
     },
     "metadata": {
      "needs_background": "light",
      "tags": []
     },
     "output_type": "display_data"
    }
   ],
   "source": [
    "plt.figure()\n",
    "plt.plot(range(len(my_pca.explained_variance_ratio_)), my_pca.explained_variance_ratio_, 'b.-')\n",
    "plt.xlabel('Principal Components (1-yr survival)')\n",
    "plt.ylabel('Explained Variance')\n",
    "plt.yscale('log')\n",
    "plt.show()"
   ]
  },
  {
   "cell_type": "markdown",
   "metadata": {
    "colab_type": "text",
    "id": "hM-U4VTxHR5f"
   },
   "source": [
    "Just keep the first 30:"
   ]
  },
  {
   "cell_type": "code",
   "execution_count": null,
   "metadata": {
    "colab": {},
    "colab_type": "code",
    "id": "4_U5EkdmHR5g"
   },
   "outputs": [],
   "source": [
    "X1_reshape_train = X1_pca_train[:,:30]\n",
    "X1_reshape_test = X1_pca_test[:,:30]"
   ]
  },
  {
   "cell_type": "code",
   "execution_count": null,
   "metadata": {
    "colab": {},
    "colab_type": "code",
    "id": "Z35Q0CoNHR5h"
   },
   "outputs": [],
   "source": [
    "# Try to do it without PCA\n",
    "X1_reshape_train = X1_train\n",
    "X1_reshape_test = X1_test"
   ]
  },
  {
   "cell_type": "code",
   "execution_count": null,
   "metadata": {
    "colab": {},
    "colab_type": "code",
    "id": "VL9FvZZHHR5i",
    "outputId": "1fe6c4f0-75d2-4346-95a5-21ebc2d221d4"
   },
   "outputs": [
    {
     "data": {
      "text/plain": [
       "0.7226027397260274"
      ]
     },
     "execution_count": 20,
     "metadata": {
      "tags": []
     },
     "output_type": "execute_result"
    }
   ],
   "source": [
    "my_logit = LogisticRegression()\n",
    "my_logit.fit(X1_reshape_train, y1_train)\n",
    "my_logit.score(X1_reshape_train, y1_train)"
   ]
  },
  {
   "cell_type": "code",
   "execution_count": null,
   "metadata": {
    "colab": {},
    "colab_type": "code",
    "id": "MyYcn-_1HR5k",
    "outputId": "26f11ad7-9ae6-40d2-a7b2-c0dac7244041"
   },
   "outputs": [
    {
     "data": {
      "text/plain": [
       "0.6349206349206349"
      ]
     },
     "execution_count": 21,
     "metadata": {
      "tags": []
     },
     "output_type": "execute_result"
    }
   ],
   "source": [
    "my_logit.score(X1_reshape_test, y1_test)"
   ]
  },
  {
   "cell_type": "code",
   "execution_count": null,
   "metadata": {
    "colab": {},
    "colab_type": "code",
    "id": "EDYdCQIfHR5l"
   },
   "outputs": [],
   "source": [
    "logit1_ind = []\n",
    "logit1_mean_score = []\n",
    "\n",
    "for i in range(-6,7):\n",
    "    pow_10 = 10**i\n",
    "    my_logit_cv = LogisticRegression(C=pow_10)\n",
    "    \n",
    "    logit1_ind.append(pow_10)\n",
    "    logit1_mean_score.append(np.mean(cross_val_score(my_logit_cv, X1_reshape_train, y1_train, cv=5)))"
   ]
  },
  {
   "cell_type": "code",
   "execution_count": null,
   "metadata": {
    "colab": {},
    "colab_type": "code",
    "id": "AqCqGVqbHR5o",
    "outputId": "2bfb3419-5ebe-4ef6-8230-ce112c71e839"
   },
   "outputs": [
    {
     "data": {
      "image/png": "[encoded data removed]",
      "text/plain": [
       "<Figure size 432x288 with 1 Axes>"
      ]
     },
     "metadata": {
      "needs_background": "light",
      "tags": []
     },
     "output_type": "display_data"
    }
   ],
   "source": [
    "plt.figure()\n",
    "plt.plot(logit1_ind, logit1_mean_score, 'b.-')\n",
    "plt.xscale('log')\n",
    "plt.xlabel('C')\n",
    "plt.ylabel('Validation score')\n",
    "plt.title('Logistic Ridge Regression with 1-Year Training Set')\n",
    "plt.show()"
   ]
  },
  {
   "cell_type": "code",
   "execution_count": null,
   "metadata": {
    "colab": {},
    "colab_type": "code",
    "id": "n_VD_Nd1HR5r",
    "outputId": "6a9ff282-29f5-4f72-fc8a-abcb8afdf06f"
   },
   "outputs": [
    {
     "data": {
      "text/plain": [
       "0.6952054794520548"
      ]
     },
     "execution_count": 24,
     "metadata": {
      "tags": []
     },
     "output_type": "execute_result"
    }
   ],
   "source": [
    "my_logit_C = LogisticRegression(C=0.01)\n",
    "my_logit_C.fit(X1_reshape_train, y1_train)\n",
    "my_logit_C.score(X1_reshape_train, y1_train)"
   ]
  },
  {
   "cell_type": "code",
   "execution_count": null,
   "metadata": {
    "colab": {},
    "colab_type": "code",
    "id": "LFEKrLmiHR5v",
    "outputId": "ce01995b-1b81-487f-cee6-77353c57e999"
   },
   "outputs": [
    {
     "data": {
      "text/plain": [
       "0.626984126984127"
      ]
     },
     "execution_count": 25,
     "metadata": {
      "tags": []
     },
     "output_type": "execute_result"
    }
   ],
   "source": [
    "my_logit_C.score(X1_reshape_test, y1_test)"
   ]
  },
  {
   "cell_type": "code",
   "execution_count": null,
   "metadata": {
    "colab": {},
    "colab_type": "code",
    "id": "P2dFM3U3HR5x",
    "outputId": "700c683b-ce71-46d9-ed36-3fcfb60c7195"
   },
   "outputs": [
    {
     "name": "stdout",
     "output_type": "stream",
     "text": [
      "              precision    recall  f1-score   support\n",
      "\n",
      "           0       0.49      0.43      0.46        46\n",
      "           1       0.69      0.74      0.72        80\n",
      "\n",
      "    accuracy                           0.63       126\n",
      "   macro avg       0.59      0.59      0.59       126\n",
      "weighted avg       0.62      0.63      0.62       126\n",
      "\n"
     ]
    }
   ],
   "source": [
    "y_pred_logitC = my_logit_C.predict(X1_reshape_test)\n",
    "print(classification_report(y1_test, y_pred_logitC))"
   ]
  },
  {
   "cell_type": "code",
   "execution_count": null,
   "metadata": {
    "colab": {},
    "colab_type": "code",
    "id": "8h4yDQLLHR50"
   },
   "outputs": [],
   "source": [
    "estimators = [('normalise', StandardScaler()),\n",
    "              ('model', LogisticRegression())]\n",
    "\n",
    "pipe = Pipeline(estimators)\n",
    "\n",
    "param_grid = [{'model': [LogisticRegression()], \n",
    "               'normalise': [StandardScaler()],\n",
    "               'model__C': [10**i for i in range(-6,7)],\n",
    "               'model__penalty': ['l1', 'l2']}]\n",
    "\n",
    "grid = GridSearchCV(pipe, param_grid, cv=5)\n",
    "fittedgrid = grid.fit(X1_reshape_train, y1_train)"
   ]
  },
  {
   "cell_type": "code",
   "execution_count": null,
   "metadata": {
    "colab": {},
    "colab_type": "code",
    "id": "oo7oeZWGHR52",
    "outputId": "7f2ee301-5f0a-4b82-912c-a91cc33b64ea"
   },
   "outputs": [
    {
     "data": {
      "text/plain": [
       "Pipeline(memory=None,\n",
       "         steps=[('normalise',\n",
       "                 StandardScaler(copy=True, with_mean=True, with_std=True)),\n",
       "                ('model',\n",
       "                 LogisticRegression(C=0.1, class_weight=None, dual=False,\n",
       "                                    fit_intercept=True, intercept_scaling=1,\n",
       "                                    l1_ratio=None, max_iter=100,\n",
       "                                    multi_class='warn', n_jobs=None,\n",
       "                                    penalty='l1', random_state=None,\n",
       "                                    solver='warn', tol=0.0001, verbose=0,\n",
       "                                    warm_start=False))],\n",
       "         verbose=False)"
      ]
     },
     "execution_count": 29,
     "metadata": {
      "tags": []
     },
     "output_type": "execute_result"
    }
   ],
   "source": [
    "fittedgrid.best_estimator_"
   ]
  },
  {
   "cell_type": "code",
   "execution_count": null,
   "metadata": {
    "colab": {},
    "colab_type": "code",
    "id": "Sg_VS141HR54",
    "outputId": "18e89664-d5fa-475d-8193-6e05374795aa"
   },
   "outputs": [
    {
     "data": {
      "text/plain": [
       "0.660958904109589"
      ]
     },
     "execution_count": 30,
     "metadata": {
      "tags": []
     },
     "output_type": "execute_result"
    }
   ],
   "source": [
    "fittedgrid.best_score_"
   ]
  },
  {
   "cell_type": "code",
   "execution_count": null,
   "metadata": {
    "colab": {},
    "colab_type": "code",
    "id": "q5g6BrmxHR5-",
    "outputId": "516ad262-f6a1-4a7b-b5d6-fda1e9348c74"
   },
   "outputs": [
    {
     "data": {
      "text/plain": [
       "0.6349206349206349"
      ]
     },
     "execution_count": 31,
     "metadata": {
      "tags": []
     },
     "output_type": "execute_result"
    }
   ],
   "source": [
    "fittedgrid.score(X1_reshape_test, y1_test)"
   ]
  },
  {
   "cell_type": "code",
   "execution_count": null,
   "metadata": {
    "colab": {},
    "colab_type": "code",
    "id": "Y9LaCRsVHR6B",
    "outputId": "68bdd1d9-e5e3-491d-eb8d-4d3f093dbc11"
   },
   "outputs": [
    {
     "data": {
      "text/plain": [
       "0.8424657534246576"
      ]
     },
     "execution_count": 37,
     "metadata": {
      "tags": []
     },
     "output_type": "execute_result"
    }
   ],
   "source": [
    "my_dt = DecisionTreeClassifier(max_depth=5)\n",
    "my_dt.fit(X1_reshape_train, y1_train)\n",
    "my_dt.score(X1_reshape_train, y1_train)"
   ]
  },
  {
   "cell_type": "code",
   "execution_count": null,
   "metadata": {
    "colab": {},
    "colab_type": "code",
    "id": "QB_wsmU9HR6D",
    "outputId": "8618f131-55be-4709-9793-e2fc1294b12f"
   },
   "outputs": [
    {
     "data": {
      "text/plain": [
       "0.6111111111111112"
      ]
     },
     "execution_count": 38,
     "metadata": {
      "tags": []
     },
     "output_type": "execute_result"
    }
   ],
   "source": [
    "my_dt.score(X1_reshape_test, y1_test)"
   ]
  },
  {
   "cell_type": "code",
   "execution_count": null,
   "metadata": {
    "colab": {},
    "colab_type": "code",
    "id": "CcMh7x6gHR6E",
    "outputId": "90f37978-8da5-41e7-b0bf-755b673ba81b"
   },
   "outputs": [
    {
     "name": "stdout",
     "output_type": "stream",
     "text": [
      "              precision    recall  f1-score   support\n",
      "\n",
      "           0       0.46      0.35      0.40        46\n",
      "           1       0.67      0.76      0.71        80\n",
      "\n",
      "    accuracy                           0.61       126\n",
      "   macro avg       0.56      0.56      0.55       126\n",
      "weighted avg       0.59      0.61      0.60       126\n",
      "\n"
     ]
    }
   ],
   "source": [
    "y_pred_dt = my_dt.predict(X1_reshape_test)\n",
    "print(classification_report(y1_test, y_pred_dt))"
   ]
  },
  {
   "cell_type": "code",
   "execution_count": 41,
   "metadata": {
    "colab": {
     "base_uri": "https://localhost:8080/",
     "height": 628
    },
    "colab_type": "code",
    "id": "wzIB8FK-igGx",
    "outputId": "e9a9a31b-8626-4c31-d22a-46111e3700a2"
   },
   "outputs": [
    {
     "data": {
      "image/png": "[encoded data removed]",
      "text/plain": [
       "<Figure size 1800x720 with 1 Axes>"
      ]
     },
     "metadata": {
      "tags": []
     },
     "output_type": "display_data"
    }
   ],
   "source": [
    "from scipy.cluster.hierarchy import dendrogram, linkage\n",
    "\n",
    "# we are using the average linkage here\n",
    "linkagemat = linkage(X, 'average') \n",
    "\n",
    "plt.figure(figsize=(25, 10))\n",
    "dendrogram(\n",
    "    linkagemat,\n",
    "    leaf_rotation=90.,  # rotates the x axis labels\n",
    "    leaf_font_size=8.  # font size for the x axis labels\n",
    ");"
   ]
  },
  {
   "cell_type": "code",
   "execution_count": null,
   "metadata": {
    "colab": {},
    "colab_type": "code",
    "id": "BGbbRj7xHR6M"
   },
   "outputs": [],
   "source": []
  }
 ],
 "metadata": {
  "accelerator": "GPU",
  "colab": {
   "collapsed_sections": [],
   "name": "Capstone - Analysis.ipynb",
   "provenance": [],
   "toc_visible": true
  },
  "kernelspec": {
   "display_name": "Python 3",
   "language": "python",
   "name": "python3"
  },
  "language_info": {
   "codemirror_mode": {
    "name": "ipython",
    "version": 3
   },
   "file_extension": ".py",
   "mimetype": "text/x-python",
   "name": "python",
   "nbconvert_exporter": "python",
   "pygments_lexer": "ipython3",
   "version": "3.7.4"
  }
 },
 "nbformat": 4,
 "nbformat_minor": 4
}
