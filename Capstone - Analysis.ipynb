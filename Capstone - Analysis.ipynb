{
 "cells": [
  {
   "cell_type": "markdown",
   "metadata": {},
   "source": [
    "## Main analysis for Capstone"
   ]
  },
  {
   "cell_type": "markdown",
   "metadata": {},
   "source": [
    "Importing all libraries first"
   ]
  },
  {
   "cell_type": "code",
   "execution_count": 39,
   "metadata": {},
   "outputs": [],
   "source": [
    "import pandas as pd\n",
    "import numpy as np\n",
    "import matplotlib.pyplot as plt\n",
    "%matplotlib inline\n",
    "import seaborn as sns\n",
    "\n",
    "import warnings\n",
    "warnings.filterwarnings(\"ignore\")\n",
    "\n",
    "from scipy.stats import boxcox\n",
    "from statsmodels.graphics.gofplots import qqplot\n",
    "\n",
    "from sklearn.preprocessing import StandardScaler\n",
    "from sklearn.decomposition import PCA, KernelPCA\n",
    "from sklearn.pipeline import Pipeline\n",
    "from sklearn.model_selection import train_test_split, cross_val_score, GridSearchCV\n",
    "from sklearn.linear_model import LogisticRegression\n",
    "from sklearn.tree import DecisionTreeClassifier\n",
    "from sklearn.ensemble import RandomForestClassifier\n",
    "from sklearn.svm import SVC\n",
    "from xgboost import XGBClassifier\n",
    "from sklearn.metrics import confusion_matrix, classification_report, cohen_kappa_score\n",
    "\n",
    "from imblearn.over_sampling import SMOTE, ADASYN, SVMSMOTE"
   ]
  },
  {
   "cell_type": "markdown",
   "metadata": {},
   "source": [
    "First load the source csv file into `pandas`:"
   ]
  },
  {
   "cell_type": "code",
   "execution_count": 3,
   "metadata": {},
   "outputs": [],
   "source": [
    "df_grand = pd.read_csv('~/Desktop/NSCLC-Radiomics-agg-padded.csv')"
   ]
  },
  {
   "cell_type": "markdown",
   "metadata": {},
   "source": [
    "Define some boolean variables based on whether the patient has died (`deadstatus.event`==1) and the registered survival time of the patient. For this study, we look at the patients at 1-year, 3-year, and 5-year marks."
   ]
  },
  {
   "cell_type": "code",
   "execution_count": 4,
   "metadata": {},
   "outputs": [],
   "source": [
    "dead = df_grand['deadstatus.event'].astype(bool)\n",
    "\n",
    "mask_1yr = (df_grand['Survival.time'] >= 365)\n",
    "mask_3yr = (df_grand['Survival.time'] >= 3*365)\n",
    "mask_5yr = (df_grand['Survival.time'] >= 5*365)"
   ]
  },
  {
   "cell_type": "code",
   "execution_count": 5,
   "metadata": {},
   "outputs": [],
   "source": [
    "df_tf = df_grand.copy()"
   ]
  },
  {
   "cell_type": "markdown",
   "metadata": {},
   "source": [
    "Transforming data based on EDA:"
   ]
  },
  {
   "cell_type": "code",
   "execution_count": 6,
   "metadata": {},
   "outputs": [],
   "source": [
    "# Define an epsilon s.t. the argument to the log will be positive\n",
    "eps = 0\n",
    "\n",
    "for i in range(1):\n",
    "    str_i = str(i)\n",
    "    \n",
    "    # Shape\n",
    "    df_tf.drop(columns=['shape_VoxelVolume_'+str_i, \n",
    "                        'shape_Maximum2DDiameterColumn_'+str_i, \n",
    "                        'shape_Maximum2DDiameterRow_'+str_i], inplace=True)\n",
    "    \n",
    "    df_tf['log_shape_MeshVolume_'+str_i] = np.log( df_tf['shape_MeshVolume_'+str_i] + eps )\n",
    "    df_tf.drop(columns=['shape_MeshVolume_' + str_i])\n",
    "    \n",
    "    # GLDM\n",
    "    df_tf.drop(columns=['gldm_LargeDependenceEmphasis_'+str_i], \n",
    "               inplace = True)\n",
    "    \n",
    "    df_tf['log_gldm_GrayLevelVariance_' + str_i] = np.log(df_tf['gldm_GrayLevelVariance_' + str_i] + eps)\n",
    "    df_tf['log_gldm_DependenceNonUniformity_' + str_i] = np.log(df_tf['gldm_DependenceNonUniformity_' + str_i] + eps)\n",
    "    df_tf['log_gldm_GrayLevelNonUniformity_' + str_i] = np.log(df_tf['gldm_GrayLevelNonUniformity_' + str_i] + eps)\n",
    "    df_tf['bc_gldm_LargeDependenceLowGrayLevelEmphasis_' \n",
    "          + str_i] = boxcox(df_tf['gldm_LargeDependenceLowGrayLevelEmphasis_' + str_i] + eps)[0]\n",
    "    df_tf['bc_gldm_SmallDependenceLowGrayLevelEmphasis_' \n",
    "          + str_i] = boxcox(df_tf['gldm_SmallDependenceLowGrayLevelEmphasis_' + str_i] + eps)[0]\n",
    "    df_tf['bc_gldm_LowGrayLevelEmphasis_' + str_i] = boxcox(df_tf['gldm_LowGrayLevelEmphasis_' + str_i] + eps)[0]\n",
    "    \n",
    "    df_tf.drop(columns=['gldm_GrayLevelVariance_' + str_i,\n",
    "                        'gldm_DependenceNonUniformity_' + str_i,\n",
    "                        'gldm_GrayLevelNonUniformity_' + str_i,\n",
    "                        'gldm_LargeDependenceLowGrayLevelEmphasis_' + str_i,\n",
    "                        'gldm_SmallDependenceLowGrayLevelEmphasis_' + str_i,\n",
    "                        'gldm_LowGrayLevelEmphasis_' + str_i], inplace=True)\n",
    "    \n",
    "    # GLCM\n",
    "    df_tf.drop(columns=['glcm_SumAverage_' + str_i, \n",
    "                        'glcm_JointAverage_' + str_i,\n",
    "                        'glcm_SumEntropy_' + str_i,\n",
    "                        'glcm_DifferenceEntropy_' + str_i,\n",
    "                        'glcm_Id_' + str_i,\n",
    "                        'glcm_Idn_' + str_i,\n",
    "                        'glcm_ClusterTendency_' + str_i,\n",
    "                        'glcm_Contrast_' + str_i], inplace=True)\n",
    "    df_tf['bc_glcm_JointEnergy_' + str_i] = boxcox(df_tf['glcm_JointEnergy_' + str_i] + eps)[0]\n",
    "    df_tf['log_glcm_DifferenceVariance_' + str_i] = np.log(df_tf['glcm_DifferenceVariance_' + str_i] + eps)\n",
    "    df_tf['log_glcm_SumSquares_' + str_i] = np.log(df_tf['glcm_SumSquares_' + str_i] + eps)\n",
    "    df_tf['bc_glcm_ClusterProminence_' + str_i] = boxcox(df_tf['glcm_ClusterProminence_' + str_i] + eps)[0]\n",
    "    df_tf['bc_glcm_DifferenceAverage_' + str_i] = boxcox(df_tf['glcm_DifferenceAverage_' + str_i] + eps)[0]\n",
    "    \n",
    "    df_tf.drop(columns=['glcm_JointEnergy_' + str_i,\n",
    "                        'glcm_DifferenceVariance_' + str_i,\n",
    "                        'glcm_SumSquares_' + str_i,\n",
    "                        'glcm_ClusterProminence_' + str_i,\n",
    "                        'glcm_DifferenceAverage_' + str_i], inplace=True)\n",
    "    \n",
    "    # First order\n",
    "    df_tf.drop(columns=['firstorder_RobustMeanAbsoluteDeviation_' + str_i, \n",
    "                        'firstorder_MeanAbsoluteDeviation_' + str_i,\n",
    "                        'firstorder_TotalEnergy_' + str_i], inplace=True)\n",
    "    df_tf['bc_firstorder_InterquartileRange_' + str_i] = boxcox(df_tf['firstorder_InterquartileRange_' + str_i] + eps)[0]\n",
    "    df_tf['log_firstorder_Energy_' + str_i] = np.log(df_tf['firstorder_Energy_' + str_i] + eps)\n",
    "    df_tf['log_firstorder_Kurtosis_' + str_i] = np.log(df_tf['firstorder_Kurtosis_' + str_i] + eps)\n",
    "    df_tf['log_firstorder_RootMeanSquared_' + str_i] = np.log(df_tf['firstorder_RootMeanSquared_' + str_i] + eps)\n",
    "    \n",
    "    # GLRLM\n",
    "    df_tf.drop(columns=['glrlm_ShortRunLowGrayLevelEmphasis_' + str_i,\n",
    "                        'glrlm_LowGrayLevelRunEmphasis_' + str_i,\n",
    "                        'glrlm_LongRunEmphasis_' + str_i,\n",
    "                        'glrlm_RunLengthNonUniformityNormalized_' + str_i,\n",
    "                        'glrlm_ShortRunEmphasis_' + str_i], inplace=True)\n",
    "    df_tf['log_glrlm_GrayLevelVariance_' + str_i] = np.log(df_tf['glrlm_GrayLevelVariance_' + str_i] + eps)\n",
    "    df_tf['log_glrlm_RunVariance_' + str_i] = np.log(df_tf['glrlm_RunVariance_' + str_i] + eps)\n",
    "    df_tf['log_glrlm_GrayLevelNonUniformity_' + str_i] = np.log(df_tf['glrlm_GrayLevelNonUniformity_' + str_i] + eps)\n",
    "    df_tf['log_glrlm_RunLengthNonUniformity_' + str_i] = np.log(df_tf['glrlm_RunLengthNonUniformity_' + str_i] + eps)\n",
    "    df_tf['bc_glrlm_LongRunLowGrayLevelEmphasis_' + str_i] = boxcox(df_tf['glrlm_LongRunLowGrayLevelEmphasis_' \n",
    "                                                                          + str_i] + eps)[0]\n",
    "    \n",
    "    df_tf.drop(columns=['glrlm_GrayLevelVariance_' + str_i,\n",
    "                        'glrlm_RunVariance_' + str_i,\n",
    "                        'glrlm_GrayLevelNonUniformity_' + str_i,\n",
    "                        'glrlm_RunLengthNonUniformity_' + str_i,\n",
    "                        'glrlm_LongRunLowGrayLevelEmphasis_' + str_i], inplace = True)\n",
    "    \n",
    "    # GLSZM\n",
    "    df_tf.drop(columns=['glszm_LargeAreaEmphasis_' + str_i,\n",
    "                        'glszm_LargeAreaHighGrayLevelEmphasis_' + str_i,\n",
    "                        'glszm_SmallAreaEmphasis_' + str_i,\n",
    "                        'glszm_SmallAreaHighGrayLevelEmphasis_' + str_i,\n",
    "                        'glszm_SmallAreaLowGrayLevelEmphasis_' + str_i], inplace=True)\n",
    "    df_tf['log_glszm_GrayLevelVariance_' + str_i] = boxcox(df_tf['glszm_GrayLevelVariance_' + str_i] + eps)[0]\n",
    "    df_tf['bc_glszm_ZoneVariance_' + str_i] = boxcox(df_tf['glszm_ZoneVariance_' + str_i] + eps)[0]\n",
    "    df_tf['log_glszm_GrayLevelNonUniformityNormalized_' + str_i] = np.log(df_tf['glszm_GrayLevelNonUniformityNormalized_' \n",
    "                                                                                + str_i] + eps)\n",
    "    df_tf['log_glszm_SizeZoneNonUniformity_' + str_i] = np.log(df_tf['glszm_SizeZoneNonUniformity_' + str_i] + eps)\n",
    "    df_tf['log_glszm_GrayLevelNonUniformity_' + str_i] = np.log(df_tf['glszm_GrayLevelNonUniformity_' + str_i] + eps)\n",
    "    df_tf['log_glszm_ZonePercentage_' + str_i] = np.log(df_tf['glszm_ZonePercentage_' + str_i] + eps)\n",
    "    df_tf['log_glszm_LargeAreaLowGrayLevelEmphasis_' + str_i] = np.log(df_tf['glszm_LargeAreaLowGrayLevelEmphasis_' \n",
    "                                                                             + str_i] + eps)\n",
    "    df_tf['bc_glszm_LowGrayLevelZoneEmphasis_' + str_i] = boxcox(df_grand['glszm_LowGrayLevelZoneEmphasis_' + str_i] + eps)[0]\n",
    "    \n",
    "    df_tf.drop(columns=['glszm_GrayLevelVariance_' + str_i,\n",
    "                        'glszm_ZoneVariance_' + str_i,\n",
    "                        'glszm_GrayLevelNonUniformityNormalized_' + str_i,\n",
    "                        'glszm_SizeZoneNonUniformity_' + str_i,\n",
    "                        'glszm_GrayLevelNonUniformity_' + str_i,\n",
    "                        'glszm_ZonePercentage_' + str_i,\n",
    "                        'glszm_LargeAreaLowGrayLevelEmphasis_' + str_i,\n",
    "                        'glszm_LowGrayLevelZoneEmphasis_' + str_i], inplace=True)"
   ]
  },
  {
   "cell_type": "code",
   "execution_count": 16,
   "metadata": {},
   "outputs": [],
   "source": [
    "# Number of features at the end\n",
    "num_feat = len(df_tf.columns[df_tf.columns.str.contains('_0')])"
   ]
  },
  {
   "cell_type": "markdown",
   "metadata": {},
   "source": [
    "---\n",
    "### 1-year analysis:"
   ]
  },
  {
   "cell_type": "markdown",
   "metadata": {},
   "source": [
    "We look at patients satisfying one of the two following criteria:\n",
    "- The patient has passed away, and his/ her survival time is definite; OR\n",
    "- The patient has survived past the 1-year mark regardless whether the patient has passed away"
   ]
  },
  {
   "cell_type": "code",
   "execution_count": 17,
   "metadata": {},
   "outputs": [],
   "source": [
    "feat_mask = df_tf.columns.str.contains('_')\n",
    "X1 = df_tf[mask_1yr | dead][df_tf.columns[feat_mask]]\n",
    "y1 = (df_tf[mask_1yr | dead]['Survival.time']> 365).astype(int)"
   ]
  },
  {
   "cell_type": "code",
   "execution_count": 18,
   "metadata": {},
   "outputs": [],
   "source": [
    "X1 = X1.astype(float)"
   ]
  },
  {
   "cell_type": "markdown",
   "metadata": {},
   "source": [
    "Looking at the total number of patients being studied here:"
   ]
  },
  {
   "cell_type": "code",
   "execution_count": 19,
   "metadata": {},
   "outputs": [
    {
     "data": {
      "text/plain": [
       "(418,)"
      ]
     },
     "execution_count": 19,
     "metadata": {},
     "output_type": "execute_result"
    }
   ],
   "source": [
    "y1.shape"
   ]
  },
  {
   "cell_type": "markdown",
   "metadata": {},
   "source": [
    "Split the data into training set and test set:"
   ]
  },
  {
   "cell_type": "code",
   "execution_count": 20,
   "metadata": {},
   "outputs": [],
   "source": [
    "X1_train, X1_test, y1_train, y1_test = train_test_split(X1, y1, test_size=0.3, random_state=1)"
   ]
  },
  {
   "cell_type": "markdown",
   "metadata": {},
   "source": [
    "Look at the class imbalance:"
   ]
  },
  {
   "cell_type": "code",
   "execution_count": 21,
   "metadata": {},
   "outputs": [
    {
     "data": {
      "text/plain": [
       "1    190\n",
       "0    102\n",
       "Name: Survival.time, dtype: int64"
      ]
     },
     "execution_count": 21,
     "metadata": {},
     "output_type": "execute_result"
    }
   ],
   "source": [
    "y1_train.value_counts()"
   ]
  },
  {
   "cell_type": "markdown",
   "metadata": {},
   "source": [
    "Hence there are 190 patients in the training set who have survived for more than 1 year, and 102 who have not."
   ]
  },
  {
   "cell_type": "markdown",
   "metadata": {},
   "source": [
    "We scale all features in the training set such that all features centred at zero and have variances of 1. The test set is also scaled, BUT with the scaling factors determined from the training set:"
   ]
  },
  {
   "cell_type": "code",
   "execution_count": 22,
   "metadata": {},
   "outputs": [],
   "source": [
    "my_scaler = StandardScaler()\n",
    "X1_train = my_scaler.fit_transform(X1_train)\n",
    "X1_test = my_scaler.transform(X1_test)"
   ]
  },
  {
   "cell_type": "markdown",
   "metadata": {},
   "source": [
    "Then run through various models:"
   ]
  },
  {
   "cell_type": "markdown",
   "metadata": {},
   "source": [
    "#### Logistic Regression"
   ]
  },
  {
   "cell_type": "code",
   "execution_count": 46,
   "metadata": {},
   "outputs": [
    {
     "data": {
      "text/plain": [
       "0.7705479452054794"
      ]
     },
     "execution_count": 46,
     "metadata": {},
     "output_type": "execute_result"
    }
   ],
   "source": [
    "my_logit = LogisticRegression()\n",
    "my_logit.fit(X1_train, y1_train)\n",
    "my_logit.score(X1_train, y1_train)"
   ]
  },
  {
   "cell_type": "markdown",
   "metadata": {},
   "source": [
    "The test accuracy for the logistic regression model is:"
   ]
  },
  {
   "cell_type": "code",
   "execution_count": 47,
   "metadata": {},
   "outputs": [
    {
     "data": {
      "text/plain": [
       "0.6111111111111112"
      ]
     },
     "execution_count": 47,
     "metadata": {},
     "output_type": "execute_result"
    }
   ],
   "source": [
    "my_logit.score(X1_test, y1_test)"
   ]
  },
  {
   "cell_type": "markdown",
   "metadata": {},
   "source": [
    "To further optimize the results, run a grid search:\n",
    "- Try LASSO (i.e. `penalty='l1'`) and Ridge regression (i.e. `penalty='l2'`)\n",
    "- Try different normalization strengths (for C, the inverse of the normalization strengths, ranging from $10^{-6}$ to $10^6$)"
   ]
  },
  {
   "cell_type": "code",
   "execution_count": 48,
   "metadata": {},
   "outputs": [],
   "source": [
    "estimators = [('model', LogisticRegression())]\n",
    "\n",
    "pipe = Pipeline(estimators)\n",
    "\n",
    "param_grid = [{'model': [LogisticRegression()], \n",
    "               'model__C': [10**i for i in range(-6,7)],\n",
    "               'model__penalty': ['l1', 'l2']}]\n",
    "\n",
    "grid = GridSearchCV(pipe, param_grid, cv=5)\n",
    "fittedgrid = grid.fit(X1_train, y1_train)"
   ]
  },
  {
   "cell_type": "markdown",
   "metadata": {},
   "source": [
    "The optimized hyperparameters are:"
   ]
  },
  {
   "cell_type": "code",
   "execution_count": 49,
   "metadata": {},
   "outputs": [
    {
     "data": {
      "text/plain": [
       "Pipeline(memory=None,\n",
       "         steps=[('normalise',\n",
       "                 StandardScaler(copy=True, with_mean=True, with_std=True)),\n",
       "                ('model',\n",
       "                 LogisticRegression(C=1, class_weight=None, dual=False,\n",
       "                                    fit_intercept=True, intercept_scaling=1,\n",
       "                                    l1_ratio=None, max_iter=100,\n",
       "                                    multi_class='warn', n_jobs=None,\n",
       "                                    penalty='l1', random_state=None,\n",
       "                                    solver='warn', tol=0.0001, verbose=0,\n",
       "                                    warm_start=False))],\n",
       "         verbose=False)"
      ]
     },
     "execution_count": 49,
     "metadata": {},
     "output_type": "execute_result"
    }
   ],
   "source": [
    "fittedgrid.best_estimator_"
   ]
  },
  {
   "cell_type": "markdown",
   "metadata": {},
   "source": [
    "The score on the training set is:"
   ]
  },
  {
   "cell_type": "code",
   "execution_count": 50,
   "metadata": {},
   "outputs": [
    {
     "data": {
      "text/plain": [
       "0.7671232876712328"
      ]
     },
     "execution_count": 50,
     "metadata": {},
     "output_type": "execute_result"
    }
   ],
   "source": [
    "fittedgrid.score(X1_train, y1_train)"
   ]
  },
  {
   "cell_type": "markdown",
   "metadata": {},
   "source": [
    "While the score on the test set is:"
   ]
  },
  {
   "cell_type": "code",
   "execution_count": 51,
   "metadata": {},
   "outputs": [
    {
     "data": {
      "text/plain": [
       "0.6031746031746031"
      ]
     },
     "execution_count": 51,
     "metadata": {},
     "output_type": "execute_result"
    }
   ],
   "source": [
    "fittedgrid.score(X1_test, y1_test)"
   ]
  },
  {
   "cell_type": "markdown",
   "metadata": {},
   "source": [
    "Plot some graphs! Define some lists first, then write into a dataframe:"
   ]
  },
  {
   "cell_type": "code",
   "execution_count": 52,
   "metadata": {},
   "outputs": [],
   "source": [
    "logit_grid_C = fittedgrid.cv_results_['param_model__C'].data\n",
    "\n",
    "logit_grid_penalty =fittedgrid.cv_results_['param_model__penalty'].data\n",
    "\n",
    "logit_grid_score = fittedgrid.cv_results_['mean_test_score']"
   ]
  },
  {
   "cell_type": "code",
   "execution_count": 53,
   "metadata": {},
   "outputs": [
    {
     "data": {
      "text/html": [
       "<div>\n",
       "<style scoped>\n",
       "    .dataframe tbody tr th:only-of-type {\n",
       "        vertical-align: middle;\n",
       "    }\n",
       "\n",
       "    .dataframe tbody tr th {\n",
       "        vertical-align: top;\n",
       "    }\n",
       "\n",
       "    .dataframe thead th {\n",
       "        text-align: right;\n",
       "    }\n",
       "</style>\n",
       "<table border=\"1\" class=\"dataframe\">\n",
       "  <thead>\n",
       "    <tr style=\"text-align: right;\">\n",
       "      <th></th>\n",
       "      <th>C</th>\n",
       "      <th>penalty</th>\n",
       "      <th>score</th>\n",
       "    </tr>\n",
       "  </thead>\n",
       "  <tbody>\n",
       "    <tr>\n",
       "      <td>0</td>\n",
       "      <td>1e-06</td>\n",
       "      <td>l1</td>\n",
       "      <td>0.349315</td>\n",
       "    </tr>\n",
       "    <tr>\n",
       "      <td>1</td>\n",
       "      <td>1e-06</td>\n",
       "      <td>l2</td>\n",
       "      <td>0.578767</td>\n",
       "    </tr>\n",
       "    <tr>\n",
       "      <td>2</td>\n",
       "      <td>1e-05</td>\n",
       "      <td>l1</td>\n",
       "      <td>0.349315</td>\n",
       "    </tr>\n",
       "    <tr>\n",
       "      <td>3</td>\n",
       "      <td>1e-05</td>\n",
       "      <td>l2</td>\n",
       "      <td>0.578767</td>\n",
       "    </tr>\n",
       "    <tr>\n",
       "      <td>4</td>\n",
       "      <td>0.0001</td>\n",
       "      <td>l1</td>\n",
       "      <td>0.349315</td>\n",
       "    </tr>\n",
       "  </tbody>\n",
       "</table>\n",
       "</div>"
      ],
      "text/plain": [
       "        C penalty     score\n",
       "0   1e-06      l1  0.349315\n",
       "1   1e-06      l2  0.578767\n",
       "2   1e-05      l1  0.349315\n",
       "3   1e-05      l2  0.578767\n",
       "4  0.0001      l1  0.349315"
      ]
     },
     "execution_count": 53,
     "metadata": {},
     "output_type": "execute_result"
    }
   ],
   "source": [
    "df_logit = pd.DataFrame({'C': logit_grid_C,\n",
    "                         'penalty': logit_grid_penalty,\n",
    "                         'score': logit_grid_score})\n",
    "df_logit.head()"
   ]
  },
  {
   "cell_type": "code",
   "execution_count": 57,
   "metadata": {},
   "outputs": [
    {
     "data": {
      "image/png": "[encoded data removed]",
      "text/plain": [
       "<Figure size 864x432 with 1 Axes>"
      ]
     },
     "metadata": {
      "needs_background": "light"
     },
     "output_type": "display_data"
    }
   ],
   "source": [
    "plt.figure(figsize=(12,6))\n",
    "plt.plot(df_logit[df_logit['penalty']=='l2']['C'], df_logit[df_logit['penalty']=='l2']['score'], 'b--', label='Ridge')\n",
    "plt.plot(df_logit[df_logit['penalty']=='l1']['C'], df_logit[df_logit['penalty']=='l1']['score'], 'r.-', label='LASSO')\n",
    "plt.xscale('log')\n",
    "plt.xlabel('Regularization parameter C')\n",
    "plt.ylabel('Validation score')\n",
    "plt.title('Logistic Regression for 1-Year Survival')\n",
    "plt.legend()\n",
    "plt.show()"
   ]
  },
  {
   "cell_type": "markdown",
   "metadata": {},
   "source": [
    "Since the accuracy score is so low, and there is a slight imbalance in the classes, let us print out the f1-score and the confusion matrix also for the test set:"
   ]
  },
  {
   "cell_type": "code",
   "execution_count": 30,
   "metadata": {},
   "outputs": [
    {
     "name": "stdout",
     "output_type": "stream",
     "text": [
      "              precision    recall  f1-score   support\n",
      "\n",
      "           0       0.45      0.33      0.38        46\n",
      "           1       0.67      0.78      0.72        80\n",
      "\n",
      "    accuracy                           0.61       126\n",
      "   macro avg       0.56      0.55      0.55       126\n",
      "weighted avg       0.59      0.61      0.59       126\n",
      "\n"
     ]
    }
   ],
   "source": [
    "y_pred_logit = fittedgrid.predict(X1_test)\n",
    "print(classification_report(y1_test, y_pred_logit))"
   ]
  },
  {
   "cell_type": "markdown",
   "metadata": {},
   "source": [
    "Repeat the logistic regression with principal component analysis:"
   ]
  },
  {
   "cell_type": "code",
   "execution_count": 70,
   "metadata": {},
   "outputs": [],
   "source": [
    "estimators = [('pca', PCA()),\n",
    "              ('model', LogisticRegression())]\n",
    "\n",
    "pipe = Pipeline(estimators)\n",
    "\n",
    "param_grid = [{'pca': [PCA()],\n",
    "               'model': [LogisticRegression()], \n",
    "               'pca__n_components': [x for x in range(5,num_feat,5)],\n",
    "               'model__C': [10**i for i in range(-6,7)],\n",
    "               'model__penalty': ['l1', 'l2']}]\n",
    "\n",
    "grid = GridSearchCV(pipe, param_grid, cv=5)\n",
    "fittedgrid_pca = grid.fit(X1_train, y1_train)"
   ]
  },
  {
   "cell_type": "code",
   "execution_count": 71,
   "metadata": {},
   "outputs": [
    {
     "data": {
      "text/plain": [
       "Pipeline(memory=None,\n",
       "         steps=[('pca',\n",
       "                 PCA(copy=True, iterated_power='auto', n_components=15,\n",
       "                     random_state=None, svd_solver='auto', tol=0.0,\n",
       "                     whiten=False)),\n",
       "                ('normalise',\n",
       "                 StandardScaler(copy=True, with_mean=True, with_std=True)),\n",
       "                ('model',\n",
       "                 LogisticRegression(C=0.1, class_weight=None, dual=False,\n",
       "                                    fit_intercept=True, intercept_scaling=1,\n",
       "                                    l1_ratio=None, max_iter=100,\n",
       "                                    multi_class='warn', n_jobs=None,\n",
       "                                    penalty='l1', random_state=None,\n",
       "                                    solver='warn', tol=0.0001, verbose=0,\n",
       "                                    warm_start=False))],\n",
       "         verbose=False)"
      ]
     },
     "execution_count": 71,
     "metadata": {},
     "output_type": "execute_result"
    }
   ],
   "source": [
    "fittedgrid_pca.best_estimator_"
   ]
  },
  {
   "cell_type": "code",
   "execution_count": 72,
   "metadata": {},
   "outputs": [
    {
     "data": {
      "text/plain": [
       "0.6917808219178082"
      ]
     },
     "execution_count": 72,
     "metadata": {},
     "output_type": "execute_result"
    }
   ],
   "source": [
    "fittedgrid_pca.score(X1_train, y1_train)"
   ]
  },
  {
   "cell_type": "code",
   "execution_count": 73,
   "metadata": {},
   "outputs": [
    {
     "data": {
      "text/plain": [
       "0.6190476190476191"
      ]
     },
     "execution_count": 73,
     "metadata": {},
     "output_type": "execute_result"
    }
   ],
   "source": [
    "fittedgrid_pca.score(X1_test, y1_test)"
   ]
  },
  {
   "cell_type": "code",
   "execution_count": 74,
   "metadata": {},
   "outputs": [
    {
     "name": "stdout",
     "output_type": "stream",
     "text": [
      "              precision    recall  f1-score   support\n",
      "\n",
      "           0       0.45      0.20      0.27        46\n",
      "           1       0.65      0.86      0.74        80\n",
      "\n",
      "    accuracy                           0.62       126\n",
      "   macro avg       0.55      0.53      0.51       126\n",
      "weighted avg       0.58      0.62      0.57       126\n",
      "\n"
     ]
    }
   ],
   "source": [
    "y_pred_logit_pca = fittedgrid_pca.predict(X1_test)\n",
    "print(classification_report(y1_test, y_pred_logit_pca))"
   ]
  },
  {
   "cell_type": "code",
   "execution_count": 75,
   "metadata": {},
   "outputs": [],
   "source": [
    "logit_pca_grid_C = fittedgrid_pca.cv_results_['param_model__C'].data\n",
    "\n",
    "logit_pca_grid_penalty =fittedgrid_pca.cv_results_['param_model__penalty'].data\n",
    "\n",
    "logit_pca_grid_score = fittedgrid_pca.cv_results_['mean_test_score']\n",
    "\n",
    "logit_pca_grid_n_components = fittedgrid_pca.cv_results_['param_pca__n_components'].data"
   ]
  },
  {
   "cell_type": "code",
   "execution_count": 76,
   "metadata": {},
   "outputs": [
    {
     "data": {
      "text/html": [
       "<div>\n",
       "<style scoped>\n",
       "    .dataframe tbody tr th:only-of-type {\n",
       "        vertical-align: middle;\n",
       "    }\n",
       "\n",
       "    .dataframe tbody tr th {\n",
       "        vertical-align: top;\n",
       "    }\n",
       "\n",
       "    .dataframe thead th {\n",
       "        text-align: right;\n",
       "    }\n",
       "</style>\n",
       "<table border=\"1\" class=\"dataframe\">\n",
       "  <thead>\n",
       "    <tr style=\"text-align: right;\">\n",
       "      <th></th>\n",
       "      <th>C</th>\n",
       "      <th>penalty</th>\n",
       "      <th>n_components</th>\n",
       "      <th>score</th>\n",
       "    </tr>\n",
       "  </thead>\n",
       "  <tbody>\n",
       "    <tr>\n",
       "      <td>0</td>\n",
       "      <td>1e-06</td>\n",
       "      <td>l1</td>\n",
       "      <td>5</td>\n",
       "      <td>0.349315</td>\n",
       "    </tr>\n",
       "    <tr>\n",
       "      <td>1</td>\n",
       "      <td>1e-06</td>\n",
       "      <td>l1</td>\n",
       "      <td>10</td>\n",
       "      <td>0.349315</td>\n",
       "    </tr>\n",
       "    <tr>\n",
       "      <td>2</td>\n",
       "      <td>1e-06</td>\n",
       "      <td>l1</td>\n",
       "      <td>15</td>\n",
       "      <td>0.349315</td>\n",
       "    </tr>\n",
       "    <tr>\n",
       "      <td>3</td>\n",
       "      <td>1e-06</td>\n",
       "      <td>l1</td>\n",
       "      <td>20</td>\n",
       "      <td>0.349315</td>\n",
       "    </tr>\n",
       "    <tr>\n",
       "      <td>4</td>\n",
       "      <td>1e-06</td>\n",
       "      <td>l1</td>\n",
       "      <td>25</td>\n",
       "      <td>0.349315</td>\n",
       "    </tr>\n",
       "  </tbody>\n",
       "</table>\n",
       "</div>"
      ],
      "text/plain": [
       "       C penalty n_components     score\n",
       "0  1e-06      l1            5  0.349315\n",
       "1  1e-06      l1           10  0.349315\n",
       "2  1e-06      l1           15  0.349315\n",
       "3  1e-06      l1           20  0.349315\n",
       "4  1e-06      l1           25  0.349315"
      ]
     },
     "execution_count": 76,
     "metadata": {},
     "output_type": "execute_result"
    }
   ],
   "source": [
    "df_logit_pca = pd.DataFrame({'C': logit_pca_grid_C,\n",
    "                             'penalty': logit_pca_grid_penalty,\n",
    "                             'n_components': logit_pca_grid_n_components,\n",
    "                             'score': logit_pca_grid_score})\n",
    "df_logit_pca.head()"
   ]
  },
  {
   "cell_type": "code",
   "execution_count": 77,
   "metadata": {},
   "outputs": [
    {
     "data": {
      "image/png": "[encoded data removed]",
      "text/plain": [
       "<Figure size 864x432 with 1 Axes>"
      ]
     },
     "metadata": {
      "needs_background": "light"
     },
     "output_type": "display_data"
    }
   ],
   "source": [
    "plt.figure(figsize=(12,6))\n",
    "plt.plot(df_logit_pca[(df_logit_pca['penalty']=='l2') & \n",
    "                      (df_logit_pca['n_components']==15)]['C'], \n",
    "         df_logit_pca[(df_logit_pca['penalty']=='l2') & \n",
    "                      (df_logit_pca['n_components']==15)]['score'], 'b--', label='Ridge')\n",
    "plt.plot(df_logit_pca[(df_logit_pca['penalty']=='l1') & \n",
    "                      (df_logit_pca['n_components']==15)]['C'], \n",
    "         df_logit_pca[(df_logit_pca['penalty']=='l1') & \n",
    "                      (df_logit_pca['n_components']==15)]['score'], 'r.-', label='LASSO')\n",
    "plt.xscale('log')\n",
    "plt.xlabel('Regularization parameter C')\n",
    "plt.ylabel('Validation score')\n",
    "plt.title('Logistic Regression for 1-Year Survival')\n",
    "plt.legend()\n",
    "plt.show()"
   ]
  },
  {
   "cell_type": "code",
   "execution_count": 78,
   "metadata": {},
   "outputs": [
    {
     "data": {
      "image/png": "[encoded data removed]",
      "text/plain": [
       "<Figure size 864x432 with 1 Axes>"
      ]
     },
     "metadata": {
      "needs_background": "light"
     },
     "output_type": "display_data"
    }
   ],
   "source": [
    "plt.figure(figsize=(12,6))\n",
    "plt.plot(df_logit_pca[(df_logit_pca['penalty']=='l2') & \n",
    "                      (df_logit_pca['C']==0.1)]['n_components'], \n",
    "         df_logit_pca[(df_logit_pca['penalty']=='l2') & \n",
    "                      (df_logit_pca['C']==0.1)]['score'], 'b--', label='Ridge')\n",
    "plt.plot(df_logit_pca[(df_logit_pca['penalty']=='l1') & \n",
    "                      (df_logit_pca['C']==0.1)]['n_components'], \n",
    "         df_logit_pca[(df_logit_pca['penalty']=='l1') & \n",
    "                      (df_logit_pca['C']==0.1)]['score'], 'r.-', label='LASSO')\n",
    "plt.xlabel('Number of principal components')\n",
    "plt.ylabel('Validation score')\n",
    "plt.title('Logistic Regression for 1-Year Survival')\n",
    "plt.legend()\n",
    "plt.show()"
   ]
  },
  {
   "cell_type": "code",
   "execution_count": 79,
   "metadata": {},
   "outputs": [
    {
     "data": {
      "text/plain": [
       "0.6917808219178082"
      ]
     },
     "execution_count": 79,
     "metadata": {},
     "output_type": "execute_result"
    }
   ],
   "source": [
    "fittedgrid_pca.score(X1_train, y1_train)"
   ]
  },
  {
   "cell_type": "code",
   "execution_count": 80,
   "metadata": {},
   "outputs": [
    {
     "data": {
      "text/plain": [
       "0.6190476190476191"
      ]
     },
     "execution_count": 80,
     "metadata": {},
     "output_type": "execute_result"
    }
   ],
   "source": [
    "fittedgrid_pca.score(X1_test, y1_test)"
   ]
  },
  {
   "cell_type": "code",
   "execution_count": 81,
   "metadata": {},
   "outputs": [
    {
     "name": "stdout",
     "output_type": "stream",
     "text": [
      "              precision    recall  f1-score   support\n",
      "\n",
      "           0       0.45      0.20      0.27        46\n",
      "           1       0.65      0.86      0.74        80\n",
      "\n",
      "    accuracy                           0.62       126\n",
      "   macro avg       0.55      0.53      0.51       126\n",
      "weighted avg       0.58      0.62      0.57       126\n",
      "\n"
     ]
    }
   ],
   "source": [
    "y1_pred_pca = fittedgrid_pca.predict(X1_test)\n",
    "print(classification_report(y1_test, y1_pred_pca))"
   ]
  },
  {
   "cell_type": "markdown",
   "metadata": {},
   "source": [
    "#### Decision Tree"
   ]
  },
  {
   "cell_type": "code",
   "execution_count": 82,
   "metadata": {},
   "outputs": [],
   "source": [
    "estimators = [('pca', PCA()),\n",
    "              ('model', DecisionTreeClassifier())]\n",
    "\n",
    "pipe = Pipeline(estimators)\n",
    "\n",
    "param_grid = [{'pca': [PCA()],\n",
    "               'model': [DecisionTreeClassifier()],\n",
    "               'model__max_depth': [i for i in range(1,11)],\n",
    "               'model__min_samples_leaf': [i for i in range(1,6)],\n",
    "               'pca__n_components': [x for x in range(5,num_feat,5)]}]\n",
    "\n",
    "grid = GridSearchCV(pipe, param_grid, cv=5)\n",
    "fittedgrid = grid.fit(X1_train, y1_train)"
   ]
  },
  {
   "cell_type": "code",
   "execution_count": 83,
   "metadata": {},
   "outputs": [
    {
     "data": {
      "text/plain": [
       "Pipeline(memory=None,\n",
       "         steps=[('pca',\n",
       "                 PCA(copy=True, iterated_power='auto', n_components=20,\n",
       "                     random_state=None, svd_solver='auto', tol=0.0,\n",
       "                     whiten=False)),\n",
       "                ('model',\n",
       "                 DecisionTreeClassifier(class_weight=None, criterion='gini',\n",
       "                                        max_depth=6, max_features=None,\n",
       "                                        max_leaf_nodes=None,\n",
       "                                        min_impurity_decrease=0.0,\n",
       "                                        min_impurity_split=None,\n",
       "                                        min_samples_leaf=3, min_samples_split=2,\n",
       "                                        min_weight_fraction_leaf=0.0,\n",
       "                                        presort=False, random_state=None,\n",
       "                                        splitter='best'))],\n",
       "         verbose=False)"
      ]
     },
     "execution_count": 83,
     "metadata": {},
     "output_type": "execute_result"
    }
   ],
   "source": [
    "fittedgrid.best_estimator_"
   ]
  },
  {
   "cell_type": "code",
   "execution_count": 84,
   "metadata": {},
   "outputs": [
    {
     "data": {
      "text/plain": [
       "0.6541095890410958"
      ]
     },
     "execution_count": 84,
     "metadata": {},
     "output_type": "execute_result"
    }
   ],
   "source": [
    "fittedgrid.best_score_"
   ]
  },
  {
   "cell_type": "code",
   "execution_count": 86,
   "metadata": {},
   "outputs": [
    {
     "data": {
      "text/plain": [
       "0.8287671232876712"
      ]
     },
     "execution_count": 86,
     "metadata": {},
     "output_type": "execute_result"
    }
   ],
   "source": [
    "fittedgrid.score(X1_train, y1_train)"
   ]
  },
  {
   "cell_type": "code",
   "execution_count": 87,
   "metadata": {},
   "outputs": [
    {
     "data": {
      "text/plain": [
       "0.6507936507936508"
      ]
     },
     "execution_count": 87,
     "metadata": {},
     "output_type": "execute_result"
    }
   ],
   "source": [
    "fittedgrid.score(X1_test, y1_test)"
   ]
  },
  {
   "cell_type": "markdown",
   "metadata": {},
   "source": [
    "#### Random Forest"
   ]
  },
  {
   "cell_type": "code",
   "execution_count": 45,
   "metadata": {},
   "outputs": [
    {
     "data": {
      "text/plain": [
       "0.8664383561643836"
      ]
     },
     "execution_count": 45,
     "metadata": {},
     "output_type": "execute_result"
    }
   ],
   "source": [
    "my_rf = RandomForestClassifier(n_estimators=50, max_depth=5, random_state=32)\n",
    "my_rf.fit(X1_reshape_train, y1_train)\n",
    "my_rf.score(X1_reshape_train, y1_train)"
   ]
  },
  {
   "cell_type": "code",
   "execution_count": 46,
   "metadata": {},
   "outputs": [
    {
     "data": {
      "text/plain": [
       "0.6349206349206349"
      ]
     },
     "execution_count": 46,
     "metadata": {},
     "output_type": "execute_result"
    }
   ],
   "source": [
    "my_rf.score(X1_reshape_test, y1_test)"
   ]
  },
  {
   "cell_type": "code",
   "execution_count": 47,
   "metadata": {},
   "outputs": [
    {
     "name": "stdout",
     "output_type": "stream",
     "text": [
      "              precision    recall  f1-score   support\n",
      "\n",
      "           0       0.50      0.17      0.26        46\n",
      "           1       0.65      0.90      0.76        80\n",
      "\n",
      "    accuracy                           0.63       126\n",
      "   macro avg       0.58      0.54      0.51       126\n",
      "weighted avg       0.60      0.63      0.58       126\n",
      "\n"
     ]
    }
   ],
   "source": [
    "y_pred_rf = my_rf.predict(X1_reshape_test)\n",
    "print(classification_report(y1_test, y_pred_rf))"
   ]
  },
  {
   "cell_type": "markdown",
   "metadata": {},
   "source": [
    "#### XGBoost decision tree"
   ]
  },
  {
   "cell_type": "code",
   "execution_count": 48,
   "metadata": {},
   "outputs": [
    {
     "name": "stderr",
     "output_type": "stream",
     "text": [
      "/opt/anaconda3/lib/python3.7/site-packages/sklearn/model_selection/_search.py:814: DeprecationWarning: The default of the `iid` parameter will change from True to False in version 0.22 and will be removed in 0.24. This will change numeric results when test-set sizes are unequal.\n",
      "  DeprecationWarning)\n"
     ]
    }
   ],
   "source": [
    "estimators = [('model', XGBClassifier())]\n",
    "\n",
    "pipe = Pipeline(estimators)\n",
    "\n",
    "param_grid = [{'model': [XGBClassifier()], \n",
    "               'model__max_depth': [i for i in range(1,11)],\n",
    "               'model__n_estimators': [i for i in range(10,160,10)]}]\n",
    "\n",
    "grid = GridSearchCV(pipe, param_grid, cv=5)\n",
    "fittedgrid = grid.fit(X1_reshape_train, y1_train)"
   ]
  },
  {
   "cell_type": "code",
   "execution_count": 49,
   "metadata": {},
   "outputs": [
    {
     "data": {
      "text/plain": [
       "{'model': XGBClassifier(base_score=0.5, booster='gbtree', colsample_bylevel=1,\n",
       "               colsample_bynode=1, colsample_bytree=1, gamma=0,\n",
       "               learning_rate=0.1, max_delta_step=0, max_depth=1,\n",
       "               min_child_weight=1, missing=None, n_estimators=10, n_jobs=1,\n",
       "               nthread=None, objective='binary:logistic', random_state=0,\n",
       "               reg_alpha=0, reg_lambda=1, scale_pos_weight=1, seed=None,\n",
       "               silent=None, subsample=1, verbosity=1),\n",
       " 'model__max_depth': 1,\n",
       " 'model__n_estimators': 10,\n",
       " 'normalise': StandardScaler(copy=True, with_mean=True, with_std=True)}"
      ]
     },
     "execution_count": 49,
     "metadata": {},
     "output_type": "execute_result"
    }
   ],
   "source": [
    "fittedgrid.best_params_"
   ]
  },
  {
   "cell_type": "code",
   "execution_count": 50,
   "metadata": {},
   "outputs": [
    {
     "data": {
      "text/plain": [
       "0.6541095890410958"
      ]
     },
     "execution_count": 50,
     "metadata": {},
     "output_type": "execute_result"
    }
   ],
   "source": [
    "fittedgrid.best_score_"
   ]
  },
  {
   "cell_type": "code",
   "execution_count": 51,
   "metadata": {},
   "outputs": [
    {
     "data": {
      "text/plain": [
       "0.626984126984127"
      ]
     },
     "execution_count": 51,
     "metadata": {},
     "output_type": "execute_result"
    }
   ],
   "source": [
    "fittedgrid.score(X1_reshape_test, y1_test)"
   ]
  },
  {
   "cell_type": "code",
   "execution_count": 52,
   "metadata": {},
   "outputs": [],
   "source": [
    "xgb_grid_maxdepth = fittedgrid.cv_results_['param_model__max_depth'].data\n",
    "xgb_grid_n_estimators = fittedgrid.cv_results_['param_model__n_estimators'].data\n",
    "xgb_grid_score = fittedgrid.cv_results_['mean_test_score']"
   ]
  },
  {
   "cell_type": "code",
   "execution_count": 53,
   "metadata": {},
   "outputs": [],
   "source": [
    "df_xgb = pd.DataFrame({'max_depth': xgb_grid_maxdepth,\n",
    "                       'n_estimators': xgb_grid_n_estimators,\n",
    "                       'score': xgb_grid_score})"
   ]
  },
  {
   "cell_type": "code",
   "execution_count": 54,
   "metadata": {},
   "outputs": [
    {
     "data": {
      "image/png": "[encoded data removed]",
      "text/plain": [
       "<Figure size 432x288 with 1 Axes>"
      ]
     },
     "metadata": {
      "needs_background": "light"
     },
     "output_type": "display_data"
    }
   ],
   "source": [
    "plt.figure()\n",
    "plt.plot(df_xgb[df_xgb['n_estimators']==30]['max_depth'], df_xgb[df_xgb['n_estimators']==30]['score'], 'b.-')\n",
    "plt.xlabel('Max depth for each tree')\n",
    "plt.ylabel('Validation score')\n",
    "plt.title('XGBoost Decision Tree for 1-Year Survival')\n",
    "plt.show()"
   ]
  },
  {
   "cell_type": "markdown",
   "metadata": {},
   "source": [
    "#### Support Vector Machine"
   ]
  },
  {
   "cell_type": "code",
   "execution_count": 55,
   "metadata": {},
   "outputs": [
    {
     "name": "stderr",
     "output_type": "stream",
     "text": [
      "/opt/anaconda3/lib/python3.7/site-packages/sklearn/model_selection/_search.py:814: DeprecationWarning: The default of the `iid` parameter will change from True to False in version 0.22 and will be removed in 0.24. This will change numeric results when test-set sizes are unequal.\n",
      "  DeprecationWarning)\n"
     ]
    }
   ],
   "source": [
    "estimators = [('normalise', StandardScaler()),\n",
    "              ('model', SVC())]\n",
    "\n",
    "pipe = Pipeline(estimators)\n",
    "\n",
    "param_grid = [{'model': [SVC(decision_function_shape='ovo', max_iter=999)], \n",
    "               'normalise': [StandardScaler()],\n",
    "               'model__C': [10**i for i in range(-6,7)],\n",
    "               'model__kernel': ['linear', 'poly', 'rbf', 'sigmoid']}]\n",
    "\n",
    "grid = GridSearchCV(pipe, param_grid, cv=5)\n",
    "fittedgrid = grid.fit(X1_reshape_train, y1_train)"
   ]
  },
  {
   "cell_type": "code",
   "execution_count": 56,
   "metadata": {},
   "outputs": [
    {
     "data": {
      "text/plain": [
       "{'model': SVC(C=0.1, cache_size=200, class_weight=None, coef0=0.0,\n",
       "     decision_function_shape='ovo', degree=3, gamma='auto_deprecated',\n",
       "     kernel='poly', max_iter=999, probability=False, random_state=None,\n",
       "     shrinking=True, tol=0.001, verbose=False),\n",
       " 'model__C': 0.1,\n",
       " 'model__kernel': 'poly',\n",
       " 'normalise': StandardScaler(copy=True, with_mean=True, with_std=True)}"
      ]
     },
     "execution_count": 56,
     "metadata": {},
     "output_type": "execute_result"
    }
   ],
   "source": [
    "fittedgrid.best_params_"
   ]
  },
  {
   "cell_type": "code",
   "execution_count": 57,
   "metadata": {},
   "outputs": [
    {
     "data": {
      "text/plain": [
       "0.6541095890410958"
      ]
     },
     "execution_count": 57,
     "metadata": {},
     "output_type": "execute_result"
    }
   ],
   "source": [
    "fittedgrid.best_score_"
   ]
  },
  {
   "cell_type": "code",
   "execution_count": 58,
   "metadata": {},
   "outputs": [
    {
     "data": {
      "text/plain": [
       "0.6428571428571429"
      ]
     },
     "execution_count": 58,
     "metadata": {},
     "output_type": "execute_result"
    }
   ],
   "source": [
    "fittedgrid.score(X1_reshape_test, y1_test)"
   ]
  },
  {
   "cell_type": "markdown",
   "metadata": {},
   "source": [
    "---"
   ]
  },
  {
   "cell_type": "markdown",
   "metadata": {},
   "source": [
    "### 3-year analysis\n",
    "For the patients surviving for more than 3 years"
   ]
  },
  {
   "cell_type": "code",
   "execution_count": 13,
   "metadata": {},
   "outputs": [],
   "source": [
    "X3 = df_tf[mask_3yr | dead][df_tf.columns[feat0]]\n",
    "y3 = (df_tf[mask_3yr | dead]['Survival.time'] > 3*365).astype(int)\n",
    "\n",
    "X3 = X3.astype(float)"
   ]
  },
  {
   "cell_type": "code",
   "execution_count": 14,
   "metadata": {},
   "outputs": [
    {
     "data": {
      "text/plain": [
       "(418,)"
      ]
     },
     "execution_count": 14,
     "metadata": {},
     "output_type": "execute_result"
    }
   ],
   "source": [
    "y3.shape"
   ]
  },
  {
   "cell_type": "code",
   "execution_count": 15,
   "metadata": {},
   "outputs": [
    {
     "data": {
      "text/plain": [
       "0    288\n",
       "1    130\n",
       "Name: Survival.time, dtype: int64"
      ]
     },
     "execution_count": 15,
     "metadata": {},
     "output_type": "execute_result"
    }
   ],
   "source": [
    "y3.value_counts()"
   ]
  },
  {
   "cell_type": "code",
   "execution_count": 22,
   "metadata": {},
   "outputs": [],
   "source": [
    "X3_train, X3_test, y3_train, y3_test = train_test_split(X3, y3, test_size=0.3, random_state=1)"
   ]
  },
  {
   "cell_type": "code",
   "execution_count": 23,
   "metadata": {},
   "outputs": [
    {
     "data": {
      "text/plain": [
       "0    203\n",
       "1     89\n",
       "Name: Survival.time, dtype: int64"
      ]
     },
     "execution_count": 23,
     "metadata": {},
     "output_type": "execute_result"
    }
   ],
   "source": [
    "y3_train.value_counts()"
   ]
  },
  {
   "cell_type": "code",
   "execution_count": 92,
   "metadata": {},
   "outputs": [],
   "source": [
    "my_scaler3 = StandardScaler()\n",
    "X3_train = my_scaler3.fit_transform(X3_train)\n",
    "X3_test = my_scaler3.transform(X3_test)"
   ]
  },
  {
   "cell_type": "code",
   "execution_count": 93,
   "metadata": {},
   "outputs": [
    {
     "data": {
      "text/plain": [
       "0.7465753424657534"
      ]
     },
     "execution_count": 93,
     "metadata": {},
     "output_type": "execute_result"
    }
   ],
   "source": [
    "my_logit3 = LogisticRegression()\n",
    "my_logit3.fit(X3_train, y3_train)\n",
    "my_logit3.score(X3_train, y3_train)"
   ]
  },
  {
   "cell_type": "code",
   "execution_count": 94,
   "metadata": {},
   "outputs": [
    {
     "name": "stderr",
     "output_type": "stream",
     "text": [
      "/opt/anaconda3/lib/python3.7/site-packages/sklearn/model_selection/_search.py:814: DeprecationWarning: The default of the `iid` parameter will change from True to False in version 0.22 and will be removed in 0.24. This will change numeric results when test-set sizes are unequal.\n",
      "  DeprecationWarning)\n"
     ]
    }
   ],
   "source": [
    "estimators = [('normalise', StandardScaler()),\n",
    "              ('model', LogisticRegression())]\n",
    "\n",
    "pipe = Pipeline(estimators)\n",
    "\n",
    "param_grid = [{'model': [LogisticRegression()], \n",
    "               'normalise': [StandardScaler()],\n",
    "               'model__C': [10**i for i in range(-6,7)]}]\n",
    "\n",
    "grid = GridSearchCV(pipe, param_grid, cv=5)\n",
    "fittedgrid3 = grid.fit(X3_train, y3_train)"
   ]
  },
  {
   "cell_type": "code",
   "execution_count": 95,
   "metadata": {},
   "outputs": [
    {
     "data": {
      "text/plain": [
       "Pipeline(memory=None,\n",
       "         steps=[('normalise',\n",
       "                 StandardScaler(copy=True, with_mean=True, with_std=True)),\n",
       "                ('model',\n",
       "                 LogisticRegression(C=0.1, class_weight=None, dual=False,\n",
       "                                    fit_intercept=True, intercept_scaling=1,\n",
       "                                    l1_ratio=None, max_iter=100,\n",
       "                                    multi_class='warn', n_jobs=None,\n",
       "                                    penalty='l2', random_state=None,\n",
       "                                    solver='warn', tol=0.0001, verbose=0,\n",
       "                                    warm_start=False))],\n",
       "         verbose=False)"
      ]
     },
     "execution_count": 95,
     "metadata": {},
     "output_type": "execute_result"
    }
   ],
   "source": [
    "fittedgrid3.best_estimator_"
   ]
  },
  {
   "cell_type": "code",
   "execution_count": 96,
   "metadata": {},
   "outputs": [
    {
     "data": {
      "text/plain": [
       "0.6438356164383562"
      ]
     },
     "execution_count": 96,
     "metadata": {},
     "output_type": "execute_result"
    }
   ],
   "source": [
    "fittedgrid3.best_score_"
   ]
  },
  {
   "cell_type": "code",
   "execution_count": 97,
   "metadata": {},
   "outputs": [
    {
     "data": {
      "text/plain": [
       "0.6507936507936508"
      ]
     },
     "execution_count": 97,
     "metadata": {},
     "output_type": "execute_result"
    }
   ],
   "source": [
    "my_logit3.score(X3_test, y3_test)"
   ]
  },
  {
   "cell_type": "code",
   "execution_count": 98,
   "metadata": {},
   "outputs": [
    {
     "data": {
      "text/plain": [
       "0.6666666666666666"
      ]
     },
     "execution_count": 98,
     "metadata": {},
     "output_type": "execute_result"
    }
   ],
   "source": [
    "fittedgrid3.score(X3_test, y3_test)"
   ]
  },
  {
   "cell_type": "code",
   "execution_count": 99,
   "metadata": {},
   "outputs": [
    {
     "data": {
      "text/plain": [
       "0.886986301369863"
      ]
     },
     "execution_count": 99,
     "metadata": {},
     "output_type": "execute_result"
    }
   ],
   "source": [
    "my_dt3 = DecisionTreeClassifier(max_depth=5)\n",
    "my_dt3.fit(X3_train, y3_train)\n",
    "my_dt3.score(X3_train, y3_train)"
   ]
  },
  {
   "cell_type": "code",
   "execution_count": 100,
   "metadata": {},
   "outputs": [
    {
     "data": {
      "text/plain": [
       "0.6111111111111112"
      ]
     },
     "execution_count": 100,
     "metadata": {},
     "output_type": "execute_result"
    }
   ],
   "source": [
    "my_dt3.score(X3_test, y3_test)"
   ]
  },
  {
   "cell_type": "code",
   "execution_count": 101,
   "metadata": {},
   "outputs": [
    {
     "name": "stderr",
     "output_type": "stream",
     "text": [
      "/opt/anaconda3/lib/python3.7/site-packages/sklearn/model_selection/_search.py:814: DeprecationWarning: The default of the `iid` parameter will change from True to False in version 0.22 and will be removed in 0.24. This will change numeric results when test-set sizes are unequal.\n",
      "  DeprecationWarning)\n"
     ]
    }
   ],
   "source": [
    "estimators = [('normalise', StandardScaler()),\n",
    "              ('model', DecisionTreeClassifier())]\n",
    "\n",
    "pipe = Pipeline(estimators)\n",
    "\n",
    "param_grid = [{'model': [DecisionTreeClassifier()], \n",
    "               'normalise': [StandardScaler()],\n",
    "               'model__max_depth': [i for i in range(1,11)],\n",
    "               'model__min_samples_leaf': [i for i in range(1,11)]}]\n",
    "\n",
    "grid = GridSearchCV(pipe, param_grid, cv=5)\n",
    "fittedgrid3 = grid.fit(X3_train, y3_train)"
   ]
  },
  {
   "cell_type": "code",
   "execution_count": 102,
   "metadata": {},
   "outputs": [
    {
     "data": {
      "text/plain": [
       "Pipeline(memory=None,\n",
       "         steps=[('normalise',\n",
       "                 StandardScaler(copy=True, with_mean=True, with_std=True)),\n",
       "                ('model',\n",
       "                 DecisionTreeClassifier(class_weight=None, criterion='gini',\n",
       "                                        max_depth=1, max_features=None,\n",
       "                                        max_leaf_nodes=None,\n",
       "                                        min_impurity_decrease=0.0,\n",
       "                                        min_impurity_split=None,\n",
       "                                        min_samples_leaf=1, min_samples_split=2,\n",
       "                                        min_weight_fraction_leaf=0.0,\n",
       "                                        presort=False, random_state=None,\n",
       "                                        splitter='best'))],\n",
       "         verbose=False)"
      ]
     },
     "execution_count": 102,
     "metadata": {},
     "output_type": "execute_result"
    }
   ],
   "source": [
    "fittedgrid3.best_estimator_"
   ]
  },
  {
   "cell_type": "code",
   "execution_count": 103,
   "metadata": {},
   "outputs": [
    {
     "data": {
      "text/plain": [
       "0.6952054794520548"
      ]
     },
     "execution_count": 103,
     "metadata": {},
     "output_type": "execute_result"
    }
   ],
   "source": [
    "fittedgrid3.best_score_"
   ]
  },
  {
   "cell_type": "code",
   "execution_count": 104,
   "metadata": {},
   "outputs": [
    {
     "data": {
      "text/plain": [
       "0.6746031746031746"
      ]
     },
     "execution_count": 104,
     "metadata": {},
     "output_type": "execute_result"
    }
   ],
   "source": [
    "fittedgrid3.score(X3_test, y3_test)"
   ]
  },
  {
   "cell_type": "code",
   "execution_count": 105,
   "metadata": {},
   "outputs": [
    {
     "data": {
      "text/plain": [
       "0.9075342465753424"
      ]
     },
     "execution_count": 105,
     "metadata": {},
     "output_type": "execute_result"
    }
   ],
   "source": [
    "my_rf3 = RandomForestClassifier(n_estimators=50, max_depth=5, random_state=32)\n",
    "my_rf3.fit(X3_train, y3_train)\n",
    "my_rf3.score(X3_train, y3_train)"
   ]
  },
  {
   "cell_type": "code",
   "execution_count": 106,
   "metadata": {},
   "outputs": [
    {
     "data": {
      "text/plain": [
       "0.6587301587301587"
      ]
     },
     "execution_count": 106,
     "metadata": {},
     "output_type": "execute_result"
    }
   ],
   "source": [
    "my_rf3.score(X3_test, y3_test)"
   ]
  },
  {
   "cell_type": "code",
   "execution_count": 107,
   "metadata": {},
   "outputs": [
    {
     "name": "stdout",
     "output_type": "stream",
     "text": [
      "              precision    recall  f1-score   support\n",
      "\n",
      "           0       0.68      0.92      0.78        85\n",
      "           1       0.42      0.12      0.19        41\n",
      "\n",
      "    accuracy                           0.66       126\n",
      "   macro avg       0.55      0.52      0.49       126\n",
      "weighted avg       0.60      0.66      0.59       126\n",
      "\n"
     ]
    }
   ],
   "source": [
    "y3_pred_rf = my_rf3.predict(X3_test)\n",
    "print(classification_report(y3_test, y3_pred_rf))"
   ]
  },
  {
   "cell_type": "code",
   "execution_count": 108,
   "metadata": {},
   "outputs": [
    {
     "name": "stderr",
     "output_type": "stream",
     "text": [
      "/opt/anaconda3/lib/python3.7/site-packages/sklearn/model_selection/_search.py:814: DeprecationWarning: The default of the `iid` parameter will change from True to False in version 0.22 and will be removed in 0.24. This will change numeric results when test-set sizes are unequal.\n",
      "  DeprecationWarning)\n"
     ]
    }
   ],
   "source": [
    "estimators = [('normalise', StandardScaler()),\n",
    "              ('model', RandomForestClassifier())]\n",
    "\n",
    "pipe = Pipeline(estimators)\n",
    "\n",
    "param_grid = [{'model': [RandomForestClassifier()], \n",
    "               'normalise': [StandardScaler()],\n",
    "               'model__n_estimators': [i for i in range(10,110,10)],\n",
    "               'model__max_depth': [i for i in range(1,11)],\n",
    "               'model__min_samples_leaf': [i for i in range(1,11)]}]\n",
    "\n",
    "grid = GridSearchCV(pipe, param_grid, cv=5)\n",
    "fittedgrid3 = grid.fit(X3_train, y3_train)"
   ]
  },
  {
   "cell_type": "code",
   "execution_count": 109,
   "metadata": {},
   "outputs": [
    {
     "data": {
      "text/plain": [
       "Pipeline(memory=None,\n",
       "         steps=[('normalise',\n",
       "                 StandardScaler(copy=True, with_mean=True, with_std=True)),\n",
       "                ('model',\n",
       "                 RandomForestClassifier(bootstrap=True, class_weight=None,\n",
       "                                        criterion='gini', max_depth=1,\n",
       "                                        max_features='auto',\n",
       "                                        max_leaf_nodes=None,\n",
       "                                        min_impurity_decrease=0.0,\n",
       "                                        min_impurity_split=None,\n",
       "                                        min_samples_leaf=7, min_samples_split=2,\n",
       "                                        min_weight_fraction_leaf=0.0,\n",
       "                                        n_estimators=10, n_jobs=None,\n",
       "                                        oob_score=False, random_state=None,\n",
       "                                        verbose=0, warm_start=False))],\n",
       "         verbose=False)"
      ]
     },
     "execution_count": 109,
     "metadata": {},
     "output_type": "execute_result"
    }
   ],
   "source": [
    "fittedgrid3.best_estimator_"
   ]
  },
  {
   "cell_type": "code",
   "execution_count": 110,
   "metadata": {},
   "outputs": [
    {
     "data": {
      "text/plain": [
       "0.6986301369863014"
      ]
     },
     "execution_count": 110,
     "metadata": {},
     "output_type": "execute_result"
    }
   ],
   "source": [
    "fittedgrid3.best_score_"
   ]
  },
  {
   "cell_type": "code",
   "execution_count": 111,
   "metadata": {},
   "outputs": [
    {
     "data": {
      "text/plain": [
       "0.6746031746031746"
      ]
     },
     "execution_count": 111,
     "metadata": {},
     "output_type": "execute_result"
    }
   ],
   "source": [
    "fittedgrid3.score(X3_test, y3_test)"
   ]
  },
  {
   "cell_type": "code",
   "execution_count": 112,
   "metadata": {},
   "outputs": [
    {
     "name": "stderr",
     "output_type": "stream",
     "text": [
      "/opt/anaconda3/lib/python3.7/site-packages/sklearn/model_selection/_search.py:814: DeprecationWarning: The default of the `iid` parameter will change from True to False in version 0.22 and will be removed in 0.24. This will change numeric results when test-set sizes are unequal.\n",
      "  DeprecationWarning)\n"
     ]
    }
   ],
   "source": [
    "estimators = [('normalise', StandardScaler()),\n",
    "              ('model', XGBClassifier())]\n",
    "\n",
    "pipe = Pipeline(estimators)\n",
    "\n",
    "param_grid = [{'model': [XGBClassifier()], \n",
    "               'normalise': [StandardScaler()],\n",
    "               'model__max_depth': [i for i in range(1,11)],\n",
    "               'model__n_estimators': [i for i in range(10,160,10)]}]\n",
    "\n",
    "grid = GridSearchCV(pipe, param_grid, cv=5)\n",
    "fittedgrid3 = grid.fit(X3_train, y3_train)"
   ]
  },
  {
   "cell_type": "code",
   "execution_count": 113,
   "metadata": {},
   "outputs": [
    {
     "data": {
      "text/plain": [
       "Pipeline(memory=None,\n",
       "         steps=[('normalise',\n",
       "                 StandardScaler(copy=True, with_mean=True, with_std=True)),\n",
       "                ('model',\n",
       "                 XGBClassifier(base_score=0.5, booster='gbtree',\n",
       "                               colsample_bylevel=1, colsample_bynode=1,\n",
       "                               colsample_bytree=1, gamma=0, learning_rate=0.1,\n",
       "                               max_delta_step=0, max_depth=1,\n",
       "                               min_child_weight=1, missing=None,\n",
       "                               n_estimators=10, n_jobs=1, nthread=None,\n",
       "                               objective='binary:logistic', random_state=0,\n",
       "                               reg_alpha=0, reg_lambda=1, scale_pos_weight=1,\n",
       "                               seed=None, silent=None, subsample=1,\n",
       "                               verbosity=1))],\n",
       "         verbose=False)"
      ]
     },
     "execution_count": 113,
     "metadata": {},
     "output_type": "execute_result"
    }
   ],
   "source": [
    "fittedgrid3.best_estimator_"
   ]
  },
  {
   "cell_type": "code",
   "execution_count": 114,
   "metadata": {},
   "outputs": [
    {
     "data": {
      "text/plain": [
       "0.6883561643835616"
      ]
     },
     "execution_count": 114,
     "metadata": {},
     "output_type": "execute_result"
    }
   ],
   "source": [
    "fittedgrid3.best_score_"
   ]
  },
  {
   "cell_type": "code",
   "execution_count": 115,
   "metadata": {},
   "outputs": [
    {
     "data": {
      "text/plain": [
       "0.6746031746031746"
      ]
     },
     "execution_count": 115,
     "metadata": {},
     "output_type": "execute_result"
    }
   ],
   "source": [
    "fittedgrid3.score(X3_test, y3_test)"
   ]
  },
  {
   "cell_type": "code",
   "execution_count": 116,
   "metadata": {},
   "outputs": [
    {
     "name": "stderr",
     "output_type": "stream",
     "text": [
      "/opt/anaconda3/lib/python3.7/site-packages/sklearn/model_selection/_search.py:814: DeprecationWarning: The default of the `iid` parameter will change from True to False in version 0.22 and will be removed in 0.24. This will change numeric results when test-set sizes are unequal.\n",
      "  DeprecationWarning)\n"
     ]
    }
   ],
   "source": [
    "estimators = [('normalise', StandardScaler()),\n",
    "              ('model', SVC())]\n",
    "\n",
    "pipe = Pipeline(estimators)\n",
    "\n",
    "param_grid = [{'model': [SVC(decision_function_shape='ovo', max_iter=999)], \n",
    "               'normalise': [StandardScaler()],\n",
    "               'model__C': [10**i for i in range(-6,7)],\n",
    "               'model__kernel': ['linear', 'poly', 'rbf', 'sigmoid']}]\n",
    "\n",
    "grid = GridSearchCV(pipe, param_grid, cv=5)\n",
    "fittedgrid3 = grid.fit(X3_train, y3_train)"
   ]
  },
  {
   "cell_type": "code",
   "execution_count": 117,
   "metadata": {},
   "outputs": [
    {
     "data": {
      "text/plain": [
       "Pipeline(memory=None,\n",
       "         steps=[('normalise',\n",
       "                 StandardScaler(copy=True, with_mean=True, with_std=True)),\n",
       "                ('model',\n",
       "                 SVC(C=1e-06, cache_size=200, class_weight=None, coef0=0.0,\n",
       "                     decision_function_shape='ovo', degree=3,\n",
       "                     gamma='auto_deprecated', kernel='linear', max_iter=999,\n",
       "                     probability=False, random_state=None, shrinking=True,\n",
       "                     tol=0.001, verbose=False))],\n",
       "         verbose=False)"
      ]
     },
     "execution_count": 117,
     "metadata": {},
     "output_type": "execute_result"
    }
   ],
   "source": [
    "fittedgrid3.best_estimator_"
   ]
  },
  {
   "cell_type": "code",
   "execution_count": 118,
   "metadata": {},
   "outputs": [
    {
     "data": {
      "text/plain": [
       "0.6952054794520548"
      ]
     },
     "execution_count": 118,
     "metadata": {},
     "output_type": "execute_result"
    }
   ],
   "source": [
    "fittedgrid3.best_score_"
   ]
  },
  {
   "cell_type": "code",
   "execution_count": 119,
   "metadata": {},
   "outputs": [
    {
     "data": {
      "text/plain": [
       "0.6746031746031746"
      ]
     },
     "execution_count": 119,
     "metadata": {},
     "output_type": "execute_result"
    }
   ],
   "source": [
    "fittedgrid3.score(X3_test, y3_test)"
   ]
  },
  {
   "cell_type": "markdown",
   "metadata": {},
   "source": [
    "---"
   ]
  },
  {
   "cell_type": "markdown",
   "metadata": {},
   "source": [
    "### 5-year analysis\n",
    "For the patients surviving for 5 years:"
   ]
  },
  {
   "cell_type": "code",
   "execution_count": 16,
   "metadata": {},
   "outputs": [],
   "source": [
    "X5 = df_tf[mask_5yr | dead][df_tf.columns[feat0]]\n",
    "y5 = (df_tf[mask_5yr | dead]['Survival.time'] > 5*365).astype(int)\n",
    "\n",
    "X5 = X5.astype(float)"
   ]
  },
  {
   "cell_type": "code",
   "execution_count": 17,
   "metadata": {},
   "outputs": [
    {
     "data": {
      "text/plain": [
       "(406,)"
      ]
     },
     "execution_count": 17,
     "metadata": {},
     "output_type": "execute_result"
    }
   ],
   "source": [
    "y5.shape"
   ]
  },
  {
   "cell_type": "code",
   "execution_count": 19,
   "metadata": {},
   "outputs": [],
   "source": [
    "X5_train, X5_test, y5_train, y5_test = train_test_split(X5, y5, test_size=0.3, random_state=1)"
   ]
  },
  {
   "cell_type": "code",
   "execution_count": 20,
   "metadata": {},
   "outputs": [
    {
     "data": {
      "text/plain": [
       "0    233\n",
       "1     51\n",
       "Name: Survival.time, dtype: int64"
      ]
     },
     "execution_count": 20,
     "metadata": {},
     "output_type": "execute_result"
    }
   ],
   "source": [
    "y5_train.value_counts()"
   ]
  },
  {
   "cell_type": "code",
   "execution_count": null,
   "metadata": {},
   "outputs": [],
   "source": [
    "my_scaler5 = StandardScaler()\n",
    "X5_train = my_scaler5.fit_transform(X5_train)\n",
    "X5_test = my_scaler5.transform(X5_test)"
   ]
  },
  {
   "cell_type": "code",
   "execution_count": null,
   "metadata": {},
   "outputs": [],
   "source": [
    "my_logit5 = LogisticRegression()\n",
    "my_logit5.fit(X5_train, y5_train)\n",
    "my_logit5.score(X5_train, y5_train)"
   ]
  },
  {
   "cell_type": "code",
   "execution_count": null,
   "metadata": {},
   "outputs": [],
   "source": [
    "my_logit5.score(X5_test, y5_test)"
   ]
  },
  {
   "cell_type": "code",
   "execution_count": null,
   "metadata": {},
   "outputs": [],
   "source": [
    "estimators = [('normalise', StandardScaler()),\n",
    "              ('model', LogisticRegression())]\n",
    "\n",
    "pipe = Pipeline(estimators)\n",
    "\n",
    "param_grid = [{'model': [LogisticRegression()], \n",
    "               'normalise': [StandardScaler()],\n",
    "               'model__C': [10**i for i in range(-6,7)]}]\n",
    "\n",
    "grid = GridSearchCV(pipe, param_grid, cv=5)\n",
    "fittedgrid5 = grid.fit(X5_train, y5_train)"
   ]
  },
  {
   "cell_type": "code",
   "execution_count": null,
   "metadata": {},
   "outputs": [],
   "source": [
    "fittedgrid5.best_estimator_"
   ]
  },
  {
   "cell_type": "code",
   "execution_count": null,
   "metadata": {},
   "outputs": [],
   "source": [
    "fittedgrid5.best_score_"
   ]
  },
  {
   "cell_type": "code",
   "execution_count": null,
   "metadata": {},
   "outputs": [],
   "source": [
    "fittedgrid5.score(X5_test, y5_test)"
   ]
  },
  {
   "cell_type": "code",
   "execution_count": null,
   "metadata": {},
   "outputs": [],
   "source": [
    "y5_train.value_counts()"
   ]
  },
  {
   "cell_type": "markdown",
   "metadata": {},
   "source": [
    "High accuracy score due to imbalanced dataset. Conventional SMOTE, ADASYN and SVMSMOTE yielded WORSE results."
   ]
  },
  {
   "cell_type": "code",
   "execution_count": null,
   "metadata": {},
   "outputs": [],
   "source": [
    "X5_train_resampled, y5_train_resampled = SVMSMOTE().fit_resample(X5_train, y5_train)"
   ]
  },
  {
   "cell_type": "code",
   "execution_count": null,
   "metadata": {},
   "outputs": [],
   "source": [
    "estimators = [('normalise', StandardScaler()),\n",
    "              ('model', LogisticRegression())]\n",
    "\n",
    "pipe = Pipeline(estimators)\n",
    "\n",
    "param_grid = [{'model': [LogisticRegression()], \n",
    "               'normalise': [StandardScaler()],\n",
    "               'model__C': [10**i for i in range(-6,7)],\n",
    "               'model__penalty': ['l1', 'l2']}]\n",
    "\n",
    "grid = GridSearchCV(pipe, param_grid, cv=5)\n",
    "fittedgrid5 = grid.fit(X5_train_resampled, y5_train_resampled)"
   ]
  },
  {
   "cell_type": "code",
   "execution_count": null,
   "metadata": {},
   "outputs": [],
   "source": [
    "fittedgrid5.best_score_"
   ]
  },
  {
   "cell_type": "code",
   "execution_count": null,
   "metadata": {},
   "outputs": [],
   "source": [
    "fittedgrid5.best_estimator_"
   ]
  },
  {
   "cell_type": "code",
   "execution_count": null,
   "metadata": {},
   "outputs": [],
   "source": [
    "fittedgrid5.score(X5_test, y5_test)"
   ]
  },
  {
   "cell_type": "code",
   "execution_count": null,
   "metadata": {},
   "outputs": [],
   "source": [
    "y5_pred = fittedgrid5.predict(X5_test)\n",
    "print(classification_report(y5_test, y5_pred))"
   ]
  },
  {
   "cell_type": "code",
   "execution_count": null,
   "metadata": {},
   "outputs": [],
   "source": [
    "print('Kappa score: %.5f' % cohen_kappa_score(y5_test, y5_pred))"
   ]
  },
  {
   "cell_type": "code",
   "execution_count": null,
   "metadata": {},
   "outputs": [],
   "source": [
    "my_dt5 = DecisionTreeClassifier(max_depth=5)\n",
    "my_dt5.fit(X5_train, y5_train)\n",
    "my_dt5.score(X5_train, y5_train)"
   ]
  },
  {
   "cell_type": "code",
   "execution_count": null,
   "metadata": {},
   "outputs": [],
   "source": [
    "my_dt5.score(X5_test, y5_test)"
   ]
  },
  {
   "cell_type": "markdown",
   "metadata": {},
   "source": [
    "---"
   ]
  },
  {
   "cell_type": "markdown",
   "metadata": {},
   "source": [
    "## Miscellaneous and superceded codes:"
   ]
  },
  {
   "cell_type": "code",
   "execution_count": 17,
   "metadata": {},
   "outputs": [],
   "source": [
    "my_pca = PCA(n_components=40)\n",
    "my_pca.fit(X1_train)\n",
    "X1_pca_train = my_pca.transform(X1_train)\n",
    "X1_pca_test = my_pca.transform(X1_test)"
   ]
  },
  {
   "cell_type": "code",
   "execution_count": 18,
   "metadata": {},
   "outputs": [
    {
     "data": {
      "image/png": "[encoded data removed]",
      "text/plain": [
       "<Figure size 432x288 with 1 Axes>"
      ]
     },
     "metadata": {
      "needs_background": "light"
     },
     "output_type": "display_data"
    }
   ],
   "source": [
    "plt.figure()\n",
    "plt.plot(range(len(my_pca.explained_variance_ratio_)), my_pca.explained_variance_ratio_, 'b.-')\n",
    "plt.xlabel('Principal Components (1-yr survival)')\n",
    "plt.ylabel('Explained Variance')\n",
    "plt.yscale('log')\n",
    "plt.show()"
   ]
  },
  {
   "cell_type": "markdown",
   "metadata": {},
   "source": [
    "Just keep the first 30:"
   ]
  },
  {
   "cell_type": "code",
   "execution_count": 19,
   "metadata": {},
   "outputs": [],
   "source": [
    "X1_reshape_train = X1_pca_train[:,:30]\n",
    "X1_reshape_test = X1_pca_test[:,:30]"
   ]
  },
  {
   "cell_type": "code",
   "execution_count": 30,
   "metadata": {},
   "outputs": [],
   "source": [
    "# Try to do it without PCA\n",
    "X1_reshape_train = X1_train\n",
    "X1_reshape_test = X1_test"
   ]
  },
  {
   "cell_type": "code",
   "execution_count": 20,
   "metadata": {},
   "outputs": [
    {
     "data": {
      "text/plain": [
       "0.7226027397260274"
      ]
     },
     "execution_count": 20,
     "metadata": {},
     "output_type": "execute_result"
    }
   ],
   "source": [
    "my_logit = LogisticRegression()\n",
    "my_logit.fit(X1_reshape_train, y1_train)\n",
    "my_logit.score(X1_reshape_train, y1_train)"
   ]
  },
  {
   "cell_type": "code",
   "execution_count": 21,
   "metadata": {},
   "outputs": [
    {
     "data": {
      "text/plain": [
       "0.6349206349206349"
      ]
     },
     "execution_count": 21,
     "metadata": {},
     "output_type": "execute_result"
    }
   ],
   "source": [
    "my_logit.score(X1_reshape_test, y1_test)"
   ]
  },
  {
   "cell_type": "code",
   "execution_count": 22,
   "metadata": {},
   "outputs": [],
   "source": [
    "logit1_ind = []\n",
    "logit1_mean_score = []\n",
    "\n",
    "for i in range(-6,7):\n",
    "    pow_10 = 10**i\n",
    "    my_logit_cv = LogisticRegression(C=pow_10)\n",
    "    \n",
    "    logit1_ind.append(pow_10)\n",
    "    logit1_mean_score.append(np.mean(cross_val_score(my_logit_cv, X1_reshape_train, y1_train, cv=5)))"
   ]
  },
  {
   "cell_type": "code",
   "execution_count": 23,
   "metadata": {},
   "outputs": [
    {
     "data": {
      "image/png": "[encoded data removed]",
      "text/plain": [
       "<Figure size 432x288 with 1 Axes>"
      ]
     },
     "metadata": {
      "needs_background": "light"
     },
     "output_type": "display_data"
    }
   ],
   "source": [
    "plt.figure()\n",
    "plt.plot(logit1_ind, logit1_mean_score, 'b.-')\n",
    "plt.xscale('log')\n",
    "plt.xlabel('C')\n",
    "plt.ylabel('Validation score')\n",
    "plt.title('Logistic Ridge Regression with 1-Year Training Set')\n",
    "plt.show()"
   ]
  },
  {
   "cell_type": "code",
   "execution_count": 24,
   "metadata": {},
   "outputs": [
    {
     "data": {
      "text/plain": [
       "0.6952054794520548"
      ]
     },
     "execution_count": 24,
     "metadata": {},
     "output_type": "execute_result"
    }
   ],
   "source": [
    "my_logit_C = LogisticRegression(C=0.01)\n",
    "my_logit_C.fit(X1_reshape_train, y1_train)\n",
    "my_logit_C.score(X1_reshape_train, y1_train)"
   ]
  },
  {
   "cell_type": "code",
   "execution_count": 25,
   "metadata": {},
   "outputs": [
    {
     "data": {
      "text/plain": [
       "0.626984126984127"
      ]
     },
     "execution_count": 25,
     "metadata": {},
     "output_type": "execute_result"
    }
   ],
   "source": [
    "my_logit_C.score(X1_reshape_test, y1_test)"
   ]
  },
  {
   "cell_type": "code",
   "execution_count": 27,
   "metadata": {},
   "outputs": [
    {
     "name": "stdout",
     "output_type": "stream",
     "text": [
      "              precision    recall  f1-score   support\n",
      "\n",
      "           0       0.49      0.43      0.46        46\n",
      "           1       0.69      0.74      0.72        80\n",
      "\n",
      "    accuracy                           0.63       126\n",
      "   macro avg       0.59      0.59      0.59       126\n",
      "weighted avg       0.62      0.63      0.62       126\n",
      "\n"
     ]
    }
   ],
   "source": [
    "y_pred_logitC = my_logit_C.predict(X1_reshape_test)\n",
    "print(classification_report(y1_test, y_pred_logitC))"
   ]
  },
  {
   "cell_type": "code",
   "execution_count": 28,
   "metadata": {},
   "outputs": [],
   "source": [
    "estimators = [('normalise', StandardScaler()),\n",
    "              ('model', LogisticRegression())]\n",
    "\n",
    "pipe = Pipeline(estimators)\n",
    "\n",
    "param_grid = [{'model': [LogisticRegression()], \n",
    "               'normalise': [StandardScaler()],\n",
    "               'model__C': [10**i for i in range(-6,7)],\n",
    "               'model__penalty': ['l1', 'l2']}]\n",
    "\n",
    "grid = GridSearchCV(pipe, param_grid, cv=5)\n",
    "fittedgrid = grid.fit(X1_reshape_train, y1_train)"
   ]
  },
  {
   "cell_type": "code",
   "execution_count": 29,
   "metadata": {},
   "outputs": [
    {
     "data": {
      "text/plain": [
       "Pipeline(memory=None,\n",
       "         steps=[('normalise',\n",
       "                 StandardScaler(copy=True, with_mean=True, with_std=True)),\n",
       "                ('model',\n",
       "                 LogisticRegression(C=0.1, class_weight=None, dual=False,\n",
       "                                    fit_intercept=True, intercept_scaling=1,\n",
       "                                    l1_ratio=None, max_iter=100,\n",
       "                                    multi_class='warn', n_jobs=None,\n",
       "                                    penalty='l1', random_state=None,\n",
       "                                    solver='warn', tol=0.0001, verbose=0,\n",
       "                                    warm_start=False))],\n",
       "         verbose=False)"
      ]
     },
     "execution_count": 29,
     "metadata": {},
     "output_type": "execute_result"
    }
   ],
   "source": [
    "fittedgrid.best_estimator_"
   ]
  },
  {
   "cell_type": "code",
   "execution_count": 30,
   "metadata": {},
   "outputs": [
    {
     "data": {
      "text/plain": [
       "0.660958904109589"
      ]
     },
     "execution_count": 30,
     "metadata": {},
     "output_type": "execute_result"
    }
   ],
   "source": [
    "fittedgrid.best_score_"
   ]
  },
  {
   "cell_type": "code",
   "execution_count": 31,
   "metadata": {},
   "outputs": [
    {
     "data": {
      "text/plain": [
       "0.6349206349206349"
      ]
     },
     "execution_count": 31,
     "metadata": {},
     "output_type": "execute_result"
    }
   ],
   "source": [
    "fittedgrid.score(X1_reshape_test, y1_test)"
   ]
  },
  {
   "cell_type": "code",
   "execution_count": 37,
   "metadata": {},
   "outputs": [
    {
     "data": {
      "text/plain": [
       "0.8424657534246576"
      ]
     },
     "execution_count": 37,
     "metadata": {},
     "output_type": "execute_result"
    }
   ],
   "source": [
    "my_dt = DecisionTreeClassifier(max_depth=5)\n",
    "my_dt.fit(X1_reshape_train, y1_train)\n",
    "my_dt.score(X1_reshape_train, y1_train)"
   ]
  },
  {
   "cell_type": "code",
   "execution_count": 38,
   "metadata": {},
   "outputs": [
    {
     "data": {
      "text/plain": [
       "0.6111111111111112"
      ]
     },
     "execution_count": 38,
     "metadata": {},
     "output_type": "execute_result"
    }
   ],
   "source": [
    "my_dt.score(X1_reshape_test, y1_test)"
   ]
  },
  {
   "cell_type": "code",
   "execution_count": 39,
   "metadata": {},
   "outputs": [
    {
     "name": "stdout",
     "output_type": "stream",
     "text": [
      "              precision    recall  f1-score   support\n",
      "\n",
      "           0       0.46      0.35      0.40        46\n",
      "           1       0.67      0.76      0.71        80\n",
      "\n",
      "    accuracy                           0.61       126\n",
      "   macro avg       0.56      0.56      0.55       126\n",
      "weighted avg       0.59      0.61      0.60       126\n",
      "\n"
     ]
    }
   ],
   "source": [
    "y_pred_dt = my_dt.predict(X1_reshape_test)\n",
    "print(classification_report(y1_test, y_pred_dt))"
   ]
  },
  {
   "cell_type": "code",
   "execution_count": null,
   "metadata": {},
   "outputs": [],
   "source": []
  }
 ],
 "metadata": {
  "kernelspec": {
   "display_name": "Python 3",
   "language": "python",
   "name": "python3"
  },
  "language_info": {
   "codemirror_mode": {
    "name": "ipython",
    "version": 3
   },
   "file_extension": ".py",
   "mimetype": "text/x-python",
   "name": "python",
   "nbconvert_exporter": "python",
   "pygments_lexer": "ipython3",
   "version": "3.7.4"
  }
 },
 "nbformat": 4,
 "nbformat_minor": 4
}
